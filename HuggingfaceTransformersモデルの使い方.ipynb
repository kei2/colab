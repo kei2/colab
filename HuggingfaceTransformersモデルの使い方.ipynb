{
  "nbformat": 4,
  "nbformat_minor": 0,
  "metadata": {
    "colab": {
      "provenance": [],
      "gpuType": "T4",
      "authorship_tag": "ABX9TyPGBi8B9xIfJfT1bjAUzf3U",
      "include_colab_link": true
    },
    "kernelspec": {
      "name": "python3",
      "display_name": "Python 3"
    },
    "language_info": {
      "name": "python"
    },
    "accelerator": "GPU",
    "widgets": {
      "application/vnd.jupyter.widget-state+json": {
        "d86783f1a0fd4f7789da3022725833d6": {
          "model_module": "@jupyter-widgets/controls",
          "model_name": "HBoxModel",
          "model_module_version": "1.5.0",
          "state": {
            "_dom_classes": [],
            "_model_module": "@jupyter-widgets/controls",
            "_model_module_version": "1.5.0",
            "_model_name": "HBoxModel",
            "_view_count": null,
            "_view_module": "@jupyter-widgets/controls",
            "_view_module_version": "1.5.0",
            "_view_name": "HBoxView",
            "box_style": "",
            "children": [
              "IPY_MODEL_fff4e97fc3944306a8adca54ebd8206e",
              "IPY_MODEL_e44cae21bef04748bd323d794474a4cb",
              "IPY_MODEL_fe19ff3765b6468ca2f3ce419cee5c50"
            ],
            "layout": "IPY_MODEL_41e771c9d9c245ee8698e9baaaa9ead3"
          }
        },
        "fff4e97fc3944306a8adca54ebd8206e": {
          "model_module": "@jupyter-widgets/controls",
          "model_name": "HTMLModel",
          "model_module_version": "1.5.0",
          "state": {
            "_dom_classes": [],
            "_model_module": "@jupyter-widgets/controls",
            "_model_module_version": "1.5.0",
            "_model_name": "HTMLModel",
            "_view_count": null,
            "_view_module": "@jupyter-widgets/controls",
            "_view_module_version": "1.5.0",
            "_view_name": "HTMLView",
            "description": "",
            "description_tooltip": null,
            "layout": "IPY_MODEL_eb1750efacd44412b41ab94a7c8680c9",
            "placeholder": "​",
            "style": "IPY_MODEL_12db90a7f9294e6aa4d889f46bf4ab3a",
            "value": "Downloading (…)okenizer_config.json: 100%"
          }
        },
        "e44cae21bef04748bd323d794474a4cb": {
          "model_module": "@jupyter-widgets/controls",
          "model_name": "FloatProgressModel",
          "model_module_version": "1.5.0",
          "state": {
            "_dom_classes": [],
            "_model_module": "@jupyter-widgets/controls",
            "_model_module_version": "1.5.0",
            "_model_name": "FloatProgressModel",
            "_view_count": null,
            "_view_module": "@jupyter-widgets/controls",
            "_view_module_version": "1.5.0",
            "_view_name": "ProgressView",
            "bar_style": "success",
            "description": "",
            "description_tooltip": null,
            "layout": "IPY_MODEL_ed780e8df9ac4337a04b803b259fb1e6",
            "max": 28,
            "min": 0,
            "orientation": "horizontal",
            "style": "IPY_MODEL_3130b24d615a49a596d300b8567557a2",
            "value": 28
          }
        },
        "fe19ff3765b6468ca2f3ce419cee5c50": {
          "model_module": "@jupyter-widgets/controls",
          "model_name": "HTMLModel",
          "model_module_version": "1.5.0",
          "state": {
            "_dom_classes": [],
            "_model_module": "@jupyter-widgets/controls",
            "_model_module_version": "1.5.0",
            "_model_name": "HTMLModel",
            "_view_count": null,
            "_view_module": "@jupyter-widgets/controls",
            "_view_module_version": "1.5.0",
            "_view_name": "HTMLView",
            "description": "",
            "description_tooltip": null,
            "layout": "IPY_MODEL_e21e8eaf9dec40dcb2560ce1177dd5d5",
            "placeholder": "​",
            "style": "IPY_MODEL_c113662b9026469c8b35f5e0efb1cfa1",
            "value": " 28.0/28.0 [00:00&lt;00:00, 478B/s]"
          }
        },
        "41e771c9d9c245ee8698e9baaaa9ead3": {
          "model_module": "@jupyter-widgets/base",
          "model_name": "LayoutModel",
          "model_module_version": "1.2.0",
          "state": {
            "_model_module": "@jupyter-widgets/base",
            "_model_module_version": "1.2.0",
            "_model_name": "LayoutModel",
            "_view_count": null,
            "_view_module": "@jupyter-widgets/base",
            "_view_module_version": "1.2.0",
            "_view_name": "LayoutView",
            "align_content": null,
            "align_items": null,
            "align_self": null,
            "border": null,
            "bottom": null,
            "display": null,
            "flex": null,
            "flex_flow": null,
            "grid_area": null,
            "grid_auto_columns": null,
            "grid_auto_flow": null,
            "grid_auto_rows": null,
            "grid_column": null,
            "grid_gap": null,
            "grid_row": null,
            "grid_template_areas": null,
            "grid_template_columns": null,
            "grid_template_rows": null,
            "height": null,
            "justify_content": null,
            "justify_items": null,
            "left": null,
            "margin": null,
            "max_height": null,
            "max_width": null,
            "min_height": null,
            "min_width": null,
            "object_fit": null,
            "object_position": null,
            "order": null,
            "overflow": null,
            "overflow_x": null,
            "overflow_y": null,
            "padding": null,
            "right": null,
            "top": null,
            "visibility": null,
            "width": null
          }
        },
        "eb1750efacd44412b41ab94a7c8680c9": {
          "model_module": "@jupyter-widgets/base",
          "model_name": "LayoutModel",
          "model_module_version": "1.2.0",
          "state": {
            "_model_module": "@jupyter-widgets/base",
            "_model_module_version": "1.2.0",
            "_model_name": "LayoutModel",
            "_view_count": null,
            "_view_module": "@jupyter-widgets/base",
            "_view_module_version": "1.2.0",
            "_view_name": "LayoutView",
            "align_content": null,
            "align_items": null,
            "align_self": null,
            "border": null,
            "bottom": null,
            "display": null,
            "flex": null,
            "flex_flow": null,
            "grid_area": null,
            "grid_auto_columns": null,
            "grid_auto_flow": null,
            "grid_auto_rows": null,
            "grid_column": null,
            "grid_gap": null,
            "grid_row": null,
            "grid_template_areas": null,
            "grid_template_columns": null,
            "grid_template_rows": null,
            "height": null,
            "justify_content": null,
            "justify_items": null,
            "left": null,
            "margin": null,
            "max_height": null,
            "max_width": null,
            "min_height": null,
            "min_width": null,
            "object_fit": null,
            "object_position": null,
            "order": null,
            "overflow": null,
            "overflow_x": null,
            "overflow_y": null,
            "padding": null,
            "right": null,
            "top": null,
            "visibility": null,
            "width": null
          }
        },
        "12db90a7f9294e6aa4d889f46bf4ab3a": {
          "model_module": "@jupyter-widgets/controls",
          "model_name": "DescriptionStyleModel",
          "model_module_version": "1.5.0",
          "state": {
            "_model_module": "@jupyter-widgets/controls",
            "_model_module_version": "1.5.0",
            "_model_name": "DescriptionStyleModel",
            "_view_count": null,
            "_view_module": "@jupyter-widgets/base",
            "_view_module_version": "1.2.0",
            "_view_name": "StyleView",
            "description_width": ""
          }
        },
        "ed780e8df9ac4337a04b803b259fb1e6": {
          "model_module": "@jupyter-widgets/base",
          "model_name": "LayoutModel",
          "model_module_version": "1.2.0",
          "state": {
            "_model_module": "@jupyter-widgets/base",
            "_model_module_version": "1.2.0",
            "_model_name": "LayoutModel",
            "_view_count": null,
            "_view_module": "@jupyter-widgets/base",
            "_view_module_version": "1.2.0",
            "_view_name": "LayoutView",
            "align_content": null,
            "align_items": null,
            "align_self": null,
            "border": null,
            "bottom": null,
            "display": null,
            "flex": null,
            "flex_flow": null,
            "grid_area": null,
            "grid_auto_columns": null,
            "grid_auto_flow": null,
            "grid_auto_rows": null,
            "grid_column": null,
            "grid_gap": null,
            "grid_row": null,
            "grid_template_areas": null,
            "grid_template_columns": null,
            "grid_template_rows": null,
            "height": null,
            "justify_content": null,
            "justify_items": null,
            "left": null,
            "margin": null,
            "max_height": null,
            "max_width": null,
            "min_height": null,
            "min_width": null,
            "object_fit": null,
            "object_position": null,
            "order": null,
            "overflow": null,
            "overflow_x": null,
            "overflow_y": null,
            "padding": null,
            "right": null,
            "top": null,
            "visibility": null,
            "width": null
          }
        },
        "3130b24d615a49a596d300b8567557a2": {
          "model_module": "@jupyter-widgets/controls",
          "model_name": "ProgressStyleModel",
          "model_module_version": "1.5.0",
          "state": {
            "_model_module": "@jupyter-widgets/controls",
            "_model_module_version": "1.5.0",
            "_model_name": "ProgressStyleModel",
            "_view_count": null,
            "_view_module": "@jupyter-widgets/base",
            "_view_module_version": "1.2.0",
            "_view_name": "StyleView",
            "bar_color": null,
            "description_width": ""
          }
        },
        "e21e8eaf9dec40dcb2560ce1177dd5d5": {
          "model_module": "@jupyter-widgets/base",
          "model_name": "LayoutModel",
          "model_module_version": "1.2.0",
          "state": {
            "_model_module": "@jupyter-widgets/base",
            "_model_module_version": "1.2.0",
            "_model_name": "LayoutModel",
            "_view_count": null,
            "_view_module": "@jupyter-widgets/base",
            "_view_module_version": "1.2.0",
            "_view_name": "LayoutView",
            "align_content": null,
            "align_items": null,
            "align_self": null,
            "border": null,
            "bottom": null,
            "display": null,
            "flex": null,
            "flex_flow": null,
            "grid_area": null,
            "grid_auto_columns": null,
            "grid_auto_flow": null,
            "grid_auto_rows": null,
            "grid_column": null,
            "grid_gap": null,
            "grid_row": null,
            "grid_template_areas": null,
            "grid_template_columns": null,
            "grid_template_rows": null,
            "height": null,
            "justify_content": null,
            "justify_items": null,
            "left": null,
            "margin": null,
            "max_height": null,
            "max_width": null,
            "min_height": null,
            "min_width": null,
            "object_fit": null,
            "object_position": null,
            "order": null,
            "overflow": null,
            "overflow_x": null,
            "overflow_y": null,
            "padding": null,
            "right": null,
            "top": null,
            "visibility": null,
            "width": null
          }
        },
        "c113662b9026469c8b35f5e0efb1cfa1": {
          "model_module": "@jupyter-widgets/controls",
          "model_name": "DescriptionStyleModel",
          "model_module_version": "1.5.0",
          "state": {
            "_model_module": "@jupyter-widgets/controls",
            "_model_module_version": "1.5.0",
            "_model_name": "DescriptionStyleModel",
            "_view_count": null,
            "_view_module": "@jupyter-widgets/base",
            "_view_module_version": "1.2.0",
            "_view_name": "StyleView",
            "description_width": ""
          }
        },
        "97644aa82d5b44d3996d0b7c62e1b05e": {
          "model_module": "@jupyter-widgets/controls",
          "model_name": "HBoxModel",
          "model_module_version": "1.5.0",
          "state": {
            "_dom_classes": [],
            "_model_module": "@jupyter-widgets/controls",
            "_model_module_version": "1.5.0",
            "_model_name": "HBoxModel",
            "_view_count": null,
            "_view_module": "@jupyter-widgets/controls",
            "_view_module_version": "1.5.0",
            "_view_name": "HBoxView",
            "box_style": "",
            "children": [
              "IPY_MODEL_bb383af75e864025a3dbd7de52dc8cc6",
              "IPY_MODEL_f7f0c46423a04566bb79f8937bc22593",
              "IPY_MODEL_f6114f0101be4a31824123af1d6a3261"
            ],
            "layout": "IPY_MODEL_e8a1894af42b47a0ad35188d08b3c041"
          }
        },
        "bb383af75e864025a3dbd7de52dc8cc6": {
          "model_module": "@jupyter-widgets/controls",
          "model_name": "HTMLModel",
          "model_module_version": "1.5.0",
          "state": {
            "_dom_classes": [],
            "_model_module": "@jupyter-widgets/controls",
            "_model_module_version": "1.5.0",
            "_model_name": "HTMLModel",
            "_view_count": null,
            "_view_module": "@jupyter-widgets/controls",
            "_view_module_version": "1.5.0",
            "_view_name": "HTMLView",
            "description": "",
            "description_tooltip": null,
            "layout": "IPY_MODEL_36d4316a5ce24373a76bca1d49c58dbd",
            "placeholder": "​",
            "style": "IPY_MODEL_8ab59788c49b462ab4a1076fc5452483",
            "value": "Downloading (…)lve/main/config.json: 100%"
          }
        },
        "f7f0c46423a04566bb79f8937bc22593": {
          "model_module": "@jupyter-widgets/controls",
          "model_name": "FloatProgressModel",
          "model_module_version": "1.5.0",
          "state": {
            "_dom_classes": [],
            "_model_module": "@jupyter-widgets/controls",
            "_model_module_version": "1.5.0",
            "_model_name": "FloatProgressModel",
            "_view_count": null,
            "_view_module": "@jupyter-widgets/controls",
            "_view_module_version": "1.5.0",
            "_view_name": "ProgressView",
            "bar_style": "success",
            "description": "",
            "description_tooltip": null,
            "layout": "IPY_MODEL_dd6b0da0a9a9466eb930f94c46ed3536",
            "max": 483,
            "min": 0,
            "orientation": "horizontal",
            "style": "IPY_MODEL_2c27dd50cb7c400083bc428a596a21b4",
            "value": 483
          }
        },
        "f6114f0101be4a31824123af1d6a3261": {
          "model_module": "@jupyter-widgets/controls",
          "model_name": "HTMLModel",
          "model_module_version": "1.5.0",
          "state": {
            "_dom_classes": [],
            "_model_module": "@jupyter-widgets/controls",
            "_model_module_version": "1.5.0",
            "_model_name": "HTMLModel",
            "_view_count": null,
            "_view_module": "@jupyter-widgets/controls",
            "_view_module_version": "1.5.0",
            "_view_name": "HTMLView",
            "description": "",
            "description_tooltip": null,
            "layout": "IPY_MODEL_cb4e86cd81fc44c887fe151db6da32fa",
            "placeholder": "​",
            "style": "IPY_MODEL_df2ac992df5f420cb25b47dc39a99835",
            "value": " 483/483 [00:00&lt;00:00, 12.6kB/s]"
          }
        },
        "e8a1894af42b47a0ad35188d08b3c041": {
          "model_module": "@jupyter-widgets/base",
          "model_name": "LayoutModel",
          "model_module_version": "1.2.0",
          "state": {
            "_model_module": "@jupyter-widgets/base",
            "_model_module_version": "1.2.0",
            "_model_name": "LayoutModel",
            "_view_count": null,
            "_view_module": "@jupyter-widgets/base",
            "_view_module_version": "1.2.0",
            "_view_name": "LayoutView",
            "align_content": null,
            "align_items": null,
            "align_self": null,
            "border": null,
            "bottom": null,
            "display": null,
            "flex": null,
            "flex_flow": null,
            "grid_area": null,
            "grid_auto_columns": null,
            "grid_auto_flow": null,
            "grid_auto_rows": null,
            "grid_column": null,
            "grid_gap": null,
            "grid_row": null,
            "grid_template_areas": null,
            "grid_template_columns": null,
            "grid_template_rows": null,
            "height": null,
            "justify_content": null,
            "justify_items": null,
            "left": null,
            "margin": null,
            "max_height": null,
            "max_width": null,
            "min_height": null,
            "min_width": null,
            "object_fit": null,
            "object_position": null,
            "order": null,
            "overflow": null,
            "overflow_x": null,
            "overflow_y": null,
            "padding": null,
            "right": null,
            "top": null,
            "visibility": null,
            "width": null
          }
        },
        "36d4316a5ce24373a76bca1d49c58dbd": {
          "model_module": "@jupyter-widgets/base",
          "model_name": "LayoutModel",
          "model_module_version": "1.2.0",
          "state": {
            "_model_module": "@jupyter-widgets/base",
            "_model_module_version": "1.2.0",
            "_model_name": "LayoutModel",
            "_view_count": null,
            "_view_module": "@jupyter-widgets/base",
            "_view_module_version": "1.2.0",
            "_view_name": "LayoutView",
            "align_content": null,
            "align_items": null,
            "align_self": null,
            "border": null,
            "bottom": null,
            "display": null,
            "flex": null,
            "flex_flow": null,
            "grid_area": null,
            "grid_auto_columns": null,
            "grid_auto_flow": null,
            "grid_auto_rows": null,
            "grid_column": null,
            "grid_gap": null,
            "grid_row": null,
            "grid_template_areas": null,
            "grid_template_columns": null,
            "grid_template_rows": null,
            "height": null,
            "justify_content": null,
            "justify_items": null,
            "left": null,
            "margin": null,
            "max_height": null,
            "max_width": null,
            "min_height": null,
            "min_width": null,
            "object_fit": null,
            "object_position": null,
            "order": null,
            "overflow": null,
            "overflow_x": null,
            "overflow_y": null,
            "padding": null,
            "right": null,
            "top": null,
            "visibility": null,
            "width": null
          }
        },
        "8ab59788c49b462ab4a1076fc5452483": {
          "model_module": "@jupyter-widgets/controls",
          "model_name": "DescriptionStyleModel",
          "model_module_version": "1.5.0",
          "state": {
            "_model_module": "@jupyter-widgets/controls",
            "_model_module_version": "1.5.0",
            "_model_name": "DescriptionStyleModel",
            "_view_count": null,
            "_view_module": "@jupyter-widgets/base",
            "_view_module_version": "1.2.0",
            "_view_name": "StyleView",
            "description_width": ""
          }
        },
        "dd6b0da0a9a9466eb930f94c46ed3536": {
          "model_module": "@jupyter-widgets/base",
          "model_name": "LayoutModel",
          "model_module_version": "1.2.0",
          "state": {
            "_model_module": "@jupyter-widgets/base",
            "_model_module_version": "1.2.0",
            "_model_name": "LayoutModel",
            "_view_count": null,
            "_view_module": "@jupyter-widgets/base",
            "_view_module_version": "1.2.0",
            "_view_name": "LayoutView",
            "align_content": null,
            "align_items": null,
            "align_self": null,
            "border": null,
            "bottom": null,
            "display": null,
            "flex": null,
            "flex_flow": null,
            "grid_area": null,
            "grid_auto_columns": null,
            "grid_auto_flow": null,
            "grid_auto_rows": null,
            "grid_column": null,
            "grid_gap": null,
            "grid_row": null,
            "grid_template_areas": null,
            "grid_template_columns": null,
            "grid_template_rows": null,
            "height": null,
            "justify_content": null,
            "justify_items": null,
            "left": null,
            "margin": null,
            "max_height": null,
            "max_width": null,
            "min_height": null,
            "min_width": null,
            "object_fit": null,
            "object_position": null,
            "order": null,
            "overflow": null,
            "overflow_x": null,
            "overflow_y": null,
            "padding": null,
            "right": null,
            "top": null,
            "visibility": null,
            "width": null
          }
        },
        "2c27dd50cb7c400083bc428a596a21b4": {
          "model_module": "@jupyter-widgets/controls",
          "model_name": "ProgressStyleModel",
          "model_module_version": "1.5.0",
          "state": {
            "_model_module": "@jupyter-widgets/controls",
            "_model_module_version": "1.5.0",
            "_model_name": "ProgressStyleModel",
            "_view_count": null,
            "_view_module": "@jupyter-widgets/base",
            "_view_module_version": "1.2.0",
            "_view_name": "StyleView",
            "bar_color": null,
            "description_width": ""
          }
        },
        "cb4e86cd81fc44c887fe151db6da32fa": {
          "model_module": "@jupyter-widgets/base",
          "model_name": "LayoutModel",
          "model_module_version": "1.2.0",
          "state": {
            "_model_module": "@jupyter-widgets/base",
            "_model_module_version": "1.2.0",
            "_model_name": "LayoutModel",
            "_view_count": null,
            "_view_module": "@jupyter-widgets/base",
            "_view_module_version": "1.2.0",
            "_view_name": "LayoutView",
            "align_content": null,
            "align_items": null,
            "align_self": null,
            "border": null,
            "bottom": null,
            "display": null,
            "flex": null,
            "flex_flow": null,
            "grid_area": null,
            "grid_auto_columns": null,
            "grid_auto_flow": null,
            "grid_auto_rows": null,
            "grid_column": null,
            "grid_gap": null,
            "grid_row": null,
            "grid_template_areas": null,
            "grid_template_columns": null,
            "grid_template_rows": null,
            "height": null,
            "justify_content": null,
            "justify_items": null,
            "left": null,
            "margin": null,
            "max_height": null,
            "max_width": null,
            "min_height": null,
            "min_width": null,
            "object_fit": null,
            "object_position": null,
            "order": null,
            "overflow": null,
            "overflow_x": null,
            "overflow_y": null,
            "padding": null,
            "right": null,
            "top": null,
            "visibility": null,
            "width": null
          }
        },
        "df2ac992df5f420cb25b47dc39a99835": {
          "model_module": "@jupyter-widgets/controls",
          "model_name": "DescriptionStyleModel",
          "model_module_version": "1.5.0",
          "state": {
            "_model_module": "@jupyter-widgets/controls",
            "_model_module_version": "1.5.0",
            "_model_name": "DescriptionStyleModel",
            "_view_count": null,
            "_view_module": "@jupyter-widgets/base",
            "_view_module_version": "1.2.0",
            "_view_name": "StyleView",
            "description_width": ""
          }
        },
        "4a9702cbcfce4fa9904d7445dbfeb4f7": {
          "model_module": "@jupyter-widgets/controls",
          "model_name": "HBoxModel",
          "model_module_version": "1.5.0",
          "state": {
            "_dom_classes": [],
            "_model_module": "@jupyter-widgets/controls",
            "_model_module_version": "1.5.0",
            "_model_name": "HBoxModel",
            "_view_count": null,
            "_view_module": "@jupyter-widgets/controls",
            "_view_module_version": "1.5.0",
            "_view_name": "HBoxView",
            "box_style": "",
            "children": [
              "IPY_MODEL_f85a4d2ad7664b9ca6284023722355c6",
              "IPY_MODEL_ea7bef00a18e4ce0ac00254fcfd67cc2",
              "IPY_MODEL_4f16b46a12874606b56141dab41b26a0"
            ],
            "layout": "IPY_MODEL_bb1f11d3269e44b9a436adf84fc48dd8"
          }
        },
        "f85a4d2ad7664b9ca6284023722355c6": {
          "model_module": "@jupyter-widgets/controls",
          "model_name": "HTMLModel",
          "model_module_version": "1.5.0",
          "state": {
            "_dom_classes": [],
            "_model_module": "@jupyter-widgets/controls",
            "_model_module_version": "1.5.0",
            "_model_name": "HTMLModel",
            "_view_count": null,
            "_view_module": "@jupyter-widgets/controls",
            "_view_module_version": "1.5.0",
            "_view_name": "HTMLView",
            "description": "",
            "description_tooltip": null,
            "layout": "IPY_MODEL_7a4cfe8a496e45ff8378fda602a6db59",
            "placeholder": "​",
            "style": "IPY_MODEL_6752552de0ad4c44ba1f8316270bcc57",
            "value": "Downloading (…)solve/main/vocab.txt: 100%"
          }
        },
        "ea7bef00a18e4ce0ac00254fcfd67cc2": {
          "model_module": "@jupyter-widgets/controls",
          "model_name": "FloatProgressModel",
          "model_module_version": "1.5.0",
          "state": {
            "_dom_classes": [],
            "_model_module": "@jupyter-widgets/controls",
            "_model_module_version": "1.5.0",
            "_model_name": "FloatProgressModel",
            "_view_count": null,
            "_view_module": "@jupyter-widgets/controls",
            "_view_module_version": "1.5.0",
            "_view_name": "ProgressView",
            "bar_style": "success",
            "description": "",
            "description_tooltip": null,
            "layout": "IPY_MODEL_7b1c96a353f84ba1b178dfb85be32f20",
            "max": 231508,
            "min": 0,
            "orientation": "horizontal",
            "style": "IPY_MODEL_5e57cb9014ca4105888e15218bb2112c",
            "value": 231508
          }
        },
        "4f16b46a12874606b56141dab41b26a0": {
          "model_module": "@jupyter-widgets/controls",
          "model_name": "HTMLModel",
          "model_module_version": "1.5.0",
          "state": {
            "_dom_classes": [],
            "_model_module": "@jupyter-widgets/controls",
            "_model_module_version": "1.5.0",
            "_model_name": "HTMLModel",
            "_view_count": null,
            "_view_module": "@jupyter-widgets/controls",
            "_view_module_version": "1.5.0",
            "_view_name": "HTMLView",
            "description": "",
            "description_tooltip": null,
            "layout": "IPY_MODEL_9f2b608caf8746579253df1833727a81",
            "placeholder": "​",
            "style": "IPY_MODEL_badcb87ad8d647ee992929020277e3cf",
            "value": " 232k/232k [00:00&lt;00:00, 529kB/s]"
          }
        },
        "bb1f11d3269e44b9a436adf84fc48dd8": {
          "model_module": "@jupyter-widgets/base",
          "model_name": "LayoutModel",
          "model_module_version": "1.2.0",
          "state": {
            "_model_module": "@jupyter-widgets/base",
            "_model_module_version": "1.2.0",
            "_model_name": "LayoutModel",
            "_view_count": null,
            "_view_module": "@jupyter-widgets/base",
            "_view_module_version": "1.2.0",
            "_view_name": "LayoutView",
            "align_content": null,
            "align_items": null,
            "align_self": null,
            "border": null,
            "bottom": null,
            "display": null,
            "flex": null,
            "flex_flow": null,
            "grid_area": null,
            "grid_auto_columns": null,
            "grid_auto_flow": null,
            "grid_auto_rows": null,
            "grid_column": null,
            "grid_gap": null,
            "grid_row": null,
            "grid_template_areas": null,
            "grid_template_columns": null,
            "grid_template_rows": null,
            "height": null,
            "justify_content": null,
            "justify_items": null,
            "left": null,
            "margin": null,
            "max_height": null,
            "max_width": null,
            "min_height": null,
            "min_width": null,
            "object_fit": null,
            "object_position": null,
            "order": null,
            "overflow": null,
            "overflow_x": null,
            "overflow_y": null,
            "padding": null,
            "right": null,
            "top": null,
            "visibility": null,
            "width": null
          }
        },
        "7a4cfe8a496e45ff8378fda602a6db59": {
          "model_module": "@jupyter-widgets/base",
          "model_name": "LayoutModel",
          "model_module_version": "1.2.0",
          "state": {
            "_model_module": "@jupyter-widgets/base",
            "_model_module_version": "1.2.0",
            "_model_name": "LayoutModel",
            "_view_count": null,
            "_view_module": "@jupyter-widgets/base",
            "_view_module_version": "1.2.0",
            "_view_name": "LayoutView",
            "align_content": null,
            "align_items": null,
            "align_self": null,
            "border": null,
            "bottom": null,
            "display": null,
            "flex": null,
            "flex_flow": null,
            "grid_area": null,
            "grid_auto_columns": null,
            "grid_auto_flow": null,
            "grid_auto_rows": null,
            "grid_column": null,
            "grid_gap": null,
            "grid_row": null,
            "grid_template_areas": null,
            "grid_template_columns": null,
            "grid_template_rows": null,
            "height": null,
            "justify_content": null,
            "justify_items": null,
            "left": null,
            "margin": null,
            "max_height": null,
            "max_width": null,
            "min_height": null,
            "min_width": null,
            "object_fit": null,
            "object_position": null,
            "order": null,
            "overflow": null,
            "overflow_x": null,
            "overflow_y": null,
            "padding": null,
            "right": null,
            "top": null,
            "visibility": null,
            "width": null
          }
        },
        "6752552de0ad4c44ba1f8316270bcc57": {
          "model_module": "@jupyter-widgets/controls",
          "model_name": "DescriptionStyleModel",
          "model_module_version": "1.5.0",
          "state": {
            "_model_module": "@jupyter-widgets/controls",
            "_model_module_version": "1.5.0",
            "_model_name": "DescriptionStyleModel",
            "_view_count": null,
            "_view_module": "@jupyter-widgets/base",
            "_view_module_version": "1.2.0",
            "_view_name": "StyleView",
            "description_width": ""
          }
        },
        "7b1c96a353f84ba1b178dfb85be32f20": {
          "model_module": "@jupyter-widgets/base",
          "model_name": "LayoutModel",
          "model_module_version": "1.2.0",
          "state": {
            "_model_module": "@jupyter-widgets/base",
            "_model_module_version": "1.2.0",
            "_model_name": "LayoutModel",
            "_view_count": null,
            "_view_module": "@jupyter-widgets/base",
            "_view_module_version": "1.2.0",
            "_view_name": "LayoutView",
            "align_content": null,
            "align_items": null,
            "align_self": null,
            "border": null,
            "bottom": null,
            "display": null,
            "flex": null,
            "flex_flow": null,
            "grid_area": null,
            "grid_auto_columns": null,
            "grid_auto_flow": null,
            "grid_auto_rows": null,
            "grid_column": null,
            "grid_gap": null,
            "grid_row": null,
            "grid_template_areas": null,
            "grid_template_columns": null,
            "grid_template_rows": null,
            "height": null,
            "justify_content": null,
            "justify_items": null,
            "left": null,
            "margin": null,
            "max_height": null,
            "max_width": null,
            "min_height": null,
            "min_width": null,
            "object_fit": null,
            "object_position": null,
            "order": null,
            "overflow": null,
            "overflow_x": null,
            "overflow_y": null,
            "padding": null,
            "right": null,
            "top": null,
            "visibility": null,
            "width": null
          }
        },
        "5e57cb9014ca4105888e15218bb2112c": {
          "model_module": "@jupyter-widgets/controls",
          "model_name": "ProgressStyleModel",
          "model_module_version": "1.5.0",
          "state": {
            "_model_module": "@jupyter-widgets/controls",
            "_model_module_version": "1.5.0",
            "_model_name": "ProgressStyleModel",
            "_view_count": null,
            "_view_module": "@jupyter-widgets/base",
            "_view_module_version": "1.2.0",
            "_view_name": "StyleView",
            "bar_color": null,
            "description_width": ""
          }
        },
        "9f2b608caf8746579253df1833727a81": {
          "model_module": "@jupyter-widgets/base",
          "model_name": "LayoutModel",
          "model_module_version": "1.2.0",
          "state": {
            "_model_module": "@jupyter-widgets/base",
            "_model_module_version": "1.2.0",
            "_model_name": "LayoutModel",
            "_view_count": null,
            "_view_module": "@jupyter-widgets/base",
            "_view_module_version": "1.2.0",
            "_view_name": "LayoutView",
            "align_content": null,
            "align_items": null,
            "align_self": null,
            "border": null,
            "bottom": null,
            "display": null,
            "flex": null,
            "flex_flow": null,
            "grid_area": null,
            "grid_auto_columns": null,
            "grid_auto_flow": null,
            "grid_auto_rows": null,
            "grid_column": null,
            "grid_gap": null,
            "grid_row": null,
            "grid_template_areas": null,
            "grid_template_columns": null,
            "grid_template_rows": null,
            "height": null,
            "justify_content": null,
            "justify_items": null,
            "left": null,
            "margin": null,
            "max_height": null,
            "max_width": null,
            "min_height": null,
            "min_width": null,
            "object_fit": null,
            "object_position": null,
            "order": null,
            "overflow": null,
            "overflow_x": null,
            "overflow_y": null,
            "padding": null,
            "right": null,
            "top": null,
            "visibility": null,
            "width": null
          }
        },
        "badcb87ad8d647ee992929020277e3cf": {
          "model_module": "@jupyter-widgets/controls",
          "model_name": "DescriptionStyleModel",
          "model_module_version": "1.5.0",
          "state": {
            "_model_module": "@jupyter-widgets/controls",
            "_model_module_version": "1.5.0",
            "_model_name": "DescriptionStyleModel",
            "_view_count": null,
            "_view_module": "@jupyter-widgets/base",
            "_view_module_version": "1.2.0",
            "_view_name": "StyleView",
            "description_width": ""
          }
        },
        "42dfa0913a844d8aacbaa485b25d1c9a": {
          "model_module": "@jupyter-widgets/controls",
          "model_name": "HBoxModel",
          "model_module_version": "1.5.0",
          "state": {
            "_dom_classes": [],
            "_model_module": "@jupyter-widgets/controls",
            "_model_module_version": "1.5.0",
            "_model_name": "HBoxModel",
            "_view_count": null,
            "_view_module": "@jupyter-widgets/controls",
            "_view_module_version": "1.5.0",
            "_view_name": "HBoxView",
            "box_style": "",
            "children": [
              "IPY_MODEL_010f01526b344a05a903d78c9abf6a5c",
              "IPY_MODEL_efbd376654a04ab29925400a9a750346",
              "IPY_MODEL_2a0e4a0d3d114e0390e1e21360d6c201"
            ],
            "layout": "IPY_MODEL_9bca14cafa6a48e680dbf610fa63d23f"
          }
        },
        "010f01526b344a05a903d78c9abf6a5c": {
          "model_module": "@jupyter-widgets/controls",
          "model_name": "HTMLModel",
          "model_module_version": "1.5.0",
          "state": {
            "_dom_classes": [],
            "_model_module": "@jupyter-widgets/controls",
            "_model_module_version": "1.5.0",
            "_model_name": "HTMLModel",
            "_view_count": null,
            "_view_module": "@jupyter-widgets/controls",
            "_view_module_version": "1.5.0",
            "_view_name": "HTMLView",
            "description": "",
            "description_tooltip": null,
            "layout": "IPY_MODEL_35157219aba54d079dd965b97a1d9e58",
            "placeholder": "​",
            "style": "IPY_MODEL_b1443c4d1402479e8df625a74077f5a8",
            "value": "Downloading (…)/main/tokenizer.json: 100%"
          }
        },
        "efbd376654a04ab29925400a9a750346": {
          "model_module": "@jupyter-widgets/controls",
          "model_name": "FloatProgressModel",
          "model_module_version": "1.5.0",
          "state": {
            "_dom_classes": [],
            "_model_module": "@jupyter-widgets/controls",
            "_model_module_version": "1.5.0",
            "_model_name": "FloatProgressModel",
            "_view_count": null,
            "_view_module": "@jupyter-widgets/controls",
            "_view_module_version": "1.5.0",
            "_view_name": "ProgressView",
            "bar_style": "success",
            "description": "",
            "description_tooltip": null,
            "layout": "IPY_MODEL_d9b93beb901a4948a56d1f57ba05ccc7",
            "max": 466062,
            "min": 0,
            "orientation": "horizontal",
            "style": "IPY_MODEL_a7f36e65db6541109be7683a957fba16",
            "value": 466062
          }
        },
        "2a0e4a0d3d114e0390e1e21360d6c201": {
          "model_module": "@jupyter-widgets/controls",
          "model_name": "HTMLModel",
          "model_module_version": "1.5.0",
          "state": {
            "_dom_classes": [],
            "_model_module": "@jupyter-widgets/controls",
            "_model_module_version": "1.5.0",
            "_model_name": "HTMLModel",
            "_view_count": null,
            "_view_module": "@jupyter-widgets/controls",
            "_view_module_version": "1.5.0",
            "_view_name": "HTMLView",
            "description": "",
            "description_tooltip": null,
            "layout": "IPY_MODEL_c076e66a324e44cd8078b4ccacc430de",
            "placeholder": "​",
            "style": "IPY_MODEL_46aff50e90454a7e8f0c13e21a82bdd2",
            "value": " 466k/466k [00:00&lt;00:00, 751kB/s]"
          }
        },
        "9bca14cafa6a48e680dbf610fa63d23f": {
          "model_module": "@jupyter-widgets/base",
          "model_name": "LayoutModel",
          "model_module_version": "1.2.0",
          "state": {
            "_model_module": "@jupyter-widgets/base",
            "_model_module_version": "1.2.0",
            "_model_name": "LayoutModel",
            "_view_count": null,
            "_view_module": "@jupyter-widgets/base",
            "_view_module_version": "1.2.0",
            "_view_name": "LayoutView",
            "align_content": null,
            "align_items": null,
            "align_self": null,
            "border": null,
            "bottom": null,
            "display": null,
            "flex": null,
            "flex_flow": null,
            "grid_area": null,
            "grid_auto_columns": null,
            "grid_auto_flow": null,
            "grid_auto_rows": null,
            "grid_column": null,
            "grid_gap": null,
            "grid_row": null,
            "grid_template_areas": null,
            "grid_template_columns": null,
            "grid_template_rows": null,
            "height": null,
            "justify_content": null,
            "justify_items": null,
            "left": null,
            "margin": null,
            "max_height": null,
            "max_width": null,
            "min_height": null,
            "min_width": null,
            "object_fit": null,
            "object_position": null,
            "order": null,
            "overflow": null,
            "overflow_x": null,
            "overflow_y": null,
            "padding": null,
            "right": null,
            "top": null,
            "visibility": null,
            "width": null
          }
        },
        "35157219aba54d079dd965b97a1d9e58": {
          "model_module": "@jupyter-widgets/base",
          "model_name": "LayoutModel",
          "model_module_version": "1.2.0",
          "state": {
            "_model_module": "@jupyter-widgets/base",
            "_model_module_version": "1.2.0",
            "_model_name": "LayoutModel",
            "_view_count": null,
            "_view_module": "@jupyter-widgets/base",
            "_view_module_version": "1.2.0",
            "_view_name": "LayoutView",
            "align_content": null,
            "align_items": null,
            "align_self": null,
            "border": null,
            "bottom": null,
            "display": null,
            "flex": null,
            "flex_flow": null,
            "grid_area": null,
            "grid_auto_columns": null,
            "grid_auto_flow": null,
            "grid_auto_rows": null,
            "grid_column": null,
            "grid_gap": null,
            "grid_row": null,
            "grid_template_areas": null,
            "grid_template_columns": null,
            "grid_template_rows": null,
            "height": null,
            "justify_content": null,
            "justify_items": null,
            "left": null,
            "margin": null,
            "max_height": null,
            "max_width": null,
            "min_height": null,
            "min_width": null,
            "object_fit": null,
            "object_position": null,
            "order": null,
            "overflow": null,
            "overflow_x": null,
            "overflow_y": null,
            "padding": null,
            "right": null,
            "top": null,
            "visibility": null,
            "width": null
          }
        },
        "b1443c4d1402479e8df625a74077f5a8": {
          "model_module": "@jupyter-widgets/controls",
          "model_name": "DescriptionStyleModel",
          "model_module_version": "1.5.0",
          "state": {
            "_model_module": "@jupyter-widgets/controls",
            "_model_module_version": "1.5.0",
            "_model_name": "DescriptionStyleModel",
            "_view_count": null,
            "_view_module": "@jupyter-widgets/base",
            "_view_module_version": "1.2.0",
            "_view_name": "StyleView",
            "description_width": ""
          }
        },
        "d9b93beb901a4948a56d1f57ba05ccc7": {
          "model_module": "@jupyter-widgets/base",
          "model_name": "LayoutModel",
          "model_module_version": "1.2.0",
          "state": {
            "_model_module": "@jupyter-widgets/base",
            "_model_module_version": "1.2.0",
            "_model_name": "LayoutModel",
            "_view_count": null,
            "_view_module": "@jupyter-widgets/base",
            "_view_module_version": "1.2.0",
            "_view_name": "LayoutView",
            "align_content": null,
            "align_items": null,
            "align_self": null,
            "border": null,
            "bottom": null,
            "display": null,
            "flex": null,
            "flex_flow": null,
            "grid_area": null,
            "grid_auto_columns": null,
            "grid_auto_flow": null,
            "grid_auto_rows": null,
            "grid_column": null,
            "grid_gap": null,
            "grid_row": null,
            "grid_template_areas": null,
            "grid_template_columns": null,
            "grid_template_rows": null,
            "height": null,
            "justify_content": null,
            "justify_items": null,
            "left": null,
            "margin": null,
            "max_height": null,
            "max_width": null,
            "min_height": null,
            "min_width": null,
            "object_fit": null,
            "object_position": null,
            "order": null,
            "overflow": null,
            "overflow_x": null,
            "overflow_y": null,
            "padding": null,
            "right": null,
            "top": null,
            "visibility": null,
            "width": null
          }
        },
        "a7f36e65db6541109be7683a957fba16": {
          "model_module": "@jupyter-widgets/controls",
          "model_name": "ProgressStyleModel",
          "model_module_version": "1.5.0",
          "state": {
            "_model_module": "@jupyter-widgets/controls",
            "_model_module_version": "1.5.0",
            "_model_name": "ProgressStyleModel",
            "_view_count": null,
            "_view_module": "@jupyter-widgets/base",
            "_view_module_version": "1.2.0",
            "_view_name": "StyleView",
            "bar_color": null,
            "description_width": ""
          }
        },
        "c076e66a324e44cd8078b4ccacc430de": {
          "model_module": "@jupyter-widgets/base",
          "model_name": "LayoutModel",
          "model_module_version": "1.2.0",
          "state": {
            "_model_module": "@jupyter-widgets/base",
            "_model_module_version": "1.2.0",
            "_model_name": "LayoutModel",
            "_view_count": null,
            "_view_module": "@jupyter-widgets/base",
            "_view_module_version": "1.2.0",
            "_view_name": "LayoutView",
            "align_content": null,
            "align_items": null,
            "align_self": null,
            "border": null,
            "bottom": null,
            "display": null,
            "flex": null,
            "flex_flow": null,
            "grid_area": null,
            "grid_auto_columns": null,
            "grid_auto_flow": null,
            "grid_auto_rows": null,
            "grid_column": null,
            "grid_gap": null,
            "grid_row": null,
            "grid_template_areas": null,
            "grid_template_columns": null,
            "grid_template_rows": null,
            "height": null,
            "justify_content": null,
            "justify_items": null,
            "left": null,
            "margin": null,
            "max_height": null,
            "max_width": null,
            "min_height": null,
            "min_width": null,
            "object_fit": null,
            "object_position": null,
            "order": null,
            "overflow": null,
            "overflow_x": null,
            "overflow_y": null,
            "padding": null,
            "right": null,
            "top": null,
            "visibility": null,
            "width": null
          }
        },
        "46aff50e90454a7e8f0c13e21a82bdd2": {
          "model_module": "@jupyter-widgets/controls",
          "model_name": "DescriptionStyleModel",
          "model_module_version": "1.5.0",
          "state": {
            "_model_module": "@jupyter-widgets/controls",
            "_model_module_version": "1.5.0",
            "_model_name": "DescriptionStyleModel",
            "_view_count": null,
            "_view_module": "@jupyter-widgets/base",
            "_view_module_version": "1.2.0",
            "_view_name": "StyleView",
            "description_width": ""
          }
        },
        "707015c402234b92b3b9cb0d74e963b6": {
          "model_module": "@jupyter-widgets/controls",
          "model_name": "HBoxModel",
          "model_module_version": "1.5.0",
          "state": {
            "_dom_classes": [],
            "_model_module": "@jupyter-widgets/controls",
            "_model_module_version": "1.5.0",
            "_model_name": "HBoxModel",
            "_view_count": null,
            "_view_module": "@jupyter-widgets/controls",
            "_view_module_version": "1.5.0",
            "_view_name": "HBoxView",
            "box_style": "",
            "children": [
              "IPY_MODEL_02d29125c8ce4b9caffd24aacacd3c3a",
              "IPY_MODEL_a068287be04c46478cdf70df367c218d",
              "IPY_MODEL_efb6886c523b4941b203a6805d40a02e"
            ],
            "layout": "IPY_MODEL_ee21fcc8f9f44510b8de99322f43d998"
          }
        },
        "02d29125c8ce4b9caffd24aacacd3c3a": {
          "model_module": "@jupyter-widgets/controls",
          "model_name": "HTMLModel",
          "model_module_version": "1.5.0",
          "state": {
            "_dom_classes": [],
            "_model_module": "@jupyter-widgets/controls",
            "_model_module_version": "1.5.0",
            "_model_name": "HTMLModel",
            "_view_count": null,
            "_view_module": "@jupyter-widgets/controls",
            "_view_module_version": "1.5.0",
            "_view_name": "HTMLView",
            "description": "",
            "description_tooltip": null,
            "layout": "IPY_MODEL_7aef06db07a448578579077c8c086a5b",
            "placeholder": "​",
            "style": "IPY_MODEL_e681f863b2224978a6840b7bbe6672be",
            "value": "Downloading (…)okenizer_config.json: 100%"
          }
        },
        "a068287be04c46478cdf70df367c218d": {
          "model_module": "@jupyter-widgets/controls",
          "model_name": "FloatProgressModel",
          "model_module_version": "1.5.0",
          "state": {
            "_dom_classes": [],
            "_model_module": "@jupyter-widgets/controls",
            "_model_module_version": "1.5.0",
            "_model_name": "FloatProgressModel",
            "_view_count": null,
            "_view_module": "@jupyter-widgets/controls",
            "_view_module_version": "1.5.0",
            "_view_name": "ProgressView",
            "bar_style": "success",
            "description": "",
            "description_tooltip": null,
            "layout": "IPY_MODEL_3ddd4124a4174c2e8d8c985c76b0947f",
            "max": 110,
            "min": 0,
            "orientation": "horizontal",
            "style": "IPY_MODEL_64013a82b8fc441b922ef596e79afa9c",
            "value": 110
          }
        },
        "efb6886c523b4941b203a6805d40a02e": {
          "model_module": "@jupyter-widgets/controls",
          "model_name": "HTMLModel",
          "model_module_version": "1.5.0",
          "state": {
            "_dom_classes": [],
            "_model_module": "@jupyter-widgets/controls",
            "_model_module_version": "1.5.0",
            "_model_name": "HTMLModel",
            "_view_count": null,
            "_view_module": "@jupyter-widgets/controls",
            "_view_module_version": "1.5.0",
            "_view_name": "HTMLView",
            "description": "",
            "description_tooltip": null,
            "layout": "IPY_MODEL_30b8609f135a45918aabc6cd50c026ca",
            "placeholder": "​",
            "style": "IPY_MODEL_e361bdcd6a1f4c44aef247b4b98f950c",
            "value": " 110/110 [00:00&lt;00:00, 2.23kB/s]"
          }
        },
        "ee21fcc8f9f44510b8de99322f43d998": {
          "model_module": "@jupyter-widgets/base",
          "model_name": "LayoutModel",
          "model_module_version": "1.2.0",
          "state": {
            "_model_module": "@jupyter-widgets/base",
            "_model_module_version": "1.2.0",
            "_model_name": "LayoutModel",
            "_view_count": null,
            "_view_module": "@jupyter-widgets/base",
            "_view_module_version": "1.2.0",
            "_view_name": "LayoutView",
            "align_content": null,
            "align_items": null,
            "align_self": null,
            "border": null,
            "bottom": null,
            "display": null,
            "flex": null,
            "flex_flow": null,
            "grid_area": null,
            "grid_auto_columns": null,
            "grid_auto_flow": null,
            "grid_auto_rows": null,
            "grid_column": null,
            "grid_gap": null,
            "grid_row": null,
            "grid_template_areas": null,
            "grid_template_columns": null,
            "grid_template_rows": null,
            "height": null,
            "justify_content": null,
            "justify_items": null,
            "left": null,
            "margin": null,
            "max_height": null,
            "max_width": null,
            "min_height": null,
            "min_width": null,
            "object_fit": null,
            "object_position": null,
            "order": null,
            "overflow": null,
            "overflow_x": null,
            "overflow_y": null,
            "padding": null,
            "right": null,
            "top": null,
            "visibility": null,
            "width": null
          }
        },
        "7aef06db07a448578579077c8c086a5b": {
          "model_module": "@jupyter-widgets/base",
          "model_name": "LayoutModel",
          "model_module_version": "1.2.0",
          "state": {
            "_model_module": "@jupyter-widgets/base",
            "_model_module_version": "1.2.0",
            "_model_name": "LayoutModel",
            "_view_count": null,
            "_view_module": "@jupyter-widgets/base",
            "_view_module_version": "1.2.0",
            "_view_name": "LayoutView",
            "align_content": null,
            "align_items": null,
            "align_self": null,
            "border": null,
            "bottom": null,
            "display": null,
            "flex": null,
            "flex_flow": null,
            "grid_area": null,
            "grid_auto_columns": null,
            "grid_auto_flow": null,
            "grid_auto_rows": null,
            "grid_column": null,
            "grid_gap": null,
            "grid_row": null,
            "grid_template_areas": null,
            "grid_template_columns": null,
            "grid_template_rows": null,
            "height": null,
            "justify_content": null,
            "justify_items": null,
            "left": null,
            "margin": null,
            "max_height": null,
            "max_width": null,
            "min_height": null,
            "min_width": null,
            "object_fit": null,
            "object_position": null,
            "order": null,
            "overflow": null,
            "overflow_x": null,
            "overflow_y": null,
            "padding": null,
            "right": null,
            "top": null,
            "visibility": null,
            "width": null
          }
        },
        "e681f863b2224978a6840b7bbe6672be": {
          "model_module": "@jupyter-widgets/controls",
          "model_name": "DescriptionStyleModel",
          "model_module_version": "1.5.0",
          "state": {
            "_model_module": "@jupyter-widgets/controls",
            "_model_module_version": "1.5.0",
            "_model_name": "DescriptionStyleModel",
            "_view_count": null,
            "_view_module": "@jupyter-widgets/base",
            "_view_module_version": "1.2.0",
            "_view_name": "StyleView",
            "description_width": ""
          }
        },
        "3ddd4124a4174c2e8d8c985c76b0947f": {
          "model_module": "@jupyter-widgets/base",
          "model_name": "LayoutModel",
          "model_module_version": "1.2.0",
          "state": {
            "_model_module": "@jupyter-widgets/base",
            "_model_module_version": "1.2.0",
            "_model_name": "LayoutModel",
            "_view_count": null,
            "_view_module": "@jupyter-widgets/base",
            "_view_module_version": "1.2.0",
            "_view_name": "LayoutView",
            "align_content": null,
            "align_items": null,
            "align_self": null,
            "border": null,
            "bottom": null,
            "display": null,
            "flex": null,
            "flex_flow": null,
            "grid_area": null,
            "grid_auto_columns": null,
            "grid_auto_flow": null,
            "grid_auto_rows": null,
            "grid_column": null,
            "grid_gap": null,
            "grid_row": null,
            "grid_template_areas": null,
            "grid_template_columns": null,
            "grid_template_rows": null,
            "height": null,
            "justify_content": null,
            "justify_items": null,
            "left": null,
            "margin": null,
            "max_height": null,
            "max_width": null,
            "min_height": null,
            "min_width": null,
            "object_fit": null,
            "object_position": null,
            "order": null,
            "overflow": null,
            "overflow_x": null,
            "overflow_y": null,
            "padding": null,
            "right": null,
            "top": null,
            "visibility": null,
            "width": null
          }
        },
        "64013a82b8fc441b922ef596e79afa9c": {
          "model_module": "@jupyter-widgets/controls",
          "model_name": "ProgressStyleModel",
          "model_module_version": "1.5.0",
          "state": {
            "_model_module": "@jupyter-widgets/controls",
            "_model_module_version": "1.5.0",
            "_model_name": "ProgressStyleModel",
            "_view_count": null,
            "_view_module": "@jupyter-widgets/base",
            "_view_module_version": "1.2.0",
            "_view_name": "StyleView",
            "bar_color": null,
            "description_width": ""
          }
        },
        "30b8609f135a45918aabc6cd50c026ca": {
          "model_module": "@jupyter-widgets/base",
          "model_name": "LayoutModel",
          "model_module_version": "1.2.0",
          "state": {
            "_model_module": "@jupyter-widgets/base",
            "_model_module_version": "1.2.0",
            "_model_name": "LayoutModel",
            "_view_count": null,
            "_view_module": "@jupyter-widgets/base",
            "_view_module_version": "1.2.0",
            "_view_name": "LayoutView",
            "align_content": null,
            "align_items": null,
            "align_self": null,
            "border": null,
            "bottom": null,
            "display": null,
            "flex": null,
            "flex_flow": null,
            "grid_area": null,
            "grid_auto_columns": null,
            "grid_auto_flow": null,
            "grid_auto_rows": null,
            "grid_column": null,
            "grid_gap": null,
            "grid_row": null,
            "grid_template_areas": null,
            "grid_template_columns": null,
            "grid_template_rows": null,
            "height": null,
            "justify_content": null,
            "justify_items": null,
            "left": null,
            "margin": null,
            "max_height": null,
            "max_width": null,
            "min_height": null,
            "min_width": null,
            "object_fit": null,
            "object_position": null,
            "order": null,
            "overflow": null,
            "overflow_x": null,
            "overflow_y": null,
            "padding": null,
            "right": null,
            "top": null,
            "visibility": null,
            "width": null
          }
        },
        "e361bdcd6a1f4c44aef247b4b98f950c": {
          "model_module": "@jupyter-widgets/controls",
          "model_name": "DescriptionStyleModel",
          "model_module_version": "1.5.0",
          "state": {
            "_model_module": "@jupyter-widgets/controls",
            "_model_module_version": "1.5.0",
            "_model_name": "DescriptionStyleModel",
            "_view_count": null,
            "_view_module": "@jupyter-widgets/base",
            "_view_module_version": "1.2.0",
            "_view_name": "StyleView",
            "description_width": ""
          }
        },
        "45117d8496374c2aa5a4922aab1023d9": {
          "model_module": "@jupyter-widgets/controls",
          "model_name": "HBoxModel",
          "model_module_version": "1.5.0",
          "state": {
            "_dom_classes": [],
            "_model_module": "@jupyter-widgets/controls",
            "_model_module_version": "1.5.0",
            "_model_name": "HBoxModel",
            "_view_count": null,
            "_view_module": "@jupyter-widgets/controls",
            "_view_module_version": "1.5.0",
            "_view_name": "HBoxView",
            "box_style": "",
            "children": [
              "IPY_MODEL_aea77e6a304842d1b0933043d1ed0b25",
              "IPY_MODEL_03cf649a41bc4f358ae0982cb92e26ca",
              "IPY_MODEL_272c69001c4c498faf55bc9b3721d12b"
            ],
            "layout": "IPY_MODEL_9bcb4e2f9685497290d4c2bb7071a3c8"
          }
        },
        "aea77e6a304842d1b0933043d1ed0b25": {
          "model_module": "@jupyter-widgets/controls",
          "model_name": "HTMLModel",
          "model_module_version": "1.5.0",
          "state": {
            "_dom_classes": [],
            "_model_module": "@jupyter-widgets/controls",
            "_model_module_version": "1.5.0",
            "_model_name": "HTMLModel",
            "_view_count": null,
            "_view_module": "@jupyter-widgets/controls",
            "_view_module_version": "1.5.0",
            "_view_name": "HTMLView",
            "description": "",
            "description_tooltip": null,
            "layout": "IPY_MODEL_9d478105e4744ffea525a6669b3aba2d",
            "placeholder": "​",
            "style": "IPY_MODEL_8e7f328987634a119b8bbb165c486dc7",
            "value": "Downloading (…)solve/main/vocab.txt: 100%"
          }
        },
        "03cf649a41bc4f358ae0982cb92e26ca": {
          "model_module": "@jupyter-widgets/controls",
          "model_name": "FloatProgressModel",
          "model_module_version": "1.5.0",
          "state": {
            "_dom_classes": [],
            "_model_module": "@jupyter-widgets/controls",
            "_model_module_version": "1.5.0",
            "_model_name": "FloatProgressModel",
            "_view_count": null,
            "_view_module": "@jupyter-widgets/controls",
            "_view_module_version": "1.5.0",
            "_view_name": "ProgressView",
            "bar_style": "success",
            "description": "",
            "description_tooltip": null,
            "layout": "IPY_MODEL_670b89ffef524c8c86926a30b62d0910",
            "max": 257706,
            "min": 0,
            "orientation": "horizontal",
            "style": "IPY_MODEL_c8c0802a188c4d1aa8f5015517ddb81f",
            "value": 257706
          }
        },
        "272c69001c4c498faf55bc9b3721d12b": {
          "model_module": "@jupyter-widgets/controls",
          "model_name": "HTMLModel",
          "model_module_version": "1.5.0",
          "state": {
            "_dom_classes": [],
            "_model_module": "@jupyter-widgets/controls",
            "_model_module_version": "1.5.0",
            "_model_name": "HTMLModel",
            "_view_count": null,
            "_view_module": "@jupyter-widgets/controls",
            "_view_module_version": "1.5.0",
            "_view_name": "HTMLView",
            "description": "",
            "description_tooltip": null,
            "layout": "IPY_MODEL_82e14bd7a5dd4d2091b38615177e694e",
            "placeholder": "​",
            "style": "IPY_MODEL_dcc577879f954b3a9fd2eb5ff31d9a13",
            "value": " 258k/258k [00:00&lt;00:00, 4.24MB/s]"
          }
        },
        "9bcb4e2f9685497290d4c2bb7071a3c8": {
          "model_module": "@jupyter-widgets/base",
          "model_name": "LayoutModel",
          "model_module_version": "1.2.0",
          "state": {
            "_model_module": "@jupyter-widgets/base",
            "_model_module_version": "1.2.0",
            "_model_name": "LayoutModel",
            "_view_count": null,
            "_view_module": "@jupyter-widgets/base",
            "_view_module_version": "1.2.0",
            "_view_name": "LayoutView",
            "align_content": null,
            "align_items": null,
            "align_self": null,
            "border": null,
            "bottom": null,
            "display": null,
            "flex": null,
            "flex_flow": null,
            "grid_area": null,
            "grid_auto_columns": null,
            "grid_auto_flow": null,
            "grid_auto_rows": null,
            "grid_column": null,
            "grid_gap": null,
            "grid_row": null,
            "grid_template_areas": null,
            "grid_template_columns": null,
            "grid_template_rows": null,
            "height": null,
            "justify_content": null,
            "justify_items": null,
            "left": null,
            "margin": null,
            "max_height": null,
            "max_width": null,
            "min_height": null,
            "min_width": null,
            "object_fit": null,
            "object_position": null,
            "order": null,
            "overflow": null,
            "overflow_x": null,
            "overflow_y": null,
            "padding": null,
            "right": null,
            "top": null,
            "visibility": null,
            "width": null
          }
        },
        "9d478105e4744ffea525a6669b3aba2d": {
          "model_module": "@jupyter-widgets/base",
          "model_name": "LayoutModel",
          "model_module_version": "1.2.0",
          "state": {
            "_model_module": "@jupyter-widgets/base",
            "_model_module_version": "1.2.0",
            "_model_name": "LayoutModel",
            "_view_count": null,
            "_view_module": "@jupyter-widgets/base",
            "_view_module_version": "1.2.0",
            "_view_name": "LayoutView",
            "align_content": null,
            "align_items": null,
            "align_self": null,
            "border": null,
            "bottom": null,
            "display": null,
            "flex": null,
            "flex_flow": null,
            "grid_area": null,
            "grid_auto_columns": null,
            "grid_auto_flow": null,
            "grid_auto_rows": null,
            "grid_column": null,
            "grid_gap": null,
            "grid_row": null,
            "grid_template_areas": null,
            "grid_template_columns": null,
            "grid_template_rows": null,
            "height": null,
            "justify_content": null,
            "justify_items": null,
            "left": null,
            "margin": null,
            "max_height": null,
            "max_width": null,
            "min_height": null,
            "min_width": null,
            "object_fit": null,
            "object_position": null,
            "order": null,
            "overflow": null,
            "overflow_x": null,
            "overflow_y": null,
            "padding": null,
            "right": null,
            "top": null,
            "visibility": null,
            "width": null
          }
        },
        "8e7f328987634a119b8bbb165c486dc7": {
          "model_module": "@jupyter-widgets/controls",
          "model_name": "DescriptionStyleModel",
          "model_module_version": "1.5.0",
          "state": {
            "_model_module": "@jupyter-widgets/controls",
            "_model_module_version": "1.5.0",
            "_model_name": "DescriptionStyleModel",
            "_view_count": null,
            "_view_module": "@jupyter-widgets/base",
            "_view_module_version": "1.2.0",
            "_view_name": "StyleView",
            "description_width": ""
          }
        },
        "670b89ffef524c8c86926a30b62d0910": {
          "model_module": "@jupyter-widgets/base",
          "model_name": "LayoutModel",
          "model_module_version": "1.2.0",
          "state": {
            "_model_module": "@jupyter-widgets/base",
            "_model_module_version": "1.2.0",
            "_model_name": "LayoutModel",
            "_view_count": null,
            "_view_module": "@jupyter-widgets/base",
            "_view_module_version": "1.2.0",
            "_view_name": "LayoutView",
            "align_content": null,
            "align_items": null,
            "align_self": null,
            "border": null,
            "bottom": null,
            "display": null,
            "flex": null,
            "flex_flow": null,
            "grid_area": null,
            "grid_auto_columns": null,
            "grid_auto_flow": null,
            "grid_auto_rows": null,
            "grid_column": null,
            "grid_gap": null,
            "grid_row": null,
            "grid_template_areas": null,
            "grid_template_columns": null,
            "grid_template_rows": null,
            "height": null,
            "justify_content": null,
            "justify_items": null,
            "left": null,
            "margin": null,
            "max_height": null,
            "max_width": null,
            "min_height": null,
            "min_width": null,
            "object_fit": null,
            "object_position": null,
            "order": null,
            "overflow": null,
            "overflow_x": null,
            "overflow_y": null,
            "padding": null,
            "right": null,
            "top": null,
            "visibility": null,
            "width": null
          }
        },
        "c8c0802a188c4d1aa8f5015517ddb81f": {
          "model_module": "@jupyter-widgets/controls",
          "model_name": "ProgressStyleModel",
          "model_module_version": "1.5.0",
          "state": {
            "_model_module": "@jupyter-widgets/controls",
            "_model_module_version": "1.5.0",
            "_model_name": "ProgressStyleModel",
            "_view_count": null,
            "_view_module": "@jupyter-widgets/base",
            "_view_module_version": "1.2.0",
            "_view_name": "StyleView",
            "bar_color": null,
            "description_width": ""
          }
        },
        "82e14bd7a5dd4d2091b38615177e694e": {
          "model_module": "@jupyter-widgets/base",
          "model_name": "LayoutModel",
          "model_module_version": "1.2.0",
          "state": {
            "_model_module": "@jupyter-widgets/base",
            "_model_module_version": "1.2.0",
            "_model_name": "LayoutModel",
            "_view_count": null,
            "_view_module": "@jupyter-widgets/base",
            "_view_module_version": "1.2.0",
            "_view_name": "LayoutView",
            "align_content": null,
            "align_items": null,
            "align_self": null,
            "border": null,
            "bottom": null,
            "display": null,
            "flex": null,
            "flex_flow": null,
            "grid_area": null,
            "grid_auto_columns": null,
            "grid_auto_flow": null,
            "grid_auto_rows": null,
            "grid_column": null,
            "grid_gap": null,
            "grid_row": null,
            "grid_template_areas": null,
            "grid_template_columns": null,
            "grid_template_rows": null,
            "height": null,
            "justify_content": null,
            "justify_items": null,
            "left": null,
            "margin": null,
            "max_height": null,
            "max_width": null,
            "min_height": null,
            "min_width": null,
            "object_fit": null,
            "object_position": null,
            "order": null,
            "overflow": null,
            "overflow_x": null,
            "overflow_y": null,
            "padding": null,
            "right": null,
            "top": null,
            "visibility": null,
            "width": null
          }
        },
        "dcc577879f954b3a9fd2eb5ff31d9a13": {
          "model_module": "@jupyter-widgets/controls",
          "model_name": "DescriptionStyleModel",
          "model_module_version": "1.5.0",
          "state": {
            "_model_module": "@jupyter-widgets/controls",
            "_model_module_version": "1.5.0",
            "_model_name": "DescriptionStyleModel",
            "_view_count": null,
            "_view_module": "@jupyter-widgets/base",
            "_view_module_version": "1.2.0",
            "_view_name": "StyleView",
            "description_width": ""
          }
        }
      }
    }
  },
  "cells": [
    {
      "cell_type": "markdown",
      "metadata": {
        "id": "view-in-github",
        "colab_type": "text"
      },
      "source": [
        "<a href=\"https://colab.research.google.com/github/kei2/colab/blob/main/HuggingfaceTransformers%E3%83%A2%E3%83%87%E3%83%AB%E3%81%AE%E4%BD%BF%E3%81%84%E6%96%B9.ipynb\" target=\"_parent\"><img src=\"https://colab.research.google.com/assets/colab-badge.svg\" alt=\"Open In Colab\"/></a>"
      ]
    },
    {
      "cell_type": "markdown",
      "source": [
        "# Huggingface Transformersモデルの使い方\n",
        "\n",
        "参考: https://tt-tsukumochi.com/archives/4948"
      ],
      "metadata": {
        "id": "8kcEUKD0Twio"
      }
    },
    {
      "cell_type": "code",
      "execution_count": 1,
      "metadata": {
        "colab": {
          "base_uri": "https://localhost:8080/"
        },
        "id": "81ZFA8zoTh_N",
        "outputId": "ee62578f-ee79-4b2f-fd98-81787a9bb30f"
      },
      "outputs": [
        {
          "output_type": "stream",
          "name": "stdout",
          "text": [
            "Collecting transformers\n",
            "  Downloading transformers-4.31.0-py3-none-any.whl (7.4 MB)\n",
            "\u001b[2K     \u001b[90m━━━━━━━━━━━━━━━━━━━━━━━━━━━━━━━━━━━━━━━━\u001b[0m \u001b[32m7.4/7.4 MB\u001b[0m \u001b[31m55.7 MB/s\u001b[0m eta \u001b[36m0:00:00\u001b[0m\n",
            "\u001b[?25hRequirement already satisfied: filelock in /usr/local/lib/python3.10/dist-packages (from transformers) (3.12.2)\n",
            "Collecting huggingface-hub<1.0,>=0.14.1 (from transformers)\n",
            "  Downloading huggingface_hub-0.16.4-py3-none-any.whl (268 kB)\n",
            "\u001b[2K     \u001b[90m━━━━━━━━━━━━━━━━━━━━━━━━━━━━━━━━━━━━━━\u001b[0m \u001b[32m268.8/268.8 kB\u001b[0m \u001b[31m31.0 MB/s\u001b[0m eta \u001b[36m0:00:00\u001b[0m\n",
            "\u001b[?25hRequirement already satisfied: numpy>=1.17 in /usr/local/lib/python3.10/dist-packages (from transformers) (1.23.5)\n",
            "Requirement already satisfied: packaging>=20.0 in /usr/local/lib/python3.10/dist-packages (from transformers) (23.1)\n",
            "Requirement already satisfied: pyyaml>=5.1 in /usr/local/lib/python3.10/dist-packages (from transformers) (6.0.1)\n",
            "Requirement already satisfied: regex!=2019.12.17 in /usr/local/lib/python3.10/dist-packages (from transformers) (2023.6.3)\n",
            "Requirement already satisfied: requests in /usr/local/lib/python3.10/dist-packages (from transformers) (2.31.0)\n",
            "Collecting tokenizers!=0.11.3,<0.14,>=0.11.1 (from transformers)\n",
            "  Downloading tokenizers-0.13.3-cp310-cp310-manylinux_2_17_x86_64.manylinux2014_x86_64.whl (7.8 MB)\n",
            "\u001b[2K     \u001b[90m━━━━━━━━━━━━━━━━━━━━━━━━━━━━━━━━━━━━━━━━\u001b[0m \u001b[32m7.8/7.8 MB\u001b[0m \u001b[31m104.2 MB/s\u001b[0m eta \u001b[36m0:00:00\u001b[0m\n",
            "\u001b[?25hCollecting safetensors>=0.3.1 (from transformers)\n",
            "  Downloading safetensors-0.3.2-cp310-cp310-manylinux_2_17_x86_64.manylinux2014_x86_64.whl (1.3 MB)\n",
            "\u001b[2K     \u001b[90m━━━━━━━━━━━━━━━━━━━━━━━━━━━━━━━━━━━━━━━━\u001b[0m \u001b[32m1.3/1.3 MB\u001b[0m \u001b[31m60.0 MB/s\u001b[0m eta \u001b[36m0:00:00\u001b[0m\n",
            "\u001b[?25hRequirement already satisfied: tqdm>=4.27 in /usr/local/lib/python3.10/dist-packages (from transformers) (4.66.0)\n",
            "Requirement already satisfied: fsspec in /usr/local/lib/python3.10/dist-packages (from huggingface-hub<1.0,>=0.14.1->transformers) (2023.6.0)\n",
            "Requirement already satisfied: typing-extensions>=3.7.4.3 in /usr/local/lib/python3.10/dist-packages (from huggingface-hub<1.0,>=0.14.1->transformers) (4.7.1)\n",
            "Requirement already satisfied: charset-normalizer<4,>=2 in /usr/local/lib/python3.10/dist-packages (from requests->transformers) (3.2.0)\n",
            "Requirement already satisfied: idna<4,>=2.5 in /usr/local/lib/python3.10/dist-packages (from requests->transformers) (3.4)\n",
            "Requirement already satisfied: urllib3<3,>=1.21.1 in /usr/local/lib/python3.10/dist-packages (from requests->transformers) (2.0.4)\n",
            "Requirement already satisfied: certifi>=2017.4.17 in /usr/local/lib/python3.10/dist-packages (from requests->transformers) (2023.7.22)\n",
            "Installing collected packages: tokenizers, safetensors, huggingface-hub, transformers\n",
            "Successfully installed huggingface-hub-0.16.4 safetensors-0.3.2 tokenizers-0.13.3 transformers-4.31.0\n"
          ]
        }
      ],
      "source": [
        "!pip install transformers"
      ]
    },
    {
      "cell_type": "markdown",
      "source": [
        "HuggingFace に登録されているモデルの一覧: https://huggingface.co/models\n",
        "\n",
        "ここでは東北大学が作成した日本語用のBERTベースのモデルを利用"
      ],
      "metadata": {
        "id": "jH2qj8U1VOd-"
      }
    },
    {
      "cell_type": "code",
      "source": [
        "from transformers import AutoModel\n",
        "\n",
        "checkpoint = 'cl-tohoku/bert-base-japanese-whole-word-masking'\n",
        "model = AutoModel.from_pretrained(checkpoint)\n",
        "\n",
        "print(model)"
      ],
      "metadata": {
        "colab": {
          "base_uri": "https://localhost:8080/"
        },
        "id": "DxAmDu3fULHr",
        "outputId": "cbea8713-5dc5-4ece-96f5-4486697912f6"
      },
      "execution_count": 4,
      "outputs": [
        {
          "output_type": "stream",
          "name": "stdout",
          "text": [
            "BertModel(\n",
            "  (embeddings): BertEmbeddings(\n",
            "    (word_embeddings): Embedding(32000, 768, padding_idx=0)\n",
            "    (position_embeddings): Embedding(512, 768)\n",
            "    (token_type_embeddings): Embedding(2, 768)\n",
            "    (LayerNorm): LayerNorm((768,), eps=1e-12, elementwise_affine=True)\n",
            "    (dropout): Dropout(p=0.1, inplace=False)\n",
            "  )\n",
            "  (encoder): BertEncoder(\n",
            "    (layer): ModuleList(\n",
            "      (0-11): 12 x BertLayer(\n",
            "        (attention): BertAttention(\n",
            "          (self): BertSelfAttention(\n",
            "            (query): Linear(in_features=768, out_features=768, bias=True)\n",
            "            (key): Linear(in_features=768, out_features=768, bias=True)\n",
            "            (value): Linear(in_features=768, out_features=768, bias=True)\n",
            "            (dropout): Dropout(p=0.1, inplace=False)\n",
            "          )\n",
            "          (output): BertSelfOutput(\n",
            "            (dense): Linear(in_features=768, out_features=768, bias=True)\n",
            "            (LayerNorm): LayerNorm((768,), eps=1e-12, elementwise_affine=True)\n",
            "            (dropout): Dropout(p=0.1, inplace=False)\n",
            "          )\n",
            "        )\n",
            "        (intermediate): BertIntermediate(\n",
            "          (dense): Linear(in_features=768, out_features=3072, bias=True)\n",
            "          (intermediate_act_fn): GELUActivation()\n",
            "        )\n",
            "        (output): BertOutput(\n",
            "          (dense): Linear(in_features=3072, out_features=768, bias=True)\n",
            "          (LayerNorm): LayerNorm((768,), eps=1e-12, elementwise_affine=True)\n",
            "          (dropout): Dropout(p=0.1, inplace=False)\n",
            "        )\n",
            "      )\n",
            "    )\n",
            "  )\n",
            "  (pooler): BertPooler(\n",
            "    (dense): Linear(in_features=768, out_features=768, bias=True)\n",
            "    (activation): Tanh()\n",
            "  )\n",
            ")\n"
          ]
        }
      ]
    },
    {
      "cell_type": "markdown",
      "source": [
        "明示的にBERTを指定してモデルを作ってみる例"
      ],
      "metadata": {
        "id": "nJA3e12iXka3"
      }
    },
    {
      "cell_type": "code",
      "source": [
        "from transformers import BertConfig, BertModel\n",
        "config = BertConfig()\n",
        "print(config)\n",
        "\n"
      ],
      "metadata": {
        "colab": {
          "base_uri": "https://localhost:8080/"
        },
        "id": "B7uDgdbjVJVz",
        "outputId": "ce3a6e87-8737-4afd-9c7a-9487615abcb6"
      },
      "execution_count": 5,
      "outputs": [
        {
          "output_type": "stream",
          "name": "stdout",
          "text": [
            "BertConfig {\n",
            "  \"attention_probs_dropout_prob\": 0.1,\n",
            "  \"classifier_dropout\": null,\n",
            "  \"hidden_act\": \"gelu\",\n",
            "  \"hidden_dropout_prob\": 0.1,\n",
            "  \"hidden_size\": 768,\n",
            "  \"initializer_range\": 0.02,\n",
            "  \"intermediate_size\": 3072,\n",
            "  \"layer_norm_eps\": 1e-12,\n",
            "  \"max_position_embeddings\": 512,\n",
            "  \"model_type\": \"bert\",\n",
            "  \"num_attention_heads\": 12,\n",
            "  \"num_hidden_layers\": 12,\n",
            "  \"pad_token_id\": 0,\n",
            "  \"position_embedding_type\": \"absolute\",\n",
            "  \"transformers_version\": \"4.31.0\",\n",
            "  \"type_vocab_size\": 2,\n",
            "  \"use_cache\": true,\n",
            "  \"vocab_size\": 30522\n",
            "}\n",
            "\n"
          ]
        }
      ]
    },
    {
      "cell_type": "code",
      "source": [
        "model2 = BertModel.from_pretrained(checkpoint)\n",
        "print(model2)"
      ],
      "metadata": {
        "colab": {
          "base_uri": "https://localhost:8080/"
        },
        "id": "X5KXOBX0Wv0w",
        "outputId": "ad1d4330-8e2a-428d-f2c8-71433bd04cde"
      },
      "execution_count": 7,
      "outputs": [
        {
          "output_type": "stream",
          "name": "stdout",
          "text": [
            "BertModel(\n",
            "  (embeddings): BertEmbeddings(\n",
            "    (word_embeddings): Embedding(32000, 768, padding_idx=0)\n",
            "    (position_embeddings): Embedding(512, 768)\n",
            "    (token_type_embeddings): Embedding(2, 768)\n",
            "    (LayerNorm): LayerNorm((768,), eps=1e-12, elementwise_affine=True)\n",
            "    (dropout): Dropout(p=0.1, inplace=False)\n",
            "  )\n",
            "  (encoder): BertEncoder(\n",
            "    (layer): ModuleList(\n",
            "      (0-11): 12 x BertLayer(\n",
            "        (attention): BertAttention(\n",
            "          (self): BertSelfAttention(\n",
            "            (query): Linear(in_features=768, out_features=768, bias=True)\n",
            "            (key): Linear(in_features=768, out_features=768, bias=True)\n",
            "            (value): Linear(in_features=768, out_features=768, bias=True)\n",
            "            (dropout): Dropout(p=0.1, inplace=False)\n",
            "          )\n",
            "          (output): BertSelfOutput(\n",
            "            (dense): Linear(in_features=768, out_features=768, bias=True)\n",
            "            (LayerNorm): LayerNorm((768,), eps=1e-12, elementwise_affine=True)\n",
            "            (dropout): Dropout(p=0.1, inplace=False)\n",
            "          )\n",
            "        )\n",
            "        (intermediate): BertIntermediate(\n",
            "          (dense): Linear(in_features=768, out_features=3072, bias=True)\n",
            "          (intermediate_act_fn): GELUActivation()\n",
            "        )\n",
            "        (output): BertOutput(\n",
            "          (dense): Linear(in_features=3072, out_features=768, bias=True)\n",
            "          (LayerNorm): LayerNorm((768,), eps=1e-12, elementwise_affine=True)\n",
            "          (dropout): Dropout(p=0.1, inplace=False)\n",
            "        )\n",
            "      )\n",
            "    )\n",
            "  )\n",
            "  (pooler): BertPooler(\n",
            "    (dense): Linear(in_features=768, out_features=768, bias=True)\n",
            "    (activation): Tanh()\n",
            "  )\n",
            ")\n"
          ]
        }
      ]
    },
    {
      "cell_type": "markdown",
      "source": [
        "どっちのやり方でモデルのインスタンスを作っても良さそう\n",
        "\n",
        "modelをローカルに保存してみる"
      ],
      "metadata": {
        "id": "FaMdZe1sXFJv"
      }
    },
    {
      "cell_type": "code",
      "source": [
        "model.save_pretrained(\"./tmp\")"
      ],
      "metadata": {
        "id": "e9tVCxmuXNRw"
      },
      "execution_count": 8,
      "outputs": []
    },
    {
      "cell_type": "markdown",
      "source": [
        "/content/tmp 以下に、config.json と pytorch_model.bin の2つのファイルができる\n",
        "\n",
        "このファイルを読み込んでみる"
      ],
      "metadata": {
        "id": "RitWspJWYAql"
      }
    },
    {
      "cell_type": "code",
      "source": [
        "saved_model = model.from_pretrained(\"./tmp\")\n",
        "print(saved_model)"
      ],
      "metadata": {
        "colab": {
          "base_uri": "https://localhost:8080/"
        },
        "id": "8IJ3tDyAYMCv",
        "outputId": "864cb7aa-e3d8-402c-c87d-b16ae24059c7"
      },
      "execution_count": 9,
      "outputs": [
        {
          "output_type": "stream",
          "name": "stdout",
          "text": [
            "BertModel(\n",
            "  (embeddings): BertEmbeddings(\n",
            "    (word_embeddings): Embedding(32000, 768, padding_idx=0)\n",
            "    (position_embeddings): Embedding(512, 768)\n",
            "    (token_type_embeddings): Embedding(2, 768)\n",
            "    (LayerNorm): LayerNorm((768,), eps=1e-12, elementwise_affine=True)\n",
            "    (dropout): Dropout(p=0.1, inplace=False)\n",
            "  )\n",
            "  (encoder): BertEncoder(\n",
            "    (layer): ModuleList(\n",
            "      (0-11): 12 x BertLayer(\n",
            "        (attention): BertAttention(\n",
            "          (self): BertSelfAttention(\n",
            "            (query): Linear(in_features=768, out_features=768, bias=True)\n",
            "            (key): Linear(in_features=768, out_features=768, bias=True)\n",
            "            (value): Linear(in_features=768, out_features=768, bias=True)\n",
            "            (dropout): Dropout(p=0.1, inplace=False)\n",
            "          )\n",
            "          (output): BertSelfOutput(\n",
            "            (dense): Linear(in_features=768, out_features=768, bias=True)\n",
            "            (LayerNorm): LayerNorm((768,), eps=1e-12, elementwise_affine=True)\n",
            "            (dropout): Dropout(p=0.1, inplace=False)\n",
            "          )\n",
            "        )\n",
            "        (intermediate): BertIntermediate(\n",
            "          (dense): Linear(in_features=768, out_features=3072, bias=True)\n",
            "          (intermediate_act_fn): GELUActivation()\n",
            "        )\n",
            "        (output): BertOutput(\n",
            "          (dense): Linear(in_features=3072, out_features=768, bias=True)\n",
            "          (LayerNorm): LayerNorm((768,), eps=1e-12, elementwise_affine=True)\n",
            "          (dropout): Dropout(p=0.1, inplace=False)\n",
            "        )\n",
            "      )\n",
            "    )\n",
            "  )\n",
            "  (pooler): BertPooler(\n",
            "    (dense): Linear(in_features=768, out_features=768, bias=True)\n",
            "    (activation): Tanh()\n",
            "  )\n",
            ")\n"
          ]
        }
      ]
    },
    {
      "cell_type": "markdown",
      "source": [
        "\n",
        "\n",
        "---\n",
        "\n",
        "## WordPieceによるトークン化\n",
        "\n",
        "サブワードトークンのアルゴリズムの例として、BERTのトークナイザーで使われているWordPieceがあります"
      ],
      "metadata": {
        "id": "j8imEIvJY9e8"
      }
    },
    {
      "cell_type": "code",
      "source": [
        "from transformers import AutoTokenizer\n",
        "\n",
        "model_ckpt = \"distilbert-base-uncased\"\n",
        "tokenizer = AutoTokenizer.from_pretrained(model_ckpt)\n",
        "print(tokenizer)"
      ],
      "metadata": {
        "colab": {
          "base_uri": "https://localhost:8080/",
          "height": 182,
          "referenced_widgets": [
            "d86783f1a0fd4f7789da3022725833d6",
            "fff4e97fc3944306a8adca54ebd8206e",
            "e44cae21bef04748bd323d794474a4cb",
            "fe19ff3765b6468ca2f3ce419cee5c50",
            "41e771c9d9c245ee8698e9baaaa9ead3",
            "eb1750efacd44412b41ab94a7c8680c9",
            "12db90a7f9294e6aa4d889f46bf4ab3a",
            "ed780e8df9ac4337a04b803b259fb1e6",
            "3130b24d615a49a596d300b8567557a2",
            "e21e8eaf9dec40dcb2560ce1177dd5d5",
            "c113662b9026469c8b35f5e0efb1cfa1",
            "97644aa82d5b44d3996d0b7c62e1b05e",
            "bb383af75e864025a3dbd7de52dc8cc6",
            "f7f0c46423a04566bb79f8937bc22593",
            "f6114f0101be4a31824123af1d6a3261",
            "e8a1894af42b47a0ad35188d08b3c041",
            "36d4316a5ce24373a76bca1d49c58dbd",
            "8ab59788c49b462ab4a1076fc5452483",
            "dd6b0da0a9a9466eb930f94c46ed3536",
            "2c27dd50cb7c400083bc428a596a21b4",
            "cb4e86cd81fc44c887fe151db6da32fa",
            "df2ac992df5f420cb25b47dc39a99835",
            "4a9702cbcfce4fa9904d7445dbfeb4f7",
            "f85a4d2ad7664b9ca6284023722355c6",
            "ea7bef00a18e4ce0ac00254fcfd67cc2",
            "4f16b46a12874606b56141dab41b26a0",
            "bb1f11d3269e44b9a436adf84fc48dd8",
            "7a4cfe8a496e45ff8378fda602a6db59",
            "6752552de0ad4c44ba1f8316270bcc57",
            "7b1c96a353f84ba1b178dfb85be32f20",
            "5e57cb9014ca4105888e15218bb2112c",
            "9f2b608caf8746579253df1833727a81",
            "badcb87ad8d647ee992929020277e3cf",
            "42dfa0913a844d8aacbaa485b25d1c9a",
            "010f01526b344a05a903d78c9abf6a5c",
            "efbd376654a04ab29925400a9a750346",
            "2a0e4a0d3d114e0390e1e21360d6c201",
            "9bca14cafa6a48e680dbf610fa63d23f",
            "35157219aba54d079dd965b97a1d9e58",
            "b1443c4d1402479e8df625a74077f5a8",
            "d9b93beb901a4948a56d1f57ba05ccc7",
            "a7f36e65db6541109be7683a957fba16",
            "c076e66a324e44cd8078b4ccacc430de",
            "46aff50e90454a7e8f0c13e21a82bdd2"
          ]
        },
        "id": "ojqrtSqobgNK",
        "outputId": "b51ca2aa-8897-4f95-d489-e956b01b4ee6"
      },
      "execution_count": 10,
      "outputs": [
        {
          "output_type": "display_data",
          "data": {
            "text/plain": [
              "Downloading (…)okenizer_config.json:   0%|          | 0.00/28.0 [00:00<?, ?B/s]"
            ],
            "application/vnd.jupyter.widget-view+json": {
              "version_major": 2,
              "version_minor": 0,
              "model_id": "d86783f1a0fd4f7789da3022725833d6"
            }
          },
          "metadata": {}
        },
        {
          "output_type": "display_data",
          "data": {
            "text/plain": [
              "Downloading (…)lve/main/config.json:   0%|          | 0.00/483 [00:00<?, ?B/s]"
            ],
            "application/vnd.jupyter.widget-view+json": {
              "version_major": 2,
              "version_minor": 0,
              "model_id": "97644aa82d5b44d3996d0b7c62e1b05e"
            }
          },
          "metadata": {}
        },
        {
          "output_type": "display_data",
          "data": {
            "text/plain": [
              "Downloading (…)solve/main/vocab.txt:   0%|          | 0.00/232k [00:00<?, ?B/s]"
            ],
            "application/vnd.jupyter.widget-view+json": {
              "version_major": 2,
              "version_minor": 0,
              "model_id": "4a9702cbcfce4fa9904d7445dbfeb4f7"
            }
          },
          "metadata": {}
        },
        {
          "output_type": "display_data",
          "data": {
            "text/plain": [
              "Downloading (…)/main/tokenizer.json:   0%|          | 0.00/466k [00:00<?, ?B/s]"
            ],
            "application/vnd.jupyter.widget-view+json": {
              "version_major": 2,
              "version_minor": 0,
              "model_id": "42dfa0913a844d8aacbaa485b25d1c9a"
            }
          },
          "metadata": {}
        },
        {
          "output_type": "stream",
          "name": "stdout",
          "text": [
            "DistilBertTokenizerFast(name_or_path='distilbert-base-uncased', vocab_size=30522, model_max_length=512, is_fast=True, padding_side='right', truncation_side='right', special_tokens={'unk_token': '[UNK]', 'sep_token': '[SEP]', 'pad_token': '[PAD]', 'cls_token': '[CLS]', 'mask_token': '[MASK]'}, clean_up_tokenization_spaces=True)\n"
          ]
        }
      ]
    },
    {
      "cell_type": "code",
      "source": [
        "text = \"The brown cat jumps over the white dog.\"\n",
        "\n",
        "encoded_text = tokenizer(text)\n",
        "print(encoded_text)"
      ],
      "metadata": {
        "colab": {
          "base_uri": "https://localhost:8080/"
        },
        "id": "DxydtaAmcIeN",
        "outputId": "a6058569-d11b-41e0-be6c-4b9eb826812e"
      },
      "execution_count": 11,
      "outputs": [
        {
          "output_type": "stream",
          "name": "stdout",
          "text": [
            "{'input_ids': [101, 1996, 2829, 4937, 14523, 2058, 1996, 2317, 3899, 1012, 102], 'attention_mask': [1, 1, 1, 1, 1, 1, 1, 1, 1, 1, 1]}\n"
          ]
        }
      ]
    },
    {
      "cell_type": "code",
      "source": [
        "tokens = tokenizer.convert_ids_to_tokens(encoded_text.input_ids)\n",
        "print(tokens)\n",
        "print(tokenizer.convert_tokens_to_string(tokens))"
      ],
      "metadata": {
        "colab": {
          "base_uri": "https://localhost:8080/"
        },
        "id": "Vnq05yNCcbZj",
        "outputId": "92832cad-a6dd-4441-d6ad-e89320969596"
      },
      "execution_count": 13,
      "outputs": [
        {
          "output_type": "stream",
          "name": "stdout",
          "text": [
            "['[CLS]', 'the', 'brown', 'cat', 'jumps', 'over', 'the', 'white', 'dog', '.', '[SEP]']\n",
            "[CLS] the brown cat jumps over the white dog. [SEP]\n"
          ]
        }
      ]
    },
    {
      "cell_type": "markdown",
      "source": [
        "日本語のトークナイザーの例"
      ],
      "metadata": {
        "id": "GKo1yBBgc4c1"
      }
    },
    {
      "cell_type": "code",
      "source": [
        "!pip install transformers[ja]\n",
        "!pip install sentencepiece"
      ],
      "metadata": {
        "colab": {
          "base_uri": "https://localhost:8080/"
        },
        "id": "Fro9OMU-c7jg",
        "outputId": "3acf7ebe-1b27-4b96-908e-c1a643c3238d"
      },
      "execution_count": 14,
      "outputs": [
        {
          "output_type": "stream",
          "name": "stdout",
          "text": [
            "Requirement already satisfied: transformers[ja] in /usr/local/lib/python3.10/dist-packages (4.31.0)\n",
            "Requirement already satisfied: filelock in /usr/local/lib/python3.10/dist-packages (from transformers[ja]) (3.12.2)\n",
            "Requirement already satisfied: huggingface-hub<1.0,>=0.14.1 in /usr/local/lib/python3.10/dist-packages (from transformers[ja]) (0.16.4)\n",
            "Requirement already satisfied: numpy>=1.17 in /usr/local/lib/python3.10/dist-packages (from transformers[ja]) (1.23.5)\n",
            "Requirement already satisfied: packaging>=20.0 in /usr/local/lib/python3.10/dist-packages (from transformers[ja]) (23.1)\n",
            "Requirement already satisfied: pyyaml>=5.1 in /usr/local/lib/python3.10/dist-packages (from transformers[ja]) (6.0.1)\n",
            "Requirement already satisfied: regex!=2019.12.17 in /usr/local/lib/python3.10/dist-packages (from transformers[ja]) (2023.6.3)\n",
            "Requirement already satisfied: requests in /usr/local/lib/python3.10/dist-packages (from transformers[ja]) (2.31.0)\n",
            "Requirement already satisfied: tokenizers!=0.11.3,<0.14,>=0.11.1 in /usr/local/lib/python3.10/dist-packages (from transformers[ja]) (0.13.3)\n",
            "Requirement already satisfied: safetensors>=0.3.1 in /usr/local/lib/python3.10/dist-packages (from transformers[ja]) (0.3.2)\n",
            "Requirement already satisfied: tqdm>=4.27 in /usr/local/lib/python3.10/dist-packages (from transformers[ja]) (4.66.0)\n",
            "Collecting fugashi>=1.0 (from transformers[ja])\n",
            "  Downloading fugashi-1.2.1-cp310-cp310-manylinux_2_17_x86_64.manylinux2014_x86_64.whl (599 kB)\n",
            "\u001b[2K     \u001b[90m━━━━━━━━━━━━━━━━━━━━━━━━━━━━━━━━━━━━━━━\u001b[0m \u001b[32m599.9/599.9 kB\u001b[0m \u001b[31m4.9 MB/s\u001b[0m eta \u001b[36m0:00:00\u001b[0m\n",
            "\u001b[?25hCollecting ipadic<2.0,>=1.0.0 (from transformers[ja])\n",
            "  Downloading ipadic-1.0.0.tar.gz (13.4 MB)\n",
            "\u001b[2K     \u001b[90m━━━━━━━━━━━━━━━━━━━━━━━━━━━━━━━━━━━━━━━━\u001b[0m \u001b[32m13.4/13.4 MB\u001b[0m \u001b[31m64.3 MB/s\u001b[0m eta \u001b[36m0:00:00\u001b[0m\n",
            "\u001b[?25h  Preparing metadata (setup.py) ... \u001b[?25l\u001b[?25hdone\n",
            "Collecting unidic-lite>=1.0.7 (from transformers[ja])\n",
            "  Downloading unidic-lite-1.0.8.tar.gz (47.4 MB)\n",
            "\u001b[2K     \u001b[90m━━━━━━━━━━━━━━━━━━━━━━━━━━━━━━━━━━━━━━━━\u001b[0m \u001b[32m47.4/47.4 MB\u001b[0m \u001b[31m14.1 MB/s\u001b[0m eta \u001b[36m0:00:00\u001b[0m\n",
            "\u001b[?25h  Preparing metadata (setup.py) ... \u001b[?25l\u001b[?25hdone\n",
            "Collecting unidic>=1.0.2 (from transformers[ja])\n",
            "  Downloading unidic-1.1.0.tar.gz (7.7 kB)\n",
            "  Preparing metadata (setup.py) ... \u001b[?25l\u001b[?25hdone\n",
            "Collecting sudachipy>=0.6.6 (from transformers[ja])\n",
            "  Downloading SudachiPy-0.6.7-cp310-cp310-manylinux_2_17_x86_64.manylinux2014_x86_64.whl (2.2 MB)\n",
            "\u001b[2K     \u001b[90m━━━━━━━━━━━━━━━━━━━━━━━━━━━━━━━━━━━━━━━━\u001b[0m \u001b[32m2.2/2.2 MB\u001b[0m \u001b[31m90.4 MB/s\u001b[0m eta \u001b[36m0:00:00\u001b[0m\n",
            "\u001b[?25hCollecting sudachidict-core>=20220729 (from transformers[ja])\n",
            "  Downloading SudachiDict-core-20230110.tar.gz (9.0 kB)\n",
            "  Preparing metadata (setup.py) ... \u001b[?25l\u001b[?25hdone\n",
            "Collecting rhoknp<1.3.1,>=1.1.0 (from transformers[ja])\n",
            "  Downloading rhoknp-1.3.0-py3-none-any.whl (86 kB)\n",
            "\u001b[2K     \u001b[90m━━━━━━━━━━━━━━━━━━━━━━━━━━━━━━━━━━━━━━━━\u001b[0m \u001b[32m86.8/86.8 kB\u001b[0m \u001b[31m11.1 MB/s\u001b[0m eta \u001b[36m0:00:00\u001b[0m\n",
            "\u001b[?25hRequirement already satisfied: fsspec in /usr/local/lib/python3.10/dist-packages (from huggingface-hub<1.0,>=0.14.1->transformers[ja]) (2023.6.0)\n",
            "Requirement already satisfied: typing-extensions>=3.7.4.3 in /usr/local/lib/python3.10/dist-packages (from huggingface-hub<1.0,>=0.14.1->transformers[ja]) (4.7.1)\n",
            "Collecting wasabi<1.0.0,>=0.6.0 (from unidic>=1.0.2->transformers[ja])\n",
            "  Downloading wasabi-0.10.1-py3-none-any.whl (26 kB)\n",
            "Collecting plac<2.0.0,>=1.1.3 (from unidic>=1.0.2->transformers[ja])\n",
            "  Downloading plac-1.3.5-py2.py3-none-any.whl (22 kB)\n",
            "Requirement already satisfied: charset-normalizer<4,>=2 in /usr/local/lib/python3.10/dist-packages (from requests->transformers[ja]) (3.2.0)\n",
            "Requirement already satisfied: idna<4,>=2.5 in /usr/local/lib/python3.10/dist-packages (from requests->transformers[ja]) (3.4)\n",
            "Requirement already satisfied: urllib3<3,>=1.21.1 in /usr/local/lib/python3.10/dist-packages (from requests->transformers[ja]) (2.0.4)\n",
            "Requirement already satisfied: certifi>=2017.4.17 in /usr/local/lib/python3.10/dist-packages (from requests->transformers[ja]) (2023.7.22)\n",
            "Building wheels for collected packages: ipadic, sudachidict-core, unidic, unidic-lite\n",
            "  Building wheel for ipadic (setup.py) ... \u001b[?25l\u001b[?25hdone\n",
            "  Created wheel for ipadic: filename=ipadic-1.0.0-py3-none-any.whl size=13556704 sha256=5a09999e783a3d072e2f406105ca48629613dc222ffd52511be908c57767eef8\n",
            "  Stored in directory: /root/.cache/pip/wheels/5b/ea/e3/2f6e0860a327daba3b030853fce4483ed37468bbf1101c59c3\n",
            "  Building wheel for sudachidict-core (setup.py) ... \u001b[?25l\u001b[?25hdone\n",
            "  Created wheel for sudachidict-core: filename=SudachiDict_core-20230110-py3-none-any.whl size=71665378 sha256=c4108ce190d0a78f3b7142ac9f99423580ef9e9bb03fbfd811a2ba57d6d85d33\n",
            "  Stored in directory: /root/.cache/pip/wheels/35/35/8a/5cd8203a86e68ccefc49d4a2975165bb9ee369d2693eb4049b\n",
            "  Building wheel for unidic (setup.py) ... \u001b[?25l\u001b[?25hdone\n",
            "  Created wheel for unidic: filename=unidic-1.1.0-py3-none-any.whl size=7406 sha256=48b43d583a7eae9e0f899e2879fd643b3f8db23e15ff813d288928fde39d6c1c\n",
            "  Stored in directory: /root/.cache/pip/wheels/7a/72/72/1f3d654c345ea69d5d51b531c90daf7ba14cc555eaf2c64ab0\n",
            "  Building wheel for unidic-lite (setup.py) ... \u001b[?25l\u001b[?25hdone\n",
            "  Created wheel for unidic-lite: filename=unidic_lite-1.0.8-py3-none-any.whl size=47658817 sha256=1294f25e0a75f8cdb80701f16d6f23232daa166438bde1365716231900fe4686\n",
            "  Stored in directory: /root/.cache/pip/wheels/89/e8/68/f9ac36b8cc6c8b3c96888cd57434abed96595d444f42243853\n",
            "Successfully built ipadic sudachidict-core unidic unidic-lite\n",
            "Installing collected packages: wasabi, unidic-lite, sudachipy, plac, ipadic, sudachidict-core, rhoknp, fugashi, unidic\n",
            "  Attempting uninstall: wasabi\n",
            "    Found existing installation: wasabi 1.1.2\n",
            "    Uninstalling wasabi-1.1.2:\n",
            "      Successfully uninstalled wasabi-1.1.2\n",
            "Successfully installed fugashi-1.2.1 ipadic-1.0.0 plac-1.3.5 rhoknp-1.3.0 sudachidict-core-20230110 sudachipy-0.6.7 unidic-1.1.0 unidic-lite-1.0.8 wasabi-0.10.1\n",
            "Collecting sentencepiece\n",
            "  Downloading sentencepiece-0.1.99-cp310-cp310-manylinux_2_17_x86_64.manylinux2014_x86_64.whl (1.3 MB)\n",
            "\u001b[2K     \u001b[90m━━━━━━━━━━━━━━━━━━━━━━━━━━━━━━━━━━━━━━━━\u001b[0m \u001b[32m1.3/1.3 MB\u001b[0m \u001b[31m12.7 MB/s\u001b[0m eta \u001b[36m0:00:00\u001b[0m\n",
            "\u001b[?25hInstalling collected packages: sentencepiece\n",
            "Successfully installed sentencepiece-0.1.99\n"
          ]
        }
      ]
    },
    {
      "cell_type": "code",
      "source": [
        "tokenizer_jp = AutoTokenizer.from_pretrained('cl-tohoku/bert-base-japanese-whole-word-masking')\n",
        "\n",
        "raw_inputs = [\n",
        "    \"私は毎週水曜日カフェで勉強します。\",\n",
        "    \"その後、ジムに寄ってから帰ります。\",\n",
        "]\n",
        "\n",
        "# 'pt' は PyTorch 型のテンソルを示す\n",
        "tokenized_inputs = tokenizer_jp(raw_inputs, padding=True, trancation=True, return_tensors='pt')\n",
        "\n",
        "print(tokenized_inputs)"
      ],
      "metadata": {
        "colab": {
          "base_uri": "https://localhost:8080/",
          "height": 248,
          "referenced_widgets": [
            "707015c402234b92b3b9cb0d74e963b6",
            "02d29125c8ce4b9caffd24aacacd3c3a",
            "a068287be04c46478cdf70df367c218d",
            "efb6886c523b4941b203a6805d40a02e",
            "ee21fcc8f9f44510b8de99322f43d998",
            "7aef06db07a448578579077c8c086a5b",
            "e681f863b2224978a6840b7bbe6672be",
            "3ddd4124a4174c2e8d8c985c76b0947f",
            "64013a82b8fc441b922ef596e79afa9c",
            "30b8609f135a45918aabc6cd50c026ca",
            "e361bdcd6a1f4c44aef247b4b98f950c",
            "45117d8496374c2aa5a4922aab1023d9",
            "aea77e6a304842d1b0933043d1ed0b25",
            "03cf649a41bc4f358ae0982cb92e26ca",
            "272c69001c4c498faf55bc9b3721d12b",
            "9bcb4e2f9685497290d4c2bb7071a3c8",
            "9d478105e4744ffea525a6669b3aba2d",
            "8e7f328987634a119b8bbb165c486dc7",
            "670b89ffef524c8c86926a30b62d0910",
            "c8c0802a188c4d1aa8f5015517ddb81f",
            "82e14bd7a5dd4d2091b38615177e694e",
            "dcc577879f954b3a9fd2eb5ff31d9a13"
          ]
        },
        "id": "DGuPinludWpE",
        "outputId": "41953f1f-4517-4e85-9c92-233abe6e891e"
      },
      "execution_count": 15,
      "outputs": [
        {
          "output_type": "display_data",
          "data": {
            "text/plain": [
              "Downloading (…)okenizer_config.json:   0%|          | 0.00/110 [00:00<?, ?B/s]"
            ],
            "application/vnd.jupyter.widget-view+json": {
              "version_major": 2,
              "version_minor": 0,
              "model_id": "707015c402234b92b3b9cb0d74e963b6"
            }
          },
          "metadata": {}
        },
        {
          "output_type": "display_data",
          "data": {
            "text/plain": [
              "Downloading (…)solve/main/vocab.txt:   0%|          | 0.00/258k [00:00<?, ?B/s]"
            ],
            "application/vnd.jupyter.widget-view+json": {
              "version_major": 2,
              "version_minor": 0,
              "model_id": "45117d8496374c2aa5a4922aab1023d9"
            }
          },
          "metadata": {}
        },
        {
          "output_type": "stream",
          "name": "stderr",
          "text": [
            "Keyword arguments {'trancation': True} not recognized.\n",
            "Keyword arguments {'trancation': True} not recognized.\n"
          ]
        },
        {
          "output_type": "stream",
          "name": "stdout",
          "text": [
            "{'input_ids': tensor([[    2,  1325,     9,  4255, 14475,  8439,    12,  8192,    15,  2610,\n",
            "             8,     3,     0],\n",
            "        [    2,   366,     6,  5947,     7,  1397, 28468,    16,    40, 10766,\n",
            "          2610,     8,     3]]), 'token_type_ids': tensor([[0, 0, 0, 0, 0, 0, 0, 0, 0, 0, 0, 0, 0],\n",
            "        [0, 0, 0, 0, 0, 0, 0, 0, 0, 0, 0, 0, 0]]), 'attention_mask': tensor([[1, 1, 1, 1, 1, 1, 1, 1, 1, 1, 1, 1, 0],\n",
            "        [1, 1, 1, 1, 1, 1, 1, 1, 1, 1, 1, 1, 1]])}\n"
          ]
        }
      ]
    },
    {
      "cell_type": "code",
      "source": [
        "converted_tokenized_inputs = [*map(lambda x: tokenizer_jp.convert_ids_to_tokens(x), tokenized_inputs.input_ids)]\n",
        "for inputs in converted_tokenized_inputs:\n",
        "  print(inputs)\n",
        "\n",
        "for input_ids in tokenized_inputs.input_ids:\n",
        "  print(tokenizer_jp.decode(input_ids))"
      ],
      "metadata": {
        "colab": {
          "base_uri": "https://localhost:8080/"
        },
        "id": "2MUfe4mae3as",
        "outputId": "cf6a3190-064d-41d3-e86c-5777a666130c"
      },
      "execution_count": 19,
      "outputs": [
        {
          "output_type": "stream",
          "name": "stdout",
          "text": [
            "['[CLS]', '私', 'は', '毎週', '水曜日', 'カフェ', 'で', '勉強', 'し', 'ます', '。', '[SEP]', '[PAD]']\n",
            "['[CLS]', 'その後', '、', 'ジム', 'に', '寄', '##っ', 'て', 'から', '帰り', 'ます', '。', '[SEP]']\n",
            "[CLS] 私 は 毎週 水曜日 カフェ で 勉強 し ます 。 [SEP] [PAD]\n",
            "[CLS] その後 、 ジム に 寄っ て から 帰り ます 。 [SEP]\n"
          ]
        }
      ]
    },
    {
      "cell_type": "code",
      "source": [
        "# トークンとIDの表示\n",
        "print(tokenizer_jp.get_vocab())"
      ],
      "metadata": {
        "colab": {
          "base_uri": "https://localhost:8080/"
        },
        "id": "qxiLUxXfeYye",
        "outputId": "43decd4f-94ea-4ef2-ae25-9416724091a6"
      },
      "execution_count": 16,
      "outputs": [
        {
          "output_type": "stream",
          "name": "stdout",
          "text": [
            "{'[PAD]': 0, '[UNK]': 1, '[CLS]': 2, '[SEP]': 3, '[MASK]': 4, 'の': 5, '、': 6, 'に': 7, '。': 8, 'は': 9, 'た': 10, 'を': 11, 'で': 12, 'と': 13, 'が': 14, 'し': 15, 'て': 16, '1': 17, 'な': 18, '年': 19, 'れ': 20, 'い': 21, 'あ': 22, '(': 23, ')': 24, '2': 25, 'さ': 26, 'こ': 27, 'も': 28, 'か': 29, '##する': 30, 'ある': 31, '日': 32, 'いる': 33, 'する': 34, '・': 35, '「': 36, '月': 37, '」': 38, '19': 39, 'から': 40, '20': 41, '大': 42, 'ア': 43, 'そ': 44, 'こと': 45, '##して': 46, 'ま': 47, '3': 48, 'や': 49, 'として': 50, '中': 51, '一': 52, '人': 53, 'よ': 54, 'ス': 55, 'によ': 56, '4': 57, 'なっ': 58, 'その': 59, 'ら': 60, '-': 61, 'れる': 62, '『': 63, 'など': 64, '』': 65, 'フ': 66, 'シ': 67, '##リー': 68, '同': 69, 'この': 70, '出': 71, '時': 72, 'お': 73, '地': 74, 'だ': 75, '5': 76, '行': 77, '201': 78, '国': 79, 'ない': 80, '的': 81, 'ため': 82, '後': 83, 'られ': 84, '発': 85, '200': 86, '##ール': 87, 'イ': 88, '##ラン': 89, '作': 90, '日本': 91, '##ター': 92, '##ック': 93, '市': 94, '戦': 95, 'マ': 96, '第': 97, '自': 98, 'コ': 99, '以': 100, '6': 101, 'あっ': 102, 'カ': 103, '者': 104, '開': 105, 'また': 106, '高': 107, '本': 108, '上': 109, 'オ': 110, '##ット': 111, '学': 112, '最': 113, 'とい': 114, '現': 115, 'バ': 116, 'サ': 117, 'へ': 118, '##スト': 119, 'もの': 120, '10': 121, '東': 122, '##ング': 123, 'よう': 124, '名': 125, 'まで': 126, '7': 127, '生': 128, '部': 129, 'あり': 130, '世': 131, 'プ': 132, 'エ': 133, '8': 134, '##ュー': 135, '会': 136, '主': 137, 'ロ': 138, 'なる': 139, 'という': 140, '多': 141, '\"': 142, '.': 143, '機': 144, '##ート': 145, '事': 146, '新': 147, 'デ': 148, '県': 149, 'ジ': 150, '全': 151, '##いて': 152, '##ーム': 153, '##って': 154, '分': 155, '選': 156, 'ク': 157, '##ティ': 158, '9': 159, '小': 160, 'ド': 161, '当': 162, '18': 163, '##ント': 164, 'ト': 165, 'ラ': 166, '家': 167, 'メ': 168, '##ード': 169, '公': 170, 'これ': 171, 'レ': 172, '場': 173, '前': 174, 'チ': 175, '初': 176, '長': 177, 'パ': 178, '通': 179, 'S': 180, 'つ': 181, 'リ': 182, '入': 183, 'C': 184, 'キ': 185, '内': 186, '##かっ': 187, '受': 188, '特': 189, 'にお': 190, 'せ': 191, 'A': 192, '実': 193, '##ンド': 194, '連': 195, '使': 196, '12': 197, '回': 198, '軍': 199, '##ョン': 200, '代': 201, '199': 202, 'でき': 203, '記': 204, 'う': 205, 'おり': 206, '教': 207, '設': 208, 'ブ': 209, '北': 210, '##ディ': 211, '見': 212, '11': 213, '文': 214, 'テ': 215, '対': 216, '##イン': 217, 'それ': 218, '目': 219, 'ハ': 220, 'より': 221, ')、': 222, '平': 223, '結': 224, 'により': 225, '経': 226, 'タ': 227, ',': 228, '##リア': 229, 'によって': 230, '##00': 231, 'ほ': 232, '所': 233, '関': 234, '駅': 235, 'M': 236, '化': 237, '##ース': 238, '運': 239, '三': 240, '用': 241, '##リカ': 242, 'ウ': 243, '放': 244, '性': 245, '番': 246, '位': 247, '政': 248, 'モ': 249, 'による': 250, '下': 251, '町': 252, '法': 253, '指': 254, 'ず': 255, 'セ': 256, 'グ': 257, ')。': 258, '社': 259, 'T': 260, '南': 261, '形': 262, '##ーク': 263, '取': 264, '現在': 265, ':': 266, '##ける': 267, '198': 268, '不': 269, '制': 270, '活': 271, '##ップ': 272, 'ミ': 273, '変': 274, '##er': 275, '数': 276, 'B': 277, 'しか': 278, '##メリカ': 279, '区': 280, '元': 281, '##ション': 282, '方': 283, '間': 284, 'プロ': 285, 'アメリカ': 286, '二': 287, '次': 288, '参': 289, '呼': 290, '車': 291, '##ーズ': 292, '成': 293, '基': 294, '海': 295, '王': 296, 'なり': 297, 'ベ': 298, '神': 299, 'D': 300, 'F': 301, '合': 302, '建': 303, '持': 304, '移': 305, '彼': 306, '改': 307, 'だっ': 308, '山': 309, '西': 310, '表': 311, 'ば': 312, '明': 313, 'ダ': 314, '時代': 315, 'なかっ': 316, '州': 317, 'P': 318, '手': 319, 'において': 320, '##ージ': 321, 'き': 322, '再': 323, '世界': 324, '言': 325, '水': 326, '電': 327, '197': 328, 'ポ': 329, '15': 330, 'ホ': 331, 'なく': 332, '放送': 333, 'ボ': 334, '女': 335, 'につ': 336, '近': 337, '製': 338, '##ーン': 339, 'す': 340, '重': 341, 'られる': 342, '行わ': 343, '場合': 344, '決': 345, '受け': 346, 'に対': 347, '無': 348, 'アル': 349, 'N': 350, '##イト': 351, 'ソ': 352, 'ニ': 353, '支': 354, '有': 355, '交': 356, '知': 357, '##える': 358, '17': 359, '共': 360, '##in': 361, 'について': 362, 'I': 363, '進': 364, '号': 365, 'その後': 366, '映': 367, '試': 368, '##an': 369, '登': 370, '正': 371, '天': 372, 'しかし': 373, '##バー': 374, '他': 375, '##on': 376, '昭': 377, '多く': 378, '16': 379, '広': 380, '加': 381, '##レー': 382, 'G': 383, '系': 384, '原': 385, '勝': 386, '語': 387, '組': 388, 'ビ': 389, '線': 390, '東京': 391, 'できる': 392, '外': 393, '保': 394, '書': 395, '大学': 396, '体': 397, '昭和': 398, '総': 399, '直': 400, '研': 401, '##ランド': 402, '作品': 403, 'J': 404, '道': 405, '使用': 406, '196': 407, '選手': 408, '都': 409, '物': 410, '終': 411, '金': 412, '付': 413, 'm': 414, '##ライ': 415, 'R': 416, '郡': 417, '##リス': 418, '音': 419, '各': 420, 'ゲ': 421, '##ラー': 422, '相': 423, '##リン': 424, '存': 425, '研究': 426, '強': 427, '##ープ': 428, '万': 429, '##or': 430, '##ャン': 431, '解': 432, '集': 433, 'ル': 434, '構': 435, '意': 436, '引': 437, '続': 438, 'L': 439, 'イン': 440, '可': 441, '反': 442, '当時': 443, 'ガ': 444, '194': 445, '死': 446, '##める': 447, '向': 448, '収': 449, '映画': 450, '存在': 451, '##レビ': 452, '期': 453, '空': 454, '活動': 455, '##カー': 456, 'およ': 457, '優': 458, '等': 459, '立': 460, '工': 461, '子': 462, 'コン': 463, '両': 464, '/': 465, '学校': 466, 'ユ': 467, '利': 468, 'ワ': 469, '定': 470, 'リー': 471, 'W': 472, '起': 473, '考': 474, '少': 475, 'フラン': 476, 'ファ': 477, '先': 478, '流': 479, '##en': 480, '始': 481, '約': 482, '13': 483, '##ルト': 484, '##しい': 485, '番組': 486, '##ンス': 487, '14': 488, '得': 489, '含': 490, '##ッド': 491, '##ar': 492, '理': 493, '種': 494, '##イル': 495, '予': 496, '安': 497, '195': 498, '議': 499, 'E': 500, '呼ば': 501, 'および': 502, 'ヴ': 503, '民': 504, 'ナ': 505, '計': 506, '##ンジ': 507, '大き': 508, '鉄': 509, '##ーマ': 510, '伝': 511, '編': 512, 'H': 513, '状': 514, '古': 515, '##シュ': 516, '行っ': 517, '0': 518, '可能': 519, '投': 520, 'なお': 521, '型': 522, '##ニア': 523, '艦': 524, '30': 525, '同年': 526, '##大学': 527, '残': 528, '川': 529, '開発': 530, '動': 531, '異': 532, 'ヒ': 533, 'ノ': 534, '地域': 535, '科': 536, 'のみ': 537, '協': 538, 'キャ': 539, '競': 540, '演': 541, '代表': 542, '曲': 543, '石': 544, '信': 545, 'み': 546, '必': 547, '野': 548, '配': 549, '周': 550, '台': 551, '同じ': 552, 'さら': 553, '調': 554, '##シア': 555, '##ャー': 556, '##イツ': 557, 'たち': 558, '度': 559, '武': 560, '村': 561, '以下': 562, '側': 563, '監': 564, 'ピ': 565, '##al': 566, '歌': 567, '務': 568, '独': 569, '英': 570, 'テレビ': 571, '規': 572, '歳': 573, '権': 574, 'チーム': 575, '提': 576, '賞': 577, '年代': 578, '##れる': 579, '発売': 580, '乗': 581, '##at': 582, '##ステ': 583, '取り': 584, '用い': 585, 'クラ': 586, 'における': 587, '中心': 588, '##とも': 589, '##ナー': 590, '太': 591, '193': 592, '平成': 593, '男': 594, '問': 595, '際': 596, '単': 597, '要': 598, '朝': 599, '局': 600, 'フィ': 601, '発表': 602, '以降': 603, 'さらに': 604, '役': 605, '観': 606, '打': 607, '試合': 608, 'く': 609, '完': 610, 'ひ': 611, '一部': 612, 'k': 613, 'ど': 614, '増': 615, '式': 616, '管': 617, '派': 618, '##リーズ': 619, '出場': 620, 'ニュー': 621, '大会': 622, '版': 623, 'ペ': 624, 'いう': 625, '25': 626, 'ヘ': 627, '##まっ': 628, '住': 629, 'わ': 630, '条': 631, '##ックス': 632, '関係': 633, 'ライ': 634, '面': 635, '##es': 636, '島': 637, '商': 638, '専': 639, '時間': 640, 'K': 641, '=': 642, '氏': 643, '団': 644, '記録': 645, 'フランス': 646, '旧': 647, '%': 648, 'U': 649, '開始': 650, '参加': 651, '点': 652, '装': 653, '一般': 654, '兵': 655, '登場': 656, 'ドイツ': 657, 'ケ': 658, 'オー': 659, '##フォ': 660, '認': 661, '土': 662, '##かけ': 663, '##ブル': 664, '##ダー': 665, '利用': 666, '委': 667, 'ネ': 668, '施': 669, '攻': 670, '追': 671, '技': 672, '統': 673, '福': 674, '確': 675, 'V': 676, '21': 677, '個': 678, '!': 679, '考え': 680, 'O': 681, '開催': 682, '過': 683, '美': 684, '##ic': 685, '非': 686, 'だけ': 687, '##オン': 688, '##ファ': 689, '明治': 690, '力': 691, '別': 692, '城': 693, '##学校': 694, '以上': 695, '鉄道': 696, '##ーズン': 697, '企': 698, '##フィ': 699, 'にて': 700, '比': 701, '及': 702, 'ゴ': 703, '気': 704, '音楽': 705, 'スタ': 706, '多い': 707, 'ギ': 708, '例': 709, '就': 710, '資': 711, 'シーズン': 712, '##ウェ': 713, '十': 714, '##ソン': 715, '担': 716, '思': 717, '##がら': 718, '192': 719, '##ギリス': 720, '##レイ': 721, '##スタ': 722, 'イギリス': 723, '##ロー': 724, 'c': 725, '歴': 726, '必要': 727, 'ち': 728, '採': 729, '創': 730, 'シリーズ': 731, '路': 732, 'ゲーム': 733, '監督': 734, '話': 735, '国際': 736, 'なら': 737, 'に関': 738, '##ナル': 739, '世紀': 740, '様': 741, '知ら': 742, '##クト': 743, '今': 744, '社会': 745, 'リーグ': 746, '翌': 747, '位置': 748, '問題': 749, '出身': 750, '京': 751, '##ビュー': 752, 'ジャ': 753, '任': 754, '四': 755, '##ニー': 756, '仕': 757, '円': 758, '優勝': 759, '##サー': 760, '食': 761, '官': 762, '務め': 763, '##マン': 764, '領': 765, '従': 766, '愛': 767, '級': 768, 'に対して': 769, '##ヴィ': 770, '防': 771, 'かつ': 772, '航': 773, '事業': 774, '22': 775, '与': 776, '復': 777, '白': 778, '行う': 779, '中国': 780, '##ッチ': 781, '##ベル': 782, '設置': 783, '達': 784, '2010': 785, '率': 786, '飛': 787, '24': 788, '##まり': 789, 'たり': 790, 'ディ': 791, 'バス': 792, '出演': 793, '地方': 794, 'アルバ': 795, 'せる': 796, '敗': 797, '引き': 798, '影': 799, '父': 800, 'ヨ': 801, 'ご': 802, '船': 803, 'ドラ': 804, '店': 805, '情': 806, '頃': 807, '失': 808, '業': 809, '評': 810, '会社': 811, '松': 812, '委員': 813, '##ウン': 814, '23': 815, '着': 816, '列': 817, '半': 818, '命': 819, '楽': 820, '##is': 821, 't': 822, '##ょう': 823, '##ヴァ': 824, 'ほか': 825, '計画': 826, '千': 827, '##it': 828, '##デル': 829, '持つ': 830, '説': 831, '感': 832, '100': 833, '##レス': 834, 'スト': 835, '卒': 836, '低': 837, '##しく': 838, '##000': 839, '所属': 840, '真': 841, '修': 842, '転': 843, 'タイ': 844, '都市': 845, '変更': 846, '生ま': 847, '推': 848, '陸': 849, '首': 850, '判': 851, '廃': 852, '和': 853, '結果': 854, '##ンター': 855, '横': 856, '獲': 857, '2008': 858, 'うち': 859, '##イド': 860, 'いく': 861, '一方': 862, '2009': 863, '##he': 864, '置': 865, '馬': 866, '警': 867, '##ともに': 868, 'とともに': 869, '江': 870, '2011': 871, '青': 872, '親': 873, '報': 874, 'これら': 875, '描': 876, '##フト': 877, '中央': 878, '##ウス': 879, '文化': 880, '影響': 881, '2007': 882, '果': 883, '##シャ': 884, '米': 885, '政府': 886, '論': 887, '司': 888, '展': 889, '教育': 890, '宮': 891, '特に': 892, 'そして': 893, '##めて': 894, 'ながら': 895, '##ラク': 896, '##わっ': 897, '医': 898, '##la': 899, 'とき': 900, '自身': 901, '木': 902, '図': 903, '帝': 904, '検': 905, '獲得': 906, 'フォ': 907, '2012': 908, 'ただ': 909, '株': 910, '191': 911, '卒業': 912, '隊': 913, '遺': 914, 'アルバム': 915, '限': 916, '##ンタ': 917, '最初': 918, '担当': 919, '及び': 920, 'グル': 921, '異な': 922, '建設': 923, '事件': 924, 'スペ': 925, '##った': 926, '消': 927, '26': 928, '当初': 929, '左': 930, '##ンバー': 931, '史': 932, '情報': 933, '機関': 934, '##衆国': 935, 's': 936, '大阪': 937, '病': 938, '通り': 939, '##ジア': 940, '戦争': 941, '##ーツ': 942, '破': 943, '##le': 944, '接': 945, '在': 946, 'ので': 947, '光': 948, '2014': 949, '##ーション': 950, '##イス': 951, '農': 952, '年間': 953, 'km': 954, '2006': 955, '示': 956, '同様': 957, '選挙': 958, '諸': 959, '2013': 960, '##ジオ': 961, 'でも': 962, '設立': 963, '博': 964, '28': 965, '##ールド': 966, '意味': 967, '母': 968, '女性': 969, '##ラス': 970, '27': 971, '部分': 972, '##ータ': 973, '攻撃': 974, '##ぞれ': 975, 'それぞれ': 976, '伊': 977, 'アン': 978, '毎': 979, '##ングル': 980, 'とも': 981, '##ネル': 982, '師': 983, 'ウィ': 984, '2015': 985, '販': 986, '属': 987, '画': 988, '五': 989, '複': 990, '藩': 991, '##ッカー': 992, '一つ': 993, '経済': 994, '風': 995, '##re': 996, '産': 997, '退': 998, '赤': 999, '以外': 1000, '契': 1001, '政治': 1002, '##共に': 1003, 'と共に': 1004, 'サン': 1005, '##ロン': 1006, 'ジョ': 1007, '主義': 1008, '##会社': 1009, '伴': 1010, '販売': 1011, '聖': 1012, '##合衆国': 1013, 'アメリカ合衆国': 1014, '地区': 1015, '##キー': 1016, '29': 1017, 'こう': 1018, '##ステム': 1019, '##わり': 1020, '著': 1021, '離': 1022, 'フェ': 1023, '##ion': 1024, '帰': 1025, '##パー': 1026, '将': 1027, '##アン': 1028, 'または': 1029, '宇': 1030, '義': 1031, '劇': 1032, '2016': 1033, '発生': 1034, '八': 1035, 'ものの': 1036, '何': 1037, '##ro': 1038, '未': 1039, '自分': 1040, 'ジェ': 1041, '落': 1042, '技術': 1043, 'f': 1044, 'アニ': 1045, '渡': 1046, '構成': 1047, '継': 1048, '##ころ': 1049, '##フェ': 1050, '細': 1051, '心': 1052, '2017': 1053, 'デビュー': 1054, '2005': 1055, 'ヤ': 1056, 'かつて': 1057, 'ん': 1058, 'ツ': 1059, '##ーロ': 1060, '2000': 1061, '採用': 1062, '輸': 1063, 'サー': 1064, '整': 1065, '##わせ': 1066, '決定': 1067, '##上げ': 1068, '31': 1069, 'ステ': 1070, 'にかけ': 1071, '挙': 1072, '量': 1073, '##レン': 1074, '歴史': 1075, '黒': 1076, '銀': 1077, '自動': 1078, '制作': 1079, '状態': 1080, '果た': 1081, '就任': 1082, '負': 1083, 'しま': 1084, '群': 1085, '航空': 1086, '応': 1087, '超': 1088, '守': 1089, '路線': 1090, 'グループ': 1091, 'に関する': 1092, '深': 1093, '##ラム': 1094, '清': 1095, 'ラン': 1096, '契約': 1097, '環': 1098, '若': 1099, '向け': 1100, 'ほど': 1101, '施設': 1102, '高等': 1103, '送': 1104, '##ジェ': 1105, '処': 1106, '末': 1107, ')」': 1108, 'にかけて': 1109, '短': 1110, '##カル': 1111, '宗': 1112, '最も': 1113, '株式': 1114, '生まれ': 1115, '職': 1116, '##ーター': 1117, '場所': 1118, '枚': 1119, '右': 1120, '人口': 1121, '終了': 1122, '##スター': 1123, '##el': 1124, '##ンク': 1125, '準': 1126, 'コー': 1127, '##リング': 1128, 'に対する': 1129, 'シングル': 1130, 'チャ': 1131, '急': 1132, '最後': 1133, 'ところ': 1134, 'ブラ': 1135, '導': 1136, '組織': 1137, '与え': 1138, '##スク': 1139, '最終': 1140, '芸': 1141, 'ただし': 1142, '〜': 1143, '旅': 1144, '##デン': 1145, '売': 1146, '好': 1147, 'べ': 1148, 'アニメ': 1149, '##シー': 1150, '員': 1151, 'ロシア': 1152, '起こ': 1153, '\")': 1154, '収録': 1155, '2018': 1156, '室': 1157, '田': 1158, '党': 1159, '佐': 1160, '製造': 1161, 'といった': 1162, '車両': 1163, '列車': 1164, '始め': 1165, '常': 1166, '##ンガ': 1167, '##メント': 1168, '全国': 1169, '切': 1170, '被': 1171, '花': 1172, 'じ': 1173, '公開': 1174, '##リスト': 1175, '停': 1176, '頭': 1177, '生産': 1178, 'システム': 1179, '##エル': 1180, '悪': 1181, '選手権': 1182, '火': 1183, '目的': 1184, '##as': 1185, '階': 1186, '使わ': 1187, '##ルス': 1188, '企業': 1189, '教授': 1190, '##ou': 1191, '河': 1192, '高校': 1193, '植': 1194, '全て': 1195, '名称': 1196, '機能': 1197, '殺': 1198, '部隊': 1199, '大きな': 1200, '野球': 1201, '標': 1202, '##ッシュ': 1203, '##んど': 1204, '除': 1205, '海軍': 1206, '入り': 1207, '最大': 1208, '満': 1209, '補': 1210, '注': 1211, '##がっ': 1212, 'メンバー': 1213, '早': 1214, '##イク': 1215, '国内': 1216, '移籍': 1217, '高い': 1218, '##am': 1219, 'スポ': 1220, 'そこ': 1221, '勝利': 1222, 'ゆ': 1223, '搭': 1224, '至': 1225, '巻': 1226, '品': 1227, '富': 1228, '豊': 1229, '##日本': 1230, '##タリア': 1231, '色': 1232, '調査': 1233, '助': 1234, '議員': 1235, '違': 1236, '初めて': 1237, '省': 1238, '挙げ': 1239, '受賞': 1240, '50': 1241, '差': 1242, '街': 1243, '##ビー': 1244, '普': 1245, 'アー': 1246, '##テン': 1247, '##ケット': 1248, '(\"': 1249, '##ol': 1250, '管理': 1251, '橋': 1252, '皇': 1253, '視': 1254, '吉': 1255, '2004': 1256, '運動': 1257, '砲': 1258, 'ふ': 1259, 'ウェ': 1260, '##il': 1261, '精': 1262, '類': 1263, '舞': 1264, '拡': 1265, '独立': 1266, 'd': 1267, '##et': 1268, '##コン': 1269, '身': 1270, '##ッパ': 1271, 'ほと': 1272, '良': 1273, '190': 1274, '株式会社': 1275, '来': 1276, '対応': 1277, '実施': 1278, '重要': 1279, '称': 1280, 'いっ': 1281, 'ぶ': 1282, 'ホーム': 1283, '##たる': 1284, '口': 1285, '財': 1286, '自由': 1287, '続け': 1288, '##ッツ': 1289, '講': 1290, 'ブル': 1291, '校': 1292, '寺': 1293, '構造': 1294, '声': 1295, '発見': 1296, 'ほとんど': 1297, '活躍': 1298, '降': 1299, '製作': 1300, 'サッカー': 1301, 'スター': 1302, '人物': 1303, '延': 1304, '道路': 1305, '通常': 1306, '由': 1307, '同時': 1308, '院': 1309, '含む': 1310, '治': 1311, '##ザー': 1312, '持ち': 1313, '府': 1314, '読': 1315, '京都': 1316, 'モデル': 1317, '突': 1318, '少な': 1319, '成功': 1320, '~': 1321, '江戸': 1322, 'センター': 1323, '##ンジン': 1324, '私': 1325, '生活': 1326, '##アル': 1327, '##ンチ': 1328, '能': 1329, '持っ': 1330, '走': 1331, '##ートル': 1332, '営': 1333, '加え': 1334, 'ム': 1335, '##ac': 1336, '最高': 1337, 'イタリア': 1338, '秋': 1339, 'リリー': 1340, '屋': 1341, '掲': 1342, '漫': 1343, '40': 1344, '戦い': 1345, '減': 1346, '労': 1347, '##ラクター': 1348, '証': 1349, 'アイ': 1350, '御': 1351, '課': 1352, '基本': 1353, '求': 1354, '##ビス': 1355, 'いわ': 1356, '協会': 1357, '##アー': 1358, '以前': 1359, '戦闘': 1360, '週': 1361, '執': 1362, 'ザ': 1363, '九': 1364, 'ショ': 1365, '振': 1366, '副': 1367, '##us': 1368, '##ビア': 1369, '祭': 1370, '順': 1371, '述': 1372, 'b': 1373, '設定': 1374, '並': 1375, '適': 1376, '科学': 1377, '座': 1378, '実際': 1379, '出来': 1380, '名前': 1381, 'デザ': 1382, 'ベル': 1383, '丁': 1384, 'チェ': 1385, '内容': 1386, '年度': 1387, '効': 1388, '搭載': 1389, '割': 1390, '##わる': 1391, '##ティー': 1392, '##om': 1393, '球': 1394, '館': 1395, '##出し': 1396, '寄': 1397, '岩': 1398, '##ディア': 1399, '様々': 1400, 'クラブ': 1401, '設計': 1402, '特別': 1403, '程': 1404, '占': 1405, '弾': 1406, '昇': 1407, '藤': 1408, '春': 1409, '人間': 1410, 'ここ': 1411, '指揮': 1412, '段': 1413, '星': 1414, '##リオ': 1415, '##イトル': 1416, 'リリース': 1417, '出版': 1418, '時期': 1419, '評価': 1420, '##付け': 1421, '2003': 1422, '飛行': 1423, '指定': 1424, '作曲': 1425, '写': 1426, '特徴': 1427, '夏': 1428, '国家': 1429, '漫画': 1430, '連合': 1431, '幕': 1432, 'X': 1433, '戻': 1434, 'ドラマ': 1435, '料': 1436, '沿': 1437, '再び': 1438, '##クション': 1439, '##らか': 1440, '##テル': 1441, '編成': 1442, '帝国': 1443, '000': 1444, '##いは': 1445, '更': 1446, '異なる': 1447, '宣': 1448, '述べ': 1449, '彼女': 1450, '##たり': 1451, '経営': 1452, '交通': 1453, '徳': 1454, '初期': 1455, '兄': 1456, '足': 1457, 'ヨーロ': 1458, '甲': 1459, '運営': 1460, '遠': 1461, '##ing': 1462, '速': 1463, '運行': 1464, 'オリ': 1465, '客': 1466, '韓': 1467, '共和': 1468, 'ヨーロッパ': 1469, 'マル': 1470, '対象': 1471, '小学校': 1472, '姿': 1473, '指導': 1474, '駆': 1475, '##ショ': 1476, '189': 1477, '##ゅう': 1478, 'シャ': 1479, 'キャラクター': 1480, '##リック': 1481, '##海道': 1482, '##of': 1483, '予定': 1484, '新た': 1485, 'ヴァ': 1486, 'に対し': 1487, '記念': 1488, '永': 1489, 'マン': 1490, '団体': 1491, 'すべ': 1492, 'ローマ': 1493, '爆': 1494, '認め': 1495, 'スー': 1496, 'しまう': 1497, '運転': 1498, '大きく': 1499, '##ギー': 1500, '##タル': 1501, '教会': 1502, '背': 1503, 'ロー': 1504, '撮': 1505, '導入': 1506, \"'\": 1507, '廃止': 1508, '混': 1509, '積': 1510, 'あるいは': 1511, 'エンジン': 1512, '歩': 1513, '&': 1514, '理由': 1515, '2001': 1516, 'よる': 1517, '事務': 1518, '結婚': 1519, 'すべて': 1520, '果たし': 1521, 'タイトル': 1522, '労働': 1523, '批': 1524, '##イズ': 1525, '1990': 1526, '小説': 1527, '扱': 1528, '公式': 1529, '提供': 1530, '時点': 1531, '夫': 1532, '極': 1533, '専門': 1534, '##かり': 1535, '会議': 1536, '造': 1537, '2002': 1538, 'インド': 1539, '##チャ': 1540, '休': 1541, '多数': 1542, '英語': 1543, '紀': 1544, '展開': 1545, '環境': 1546, 'p': 1547, '##ーカー': 1548, 'たい': 1549, '##イヤ': 1550, '##コー': 1551, '興': 1552, '188': 1553, '完全': 1554, '##ピック': 1555, '兼': 1556, '連続': 1557, '固': 1558, '方法': 1559, '温': 1560, '表記': 1561, '全体': 1562, '夜': 1563, '##えば': 1564, '非常': 1565, '士': 1566, '##ッグ': 1567, '女子': 1568, '巡': 1569, '敵': 1570, '人気': 1571, '迎': 1572, '警察': 1573, 'チャン': 1574, 'デザイン': 1575, '訪': 1576, '入っ': 1577, '##統領': 1578, '大統領': 1579, '雑': 1580, '##ニング': 1581, 'り': 1582, '熱': 1583, 'ラジオ': 1584, '捕': 1585, 'ヴィ': 1586, 'インター': 1587, '規模': 1588, '死去': 1589, '支援': 1590, '##入れ': 1591, '難': 1592, 'オースト': 1593, 'クロ': 1594, 'コミ': 1595, '連邦': 1596, 'はじ': 1597, '国民': 1598, '##リンピック': 1599, '森': 1600, '以来': 1601, '周辺': 1602, '裁': 1603, 'ソフト': 1604, '門': 1605, '##ch': 1606, '同時に': 1607, '##ヴェ': 1608, '娘': 1609, '含ま': 1610, '競技': 1611, '##チェ': 1612, '仮': 1613, '岡': 1614, '大戦': 1615, '完成': 1616, '自動車': 1617, '総合': 1618, '探': 1619, '救': 1620, 'のち': 1621, '陸軍': 1622, '格': 1623, '薬': 1624, '百': 1625, '大正': 1626, '彼ら': 1627, 'ひと': 1628, '##ed': 1629, '行い': 1630, '族': 1631, 'Y': 1632, '##ルフ': 1633, '関連': 1634, '##ter': 1635, '沖': 1636, '##サン': 1637, '小さ': 1638, '勢': 1639, 'カー': 1640, '187': 1641, '丁目': 1642, '形式': 1643, '絵': 1644, 'サービス': 1645, '容': 1646, '逆': 1647, '項': 1648, '##まる': 1649, '自ら': 1650, 'ヶ': 1651, '##マー': 1652, '言わ': 1653, '参照': 1654, '1980': 1655, '##けれ': 1656, '支配': 1657, '久': 1658, '##ミー': 1659, 'もと': 1660, '丸': 1661, 'トン': 1662, '##ュージ': 1663, '主張': 1664, '##ディング': 1665, '##ウム': 1666, '##候補': 1667, 'いず': 1668, '宇宙': 1669, '備': 1670, '留': 1671, '脱': 1672, 'パー': 1673, '形成': 1674, '建築': 1675, 'データ': 1676, '危': 1677, 'ジョン': 1678, '_': 1679, '逃': 1680, '香': 1681, '##and': 1682, '共同': 1683, 'その他': 1684, '貴': 1685, 'スペイン': 1686, '結成': 1687, '六': 1688, '作戦': 1689, 'for': 1690, 'ほぼ': 1691, 'シュ': 1692, '舞台': 1693, '基づ': 1694, '自治': 1695, '##ヨーク': 1696, '##バル': 1697, '撮影': 1698, '閉': 1699, '由来': 1700, '制度': 1701, '整備': 1702, '断': 1703, 'どう': 1704, '##距離': 1705, '操': 1706, 'オリンピック': 1707, '北海道': 1708, '変化': 1709, '##ジャ': 1710, '法人': 1711, 'ユニ': 1712, '帯': 1713, '軽': 1714, '##クス': 1715, '文学': 1716, '##ig': 1717, 'トラ': 1718, '輸送': 1719, '付け': 1720, '##プリ': 1721, '途': 1722, 'え': 1723, 'ニューヨーク': 1724, 'いずれ': 1725, '許': 1726, '比較': 1727, 'マイ': 1728, '友': 1729, '程度': 1730, '##ウィ': 1731, '決勝': 1732, 'バンド': 1733, '盛': 1734, '対戦': 1735, '##セン': 1736, 'ビル': 1737, 'まま': 1738, '##ンダ': 1739, '##ra': 1740, '##モン': 1741, 'アナ': 1742, '騎': 1743, 'ジャン': 1744, '養': 1745, 'ハイ': 1746, '##わら': 1747, '引退': 1748, 'け': 1749, 'もっ': 1750, 'n': 1751, '港': 1752, '酸': 1753, '妻': 1754, 'よく': 1755, '育': 1756, '自然': 1757, '韓国': 1758, '行政': 1759, '試験': 1760, 'べき': 1761, '激': 1762, '禁': 1763, '発展': 1764, '186': 1765, 'JR': 1766, '##ッジ': 1767, '状況': 1768, '##id': 1769, '審': 1770, '公園': 1771, 'of': 1772, '企画': 1773, '表現': 1774, '伴い': 1775, '学者': 1776, '器': 1777, 'そう': 1778, '億': 1779, '##ボール': 1780, '能力': 1781, '弟': 1782, '演奏': 1783, 'スポーツ': 1784, '息': 1785, '1999': 1786, '字': 1787, '俳': 1788, 'ライブ': 1789, '営業': 1790, '##ジー': 1791, '##ダル': 1792, '移動': 1793, '枠': 1794, '中学校': 1795, '忠': 1796, '根': 1797, '##じる': 1798, '期間': 1799, '登録': 1800, '##キング': 1801, '圧': 1802, '子供': 1803, '組み': 1804, '静': 1805, '##タン': 1806, '越': 1807, '誌': 1808, 'ジュ': 1809, 'プレ': 1810, '文字': 1811, '発行': 1812, 'バー': 1813, '絶': 1814, '乗り': 1815, 'む': 1816, 'カル': 1817, '複数': 1818, '価': 1819, 'しまっ': 1820, '侵': 1821, '続い': 1822, 'レー': 1823, '買': 1824, '裁判': 1825, 'レース': 1826, 'フリー': 1827, '##ow': 1828, '供': 1829, '居': 1830, '幼': 1831, '35': 1832, 'mm': 1833, '余': 1834, '##ation': 1835, '勝ち': 1836, '合併': 1837, 'マー': 1838, '##なっ': 1839, '60': 1840, 'オープ': 1841, '新しい': 1842, '##プト': 1843, '既': 1844, '遊': 1845, '辞': 1846, '奪': 1847, '##ベント': 1848, '値': 1849, '人々': 1850, '工場': 1851, 'ね': 1852, '2019': 1853, '##un': 1854, '##ネット': 1855, '選出': 1856, '成立': 1857, '##リエ': 1858, '健': 1859, 'なけれ': 1860, '脚': 1861, '1970': 1862, '為': 1863, '紹': 1864, '##ent': 1865, '言葉': 1866, '会長': 1867, 'h': 1868, '革': 1869, '##ウンド': 1870, '源': 1871, '南部': 1872, '##os': 1873, '圏': 1874, '##スコ': 1875, '表示': 1876, '主要': 1877, '打ち': 1878, '相手': 1879, '装置': 1880, 'プレイ': 1881, '言語': 1882, '仲': 1883, '素': 1884, '##ルド': 1885, '仏': 1886, '欧': 1887, '報告': 1888, '方面': 1889, '##ルム': 1890, '行動': 1891, '以後': 1892, 'ボー': 1893, '運用': 1894, '部門': 1895, '強い': 1896, '種類': 1897, '到': 1898, '区間': 1899, '神社': 1900, '入れ': 1901, '掲載': 1902, '経験': 1903, '宝': 1904, '臨': 1905, '魔': 1906, '##ot': 1907, '弁': 1908, 'ドル': 1909, 'ユー': 1910, '依': 1911, '角': 1912, '支持': 1913, '志': 1914, '##込み': 1915, '血': 1916, '衛': 1917, 'はじめ': 1918, '近く': 1919, 'ネット': 1920, '美術': 1921, '方式': 1922, '拠': 1923, '##シン': 1924, '写真': 1925, '産業': 1926, '##古屋': 1927, '市立': 1928, '印': 1929, '付近': 1930, '##込ん': 1931, '分類': 1932, '慶': 1933, '巨': 1934, '##げる': 1935, '##ギュ': 1936, 'バイ': 1937, '名古屋': 1938, '現代': 1939, 'よれ': 1940, '批判': 1941, '高速': 1942, '合わせ': 1943, '##ントン': 1944, '議会': 1945, 'ワールド': 1946, 'しば': 1947, '有名': 1948, '##ER': 1949, '##らし': 1950, '紹介': 1951, '復帰': 1952, '男性': 1953, 'アク': 1954, '招': 1955, '1998': 1956, 'ょう': 1957, '息子': 1958, '32': 1959, '撤': 1960, '確認': 1961, '##ワー': 1962, '個人': 1963, '”': 1964, '王国': 1965, '潜': 1966, '##なわ': 1967, '45': 1968, 'CD': 1969, '地下': 1970, '翌年': 1971, '例えば': 1972, '広島': 1973, '正式': 1974, '##ad': 1975, 'ダム': 1976, '条件': 1977, '七': 1978, '保護': 1979, '##mu': 1980, 'FC': 1981, '平均': 1982, '効果': 1983, 'グラ': 1984, '傾': 1985, 'ぶり': 1986, '##ジャー': 1987, '##テレビ': 1988, 'イベント': 1989, '境': 1990, '入る': 1991, '事故': 1992, 'トップ': 1993, '司令': 1994, '民主': 1995, '進出': 1996, '##込ま': 1997, '憲': 1998, '00': 1999, '劇場': 2000, 'ミュージ': 2001, 'スーパー': 2002, 'イス': 2003, '政策': 2004, '##シャル': 2005, '尾': 2006, '鳥': 2007, 'モン': 2008, '1996': 2009, '犯': 2010, '物語': 2011, 'プレー': 2012, 'アレ': 2013, '聞': 2014, '質': 2015, 'にと': 2016, '朝鮮': 2017, '##デュー': 2018, '##ズム': 2019, '反対': 2020, '立ち': 2021, '地元': 2022, '求め': 2023, '設け': 2024, '1997': 2025, '地球': 2026, '同じく': 2027, '編集': 2028, '##od': 2029, '病院': 2030, '直接': 2031, 'にとって': 2032, '迎え': 2033, '##イア': 2034, '通信': 2035, '秀': 2036, '連載': 2037, '湖': 2038, 'St': 2039, '製品': 2040, '政権': 2041, 'アフ': 2042, '学生': 2043, '拡大': 2044, '唯': 2045, 'いくつ': 2046, '併': 2047, '症': 2048, '暗': 2049, '##キシ': 2050, 'The': 2051, '記述': 2052, '模': 2053, '電気': 2054, 'を通': 2055, '動物': 2056, 'ブロ': 2057, '波': 2058, '後半': 2059, '黄': 2060, 'ター': 2061, '観光': 2062, '##iv': 2063, 'カリ': 2064, 'NH': 2065, '流れ': 2066, '鹿': 2067, '##ガー': 2068, '受ける': 2069, 'ウォ': 2070, '祖': 2071, '##ur': 2072, '幅': 2073, '##トル': 2074, '##曜日': 2075, 'やす': 2076, '##学部': 2077, '出し': 2078, 'ごと': 2079, '率い': 2080, '##AN': 2081, '刑': 2082, '密': 2083, '漢': 2084, '##ロス': 2085, '>': 2086, 'め': 2087, '秒': 2088, '限定': 2089, '詩': 2090, '雑誌': 2091, '##ンドン': 2092, 'ファン': 2093, '1995': 2094, '成績': 2095, '抗': 2096, '##mula': 2097, '案': 2098, '楽曲': 2099, 'プラ': 2100, '##ブルク': 2101, '##繰り': 2102, '工事': 2103, '候補': 2104, '得点': 2105, '貨': 2106, '隣': 2107, '##パン': 2108, '作ら': 2109, '使っ': 2110, 'かけ': 2111, 'formula': 2112, 'カード': 2113, '取得': 2114, '維': 2115, 'かか': 2116, '将軍': 2117, '空港': 2118, '節': 2119, '事実': 2120, '王座': 2121, '##なり': 2122, '開業': 2123, '装備': 2124, '俳優': 2125, '##ジュ': 2126, '艦隊': 2127, '裏': 2128, '伯': 2129, '含め': 2130, '働': 2131, 'しよ': 2132, '排': 2133, '##ウェー': 2134, '作家': 2135, 'スク': 2136, '欠': 2137, '社長': 2138, '初代': 2139, '市内': 2140, '熊': 2141, 'the': 2142, '追加': 2143, '授': 2144, '##ネス': 2145, '概': 2146, '過去': 2147, '映像': 2148, '紙': 2149, '##ティング': 2150, '##ラル': 2151, '元年': 2152, '協力': 2153, '横浜': 2154, '苦': 2155, '##せる': 2156, '増加': 2157, '衆': 2158, '##ストン': 2159, '勤': 2160, 'cm': 2161, '繰り': 2162, '主人': 2163, '大臣': 2164, '詳': 2165, 'つつ': 2166, 'カナ': 2167, '##ウト': 2168, '各地': 2169, '障': 2170, '魚': 2171, '便': 2172, '頼': 2173, 'に関して': 2174, '##ちら': 2175, '福岡': 2176, '申': 2177, '国道': 2178, '500': 2179, 'サイト': 2180, '競馬': 2181, '近い': 2182, '近年': 2183, 'パリ': 2184, 'アジア': 2185, '細胞': 2186, 'a': 2187, '1994': 2188, '抜': 2189, 'NHK': 2190, '厳': 2191, '略': 2192, '唯一': 2193, '方向': 2194, '軍事': 2195, '少年': 2196, '林': 2197, '仕事': 2198, '燃': 2199, '##放送': 2200, 'プロデュー': 2201, 'Z': 2202, '“': 2203, '土地': 2204, '1960': 2205, 'テーマ': 2206, '故': 2207, '##イム': 2208, '暴': 2209, '新聞': 2210, '選ば': 2211, '住民': 2212, '途中': 2213, '示す': 2214, '冷': 2215, '従来': 2216, '言う': 2217, '焼': 2218, '1993': 2219, '敗れ': 2220, '国立': 2221, '損': 2222, '##ジナル': 2223, '##ゆる': 2224, '阿': 2225, '内閣': 2226, '残し': 2227, '1991': 2228, '##がる': 2229, '##んな': 2230, '1992': 2231, '塩': 2232, '##ッセ': 2233, '銃': 2234, 'ロック': 2235, '片': 2236, 'ハー': 2237, '##um': 2238, '##した': 2239, '##ルク': 2240, '##im': 2241, 'キャン': 2242, '界': 2243, '押': 2244, '撃': 2245, '##議院': 2246, '##まま': 2247, '##BS': 2248, 'ロンドン': 2249, 'つけ': 2250, '費': 2251, '植物': 2252, 'メートル': 2253, '免': 2254, '特定': 2255, '目指': 2256, 'ヴェ': 2257, '系統': 2258, '博士': 2259, '##レーション': 2260, '36': 2261, '専用': 2262, '層': 2263, '大型': 2264, '北部': 2265, '##から': 2266, '分野': 2267, '隠': 2268, '銀行': 2269, '市民': 2270, '##コード': 2271, '統合': 2272, 'にわ': 2273, '恐': 2274, '明らか': 2275, '軌': 2276, '33': 2277, '不明': 2278, '定義': 2279, '説明': 2280, 'ティ': 2281, '天皇': 2282, '家族': 2283, '標準': 2284, '規定': 2285, 'ゼ': 2286, '池': 2287, 'クラス': 2288, '##チュ': 2289, '##ピー': 2290, '一時': 2291, '台湾': 2292, '栄': 2293, '襲': 2294, 'シェ': 2295, 'II': 2296, '条約': 2297, 'なか': 2298, '##掛け': 2299, '貢': 2300, '向か': 2301, '承': 2302, '駐': 2303, '市場': 2304, '1989': 2305, '図書': 2306, '##スタン': 2307, '##ec': 2308, 'ギリ': 2309, '陣': 2310, '葉': 2311, '##ヤー': 2312, 'オリジナル': 2313, '亡': 2314, '芸術': 2315, '##IN': 2316, 'カン': 2317, '+': 2318, '代目': 2319, '誕': 2320, '核': 2321, '革命': 2322, '待': 2323, '##ークス': 2324, '誘': 2325, '阪': 2326, 'ひとつ': 2327, 'スコ': 2328, '配置': 2329, '##ールズ': 2330, '##替え': 2331, '##em': 2332, '遅': 2333, 'メーカー': 2334, '仙': 2335, '地上': 2336, 'にあ': 2337, '挑': 2338, '##こう': 2339, 'もう': 2340, '至る': 2341, '##ジェクト': 2342, '戦後': 2343, 'そのまま': 2344, '##ON': 2345, '射': 2346, '公演': 2347, '勢力': 2348, '呼び': 2349, '##ッション': 2350, '##がり': 2351, '外国': 2352, '指摘': 2353, '羽': 2354, '跡': 2355, '系列': 2356, '##クラ': 2357, '誕生': 2358, '日本語': 2359, '本部': 2360, '##デオ': 2361, '拠点': 2362, '業務': 2363, 'ゴール': 2364, '障害': 2365, '##ir': 2366, 'つい': 2367, '離れ': 2368, '80': 2369, '太平': 2370, '電子': 2371, '決め': 2372, 'シン': 2373, '示し': 2374, 'さん': 2375, '安全': 2376, '距離': 2377, '刊': 2378, '##AR': 2379, 'フロ': 2380, '伝統': 2381, '行為': 2382, '普通': 2383, '##イント': 2384, '##らく': 2385, '破壊': 2386, '主人公': 2387, '伸': 2388, '発電': 2389, '派遣': 2390, '所有': 2391, '残っ': 2392, '配信': 2393, 'プログ': 2394, '坂': 2395, '女優': 2396, '研究所': 2397, '宿': 2398, '独自': 2399, '没': 2400, 'In': 2401, '千葉': 2402, '##セス': 2403, '隻': 2404, '被害': 2405, '##クター': 2406, '似': 2407, '購': 2408, '法律': 2409, '描か': 2410, 'エン': 2411, '##シェ': 2412, '店舗': 2413, '切り': 2414, '盤': 2415, 'アラ': 2416, 'フレ': 2417, '哲': 2418, 'それら': 2419, '域': 2420, '崩': 2421, '##ゴン': 2422, '龍': 2423, '原因': 2424, '記載': 2425, '毛': 2426, '井': 2427, '##かし': 2428, '理論': 2429, '選択': 2430, '乱': 2431, '##リーン': 2432, '抑': 2433, '返': 2434, '##なく': 2435, '端': 2436, 'エル': 2437, '酒': 2438, '民族': 2439, 'オープン': 2440, '谷': 2441, '商品': 2442, '中継': 2443, '即': 2444, 'ベスト': 2445, '九州': 2446, '##メージ': 2447, '48': 2448, '建物': 2449, '進め': 2450, '少なく': 2451, '戸': 2452, '工業': 2453, '困': 2454, '創設': 2455, '張': 2456, '争': 2457, '実験': 2458, 'すぐ': 2459, '防衛': 2460, '原作': 2461, '津': 2462, '続く': 2463, '事務所': 2464, '1988': 2465, '録': 2466, '務める': 2467, '置か': 2468, 'クレ': 2469, 'スカ': 2470, '所在': 2471, '児': 2472, '成長': 2473, '要素': 2474, 'ベース': 2475, '##st': 2476, '##ia': 2477, '恋': 2478, '貢献': 2479, '##ut': 2480, '統一': 2481, 'あまり': 2482, '##ルー': 2483, '##ランダ': 2484, '達成': 2485, '同社': 2486, '##ラリア': 2487, '寛': 2488, '板': 2489, '##ウル': 2490, '185': 2491, '築': 2492, '訴': 2493, '建て': 2494, '維持': 2495, '##プロ': 2496, '##ピュー': 2497, '携': 2498, '包': 2499, '竹': 2500, 'くる': 2501, '思い': 2502, '##ーナ': 2503, '比べ': 2504, '集め': 2505, '吸': 2506, '##ブラ': 2507, '70': 2508, '<': 2509, '生物': 2510, '精神': 2511, '反応': 2512, '番号': 2513, '封': 2514, '1987': 2515, '##BC': 2516, '##トロ': 2517, '定め': 2518, '実現': 2519, '譲': 2520, '草': 2521, 'カナダ': 2522, '投票': 2523, '直後': 2524, '敷': 2525, '38': 2526, '##ゲン': 2527, '倒': 2528, 'ポー': 2529, '加入': 2530, 'ピア': 2531, 'サイ': 2532, '怪': 2533, 'アド': 2534, '##ag': 2535, '生き': 2536, '##カップ': 2537, '34': 2538, '55': 2539, 'キリスト': 2540, '##AS': 2541, '幹': 2542, '##ガン': 2543, '作成': 2544, '冬': 2545, '秘': 2546, '呼ぶ': 2547, '##ピオン': 2548, '望': 2549, '訓': 2550, 'きっ': 2551, '骨': 2552, 'ソ連': 2553, '麻': 2554, 'バル': 2555, '米国': 2556, '本社': 2557, '双': 2558, '追い': 2559, '##ウェア': 2560, '競走': 2561, 'イング': 2562, '海外': 2563, '墓': 2564, '##ブリ': 2565, '##ーリー': 2566, '告': 2567, '電話': 2568, '抱': 2569, '主演': 2570, '死亡': 2571, '介': 2572, '題': 2573, '##FA': 2574, 'いい': 2575, '宗教': 2576, 'セル': 2577, '1986': 2578, '紀元': 2579, '作り': 2580, '同盟': 2581, 'メイン': 2582, '関東': 2583, '避': 2584, '広く': 2585, '付き': 2586, '集団': 2587, '違い': 2588, '練': 2589, '改正': 2590, '1984': 2591, '→': 2592, '移転': 2593, '飲': 2594, 'アカ': 2595, '樹': 2596, '範': 2597, '欧州': 2598, '制御': 2599, '空間': 2600, '景': 2601, '理事': 2602, '##レット': 2603, '倍': 2604, 'ツアー': 2605, '君': 2606, '描い': 2607, '章': 2608, '行き': 2609, 'ます': 2610, '失敗': 2611, '料理': 2612, '##キュ': 2613, '太平洋': 2614, '##ランス': 2615, '体制': 2616, '毎年': 2617, '##リティ': 2618, '取締': 2619, 'バージ': 2620, '書き': 2621, '記事': 2622, '住宅': 2623, '護': 2624, '##キャ': 2625, 'ニュース': 2626, '##シング': 2627, '##バイ': 2628, '疑': 2629, '購入': 2630, '玉': 2631, '##VD': 2632, '男子': 2633, '1985': 2634, '商業': 2635, '##ポート': 2636, '責': 2637, '自体': 2638, '##oc': 2639, '緑': 2640, '##なる': 2641, '作業': 2642, '減少': 2643, '##AT': 2644, '刊行': 2645, '医療': 2646, '伝え': 2647, '報道': 2648, '思わ': 2649, '機構': 2650, '面積': 2651, '埋': 2652, '誤': 2653, '収め': 2654, '老': 2655, '##リート': 2656, '書か': 2657, 'ライン': 2658, '##ガル': 2659, 'カップ': 2660, '荒': 2661, '幸': 2662, '入学': 2663, '午': 2664, '##ネルギー': 2665, '砂': 2666, '原子': 2667, 'Ch': 2668, '##OR': 2669, 'ステージ': 2670, '##カン': 2671, 'オーストラリア': 2672, '##ay': 2673, '浮': 2674, '##惑星': 2675, '首都': 2676, '高く': 2677, '接続': 2678, '顔': 2679, '共通': 2680, '継承': 2681, '##合わせ': 2682, 'オランダ': 2683, '予選': 2684, '見せ': 2685, '語っ': 2686, '参戦': 2687, '観測': 2688, '##メラ': 2689, 'レギュ': 2690, '300': 2691, '奥': 2692, '結ぶ': 2693, '具': 2694, '古代': 2695, '速度': 2696, '##スティ': 2697, '歌手': 2698, '##ファー': 2699, 'スタジオ': 2700, '園': 2701, '神戸': 2702, 'ユダ': 2703, '##じて': 2704, '##リアム': 2705, 'しばし': 2706, 'ジョージ': 2707, '##返し': 2708, '亜': 2709, '資料': 2710, '連盟': 2711, 'ざ': 2712, '代わり': 2713, '鎮': 2714, 'パイ': 2715, '##ライン': 2716, '相当': 2717, '姉': 2718, '昇格': 2719, '図書館': 2720, '厚': 2721, '得る': 2722, '##メン': 2723, 'ホール': 2724, '中華': 2725, '役割': 2726, '奈': 2727, '要求': 2728, '』(': 2729, '自治体': 2730, 'ガン': 2731, '郵': 2732, '段階': 2733, '##ニュー': 2734, '化学': 2735, 'フル': 2736, '史上': 2737, '電車': 2738, 'DVD': 2739, '衝': 2740, '新潟': 2741, '軌道': 2742, '形態': 2743, '改革': 2744, '大学院': 2745, '##ミア': 2746, 'in': 2747, '皇帝': 2748, '制限': 2749, 'しばしば': 2750, '37': 2751, '浅': 2752, 'なさ': 2753, '旗': 2754, 'エネルギー': 2755, '1950': 2756, '沖縄': 2757, 'ヒット': 2758, '組合': 2759, '##しくは': 2760, '陽': 2761, '処理': 2762, '分か': 2763, '終わっ': 2764, '##ヴォ': 2765, '踏': 2766, 'g': 2767, '##合い': 2768, '札': 2769, '##ッケ': 2770, '向上': 2771, '基地': 2772, '上げ': 2773, '東北': 2774, '##たって': 2775, 'ユダヤ': 2776, 'ハン': 2777, '経由': 2778, 'ヶ月': 2779, '指す': 2780, '90': 2781, '兄弟': 2782, '##トゥ': 2783, '牧': 2784, '禁止': 2785, '起き': 2786, 'あれ': 2787, '弱': 2788, 'ゅう': 2789, '改造': 2790, '県立': 2791, '洋': 2792, '##ハン': 2793, '服': 2794, '税': 2795, '##ul': 2796, 'タン': 2797, '##ディー': 2798, '1945': 2799, '簡': 2800, '名誉': 2801, '基準': 2802, '鈴': 2803, '内部': 2804, 'レギュラー': 2805, '幕府': 2806, '停止': 2807, '強化': 2808, 'メディア': 2809, '##ュニ': 2810, '限り': 2811, 'クリス': 2812, '##出す': 2813, '近代': 2814, 'スケ': 2815, 'ダイ': 2816, '材': 2817, 'プロジェクト': 2818, '##パス': 2819, '提案': 2820, '奉': 2821, '1972': 2822, '##エン': 2823, '生まれる': 2824, '無い': 2825, '##塁打': 2826, '判断': 2827, '##フォル': 2828, '博物': 2829, '対立': 2830, '##ワード': 2831, '否': 2832, 'トレ': 2833, '指名': 2834, 'w': 2835, '##つけ': 2836, '任務': 2837, '憲法': 2838, '日本人': 2839, '拒': 2840, '交換': 2841, '陥': 2842, '隆': 2843, '投手': 2844, '生徒': 2845, '41': 2846, '首相': 2847, 'アフリカ': 2848, 'イングランド': 2849, '喜': 2850, 'ルー': 2851, '太陽': 2852, '紀元前': 2853, 'おら': 2854, '縁': 2855, '向かっ': 2856, '始まっ': 2857, '架': 2858, '地震': 2859, '立て': 2860, '孫': 2861, '希': 2862, '命令': 2863, '駆逐': 2864, '仕様': 2865, '復活': 2866, '見る': 2867, 'チャンピオン': 2868, 'ブランド': 2869, '測': 2870, '分離': 2871, '繁': 2872, 'リン': 2873, 'スピ': 2874, '##ースト': 2875, '折': 2876, '安定': 2877, '貴族': 2878, '##ri': 2879, '1983': 2880, 'タイプ': 2881, 'レコード': 2882, '基礎': 2883, '愛知': 2884, '少ない': 2885, '到着': 2886, 'メジャー': 2887, '用いる': 2888, 'フラ': 2889, '単位': 2890, '責任': 2891, '上記': 2892, '前後': 2893, '長い': 2894, 'グラン': 2895, '1982': 2896, '触': 2897, '取締役': 2898, '仁': 2899, 'レベル': 2900, '防御': 2901, '夢': 2902, '展示': 2903, 'コンピュー': 2904, '湾': 2905, '注目': 2906, '44': 2907, 'デジ': 2908, 'そこで': 2909, 'スタート': 2910, '強く': 2911, '詳細': 2912, '訓練': 2913, '1975': 2914, '42': 2915, '吹': 2916, '##ダム': 2917, '##ルコ': 2918, 'コース': 2919, '1981': 2920, '令': 2921, '##ずか': 2922, '##ers': 2923, '現役': 2924, '農業': 2925, '困難': 2926, '傾向': 2927, '犬': 2928, 'ちな': 2929, '更に': 2930, '184': 2931, 'バラ': 2932, '備え': 2933, '継続': 2934, '?': 2935, 'まと': 2936, 'もしくは': 2937, '師団': 2938, 'ポーランド': 2939, 'v': 2940, 'まだ': 2941, 'トリ': 2942, '機械': 2943, '番目': 2944, '機体': 2945, '西部': 2946, '純': 2947, '通過': 2948, '食べ': 2949, 'つく': 2950, '著作': 2951, '帰国': 2952, '##ce': 2953, '##ナム': 2954, 'グレ': 2955, '不可': 2956, '解散': 2957, '沈': 2958, '##ッサ': 2959, 'マーク': 2960, '##ST': 2961, '建造': 2962, 'フィリ': 2963, '延長': 2964, '##og': 2965, '李': 2966, '1973': 2967, 'CM': 2968, '主催': 2969, 'セント': 2970, 'こうした': 2971, '窓': 2972, '分け': 2973, '確保': 2974, '領域': 2975, '##太郎': 2976, '書い': 2977, '##ap': 2978, '1979': 2979, '##op': 2980, '功': 2981, 'kg': 2982, 'パラ': 2983, 'Q': 2984, 'きっかけ': 2985, '連絡': 2986, '##トラ': 2987, 'ガス': 2988, '南北': 2989, '肉': 2990, '発足': 2991, 'です': 2992, '##ダン': 2993, '本人': 2994, 'レイ': 2995, '推進': 2996, '堂': 2997, '衆議院': 2998, '父親': 2999, '##らい': 3000, 'コーナー': 3001, '使う': 3002, 'IC': 3003, 'つな': 3004, 'イメージ': 3005, '保存': 3006, '浜': 3007, '交流': 3008, '##ウォ': 3009, '対策': 3010, '脚本': 3011, '##ジョン': 3012, '関西': 3013, '皮': 3014, '属する': 3015, 'を通じて': 3016, '##ッフ': 3017, '供給': 3018, '郷': 3019, '鉱': 3020, '有する': 3021, '任命': 3022, 'クリ': 3023, '落ち': 3024, '起用': 3025, '本塁打': 3026, '桜': 3027, 'ポイント': 3028, '39': 3029, 'ビデオ': 3030, '富士': 3031, '##バート': 3032, '##奈川': 3033, '##づけ': 3034, '既に': 3035, '博物館': 3036, '##トリック': 3037, '狭': 3038, 'いわゆる': 3039, '動き': 3040, '地名': 3041, 'i': 3042, '華': 3043, '特殊': 3044, '置く': 3045, 'オール': 3046, '1978': 3047, '軸': 3048, '止': 3049, '183': 3050, 'ちゃ': 3051, '##ov': 3052, '##立て': 3053, '##込む': 3054, 'おお': 3055, '開幕': 3056, '壁': 3057, '自己': 3058, '言い': 3059, '小さな': 3060, '43': 3061, '味': 3062, 'みな': 3063, 'フジ': 3064, '前年': 3065, '1968': 3066, '埼': 3067, '治療': 3068, '静岡': 3069, '##ショナル': 3070, '散': 3071, '##アイ': 3072, '挑戦': 3073, '起こし': 3074, '逮': 3075, '郎': 3076, '##オー': 3077, 'コンサ': 3078, '##ard': 3079, '逮捕': 3080, 'ぐ': 3081, '照': 3082, '言っ': 3083, '##ルン': 3084, '範囲': 3085, '##続き': 3086, '操作': 3087, '週間': 3088, 'わずか': 3089, 'An': 3090, 'アップ': 3091, '##ビン': 3092, '冠': 3093, '比較的': 3094, '1971': 3095, '網': 3096, '本来': 3097, '山口': 3098, '車体': 3099, '##グラ': 3100, '登板': 3101, '微': 3102, '占領': 3103, '判定': 3104, '1976': 3105, '##ンサー': 3106, 'ドライ': 3107, '弘': 3108, '##トン': 3109, '##ドル': 3110, '訪れ': 3111, 'ウィリアム': 3112, '##AM': 3113, '漁': 3114, '入団': 3115, '大陸': 3116, '宣言': 3117, '##ワーク': 3118, 'ルート': 3119, '席': 3120, '##ルツ': 3121, '##フォルニア': 3122, '1974': 3123, '陸上': 3124, '全く': 3125, '全日本': 3126, '機器': 3127, '捜': 3128, '貨物': 3129, '刺': 3130, 'バック': 3131, 'マク': 3132, 'わけ': 3133, '後継': 3134, '天文': 3135, '当選': 3136, '読み': 3137, '充': 3138, '制定': 3139, '##BA': 3140, '交差': 3141, '翻': 3142, '後期': 3143, '応じ': 3144, '戦車': 3145, '仙台': 3146, '##ジル': 3147, 'オス': 3148, '意見': 3149, '##ニック': 3150, 'ユニット': 3151, 'e': 3152, '討': 3153, '東部': 3154, 'ライト': 3155, '神奈川': 3156, '改良': 3157, '!』': 3158, '改称': 3159, '署': 3160, 'キー': 3161, '周年': 3162, '##IC': 3163, '危険': 3164, 'プログラム': 3165, 'マイル': 3166, 'プロデューサー': 3167, '##なわち': 3168, 'シーン': 3169, 'すなわち': 3170, 'すれ': 3171, 'r': 3172, '輪': 3173, '更新': 3174, '号線': 3175, '共産': 3176, '##マス': 3177, '現れ': 3178, '耐': 3179, '地位': 3180, '計算': 3181, '46': 3182, '物質': 3183, '##ライナ': 3184, 'ぎ': 3185, '像': 3186, 'オーストリア': 3187, 'まず': 3188, '演じ': 3189, '180': 3190, '福島': 3191, '異なり': 3192, '1969': 3193, '思想': 3194, '##ーフ': 3195, '矢': 3196, '47': 3197, '執筆': 3198, '度目': 3199, '普及': 3200, '後述': 3201, 'カリフォルニア': 3202, '..': 3203, '長官': 3204, '埼玉': 3205, '名乗': 3206, '##ミン': 3207, '演出': 3208, '東日本': 3209, 'タイム': 3210, 'FI': 3211, '長野': 3212, 'さま': 3213, '概念': 3214, '...': 3215, '##ie': 3216, '##タイ': 3217, '訳': 3218, 'どの': 3219, 'モー': 3220, '康': 3221, 'だが': 3222, '柔': 3223, '##ub': 3224, '価格': 3225, '解説': 3226, '進学': 3227, 'ホテル': 3228, '分布': 3229, 'インタ': 3230, '区別': 3231, '回転': 3232, '1977': 3233, '少女': 3234, '因': 3235, '炭': 3236, '会員': 3237, '小型': 3238, '飾': 3239, '連隊': 3240, '互': 3241, '大量': 3242, '##レンジ': 3243, 'もた': 3244, 'デジタル': 3245, '今日': 3246, '##ak': 3247, '負け': 3248, '検討': 3249, '部屋': 3250, '意識': 3251, '期待': 3252, '置き': 3253, 'アト': 3254, '性能': 3255, '民間': 3256, '##AC': 3257, '奇': 3258, '##ッカ': 3259, '認定': 3260, 'アンド': 3261, '鎌': 3262, '##ツィ': 3263, '%、': 3264, '快': 3265, '殺害': 3266, '移行': 3267, '哲学': 3268, '歯': 3269, '溶': 3270, '茶': 3271, '51': 3272, '##ハー': 3273, 'ノー': 3274, '売り': 3275, '使い': 3276, '学部': 3277, '資金': 3278, '取引': 3279, '植民': 3280, '##SS': 3281, '##ノー': 3282, '停車': 3283, '400': 3284, 'l': 3285, '!」': 3286, '実行': 3287, 'ほう': 3288, '牛': 3289, '家庭': 3290, '##ロット': 3291, '##切り': 3292, 'ブリ': 3293, '作用': 3294, '再開': 3295, '消費': 3296, '庁': 3297, '温泉': 3298, '進ん': 3299, '勧': 3300, '54': 3301, '一定': 3302, '長崎': 3303, '##ケーション': 3304, '##50': 3305, '統治': 3306, '命名': 3307, '##EC': 3308, '中学': 3309, 'ギャ': 3310, '戻っ': 3311, '援': 3312, '諸島': 3313, '##メダル': 3314, '##チン': 3315, '交渉': 3316, '立場': 3317, 'たら': 3318, '塗': 3319, '給': 3320, '##イオ': 3321, '##ミング': 3322, '患': 3323, 'コンピュータ': 3324, '周囲': 3325, '本名': 3326, '郵便': 3327, '※': 3328, '課程': 3329, '勤務': 3330, '恵': 3331, '請': 3332, '##アップ': 3333, '向かう': 3334, 'ストーリー': 3335, 'アイド': 3336, '筋': 3337, '公立': 3338, '加盟': 3339, '通算': 3340, '声優': 3341, '岐': 3342, '##ニス': 3343, '##児島': 3344, 'ファイ': 3345, '削': 3346, '合計': 3347, '鹿児島': 3348, '想': 3349, 'なし': 3350, '結局': 3351, '目標': 3352, '##th': 3353, '罪': 3354, '##ザン': 3355, '件': 3356, '尊': 3357, '雄': 3358, '振り': 3359, '先発': 3360, '機会': 3361, '氷': 3362, '##かい': 3363, '隣接': 3364, '暮': 3365, '##ボン': 3366, '市街': 3367, 'イスラ': 3368, '習': 3369, '大きい': 3370, '1000': 3371, '##ーニ': 3372, '球団': 3373, '52': 3374, '##換え': 3375, '之': 3376, '##ッキ': 3377, '開設': 3378, '作っ': 3379, '学会': 3380, '方針': 3381, '##キシコ': 3382, '##EN': 3383, 'キロ': 3384, '東海': 3385, '結ん': 3386, 'コード': 3387, '##ind': 3388, '学科': 3389, 'ピアノ': 3390, '##リーグ': 3391, '##ティスト': 3392, 'スタイル': 3393, '作詞': 3394, '券': 3395, '目指し': 3396, 'プロレス': 3397, '通称': 3398, '##ベルク': 3399, 'ブラジル': 3400, '##ゼル': 3401, 'エレ': 3402, 'かなり': 3403, '顕': 3404, '撤退': 3405, '始める': 3406, '潜水': 3407, '1965': 3408, '施行': 3409, '権利': 3410, '杯': 3411, '締': 3412, '##グル': 3413, '暦': 3414, '感じ': 3415, '##av': 3416, '始まり': 3417, '渋': 3418, '##スカ': 3419, '##バン': 3420, '!!': 3421, '呼称': 3422, 'インディ': 3423, 'ぬ': 3424, '唐': 3425, '理解': 3426, '視聴': 3427, 'やすい': 3428, '出来る': 3429, '##レント': 3430, '囲': 3431, '布': 3432, '本格': 3433, '年生': 3434, 'スタッフ': 3435, '雲': 3436, '1964': 3437, '露': 3438, '市長': 3439, '##ドリ': 3440, '一覧': 3441, '伝説': 3442, '竜': 3443, '顧': 3444, '学園': 3445, '裁判所': 3446, '公共': 3447, '除く': 3448, 'ゾ': 3449, '適用': 3450, '姫': 3451, '設備': 3452, 'ゲスト': 3453, 'オペ': 3454, '前述': 3455, 'スウェー': 3456, '##でも': 3457, '低い': 3458, '幾': 3459, '兵庫': 3460, '分割': 3461, '資格': 3462, '貞': 3463, '##さん': 3464, '改善': 3465, 'ソロ': 3466, '##メートル': 3467, 'スウェーデン': 3468, 'パン': 3469, '出力': 3470, '扱い': 3471, 'インターネット': 3472, '児童': 3473, 'いち': 3474, '準備': 3475, '編入': 3476, '剣': 3477, '里': 3478, '夕': 3479, 'トロ': 3480, '物理': 3481, '1940': 3482, '抵': 3483, '部長': 3484, '##ルタ': 3485, '執行': 3486, '札幌': 3487, '行く': 3488, '1944': 3489, '平和': 3490, '液': 3491, '##ジン': 3492, '##共和': 3493, '雪': 3494, '衣': 3495, '中止': 3496, '在籍': 3497, '引き継': 3498, '地点': 3499, '与える': 3500, '##ist': 3501, 'あら': 3502, 'エド': 3503, '##共和国': 3504, 'ミサ': 3505, 'ルイ': 3506, '全員': 3507, '納': 3508, 'トゥ': 3509, '繋': 3510, 'ミュージック': 3511, '##サス': 3512, 'and': 3513, '押し': 3514, '文書': 3515, '論文': 3516, '##AL': 3517, '往': 3518, 'スパ': 3519, '霊': 3520, 'か月': 3521, '銅': 3522, '##ンズ': 3523, '背景': 3524, '長期': 3525, '1966': 3526, 'アイドル': 3527, '輝': 3528, '##鉄道': 3529, '(「': 3530, '##ミュ': 3531, '合流': 3532, '持た': 3533, '練習': 3534, '多かっ': 3535, '信号': 3536, '歴任': 3537, '##ジアム': 3538, '前作': 3539, '盗': 3540, '率いる': 3541, '##est': 3542, '##セル': 3543, '残り': 3544, '喫': 3545, '##かる': 3546, '##ill': 3547, '主題': 3548, '国鉄': 3549, '届': 3550, '鶴': 3551, '##ビエ': 3552, 'バージョン': 3553, 'プレイヤー': 3554, '##披露': 3555, 'ずつ': 3556, '試み': 3557, '議論': 3558, '徐': 3559, 'de': 3560, 'とり': 3561, '藩主': 3562, '過ぎ': 3563, '覚': 3564, '##おり': 3565, '取っ': 3566, '果たす': 3567, 'ミニ': 3568, 'エリア': 3569, '稲': 3570, '審査': 3571, '##20': 3572, '濃': 3573, '奈良': 3574, '固定': 3575, '生じ': 3576, '1967': 3577, '対抗': 3578, 'カメラ': 3579, '##でに': 3580, '世代': 3581, '出会': 3582, '##出さ': 3583, '属し': 3584, '典': 3585, 'アマ': 3586, '仲間': 3587, '定期': 3588, 'ロード': 3589, '前半': 3590, '許可': 3591, 'コミュニ': 3592, 'マイク': 3593, '##ざま': 3594, '##ine': 3595, '好き': 3596, 'すでに': 3597, '豪': 3598, '##ビル': 3599, '##ボー': 3600, '分析': 3601, '借': 3602, '征': 3603, '##がて': 3604, '表す': 3605, '##OM': 3606, '劉': 3607, 'やがて': 3608, '##ウンサー': 3609, '油': 3610, 'ヴォ': 3611, '作る': 3612, '##シャン': 3613, '良い': 3614, '発言': 3615, '集合': 3616, '浦': 3617, '直前': 3618, 'ランキング': 3619, '##らす': 3620, '##ーラ': 3621, '収容': 3622, '##フレ': 3623, '回戦': 3624, '結び': 3625, '##OS': 3626, '181': 3627, '岡山': 3628, 'ダイヤ': 3629, '1963': 3630, '命じ': 3631, '日間': 3632, '武器': 3633, '蔵': 3634, 'だろ': 3635, '##デミー': 3636, '燃料': 3637, '結合': 3638, '認識': 3639, '保険': 3640, '回復': 3641, '大半': 3642, '織': 3643, '衛星': 3644, 'トラック': 3645, '進行': 3646, '##ラスト': 3647, 'アナウンサー': 3648, '弁護': 3649, '1930': 3650, '拡張': 3651, '始まる': 3652, '診': 3653, '誰': 3654, 'カール': 3655, 'ダウン': 3656, '判決': 3657, '無く': 3658, '解決': 3659, '##ッキー': 3660, '上位': 3661, '58': 3662, '金属': 3663, '徳川': 3664, '蒸': 3665, '丘': 3666, '講師': 3667, '乗車': 3668, '長男': 3669, '冒': 3670, '##とう': 3671, '伴う': 3672, 'ブレー': 3673, '岐阜': 3674, '迫': 3675, '友人': 3676, '管轄': 3677, '象': 3678, '緊': 3679, '関数': 3680, '##ーンズ': 3681, '亡く': 3682, '##NA': 3683, '箱': 3684, '検査': 3685, 'つまり': 3686, '寿': 3687, '提出': 3688, 'トンネル': 3689, '53': 3690, '空軍': 3691, '阪神': 3692, 'エア': 3693, '民主党': 3694, '炎': 3695, '##バス': 3696, '海岸': 3697, '##ゲーム': 3698, '##フォン': 3699, 'TV': 3700, '現象': 3701, '亀': 3702, '額': 3703, '##ッピ': 3704, '北西': 3705, '我': 3706, '湯': 3707, '推定': 3708, '1943': 3709, 'メキシコ': 3710, '崩壊': 3711, 'TBS': 3712, '単独': 3713, '策': 3714, '##ct': 3715, '##ロール': 3716, '堀': 3717, '##igh': 3718, '古い': 3719, 'セット': 3720, '##ない': 3721, 'ワン': 3722, '披露': 3723, '恒': 3724, '芸能': 3725, 'ポルト': 3726, '否定': 3727, '##シャー': 3728, '摂': 3729, '##新聞': 3730, '増え': 3731, '##ケル': 3732, '必ず': 3733, '##デス': 3734, '##ナス': 3735, '形状': 3736, '戦略': 3737, '##ab': 3738, 'マネ': 3739, '高度': 3740, '雨': 3741, 'スコット': 3742, '善': 3743, '##もの': 3744, '(『': 3745, '出る': 3746, '原則': 3747, '拒否': 3748, 'ヘン': 3749, 'AT': 3750, '処分': 3751, '熊本': 3752, '記者': 3753, '##ペン': 3754, '1942': 3755, 'かかわら': 3756, '聴': 3757, '1941': 3758, '積極': 3759, '##チャー': 3760, '##ラント': 3761, 'モード': 3762, '1962': 3763, '×': 3764, '嘉': 3765, '解放': 3766, '##AP': 3767, '侵攻': 3768, '呼ん': 3769, '支払': 3770, '金融': 3771, '##リコ': 3772, '名義': 3773, '表明': 3774, '各国': 3775, '南西': 3776, '発射': 3777, '大幅': 3778, '本拠': 3779, '鎌倉': 3780, 'フォー': 3781, 'カトリック': 3782, '歩兵': 3783, 'ポール': 3784, '沿い': 3785, '県内': 3786, '電力': 3787, 'どちら': 3788, '組み合わせ': 3789, '規制': 3790, '剤': 3791, '基づい': 3792, '##クロ': 3793, 'PC': 3794, '負傷': 3795, '反乱': 3796, '手法': 3797, '遺伝': 3798, 'さまざま': 3799, '不足': 3800, 'ワールドカップ': 3801, '##ob': 3802, '人民': 3803, '有効': 3804, '王者': 3805, '##ジョ': 3806, '旅行': 3807, 'ラテン': 3808, '狙': 3809, '翼': 3810, '飯': 3811, '##ゴル': 3812, '低下': 3813, '移住': 3814, 'パート': 3815, '##eb': 3816, '前身': 3817, '証明': 3818, '##FC': 3819, '傘': 3820, '会場': 3821, '##衛隊': 3822, '巨大': 3823, '称し': 3824, '至っ': 3825, 'リスト': 3826, '##ピン': 3827, 'すぎ': 3828, '犯罪': 3829, '珍': 3830, '依頼': 3831, '闘': 3832, '##人民': 3833, '礼': 3834, 'ニコ': 3835, '巻き': 3836, '1948': 3837, '##ik': 3838, 'ペン': 3839, '開通': 3840, '済': 3841, '集落': 3842, '##オブ': 3843, '##ゼン': 3844, '各種': 3845, '承認': 3846, '次第': 3847, '75': 3848, '区域': 3849, '録音': 3850, 'リング': 3851, '##ブン': 3852, '56': 3853, '開か': 3854, '床': 3855, 'TO': 3856, 'ジャー': 3857, 'び': 3858, '朝日': 3859, '満た': 3860, '特急': 3861, '調整': 3862, 'ルール': 3863, 'アーティスト': 3864, '##ess': 3865, '))': 3866, '古墳': 3867, 'コーチ': 3868, '考える': 3869, 'ギリシャ': 3870, 'ー': 3871, '覆': 3872, '合成': 3873, '残さ': 3874, '相互': 3875, 'ケース': 3876, '##やか': 3877, '諸国': 3878, '##チュー': 3879, '65': 3880, '価値': 3881, '遺跡': 3882, '貸': 3883, '買収': 3884, '伊勢': 3885, '大使': 3886, 'エピ': 3887, 'ヒト': 3888, '母親': 3889, 'キング': 3890, '奴': 3891, '健康': 3892, '広告': 3893, '現地': 3894, '##シック': 3895, '昌': 3896, '祝': 3897, 'プリ': 3898, 'GP': 3899, 'コンビ': 3900, '##ッテ': 3901, 'エジ': 3902, '##サル': 3903, '毎日': 3904, '生息': 3905, '179': 3906, 'ハンガ': 3907, 'x': 3908, 'Al': 3909, '##ンタル': 3910, '1920': 3911, '殿': 3912, 'まし': 3913, 'ワシ': 3914, '俊': 3915, '注意': 3916, 'アカデミー': 3917, 'アリ': 3918, '騒': 3919, '確立': 3920, '倉': 3921, '中世': 3922, 'けん': 3923, '##ーブル': 3924, 'ハード': 3925, '基づく': 3926, '答': 3927, '##調査': 3928, '河川': 3929, '消滅': 3930, '促': 3931, '新人': 3932, '翻訳': 3933, 'ボール': 3934, '抵抗': 3935, 'フジテレビ': 3936, 'ぼ': 3937, '洗': 3938, '戦隊': 3939, 'br': 3940, 'せい': 3941, '箇': 3942, '64': 3943, '入社': 3944, '##ティン': 3945, '表面': 3946, '##ジション': 3947, '1946': 3948, '##IS': 3949, '又': 3950, '薄': 3951, 'とっ': 3952, 'ロボ': 3953, '外交': 3954, '投げ': 3955, '秋田': 3956, '##ティア': 3957, '修道': 3958, 'あたる': 3959, '61': 3960, '性格': 3961, '空気': 3962, '1961': 3963, '##ポン': 3964, '##ーネ': 3965, 'にあたる': 3966, '°': 3967, '塔': 3968, '##プラ': 3969, '医師': 3970, 'コンサート': 3971, '57': 3972, 'バン': 3973, '元々': 3974, '##ドゥ': 3975, 'かい': 3976, 'ナイ': 3977, '擁': 3978, '看': 3979, '頻': 3980, 'ベルリン': 3981, '協議': 3982, '投資': 3983, '鈴木': 3984, '1947': 3985, '雇': 3986, '##オフ': 3987, 'オン': 3988, '危機': 3989, 'レッド': 3990, '##人民共和国': 3991, '##HE': 3992, '居住': 3993, 'カラー': 3994, 'フランク': 3995, 'ソフトウェア': 3996, '柳': 3997, '##ッハ': 3998, '##ノン': 3999, 'リア': 4000, '初め': 4001, '東西': 4002, '優れ': 4003, '新設': 4004, '150': 4005, '尚': 4006, 'テキ': 4007, '##イルランド': 4008, '全米': 4009, '##シュタ': 4010, '敬': 4011, '国勢': 4012, '兵士': 4013, '英国': 4014, '##ウェイ': 4015, '政党': 4016, '達し': 4017, '##ph': 4018, '中間': 4019, '有し': 4020, '知っ': 4021, '貿': 4022, '兵器': 4023, '平方': 4024, '脳': 4025, '融': 4026, 'ばかり': 4027, '紅': 4028, '過程': 4029, '十分': 4030, '侯': 4031, '飼': 4032, '北東': 4033, '1956': 4034, 'ブラック': 4035, '国勢調査': 4036, '49': 4037, 'ごろ': 4038, '従事': 4039, 'シンガ': 4040, '筆': 4041, '患者': 4042, '生成': 4043, '##ストラ': 4044, 'ミサイル': 4045, 'っ': 4046, '泉': 4047, '##くり': 4048, 'SP': 4049, '置い': 4050, '##ティブ': 4051, '磁': 4052, '陰': 4053, '##いに': 4054, 'だい': 4055, '投入': 4056, '分子': 4057, '去': 4058, '古く': 4059, '用意': 4060, '貿易': 4061, 'アレク': 4062, 'スキ': 4063, '起こっ': 4064, '梅': 4065, '##トリ': 4066, 'th': 4067, '##ターン': 4068, '##レート': 4069, '1949': 4070, '附': 4071, '二つ': 4072, '医学': 4073, '求める': 4074, '##ども': 4075, '乾': 4076, '世帯': 4077, 'にわたって': 4078, '初頭': 4079, '国王': 4080, '香港': 4081, '装甲': 4082, '##ーリ': 4083, '統計': 4084, '階級': 4085, '##シップ': 4086, '62': 4087, 'ハンガリー': 4088, '飛び': 4089, '##ゼルス': 4090, 'ひろ': 4091, 'モスク': 4092, '##キア': 4093, '失っ': 4094, '打率': 4095, '記さ': 4096, '##リアン': 4097, 'サラ': 4098, '手が': 4099, '画家': 4100, '航空機': 4101, 'ネットワーク': 4102, 'エリ': 4103, '多様': 4104, '残る': 4105, '変え': 4106, 'インタビュー': 4107, 'もつ': 4108, '長く': 4109, '##がっこう': 4110, '勇': 4111, '姓': 4112, '趣': 4113, '##ナイ': 4114, 'やや': 4115, '超える': 4116, 'ブロック': 4117, ']': 4118, '–': 4119, '##ーブ': 4120, '##組み': 4121, '硬': 4122, 'オブ': 4123, 'コント': 4124, '知識': 4125, '自転': 4126, '見える': 4127, '同士': 4128, '見つ': 4129, '送り': 4130, '182': 4131, '##ud': 4132, '##ティック': 4133, '綱': 4134, '機動': 4135, '##マーク': 4136, '##ice': 4137, '合格': 4138, '##ビエト': 4139, 'トレー': 4140, '贈': 4141, '##シス': 4142, '財団': 4143, '食品': 4144, '1954': 4145, '1958': 4146, '##プル': 4147, 'むら': 4148, 'st': 4149, '神経': 4150, 'エジプト': 4151, 'グランプリ': 4152, '嫌': 4153, '工学': 4154, '集中': 4155, '1952': 4156, 'コマ': 4157, '国会': 4158, '駒': 4159, 'たと': 4160, 'まとめ': 4161, '##ip': 4162, '具体': 4163, '1955': 4164, '係': 4165, '過ご': 4166, '##サイ': 4167, 'もら': 4168, '側面': 4169, '強制': 4170, '叙': 4171, '##チュア': 4172, '178': 4173, '田中': 4174, '杉': 4175, '艇': 4176, '##art': 4177, '奏': 4178, '##VE': 4179, '画面': 4180, '通っ': 4181, '限ら': 4182, 'カバー': 4183, '惑星': 4184, '教え': 4185, '青年': 4186, 'ちゃん': 4187, 'ソビエト': 4188, 'ワシントン': 4189, 'づ': 4190, '孝': 4191, '滅': 4192, '輸出': 4193, '##ok': 4194, '##ell': 4195, '国境': 4196, '西側': 4197, 'ヘル': 4198, '走行': 4199, '##AD': 4200, '発達': 4201, '終わり': 4202, '和歌': 4203, '緩': 4204, '再建': 4205, '改名': 4206, '閉鎖': 4207, 'ポルトガル': 4208, '##ge': 4209, '##レル': 4210, '指示': 4211, '##リュー': 4212, '##ワイト': 4213, 'スペシャル': 4214, '芝': 4215, 'に際': 4216, 'デュ': 4217, '個体': 4218, '宮城': 4219, 'シティ': 4220, '財政': 4221, '連れ': 4222, '続ける': 4223, '\"(': 4224, '信仰': 4225, '旅客': 4226, '流れる': 4227, '瀬': 4228, '灯': 4229, '末期': 4230, '死後': 4231, '育成': 4232, '規格': 4233, '解釈': 4234, '誇': 4235, '保有': 4236, '学ん': 4237, '議長': 4238, '輸入': 4239, '##up': 4240, '体育': 4241, '呉': 4242, '教師': 4243, 'グリーン': 4244, '三菱': 4245, 'ショー': 4246, '##たっ': 4247, '##ニュ': 4248, '分の': 4249, '知事': 4250, '送っ': 4251, '名付け': 4252, 'ST': 4253, '再生': 4254, '毎週': 4255, '留学': 4256, 'イオン': 4257, 'アシ': 4258, '用語': 4259, '終え': 4260, '##イング': 4261, '鬼': 4262, '##せん': 4263, '一族': 4264, '一緒': 4265, '地帯': 4266, '遺産': 4267, 'ブルー': 4268, '阻': 4269, '##ピア': 4270, '中部': 4271, '臨時': 4272, '衝突': 4273, '##ET': 4274, '軍人': 4275, 'に従': 4276, '初回': 4277, '##ブレ': 4278, '##バンド': 4279, '争い': 4280, '希望': 4281, 'しまい': 4282, 'サポート': 4283, '穴': 4284, 'カラ': 4285, '保守': 4286, '地下鉄': 4287, 'そのもの': 4288, '栽': 4289, 'ダン': 4290, 'ビジ': 4291, '収入': 4292, '学習': 4293, '左右': 4294, '箇所': 4295, '##リーム': 4296, '筑': 4297, '##ant': 4298, 'ろ': 4299, 'サイド': 4300, '貫': 4301, '##起こ': 4302, '守備': 4303, '小学': 4304, 'ころ': 4305, 'テン': 4306, 'イラスト': 4307, '##if': 4308, '規則': 4309, 'ページ': 4310, 'オル': 4311, '上昇': 4312, '境界': 4313, '[': 4314, '吸収': 4315, '略称': 4316, '##天皇': 4317, '有力': 4318, '##ながら': 4319, '尽': 4320, '滑': 4321, 'コレ': 4322, '護衛': 4323, '##ソード': 4324, 'チャート': 4325, '悲': 4326, '##フル': 4327, '吉田': 4328, '文庫': 4329, '資本': 4330, '子会社': 4331, '1953': 4332, '序': 4333, '庭': 4334, '貧': 4335, '##ヌス': 4336, '##all': 4337, 'IS': 4338, 'べく': 4339, '渡り': 4340, '話し': 4341, '挟': 4342, '##工業': 4343, 'あげ': 4344, '##ヴァン': 4345, '1959': 4346, '傘下': 4347, '同一': 4348, '##戦争': 4349, 'あたり': 4350, '茂': 4351, '裕': 4352, 'ノル': 4353, '年齢': 4354, 'Re': 4355, 'シー': 4356, '愛称': 4357, '捜査': 4358, '業界': 4359, '職員': 4360, 'おこ': 4361, '区分': 4362, '1937': 4363, '〈': 4364, '儀': 4365, '放射': 4366, '様子': 4367, '現場': 4368, '分かれ': 4369, '努': 4370, '徹': 4371, '##ッコ': 4372, '##民国': 4373, 'ギター': 4374, 'キャリア': 4375, '丹': 4376, '\"\"': 4377, '構想': 4378, 'ランド': 4379, '〉': 4380, '##モンド': 4381, '##ッター': 4382, 'スイス': 4383, '##レーター': 4384, '##シル': 4385, '出現': 4386, '1939': 4387, '滞': 4388, '石川': 4389, '災': 4390, '##務省': 4391, '昇進': 4392, '##ワイ': 4393, '悪化': 4394, '##フォード': 4395, '富山': 4396, '常に': 4397, '##スタント': 4398, 'ジュニア': 4399, '性質': 4400, 'サイズ': 4401, 'アイルランド': 4402, 'ぜ': 4403, '偽': 4404, '中村': 4405, '事態': 4406, '海上': 4407, '##ベルト': 4408, 'しん': 4409, 'コロ': 4410, '義務': 4411, '取り上げ': 4412, '縦': 4413, '業者': 4414, '##トナム': 4415, 'ちょう': 4416, 'ロサン': 4417, '共に': 4418, '現実': 4419, '重量': 4420, '##ows': 4421, 'いえ': 4422, '晩': 4423, '眼': 4424, '遂': 4425, '下記': 4426, '予備': 4427, '同日': 4428, 'スペース': 4429, 'スマ': 4430, '合意': 4431, '要請': 4432, '引き続き': 4433, '募': 4434, '##取り': 4435, 'デン': 4436, 'アプリ': 4437, 'オート': 4438, 'トルコ': 4439, '美術館': 4440, 'ロサンゼルス': 4441, '菊': 4442, '携帯': 4443, 'タレント': 4444, 'グリ': 4445, '容易': 4446, '手段': 4447, 'およそ': 4448, '卵': 4449, 'サブ': 4450, 'レス': 4451, '交差点': 4452, '武装': 4453, '現存': 4454, 'ドラフト': 4455, '邦': 4456, '寺院': 4457, '玄': 4458, '話題': 4459, 'ダンス': 4460, '1957': 4461, '茨': 4462, '那': 4463, '##チス': 4464, '北京': 4465, '実業': 4466, 'あと': 4467, '判明': 4468, '数学': 4469, '最多': 4470, '##ッタ': 4471, '交響': 4472, '深夜': 4473, '控': 4474, '##ナン': 4475, '協定': 4476, 'フィン': 4477, '○': 4478, '思っ': 4479, '続き': 4480, 'いき': 4481, '申し': 4482, '59': 4483, 'シュー': 4484, '受け入れ': 4485, '汚': 4486, '##動車': 4487, '創業': 4488, '##立つ': 4489, '63': 4490, 'ダブル': 4491, '寝': 4492, 'トラン': 4493, 'こそ': 4494, '伸び': 4495, '沿岸': 4496, '藤原': 4497, 'Wind': 4498, '##ive': 4499, '南東': 4500, '渡っ': 4501, 'ユーザー': 4502, 'ポジション': 4503, '##幹線': 4504, '仏教': 4505, '実質': 4506, '##マル': 4507, 'なん': 4508, '600': 4509, 'エピソード': 4510, '##チョ': 4511, '著書': 4512, '177': 4513, '##our': 4514, 'クー': 4515, '明確': 4516, '無線': 4517, '##リーナ': 4518, 'サウンド': 4519, '共演': 4520, '魔法': 4521, '妹': 4522, '##プス': 4523, '免許': 4524, 'げ': 4525, '荘': 4526, '佐藤': 4527, '落と': 4528, '動作': 4529, '数多': 4530, '鑑': 4531, '保持': 4532, '出さ': 4533, '知り': 4534, '街道': 4535, '##フラン': 4536, 'よい': 4537, '一種': 4538, '徐々': 4539, '自転車': 4540, '##たい': 4541, '##テナ': 4542, 'いか': 4543, '本線': 4544, '繰り返し': 4545, 'テロ': 4546, 'メモ': 4547, '急行': 4548, '項目': 4549, '##セント': 4550, 'る': 4551, '##テム': 4552, '##ウント': 4553, '徐々に': 4554, '弁護士': 4555, '遭': 4556, '著名': 4557, 'りつ': 4558, 'ヌ': 4559, 'De': 4560, 'かん': 4561, '##qu': 4562, '栽培': 4563, '中華人民共和国': 4564, 'とど': 4565, '毒': 4566, '胸': 4567, '願': 4568, 'ウク': 4569, '弟子': 4570, '複雑': 4571, '##アンド': 4572, '爆撃': 4573, '自宅': 4574, '週刊': 4575, '青森': 4576, '##もって': 4577, '次第に': 4578, 'オーディ': 4579, '出す': 4580, '僧': 4581, '軍団': 4582, 'マシン': 4583, 'もっとも': 4584, '##エス': 4585, '様式': 4586, 'ロケット': 4587, '両方': 4588, '稼': 4589, '早く': 4590, '爆発': 4591, '興行': 4592, 'モスクワ': 4593, ')』': 4594, 'チョ': 4595, '活用': 4596, 'ギリシア': 4597, 'チャンネル': 4598, '両者': 4599, '主力': 4600, '##ロード': 4601, '参謀': 4602, '新宿': 4603, '1938': 4604, '笑': 4605, '創立': 4606, '売却': 4607, '駅舎': 4608, 'テスト': 4609, '東京大学': 4610, '鳴': 4611, '大和': 4612, '楽し': 4613, '1951': 4614, '改修': 4615, '##コール': 4616, 'フライ': 4617, '変換': 4618, '将来': 4619, '800': 4620, 'ファイル': 4621, '歌詞': 4622, '進む': 4623, '次元': 4624, 'モンゴル': 4625, '##けん': 4626, 'はず': 4627, 'マリ': 4628, '類似': 4629, 'Ar': 4630, '盛ん': 4631, '超え': 4632, '川崎': 4633, '遠征': 4634, 'ドア': 4635, '故障': 4636, 'ボク': 4637, '翌日': 4638, '票': 4639, 'スロ': 4640, '戦死': 4641, '戦艦': 4642, '授与': 4643, '上陸': 4644, '正確': 4645, 'ビジネス': 4646, 'デイ': 4647, 'ラグ': 4648, '感染': 4649, 'とう': 4650, '半島': 4651, '姉妹': 4652, '消防': 4653, '混乱': 4654, '県道': 4655, 'ヤマ': 4656, '腕': 4657, '##キン': 4658, '代理': 4659, '学び': 4660, '構築': 4661, '##っと': 4662, '予想': 4663, '##ヴァー': 4664, '当たり': 4665, '文献': 4666, '恩': 4667, '泰': 4668, 'あい': 4669, 'ゆう': 4670, '人類': 4671, '天正': 4672, 'アクセス': 4673, 'ロボット': 4674, '差し': 4675, 'をもって': 4676, '岸': 4677, '縮': 4678, '陳': 4679, '事情': 4680, '大分': 4681, '不可能': 4682, '扉': 4683, '賛': 4684, '頂': 4685, 'シカ': 4686, '古典': 4687, '##ジット': 4688, '扱う': 4689, '彫': 4690, '無料': 4691, '割り': 4692, '##ントリー': 4693, '荷': 4694, '雅': 4695, 'Sh': 4696, '流行': 4697, '##ともと': 4698, 'もともと': 4699, '##ort': 4700, '山本': 4701, '描く': 4702, '松本': 4703, '武蔵': 4704, '##プレイ': 4705, 'まつ': 4706, 'ウクライナ': 4707, '##ワン': 4708, 'SS': 4709, 'やり': 4710, '刑事': 4711, 'ヒュー': 4712, '##ダクション': 4713, '##震災': 4714, '1936': 4715, 'を通して': 4716, '腹': 4717, 'Un': 4718, '享': 4719, '柱': 4720, '半ば': 4721, '重ね': 4722, '奴隷': 4723, '補助': 4724, '##クソン': 4725, '身体': 4726, '##ホール': 4727, '勲': 4728, '##フス': 4729, 'うえ': 4730, 'ウェブ': 4731, '##ミニ': 4732, 'エイ': 4733, '##クトル': 4734, '##ran': 4735, 'ブレ': 4736, '人員': 4737, '逃げ': 4738, '離脱': 4739, 'まさ': 4740, 'ソング': 4741, 'ディー': 4742, '##RE': 4743, '##io': 4744, '半分': 4745, 'プレミア': 4746, '乳': 4747, '払': 4748, '一番': 4749, '##エスト': 4750, '##ームズ': 4751, 'THE': 4752, '怒': 4753, 'おか': 4754, '不安': 4755, '即位': 4756, '短期': 4757, '訪問': 4758, '##ヘン': 4759, '##立っ': 4760, '上映': 4761, '懸': 4762, '文化財': 4763, '予算': 4764, '戦国': 4765, '転換': 4766, '極めて': 4767, 'Pro': 4768, '##ーマン': 4769, '徳島': 4770, '測定': 4771, '若い': 4772, 'Windows': 4773, '債': 4774, '休止': 4775, '午後': 4776, '考慮': 4777, '紛': 4778, '##デー': 4779, '##ate': 4780, '標高': 4781, '##もなく': 4782, '函': 4783, '徴': 4784, '鋼': 4785, '異なっ': 4786, '##ich': 4787, '敗北': 4788, '重視': 4789, 'イスラエル': 4790, '働き': 4791, '権力': 4792, '赴': 4793, 'いつ': 4794, 'マリア': 4795, '共産党': 4796, '場面': 4797, '晴': 4798, 'そんな': 4799, '少し': 4800, '山形': 4801, '提携': 4802, '資源': 4803, '##ベット': 4804, ':\"': 4805, '殺人': 4806, '遅れ': 4807, 'ファミ': 4808, 'アメリカン': 4809, '慣': 4810, '##ログ': 4811, '##入り': 4812, 'ハリ': 4813, '掛け': 4814, '##レッジ': 4815, '術': 4816, 'ベトナム': 4817, 'よし': 4818, '広場': 4819, '72': 4820, 're': 4821, '締結': 4822, 'ズ': 4823, '##マイ': 4824, 'パス': 4825, '160': 4826, 'オーバー': 4827, 'しかしながら': 4828, '季': 4829, 'かも': 4830, 'くれ': 4831, '戦線': 4832, '起源': 4833, 'ちなみ': 4834, '西日本': 4835, 'アクション': 4836, '噴': 4837, 'オフ': 4838, '主体': 4839, '単純': 4840, '知る': 4841, 'Ne': 4842, '大賞': 4843, '放映': 4844, '画像': 4845, '##捨て': 4846, 'じゃ': 4847, '発着': 4848, '##ンスター': 4849, '##IT': 4850, '勃': 4851, '76': 4852, '敷地': 4853, '次い': 4854, '信頼': 4855, '追放': 4856, 'Com': 4857, '##チェンジ': 4858, '機種': 4859, '小さい': 4860, '先行': 4861, '襲撃': 4862, 'プリン': 4863, 'ジャパン': 4864, '##弦楽': 4865, 'Mar': 4866, 'タウン': 4867, '本拠地': 4868, '##OL': 4869, '冊': 4870, 'こちら': 4871, 'レーベル': 4872, '傷': 4873, '演劇': 4874, '##タウン': 4875, '所在地': 4876, 'FIFA': 4877, '興味': 4878, 'ブレーキ': 4879, '##やし': 4880, '効率': 4881, '変わっ': 4882, '狩': 4883, '動画': 4884, '激しい': 4885, '衰': 4886, 'FM': 4887, '心理': 4888, '桃': 4889, '芳': 4890, '葬': 4891, '##ルズ': 4892, 'マラ': 4893, '出走': 4894, '模様': 4895, '染': 4896, '痛': 4897, '療': 4898, '称さ': 4899, 'ヘンリー': 4900, '##ーナメント': 4901, '三重': 4902, '手紙': 4903, '描写': 4904, '##ID': 4905, '智': 4906, '棟': 4907, '酵': 4908, '斎': 4909, '両親': 4910, '##サンド': 4911, '##フィア': 4912, '☆': 4913, '々': 4914, 'シナ': 4915, 'モノ': 4916, '##ight': 4917, '挿': 4918, '疾': 4919, '北朝': 4920, '歴代': 4921, '称号': 4922, '除い': 4923, '数多く': 4924, '雷': 4925, '神話': 4926, '才': 4927, '##帝国': 4928, '包囲': 4929, '絵画': 4930, '#': 4931, '脅': 4932, '付属': 4933, '幅広': 4934, ')、『': 4935, '温度': 4936, '見え': 4937, 'シャー': 4938, '生命': 4939, '措': 4940, '任意': 4941, '伊藤': 4942, '占め': 4943, 'オペラ': 4944, '壊': 4945, '体験': 4946, '午前': 4947, 'コンク': 4948, 'ロバート': 4949, 'アウ': 4950, '住ん': 4951, '##ライト': 4952, '##リウス': 4953, 'レコー': 4954, 'ホワイト': 4955, '一致': 4956, '生涯': 4957, '##フォーマ': 4958, '##優秀': 4959, '姿勢': 4960, '##ハウス': 4961, '最優秀': 4962, '##ss': 4963, '淡': 4964, 'カタ': 4965, '中期': 4966, '山田': 4967, '移り': 4968, '人工': 4969, '120': 4970, '修正': 4971, '小田': 4972, '書籍': 4973, '##ne': 4974, '##バラ': 4975, '##ity': 4976, '\"、': 4977, '外部': 4978, 'コメ': 4979, '公表': 4980, '平安': 4981, '取り入れ': 4982, '印刷': 4983, '改め': 4984, '記憶': 4985, 'メル': 4986, '措置': 4987, '東側': 4988, '##ミナル': 4989, '1933': 4990, '##カス': 4991, '##ッズ': 4992, 'ナポ': 4993, '##テイン': 4994, '菌': 4995, 'Th': 4996, '##取っ': 4997, '守護': 4998, '1934': 4999, '##スペ': 5000, 'Le': 5001, '単に': 5002, '守る': 5003, '格闘': 5004, '清水': 5005, '##サイト': 5006, '紫': 5007, '耳': 5008, '預': 5009, '活性': 5010, '##センス': 5011, '##レンス': 5012, '斉': 5013, 'US': 5014, '気候': 5015, '依存': 5016, '高橋': 5017, '禄': 5018, 'PS': 5019, 'せん': 5020, '警備': 5021, 'ガラス': 5022, 'プライ': 5023, '1931': 5024, 'スコットランド': 5025, '##RO': 5026, '夫人': 5027, '観客': 5028, 'とおり': 5029, 'BS': 5030, '解体': 5031, '羅': 5032, '##イロ': 5033, 'たく': 5034, '生み': 5035, '秘密': 5036, 'コピー': 5037, '日本テレビ': 5038, '68': 5039, '差別': 5040, '関心': 5041, '下り': 5042, '##ord': 5043, '取る': 5044, 'パーソ': 5045, '評論': 5046, '関与': 5047, '##セプト': 5048, 'フォード': 5049, '##チア': 5050, '##プレ': 5051, '##oun': 5052, 'マグ': 5053, '茨城': 5054, '##シティ': 5055, 'アニメーション': 5056, '##ED': 5057, 'ビット': 5058, '目指す': 5059, '遺伝子': 5060, 'ジャンル': 5061, 'ぞ': 5062, '甘': 5063, '碑': 5064, 'フィリピン': 5065, '需': 5066, '公認': 5067, 'パワー': 5068, '浴': 5069, 'コム': 5070, '加工': 5071, '帰還': 5072, '料金': 5073, '確定': 5074, '##ry': 5075, '66': 5076, '養子': 5077, '1932': 5078, '婚': 5079, '地理': 5080, '大将': 5081, '##ルトン': 5082, '1928': 5083, 'テク': 5084, '再度': 5085, '経緯': 5086, '電動': 5087, '当て': 5088, '意図': 5089, '抑え': 5090, '攻め': 5091, '病気': 5092, '##アジア': 5093, '決まっ': 5094, '干': 5095, '##ニン': 5096, '85': 5097, '買い': 5098, '交代': 5099, '創刊': 5100, '宮崎': 5101, '辺': 5102, '聖書': 5103, '象徴': 5104, 'ノース': 5105, 'たとえば': 5106, '天然': 5107, '##バーグ': 5108, '##ンチン': 5109, 'キュー': 5110, 'しょ': 5111, '助け': 5112, '数字': 5113, 'ヘッド': 5114, 'コミック': 5115, 'AA': 5116, 'コル': 5117, '北側': 5118, '##イルス': 5119, 'ロング': 5120, '劣': 5121, '98': 5122, '双方': 5123, '商店': 5124, '##OC': 5125, '枝': 5126, '在学': 5127, '総督': 5128, '防止': 5129, '一軍': 5130, '修了': 5131, '単行': 5132, '司会': 5133, '案内': 5134, '突き': 5135, '##フィー': 5136, '出馬': 5137, '召': 5138, '換': 5139, '四国': 5140, '恐れ': 5141, '改札': 5142, '未来': 5143, '暮らし': 5144, '##システム': 5145, '滝': 5146, '肥': 5147, '上海': 5148, '弥': 5149, '粒': 5150, '劇団': 5151, '費用': 5152, '次いで': 5153, '1935': 5154, '##オス': 5155, '##ian': 5156, 'ミュ': 5157, '住む': 5158, '##議会': 5159, 'した': 5160, '利益': 5161, '子孫': 5162, '楽器': 5163, '言及': 5164, 'イスラム': 5165, '##ore': 5166, '戦士': 5167, '##リズム': 5168, 'クル': 5169, '分解': 5170, '自衛隊': 5171, '88': 5172, '拳': 5173, '違反': 5174, '##イヤー': 5175, 'スキー': 5176, '市街地': 5177, '打撃': 5178, '福井': 5179, 'バスケット': 5180, '##ソー': 5181, '##ドラ': 5182, '乗っ': 5183, '暗殺': 5184, '盛り': 5185, '負担': 5186, '##ージェ': 5187, '生じる': 5188, '##ルター': 5189, '崇': 5190, '99': 5191, '援助': 5192, '移民': 5193, '蒸気': 5194, '記し': 5195, 'コロン': 5196, 'プロデュース': 5197, 'あろ': 5198, '##ポール': 5199, 'クライ': 5200, 'リーダー': 5201, '##ベン': 5202, '##チャン': 5203, '滞在': 5204, '##IM': 5205, '随': 5206, '得意': 5207, '武田': 5208, '訴訟': 5209, '音声': 5210, '##かさ': 5211, '##ect': 5212, '一連': 5213, 'トーナメント': 5214, '後方': 5215, '戦時': 5216, 'つき': 5217, 'コスト': 5218, 'シリア': 5219, 'パイロット': 5220, '##コミ': 5221, '##半島': 5222, '86': 5223, '南側': 5224, '流通': 5225, '選抜': 5226, '議席': 5227, '昼': 5228, '##稲田': 5229, '77': 5230, '定着': 5231, '局長': 5232, '最近': 5233, '相続': 5234, '祖父': 5235, '訴え': 5236, '1929': 5237, 'フランス語': 5238, '##KO': 5239, '鏡': 5240, '##かん': 5241, '95': 5242, 'ダー': 5243, '優先': 5244, '短い': 5245, '部品': 5246, '##パート': 5247, '176': 5248, 'Sp': 5249, '太郎': 5250, '降伏': 5251, 'フィルム': 5252, '整理': 5253, '発揮': 5254, '開い': 5255, 'ベルギー': 5256, '皆': 5257, '踊': 5258, '74': 5259, 'シル': 5260, '不動': 5261, '伴っ': 5262, '操縦': 5263, '材料': 5264, '洞': 5265, '功績': 5266, '##フィック': 5267, '偏': 5268, '曹': 5269, '##ドン': 5270, '73': 5271, 'ビー': 5272, '辞任': 5273, '連携': 5274, '驚': 5275, '一切': 5276, '停留': 5277, '接触': 5278, 'タッグ': 5279, '以内': 5280, 'インディアン': 5281, '拘': 5282, '誠': 5283, '##ber': 5284, 'ペル': 5285, 'ポリ': 5286, '家臣': 5287, '次々': 5288, '酸化': 5289, '学ぶ': 5290, '推薦': 5291, '最低': 5292, '職業': 5293, '進み': 5294, '領土': 5295, 'シカゴ': 5296, '次男': 5297, 'トーク': 5298, 'ワイン': 5299, '入手': 5300, '##ウッド': 5301, '##アス': 5302, '##民党': 5303, '下部': 5304, '伯爵': 5305, '失わ': 5306, '沿っ': 5307, '進化': 5308, '献': 5309, 'マス': 5310, '又は': 5311, '大字': 5312, '線路': 5313, '早稲田': 5314, '抽': 5315, '貯': 5316, 'あき': 5317, 'ボス': 5318, '近郊': 5319, '##エティ': 5320, '引き起こ': 5321, '##ッス': 5322, '##衛門': 5323, '81': 5324, '東洋': 5325, '誘導': 5326, 'いえる': 5327, '取材': 5328, '連結': 5329, '需要': 5330, '##テッド': 5331, '現れる': 5332, '晋': 5333, '湿': 5334, '上部': 5335, '分岐': 5336, '災害': 5337, '##te': 5338, '添': 5339, '郊': 5340, '##モア': 5341, '聞い': 5342, '証拠': 5343, 'バレー': 5344, 'ビッグ': 5345, '取り扱': 5346, '幻': 5347, '西武': 5348, '加藤': 5349, '同期': 5350, '大手': 5351, '書記': 5352, '顧問': 5353, 'チェコ': 5354, 'に際して': 5355, '傍': 5356, '孤': 5357, '78': 5358, 'どこ': 5359, '出発': 5360, '基づき': 5361, '賢': 5362, '広い': 5363, '譲渡': 5364, '垂': 5365, '底': 5366, '栃': 5367, 'パル': 5368, '打点': 5369, '##タイム': 5370, 'マイクロ': 5371, 'フィールド': 5372, 'トヨ': 5373, '小林': 5374, '症状': 5375, '駅前': 5376, 'ゅ': 5377, '##朝日': 5378, '作者': 5379, '完了': 5380, '専攻': 5381, '占める': 5382, 'レコーディング': 5383, 'ベン': 5384, 'ミス': 5385, '人生': 5386, '少将': 5387, '絶対': 5388, '##ロック': 5389, 'かかる': 5390, 'ポート': 5391, '##end': 5392, '」(': 5393, '並び': 5394, '全長': 5395, '復興': 5396, '暴力': 5397, '順位': 5398, 'さい': 5399, 'にく': 5400, '収集': 5401, '問わ': 5402, '安打': 5403, '手術': 5404, 'アイテム': 5405, '##次郎': 5406, '##決勝': 5407, 'やっ': 5408, '合同': 5409, 'しばらく': 5410, '##ミネ': 5411, '国外': 5412, '騎士': 5413, '準決勝': 5414, 'グランド': 5415, 'コメント': 5416, 'デンマーク': 5417, '##ッピング': 5418, 'ファッション': 5419, '##LE': 5420, '軒': 5421, '71': 5422, 'レオ': 5423, '平日': 5424, '振興': 5425, '##しょ': 5426, '##メル': 5427, '酵素': 5428, '##カード': 5429, 'マイナー': 5430, '戻り': 5431, '来日': 5432, '東映': 5433, '##シュー': 5434, 'ソウル': 5435, '##ミス': 5436, '家督': 5437, '戦前': 5438, '申請': 5439, '許さ': 5440, '立候補': 5441, 'もち': 5442, '報じ': 5443, '幹部': 5444, 'カット': 5445, '小惑星': 5446, '##US': 5447, '吹き': 5448, '後者': 5449, '爆弾': 5450, '斜': 5451, '##ニャ': 5452, '##ボル': 5453, '司法': 5454, '深い': 5455, 'チュー': 5456, '過ごし': 5457, 'ドラゴン': 5458, '##アフ': 5459, '柔道': 5460, 'スケート': 5461, '示さ': 5462, '##ノス': 5463, 'フォン': 5464, '子ども': 5465, 'テキサス': 5466, '##se': 5467, '揚': 5468, '既存': 5469, 'メン': 5470, 'ロス': 5471, '攻略': 5472, '##ブス': 5473, '脱出': 5474, '郊外': 5475, 'スティー': 5476, 'ローカル': 5477, '(,': 5478, '例外': 5479, '到達': 5480, '自社': 5481, '記号': 5482, '通る': 5483, 'シート': 5484, 'コミュニティ': 5485, '刻': 5486, 'アム': 5487, 'ウィーン': 5488, '##本線': 5489, 'ムー': 5490, '勃発': 5491, '損害': 5492, '新規': 5493, '##ox': 5494, '浸': 5495, 'まち': 5496, '組ん': 5497, '言え': 5498, 'インチ': 5499, '手がけ': 5500, 'ちなみに': 5501, '##分け': 5502, '一環': 5503, '北朝鮮': 5504, '##テインメント': 5505, 'エク': 5506, '強力': 5507, '往復': 5508, '転じ': 5509, '配備': 5510, '##UN': 5511, '葛': 5512, '戻る': 5513, '継い': 5514, '続編': 5515, 'リード': 5516, '言える': 5517, 'ヒロ': 5518, '捕虜': 5519, 'SF': 5520, 'テレ': 5521, '兼ね': 5522, '男女': 5523, '脱退': 5524, '250': 5525, '代わっ': 5526, '##フォーム': 5527, '発掘': 5528, 'チャールズ': 5529, '学術': 5530, '通行': 5531, '起こる': 5532, 'ジャック': 5533, '国防': 5534, 'オープニング': 5535, '伝承': 5536, '渋谷': 5537, '掛': 5538, '砦': 5539, 'ほん': 5540, '死刑': 5541, '越え': 5542, '170': 5543, '房': 5544, '##ツェ': 5545, '##ハイ': 5546, '屋根': 5547, '当日': 5548, '直線': 5549, '##one': 5550, '台車': 5551, '競争': 5552, '旨': 5553, '体系': 5554, '少数': 5555, '##フェン': 5556, '紋': 5557, '##ばし': 5558, 'ポン': 5559, '保障': 5560, 'アイス': 5561, '1925': 5562, 'ジャンプ': 5563, '##エフ': 5564, '原題': 5565, '士官': 5566, '行なわ': 5567, '##チル': 5568, '##ベス': 5569, '##lay': 5570, 'MS': 5571, 'ヤン': 5572, 'Am': 5573, '教皇': 5574, '見解': 5575, '##ステル': 5576, '緊急': 5577, '##リット': 5578, '1923': 5579, '石油': 5580, 'せよ': 5581, '##フィス': 5582, 'アウト': 5583, '侍': 5584, '共有': 5585, '着用': 5586, '福祉': 5587, '解析': 5588, 'メール': 5589, '##OW': 5590, '提唱': 5591, 'ジェームズ': 5592, '威': 5593, 'ケン': 5594, '相撲': 5595, '駆動': 5596, '##ネシア': 5597, 'アルゼ': 5598, 'ハンド': 5599, '態': 5600, 'En': 5601, 'のに': 5602, 'アス': 5603, 'バレ': 5604, '上下': 5605, '王子': 5606, '長年': 5607, ';': 5608, '啓': 5609, '宋': 5610, '掘': 5611, 'キン': 5612, '急速': 5613, '連覇': 5614, '1924': 5615, '寒': 5616, '##直し': 5617, '83': 5618, 'うる': 5619, 'アミ': 5620, '掲げ': 5621, 'エンディング': 5622, '隔': 5623, '##ゴス': 5624, '喫し': 5625, 'イラン': 5626, '##PG': 5627, '握': 5628, '栗': 5629, '処刑': 5630, '1927': 5631, '婦': 5632, '暫': 5633, '沼': 5634, '魏': 5635, '付い': 5636, '実績': 5637, '成果': 5638, '渡辺': 5639, 'スタジアム': 5640, '刀': 5641, '##らえ': 5642, '死ん': 5643, 'クロス': 5644, ')(': 5645, '任じ': 5646, '優秀': 5647, '印象': 5648, '固有': 5649, '聖堂': 5650, '##しも': 5651, 'UE': 5652, 'バスケットボール': 5653, '働い': 5654, '相次': 5655, '雇用': 5656, '##ストロ': 5657, '煙': 5658, '抗議': 5659, '退団': 5660, 'グロー': 5661, '##WA': 5662, '##持ち': 5663, '終戦': 5664, 'トヨタ': 5665, 'スポンサー': 5666, 'プロダクション': 5667, '深く': 5668, '158': 5669, '通う': 5670, 'アルゼンチン': 5671, '上演': 5672, '修道院': 5673, '##チャード': 5674, '詰': 5675, '##洋艦': 5676, 'ラー': 5677, '一帯': 5678, '山梨': 5679, '直通': 5680, '編曲': 5681, '##ニスト': 5682, '巡洋艦': 5683, '##ガス': 5684, 'リス': 5685, '当該': 5686, '総称': 5687, '都道': 5688, 'とる': 5689, '独特': 5690, 'メッセ': 5691, 'ユース': 5692, '肩': 5693, '該': 5694, '##なし': 5695, '巨人': 5696, '経路': 5697, '自殺': 5698, 'キャラ': 5699, 'コンセプト': 5700, '##民主': 5701, '主導': 5702, '宝塚': 5703, '批評': 5704, '推測': 5705, '観察': 5706, '##ズニー': 5707, '1922': 5708, 'ドン': 5709, '群馬': 5710, '大隊': 5711, '監視': 5712, '1926': 5713, 'アマチュア': 5714, 'ライセンス': 5715, 'ょ': 5716, '唱': 5717, '射撃': 5718, '戦っ': 5719, '違う': 5720, 'ウルト': 5721, '一家': 5722, '想定': 5723, '王朝': 5724, 'フィンランド': 5725, '##クタ': 5726, '##ドロ': 5727, '##ang': 5728, '魚雷': 5729, '新幹線': 5730, '朱': 5731, '##教授': 5732, '井上': 5733, '立っ': 5734, '良く': 5735, '##ティス': 5736, 'ジャズ': 5737, '洪': 5738, '##ヴィル': 5739, '行なっ': 5740, '亡くなっ': 5741, '##銀行': 5742, '侵入': 5743, '北条': 5744, '診断': 5745, '##イセン': 5746, '##ージー': 5747, '1918': 5748, 'マイケル': 5749, '##ue': 5750, 'たび': 5751, '証言': 5752, '犠': 5753, '載': 5754, '##しろ': 5755, '87': 5756, 'サル': 5757, '扱わ': 5758, '月末': 5759, 'ユーロ': 5760, '庶': 5761, '浩': 5762, '再編': 5763, '答え': 5764, '##エア': 5765, '試作': 5766, 'こうして': 5767, '屈': 5768, '祈': 5769, '主流': 5770, '相談': 5771, '離婚': 5772, '##テスト': 5773, 'フェル': 5774, 'キリスト教': 5775, '尋': 5776, '獣': 5777, 'シア': 5778, '宣伝': 5779, '次ぐ': 5780, 'ランク': 5781, '原子力': 5782, '浄': 5783, '上回': 5784, '授業': 5785, '漢字': 5786, '該当': 5787, '走る': 5788, 'タンパ': 5789, '旭': 5790, '##ain': 5791, '撤去': 5792, '池田': 5793, '近隣': 5794, 'ミュージシャン': 5795, '91': 5796, 'ネタ': 5797, '球場': 5798, '伏': 5799, 'キャッチ': 5800, '竣': 5801, '八幡': 5802, '国土': 5803, '山脈': 5804, 'マレー': 5805, '加わっ': 5806, 'トム': 5807, '並行': 5808, '代替': 5809, '水素': 5810, '700': 5811, '挙げる': 5812, '卿': 5813, '##須賀': 5814, '67': 5815, '96': 5816, '中山': 5817, '今後': 5818, '促進': 5819, '日常': 5820, '騎兵': 5821, '和歌山': 5822, '銘': 5823, '##っき': 5824, '##ブロ': 5825, 'ロゴ': 5826, '区画': 5827, '開拓': 5828, '除き': 5829, 'マスコ': 5830, 'リンク': 5831, '少なくとも': 5832, '桁': 5833, '浪': 5834, 'させ': 5835, '学区': 5836, '武将': 5837, '助教授': 5838, 'マスター': 5839, 'スラ': 5840, '圧力': 5841, '特性': 5842, '##レース': 5843, 'UEFA': 5844, '取り付け': 5845, '出席': 5846, '圧倒': 5847, '地形': 5848, '船団': 5849, '1914': 5850, 'クラシック': 5851, '庄': 5852, '釈': 5853, '相対': 5854, 'to': 5855, '戦力': 5856, '栃木': 5857, '用途': 5858, '跡地': 5859, '上野': 5860, '基盤': 5861, '方言': 5862, '##ツァ': 5863, '期限': 5864, '根拠': 5865, '空襲': 5866, '##グループ': 5867, '##学院': 5868, 'SC': 5869, 'al': 5870, '並ん': 5871, '指し': 5872, '高級': 5873, '##として': 5874, '175': 5875, '忍': 5876, '滋': 5877, '##エー': 5878, '修理': 5879, '簡単': 5880, '##イラー': 5881, '##ノール': 5882, '牽': 5883, '逸': 5884, '##なう': 5885, '##自動車': 5886, 'きょう': 5887, 'ジャケット': 5888, 'ML': 5889, 'OS': 5890, '大佐': 5891, 'ところが': 5892, '##まら': 5893, 'イー': 5894, '敗退': 5895, '5000': 5896, '##ットボール': 5897, '岩手': 5898, '異常': 5899, '##リダ': 5900, '体重': 5901, 'パーク': 5902, 'ブラウン': 5903, '分裂': 5904, '及ぶ': 5905, '未満': 5906, '本土': 5907, '流域': 5908, 'ポンド': 5909, '##AG': 5910, 'Bl': 5911, '本体': 5912, '演技': 5913, '複合': 5914, 'ウルトラ': 5915, '仕え': 5916, '資産': 5917, '部族': 5918, '黄色': 5919, '159': 5920, 'Con': 5921, '勅': 5922, '桂': 5923, '魅': 5924, 'おも': 5925, '大名': 5926, 'やって': 5927, 'あらゆる': 5928, '##フォーマンス': 5929, '糸': 5930, '##ide': 5931, 'ポル': 5932, '移っ': 5933, 'クリア': 5934, '終わる': 5935, '3000': 5936, '旋': 5937, '謎': 5938, 'IB': 5939, '市町': 5940, '非難': 5941, 'ワイド': 5942, '邸': 5943, '##くま': 5944, '##カロ': 5945, '##ver': 5946, 'ジム': 5947, '送ら': 5948, 'プラス': 5949, '《': 5950, '彦': 5951, '牡': 5952, '膨': 5953, '##込め': 5954, '女王': 5955, '当主': 5956, '附属': 5957, 'プラン': 5958, 'AC': 5959, 'ゃ': 5960, 'NE': 5961, '折り': 5962, '西洋': 5963, '1919': 5964, '入力': 5965, '大西': 5966, '実用': 5967, '月刊': 5968, '足利': 5969, '軍隊': 5970, 'プロイセン': 5971, '##やく': 5972, '##ダイ': 5973, '##ネマ': 5974, '##ure': 5975, '膜': 5976, '上流': 5977, '反発': 5978, 'アート': 5979, '欲': 5980, '虎': 5981, '##ith': 5982, '図る': 5983, '密度': 5984, '##レオン': 5985, 'ナショナル': 5986, '虐': 5987, '閣': 5988, '慶長': 5989, '決意': 5990, '破り': 5991, '金沢': 5992, '##ージュ': 5993, '110': 5994, 'ついに': 5995, 'トレード': 5996, 'ボル': 5997, '竣工': 5998, '要因': 5999, '調べ': 6000, '##ドイツ': 6001, '参議院': 6002, '当たる': 6003, '自民党': 6004, '早稲田大学': 6005, 'SH': 6006, '殺し': 6007, '繁殖': 6008, '解消': 6009, '間違': 6010, '##シリーズ': 6011, '質量': 6012, '無かっ': 6013, '打ち上げ': 6014, '97': 6015, '高知': 6016, '##セット': 6017, '》': 6018, '##ハム': 6019, 'スイ': 6020, '事例': 6021, '##ライズ': 6022, '派生': 6023, '犠牲': 6024, '空母': 6025, '##ファン': 6026, 'アント': 6027, '##リム': 6028, '権限': 6029, '殺さ': 6030, '気象': 6031, '端末': 6032, '##リオン': 6033, 'したが': 6034, 'ホイ': 6035, '不満': 6036, '夜間': 6037, '意思': 6038, '##ウィン': 6039, '猫': 6040, '##イラ': 6041, 'めぐ': 6042, 'モチ': 6043, '連勝': 6044, '社名': 6045, '161': 6046, '世界中': 6047, 'デモ': 6048, '成分': 6049, '文明': 6050, '旅団': 6051, '正規': 6052, '約束': 6053, '銀河': 6054, '高松': 6055, 'アレクサンド': 6056, '##ib': 6057, '妨': 6058, 'アッ': 6059, '全面': 6060, '前方': 6061, '財産': 6062, '小さく': 6063, 'クレジット': 6064, 'ミッション': 6065, '##ろし': 6066, '##ケン': 6067, '触れ': 6068, 'ゴルフ': 6069, 'トライ': 6070, '##oh': 6071, '透': 6072, '##越し': 6073, 'BO': 6074, '一員': 6075, '先端': 6076, '森林': 6077, 'ブラン': 6078, '沢': 6079, '##man': 6080, 'GT': 6081, 'KO': 6082, '再現': 6083, '火災': 6084, '秀吉': 6085, '##アリー': 6086, '##ナルド': 6087, 'ハウス': 6088, '前期': 6089, '短編': 6090, '突破': 6091, '##ストラン': 6092, 'サム': 6093, '佐賀': 6094, '有限': 6095, '##イナー': 6096, 'ポスト': 6097, 'テレビ朝日': 6098, '委託': 6099, '私立': 6100, 'パーソナ': 6101, 'フィリップ': 6102, '全域': 6103, '同月': 6104, '止め': 6105, '苦し': 6106, '読売': 6107, 'com': 6108, '徒': 6109, '梁': 6110, '##ゲル': 6111, '疾患': 6112, '剛': 6113, 'クイ': 6114, '三振': 6115, '先頭': 6116, '埋め': 6117, '当局': 6118, '損傷': 6119, '選定': 6120, '##シスコ': 6121, 'スピード': 6122, '脇': 6123, '##規模': 6124, '『\"': 6125, 'リチャード': 6126, '##エルン': 6127, '171': 6128, 'ボーカル': 6129, '証券': 6130, '降格': 6131, '##パーク': 6132, '関わっ': 6133, 'ディスク': 6134, '84': 6135, 'パソ': 6136, 'フリ': 6137, '存続': 6138, '戦う': 6139, '解除': 6140, 'セルビア': 6141, 'トランス': 6142, 'ざる': 6143, 'ガー': 6144, '周波': 6145, '怪我': 6146, '##ウェル': 6147, '胴': 6148, '信じ': 6149, '建立': 6150, '経過': 6151, '##ah': 6152, '奨': 6153, '##どり': 6154, 'さえ': 6155, '詩人': 6156, '出来事': 6157, '1912': 6158, 'それでも': 6159, '卓': 6160, 'つと': 6161, '支部': 6162, '艦長': 6163, '課題': 6164, 'サウス': 6165, 'ハワイ': 6166, 'マッチ': 6167, '##ルル': 6168, 'y': 6169, '潮': 6170, 'AV': 6171, 'って': 6172, 'スプ': 6173, '現行': 6174, '趣味': 6175, 'ジョー': 6176, 'ウイルス': 6177, '妖': 6178, '昔': 6179, '符': 6180, '賃': 6181, 'セレ': 6182, '題材': 6183, 'ドキュ': 6184, '難しい': 6185, '1917': 6186, '##az': 6187, '##フラ': 6188, '##府県': 6189, '82': 6190, '座席': 6191, '特許': 6192, '請求': 6193, '文学部': 6194, '叔': 6195, '師事': 6196, '後任': 6197, '1921': 6198, 'パートナー': 6199, '―': 6200, '商人': 6201, '寄せ': 6202, '自主': 6203, '##クシー': 6204, 'コンパ': 6205, 'スクール': 6206, '##ES': 6207, '駿': 6208, 'ごく': 6209, 'てん': 6210, '人種': 6211, 'マルチ': 6212, '##マド': 6213, 'ハル': 6214, '最新': 6215, '終結': 6216, '送信': 6217, 'スタン': 6218, '冒険': 6219, '提示': 6220, '補給': 6221, '##プター': 6222, 'かた': 6223, '教室': 6224, '数々': 6225, 'ディレ': 6226, '偶': 6227, '亡命': 6228, '仮面': 6229, '海洋': 6230, '発音': 6231, '育て': 6232, '菅': 6233, 'FA': 6234, '参考': 6235, '支え': 6236, '130': 6237, 'ン': 6238, '柏': 6239, 'はる': 6240, '応援': 6241, '移し': 6242, 'ミッド': 6243, '##アフリカ': 6244, 'にわたり': 6245, 'オスマン': 6246, 'NT': 6247, '人形': 6248, '接近': 6249, '157': 6250, 'ファンタ': 6251, 'ラグビー': 6252, 'コレクション': 6253, '##カラ': 6254, '##ミル': 6255, '反映': 6256, '応用': 6257, '突然': 6258, '僕': 6259, '陶': 6260, '学院': 6261, '敗戦': 6262, '運航': 6263, '陥落': 6264, '駐車': 6265, '関わる': 6266, '##シュタイン': 6267, 'したがって': 6268, '沙': 6269, '##当て': 6270, '168': 6271, 'エース': 6272, '接する': 6273, '##ゾン': 6274, '化合': 6275, '主題歌': 6276, '##文字': 6277, '##ION': 6278, '審議': 6279, '欧米': 6280, '##ンジェ': 6281, '文部': 6282, '焼き': 6283, '素材': 6284, '##ウルス': 6285, 'ボタン': 6286, 'インターチェンジ': 6287, '斬': 6288, '92': 6289, '会見': 6290, '北米': 6291, '退職': 6292, '祐': 6293, 'GI': 6294, '町名': 6295, '聞き': 6296, '美しい': 6297, 'パターン': 6298, 'オーディション': 6299, 'ホル': 6300, '火山': 6301, 'ボード': 6302, '食べる': 6303, '##わし': 6304, 'モル': 6305, '明る': 6306, '来る': 6307, '発明': 6308, '社員': 6309, '##ジュール': 6310, 'パソコン': 6311, '屋敷': 6312, '##ドリヒ': 6313, '##バック': 6314, 'エンター': 6315, 'メッセージ': 6316, 'のり': 6317, 'コラ': 6318, '紛争': 6319, '飼育': 6320, '##ベース': 6321, 'モーター': 6322, 'CP': 6323, '上り': 6324, '事前': 6325, '史料': 6326, '##ナイト': 6327, '156': 6328, 'ボディ': 6329, 'ウル': 6330, '取ら': 6331, '幼少': 6332, '鉱山': 6333, 'パフォーマンス': 6334, '如': 6335, '猛': 6336, '##ast': 6337, 'もし': 6338, '歌っ': 6339, '悩': 6340, '昆': 6341, 'おそ': 6342, 'すら': 6343, '地図': 6344, '気温': 6345, '破っ': 6346, '近鉄': 6347, '選ん': 6348, '##ージャー': 6349, '##受け': 6350, 'マサ': 6351, '人数': 6352, '募集': 6353, '楽団': 6354, '避難': 6355, '敏': 6356, '##デイ': 6357, '93': 6358, 'cc': 6359, '学名': 6360, '本編': 6361, '評し': 6362, '##ガジン': 6363, '取り組': 6364, 'Go': 6365, '別に': 6366, '振る': 6367, '海戦': 6368, 'ソニー': 6369, '宅': 6370, 'アブ': 6371, '一体': 6372, '接し': 6373, '頻繁': 6374, '1910': 6375, '売り上げ': 6376, 'SU': 6377, '一貫': 6378, '信長': 6379, '割合': 6380, '暫定': 6381, '校舎': 6382, '粒子': 6383, '造船': 6384, 'ナチス': 6385, '肺': 6386, 'ホー': 6387, '一旦': 6388, '教員': 6389, 'III': 6390, 'やすく': 6391, '演じる': 6392, 'コス': 6393, 'ボン': 6394, '向き': 6395, '遺体': 6396, '祀': 6397, '創作': 6398, '図っ': 6399, '確率': 6400, '署名': 6401, '表し': 6402, '落とし': 6403, 'ボストン': 6404, 'ヴァイオ': 6405, 'ドライバー': 6406, '##ff': 6407, 'トー': 6408, 'ベイ': 6409, '住居': 6410, '国有': 6411, '検出': 6412, '満州': 6413, '##ッティ': 6414, 'ないし': 6415, '##ライダー': 6416, '1900': 6417, 'ケーブル': 6418, '僅': 6419, '01': 6420, '若手': 6421, 'フロリダ': 6422, '太平洋戦争': 6423, 'たる': 6424, '祭り': 6425, '織田': 6426, '174': 6427, '克': 6428, '薩': 6429, '\",': 6430, '借り': 6431, '投稿': 6432, '管区': 6433, '##ボード': 6434, '##リード': 6435, 'You': 6436, '受け継': 6437, '##カイ': 6438, '成り': 6439, '終盤': 6440, '航海': 6441, '頭部': 6442, 'フロント': 6443, 'AS': 6444, 'ドゥ': 6445, '売上': 6446, '放棄': 6447, '晩年': 6448, '農民': 6449, 'あくま': 6450, 'ゴールデン': 6451, '揃': 6452, '##かす': 6453, '低く': 6454, 'クイズ': 6455, 'アプリケーション': 6456, '##テク': 6457, '感情': 6458, '要塞': 6459, ')、「': 6460, 'キャンパス': 6461, '##uc': 6462, '##ネー': 6463, 'ピーター': 6464, 'オンライン': 6465, 'シンガポール': 6466, '偵': 6467, '嫡': 6468, '##まれ': 6469, '抜け': 6470, '##ロジー': 6471, '##iz': 6472, '粘': 6473, '鍵': 6474, '君主': 6475, '##ロディ': 6476, '広がっ': 6477, 'レストラン': 6478, '謝': 6479, '##ies': 6480, '後ろ': 6481, '##ーマー': 6482, '伝える': 6483, '厳しい': 6484, '市町村': 6485, 'コメディ': 6486, 'バイパス': 6487, '##ニューアル': 6488, '##ld': 6489, '同名': 6490, '評議': 6491, '##メンタ': 6492, '##ナショナル': 6493, '勉': 6494, '念': 6495, '##なた': 6496, 'ソー': 6497, 'ミシ': 6498, '作中': 6499, '169': 6500, '##ッケージ': 6501, 'ファースト': 6502, '回数': 6503, '教徒': 6504, 'タンパク': 6505, '##EL': 6506, '秩': 6507, '##ゴー': 6508, '89': 6509, 'けい': 6510, '制し': 6511, '国連': 6512, '##ベニア': 6513, 'ヤード': 6514, '周波数': 6515, '還': 6516, '##ack': 6517, '##ire': 6518, '表彰': 6519, 'かかっ': 6520, '##ug': 6521, '均': 6522, '瞬': 6523, '##らさ': 6524, '##テス': 6525, '##レム': 6526, '##合っ': 6527, 'ゼロ': 6528, '前提': 6529, '向かい': 6530, 'アテ': 6531, '初演': 6532, '合唱': 6533, '大韓': 6534, '彫刻': 6535, '##ジャン': 6536, 'フィギュ': 6537, 'ノルウェー': 6538, 'リニューアル': 6539, '松平': 6540, '講談': 6541, '164': 6542, 'アラブ': 6543, '小規模': 6544, 'ナンバー': 6545, 'モチーフ': 6546, '##リル': 6547, '1913': 6548, '##ハウ': 6549, 'Be': 6550, '故郷': 6551, '架空': 6552, '余儀': 6553, '回避': 6554, '甲板': 6555, '養成': 6556, '##クセン': 6557, 'ジェイ': 6558, '##ase': 6559, '夫婦': 6560, '実装': 6561, '寄り': 6562, '##ッセル': 6563, 'ゲート': 6564, '入れる': 6565, '迷': 6566, '須': 6567, 'アダ': 6568, '防ぐ': 6569, '##モデル': 6570, 'バラエティ': 6571, '##UR': 6572, '乙': 6573, '##レオ': 6574, '##一郎': 6575, '寸': 6576, '##はり': 6577, '%)': 6578, '削減': 6579, '転向': 6580, 'ともに': 6581, 'ヤング': 6582, 'トラブル': 6583, 'プラット': 6584, '##ジーランド': 6585, 'ニュージーランド': 6586, 'Co': 6587, '出資': 6588, '官僚': 6589, '##エール': 6590, '##ment': 6591, '163': 6592, 'バイエルン': 6593, 'トレーニング': 6594, '##IP': 6595, '匹': 6596, '狂': 6597, '##ヨン': 6598, '上院': 6599, 'イラク': 6600, 'コート': 6601, '起こり': 6602, '尼': 6603, '##旅客': 6604, '不詳': 6605, '受信': 6606, '埋葬': 6607, '室町': 6608, '若干': 6609, '##ラビア': 6610, '##旅客鉄道': 6611, '位置づけ': 6612, '##FL': 6613, '勘': 6614, '棋': 6615, '北方': 6616, '愛媛': 6617, '示唆': 6618, '##ナリスト': 6619, '##立ち': 6620, 'IN': 6621, 'NP': 6622, '探し': 6623, '業績': 6624, '##バンク': 6625, 'ちなん': 6626, 'やはり': 6627, 'いけ': 6628, 'おく': 6629, '司馬': 6630, '囲ま': 6631, '疑問': 6632, 'エディ': 6633, '1911': 6634, '秦': 6635, 'エス': 6636, '土曜': 6637, '捨て': 6638, '移管': 6639, '行列': 6640, 'タンク': 6641, '拓': 6642, 'ガリ': 6643, '受験': 6644, '総裁': 6645, '装着': 6646, '通じ': 6647, 'バンク': 6648, '都道府県': 6649, 'ストリート': 6650, '虫': 6651, '##んじ': 6652, '##止め': 6653, '打者': 6654, '騎手': 6655, '上がっ': 6656, 'ライバル': 6657, '准': 6658, '##ING': 6659, '79': 6660, '94': 6661, 'AM': 6662, 'ふく': 6663, '中将': 6664, '出土': 6665, '語り': 6666, '余儀なく': 6667, '宇都': 6668, '日記': 6669, '航路': 6670, '##ールス': 6671, '管弦楽': 6672, 'ラム': 6673, '強調': 6674, '恋愛': 6675, '描き': 6676, '認可': 6677, '鳥取': 6678, '##ens': 6679, '搭乗': 6680, '高齢': 6681, 'センチ': 6682, '集まっ': 6683, '併せ': 6684, '##っきり': 6685, 'この間': 6686, 'エリザ': 6687, 'メトロ': 6688, '罰': 6689, '##』(': 6690, 'ノン': 6691, 'ブライ': 6692, '帳': 6693, '楊': 6694, '渓': 6695, '十字': 6696, '滋賀': 6697, '音源': 6698, '101': 6699, '手掛け': 6700, 'もたらし': 6701, 'シナリオ': 6702, '峠': 6703, '腰': 6704, '栄養': 6705, '電波': 6706, '##バッハ': 6707, '##ファイ': 6708, 'キャンプ': 6709, 'フィギュア': 6710, 'モンスター': 6711, '対決': 6712, '数値': 6713, '決議': 6714, '##入れる': 6715, 'MLB': 6716, '1915': 6717, '##oy': 6718, '催': 6719, '錦': 6720, '##コル': 6721, '別名': 6722, 'プロテ': 6723, 'スマート': 6724, '##ッシ': 6725, 'たけ': 6726, '三角': 6727, '上杉': 6728, '地中': 6729, '正面': 6730, '物資': 6731, '王位': 6732, '起点': 6733, 'つける': 6734, 'インドネシア': 6735, '##GM': 6736, '##クル': 6737, '##バム': 6738, 'いま': 6739, '大人': 6740, '若者': 6741, '香川': 6742, '##コーチ': 6743, 'ラウンド': 6744, '##ヒー': 6745, '##程式': 6746, '##age': 6747, 'He': 6748, 'Te': 6749, 'リュ': 6750, '偵察': 6751, '働く': 6752, '抱え': 6753, '##プション': 6754, 'に従って': 6755, 'パッケージ': 6756, '##下げ': 6757, 'しれ': 6758, 'コア': 6759, '千代': 6760, '家康': 6761, '法案': 6762, '##ーマス': 6763, '方程式': 6764, '起こす': 6765, '関わら': 6766, 'ディズニー': 6767, '##もり': 6768, 'ませ': 6769, '典型': 6770, '前回': 6771, '太田': 6772, '飾っ': 6773, 'クリー': 6774, '繊': 6775, '69': 6776, '立地': 6777, '領主': 6778, '出会い': 6779, '蓄': 6780, '先駆': 6781, '大気': 6782, 'ブーム': 6783, 'ヒトラー': 6784, 'いた': 6785, 'とら': 6786, '会計': 6787, '引っ': 6788, '##ンジャ': 6789, '忘': 6790, '棒': 6791, '灰': 6792, '絞': 6793, '宮殿': 6794, '浴び': 6795, '英雄': 6796, '##ショー': 6797, '##ケストラ': 6798, 'ラテン語': 6799, '哨': 6800, 'とく': 6801, '制覇': 6802, '奏者': 6803, '落語': 6804, '黒人': 6805, '##菓子': 6806, 'こく': 6807, '大公': 6808, '役員': 6809, '東方': 6810, '横断': 6811, '赤い': 6812, 'プロセス': 6813, '必ずしも': 6814, '瑞': 6815, '##トー': 6816, '166': 6817, '173': 6818, 'むしろ': 6819, '掃': 6820, 'ロン': 6821, '勧め': 6822, '含ん': 6823, '糖': 6824, '虚': 6825, '岡田': 6826, '逃れ': 6827, '宇都宮': 6828, '##ly': 6829, '但': 6830, '粉': 6831, '蜂': 6832, '号機': 6833, '学位': 6834, '##イクル': 6835, 'アトラン': 6836, '懲': 6837, 'SM': 6838, 'がん': 6839, 'つか': 6840, '公国': 6841, '塗装': 6842, '認知': 6843, '論理': 6844, '##アント': 6845, 'あわせ': 6846, 'らしい': 6847, '##IL': 6848, '炉': 6849, 'ゆき': 6850, 'ヨー': 6851, '乗客': 6852, '動員': 6853, '##ッポン': 6854, '##キスタン': 6855, 'バレーボール': 6856, '堅': 6857, '陵': 6858, '##ial': 6859, '増大': 6860, '本当': 6861, '東宝': 6862, '近畿': 6863, 'コムーネ': 6864, 'タンパク質': 6865, '臣': 6866, '##ほど': 6867, '態度': 6868, '排除': 6869, '有機': 6870, '校長': 6871, '琉': 6872, '##たび': 6873, '##リヒ': 6874, '##合わ': 6875, 'メイ': 6876, '才能': 6877, 'ゴールド': 6878, '悟': 6879, '##ッソ': 6880, 'ヒル': 6881, '厚生': 6882, '原理': 6883, '工作': 6884, '東大': 6885, '甲子': 6886, '積み': 6887, '送る': 6888, 'テニス': 6889, 'ライフ': 6890, 'Play': 6891, 'にあたり': 6892, '創造': 6893, '##らかの': 6894, '避ける': 6895, '##pp': 6896, '##sh': 6897, '##ong': 6898, 'さく': 6899, '修士': 6900, '担っ': 6901, '放出': 6902, '縮小': 6903, '衝撃': 6904, 'ブログ': 6905, '金メダル': 6906, '##IA': 6907, '慎': 6908, '硫': 6909, 'リオ': 6910, '上京': 6911, '動力': 6912, '移植': 6913, '避け': 6914, '互いに': 6915, '弓': 6916, '笠': 6917, 'たま': 6918, 'トイ': 6919, '失点': 6920, '広域': 6921, '直径': 6922, '##イルド': 6923, 'ようやく': 6924, 'ジェット': 6925, '##循環': 6926, 'Ex': 6927, 'カテ': 6928, '併設': 6929, '時計': 6930, '無視': 6931, '##ネーム': 6932, '亭': 6933, '履': 6934, '肝': 6935, '##々木': 6936, 'セミ': 6937, '町村': 6938, '読者': 6939, '論争': 6940, 'その間': 6941, '##フランシスコ': 6942, '律': 6943, '捉': 6944, '桑': 6945, '##ust': 6946, 'Ph': 6947, 'Se': 6948, '毛利': 6949, '白い': 6950, '量産': 6951, '##ハイム': 6952, '##ルソン': 6953, '考え方': 6954, 'フレーム': 6955, '##メンタリー': 6956, 'ナポレオン': 6957, '釣': 6958, '鼻': 6959, '##ock': 6960, '前面': 6961, '回り': 6962, '回収': 6963, '観点': 6964, '豊か': 6965, '##レイク': 6966, '##ージャ': 6967, 'あなた': 6968, '1908': 6969, 'コンテン': 6970, '##モーション': 6971, '加速': 6972, '編纂': 6973, '##アニア': 6974, 'バトル': 6975, 'メダル': 6976, '##テーション': 6977, 'ファイナル': 6978, '中日': 6979, '容量': 6980, '悪い': 6981, '登山': 6982, '運河': 6983, 'オーク': 6984, 'ベンチ': 6985, '稀': 6986, '##ベイ': 6987, '周り': 6988, '圧縮': 6989, '快速': 6990, '競輪': 6991, '行事': 6992, '##コース': 6993, '##フォー': 6994, 'なくなっ': 6995, 'フリードリヒ': 6996, '下院': 6997, '保管': 6998, '回路': 6999, '研修': 7000, 'ルイス': 7001, 'レーダー': 7002, 'ミュージカル': 7003, 'ピン': 7004, '白人': 7005, '船舶': 7006, '装飾': 7007, '逆転': 7008, '165': 7009, 'ターミナル': 7010, '##ational': 7011, '懐': 7012, '拝': 7013, '意向': 7014, '考案': 7015, '駆け': 7016, 'ナイト': 7017, '満たす': 7018, 'ウェスト': 7019, 'エドワード': 7020, 'ファミリー': 7021, '入賞': 7022, '説得': 7023, '##ターズ': 7024, '##エラ': 7025, '日曜': 7026, '開館': 7027, '不動産': 7028, '##エンジン': 7029, '##センター': 7030, 'おそらく': 7031, 'レンタル': 7032, 'なぜ': 7033, '築い': 7034, '課長': 7035, '通貨': 7036, 'パーソナリティ': 7037, '泥': 7038, '瀬戸': 7039, '結ば': 7040, '黄金': 7041, '##リウム': 7042, '上げる': 7043, '認める': 7044, '?」': 7045, 'ゆえ': 7046, '下し': 7047, '内戦': 7048, '庭園': 7049, '濃度': 7050, '牽引': 7051, '食事': 7052, '##TA': 7053, 'MC': 7054, '予測': 7055, '哨戒': 7056, '室内': 7057, '控え': 7058, '##メイト': 7059, '162': 7060, 'ポップ': 7061, '停留所': 7062, '鷹': 7063, 'レン': 7064, '在住': 7065, '支店': 7066, '融合': 7067, '適切': 7068, '生放送': 7069, '識': 7070, '##つい': 7071, 'ラス': 7072, '外観': 7073, '数え': 7074, '次に': 7075, '退任': 7076, '名乗っ': 7077, '##EM': 7078, '##切っ': 7079, 'うま': 7080, '中野': 7081, '努力': 7082, '団地': 7083, '種目': 7084, '限界': 7085, '述べる': 7086, '中隊': 7087, '変動': 7088, '天保': 7089, '松山': 7090, '167': 7091, '堤': 7092, '##つき': 7093, '修復': 7094, '当地': 7095, '混合': 7096, '逃亡': 7097, '##ペーン': 7098, '##ラリー': 7099, 'ひとり': 7100, 'チャー': 7101, 'ディーゼル': 7102, '##さい': 7103, 'Br': 7104, '思う': 7105, '牡馬': 7106, '総務': 7107, '##フリー': 7108, 'ボーナス': 7109, 'サンフランシスコ': 7110, '芸人': 7111, '豊富': 7112, 'Ad': 7113, 'EU': 7114, '品種': 7115, '水戸': 7116, '衰退': 7117, '軟': 7118, '##ond': 7119, 'Sc': 7120, '開放': 7121, 'サンタ': 7122, '決める': 7123, 'j': 7124, '歓': 7125, 'DS': 7126, 'メガ': 7127, 'ワー': 7128, '電源': 7129, '飛行場': 7130, 'ボクシング': 7131, '慰': 7132, '##ドウ': 7133, 'てる': 7134, '循環': 7135, '水域': 7136, 'につれ': 7137, '迎える': 7138, '熟': 7139, '遷': 7140, '大衆': 7141, '施さ': 7142, '質問': 7143, '配属': 7144, '喪': 7145, '##まえ': 7146, '##セイ': 7147, '信用': 7148, '助手': 7149, '外側': 7150, '最小': 7151, '酸素': 7152, '闘争': 7153, '##ベリア': 7154, '彩': 7155, '##しゃ': 7156, '勝負': 7157, '勲章': 7158, '実践': 7159, '探偵': 7160, '法的': 7161, '第一': 7162, '大震災': 7163, 'ローマ帝国': 7164, '##IG': 7165, '摩': 7166, 'AR': 7167, '今回': 7168, '兼任': 7169, '気筒': 7170, '独占': 7171, '警戒': 7172, 'リアル': 7173, '東海道': 7174, 'ステーション': 7175, '##ジラ': 7176, 'まる': 7177, '会館': 7178, '奉行': 7179, '挟ん': 7180, '降り': 7181, 'スリー': 7182, '達する': 7183, '吾': 7184, '魂': 7185, 'AN': 7186, '山地': 7187, '##イヤル': 7188, '##フィールド': 7189, '妙': 7190, '##ニエ': 7191, '##ロウ': 7192, 'EX': 7193, 'かね': 7194, '不正': 7195, '中断': 7196, '墓地': 7197, '天体': 7198, '無人': 7199, '見な': 7200, '##ーバー': 7201, '##ーシ': 7202, '##ica': 7203, '文章': 7204, '運賃': 7205, '##バイス': 7206, '##tern': 7207, '172': 7208, '##フスキー': 7209, '噂': 7210, '##ish': 7211, '液体': 7212, '賞金': 7213, '##民主党': 7214, 'リスク': 7215, '辛': 7216, '##返す': 7217, 'CS': 7218, 'MV': 7219, '南海': 7220, '宮廷': 7221, '療法': 7222, '軽量': 7223, '1889': 7224, '##グリ': 7225, 'ベネ': 7226, '在位': 7227, '武士': 7228, '渡る': 7229, '引き継い': 7230, 'ディレクター': 7231, '堺': 7232, '鎖': 7233, '##メイ': 7234, 'うた': 7235, '身長': 7236, '見せる': 7237, '焦': 7238, '##たま': 7239, 'イリ': 7240, '特典': 7241, '生存': 7242, '男爵': 7243, '##付ける': 7244, '講談社': 7245, '1907': 7246, '扇': 7247, '##ナミ': 7248, 'でん': 7249, '歌う': 7250, 'アラビア': 7251, '偉': 7252, '呂': 7253, '巣': 7254, '##ちゃ': 7255, 'ヒー': 7256, '書く': 7257, '海峡': 7258, 'ヴェル': 7259, '置き換え': 7260, '##コス': 7261, '##取る': 7262, '##書き': 7263, '##ign': 7264, '総会': 7265, '配給': 7266, '##チック': 7267, 'スカイ': 7268, '共和党': 7269, '##ナイテッド': 7270, '##じめ': 7271, '##オル': 7272, '##シナ': 7273, '##und': 7274, 'TR': 7275, 'ウラ': 7276, '並ぶ': 7277, '短縮': 7278, '解雇': 7279, '運輸': 7280, '定める': 7281, 'アルファ': 7282, 'コロンビア': 7283, '童': 7284, '##セロ': 7285, '##褐色': 7286, '奪わ': 7287, '平野': 7288, '征服': 7289, '応募': 7290, '黒い': 7291, '見つけ': 7292, '脂': 7293, '釜': 7294, '##ろう': 7295, '##程度': 7296, '前者': 7297, '南方': 7298, '徹底': 7299, 'ある程度': 7300, '##St': 7301, '誓': 7302, 'シド': 7303, '北陸': 7304, '変身': 7305, '多摩': 7306, '学問': 7307, 'くらい': 7308, 'みんな': 7309, 'はっきり': 7310, '算': 7311, '##ary': 7312, 'に当': 7313, '乾燥': 7314, '半年': 7315, '実力': 7316, '配布': 7317, 'AAA': 7318, 'コンテンツ': 7319, '##KA': 7320, '俗': 7321, '蒲': 7322, 'ミラ': 7323, '将棋': 7324, '待ち': 7325, '従業': 7326, 'コール': 7327, 'ドライブ': 7328, '##うち': 7329, '就い': 7330, '廃車': 7331, '最古': 7332, '開校': 7333, 'にくい': 7334, '##都市': 7335, '司教': 7336, '着手': 7337, '総理': 7338, '陥っ': 7339, '騒動': 7340, 'ハート': 7341, 'ショート': 7342, '##ネン': 7343, '##義塾': 7344, '正教': 7345, '親王': 7346, '##トラック': 7347, '何らかの': 7348, '##ix': 7349, '國': 7350, '##グロ': 7351, 'AP': 7352, '冒頭': 7353, '戦術': 7354, '救助': 7355, '新田': 7356, '琉球': 7357, '落選': 7358, '名乗る': 7359, '甲子園': 7360, '訪れる': 7361, '##ポーター': 7362, 'チベット': 7363, '中華民国': 7364, '##pe': 7365, '三井': 7366, '刺激': 7367, '医薬': 7368, '国籍': 7369, '構内': 7370, '調達': 7371, 'メモリ': 7372, '##ヴィッド': 7373, 'ヒロイン': 7374, 'ショッピング': 7375, 'CH': 7376, 'がっ': 7377, 'リト': 7378, '修行': 7379, '探検': 7380, '看護': 7381, '長編': 7382, 'Web': 7383, 'オールスター': 7384, '畑': 7385, '##are': 7386, 'トル': 7387, '容疑': 7388, '教科': 7389, '155': 7390, '倫': 7391, '句': 7392, '##合う': 7393, 'IP': 7394, 'La': 7395, 'UN': 7396, '参入': 7397, '師範': 7398, '水上': 7399, '125': 7400, 'ツール': 7401, '圧倒的': 7402, '##ビジョン': 7403, '##ミネート': 7404, 'エレクト': 7405, 'コマンド': 7406, '貝': 7407, '##テイ': 7408, '##ert': 7409, 'ゲル': 7410, '交易': 7411, '周期': 7412, '後部': 7413, '炭素': 7414, '講演': 7415, '##アウト': 7416, '1905': 7417, '##OT': 7418, '##ux': 7419, '墳': 7420, 'グロ': 7421, '定理': 7422, '怒り': 7423, '恒星': 7424, '日々': 7425, '風景': 7426, '##ットー': 7427, '##リンズ': 7428, 'フィル': 7429, '禅': 7430, 'ch': 7431, '出撃': 7432, '車内': 7433, '大西洋': 7434, 'オーケストラ': 7435, 'ドキュメンタリー': 7436, '##向き': 7437, 'キュ': 7438, 'ペア': 7439, 'メカ': 7440, '相次い': 7441, '大韓民国': 7442, '##pt': 7443, '柴': 7444, '蘭': 7445, 'No': 7446, 'PR': 7447, '余り': 7448, '寄付': 7449, '審判': 7450, '改装': 7451, '木村': 7452, '死者': 7453, '選ぶ': 7454, 'フィラ': 7455, '趙': 7456, '震': 7457, 'イエ': 7458, '定数': 7459, '就職': 7460, '我々': 7461, '抑制': 7462, '甲斐': 7463, '法学部': 7464, '称する': 7465, '銭': 7466, '##ガイ': 7467, 'WW': 7468, 'しゃ': 7469, '命中': 7470, '品質': 7471, '成人': 7472, '比例': 7473, '船体': 7474, 'マガジン': 7475, '確実': 7476, '結論': 7477, '親し': 7478, '峰': 7479, '譜': 7480, '##トレ': 7481, '##ach': 7482, '後退': 7483, '時に': 7484, '突入': 7485, '衛生': 7486, '視点': 7487, '道具': 7488, '##中学校': 7489, '変わら': 7490, 'ノミネート': 7491, '尺': 7492, '##シオ': 7493, 'ケイ': 7494, '上田': 7495, '去っ': 7496, '深刻': 7497, '走り': 7498, '##ークル': 7499, '##OP': 7500, '塾': 7501, '##マラ': 7502, '尽力': 7503, '挿入': 7504, '最中': 7505, '河口': 7506, '阪急': 7507, '##フィン': 7508, 'シャン': 7509, '##スポ': 7510, 'Sy': 7511, '終点': 7512, '衣装': 7513, '##っくり': 7514, '##バキア': 7515, 'ミュン': 7516, '1916': 7517, 'チャレンジ': 7518, '則': 7519, '剥': 7520, '於': 7521, '##もん': 7522, '##三郎': 7523, '##ass': 7524, '##ite': 7525, 'セイ': 7526, 'マニ': 7527, '建国': 7528, '従軍': 7529, '立つ': 7530, '身分': 7531, 'ドーム': 7532, 'ウェブサイト': 7533, '零': 7534, '02': 7535, '事項': 7536, '人権': 7537, '入場': 7538, '刑務': 7539, '同人': 7540, '夫妻': 7541, '後に': 7542, '皇后': 7543, '間隔': 7544, 'オフィス': 7545, 'ユニバー': 7546, '##int': 7547, '##ンチェ': 7548, '##ヴェル': 7549, 'ドラム': 7550, '飛行機': 7551, '洲': 7552, '髪': 7553, '##アム': 7554, '##コロ': 7555, '##ルカ': 7556, 'マジ': 7557, '敷設': 7558, '車線': 7559, 'cod': 7560, '広がる': 7561, '激しく': 7562, '##かく': 7563, '##リフ': 7564, '引用': 7565, '薬物': 7566, '##ソング': 7567, 'バージニア': 7568, '##どう': 7569, '##デュ': 7570, '##モス': 7571, '##東京': 7572, '##ory': 7573, 'じん': 7574, '上級': 7575, '不良': 7576, '入植': 7577, '感覚': 7578, '支流': 7579, '法則': 7580, '活発': 7581, '##ソフト': 7582, '##ヘルム': 7583, 'カウン': 7584, '繰り広': 7585, 'プレーオフ': 7586, '膝': 7587, 'LI': 7588, 'on': 7589, '伊達': 7590, '保証': 7591, '厳密': 7592, '法学': 7593, '##イアン': 7594, '##セッツ': 7595, 'TKO': 7596, 'タクシー': 7597, '坊': 7598, '班': 7599, '##リャ': 7600, '保安': 7601, '帰っ': 7602, '砲撃': 7603, '隠し': 7604, '##ミュージ': 7605, 'フィート': 7606, 'マルクス': 7607, '##チューセッツ': 7608, '叩': 7609, '益': 7610, '##ノフ': 7611, ':)': 7612, 'おい': 7613, 'ゲイ': 7614, '中島': 7615, '寛永': 7616, '招待': 7617, '時刻': 7618, '理想': 7619, '駐屯': 7620, 'コラボ': 7621, 'マサチューセッツ': 7622, '縄': 7623, '##ンバ': 7624, '05': 7625, '中核': 7626, '悪魔': 7627, '細菌': 7628, 'ボート': 7629, '桐': 7630, '東南': 7631, '沈没': 7632, '##ワール': 7633, '長らく': 7634, '幽': 7635, '舟': 7636, '三島': 7637, '前田': 7638, '空中': 7639, '統制': 7640, '配慮': 7641, '##上げる': 7642, 'ガイド': 7643, 'トーマス': 7644, '##太子': 7645, '##ath': 7646, '09': 7647, '大橋': 7648, '後年': 7649, 'Mus': 7650, 'シンガー': 7651, '##スティバル': 7652, 'ラブ': 7653, 'クロア': 7654, 'バレエ': 7655, '改めて': 7656, '高校生': 7657, 'ニッポン': 7658, 'アルコール': 7659, '亮': 7660, '舎': 7661, '雌': 7662, '##デア': 7663, '口径': 7664, '民営': 7665, '漁業': 7666, '選考': 7667, 'キューバ': 7668, 'オプション': 7669, '兆': 7670, '孔': 7671, '耕': 7672, '##ニコ': 7673, '##笑い': 7674, 'Ed': 7675, 'ゆく': 7676, 'イェ': 7677, '昆虫': 7678, '村上': 7679, '臨床': 7680, '開き': 7681, '面し': 7682, '154': 7683, '横須賀': 7684, 'スロバキア': 7685, '|': 7686, '謙': 7687, '##ile': 7688, '隊員': 7689, '##じょう': 7690, '天文学': 7691, '籠': 7692, '##ゼフ': 7693, '##ドー': 7694, '##ペル': 7695, '##時間': 7696, 'ヤク': 7697, '慶應': 7698, '文芸': 7699, '有料': 7700, '##ニズム': 7701, '珍しい': 7702, '##ッキング': 7703, '慶應義塾': 7704, '##BO': 7705, '媒': 7706, '蘇': 7707, '##知事': 7708, '同意': 7709, '山陽': 7710, '戦場': 7711, '福音': 7712, '贈ら': 7713, 'フォーク': 7714, '##ディングス': 7715, '南アフリカ': 7716, '妃': 7717, '寮': 7718, 'おき': 7719, '会話': 7720, '元禄': 7721, '山岳': 7722, '幼稚': 7723, '張り': 7724, '著者': 7725, '行方': 7726, 'ブック': 7727, '##..': 7728, '##チナ': 7729, '個々': 7730, '実は': 7731, '救援': 7732, '阻止': 7733, '##ツィア': 7734, '讃': 7735, '低迷': 7736, '同等': 7737, '相模': 7738, '##ページ': 7739, '##ical': 7740, 'スコア': 7741, '##アルバム': 7742, '##ポリ': 7743, 'デー': 7744, '個別': 7745, '抗争': 7746, '無限': 7747, '##ッパー': 7748, '140': 7749, 'マリー': 7750, 'クロアチア': 7751, 'ジャクソン': 7752, '##ノイ': 7753, '##ick': 7754, 'あの': 7755, 'カス': 7756, '両国': 7757, '合戦': 7758, '排気': 7759, '推移': 7760, '盗塁': 7761, 'ウェイ': 7762, '土曜日': 7763, '乗り入れ': 7764, 'ジャーナリスト': 7765, 'みち': 7766, '忘れ': 7767, '青山': 7768, 'DNA': 7769, 'Sch': 7770, '幅広い': 7771, '1906': 7772, 'チェーン': 7773, '宏': 7774, '霧': 7775, '##ギス': 7776, 'DC': 7777, '懸念': 7778, '春日': 7779, '残留': 7780, 'USS': 7781, 'ならび': 7782, 'タイヤ': 7783, '取り戻': 7784, 'オリコン': 7785, 'クリスマス': 7786, '乃': 7787, '妊': 7788, '疎': 7789, '介入': 7790, '小野': 7791, '朝廷': 7792, '検察': 7793, '水平': 7794, 'スパイ': 7795, '##われ': 7796, '##iss': 7797, '.)': 7798, '僅か': 7799, '恋人': 7800, '魅力': 7801, 'ソース': 7802, 'ショップ': 7803, 'ファンタジー': 7804, 'ヴァイオリン': 7805, '##AY': 7806, '宛': 7807, '##渡し': 7808, '##貨店': 7809, '-)': 7810, '08': 7811, '下流': 7812, '主宰': 7813, '入門': 7814, '特集': 7815, '秘書': 7816, '階段': 7817, 'NBA': 7818, 'ヘビー': 7819, 'ベルト': 7820, '##ライター': 7821, 'アンダー': 7822, '厩': 7823, '淳': 7824, '蓮': 7825, '##住民': 7826, '##通り': 7827, 'ダニ': 7828, '乗降': 7829, '権威': 7830, '踏み': 7831, '近江': 7832, '##ートン': 7833, 'ヴィル': 7834, 'ジョンソン': 7835, '辰': 7836, '##クレ': 7837, 'Me': 7838, '出産': 7839, 'みなさ': 7840, '刑務所': 7841, '単行本': 7842, '日曜日': 7843, 'スカウト': 7844, 'デザイナー': 7845, '腐': 7846, '##エム': 7847, 'Pr': 7848, '人事': 7849, '付与': 7850, 'オーナー': 7851, 'ダウンロード': 7852, 'α': 7853, '溝': 7854, '##ウロ': 7855, '##カリ': 7856, '変形': 7857, '絶滅': 7858, '閉じ': 7859, '##ベリー': 7860, 'codice': 7861, '##ve': 7862, '遡': 7863, '味方': 7864, '固め': 7865, '境内': 7866, '旧制': 7867, 'ウッド': 7868, 'キャンペーン': 7869, '将校': 7870, '##ガース': 7871, '##ence': 7872, '長距離': 7873, '1909': 7874, '##IR': 7875, '##VA': 7876, '賠': 7877, '##ier': 7878, '技法': 7879, '##ケード': 7880, 'コントロール': 7881, '##\")': 7882, '犯人': 7883, '部下': 7884, '##ーニャ': 7885, 'ワーク': 7886, '##クトリア': 7887, 'ブルース': 7888, 'カム': 7889, '化石': 7890, 'プール': 7891, '##ブランド': 7892, 'ストライ': 7893, 'にあたって': 7894, '塚': 7895, '弦': 7896, '##ニオ': 7897, '04': 7898, '橋本': 7899, '没年': 7900, '配列': 7901, 'ヘリコ': 7902, 'マラソン': 7903, '遮': 7904, '比率': 7905, '番線': 7906, '車種': 7907, '通勤': 7908, '進歩': 7909, '##サウルス': 7910, 'バランス': 7911, '##DS': 7912, '俺': 7913, '##なか': 7914, '丘陵': 7915, '乗せ': 7916, '南極': 7917, '日産': 7918, '民衆': 7919, '水準': 7920, '沿線': 7921, '発し': 7922, '900': 7923, 'キャスト': 7924, '##カロライナ': 7925, 'ミュンヘン': 7926, '慕': 7927, 'ゴー': 7928, '任期': 7929, '出入': 7930, '性的': 7931, '演説': 7932, '血液': 7933, '補佐': 7934, '賠償': 7935, 'And': 7936, 'Wor': 7937, 'キック': 7938, 'ヴァン': 7939, '要する': 7940, 'アレンジ': 7941, 'インスト': 7942, 'ヒーロー': 7943, 'エー': 7944, '人材': 7945, '先輩': 7946, '着陸': 7947, '要望': 7948, '##ーマニア': 7949, '間もなく': 7950, '##ずる': 7951, 'スリ': 7952, 'パナ': 7953, '主役': 7954, '##ヴェン': 7955, 'UFC': 7956, 'バード': 7957, 'ペンシル': 7958, 'キロメートル': 7959, '牝': 7960, '##ニョ': 7961, 'DJ': 7962, '曲線': 7963, '滅亡': 7964, '高め': 7965, '##エット': 7966, '致': 7967, '冷却': 7968, '削除': 7969, '山頂': 7970, '結晶': 7971, '##ガリア': 7972, 'ミドル': 7973, '##KY': 7974, '##TC': 7975, '鋳': 7976, '##ーノ': 7977, '##per': 7978, 'オレ': 7979, '併合': 7980, '模型': 7981, '##グラム': 7982, 'スミス': 7983, 'ボックス': 7984, 'アシスタント': 7985, '邪': 7986, '##づい': 7987, '分散': 7988, '及ぼ': 7989, '皮膚': 7990, '警視': 7991, '##パニー': 7992, 'しかも': 7993, '佳': 7994, '漏': 7995, '累': 7996, 'Or': 7997, 'か所': 7998, 'やま': 7999, 'ミル': 8000, '入口': 8001, '内側': 8002, '受容': 8003, '同国': 8004, '左翼': 8005, '薩摩': 8006, '討ち': 8007, 'New': 8008, 'くれる': 8009, 'ウィン': 8010, '進める': 8011, '1890': 8012, 'コンクール': 8013, '束': 8014, '\"』': 8015, '平面': 8016, '広範': 8017, '財務': 8018, '顧客': 8019, '伝わる': 8020, 'ならびに': 8021, 'ルーマニア': 8022, '猿': 8023, '##ろん': 8024, '##回り': 8025, '##ann': 8026, '切れ': 8027, '町内': 8028, '緩和': 8029, '走っ': 8030, '##バース': 8031, '##バーン': 8032, '##ローズ': 8033, 'かける': 8034, 'イスラーム': 8035, '##ace': 8036, 'Cl': 8037, 'SE': 8038, 'メス': 8039, '失い': 8040, '小倉': 8041, '扱っ': 8042, '王立': 8043, '高架': 8044, '##バイル': 8045, 'モンテ': 8046, 'ジョージア': 8047, '了': 8048, '##ラフ': 8049, 'AL': 8050, '招い': 8051, '条例': 8052, '構え': 8053, '金曜': 8054, '##インズ': 8055, '分かっ': 8056, '##メディア': 8057, '泊': 8058, '##スパ': 8059, '先生': 8060, '冬季': 8061, '幾つ': 8062, '海兵': 8063, '辞職': 8064, 'もっと': 8065, '幼稚園': 8066, 'シャルル': 8067, 'ベクトル': 8068, '揺': 8069, '甥': 8070, '##arl': 8071, 'CO': 8072, '会談': 8073, '市川': 8074, '幼い': 8075, '所持': 8076, '所領': 8077, '##クラブ': 8078, '##ソリン': 8079, 'にわたる': 8080, '##役所': 8081, '振動': 8082, '港湾': 8083, '熱帯': 8084, '語る': 8085, '食料': 8086, '##ニオン': 8087, 'プログラ': 8088, 'エリザベス': 8089, '殆': 8090, '肖': 8091, '賭': 8092, 'なれ': 8093, 'カイ': 8094, 'スル': 8095, '学年': 8096, '学長': 8097, '歌唱': 8098, '##ッセン': 8099, '##上がっ': 8100, '115': 8101, '変わる': 8102, '##ッシャー': 8103, '大宮': 8104, '女神': 8105, '重複': 8106, 'ネーム': 8107, '##ンタテインメント': 8108, '##ern': 8109, 'フー': 8110, '五輪': 8111, '原料': 8112, '撃破': 8113, '騎乗': 8114, '一時期': 8115, '合衆国': 8116, '正教会': 8117, '割り当て': 8118, '呪': 8119, '##モー': 8120, '##ラブ': 8121, '夕方': 8122, '広げ': 8123, '符号': 8124, '航行': 8125, 'Lin': 8126, 'カテゴ': 8127, '倶': 8128, '掌': 8129, '疲': 8130, '羊': 8131, '閲': 8132, '##ちに': 8133, '##女子': 8134, '##act': 8135, 'ドロ': 8136, '礼拝': 8137, '考古': 8138, '高山': 8139, '##ポリス': 8140, 'お笑い': 8141, 'に従い': 8142, '##TR': 8143, '朗': 8144, '絡': 8145, '儀式': 8146, '恐怖': 8147, '水道': 8148, '適し': 8149, 'シェア': 8150, '金曜日': 8151, 'シドニー': 8152, '筒': 8153, '##公園': 8154, '##諏訪': 8155, '##oft': 8156, '中川': 8157, '公爵': 8158, '函館': 8159, '力士': 8160, '大野': 8161, '微分': 8162, '成田': 8163, '捕手': 8164, '撃墜': 8165, '衛門': 8166, '解任': 8167, '都合': 8168, 'スロー': 8169, '留まっ': 8170, '##フィール': 8171, 'ガソリン': 8172, '##デルフィア': 8173, '穂': 8174, '篇': 8175, '篠': 8176, '三郎': 8177, '不能': 8178, '但し': 8179, '傍ら': 8180, '日立': 8181, '河内': 8182, '繊維': 8183, '順次': 8184, '1500': 8185, 'そのうち': 8186, '醸': 8187, '雰': 8188, '##囲気': 8189, 'Tw': 8190, 'ミリ': 8191, '勉強': 8192, '実在': 8193, '小山': 8194, '担う': 8195, '神学': 8196, '##グラス': 8197, 'WBC': 8198, 'まった': 8199, '雰囲気': 8200, 'つながっ': 8201, '##ove': 8202, 'モハ': 8203, '単語': 8204, '実況': 8205, '山崎': 8206, '改編': 8207, '教養': 8208, '美濃': 8209, '近衛': 8210, '恵まれ': 8211, '1904': 8212, 'ヘリコプター': 8213, '戯': 8214, '替': 8215, 'DE': 8216, 'ガル': 8217, 'ミネ': 8218, '会津': 8219, '鎮圧': 8220, '顕著': 8221, '首長': 8222, '##モニー': 8223, '手続き': 8224, 'フィラデルフィア': 8225, '猪': 8226, '##気に': 8227, '並べ': 8228, '宿泊': 8229, '有利': 8230, '松竹': 8231, '発症': 8232, '確か': 8233, '移さ': 8234, 'ステップ': 8235, 'ジャイアン': 8236, 'ブルガリア': 8237, '賀': 8238, '他社': 8239, '前日': 8240, '契機': 8241, '新型': 8242, '殆ど': 8243, '海水': 8244, '重力': 8245, '##ブール': 8246, 'まもなく': 8247, '嵐': 8248, '信濃': 8249, '樹立': 8250, '歌舞': 8251, '評判': 8252, '電鉄': 8253, '首位': 8254, 'マネージャー': 8255, '胡': 8256, '叔父': 8257, '##ッスル': 8258, '携わっ': 8259, '見つかっ': 8260, '##MS': 8261, '盆': 8262, '眠': 8263, '綴': 8264, '##の子': 8265, '##ame': 8266, 'IT': 8267, 'くん': 8268, '互換': 8269, '全線': 8270, '心臓': 8271, '流し': 8272, '緑色': 8273, '返還': 8274, '##フェル': 8275, 'まったく': 8276, 'アナログ': 8277, 'キャスター': 8278, '柄': 8279, '##ザス': 8280, 'AK': 8281, 'みる': 8282, '京阪': 8283, '全般': 8284, '勤め': 8285, '当然': 8286, '簡易': 8287, '講義': 8288, '##ヴィン': 8289, '153': 8290, 'ロマン': 8291, '1903': 8292, '針': 8293, '##イー': 8294, 'とて': 8295, '一度': 8296, '公益': 8297, '幕末': 8298, '##レード': 8299, '変わり': 8300, '大いに': 8301, '経済学部': 8302, '##之助': 8303, '##九州': 8304, '入院': 8305, '島津': 8306, '断念': 8307, '石炭': 8308, 'リズム': 8309, 'ヴェネ': 8310, '地中海': 8311, 'そうした': 8312, '綾': 8313, '貼': 8314, '##ッヒ': 8315, '##電鉄': 8316, 'MA': 8317, 'マツ': 8318, '城下': 8319, '対処': 8320, '小川': 8321, '至ら': 8322, '##ベック': 8323, '社会党': 8324, '##ラト': 8325, 'いれ': 8326, '対照': 8327, '治安': 8328, '発注': 8329, '通し': 8330, 'Joh': 8331, '引き継が': 8332, 'HD': 8333, '壊滅': 8334, '変数': 8335, '外野': 8336, '専念': 8337, '幹線': 8338, '広大': 8339, '施工': 8340, '汚染': 8341, '##しかっ': 8342, '##ビング': 8343, 'RPG': 8344, '医薬品': 8345, 'リトアニア': 8346, '予防': 8347, '延伸': 8348, '洪水': 8349, '海賊': 8350, '##カンド': 8351, '励': 8352, '暖': 8353, '##ねる': 8354, '##エイ': 8355, 'My': 8356, 'セン': 8357, '初戦': 8358, '博多': 8359, '海域': 8360, '消し': 8361, '神聖': 8362, '肖像': 8363, '願い': 8364, 'エクス': 8365, 'ハイン': 8366, 'プロト': 8367, '生かし': 8368, '##ミュージック': 8369, '発覚': 8370, '##apan': 8371, 'スーパ': 8372, '##ペラ': 8373, '##兵衛': 8374, '03': 8375, 'アポ': 8376, 'ムス': 8377, '不振': 8378, '行使': 8379, '通路': 8380, '集会': 8381, '##かける': 8382, '##セロナ': 8383, 'セーブ': 8384, 'トイレ': 8385, '蹴': 8386, 'マド': 8387, 'ヨハ': 8388, '保健': 8389, '倒れ': 8390, '総長': 8391, '領地': 8392, '##プレス': 8393, '##ューン': 8394, 'タッチ': 8395, '集める': 8396, '##ンジニア': 8397, '##奏曲': 8398, 'モニ': 8399, '所蔵': 8400, '##ンガー': 8401, '大都市': 8402, '\"」': 8403, '付加': 8404, '休日': 8405, '内蔵': 8406, '焼失': 8407, '狭い': 8408, '環状': 8409, '目撃': 8410, '神宮': 8411, '西方': 8412, '負っ': 8413, '長女': 8414, '気持ち': 8415, '##Station': 8416, '寧': 8417, '帽': 8418, '響': 8419, '##モリ': 8420, '##rom': 8421, 'きれ': 8422, 'ふじ': 8423, 'オハ': 8424, 'ネイ': 8425, '反射': 8426, '台風': 8427, '州立': 8428, '早期': 8429, '退社': 8430, 'Col': 8431, 'タワー': 8432, 'マンガ': 8433, 'ラスト': 8434, 'バルセロナ': 8435, '創建': 8436, '招集': 8437, '##ハルト': 8438, 'カフェ': 8439, 'ターボ': 8440, 'テープ': 8441, 'ストック': 8442, '巻き込ま': 8443, '##久保': 8444, '公務': 8445, '公的': 8446, '復元': 8447, '新作': 8448, '概ね': 8449, '社団': 8450, '紋章': 8451, '野生': 8452, '電圧': 8453, 'ビール': 8454, '北九州': 8455, 'マスコミ': 8456, 'ロックバンド': 8457, '##ke': 8458, 'ぷ': 8459, '06': 8460, '別れ': 8461, '奪取': 8462, '就役': 8463, '支払い': 8464, '##ニックス': 8465, '##II': 8466, '##リク': 8467, '##ロニ': 8468, 'カ国': 8469, '三男': 8470, '告げ': 8471, '唱え': 8472, '放っ': 8473, '調教': 8474, '高田': 8475, '118': 8476, 'イエス': 8477, 'ピンク': 8478, 'コンテスト': 8479, 'コミュニケーション': 8480, '和田': 8481, '短く': 8482, '転用': 8483, '##ーパー': 8484, 'NTT': 8485, 'アダム': 8486, 'アラン': 8487, 'キャプ': 8488, '変える': 8489, '##MA': 8490, 'ふる': 8491, 'テル': 8492, '公社': 8493, '季節': 8494, '楽章': 8495, '遊び': 8496, '152': 8497, 'バイオ': 8498, '不安定': 8499, '##ースター': 8500, 'オレンジ': 8501, 'ダブルス': 8502, '棄': 8503, '汽': 8504, '##ook': 8505, '侵略': 8506, '出生': 8507, '消え': 8508, '##タリスト': 8509, '##リエーション': 8510, '吐': 8511, '咲': 8512, '遼': 8513, '標本': 8514, '##aw': 8515, '豆': 8516, '闇': 8517, 'SD': 8518, 'サウ': 8519, '三浦': 8520, '傾斜': 8521, '大尉': 8522, '東急': 8523, '法令': 8524, '覆わ': 8525, '観音': 8526, '電化': 8527, 'わかる': 8528, '小学生': 8529, '勾': 8530, '##やす': 8531, '##ょく': 8532, '##わけ': 8533, '小松': 8534, '山城': 8535, '被災': 8536, '調理': 8537, 'もたらす': 8538, 'ロイヤル': 8539, '敦': 8540, '是': 8541, '輩': 8542, '土佐': 8543, '客車': 8544, '度々': 8545, '望遠': 8546, '牧場': 8547, '艦艇': 8548, '除去': 8549, '飲食': 8550, 'ペット': 8551, '##アメリカ': 8552, '##学院大学': 8553, '磐': 8554, '##せい': 8555, '##ナウ': 8556, '##高等': 8557, 'ra': 8558, 'バッ': 8559, '伊豆': 8560, '協同': 8561, '大変': 8562, '大蔵': 8563, '表さ': 8564, '見方': 8565, '##ンドー': 8566, 'とても': 8567, 'ステークス': 8568, 'テレビ東京': 8569, '胞': 8570, 'ミズ': 8571, '併用': 8572, '延期': 8573, '抱い': 8574, '##ヴィチ': 8575, '歌舞伎': 8576, '1901': 8577, '##TS': 8578, '腫': 8579, '鳳': 8580, '##コモ': 8581, '##ュル': 8582, '充実': 8583, '暗号': 8584, '検索': 8585, '生態': 8586, '貨幣': 8587, 'ディス': 8588, 'レンズ': 8589, '佐々木': 8590, '##ホー': 8591, '##寄り': 8592, 'デル': 8593, 'ポケ': 8594, '上述': 8595, '番台': 8596, '##セラー': 8597, '##ワーズ': 8598, '##de': 8599, '播': 8600, '緒': 8601, '鮮': 8602, '市営': 8603, '誇る': 8604, '高原': 8605, '##バード': 8606, '##マッチ': 8607, '##リエイ': 8608, '##科大学': 8609, 'レール': 8610, '正しい': 8611, 'チャンピオンズ': 8612, '本国': 8613, '残す': 8614, '話す': 8615, 'ウォー': 8616, 'ニック': 8617, 'あくまで': 8618, 'ジャイアンツ': 8619, '##がし': 8620, '##くし': 8621, '##なら': 8622, '##学園': 8623, '商標': 8624, '回答': 8625, '安倍': 8626, '定年': 8627, '損失': 8628, '長谷': 8629, '閲覧': 8630, '##ディス': 8631, '##stem': 8632, '涼': 8633, '##ロフ': 8634, '##amp': 8635, '##ium': 8636, '山下': 8637, '成し': 8638, '釣り': 8639, '##ドール': 8640, '捕らえ': 8641, '##PS': 8642, '据': 8643, '矛': 8644, '裂': 8645, '伝達': 8646, '地質': 8647, '大島': 8648, '平行': 8649, '滑走': 8650, '統括': 8651, '違っ': 8652, 'Mac': 8653, 'ゾーン': 8654, 'PlayStation': 8655, '潤': 8656, 'どれ': 8657, 'チン': 8658, 'ドー': 8659, '下旬': 8660, '同僚': 8661, '用水': 8662, '賛成': 8663, '##モント': 8664, 'レスリング': 8665, 'ソフトバンク': 8666, '##IX': 8667, 'z': 8668, '汎': 8669, 'LO': 8670, 'アタ': 8671, '予約': 8672, '同行': 8673, '抜擢': 8674, '流出': 8675, '流用': 8676, '筆頭': 8677, 'とりわけ': 8678, 'アダルト': 8679, 'ライオン': 8680, 'ギタリスト': 8681, 'プロモーション': 8682, '癌': 8683, '萩': 8684, '跨': 8685, 'アプ': 8686, '広報': 8687, '所得': 8688, '現状': 8689, '省略': 8690, '芸名': 8691, '虐殺': 8692, '踊り': 8693, '降下': 8694, '##ゾート': 8695, '##ボーン': 8696, 'もらう': 8697, '1898': 8698, 'それから': 8699, 'プレート': 8700, 'ラッシュ': 8701, '##NS': 8702, '把': 8703, '枢': 8704, '殻': 8705, '鍛': 8706, '##わさ': 8707, '##アミ': 8708, '切っ': 8709, '所長': 8710, '斎藤': 8711, '遂げ': 8712, '遭遇': 8713, '頂点': 8714, 'パネル': 8715, '医学部': 8716, '生き残': 8717, '##アイランド': 8718, '堆': 8719, '##ガニ': 8720, '作画': 8721, '各社': 8722, '妊娠': 8723, '妨害': 8724, '強度': 8725, '本店': 8726, '燃焼': 8727, '窓口': 8728, '繁栄': 8729, '老朽': 8730, '##カーン': 8731, '##シェル': 8732, '因ん': 8733, '悪く': 8734, '番地': 8735, '看板': 8736, '職人': 8737, '諏訪': 8738, '貴重': 8739, '金額': 8740, '##ダウン': 8741, '##リアス': 8742, '国民党': 8743, '1902': 8744, '取り組ん': 8745, 'マレーシア': 8746, '##よう': 8747, 'カプ': 8748, 'ネオ': 8749, '喪失': 8750, '捉え': 8751, '日光': 8752, '木造': 8753, '特異': 8754, '馬場': 8755, 'JAP': 8756, 'Ser': 8757, 'フェア': 8758, '短期間': 8759, '1896': 8760, 'スポット': 8761, '銅メダル': 8762, 'ハリウッド': 8763, 'マンション': 8764, '囚': 8765, '培': 8766, '岳': 8767, '涙': 8768, '##ズミ': 8769, '仮説': 8770, '判事': 8771, '弾薬': 8772, '歌劇': 8773, '浦和': 8774, '熊野': 8775, '著し': 8776, '褐色': 8777, '##タイプ': 8778, '決して': 8779, 'グレート': 8780, 'サークル': 8781, 'ロケ': 8782, '主任': 8783, '介し': 8784, '制約': 8785, '外れ': 8786, '庁舎': 8787, '習慣': 8788, '表紙': 8789, '適応': 8790, '##シウム': 8791, '##レッド': 8792, 'ABC': 8793, 'アルゴ': 8794, 'ヨハン': 8795, '凝': 8796, '慈': 8797, '##コフ': 8798, '##大臣': 8799, '兵衛': 8800, '出店': 8801, '函数': 8802, '増し': 8803, '大井': 8804, '熱心': 8805, '覚え': 8806, 'IBM': 8807, '1871': 8808, '主として': 8809, '##tt': 8810, '磯': 8811, '##ズル': 8812, '##チオ': 8813, '##ina': 8814, '交戦': 8815, '代数': 8816, '国軍': 8817, '準々': 8818, '立法': 8819, '視覚': 8820, '近世': 8821, '退役': 8822, '還元': 8823, '##ヴィス': 8824, 'シミュ': 8825, 'ミュー': 8826, '加わり': 8827, '銀メダル': 8828, 'プロテスタント': 8829, '##電力': 8830, '債務': 8831, '替え': 8832, '牝馬': 8833, '瞬間': 8834, '稼働': 8835, '降板': 8836, '##らしい': 8837, '111': 8838, '151': 8839, 'EC': 8840, 'ON': 8841, '吉野': 8842, '投与': 8843, '細川': 8844, '野菜': 8845, '開戦': 8846, 'パーセント': 8847, '捧': 8848, 'いろ': 8849, '問い': 8850, '城主': 8851, '毎回': 8852, '競合': 8853, '起訴': 8854, '##リアル': 8855, '##ヴァル': 8856, '202': 8857, '伸ばし': 8858, '望遠鏡': 8859, '見なさ': 8860, 'マックス': 8861, '朝日新聞': 8862, 'プラットフォーム': 8863, '墜': 8864, '##エゴ': 8865, 'ねん': 8866, '市域': 8867, '正義': 8868, '被告': 8869, '農村': 8870, 'もちろん': 8871, '湘': 8872, '菩': 8873, '酷': 8874, '##ラド': 8875, 'かく': 8876, '三つ': 8877, '不定': 8878, '島根': 8879, '捜索': 8880, '浜松': 8881, '##プトン': 8882, 'Man': 8883, 'ティー': 8884, '翔': 8885, '##たし': 8886, '##づく': 8887, '##ime': 8888, 'MP': 8889, 'nd': 8890, '岡崎': 8891, '水中': 8892, '育っ': 8893, '詰め': 8894, '113': 8895, 'すぎる': 8896, 'ボラン': 8897, 'テーブル': 8898, 'ユーゴス': 8899, '切り替え': 8900, 'ペンシルベニア': 8901, '##ムス': 8902, 'メタ': 8903, '党員': 8904, '反撃': 8905, '感謝': 8906, '最適': 8907, '検定': 8908, '要件': 8909, '上回る': 8910, '大使館': 8911, '格闘技': 8912, '高まっ': 8913, '##ベーター': 8914, 'CL': 8915, 'なす': 8916, '中盤': 8917, '優位': 8918, '庶民': 8919, '後世': 8920, '怪獣': 8921, '技能': 8922, '歩行': 8923, '純粋': 8924, '##キット': 8925, '##ドルフ': 8926, '市議会': 8927, '##高等学校': 8928, '庵': 8929, '斑': 8930, '蛇': 8931, '##切ら': 8932, '下位': 8933, '使者': 8934, '疑い': 8935, '豊臣': 8936, '農林': 8937, '電池': 8938, '##ミット': 8939, 'パイプ': 8940, '加える': 8941, 'ダメージ': 8942, 'ライター': 8943, '##ai': 8944, '袋': 8945, '##そう': 8946, '##リュ': 8947, '##ont': 8948, '##orm': 8949, '加賀': 8950, '精度': 8951, '胴体': 8952, '造ら': 8953, '野村': 8954, '隊長': 8955, 'サーバ': 8956, '仕組み': 8957, 'グレード': 8958, 'インターナショナル': 8959, '兵力': 8960, '役者': 8961, '徒歩': 8962, '景観': 8963, '甲府': 8964, '開局': 8965, 'たびたび': 8966, 'セントラル': 8967, '##Hz': 8968, 'la': 8969, 'コネ': 8970, 'レジ': 8971, '原型': 8972, '外見': 8973, '客員': 8974, '敵対': 8975, '登記': 8976, '策定': 8977, '##ナント': 8978, '105': 8979, 'クーデ': 8980, 'パーツ': 8981, 'ラリー': 8982, '##sp': 8983, '呈': 8984, '輔': 8985, '##酸化': 8986, '偶然': 8987, '在任': 8988, '天井': 8989, '施し': 8990, '監査': 8991, '貧困': 8992, '##揚げ': 8993, 'がち': 8994, '乗員': 8995, '安政': 8996, '耐え': 8997, '評さ': 8998, '##キュー': 8999, '##ベート': 9000, 'パック': 9001, 'ロッテ': 9002, 'シンボル': 9003, 'Japan': 9004, '拍': 9005, '##空港': 9006, 'ゴム': 9007, '完結': 9008, '正体': 9009, '読む': 9010, '講座': 9011, '識別': 9012, '鳥類': 9013, '116': 9014, '日本国': 9015, '1880': 9016, 'スイッチ': 9017, 'フェリー': 9018, 'JAPAN': 9019, '##OD': 9020, '##yl': 9021, '##ハラ': 9022, '##ヤン': 9023, '##old': 9024, '07': 9025, '収益': 9026, '小笠': 9027, '認証': 9028, '##上がり': 9029, '360': 9030, 'わかっ': 9031, '##enter': 9032, 'ょうがっこう': 9033, 'フェスティバル': 9034, '傑': 9035, '辻': 9036, '頑': 9037, '##son': 9038, 'あん': 9039, 'メソ': 9040, '情勢': 9041, '撃沈': 9042, '極端': 9043, '浅草': 9044, '立体': 9045, '##えもん': 9046, '厳しく': 9047, 'コンクリート': 9048, '茎': 9049, '談': 9050, '##だい': 9051, '##ユー': 9052, '##EST': 9053, 'もん': 9054, 'オオ': 9055, 'ニン': 9056, '右翼': 9057, '垂直': 9058, '総額': 9059, '脅威': 9060, '語ら': 9061, '貫通': 9062, 'あたっ': 9063, 'クレイ': 9064, '1899': 9065, 'ムスリム': 9066, '組み込ま': 9067, '督': 9068, '##番号': 9069, 'エキ': 9070, '代行': 9071, '同型': 9072, '明け': 9073, '期生': 9074, '検証': 9075, '狙っ': 9076, '神殿': 9077, '見舞': 9078, '135': 9079, '350': 9080, 'テクノ': 9081, '百貨店': 9082, 'ブロード': 9083, '取り組み': 9084, 'インディア': 9085, '爵': 9086, '琴': 9087, '綿': 9088, '##セフ': 9089, 'アサ': 9090, '陣営': 9091, '鹿島': 9092, '##ホテル': 9093, '仕掛け': 9094, '1897': 9095, 'ユナイテッド': 9096, '##ソル': 9097, '##テレ': 9098, '%(': 9099, 'IV': 9100, 'やる': 9101, 'セガ': 9102, '乗務': 9103, '会合': 9104, '内陸': 9105, '坂本': 9106, '墜落': 9107, '宣教': 9108, '満足': 9109, '広がり': 9110, '日本海': 9111, '##ck': 9112, '##しん': 9113, 'カロ': 9114, '慶応': 9115, '照明': 9116, '込め': 9117, 'マップ': 9118, 'ライヴ': 9119, '1870': 9120, '##DP': 9121, 'ヵ': 9122, '吊': 9123, '庫': 9124, '##ゥー': 9125, '努め': 9126, '史跡': 9127, '土木': 9128, '抜き': 9129, '葬儀': 9130, '##ナップ': 9131, 'アリス': 9132, 'カレッジ': 9133, '##TV': 9134, '搬': 9135, '椎': 9136, '##ton': 9137, 'BM': 9138, '今度': 9139, '拘束': 9140, '死ぬ': 9141, '気付': 9142, '没し': 9143, '発動': 9144, '筑波': 9145, '診療': 9146, 'クロー': 9147, 'スピン': 9148, 'バーン': 9149, '出会っ': 9150, '1884': 9151, 'イースト': 9152, '西ドイツ': 9153, '##エンタテインメント': 9154, '三木': 9155, '全部': 9156, '同級': 9157, '守り': 9158, '水系': 9159, '輩出': 9160, '阻害': 9161, '##サイド': 9162, '##チーム': 9163, '112': 9164, '114': 9165, 'BGM': 9166, 'ローズ': 9167, '関わり': 9168, '##ブリッジ': 9169, '##モーター': 9170, 'コーヒー': 9171, 'シングルス': 9172, '##ヒル': 9173, '個性': 9174, '家老': 9175, '市販': 9176, '株主': 9177, '民俗': 9178, '違法': 9179, '##ヴィヒ': 9180, '##ヴィー': 9181, 'ほしい': 9182, '皇太子': 9183, 'アトランタ': 9184, '##au': 9185, '##グレ': 9186, '##バマ': 9187, '##isc': 9188, 'Ge': 9189, 'ルネ': 9190, '不要': 9191, '天使': 9192, '就航': 9193, '幹事': 9194, '序盤': 9195, '推理': 9196, '改訂': 9197, '無事': 9198, '誤り': 9199, '謝罪': 9200, '##ゼント': 9201, 'WBA': 9202, '備える': 9203, '協奏曲': 9204, '遣': 9205, 'たか': 9206, 'はら': 9207, '採択': 9208, '東芝': 9209, '果実': 9210, '水雷': 9211, '特撮': 9212, '真珠': 9213, '空手': 9214, '食い': 9215, '##ジウム': 9216, '新しく': 9217, '也': 9218, '妥': 9219, '##eth': 9220, '技師': 9221, '望ま': 9222, '未だ': 9223, '肉体': 9224, '都心': 9225, '##ザーズ': 9226, 'ヴァル': 9227, '体育館': 9228, '教科書': 9229, '1600': 9230, '##ax': 9231, '玩': 9232, '##楽部': 9233, '##uct': 9234, 'OF': 9235, '奪い': 9236, '職務': 9237, '隠居': 9238, '##掛ける': 9239, 'はるか': 9240, 'ハーフ': 9241, '外務省': 9242, '呼びかけ': 9243, 'ユーゴスラビア': 9244, '胃': 9245, '謀': 9246, '鞍': 9247, '##ッペ': 9248, '##ビュ': 9249, '##ube': 9250, 'いし': 9251, '夏季': 9252, '年金': 9253, '気圧': 9254, '法廷': 9255, '流入': 9256, '石井': 9257, '討伐': 9258, '豊田': 9259, '配下': 9260, '##タール': 9261, '##ベンチ': 9262, 'グレイ': 9263, 'ファー': 9264, '倶楽部': 9265, 'ストーン': 9266, 'グラフィック': 9267, '鋭': 9268, '鍋': 9269, 'CR': 9270, '天王': 9271, '捕獲': 9272, '支給': 9273, '日野': 9274, '浮上': 9275, '番手': 9276, '##olog': 9277, 'CPU': 9278, 'プレス': 9279, '上がる': 9280, '小田原': 9281, '##itter': 9282, '欄': 9283, '##ーヌ': 9284, 'Wi': 9285, '国務': 9286, '死体': 9287, '無効': 9288, '道場': 9289, '##カット': 9290, 'うまく': 9291, 'さくら': 9292, 'させる': 9293, '上がり': 9294, '著しく': 9295, 'キャプテン': 9296, '##思議': 9297, '住み': 9298, '倒し': 9299, '和解': 9300, '実家': 9301, '対空': 9302, '排出': 9303, '##ディン': 9304, '##ヴィア': 9305, 'クルー': 9306, 'モバイル': 9307, '##CA': 9308, '餌': 9309, '##裁判': 9310, '##ark': 9311, 'CG': 9312, 'そば': 9313, 'ちょ': 9314, 'チリ': 9315, '前線': 9316, '売れ': 9317, '少佐': 9318, '打席': 9319, '親衛隊': 9320, 'アーケード': 9321, '憧': 9322, '擬': 9323, '烏': 9324, '##ros': 9325, '中東': 9326, '歌い': 9327, '演習': 9328, '落下': 9329, '##立大学': 9330, '##ound': 9331, '米ドル': 9332, '##ジェリア': 9333, 'コミューン': 9334, 'ホームページ': 9335, '隙': 9336, '##諸島': 9337, '久保': 9338, '信者': 9339, '早い': 9340, '母音': 9341, '津波': 9342, '牧師': 9343, '知名': 9344, '電流': 9345, '飲み': 9346, '飾り': 9347, '##メイン': 9348, '133': 9349, '##yn': 9350, 'β': 9351, 'うつ': 9352, '先進': 9353, '分間': 9354, '同性': 9355, '声明': 9356, '対称': 9357, '磁気': 9358, '##裁判所': 9359, '警察官': 9360, '##リティー': 9361, 'Intern': 9362, 'データベース': 9363, '##oo': 9364, '缶': 9365, '##いう': 9366, '##マク': 9367, '予告': 9368, '小屋': 9369, '##ンダイ': 9370, 'アイヌ': 9371, 'エンド': 9372, 'チップ': 9373, 'モント': 9374, '名づけ': 9375, '名乗り': 9376, '比べる': 9377, '1868': 9378, '(=': 9379, 'トウ': 9380, 'ラウ': 9381, '位相': 9382, '号車': 9383, '路面': 9384, '量子': 9385, 'カート': 9386, 'ミステ': 9387, 'ヴェネツィア': 9388, '凍': 9389, '刈': 9390, '把握': 9391, '済み': 9392, 'づくり': 9393, 'とくに': 9394, 'ピーク': 9395, '県知事': 9396, '##サンダー': 9397, 'チェック': 9398, 'オートバイ': 9399, 'ブライアン': 9400, '##oci': 9401, 'DD': 9402, 'モロ': 9403, '一人': 9404, '奨励': 9405, '普段': 9406, '経歴': 9407, '藩士': 9408, '##っかり': 9409, '117': 9410, 'フロー': 9411, 'リレー': 9412, '知名度': 9413, '##ジャパン': 9414, 'オハイオ': 9415, '繰り広げ': 9416, '靖': 9417, '##ヌー': 9418, '##レア': 9419, 'Wh': 9420, 'リベ': 9421, 'ロマ': 9422, '力学': 9423, '州都': 9424, '廃棄': 9425, '最下': 9426, '渡し': 9427, '物体': 9428, '誤っ': 9429, '重大': 9430, '隠れ': 9431, '骨折': 9432, '##ロイド': 9433, '102': 9434, 'シード': 9435, '当たっ': 9436, 'ショック': 9437, 'スタンド': 9438, 'クーデター': 9439, '##ラミ': 9440, 'キル': 9441, 'ハム': 9442, '水産': 9443, '無理': 9444, '神田': 9445, '警告': 9446, '革新': 9447, 'つとめ': 9448, '先住民': 9449, 'ストレート': 9450, 'ダイヤモンド': 9451, '##MI': 9452, '代々': 9453, '展望': 9454, '治世': 9455, '演算': 9456, '種子': 9457, '長岡': 9458, 'ランプ': 9459, 'ユニバーサル': 9460, '##ギャ': 9461, 'ボリ': 9462, '全身': 9463, '取扱': 9464, '角度': 9465, '電磁': 9466, '青春': 9467, 'ヴァイ': 9468, '##ーリング': 9469, 'つながる': 9470, 'とどまっ': 9471, '宰': 9472, '保全': 9473, '太子': 9474, '寄与': 9475, '海底': 9476, '禁じ': 9477, '農場': 9478, '通学': 9479, '##ナード': 9480, '##ペット': 9481, '##レスト': 9482, 'ストップ': 9483, 'ポケモン': 9484, 'フットボール': 9485, '窒': 9486, 'スズ': 9487, '単一': 9488, '呼吸': 9489, '土壌': 9490, '救出': 9491, '正当': 9492, '源氏': 9493, '発祥': 9494, '盛岡': 9495, '小笠原': 9496, 'アピ': 9497, 'リバ': 9498, '中退': 9499, '倉庫': 9500, '文政': 9501, '記す': 9502, '##ナーズ': 9503, '##リンク': 9504, '108': 9505, '109': 9506, 'つもり': 9507, '単なる': 9508, '広まっ': 9509, '従って': 9510, '##レコード': 9511, '##アド': 9512, 'BL': 9513, 'Su': 9514, 'ぶん': 9515, '出品': 9516, '同志': 9517, '多用': 9518, '弱い': 9519, '殿堂': 9520, '軍勢': 9521, '音響': 9522, 'きゅう': 9523, 'オイル': 9524, '澤': 9525, '##てる': 9526, '##わい': 9527, 'ID': 9528, 'ビス': 9529, '合理': 9530, '塗り': 9531, '##ディオ': 9532, 'もらっ': 9533, 'ダーク': 9534, 'モール': 9535, '付ける': 9536, '大日本': 9537, 'メアリー': 9538, 'コンパクト': 9539, '東南アジア': 9540, '菜': 9541, '##しき': 9542, '##ケイ': 9543, '##パイ': 9544, '定員': 9545, '本質': 9546, '良好': 9547, '貸し': 9548, '高野': 9549, 'ガール': 9550, '起きる': 9551, '1893': 9552, 'Comp': 9553, 'エンジニア': 9554, '壮': 9555, '##コム': 9556, '寛政': 9557, '木材': 9558, '歌謡': 9559, '赴任': 9560, '##タミン': 9561, 'AFC': 9562, 'グラス': 9563, '##ivers': 9564, '槍': 9565, '##リラ': 9566, '##違い': 9567, ')「': 9568, 'ワル': 9569, '中立': 9570, '南京': 9571, '基金': 9572, 'メタル': 9573, 'ドラえもん': 9574, '瓦': 9575, '##ere': 9576, '仮想': 9577, '党首': 9578, '増強': 9579, '家系': 9580, '尾張': 9581, '払い': 9582, '推奨': 9583, '老人': 9584, '運命': 9585, '遠く': 9586, '##ドニア': 9587, 'ガード': 9588, 'ペルー': 9589, '公務員': 9590, '1872': 9591, 'ライダー': 9592, '##ML': 9593, '】': 9594, '嫁': 9595, '泣': 9596, '##ネイ': 9597, '##att': 9598, '##ost': 9599, '債権': 9600, '公募': 9601, '同地': 9602, '外科': 9603, '月曜': 9604, '格納': 9605, '自国': 9606, '親子': 9607, '読ん': 9608, '##セッサ': 9609, '##ニウム': 9610, 'ノート': 9611, 'あまりに': 9612, '##スタジアム': 9613, 'コンスタン': 9614, '仰': 9615, '##ニル': 9616, '乗組': 9617, '前進': 9618, '同校': 9619, '山中': 9620, '工程': 9621, '排水': 9622, '染色': 9623, '症候': 9624, '福山': 9625, '起動': 9626, '野党': 9627, '開く': 9628, '陸地': 9629, '##ラート': 9630, 'MVP': 9631, 'NAS': 9632, 'ローン': 9633, '##AK': 9634, '##IV': 9635, '径': 9636, '##ork': 9637, 'みや': 9638, 'ハロ': 9639, '他人': 9640, '教区': 9641, '高層': 9642, '##ダンス': 9643, '##ネラル': 9644, '128': 9645, 'カーブ': 9646, 'ルーム': 9647, 'John': 9648, 'さいたま': 9649, 'ブー': 9650, '出口': 9651, '姫路': 9652, '役職': 9653, '後藤': 9654, '急激': 9655, '懲役': 9656, '栄え': 9657, '焦点': 9658, '田村': 9659, '高崎': 9660, '144': 9661, 'りゅう': 9662, 'シネマ': 9663, 'ヨーク': 9664, 'やってき': 9665, 'アドレス': 9666, '楕': 9667, '##取ら': 9668, 'げん': 9669, '倫理': 9670, '角川': 9671, '##パール': 9672, 'Blu': 9673, '千代田': 9674, '背番号': 9675, '....': 9676, 'レーザー': 9677, 'ワンマン': 9678, '##シュタット': 9679, '【': 9680, '扶': 9681, '##シエ': 9682, '出荷': 9683, '母体': 9684, '浸透': 9685, '白色': 9686, '藤田': 9687, '赤色': 9688, '##シオン': 9689, '##ッシー': 9690, 'パレス': 9691, '市役所': 9692, '珍しく': 9693, '1886': 9694, '##ステークス': 9695, '巧': 9696, '括': 9697, '煮': 9698, '穀': 9699, '芦': 9700, '跳': 9701, '飢': 9702, '##ョウ': 9703, '一郎': 9704, '勝っ': 9705, '報酬': 9706, '楕円': 9707, '越後': 9708, '開け': 9709, '##ッピー': 9710, 'アルメ': 9711, '京都大': 9712, 'サンディ': 9713, 'ラーメン': 9714, '自由民主党': 9715, 'チャンピオンシップ': 9716, '惨': 9717, '##主義': 9718, '##張り': 9719, '上場': 9720, '中佐': 9721, '加熱': 9722, '友好': 9723, '得票': 9724, '破産': 9725, '親友': 9726, '面白': 9727, '##ゲット': 9728, '##メイク': 9729, 'アテネ': 9730, 'ピット': 9731, 'マスク': 9732, '幅広く': 9733, '行なう': 9734, 'ゅうがっこう': 9735, '##bo': 9736, '篤': 9737, '体内': 9738, '勢い': 9739, '台北': 9740, '擁立': 9741, '数少': 9742, '砲塔': 9743, '語源': 9744, '逃し': 9745, '野田': 9746, '順序': 9747, '121': 9748, 'いつも': 9749, '2020': 9750, 'ブルック': 9751, 'スプリング': 9752, '恭': 9753, '斗': 9754, '籍': 9755, '##打ち': 9756, 'キハ': 9757, '出港': 9758, '掲示': 9759, '砲兵': 9760, '##ッセイ': 9761, 'Mic': 9762, '分かる': 9763, '天文台': 9764, 'World': 9765, 'スティーヴ': 9766, '##ッポ': 9767, 'りん': 9768, '及ん': 9769, '多大': 9770, '指令': 9771, '支線': 9772, '蜂起': 9773, '補償': 9774, '1888': 9775, '##ンチェスター': 9776, '塁': 9777, '##タス': 9778, '再会': 9779, '天神': 9780, '救済': 9781, '正月': 9782, '締め': 9783, '##しょう': 9784, '##land': 9785, 'ドリーム': 9786, 'ウェールズ': 9787, 'ジョーンズ': 9788, '##DA': 9789, 'HP': 9790, 'ゴル': 9791, 'ワイ': 9792, '攻勢': 9793, '救急': 9794, '突撃': 9795, '銀座': 9796, 'ゲージ': 9797, '申し出': 9798, '見直し': 9799, '殴': 9800, '脊': 9801, '##べる': 9802, '##ear': 9803, '住所': 9804, '商工': 9805, '招き': 9806, '玩具': 9807, '貨車': 9808, '買っ': 9809, '##モール': 9810, '繋がっ': 9811, 'アキ': 9812, '上空': 9813, '免疫': 9814, '再婚': 9815, '初年': 9816, '安価': 9817, '政務': 9818, '標的': 9819, '爵位': 9820, '赤字': 9821, '##ライド': 9822, '##ラスカ': 9823, '##ワース': 9824, '##ンドラ': 9825, 'Vol': 9826, '一気に': 9827, 'ダニエル': 9828, 'ダービー': 9829, '引き起こし': 9830, '害': 9831, '曽': 9832, '穏': 9833, '鐘': 9834, '##えん': 9835, '##ヒト': 9836, '##ピュ': 9837, 'JC': 9838, '不利': 9839, '人組': 9840, '学士': 9841, '理念': 9842, '過剰': 9843, '重点': 9844, '##フルト': 9845, 'ヤマト': 9846, '中国人': 9847, '詳しく': 9848, 'アルゴリズム': 9849, 'エレベーター': 9850, '元素': 9851, '探査': 9852, '菓子': 9853, '親交': 9854, 'Car': 9855, 'pro': 9856, 'ミラノ': 9857, '朝鮮半島': 9858, '地方裁判所': 9859, '察': 9860, '抹': 9861, '##タゴ': 9862, 'JA': 9863, 'ぜん': 9864, '上方': 9865, '他方': 9866, '地獄': 9867, '大山': 9868, '専属': 9869, '幾何': 9870, '真っ': 9871, '賃金': 9872, '##つける': 9873, '##ビデオ': 9874, '高める': 9875, 'LIVE': 9876, 'ポケット': 9877, '##af': 9878, '鶏': 9879, '麓': 9880, '##ank': 9881, 'きん': 9882, '主砲': 9883, '住友': 9884, '大坂': 9885, '旗艦': 9886, '渓谷': 9887, '##ケート': 9888, '##ネシー': 9889, '警視庁': 9890, 'レビュー': 9891, 'コミックス': 9892, '##ps': 9893, '廻': 9894, '稽': 9895, '顎': 9896, 'TD': 9897, 'mi': 9898, '巡っ': 9899, '必須': 9900, '正常': 9901, '表題': 9902, '関節': 9903, '##キャン': 9904, '119': 9905, '##HS': 9906, '##たら': 9907, '##渡さ': 9908, '工夫': 9909, '最年': 9910, '決戦': 9911, '踏襲': 9912, '車庫': 9913, '載せ': 9914, '阿部': 9915, '黒田': 9916, '104': 9917, 'ロータ': 9918, '1895': 9919, 'アシスト': 9920, 'テレビ局': 9921, '数少ない': 9922, 'グローバル': 9923, '##フットボール': 9924, '倭': 9925, '粗': 9926, '蒋': 9927, '##ree': 9928, '##ung': 9929, 'NS': 9930, 'ハミ': 9931, 'マケ': 9932, '下げ': 9933, '作風': 9934, '創始': 9935, '南米': 9936, '矛盾': 9937, '頻度': 9938, '##エンス': 9939, '##ローチ': 9940, '106': 9941, 'ビーム': 9942, '##ッシング': 9943, '##ージョン': 9944, '大日本帝国': 9945, '刃': 9946, '坪': 9947, '尖': 9948, '##ホン': 9949, '##ool': 9950, 'ギア': 9951, '制服': 9952, '刺史': 9953, '妖怪': 9954, '近藤': 9955, '通商': 9956, '頼朝': 9957, '飲料': 9958, 'につき': 9959, 'セブン': 9960, 'ブドウ': 9961, '不思議': 9962, '##ージェント': 9963, '叫': 9964, '隷': 9965, '##ヨー': 9966, 'kW': 9967, 'なき': 9968, '一揆': 9969, '化粧': 9970, '太守': 9971, '残存': 9972, '知的': 9973, '襲わ': 9974, '釈放': 9975, '閉店': 9976, '非公': 9977, '##ドラマ': 9978, '##ハーン': 9979, '149': 9980, 'スティ': 9981, 'ストロ': 9982, 'バス停': 9983, 'シアター': 9984, 'ペルシア': 9985, 'ニュージャ': 9986, 'SO': 9987, 'Tr': 9988, 'or': 9989, 'みつ': 9990, '出張': 9991, '出雲': 9992, '利点': 9993, '助言': 9994, '天下': 9995, '実態': 9996, '年末': 9997, '整数': 9998, 'ミラー': 9999, '中でも': 10000, '高まり': 10001, '##ンスキー': 10002, '##ムシ': 10003, '##彗星': 10004, '##ult': 10005, 'おう': 10006, '一門': 10007, '最強': 10008, '福田': 10009, '農地': 10010, 'Fran': 10011, 'リゾート': 10012, '儒': 10013, '岬': 10014, '##まい': 10015, '##セラ': 10016, '\"-': 10017, 'Op': 10018, 'ダル': 10019, '中旬': 10020, '交際': 10021, '摂取': 10022, '論じ': 10023, '軽減': 10024, '運搬': 10025, '103': 10026, 'ずっと': 10027, 'フォル': 10028, '左衛門': 10029, '暮らす': 10030, '##ミックス': 10031, '1860': 10032, 'カップリング': 10033, '##NN': 10034, '曳': 10035, '潰': 10036, '盾': 10037, '##椅子': 10038, 'くだ': 10039, 'エフ': 10040, 'エミ': 10041, '中小': 10042, '中等': 10043, '冠し': 10044, '切断': 10045, '勾配': 10046, '噴火': 10047, '機材': 10048, '欠場': 10049, '立憲': 10050, '食用': 10051, '魔女': 10052, '##ンガム': 10053, '123': 10054, 'Ste': 10055, 'セカンド': 10056, '生み出し': 10057, 'Music': 10058, 'スクリーン': 10059, 'ヴィルヘルム': 10060, 'プログラミング': 10061, '##IO': 10062, '笹': 10063, 'カウ': 10064, '台頭': 10065, '名目': 10066, '回想': 10067, '媒体': 10068, '根本': 10069, '欠点': 10070, '満了': 10071, '連動': 10072, '##ホーム': 10073, '148': 10074, 'まつり': 10075, 'トニー': 10076, '中学生': 10077, '出会う': 10078, '1873': 10079, 'クリエイ': 10080, '湧': 10081, '狼': 10082, '賜': 10083, '##ail': 10084, '##ron': 10085, 'Gr': 10086, 'ナン': 10087, '上手': 10088, '係数': 10089, '国産': 10090, '失う': 10091, '据え': 10092, '発信': 10093, '見送': 10094, '途上': 10095, '過激': 10096, '題し': 10097, '1887': 10098, 'それほど': 10099, 'ピアニスト': 10100, '##EO': 10101, '豚': 10102, '黙': 10103, '##iel': 10104, '同市': 10105, '営利': 10106, '混同': 10107, '薬剤': 10108, '辞退': 10109, '門下': 10110, '##リーガ': 10111, 'Rec': 10112, '増やし': 10113, 'ピエール': 10114, 'インディアナ': 10115, 'チームメイト': 10116, '墨': 10117, '##はや': 10118, '##ose': 10119, 'ぎょ': 10120, 'ぐち': 10121, 'サス': 10122, '堆積': 10123, '好ま': 10124, '左側': 10125, '改築': 10126, 'ベッド': 10127, '加わる': 10128, '##フォーク': 10129, 'ウォーター': 10130, 'グラウンド': 10131, 'ニュージャージー': 10132, 'ホールディングス': 10133, '甚': 10134, '覇': 10135, '##いち': 10136, '##落と': 10137, 'EP': 10138, 'GM': 10139, 'ヶ所': 10140, '写像': 10141, '外務': 10142, '書店': 10143, '有数': 10144, '皇族': 10145, '触媒': 10146, '軍用': 10147, '127': 10148, 'Cor': 10149, 'どんな': 10150, 'ケンタ': 10151, '自由党': 10152, '1894': 10153, 'シュート': 10154, 'チェンジ': 10155, '引き上げ': 10156, 'パーティー': 10157, '##EE': 10158, '##ソウ': 10159, '京王': 10160, '受章': 10161, '告白': 10162, '復旧': 10163, '支社': 10164, '農家': 10165, '邸宅': 10166, '##ルイス': 10167, 'りょう': 10168, 'トマス': 10169, 'ペース': 10170, '不定期': 10171, '出入口': 10172, '難しく': 10173, '##ハウゼン': 10174, 'ボクサー': 10175, '##ベンチャー': 10176, '##WS': 10177, '靴': 10178, '##っぽ': 10179, '##スピ': 10180, '##ale': 10181, 'こだ': 10182, '制圧': 10183, '博し': 10184, '厩舎': 10185, '大津': 10186, '引く': 10187, '横綱': 10188, '消化': 10189, '破綻': 10190, '脂肪': 10191, '##ストア': 10192, '##ープル': 10193, 'マリオ': 10194, '##ワールド': 10195, 'with': 10196, 'アーサー': 10197, '敢': 10198, '郭': 10199, '鄭': 10200, '三河': 10201, '人格': 10202, '常務': 10203, '緊張': 10204, '誤解': 10205, '退官': 10206, '露出': 10207, '食糧': 10208, '##ッサー': 10209, 'ビーチ': 10210, 'リトル': 10211, 'マドリード': 10212, '圭': 10213, '棚': 10214, '##ウイ': 10215, '##oth': 10216, ']]': 10217, '告知': 10218, '憧れ': 10219, '無関': 10220, '秩序': 10221, '透明': 10222, '週末': 10223, '##ウンス': 10224, '##マリア': 10225, '##替える': 10226, 'パンチ': 10227, '最下位': 10228, '1800': 10229, 'サウンドトラック': 10230, '##ee': 10231, '嗣': 10232, '##iki': 10233, 'えん': 10234, 'まい': 10235, '再興': 10236, '志願': 10237, '旗本': 10238, '書簡': 10239, '書類': 10240, '最長': 10241, '歩道': 10242, '着工': 10243, '進展': 10244, '遅く': 10245, 'もうけ': 10246, 'ホンダ': 10247, '1892': 10248, 'プレミアム': 10249, 'System': 10250, '##大陸': 10251, '##ise': 10252, 'ベー': 10253, '大田': 10254, '孤立': 10255, '実戦': 10256, '川口': 10257, '東武': 10258, '水力': 10259, '療養': 10260, '造り': 10261, '金銭': 10262, '集積': 10263, 'リッチ': 10264, '使える': 10265, '自動的': 10266, '##ハンマド': 10267, 'クイーン': 10268, 'コンテナ': 10269, '引き起こす': 10270, '昨': 10271, '燕': 10272, '##キル': 10273, '##ケー': 10274, '),': 10275, 'PV': 10276, 'くじ': 10277, 'グア': 10278, '入居': 10279, '小泉': 10280, '投球': 10281, '採掘': 10282, '習得': 10283, '耐久': 10284, 'グラフ': 10285, '越える': 10286, '1864': 10287, '1869': 10288, 'なかなか': 10289, 'アップル': 10290, 'セッション': 10291, '鉛': 10292, '##ゾナ': 10293, 'とか': 10294, '最上': 10295, '火力': 10296, '異例': 10297, '聖職': 10298, '西暦': 10299, '##トリー': 10300, '##トロン': 10301, '##メット': 10302, '##リッツ': 10303, 'めぐる': 10304, 'ウィル': 10305, 'テキスト': 10306, '仮面ライダー': 10307, '苗': 10308, '##しみ': 10309, '##ans': 10310, 'アベ': 10311, 'ウイ': 10312, '倒産': 10313, '官房': 10314, '封じ': 10315, '水路': 10316, '聞く': 10317, '活かし': 10318, '1878': 10319, 'サイクル': 10320, 'ザクセン': 10321, 'チャンス': 10322, '分かれる': 10323, '裸': 10324, 'OP': 10325, 'キム': 10326, 'リク': 10327, '因子': 10328, '彗星': 10329, '歯科': 10330, '異動': 10331, '砂漠': 10332, '##ビッド': 10333, 'シフト': 10334, 'ハリー': 10335, 'ラップ': 10336, '同級生': 10337, '宇宙船': 10338, '無関係': 10339, '皮切り': 10340, '集まり': 10341, 'リスナー': 10342, 'Linux': 10343, '丈': 10344, '祥': 10345, '##ロド': 10346, '##抜き': 10347, '##KYO': 10348, 'BR': 10349, 'こん': 10350, '任さ': 10351, '偉大': 10352, '地面': 10353, '基幹': 10354, '工芸': 10355, '撃退': 10356, '浮か': 10357, '祖先': 10358, '譲り': 10359, '##ンスク': 10360, 'サイン': 10361, 'ヴォー': 10362, 'プロレスラー': 10363, '尉': 10364, '惜': 10365, '##ビリ': 10366, '##ake': 10367, 'ED': 10368, 'プル': 10369, '告発': 10370, '探索': 10371, '用地': 10372, '組ま': 10373, '連敗': 10374, '飯田': 10375, '##ラーズ': 10376, '##lect': 10377, 'アーム': 10378, 'エスト': 10379, '##サービス': 10380, '##ジメント': 10381, '##シフィック': 10382, '##</': 10383, '枯': 10384, '漂': 10385, '##とか': 10386, '##まさ': 10387, '##ゅん': 10388, '##ェン': 10389, '##ロル': 10390, '##ATO': 10391, 'ふた': 10392, 'タバ': 10393, '世間': 10394, '両側': 10395, '光学': 10396, '多発': 10397, '強豪': 10398, '手続': 10399, '棋士': 10400, '毎月': 10401, '赤軍': 10402, '重い': 10403, '防災': 10404, '##ブリン': 10405, '##メタル': 10406, '先駆け': 10407, '直ちに': 10408, '##コンピュー': 10409, 'ぱ': 10410, 'ぴ': 10411, '尻': 10412, '曰': 10413, '詞': 10414, '##ダス': 10415, '##パラ': 10416, '##パル': 10417, 'Mk': 10418, 'RE': 10419, 'マカ': 10420, '依然': 10421, '定住': 10422, '小島': 10423, '急遽': 10424, '早朝': 10425, '望ん': 10426, '渋滞': 10427, '測量': 10428, '絵本': 10429, '色彩': 10430, '荒川': 10431, '退学': 10432, '##リッジ': 10433, 'ドレス': 10434, 'ポルノ': 10435, 'ループ': 10436, '並びに': 10437, 'カンザス': 10438, 'プレゼント': 10439, 'コラボレーション': 10440, 'チュ': 10441, '初日': 10442, '半径': 10443, '品川': 10444, '小売': 10445, '引い': 10446, '許し': 10447, '難民': 10448, '##グアイ': 10449, '##プール': 10450, '122': 10451, 'コック': 10452, '症候群': 10453, '長谷川': 10454, '##女子大学': 10455, 'YouT': 10456, 'ウィリアムズ': 10457, '##ae': 10458, '廉': 10459, '薫': 10460, '##ゥス': 10461, '##外線': 10462, 'ジン': 10463, '主席': 10464, '伝道': 10465, '売買': 10466, '宇治': 10467, '意志': 10468, '氷河': 10469, '背後': 10470, '##オール': 10471, '##チェン': 10472, '##ドーム': 10473, '放射線': 10474, '##デリック': 10475, '1882': 10476, '奮': 10477, '曾': 10478, '##ッラ': 10479, '##立た': 10480, '##英社': 10481, 'Dr': 10482, 'PL': 10483, '住人': 10484, '右側': 10485, '平等': 10486, '思考': 10487, '望む': 10488, '特有': 10489, '補強': 10490, '##ブラン': 10491, '147': 10492, 'アウグ': 10493, 'メニュー': 10494, '*': 10495, '凱': 10496, '##あい': 10497, '##がい': 10498, '従う': 10499, '無し': 10500, '独裁': 10501, '略奪': 10502, '管制': 10503, '艦船': 10504, '薄い': 10505, '領有': 10506, '##ガンダ': 10507, 'ひろし': 10508, 'アーチ': 10509, 'インテ': 10510, 'ノベル': 10511, '集英社': 10512, '1862': 10513, '6000': 10514, 'アリゾナ': 10515, 'ホイール': 10516, '拾': 10517, '臭': 10518, 'Ab': 10519, 'GO': 10520, 'ギル': 10521, '体調': 10522, '写本': 10523, '好ん': 10524, '有無': 10525, '滅ぼ': 10526, '狩猟': 10527, 'バルト': 10528, '##リッシュ': 10529, '1874': 10530, '......': 10531, 'ボランティア': 10532, '##UT': 10533, '丞': 10534, '列島': 10535, '帯び': 10536, '手伝': 10537, '直轄': 10538, '科目': 10539, '青木': 10540, '##レータ': 10541, 'クラン': 10542, '##テイメント': 10543, '##MP': 10544, '洛': 10545, '##日市': 10546, '##itt': 10547, 'AD': 10548, 'おと': 10549, 'イル': 10550, '全車': 10551, '式典': 10552, '後日': 10553, '陸奥': 10554, '題名': 10555, 'すると': 10556, 'もはや': 10557, 'ビュー': 10558, '出入り': 10559, '直接的': 10560, '##ディアン': 10561, '1891': 10562, '4000': 10563, '8000': 10564, 'テネシー': 10565, 'マジック': 10566, '橘': 10567, '##イコ': 10568, '##用車': 10569, 'ぶつ': 10570, 'デス': 10571, 'ビン': 10572, 'ペイ': 10573, '伝記': 10574, '出典': 10575, '大内': 10576, '届け': 10577, '差異': 10578, '手前': 10579, '自作': 10580, '部位': 10581, '鉱物': 10582, '##ウォー': 10583, 'NFL': 10584, 'ジュー': 10585, 'セキュ': 10586, '月曜日': 10587, '##ジャース': 10588, 'Comm': 10589, '##uk': 10590, '##じん': 10591, '##カナ': 10592, '##詰め': 10593, 'MO': 10594, '人文': 10595, '打っ': 10596, '松田': 10597, '食堂': 10598, '##ward': 10599, '124': 10600, 'ターン': 10601, 'バイク': 10602, 'ボーイング': 10603, '##HC': 10604, '尿': 10605, '樺': 10606, '胎': 10607, '##クリ': 10608, 'ha': 10609, 'そも': 10610, '名人': 10611, '寄贈': 10612, '巡る': 10613, '用品': 10614, ')」「': 10615, 'ISO': 10616, 'みどり': 10617, 'カタル': 10618, '支える': 10619, 'アンティ': 10620, 'ウルトラマン': 10621, '##HO': 10622, '朴': 10623, '##そも': 10624, '##電気': 10625, 'やめ': 10626, '勧告': 10627, '大谷': 10628, '成る': 10629, '本州': 10630, '紙幣': 10631, '蓄積': 10632, '親善': 10633, '進軍': 10634, '107': 10635, 'ロビン': 10636, '卒業生': 10637, '##ition': 10638, 'そもそも': 10639, 'スケール': 10640, 'ノーベル': 10641, '乏': 10642, '痕': 10643, '##デラ': 10644, '##anc': 10645, '##ott': 10646, '内外': 10647, '北上': 10648, '和平': 10649, '図ら': 10650, '押さ': 10651, '擁護': 10652, '生前': 10653, '生年': 10654, '##ナンド': 10655, '146': 10656, 'ドミニ': 10657, 'ホラー': 10658, '交通省': 10659, '敗れる': 10660, 'もたらさ': 10661, 'ダンサー': 10662, 'マーティン': 10663, 'アレクサンドル': 10664, '=\"': 10665, 'El': 10666, '主権': 10667, '伊東': 10668, '内野': 10669, '好評': 10670, '婦人': 10671, '弦楽': 10672, '慣習': 10673, '招聘': 10674, '日程': 10675, '明石': 10676, '町立': 10677, '真実': 10678, '計測': 10679, '踏切': 10680, '追求': 10681, 'COM': 10682, 'アンリ': 10683, 'ピッチ': 10684, '集まる': 10685, 'フランツ': 10686, '受け取っ': 10687, 'キーボード': 10688, 'シミュレーション': 10689, '##gr': 10690, '##yd': 10691, '楼': 10692, '猟': 10693, '舌': 10694, '##own': 10695, 'がく': 10696, '実証': 10697, '教団': 10698, '郷土': 10699, '醸造': 10700, '##ベール': 10701, 'JST': 10702, 'サンド': 10703, 'ミシシ': 10704, '伝わっ': 10705, '日本一': 10706, '気動車': 10707, '##プリング': 10708, 'Love': 10709, 'ポスター': 10710, '繰り返す': 10711, '##ラクション': 10712, 'TOKYO': 10713, '喧': 10714, '易': 10715, '隅': 10716, '##ous': 10717, 'ろう': 10718, 'フッ': 10719, '仮定': 10720, '伏見': 10721, '原稿': 10722, '干渉': 10723, '拳銃': 10724, '決断': 10725, '菊池': 10726, '越前': 10727, '##グラフ': 10728, '##ogle': 10729, 'BOX': 10730, 'ドコモ': 10731, '地上波': 10732, 'アピール': 10733, 'アフガニ': 10734, 'リメイク': 10735, 'アルメニア': 10736, 'アフガニスタン': 10737, '##ブー': 10738, '##ロイ': 10739, 'SA': 10740, 'メダ': 10741, '吉本': 10742, '名声': 10743, '大王': 10744, '導い': 10745, '悲劇': 10746, '楽天': 10747, '橋梁': 10748, '稽古': 10749, '順調': 10750, '高温': 10751, 'シリン': 10752, 'スキル': 10753, '含める': 10754, '抑える': 10755, '生きる': 10756, 'ナレーション': 10757, 'センチメートル': 10758, '躍': 10759, '##グマ': 10760, '##着い': 10761, 'ガイ': 10762, 'ネー': 10763, 'ボブ': 10764, '師匠': 10765, '帰り': 10766, '馬力': 10767, '##ネイロ': 10768, '##ローラ': 10769, 'アルミ': 10770, '1876': 10771, 'ちょうど': 10772, 'イリノイ': 10773, 'バンダイ': 10774, '詠': 10775, '##オリ': 10776, '##五郎': 10777, '##引き': 10778, 'か国': 10779, 'らい': 10780, '下関': 10781, '利根': 10782, '婚約': 10783, '守っ': 10784, '左派': 10785, '投下': 10786, '援軍': 10787, '有罪': 10788, '流さ': 10789, '特番': 10790, '素晴': 10791, '継ぐ': 10792, '##ッタン': 10793, '137': 10794, 'For': 10795, 'バット': 10796, '内務省': 10797, '##スポーツ': 10798, '1881': 10799, '1885': 10800, '戒': 10801, '遥': 10802, '鳩': 10803, '鴨': 10804, '##互い': 10805, ')-': 10806, 'be': 10807, '任官': 10808, '全集': 10809, '内務': 10810, '弾圧': 10811, '愛好': 10812, '湘南': 10813, '狙い': 10814, '王妃': 10815, '起工': 10816, '##ームス': 10817, 'お互い': 10818, 'アール': 10819, '明るい': 10820, '本当に': 10821, '##リヤ': 10822, '主教': 10823, '京成': 10824, '他国': 10825, '動向': 10826, '寿命': 10827, '恐竜': 10828, '捕食': 10829, '掌握': 10830, '斜面': 10831, '有権': 10832, '次郎': 10833, '積分': 10834, '芝居': 10835, '解明': 10836, '近接': 10837, '##マール': 10838, '##レージ': 10839, '142': 10840, 'OVA': 10841, 'アンナ': 10842, 'マウス': 10843, 'ヴォル': 10844, '高かっ': 10845, '##ディーン': 10846, 'エッセイ': 10847, 'サンデー': 10848, 'シルバー': 10849, 'フォーマ': 10850, 'アプローチ': 10851, 'ヒューストン': 10852, '澄': 10853, '邑': 10854, '鷲': 10855, 'RA': 10856, '「(': 10857, 'くら': 10858, 'ケー': 10859, '一角': 10860, '不在': 10861, '司祭': 10862, '大塚': 10863, '実務': 10864, '抱き': 10865, '曰く': 10866, '淡路': 10867, '砲弾': 10868, '運ば': 10869, '間接': 10870, '145': 10871, '音楽家': 10872, 'Will': 10873, 'ブリッジ': 10874, '婿': 10875, '##ley': 10876, 'DR': 10877, 'RC': 10878, '介護': 10879, '反論': 10880, '家屋': 10881, '広義': 10882, '持続': 10883, '歌わ': 10884, '運び': 10885, '重傷': 10886, 'ダート': 10887, '有権者': 10888, '過ごす': 10889, 'クラーク': 10890, 'オブジェクト': 10891, 'Twitter': 10892, '戴': 10893, '袁': 10894, '##ヘル': 10895, 'バク': 10896, 'メロ': 10897, '使え': 10898, '兼務': 10899, '家畜': 10900, '府立': 10901, '指標': 10902, '田園': 10903, '移る': 10904, '英文': 10905, '輝い': 10906, '追跡': 10907, '国内外': 10908, '1875': 10909, 'ライナー': 10910, '##ターミナル': 10911, 'アナウンス': 10912, 'マケドニア': 10913, '楠': 10914, '##えて': 10915, '##iam': 10916, '##ood': 10917, 'MT': 10918, 'SL': 10919, 'ぞう': 10920, 'コウ': 10921, 'シチ': 10922, 'デラ': 10923, 'バリ': 10924, '生育': 10925, '車輪': 10926, '136': 10927, '欲しい': 10928, '踏まえ': 10929, 'おこなっ': 10930, 'アイデア': 10931, 'ワイルド': 10932, 'ハインリヒ': 10933, '##pr': 10934, '凶': 10935, '暁': 10936, '##よし': 10937, '##電機': 10938, '倒す': 10939, '台地': 10940, '新興': 10941, '植え': 10942, '気に': 10943, '現職': 10944, '##エンド': 10945, 'App': 10946, 'ナポリ': 10947, 'ニーズ': 10948, 'バッテ': 10949, '1879': 10950, '##ジャネイロ': 10951, '叶': 10952, '##ユニ': 10953, '##寄せ': 10954, '##物語': 10955, 'an': 10956, 'まん': 10957, '付く': 10958, '体操': 10959, '川越': 10960, '待っ': 10961, '想像': 10962, '法務': 10963, '注文': 10964, '硫黄': 10965, '維新': 10966, '背中': 10967, '首席': 10968, '##ブライ': 10969, '##ames': 10970, '126': 10971, 'バブル': 10972, 'カウント': 10973, 'マーケット': 10974, '##ガメ': 10975, '##PER': 10976, '##enn': 10977, '##ild': 10978, '付随': 10979, '侵害': 10980, '保っ': 10981, '好み': 10982, '忠実': 10983, '東山': 10984, '降水': 10985, '##ピング': 10986, 'All': 10987, 'Gro': 10988, 'カスタ': 10989, 'チェロ': 10990, '武蔵野': 10991, '目立つ': 10992, 'モジュール': 10993, 'Google': 10994, '##hel': 10995, 'Pl': 10996, 'あて': 10997, 'ケル': 10998, '世論': 10999, '仲介': 11000, '合う': 11001, '対岸': 11002, '投じ': 11003, '水泳': 11004, '盆地': 11005, '連立': 11006, '遺構': 11007, '閣僚': 11008, '階層': 11009, '##イムズ': 11010, 'チョコ': 11011, '結婚式': 11012, '間違い': 11013, '##ンジャー': 11014, 'ユニオン': 11015, 'ミシシッピ': 11016, '##GA': 11017, '##デザ': 11018, 'PK': 11019, 'VS': 11020, 'きり': 11021, 'ハド': 11022, 'ヘー': 11023, '代謝': 11024, '作動': 11025, '単式': 11026, '台詞': 11027, '当事': 11028, '産地': 11029, '視察': 11030, '調節': 11031, '追わ': 11032, '##ance': 11033, 'ウエスト': 11034, '##テルブルク': 11035, '##me': 11036, '娯': 11037, '腸': 11038, '##ニカ': 11039, '##世保': 11040, '##ode': 11041, ')\"': 11042, 'ぐん': 11043, '体力': 11044, '名鉄': 11045, '国分': 11046, '大切': 11047, '寄生': 11048, '後輩': 11049, '徴収': 11050, '木曽': 11051, '氏族': 11052, '永久': 11053, '自称': 11054, '都内': 11055, '首脳': 11056, 'よって': 11057, 'ロール': 11058, '行える': 11059, 'につれて': 11060, 'セールス': 11061, 'ミシガン': 11062, 'ケンタッキー': 11063, 'ハードウェア': 11064, '##ッダ': 11065, '##王子': 11066, '出家': 11067, '和名': 11068, '在来': 11069, '大砲': 11070, '安田': 11071, '従っ': 11072, '播磨': 11073, '放置': 11074, '政界': 11075, '王室': 11076, '生理': 11077, '##ちゃん': 11078, '##レール': 11079, 'Rob': 11080, 'に際し': 11081, '##ショップ': 11082, '##フェース': 11083, 'グラビア': 11084, 'トロント': 11085, 'ハンター': 11086, 'パーティ': 11087, '東アジア': 11088, '##HI': 11089, '淀': 11090, '##アラ': 11091, '##書店': 11092, '##ict': 11093, 'えい': 11094, 'めい': 11095, 'ウー': 11096, '人質': 11097, '出向': 11098, '奪還': 11099, '娯楽': 11100, '尋常': 11101, '指数': 11102, '迎撃': 11103, '造成': 11104, 'ギャグ': 11105, 'バーク': 11106, '1861': 11107, 'ドメイン': 11108, 'スケジュール': 11109, '帆': 11110, 'CF': 11111, 'Qu': 11112, '与党': 11113, '交付': 11114, '側近': 11115, '免除': 11116, '名所': 11117, '文法': 11118, '永遠': 11119, '育ち': 11120, '追悼': 11121, '青い': 11122, '##ラーリ': 11123, '##換える': 11124, 'Ver': 11125, '代わる': 11126, '佐世保': 11127, '裁判官': 11128, 'アパート': 11129, 'カテゴリー': 11130, '##ソングライター': 11131, '##ェル': 11132, '掘り': 11133, '講和': 11134, 'Ass': 11135, 'デバイス': 11136, '取り扱い': 11137, '##LD': 11138, '##ky': 11139, '崖': 11140, '慢': 11141, '錯': 11142, '##フロ': 11143, '##マト': 11144, '##切れ': 11145, '[[': 11146, 'はん': 11147, 'まれ': 11148, 'アメ': 11149, 'ハウ': 11150, '冷戦': 11151, '動く': 11152, '原始': 11153, '各々': 11154, '囲碁': 11155, '復讐': 11156, '意義': 11157, '旅館': 11158, '暴動': 11159, '武力': 11160, '箱根': 11161, '花火': 11162, '高麗': 11163, '##ッテル': 11164, '##バレー': 11165, ')」、': 11166, 'シェル': 11167, 'ブリュ': 11168, 'ショット': 11169, 'タイミング': 11170, '盟': 11171, '聡': 11172, '##とり': 11173, '回っ': 11174, '地盤': 11175, '増設': 11176, '就く': 11177, '我が': 11178, '松井': 11179, '桃山': 11180, '社内': 11181, '聞こ': 11182, 'わから': 11183, 'バスク': 11184, 'マット': 11185, '明かし': 11186, '最寄り': 11187, '1866': 11188, 'アリーナ': 11189, 'プリンス': 11190, '##テンベルク': 11191, 'サンディエゴ': 11192, 'μ': 11193, '抄': 11194, '磨': 11195, '##シカ': 11196, '失業': 11197, '括弧': 11198, '標識': 11199, '民事': 11200, '真空': 11201, '種別': 11202, '筋肉': 11203, '細長': 11204, '聞か': 11205, '高地': 11206, '139': 11207, '7000': 11208, 'Live': 11209, 'カルロス': 11210, 'アルバイト': 11211, 'マンチェスター': 11212, '嘆': 11213, '##まし': 11214, '##ツォ': 11215, '##ポー': 11216, '.,': 11217, 'けど': 11218, '入隊': 11219, '再選': 11220, '収穫': 11221, '可決': 11222, '変異': 11223, '奪っ': 11224, '従兄': 11225, '慕容': 11226, '抽選': 11227, '県庁': 11228, '行進': 11229, '迫っ': 11230, '##ゴール': 11231, '##サンス': 11232, '##ブリー': 11233, '143': 11234, '1867': 11235, 'Bill': 11236, 'メロディ': 11237, 'カタルーニャ': 11238, 'YouTube': 11239, '泳': 11240, '蓋': 11241, '##ズマ': 11242, 'Gu': 11243, 'Is': 11244, 'is': 11245, '円形': 11246, '動機': 11247, '大敗': 11248, '太鼓': 11249, '於い': 11250, '旋律': 11251, '日蓮': 11252, '機銃': 11253, '温暖': 11254, '目覚': 11255, '苦戦': 11256, '見事': 11257, '##キース': 11258, '##ソース': 11259, '##ネディ': 11260, '##ワット': 11261, '##ントス': 11262, 'LED': 11263, 'クール': 11264, 'フェリ': 11265, '決定的': 11266, '##トリウム': 11267, '##フェルト': 11268, '##マックス': 11269, 'シベリア': 11270, 'フェイス': 11271, '##ペンション': 11272, '索': 11273, 'As': 11274, 'rp': 11275, 'ばん': 11276, 'イチ': 11277, '全土': 11278, '戯曲': 11279, '旋回': 11280, '木製': 11281, '横山': 11282, '突如': 11283, '辞典': 11284, '進水': 11285, '134': 11286, 'コイン': 11287, 'リオデ': 11288, 'ブッシュ': 11289, '凌': 11290, '懇': 11291, '杜': 11292, '舷': 11293, '##ギン': 11294, '##切る': 11295, '##大阪': 11296, 'Ac': 11297, 'たた': 11298, '勝手': 11299, '容器': 11300, '戻し': 11301, '白河': 11302, '膨大': 11303, '襲名': 11304, '譲っ': 11305, '##バリー': 11306, '##ower': 11307, '132': 11308, 'クラウ': 11309, 'ハンス': 11310, 'バルブ': 11311, 'バート': 11312, '親しま': 11313, '1877': 11314, 'に当たる': 11315, 'エリック': 11316, 'ルーキー': 11317, '位置付け': 11318, 'ヴィクトリア': 11319, 'リオデジャネイロ': 11320, '忌': 11321, '挨': 11322, '汲': 11323, '##塁手': 11324, 'リタ': 11325, '中京': 11326, '休養': 11327, '必殺': 11328, '挨拶': 11329, '改組': 11330, '本数': 11331, '決着': 11332, '現金': 11333, '窒素': 11334, '諸説': 11335, 'MBS': 11336, 'ウラン': 11337, 'デトロ': 11338, 'パロディ': 11339, 'マイアミ': 11340, '芽': 11341, '辿': 11342, '##返さ': 11343, '-』': 11344, '便宜': 11345, '叩き': 11346, '執政': 11347, '多少': 11348, '常陸': 11349, '特色': 11350, '自立': 11351, 'コラム': 11352, '分から': 11353, '広範囲': 11354, '携わる': 11355, 'ドクター': 11356, 'フェザー': 11357, '引き分け': 11358, '獅': 11359, '##キノ': 11360, '##マネ': 11361, '##生物': 11362, 'さき': 11363, 'シロ': 11364, '割引': 11365, '南朝': 11366, '威力': 11367, '実体': 11368, '実写': 11369, '相違': 11370, '道徳': 11371, '鑑賞': 11372, '!』(': 11373, 'レディ': 11374, 'ターゲット': 11375, 'デトロイト': 11376, 'バリエーション': 11377, '梶': 11378, '##ソワ': 11379, '##ava': 11380, 'MF': 11381, '先代': 11382, '処置': 11383, '合っ': 11384, '天気': 11385, '心配': 11386, '控訴': 11387, '木曜': 11388, '水源': 11389, '没収': 11390, '監修': 11391, '軍艦': 11392, 'NET': 11393, 'アミノ': 11394, 'キット': 11395, '発する': 11396, '##フェンス': 11397, 'チケット': 11398, '組み立て': 11399, '##EP': 11400, '掴': 11401, '汗': 11402, '##所属': 11403, '##gen': 11404, 'あさ': 11405, 'かぶ': 11406, 'カッ': 11407, '一塁': 11408, '名門': 11409, '安芸': 11410, '志向': 11411, '検事': 11412, '樹脂': 11413, '水面': 11414, '牧野': 11415, '石原': 11416, '考察': 11417, '見学': 11418, '遊撃': 11419, '電撃': 11420, 'サクラ': 11421, 'ジェフ': 11422, 'ポンプ': 11423, '考古学': 11424, '見舞わ': 11425, '##インター': 11426, '##コースト': 11427, '##ジュアル': 11428, '##プライズ': 11429, '##リオール': 11430, '南北戦争': 11431, '朝日放送': 11432, 'バッテリー': 11433, 'フランクフルト': 11434, '蕭': 11435, 'CA': 11436, 'もり': 11437, '主翼': 11438, '冷房': 11439, '南端': 11440, '右手': 11441, '大夫': 11442, '樹木': 11443, '浅野': 11444, '石田': 11445, '追撃': 11446, '造営': 11447, '##ボルン': 11448, 'Bar': 11449, 'ジョル': 11450, 'ファシ': 11451, '小学館': 11452, '楽しむ': 11453, 'オファー': 11454, 'ジョセフ': 11455, '賑': 11456, '##まつ': 11457, '##わす': 11458, '##ゲイ': 11459, '##トス': 11460, '##歌劇': 11461, 'NG': 11462, 'by': 11463, 'だり': 11464, 'ウエ': 11465, 'カジ': 11466, 'カメ': 11467, 'サト': 11468, 'ノイ': 11469, '保育': 11470, '婚姻': 11471, '広東': 11472, '慢性': 11473, '拠れ': 11474, '明日': 11475, '線型': 11476, '西口': 11477, '遠藤': 11478, '高木': 11479, '##新幹線': 11480, '##ords': 11481, '##ount': 11482, 'AKB': 11483, 'らしく': 11484, 'メリー': 11485, '感じる': 11486, '無所属': 11487, 'コーラス': 11488, 'ヤクルト': 11489, '宝塚歌劇': 11490, 'クリスチャン': 11491, '##だん': 11492, '##ほう': 11493, '##むね': 11494, '##irl': 11495, 'TS': 11496, 'たん': 11497, 'らん': 11498, 'ニュ': 11499, '中西': 11500, '主将': 11501, '再発': 11502, '出航': 11503, '大国': 11504, '天国': 11505, '嫡男': 11506, '弥生': 11507, '激怒': 11508, '特権': 11509, '藤井': 11510, '転写': 11511, '鎮守': 11512, '陣地': 11513, '高額': 11514, '入り口': 11515, '八王子': 11516, '振り返': 11517, '決まり': 11518, '##スクール': 11519, '1200': 11520, 'オックス': 11521, 'ヘッセン': 11522, '短期大学': 11523, 'パレスチナ': 11524, 'セキュリティ': 11525, '##KE': 11526, '##ソタ': 11527, '##動物': 11528, '##ons': 11529, '八戸': 11530, '国体': 11531, '在日': 11532, '客室': 11533, '新生': 11534, '特攻': 11535, '王家': 11536, '皇子': 11537, '##わしい': 11538, 'Her': 11539, 'いった': 11540, 'サード': 11541, '留まり': 11542, 'おおむね': 11543, 'マスコット': 11544, 'ディスプレイ': 11545, '哺': 11546, '惣': 11547, '憂': 11548, '粛': 11549, '肯': 11550, '##アク': 11551, '##コク': 11552, '##ッリ': 11553, '##ラウ': 11554, 'DO': 11555, 'あや': 11556, 'おん': 11557, 'カザ': 11558, 'レク': 11559, '互い': 11560, '代官': 11561, '供用': 11562, '吉川': 11563, '拒絶': 11564, '日付': 11565, '明記': 11566, '聖母': 11567, '親族': 11568, '逸話': 11569, '##ダーズ': 11570, '##ナール': 11571, '##メール': 11572, 'かかり': 11573, 'ボーイ': 11574, 'マニュ': 11575, '分ける': 11576, '正しく': 11577, 'ニコライ': 11578, '##01': 11579, '##CE': 11580, '##十分': 11581, '##ini': 11582, 'DF': 11583, 'RS': 11584, 'le': 11585, 'きわ': 11586, 'ふさ': 11587, 'ウズ': 11588, 'エウ': 11589, '入会': 11590, '参事': 11591, '土器': 11592, '寛文': 11593, '救う': 11594, '水野': 11595, '洞窟': 11596, '熊谷': 11597, '特筆': 11598, '等級': 11599, '紀伊': 11600, '逃走': 11601, '阿波': 11602, '##キテク': 11603, '##ンダー': 11604, 'Res': 11605, '不十分': 11606, '瀬戸内': 11607, '見出し': 11608, '##ハッタン': 11609, '1848': 11610, '1863': 11611, 'クリスト': 11612, 'ジェリー': 11613, '毎日放送': 11614, 'シンガーソングライター': 11615, '胤': 11616, '##サム': 11617, '##国際': 11618, 'sp': 11619, 'かみ': 11620, 'アバ': 11621, 'エコ': 11622, '僧侶': 11623, '公布': 11624, '商船': 11625, '密接': 11626, '日向': 11627, '有人': 11628, '湿地': 11629, '砂糖': 11630, '開店': 11631, 'now': 11632, 'もらい': 11633, 'バレン': 11634, '大久保': 11635, 'つながり': 11636, '##デンブルク': 11637, 'フラッシュ': 11638, 'ノースカロライナ': 11639, '彰': 11640, '珠': 11641, '##早く': 11642, '中型': 11643, '優勢': 11644, '半数': 11645, '取れ': 11646, '射程': 11647, '減っ': 11648, '積ん': 11649, '第三': 11650, '紅白': 11651, '陰謀': 11652, '##ラード': 11653, '##ンタム': 11654, 'でしょ': 11655, 'トリノ': 11656, '支払う': 11657, '1850': 11658, '1883': 11659, 'エントリー': 11660, 'オーディオ': 11661, 'プラスチック': 11662, '蛍': 11663, '飽': 11664, '##ます': 11665, '##ノコ': 11666, '##親王': 11667, '##ics': 11668, 'Fl': 11669, 'バグ': 11670, '国旗': 11671, '基部': 11672, '属性': 11673, '抽出': 11674, '教官': 11675, '産出': 11676, '目黒': 11677, '秩父': 11678, '通知': 11679, '遂行': 11680, '選び': 11681, '院長': 11682, 'Gen': 11683, 'セリエ': 11684, 'タバコ': 11685, '真珠湾': 11686, '手がける': 11687, '##ys': 11688, '却': 11689, '歪': 11690, '##アニ': 11691, 'きち': 11692, 'ニー': 11693, '上限': 11694, '同誌': 11695, '川内': 11696, '巡回': 11697, '旭川': 11698, '野外': 11699, 'ビリー': 11700, '増える': 11701, '##ジュニア': 11702, '##タイトル': 11703, 'ブラッド': 11704, 'パキスタン': 11705, 'フォーラム': 11706, 'モーニング': 11707, 'パシフィック': 11708, '##RC': 11709, '##少年': 11710, '##ART': 11711, '(-': 11712, '使節': 11713, '先祖': 11714, '哺乳': 11715, '愛し': 11716, '断層': 11717, '笑い': 11718, '築か': 11719, '肯定': 11720, '荷物': 11721, '誇っ': 11722, '都立': 11723, '防空': 11724, '除外': 11725, '馬身': 11726, '##グラン': 11727, '##デント': 11728, 'Gre': 11729, 'ヤマハ': 11730, '##ンダード': 11731, 'アンドレ': 11732, 'International': 11733, '##GP': 11734, '麺': 11735, '##ash': 11736, 'ナチ': 11737, 'バナ': 11738, '各駅': 11739, '名詞': 11740, '座標': 11741, '形容': 11742, '縄文': 11743, '豊橋': 11744, '##ータル': 11745, 'Par': 11746, 'キエフ': 11747, 'ボルト': 11748, '##リントン': 11749, '追い込ま': 11750, '伐': 11751, '唄': 11752, '嘘': 11753, '黎': 11754, '##いん': 11755, 'ロイ': 11756, '低減': 11757, '元来': 11758, '大江': 11759, '平地': 11760, '招か': 11761, '##クロス': 11762, 'あらか': 11763, 'グッド': 11764, 'シニア': 11765, 'ブレイ': 11766, 'ユーザ': 11767, '女の子': 11768, '##フォース': 11769, 'フォーマット': 11770, 'ラインナップ': 11771, 'アドベンチャー': 11772, '悠': 11773, '拉': 11774, '絹': 11775, '腎': 11776, '莫': 11777, '##ロメ': 11778, 'ベア': 11779, '上旬': 11780, '放つ': 11781, '本物': 11782, '運送': 11783, '郵政': 11784, '##lass': 11785, '141': 11786, '県議会': 11787, '頭文字': 11788, '取り扱う': 11789, '##ケティング': 11790, 'カントリー': 11791, 'ハミルトン': 11792, '##ラリ': 11793, 'ne': 11794, 'くに': 11795, 'レシ': 11796, '古来': 11797, '大関': 11798, '母艦': 11799, '転送': 11800, '長州': 11801, '順番': 11802, '##ブルー': 11803, '##リーニ': 11804, '##ンドウ': 11805, 'BBC': 11806, 'ray': 11807, 'たかっ': 11808, 'アーク': 11809, 'ムーン': 11810, '##コンピュータ': 11811, 'イラストレーター': 11812, '##導体': 11813, '##ett': 11814, '##out': 11815, '##row': 11816, 'UC': 11817, '合金': 11818, '変遷': 11819, '大河': 11820, '小沢': 11821, '系譜': 11822, '西鉄': 11823, '通告': 11824, '適合': 11825, '領内': 11826, 'リース': 11827, '同性愛': 11828, 'コロラド': 11829, 'ランダム': 11830, 'スペクトル': 11831, 'プレーヤー': 11832, '##ナタ': 11833, '##ペイ': 11834, '##払い': 11835, 'ぼう': 11836, '丹波': 11837, '乗る': 11838, '五十': 11839, '住吉': 11840, '天明': 11841, '挿絵': 11842, '月頃': 11843, '発現': 11844, '祝日': 11845, '舞踊': 11846, '血管': 11847, '迫る': 11848, '遮断': 11849, '##ミュラ': 11850, '##ードン': 11851, '\"(\"': 11852, 'コーン': 11853, 'ティム': 11854, '工学部': 11855, '当事者': 11856, 'ミネソタ': 11857, '取り戻し': 11858, '刷': 11859, '淵': 11860, '溜': 11861, '簿': 11862, '詐': 11863, 'すけ': 11864, 'ばら': 11865, 'ヵ月': 11866, '俳句': 11867, '刻ま': 11868, '宰相': 11869, '幕下': 11870, '探す': 11871, '火星': 11872, '発車': 11873, '絶え': 11874, '賞賛': 11875, '進撃': 11876, '飾る': 11877, '骨格': 11878, '##クール': 11879, 'スーツ': 11880, 'トルク': 11881, '離れる': 11882, '##ファレンス': 11883, 'ロードレース': 11884, '##フー': 11885, '##天堂': 11886, '##red': 11887, 'ES': 11888, 'クハ': 11889, 'ソル': 11890, '争っ': 11891, '内装': 11892, '動詞': 11893, '合体': 11894, '固体': 11895, '奇妙': 11896, '所要': 11897, '書物': 11898, '狩り': 11899, '獅子': 11900, '複製': 11901, '造形': 11902, '##ソール': 11903, '##ッケー': 11904, '##デール': 11905, '##育大学': 11906, '##ポイント': 11907, 'センサー': 11908, '入れ替え': 11909, 'カンパニー': 11910, '★': 11911, '##さま': 11912, '##ナラ': 11913, '##以て': 11914, '##性能': 11915, '##抜け': 11916, '##維新': 11917, '##AND': 11918, 'Sm': 11919, '世話': 11920, '保つ': 11921, '占拠': 11922, '執り': 11923, '多彩': 11924, '川上': 11925, '工廠': 11926, '御所': 11927, '正統': 11928, '洗礼': 11929, '爆破': 11930, '自衛': 11931, '複素': 11932, '諸侯': 11933, '豪華': 11934, '鋳造': 11935, '##パルト': 11936, '##able': 11937, 'いとう': 11938, 'を以て': 11939, 'グッズ': 11940, '高性能': 11941, '##カレッジ': 11942, 'Open': 11943, 'アンテナ': 11944, '明治維新': 11945, 'あらかじめ': 11946, 'アルファベット': 11947, '庇': 11948, '梨': 11949, '##レク': 11950, '##和田': 11951, '中性': 11952, '公会': 11953, '布告': 11954, '後援': 11955, '後楽': 11956, '成熟': 11957, '煙突': 11958, '直営': 11959, '祖母': 11960, '移設': 11961, '管内': 11962, '聖人': 11963, '船橋': 11964, '通い': 11965, '馬車': 11966, '魔術': 11967, '##オニア': 11968, '##ザード': 11969, '##トリア': 11970, '129': 11971, 'WOR': 11972, 'チェル': 11973, '不可欠': 11974, '非常勤': 11975, 'シンプル': 11976, '后': 11977, '惹': 11978, '晃': 11979, '沸': 11980, '渦': 11981, '託': 11982, '##アナ': 11983, '##産物': 11984, '##INE': 11985, '##ata': 11986, 'タキ': 11987, 'ミハ': 11988, '一橋': 11989, '三条': 11990, '全曲': 11991, '及ば': 11992, '含み': 11993, '回線': 11994, '昼間': 11995, '築き': 11996, '荒廃': 11997, '##ストリ': 11998, 'WWE': 11999, 'ファル': 12000, 'ルノー': 12001, '半導体': 12002, '抱える': 12003, '振る舞': 12004, '合わせる': 12005, '少なかっ': 12006, '##ハーモニー': 12007, 'ぽ': 12008, '稚': 12009, '##コア': 12010, '##化学': 12011, '##書紀': 12012, '##道館': 12013, '##馴染': 12014, '##ute': 12015, 'FF': 12016, 'NO': 12017, 'iP': 12018, 'ツイ': 12019, '三国': 12020, '外来': 12021, '左岸': 12022, '所管': 12023, '摂政': 12024, '犯行': 12025, '胞子': 12026, '趣旨': 12027, '麻雀': 12028, '##アンス': 12029, '##カーズ': 12030, 'Sup': 12031, '小田急': 12032, 'NASA': 12033, 'いったん': 12034, '日本書紀': 12035, 'オリックス': 12036, '漆': 12037, '迅': 12038, '麦': 12039, '##ual': 12040, 'Em': 12041, 'ボウ': 12042, 'ラバ': 12043, '一行': 12044, '多額': 12045, '木星': 12046, '無罪': 12047, '精力': 12048, '線形': 12049, '誘い': 12050, '遅い': 12051, '高価': 12052, '##ミック': 12053, '##ject': 12054, 'Bla': 12055, 'こなし': 12056, 'カリブ': 12057, '目立っ': 12058, '乗り換え': 12059, 'ムハンマド': 12060, '##フィールダー': 12061, 'プライベート': 12062, '崎': 12063, '##めぐ': 12064, '##カム': 12065, '##水道': 12066, '##項式': 12067, '##ari': 12068, 'タル': 12069, 'ピエ': 12070, '伊予': 12071, '免れ': 12072, '内田': 12073, '尊敬': 12074, '本田': 12075, '東亜': 12076, '柴田': 12077, '深め': 12078, '王女': 12079, '直流': 12080, '総統': 12081, '遡る': 12082, '駅名': 12083, '##ーラー': 12084, 'ゲリラ': 12085, 'ブロー': 12086, '最年少': 12087, '決まる': 12088, '##ンジェル': 12089, 'シチリア': 12090, 'インディーズ': 12091, '熙': 12092, '窮': 12093, '蒙': 12094, '##まち': 12095, '##オケ': 12096, 'バカ': 12097, '予報': 12098, '予言': 12099, '以南': 12100, '誘拐': 12101, '##オーネ': 12102, '##ズエラ': 12103, '##新聞社': 12104, '131': 12105, '138': 12106, 'ノット': 12107, 'パラメ': 12108, 'プラハ': 12109, 'ボイス': 12110, '取り除': 12111, '後楽園': 12112, '##ッチャー': 12113, 'スロット': 12114, 'ミズーリ': 12115, '東ドイツ': 12116, '##td': 12117, '##けい': 12118, '##榴弾': 12119, 'Mo': 12120, 'だし': 12121, '伊賀': 12122, '公民': 12123, '強め': 12124, '徴兵': 12125, '採取': 12126, '本書': 12127, '東口': 12128, '生え': 12129, '##ショウ': 12130, '大学生': 12131, '長時間': 12132, '##サイクル': 12133, 'NATO': 12134, 'シアトル': 12135, '受け継い': 12136, '明治大学': 12137, '見つける': 12138, '##ピオ': 12139, '##ポル': 12140, '##マリ': 12141, '##orn': 12142, 'DM': 12143, 'FS': 12144, 'GS': 12145, 'のぼ': 12146, 'キス': 12147, '先述': 12148, '公安': 12149, '府中': 12150, '模索': 12151, '武家': 12152, '西南': 12153, '過半': 12154, '##ックル': 12155, 'JRA': 12156, 'ノード': 12157, 'ルネサンス': 12158, 'コンスタンティ': 12159, '曖': 12160, '灌': 12161, 'Ro': 12162, 'こい': 12163, 'イノ': 12164, 'リム': 12165, '仮名': 12166, '佐久': 12167, '分泌': 12168, '分配': 12169, '収束': 12170, '同局': 12171, '土俵': 12172, '幼児': 12173, '曖昧': 12174, '液晶': 12175, '混雑': 12176, '生体': 12177, '真言': 12178, '羽田': 12179, '若年': 12180, '集結': 12181, '##チョウ': 12182, '##ブック': 12183, '##プライ': 12184, 'Per': 12185, 'をめぐ': 12186, 'オース': 12187, '成し遂': 12188, '繋がり': 12189, 'Java': 12190, 'インテル': 12191, 'ニコニコ': 12192, 'をめぐって': 12193, '##ポレーション': 12194, 'サスペンション': 12195, '##UB': 12196, '傭': 12197, '卸': 12198, '哀': 12199, '桓': 12200, '縫': 12201, '##TER': 12202, 'ラジ': 12203, '刑法': 12204, '崩れ': 12205, '強盗': 12206, '捧げ': 12207, '断絶': 12208, '水田': 12209, '無償': 12210, '稲荷': 12211, '転落': 12212, '##レクト': 12213, '##上がる': 12214, 'デルタ': 12215, '文部省': 12216, '##クトリー': 12217, 'ビタミン': 12218, '##コミックス': 12219, '奔': 12220, '獄': 12221, '##ばす': 12222, '##ニク': 12223, '##ヶ原': 12224, '##納言': 12225, '井戸': 12226, '元帥': 12227, '危惧': 12228, '原産': 12229, '商用': 12230, '多岐': 12231, '少尉': 12232, '役場': 12233, '征伐': 12234, '握っ': 12235, '知れ': 12236, '騒音': 12237, '##ream': 12238, 'MUS': 12239, '多項式': 12240, '親会社': 12241, 'アルプス': 12242, 'カウンター': 12243, 'サーキット': 12244, 'nowiki': 12245, '##ハル': 12246, '##明け': 12247, '##通し': 12248, '##alk': 12249, 'HE': 12250, 'NA': 12251, 'がた': 12252, 'ぼく': 12253, 'キリ': 12254, 'セグ': 12255, '別々': 12256, '前橋': 12257, '南下': 12258, '安土': 12259, '対話': 12260, '山内': 12261, '役人': 12262, '水分': 12263, '硬貨': 12264, '系図': 12265, '組む': 12266, '西欧': 12267, '要し': 12268, '話者': 12269, '駿河': 12270, '450': 12271, 'こんな': 12272, 'ステン': 12273, 'バイト': 12274, 'レート': 12275, '入れ替': 12276, '時には': 12277, '留学生': 12278, '虹': 12279, '##願寺': 12280, 'CC': 12281, 'オマ': 12282, 'ガラ': 12283, 'クモ': 12284, 'ゲー': 12285, '中田': 12286, '元和': 12287, '屋外': 12288, '文久': 12289, '暴行': 12290, '虐待': 12291, '通報': 12292, '駆使': 12293, '駐在': 12294, '##キンス': 12295, 'つくば': 12296, 'ウズベ': 12297, 'ダイア': 12298, 'ニンテ': 12299, '##チャーズ': 12300, 'ケネディ': 12301, 'ステレオ': 12302, 'テイラー': 12303, 'アントニオ': 12304, '##LA': 12305, '諦': 12306, '##ノキ': 12307, '##共産': 12308, '##ACK': 12309, 'Jr': 12310, 'Pe': 12311, 'UF': 12312, 'ex': 12313, '一斉': 12314, '一説': 12315, '包括': 12316, '営む': 12317, '小銃': 12318, '授け': 12319, '採集': 12320, '換装': 12321, '正室': 12322, '病死': 12323, '石垣': 12324, '称え': 12325, '立川': 12326, '調子': 12327, '部員': 12328, '鑑定': 12329, '難易': 12330, '##ンジュ': 12331, '##共産党': 12332, '通じる': 12333, '##マーシャル': 12334, '中国共産党': 12335, 'オックスフォード': 12336, '儲': 12337, '##つく': 12338, '##作用': 12339, '##osh': 12340, 'FR': 12341, 'くり': 12342, 'ゆめ': 12343, 'わが': 12344, 'クス': 12345, 'モナ': 12346, '帰る': 12347, '待機': 12348, '改定': 12349, '最速': 12350, '民法': 12351, '浄土': 12352, '激減': 12353, '生ん': 12354, '適当': 12355, '遺族': 12356, '重臣': 12357, '駐留': 12358, '魚類': 12359, '##クチン': 12360, '##プソン': 12361, '##ator': 12362, 'カレン': 12363, '乗用車': 12364, 'さらなる': 12365, 'はじめて': 12366, 'アルフレ': 12367, 'SUPER': 12368, 'リンカーン': 12369, '##ペテルブルク': 12370, 'セントルイス': 12371, '袖': 12372, '鱗': 12373, '##ウザ': 12374, '##ガラ': 12375, '##ome': 12376, 'EN': 12377, '中原': 12378, '中枢': 12379, '封鎖': 12380, '岡本': 12381, '左手': 12382, '帽子': 12383, '想い': 12384, '戸田': 12385, '点在': 12386, '特技': 12387, '玄関': 12388, '累計': 12389, '藤沢': 12390, '課税': 12391, '講習': 12392, '連ね': 12393, '##リップ': 12394, 'Air': 12395, 'カレー': 12396, '細かい': 12397, '##ブリッド': 12398, '##ヴィッチ': 12399, 'ケンブリッジ': 12400, 'フォーミュラ': 12401, '##CO': 12402, '寅': 12403, '睡': 12404, '褒': 12405, '隋': 12406, '##ife': 12407, '##ler': 12408, 'お前': 12409, '下さ': 12410, '任せ': 12411, '会派': 12412, '佐竹': 12413, '双子': 12414, '反し': 12415, '国営': 12416, '宛て': 12417, '応答': 12418, '日系': 12419, '本堂': 12420, '片側': 12421, '異名': 12422, '白石': 12423, '神道': 12424, '荘園': 12425, '解剖': 12426, '誘致': 12427, '起因': 12428, '##ザール': 12429, '##ニウス': 12430, '##右衛門': 12431, '240': 12432, 'たとえ': 12433, '宣教師': 12434, '擁する': 12435, 'LOVE': 12436, 'ジョニー': 12437, 'スキャン': 12438, 'ダグラス': 12439, 'ドナルド': 12440, 'ネパール': 12441, 'シリンダー': 12442, 'ミッドフィールダー': 12443, '憎': 12444, '爪': 12445, '臼': 12446, '##アカ': 12447, '##シミ': 12448, 'しき': 12449, 'せき': 12450, 'ピク': 12451, 'レバ': 12452, '元気': 12453, '公正': 12454, '友達': 12455, '向い': 12456, '団長': 12457, '国語': 12458, '堤防': 12459, '増殖': 12460, '始発': 12461, '待合': 12462, '愛国': 12463, '打た': 12464, '指向': 12465, '挑む': 12466, '揃っ': 12467, '暴走': 12468, '樺太': 12469, '民放': 12470, '浮世': 12471, '警報': 12472, '負荷': 12473, '##ヴィエ': 12474, 'Ltd': 12475, 'エチオ': 12476, 'オットー': 12477, 'ストレス': 12478, 'ビクター': 12479, '一橋大学': 12480, 'ウィルソン': 12481, 'ヤンキース': 12482, 'ユニフォーム': 12483, 'コンピューター': 12484, '眺': 12485, '蒼': 12486, '頓': 12487, '##サラ': 12488, '##航空': 12489, '##ade': 12490, '##ana': 12491, '「\"': 12492, '三田': 12493, '凍結': 12494, '好調': 12495, '小隊': 12496, '届か': 12497, '市電': 12498, '改変': 12499, '組成': 12500, '運ぶ': 12501, '道中': 12502, '##ジアナ': 12503, '\"、\"': 12504, '意味合い': 12505, 'エチオピア': 12506, 'ベネズエラ': 12507, 'メダリスト': 12508, 'マンハッタン': 12509, '##UE': 12510, '##UM': 12511, '迂': 12512, '##キス': 12513, '##ナギ': 12514, '##モロ': 12515, '##ERO': 12516, 'テオ': 12517, '公使': 12518, '博覧': 12519, '失脚': 12520, '撤回': 12521, '星野': 12522, '歓迎': 12523, '汎用': 12524, '那須': 12525, 'Inc': 12526, 'ピッツ': 12527, 'ブリー': 12528, 'ホスト': 12529, '労働党': 12530, '収める': 12531, '取り消': 12532, 'オレゴン': 12533, 'フェラーリ': 12534, 'リアルタイム': 12535, '##クトペテルブルク': 12536, '##BN': 12537, '##KI': 12538, '舗': 12539, '##文書': 12540, 'かえ': 12541, 'ネコ': 12542, 'ミン': 12543, '佐野': 12544, '信徒': 12545, '円盤': 12546, '喧嘩': 12547, '子爵': 12548, '居城': 12549, '拡散': 12550, '推し': 12551, '教義': 12552, '断っ': 12553, '津軽': 12554, '男優': 12555, '町長': 12556, '白山': 12557, '秋葉': 12558, '賭け': 12559, '##ンドル': 12560, 'サロン': 12561, 'スラム': 12562, 'ビート': 12563, '##コミュニ': 12564, '##ミニウム': 12565, 'ファンク': 12566, 'ワーナー': 12567, 'プロセッサ': 12568, 'バスターミナル': 12569, 'モントリオール': 12570, '##we': 12571, '匿': 12572, '廣': 12573, '梱': 12574, '##ラマ': 12575, '##ald': 12576, 'GK': 12577, 'rd': 12578, 'sc': 12579, 'かな': 12580, 'まり': 12581, 'トス': 12582, '侯爵': 12583, '塩化': 12584, '宣告': 12585, '松下': 12586, '準じ': 12587, '知能': 12588, '破棄': 12589, '秋山': 12590, '風俗': 12591, 'Mag': 12592, 'グレー': 12593, '停車駅': 12594, '太陽系': 12595, '木曜日': 12596, '芸能人': 12597, 'ガーデン': 12598, 'タービン': 12599, 'ドラマー': 12600, 'ナイター': 12601, 'バンタム': 12602, 'ストローク': 12603, 'フランソワ': 12604, 'ミステリー': 12605, 'Micros': 12606, '脆': 12607, '##れん': 12608, '##ger': 12609, 'GR': 12610, 'しも': 12611, 'パブ': 12612, '不調': 12613, '余裕': 12614, '全盛': 12615, '公衆': 12616, '加算': 12617, '古巣': 12618, '好む': 12619, '小児': 12620, '時折': 12621, '歩い': 12622, '激化': 12623, '獲物': 12624, '皇室': 12625, '穀物': 12626, '継ぎ': 12627, '続行': 12628, '聴取': 12629, '那覇': 12630, '重奏': 12631, '間に': 12632, '飛騨': 12633, '麻薬': 12634, '黒色': 12635, '##オープ': 12636, '##トラン': 12637, '##リーブ': 12638, 'Dav': 12639, 'グレン': 12640, '設ける': 12641, '長期間': 12642, '##スターズ': 12643, 'おこなわ': 12644, 'バッファ': 12645, 'ビジョン': 12646, '折り返し': 12647, '知り合い': 12648, 'フランシス': 12649, '恥': 12650, '枕': 12651, '盲': 12652, '萌': 12653, '酢': 12654, 'TC': 12655, 'et': 12656, 'すす': 12657, 'てつ': 12658, 'オム': 12659, 'ピー': 12660, '交え': 12661, '借金': 12662, '単体': 12663, '召集': 12664, '喜び': 12665, '新曲': 12666, '痛み': 12667, '破損': 12668, '背負': 12669, '資材': 12670, '連装': 12671, '進路': 12672, '食材': 12673, '##ビアン': 12674, 'Med': 12675, 'アルト': 12676, 'コンゴ': 12677, 'ショウ': 12678, 'セルフ': 12679, '副作用': 12680, 'カルタゴ': 12681, 'ナッシュ': 12682, 'マウント': 12683, 'アーキテク': 12684, 'エストニア': 12685, 'ギャラリー': 12686, 'ドラゴンズ': 12687, 'オークランド': 12688, 'ヘッドコーチ': 12689, '##BI': 12690, '棲': 12691, '諮': 12692, '##じっ': 12693, '##chn': 12694, 'On': 12695, 'PP': 12696, 'YO': 12697, 'アグ': 12698, '元老': 12699, '奇跡': 12700, '専修': 12701, '工科': 12702, '当社': 12703, '御殿': 12704, '急増': 12705, '有馬': 12706, '西郷': 12707, '足り': 12708, '近辺': 12709, '鈴鹿': 12710, '##きょう': 12711, '##グナー': 12712, '##マルク': 12713, '##ーツァ': 12714, 'エスカ': 12715, 'ケルン': 12716, 'ゴジラ': 12717, 'ホット': 12718, 'ライプ': 12719, '十字軍': 12720, '選択肢': 12721, '##ディスク': 12722, 'カラオケ': 12723, 'プロペラ': 12724, 'モロッコ': 12725, 'ワークス': 12726, 'ルートヴィヒ': 12727, 'マイクロソフト': 12728, '倣': 12729, '##ツー': 12730, '##句麗': 12731, '##回る': 12732, '##ene': 12733, 'くま': 12734, 'でし': 12735, '下野': 12736, '分断': 12737, '北端': 12738, '好意': 12739, '宮内': 12740, '感動': 12741, '背面': 12742, '腫瘍': 12743, '融資': 12744, '読書': 12745, '##ッケン': 12746, '##ボジア': 12747, '##マイカ': 12748, 'ROM': 12749, 'しゅう': 12750, 'たどり': 12751, 'キネマ': 12752, 'グレゴ': 12753, '高句麗': 12754, '1830': 12755, '冥': 12756, '晶': 12757, '肌': 12758, '##かせ': 12759, '##ノム': 12760, '##ボロ': 12761, 'Je': 12762, 'SR': 12763, 'ヘイ': 12764, '今川': 12765, '公明': 12766, '公職': 12767, '処女': 12768, '単発': 12769, '右岸': 12770, '合法': 12771, '型式': 12772, '奪う': 12773, '学派': 12774, '射殺': 12775, '幻想': 12776, '成す': 12777, '最盛': 12778, '梅田': 12779, '湾岸': 12780, '立案': 12781, '納入': 12782, '途絶': 12783, '##ダース': 12784, '##rist': 12785, '750': 12786, 'チーフ': 12787, 'ビルマ': 12788, 'きわめて': 12789, 'アドルフ': 12790, 'キャッシュ': 12791, 'クイーンズ': 12792, 'スターリン': 12793, 'ナトリウム': 12794, 'アンドリュー': 12795, 'マネジメント': 12796, '亘': 12797, '##っぱ': 12798, '##なす': 12799, '##que': 12800, 'sh': 12801, 'いと': 12802, 'しの': 12803, '久留': 12804, '休刊': 12805, '区内': 12806, '原田': 12807, '可変': 12808, '吊り': 12809, '報復': 12810, '墓所': 12811, '曹操': 12812, '本町': 12813, '民兵': 12814, '罰金': 12815, '育つ': 12816, '西村': 12817, '##イクス': 12818, '##サレム': 12819, '##サーチ': 12820, '##ヘッド': 12821, 'アイオ': 12822, 'カザフ': 12823, 'デッキ': 12824, 'レイン': 12825, 'レオン': 12826, '青少年': 12827, '##ology': 12828, '1865': 12829, 'キャップ': 12830, '作り上げ': 12831, '源氏物語': 12832, 'align': 12833, 'レーシング': 12834, '宝塚歌劇団': 12835, '藍': 12836, '##るみ': 12837, '##vel': 12838, 'GH': 12839, 'LP': 12840, '一等': 12841, '交互': 12842, '反転': 12843, '嫌い': 12844, '富田': 12845, '封入': 12846, '展覧': 12847, '常設': 12848, '応え': 12849, '擁し': 12850, '混ぜ': 12851, '誇り': 12852, '##ステン': 12853, '##ニール': 12854, '##ートー': 12855, 'あいだ': 12856, 'アレン': 12857, 'パナマ': 12858, '手掛ける': 12859, 'カンボジア': 12860, 'Microsoft': 12861, '##IE': 12862, '’': 12863, '瓶': 12864, '貰': 12865, '一新': 12866, '以北': 12867, '原爆': 12868, '吾妻': 12869, '喜劇': 12870, '国々': 12871, '基調': 12872, '大地': 12873, '密か': 12874, '小麦': 12875, '属す': 12876, '年版': 12877, '急性': 12878, '摂津': 12879, '新潮': 12880, '本家': 12881, '次官': 12882, '民謡': 12883, '発作': 12884, '行か': 12885, '視野': 12886, '超人': 12887, '退却': 12888, '除け': 12889, '面会': 12890, '香り': 12891, '満たし': 12892, '現在地': 12893, '##ートルズ': 12894, 'ゴシック': 12895, '##リューション': 12896, 'クライアント': 12897, '##LS': 12898, '圓': 12899, '牙': 12900, '窯': 12901, 'MR': 12902, 'ヘリ': 12903, '低地': 12904, '儀礼': 12905, '利便': 12906, '反面': 12907, '吹奏': 12908, '器具': 12909, '四つ': 12910, '大友': 12911, '尊重': 12912, '戻さ': 12913, '有用': 12914, '柔軟': 12915, '漫才': 12916, '火薬': 12917, '裕福': 12918, '議事': 12919, '遅延': 12920, '郡山': 12921, '##ニカル': 12922, '##パクト': 12923, '##重工業': 12924, 'スプリ': 12925, '##ブルドン': 12926, 'オルガン': 12927, 'カタログ': 12928, 'スタメン': 12929, 'ソックス': 12930, '大きかっ': 12931, '楽しめる': 12932, 'アルバニア': 12933, '##スキ': 12934, '##名詞': 12935, 'うか': 12936, '争う': 12937, '代役': 12938, '塩基': 12939, '山麓': 12940, '戦果': 12941, '改題': 12942, '消失': 12943, '疑惑': 12944, '種族': 12945, '置換': 12946, '西端': 12947, '負う': 12948, '赴い': 12949, '釈迦': 12950, '青色': 12951, '領事': 12952, '##ゲート': 12953, '##チンコ': 12954, 'マネー': 12955, '伸びる': 12956, '減らし': 12957, '##ATION': 12958, 'たくさん': 12959, 'ムービー': 12960, 'ルイジアナ': 12961, '##ステーション': 12962, 'アルミニウム': 12963, 'ブルックリン': 12964, 'ウィンブルドン': 12965, '塊': 12966, '茅': 12967, '##相撲': 12968, '##美子': 12969, '##lex': 12970, 'サハ': 12971, 'プエ': 12972, 'リヒ': 12973, '古河': 12974, '大石': 12975, '市道': 12976, '抹消': 12977, '日活': 12978, '未明': 12979, '源流': 12980, '着任': 12981, '薬師': 12982, '製鉄': 12983, '規約': 12984, '訪ね': 12985, 'Hot': 12986, 'NPO': 12987, 'ツイン': 12988, 'ムーア': 12989, 'マーシャル': 12990, '平方メートル': 12991, 'Univers': 12992, '##HT': 12993, '蝶': 12994, '##ごう': 12995, '##自治': 12996, 'IR': 12997, 'Mi': 12998, 'しろ': 12999, 'ツァ': 13000, '三好': 13001, '助成': 13002, '台数': 13003, '専務': 13004, '格子': 13005, '築城': 13006, '##デート': 13007, '労働省': 13008, '日本橋': 13009, '標準時': 13010, '##グラード': 13011, 'ゼネラル': 13012, 'パレード': 13013, 'エクスプレス': 13014, 'ノーフォーク': 13015, 'ブロードウェイ': 13016, '或': 13017, '畳': 13018, '魯': 13019, '##田谷': 13020, 'うけ': 13021, 'たろ': 13022, 'のび': 13023, 'アセ': 13024, 'ナビ': 13025, '中尉': 13026, '京浜': 13027, '党派': 13028, '参画': 13029, '大神': 13030, '大輔': 13031, '専任': 13032, '打つ': 13033, '改宗': 13034, '本尊': 13035, '歌人': 13036, '炭鉱': 13037, '真理': 13038, '真相': 13039, '私鉄': 13040, '突起': 13041, '辞め': 13042, '返し': 13043, '送電': 13044, '遺物': 13045, '配分': 13046, '酒井': 13047, '##トラー': 13048, '##マンド': 13049, '##ライブ': 13050, '##ラール': 13051, '##左衛門': 13052, '!!」': 13053, 'トリオ': 13054, 'ハリス': 13055, 'パンク': 13056, 'ブロン': 13057, 'マイン': 13058, 'マント': 13059, '二酸化': 13060, '及ぼし': 13061, '女学校': 13062, '繋がる': 13063, '製作所': 13064, 'いかなる': 13065, 'セックス': 13066, 'デヴィッド': 13067, '依然として': 13068, '素晴らしい': 13069, '東日本旅客鉄道': 13070, '##GB': 13071, '‐': 13072, 'ヲ': 13073, '##ENT': 13074, 'HT': 13075, 'ずれ': 13076, '中高': 13077, '休暇': 13078, '厳格': 13079, '合い': 13080, '延び': 13081, '従属': 13082, '急死': 13083, '慎重': 13084, '服装': 13085, '条項': 13086, '灰色': 13087, '生殖': 13088, '留置': 13089, '県民': 13090, '社殿': 13091, '調和': 13092, '関税': 13093, '##ツィヒ': 13094, '##ドッグ': 13095, 'まんが': 13096, '増やす': 13097, '過半数': 13098, 'イスラム教': 13099, 'スタンダード': 13100, 'ニンテンドー': 13101, '坑': 13102, '宴': 13103, '箕': 13104, '閏': 13105, '##福寺': 13106, '</': 13107, 'のぶ': 13108, 'よば': 13109, '会っ': 13110, '券売': 13111, '地主': 13112, '奨学': 13113, '拉致': 13114, '教諭': 13115, '果て': 13116, '法政': 13117, '発想': 13118, '発酵': 13119, '要員': 13120, '##ニアン': 13121, '##ネスコ': 13122, '##ラルド': 13123, 'しょう': 13124, 'ベルク': 13125, 'ルーツ': 13126, 'ロープ': 13127, '尽くし': 13128, '掲示板': 13129, '非公式': 13130, 'クリミア': 13131, 'ソロモン': 13132, 'ファイト': 13133, 'メリット': 13134, 'リリーフ': 13135, '受け継が': 13136, 'アクセント': 13137, 'ハンブルク': 13138, 'サンクトペテルブルク': 13139, '猶': 13140, 'RO': 13141, 'アジ': 13142, 'メー': 13143, '公示': 13144, '周回': 13145, '国政': 13146, '大本': 13147, '宮本': 13148, '常磐': 13149, '忠誠': 13150, '怪物': 13151, '灯台': 13152, '直し': 13153, '石灰': 13154, '金子': 13155, '駅伝': 13156, 'ref': 13157, 'いかに': 13158, 'アンソ': 13159, 'フロア': 13160, '等しい': 13161, 'これから': 13162, 'クエスト': 13163, 'ケベック': 13164, 'ブレイク': 13165, 'トヨタ自動車': 13166, 'マーケティング': 13167, '嚢': 13168, '愚': 13169, '詔': 13170, '隼': 13171, 'SN': 13172, 'モデ': 13173, '事典': 13174, '信託': 13175, '去る': 13176, '安藤': 13177, '対外': 13178, '律令': 13179, '新党': 13180, '明示': 13181, '特設': 13182, '直面': 13183, '給与': 13184, '織り': 13185, '##シート': 13186, '##ッケル': 13187, '##ムビア': 13188, '##術大学': 13189, '210': 13190, '220': 13191, 'Tom': 13192, 'ヨハネ': 13193, '初年度': 13194, '悩まさ': 13195, '最高裁': 13196, '知らせ': 13197, 'ハンドル': 13198, 'マッカー': 13199, 'ジャマイカ': 13200, 'ベストセラー': 13201, 'クリーブランド': 13202, '##AI': 13203, '笛': 13204, '鴻': 13205, '##抜い': 13206, 'pr': 13207, 'ひら': 13208, 'ょく': 13209, 'ボヘ': 13210, '会い': 13211, '北極': 13212, '奉納': 13213, '工房': 13214, '幸せ': 13215, '特命': 13216, '町田': 13217, '留守': 13218, '##フィル': 13219, 'Har': 13220, 'わたし': 13221, 'ウェア': 13222, 'ニコラ': 13223, '徹底的': 13224, '云': 13225, '埴': 13226, '諱': 13227, '霞': 13228, '##つか': 13229, '##ばさ': 13230, '##キロ': 13231, '##バナ': 13232, '##司教': 13233, '##映画': 13234, '##田川': 13235, '##IDE': 13236, '##lic': 13237, 'AG': 13238, 'ホセ': 13239, '原発': 13240, '四方': 13241, '天平': 13242, '天才': 13243, '家具': 13244, '摩擦': 13245, '支所': 13246, '放ち': 13247, '有志': 13248, '死に': 13249, '気体': 13250, '没後': 13251, '痕跡': 13252, '睡眠': 13253, '腹部': 13254, '装填': 13255, '西海': 13256, '遂に': 13257, '集約': 13258, '頂上': 13259, '##プラー': 13260, '##port': 13261, 'アシュ': 13262, '大司教': 13263, 'アラスカ': 13264, 'クルーズ': 13265, '##ステルダム': 13266, 'フィクション': 13267, '##ka': 13268, '##ma': 13269, '紳': 13270, '麗': 13271, '##らっ': 13272, '##サギ': 13273, '##ドア': 13274, '##box': 13275, 'BD': 13276, 'おの': 13277, 'やら': 13278, '上層': 13279, '公家': 13280, '動い': 13281, '参拝': 13282, '基底': 13283, '巡礼': 13284, '建っ': 13285, '待遇': 13286, '派閥': 13287, '結城': 13288, '舗装': 13289, '財閥': 13290, '迂回': 13291, '追う': 13292, '麻痺': 13293, '##バーズ': 13294, '##roid': 13295, 'Met': 13296, 'つくる': 13297, 'シンク': 13298, 'マーガ': 13299, '上回っ': 13300, '世田谷': 13301, '助ける': 13302, '微生物': 13303, '##スティング': 13304, 'カルチャー': 13305, 'アーキテクチャ': 13306, '謳': 13307, '頁': 13308, '##っこ': 13309, '##づき': 13310, 'つる': 13311, 'エロ': 13312, 'ヶ国': 13313, '佐伯': 13314, '全権': 13315, '兵役': 13316, '分化': 13317, '医者': 13318, '常任': 13319, '意欲': 13320, '浜田': 13321, '王族': 13322, '軽い': 13323, '##ディビ': 13324, '##ater': 13325, 'CEO': 13326, 'ヒンド': 13327, '下ろし': 13328, '気に入': 13329, '第三者': 13330, '##ement': 13331, 'トランプ': 13332, 'バンコク': 13333, 'レスラー': 13334, 'アレックス': 13335, 'デイヴィッド': 13336, 'アレクサンダー': 13337, '己': 13338, '摘': 13339, '錬': 13340, '##やま': 13341, '##レフ': 13342, '##回っ': 13343, 'すみ': 13344, 'ラト': 13345, '中頃': 13346, '今井': 13347, '出血': 13348, '初出': 13349, '喫茶': 13350, '始動': 13351, '撤廃': 13352, '朝倉': 13353, '架け': 13354, '母国': 13355, '添加': 13356, '総数': 13357, '群れ': 13358, '赤坂': 13359, '##サック': 13360, '##ダール': 13361, '##ツキー': 13362, '##当たり': 13363, 'Net': 13364, 'サマー': 13365, 'ソナタ': 13366, 'ディオ': 13367, 'ポリス': 13368, 'マスト': 13369, '吹奏楽': 13370, '哺乳類': 13371, '大相撲': 13372, '##カリスト': 13373, '##クタール': 13374, '##ミントン': 13375, 'タイアップ': 13376, '##ザル': 13377, '##ソス': 13378, '##ane': 13379, '##ins': 13380, '##ric': 13381, 'CB': 13382, 'CV': 13383, 'MB': 13384, 'さか': 13385, 'ねじ': 13386, 'ひど': 13387, '不法': 13388, '傑作': 13389, '収蔵': 13390, '名残': 13391, '喫煙': 13392, '天津': 13393, '導く': 13394, '局所': 13395, '山間': 13396, '撃ち': 13397, '断面': 13398, '暗い': 13399, '本文': 13400, '母方': 13401, '犯し': 13402, '直列': 13403, '高岡': 13404, '##スキー': 13405, '##ッテン': 13406, '##ブリュ': 13407, '##ホルム': 13408, '##レーヌ': 13409, 'あげる': 13410, 'ケリー': 13411, 'ヒップ': 13412, '停車場': 13413, 'Part': 13414, 'グローブ': 13415, 'ハドソン': 13416, 'エルサレム': 13417, 'ジェイムズ': 13418, 'ニュータウン': 13419, 'フィルハーモニー': 13420, '垣': 13421, '廊': 13422, '究': 13423, '##アベ': 13424, '##ボウ': 13425, 'Fr': 13426, 'わか': 13427, '公卿': 13428, '出羽': 13429, '剥奪': 13430, '功労': 13431, '回る': 13432, '城壁': 13433, '大勢': 13434, '宝石': 13435, '封印': 13436, '平坦': 13437, '抽象': 13438, '採っ': 13439, '搬送': 13440, '断片': 13441, '池袋': 13442, '義勇': 13443, '##ラーゼ': 13444, '##illa': 13445, '『\"\"': 13446, 'おかげ': 13447, 'ウィキ': 13448, 'デュー': 13449, 'マニラ': 13450, '浮世絵': 13451, '詳しい': 13452, 'バルカン': 13453, 'ボスニア': 13454, 'レジスタ': 13455, '打ち切り': 13456, '##ベーション': 13457, 'ヘクタール': 13458, 'テレビジョン': 13459, 'William': 13460, 'エレクトリック': 13461, 'エンターテインメント': 13462, '##ki': 13463, '−': 13464, '嶺': 13465, '蝦': 13466, '頸': 13467, '##がれ': 13468, '##たか': 13469, '##チド': 13470, '##チー': 13471, '##並み': 13472, 'at': 13473, '一見': 13474, '公司': 13475, '出陣': 13476, '和泉': 13477, '大崎': 13478, '崇拝': 13479, '広州': 13480, '弾道': 13481, '待つ': 13482, '挟ま': 13483, '本郷': 13484, '楽譜': 13485, '模倣': 13486, '水深': 13487, '狙撃': 13488, '生地': 13489, '臨ん': 13490, '近似': 13491, '進入': 13492, '鶴見': 13493, '##シャワ': 13494, '##ベスト': 13495, '##リッヒ': 13496, '!!』': 13497, 'MHz': 13498, 'ゆかり': 13499, '##レンツェ': 13500, '##board': 13501, 'シャトル': 13502, 'ヨーゼフ': 13503, '成し遂げ': 13504, '##ーツァルト': 13505, 'スティーブ': 13506, 'フレデリック': 13507, '堰': 13508, '峡': 13509, '租': 13510, '肘': 13511, '鼓': 13512, '##アウ': 13513, '##ホマ': 13514, '##レナ': 13515, '##ロワ': 13516, 'GN': 13517, 'っぽ': 13518, 'ひで': 13519, 'タラ': 13520, '処罰': 13521, '協調': 13522, '原案': 13523, '寄稿': 13524, '整え': 13525, '桜井': 13526, '極東': 13527, '田辺': 13528, '能登': 13529, '蔵書': 13530, '調印': 13531, '警官': 13532, '辺境': 13533, '##タリー': 13534, '##リッド': 13535, 'Art': 13536, 'IBF': 13537, 'いた事': 13538, 'グラム': 13539, 'ハイド': 13540, 'フット': 13541, '##スタジオ': 13542, 'イニング': 13543, 'グルジア': 13544, 'ミスター': 13545, 'ミックス': 13546, 'ユネスコ': 13547, '##ストリート': 13548, 'アウグスト': 13549, 'ステンレス': 13550, 'アメリカ大陸': 13551, '壺': 13552, '##がく': 13553, '##経済': 13554, '##醍醐': 13555, '##les': 13556, 'FW': 13557, 'モリ': 13558, '事変': 13559, '北欧': 13560, '召喚': 13561, '同居': 13562, '土砂': 13563, '太字': 13564, '帰投': 13565, '常時': 13566, '恐慌': 13567, '教職': 13568, '景気': 13569, '最悪': 13570, '法制': 13571, '狭義': 13572, '疑わ': 13573, '陥り': 13574, '##ミュー': 13575, '##レーン': 13576, 'NEC': 13577, 'イース': 13578, '思い出': 13579, '支払わ': 13580, '立てる': 13581, '触れる': 13582, '##オープン': 13583, '##セックス': 13584, 'Inst': 13585, 'ユリウス': 13586, '亡くなる': 13587, '##タイガース': 13588, '##フィッシュ': 13589, 'クリントン': 13590, 'サントリー': 13591, '##くる': 13592, '##クサ': 13593, '##スル': 13594, '##ara': 13595, '##por': 13596, 'AI': 13597, 'en': 13598, 'ざき': 13599, 'シグ': 13600, '不況': 13601, '在職': 13602, '大森': 13603, '弘前': 13604, '忍者': 13605, '情熱': 13606, '本多': 13607, '波長': 13608, '皮肉': 13609, '祭神': 13610, '襲い': 13611, '説い': 13612, '通訳': 13613, '長老': 13614, '##ティエ': 13615, 'いじめ': 13616, '書記官': 13617, '##ミュエル': 13618, '##ンジョン': 13619, '査': 13620, '纏': 13621, '##でん': 13622, '##キサ': 13623, '##バリ': 13624, '##any': 13625, '##oll': 13626, '##oph': 13627, 'Pa': 13628, 'おさ': 13629, 'やむ': 13630, 'コカ': 13631, '一生': 13632, '分校': 13633, '園芸': 13634, '地表': 13635, '宗家': 13636, '寝台': 13637, '尼崎': 13638, '島田': 13639, '弾き': 13640, '役目': 13641, '投獄': 13642, '春季': 13643, '校区': 13644, '知行': 13645, '自家': 13646, '込み': 13647, '除籍': 13648, '難波': 13649, '風土': 13650, '##ビット': 13651, '##ブリア': 13652, 'JIS': 13653, 'ひがし': 13654, 'トミー': 13655, '仕立て': 13656, '柔らか': 13657, '##ティウス': 13658, 'やって来': 13659, '成り立つ': 13660, '##ネーション': 13661, 'ハンドボール': 13662, '##ey': 13663, '畠': 13664, '盧': 13665, '##ola': 13666, '##way': 13667, 'It': 13668, 'OB': 13669, 'vs': 13670, 'エビ': 13671, 'ジー': 13672, '両端': 13673, '中毒': 13674, '中津': 13675, '出兵': 13676, '外し': 13677, '本戦': 13678, '石器': 13679, '許容': 13680, '録画': 13681, '##テラン': 13682, '##ンジー': 13683, 'NPB': 13684, 'フック': 13685, 'メイド': 13686, '持ち主': 13687, 'Amer': 13688, 'Stud': 13689, 'どうして': 13690, '吹き替え': 13691, 'ワルシャワ': 13692, '藻': 13693, '##ョー': 13694, '##ワフ': 13695, '##方形': 13696, '##琵琶': 13697, '##fer': 13698, '.\"': 13699, 'クビ': 13700, '充分': 13701, '制式': 13702, '卓球': 13703, '含有': 13704, '奥州': 13705, '宅地': 13706, '対馬': 13707, '後続': 13708, '枚数': 13709, '河原': 13710, '河野': 13711, '満ち': 13712, '理学': 13713, '直結': 13714, '西宮': 13715, '親戚': 13716, '詐欺': 13717, '銃撃': 13718, '震災': 13719, '高雄': 13720, '##ータイ': 13721, '##ydro': 13722, '550': 13723, 'GHQ': 13724, 'des': 13725, 'あえて': 13726, 'じゅう': 13727, 'グリー': 13728, 'フード': 13729, 'プラザ': 13730, '動かす': 13731, '減らす': 13732, '##ワークス': 13733, 'しっかり': 13734, 'ウォール': 13735, 'モニター': 13736, 'ロジャー': 13737, '##ーズベルト': 13738, 'プロトコル': 13739, '受け入れる': 13740, '##の丸': 13741, '##イェ': 13742, '##ype': 13743, 'タカ': 13744, '交点': 13745, '公転': 13746, '分家': 13747, '前部': 13748, '剣道': 13749, '同点': 13750, '地裁': 13751, '外伝': 13752, '外相': 13753, '寸前': 13754, '平原': 13755, '平定': 13756, '幸福': 13757, '政令': 13758, '故に': 13759, '補充': 13760, '進言': 13761, '長安': 13762, '陥る': 13763, '館長': 13764, '##ボウル': 13765, 'Eng': 13766, 'Pre': 13767, 'みなし': 13768, 'オクラ': 13769, 'メイク': 13770, 'リバー': 13771, '同志社': 13772, '持ち帰': 13773, '移り住': 13774, '落ちる': 13775, '##ジーミル': 13776, 'なくなり': 13777, 'ハワード': 13778, 'フォックス': 13779, 'center': 13780, 'ベースボール': 13781, '##EG': 13782, '##ケス': 13783, '##ダラ': 13784, '##レコ': 13785, '##生活': 13786, 'Ma': 13787, 'ac': 13788, 'おじ': 13789, '代議': 13790, '受注': 13791, '幾度': 13792, '承諾': 13793, '有害': 13794, '殺す': 13795, '津田': 13796, '部落': 13797, '隆盛': 13798, '##ニティ': 13799, '##ボーイ': 13800, '##rans': 13801, 'つくり': 13802, 'にまつ': 13803, 'ジミー': 13804, 'スラヴ': 13805, '取り壊': 13806, '関ヶ原': 13807, '##ティーナ': 13808, '##ニッシュ': 13809, '##フェリー': 13810, 'ガリシア': 13811, 'ライフル': 13812, '##ファーソン': 13813, 'にまつわる': 13814, 'クリスタル': 13815, '##XT': 13816, '@': 13817, '其': 13818, '##いろ': 13819, '##プー': 13820, 'みず': 13821, '五郎': 13822, '共用': 13823, '四球': 13824, '図り': 13825, '打数': 13826, '旧姓': 13827, '本館': 13828, '歌合': 13829, '産卵': 13830, '田舎': 13831, '空き': 13832, '自信': 13833, '至り': 13834, '観念': 13835, '遠ざ': 13836, '鎮座': 13837, '##ちょう': 13838, 'Rad': 13839, 'にくく': 13840, 'エアロ': 13841, 'ベリー': 13842, '終える': 13843, 'ゆっくり': 13844, 'アミノ酸': 13845, 'サポーター': 13846, 'フォワード': 13847, '##ft': 13848, '殉': 13849, '##ぶん': 13850, '##ラシ': 13851, 'あし': 13852, 'サヨ': 13853, '上越': 13854, '不適': 13855, '収納': 13856, '官職': 13857, '尚書': 13858, '極め': 13859, '歩く': 13860, '真田': 13861, '磁場': 13862, '築造': 13863, '貯蔵': 13864, '預け': 13865, '##シーン': 13866, 'NWA': 13867, 'エリー': 13868, 'サント': 13869, 'ジェネ': 13870, 'リンゴ': 13871, '告げる': 13872, 'ライアン': 13873, 'カルシウム': 13874, 'スロベニア': 13875, 'Records': 13876, '溢': 13877, '逝': 13878, '##ホル': 13879, '##ムー': 13880, '##兵器': 13881, '##ony': 13882, 'FL': 13883, 'au': 13884, 'づけ': 13885, 'イブ': 13886, 'クォ': 13887, '地価': 13888, '増刊': 13889, '大洋': 13890, '字幕': 13891, '手順': 13892, '祈り': 13893, '脱落': 13894, '複線': 13895, '鳥居': 13896, '##アート': 13897, '##スタフ': 13898, '320': 13899, 'チェス': 13900, 'デスク': 13901, 'ナイフ': 13902, 'メディ': 13903, 'リック': 13904, '核兵器': 13905, '##ディビシオン': 13906, 'インストール': 13907, '樋': 13908, '##ゥル': 13909, '##ボク': 13910, '##OCK': 13911, '##VER': 13912, '##ble': 13913, 'BB': 13914, 'BC': 13915, 'JS': 13916, '下っ': 13917, '不信': 13918, '中古': 13919, '公用': 13920, '古川': 13921, '探知': 13922, '注ぐ': 13923, '琵琶': 13924, '精密': 13925, '菩薩': 13926, '足立': 13927, '遺言': 13928, '##ウアー': 13929, '##ニバル': 13930, 'クラリ': 13931, 'マニア': 13932, 'ルパン': 13933, '任天堂': 13934, '教える': 13935, '##オーバー': 13936, 'シールド': 13937, 'パチンコ': 13938, 'フルート': 13939, 'ラッセル': 13940, '盛り込ま': 13941, 'ハイブリッド': 13942, 'アトラクション': 13943, 'アムステルダム': 13944, '##MO': 13945, '眞': 13946, '釧': 13947, '##さと': 13948, '##押し': 13949, '##ien': 13950, '##ino': 13951, 'DT': 13952, 'GL': 13953, 'We': 13954, 'タケ': 13955, 'バビ': 13956, 'パウ': 13957, 'リハ': 13958, '倉敷': 13959, '党内': 13960, '内藤': 13961, '凱旋': 13962, '切る': 13963, '合わ': 13964, '問う': 13965, '器官': 13966, '基質': 13967, '担い': 13968, '異性': 13969, '祖国': 13970, '遠隔': 13971, '静か': 13972, '##セデス': 13973, '##ヴェー': 13974, 'まさに': 13975, 'ジェノ': 13976, 'リュー': 13977, '掲げる': 13978, '訴える': 13979, '##アリング': 13980, '1859': 13981, 'スーダン': 13982, '埋め立て': 13983, 'アイスランド': 13984, '伺': 13985, '鐵': 13986, '##ius': 13987, '##let': 13988, '##uro': 13989, 'たて': 13990, 'ネル': 13991, 'リモ': 13992, '仕方': 13993, '促す': 13994, '即座': 13995, '名物': 13996, '売ら': 13997, '崩御': 13998, '幼虫': 13999, '接収': 14000, '未成': 14001, '水曜': 14002, '漏れ': 14003, '王権': 14004, '被っ': 14005, '西岸': 14006, '話さ': 14007, '調停': 14008, '迅速': 14009, '##バータ': 14010, '##ーニュ': 14011, 'NAD': 14012, 'いまだ': 14013, 'みなみ': 14014, 'メチル': 14015, '利根川': 14016, '##ジェット': 14017, '##ニュース': 14018, '1853': 14019, '1854': 14020, 'タイガース': 14021, '##YS': 14022, '##co': 14023, '棘': 14024, '毅': 14025, '脈': 14026, '##っち': 14027, '##らせ': 14028, '##休み': 14029, '##ato': 14030, 'いす': 14031, 'アビ': 14032, '叙任': 14033, '奉仕': 14034, '採ら': 14035, '暗黒': 14036, '正解': 14037, '治水': 14038, '片方': 14039, '物流': 14040, '特例': 14041, '経っ': 14042, '絶望': 14043, '豊島': 14044, '賛同': 14045, '酒造': 14046, '釜山': 14047, '##テール': 14048, '##フマン': 14049, '##ings': 14050, 'Wii': 14051, 'フレン': 14052, '及ぼす': 14053, '執り行': 14054, '止める': 14055, 'カプセル': 14056, 'ボイラー': 14057, 'ヴェスト': 14058, 'オクラホマ': 14059, 'バレンシア': 14060, 'ビートルズ': 14061, '于': 14062, '癒': 14063, '紐': 14064, '衡': 14065, '##より': 14066, '##四郎': 14067, '##its': 14068, 'KD': 14069, 'PA': 14070, 'とん': 14071, 'なに': 14072, 'タブ': 14073, '八木': 14074, '初等': 14075, '寄進': 14076, '対峙': 14077, '御用': 14078, '志摩': 14079, '毒性': 14080, '法定': 14081, '濃い': 14082, '火曜': 14083, '疲労': 14084, '移す': 14085, '立方': 14086, '竹内': 14087, '臨海': 14088, '計量': 14089, '蹴り': 14090, '##ルツェ': 14091, 'アゼル': 14092, 'コンポ': 14093, '仕上げ': 14094, '江戸川': 14095, 'サンプル': 14096, 'ドラッグ': 14097, 'ホームズ': 14098, '##プスブルク': 14099, 'MUSIC': 14100, 'アルジェリア': 14101, '##UC': 14102, '仇': 14103, '噛': 14104, '賄': 14105, '韻': 14106, '##アリ': 14107, '##ボリ': 14108, '##AGE': 14109, '##ink': 14110, '##ven': 14111, 'わら': 14112, 'ベラ': 14113, 'ミー': 14114, '並み': 14115, '中堅': 14116, '作物': 14117, '名簿': 14118, '問屋': 14119, '大破': 14120, '巧み': 14121, '提起': 14122, '普遍': 14123, '格好': 14124, '歌曲': 14125, '添え': 14126, '特記': 14127, '解答': 14128, '退い': 14129, '##ッペン': 14130, 'つくら': 14131, 'ダイナ': 14132, '最高峰': 14133, '調べる': 14134, '##ution': 14135, 'まとめる': 14136, '法政大学': 14137, '生み出す': 14138, 'サミュエル': 14139, 'リクエスト': 14140, 'Robert': 14141, '棺': 14142, '##クシ': 14143, '##ura': 14144, 'Mc': 14145, 'うど': 14146, 'きら': 14147, 'てい': 14148, 'ラマ': 14149, '動脈': 14150, '原点': 14151, '均衡': 14152, '実に': 14153, '導き': 14154, '広瀬': 14155, '招く': 14156, '提督': 14157, '格差': 14158, '概要': 14159, '海面': 14160, '清朝': 14161, '硬式': 14162, '美容': 14163, '見積': 14164, '退け': 14165, '阿蘇': 14166, '##オンズ': 14167, '##カール': 14168, '##ネスト': 14169, '##ボット': 14170, 'Val': 14171, 'ストラ': 14172, 'スープ': 14173, '城下町': 14174, '##ブルック': 14175, '1840': 14176, 'ゴードン': 14177, 'フォント': 14178, 'ボヘミア': 14179, '平方キロ': 14180, 'リバウンド': 14181, 'School': 14182, 'マーガレット': 14183, '楚': 14184, '##回し': 14185, '##ism': 14186, 'ひこ': 14187, 'ゆる': 14188, 'ドミ': 14189, 'ハナ': 14190, 'ブエ': 14191, '一大': 14192, '上洛': 14193, '別荘': 14194, '去り': 14195, '回し': 14196, '宮中': 14197, '密着': 14198, '将兵': 14199, '愛人': 14200, '村田': 14201, '武道': 14202, '流動': 14203, '父子': 14204, '狙う': 14205, '祀る': 14206, '肺炎': 14207, '補完': 14208, '諦め': 14209, '返り': 14210, '青葉': 14211, '高島': 14212, '##デンス': 14213, '##プロス': 14214, 'Day': 14215, 'WBO': 14216, 'ぐらい': 14217, '三角形': 14218, '代理人': 14219, '短距離': 14220, '落とす': 14221, '著しい': 14222, '表彰台': 14223, 'バーデン': 14224, 'ファーム': 14225, 'フレーズ': 14226, '筑波大学': 14227, '##ファーレン': 14228, '##レンジャー': 14229, 'テクノロジー': 14230, 'ピッツバーグ': 14231, '##EB': 14232, '##ぱら': 14233, '##コシ': 14234, '##トム': 14235, '##ヘイ': 14236, '##少女': 14237, '##延び': 14238, 'Bo': 14239, 'うん': 14240, 'アデ': 14241, 'タグ': 14242, 'タム': 14243, '世俗': 14244, '使徒': 14245, '出動': 14246, '出自': 14247, '受託': 14248, '子役': 14249, '定か': 14250, '巡り': 14251, '意匠': 14252, '戴冠': 14253, '揃え': 14254, '時空': 14255, '流派': 14256, '無名': 14257, '異母': 14258, '病理': 14259, '蛍光': 14260, '適正': 14261, '部数': 14262, '集配': 14263, '離党': 14264, '##エクス': 14265, '##クリー': 14266, '##テージ': 14267, 'フィー': 14268, '切り離': 14269, '美少女': 14270, '##エンター': 14271, '##ヴァルト': 14272, 'ヨハネス': 14273, 'ラバウル': 14274, '日本ハム': 14275, 'メルセデス': 14276, '巴': 14277, '紡': 14278, '##ばら': 14279, 'のぞ': 14280, 'カエ': 14281, 'ヨル': 14282, '事象': 14283, '人体': 14284, '体格': 14285, '化し': 14286, '国人': 14287, '墳丘': 14288, '嫡子': 14289, '守ら': 14290, '弱く': 14291, '持株': 14292, '接合': 14293, '次期': 14294, '決済': 14295, '淡水': 14296, '目論': 14297, '結核': 14298, '給付': 14299, '船長': 14300, '読ま': 14301, '速く': 14302, '運ん': 14303, '230': 14304, 'Ann': 14305, '1858': 14306, 'オールド': 14307, 'リハビリ': 14308, '持ち込ん': 14309, '生き残っ': 14310, '##オーリンズ': 14311, '##バルディア': 14312, '##ルティング': 14313, 'ローリング': 14314, 'ハプスブルク': 14315, 'クリエイティブ': 14316, '〔': 14317, '皿': 14318, '##ごと': 14319, '##りつ': 14320, '##ベリ': 14321, '##作所': 14322, 'ホロ': 14323, '世襲': 14324, '入部': 14325, '多重': 14326, '屈指': 14327, '援護': 14328, '斜め': 14329, '狭く': 14330, '献上': 14331, '現し': 14332, '確信': 14333, '立た': 14334, '苦労': 14335, '蝦夷': 14336, '遭い': 14337, '##ガール': 14338, '##ダード': 14339, '##パウロ': 14340, '##ated': 14341, '##form': 14342, '##ling': 14343, 'セリフ': 14344, '##ソニック': 14345, '##ルタント': 14346, '(\"\")': 14347, 'シャープ': 14348, 'スパルタ': 14349, 'ダイエー': 14350, '##バイジャン': 14351, 'Super': 14352, 'バンクーバー': 14353, '##ュルテンベルク': 14354, '喉': 14355, '祇': 14356, '胆': 14357, '##のぼ': 14358, '##ゲー': 14359, '##タリ': 14360, '##mer': 14361, 'PD': 14362, 'いん': 14363, 'のう': 14364, 'まね': 14365, '一宮': 14366, '住職': 14367, '傭兵': 14368, '八重': 14369, '切手': 14370, '判例': 14371, '区立': 14372, '台本': 14373, '対局': 14374, '山手': 14375, '掃海': 14376, '支障': 14377, '武術': 14378, '物件': 14379, '艦載': 14380, '静止': 14381, '##製作所': 14382, '##ille': 14383, 'Tra': 14384, 'どおり': 14385, 'フロン': 14386, 'マツダ': 14387, 'リヴァ': 14388, 'レバー': 14389, '見込み': 14390, 'いろいろ': 14391, 'アイオワ': 14392, 'インフラ': 14393, 'ウイング': 14394, 'バロック': 14395, 'ベテラン': 14396, 'ロータリー': 14397, 'エージェント': 14398, 'コマーシャル': 14399, 'Android': 14400, 'アゼルバイジャン': 14401, 'Billboard': 14402, '寵': 14403, '怖': 14404, '萬': 14405, '##だし': 14406, '##グア': 14407, 'FO': 14408, 'わざ': 14409, 'ケア': 14410, '匹敵': 14411, '年俸': 14412, '庇護': 14413, '松原': 14414, '機雷': 14415, '自伝': 14416, '葬ら': 14417, '襲っ': 14418, '訳さ': 14419, '踊る': 14420, '車輌': 14421, '連行': 14422, '防護': 14423, '##ファミ': 14424, '##ファル': 14425, '##モンズ': 14426, '##落とし': 14427, 'わかり': 14428, 'マクド': 14429, 'ロット': 14430, '...」': 14431, 'High': 14432, 'レバノン': 14433, '取り組む': 14434, 'WORLD': 14435, 'に当たって': 14436, 'ストライキ': 14437, 'フェルディ': 14438, 'ニューオーリンズ': 14439, '叢': 14440, '湊': 14441, '##カレ': 14442, '##テー': 14443, '##越え': 14444, '##ECT': 14445, '##amb': 14446, 'Im': 14447, 'WA': 14448, 'まき': 14449, 'ハマ': 14450, '伴奏': 14451, '入選': 14452, '大川': 14453, '大映': 14454, '推力': 14455, '救命': 14456, '月間': 14457, '炭酸': 14458, '番付': 14459, '称賛': 14460, '経費': 14461, '艦橋': 14462, '荷重': 14463, '迫害': 14464, '離陸': 14465, '電灯': 14466, '飛鳥': 14467, '鳥羽': 14468, 'まけん': 14469, 'アンモ': 14470, 'リボン': 14471, '交わし': 14472, '保守党': 14473, '書き下': 14474, '水曜日': 14475, 'カセット': 14476, 'フォーム': 14477, 'ヘブライ': 14478, '受け取る': 14479, '差し替え': 14480, '引き継ぎ': 14481, '##カンパニー': 14482, '##ブラザーズ': 14483, 'Black': 14484, 'National': 14485, 'u': 14486, '廟': 14487, '硝': 14488, '菱': 14489, '鰭': 14490, '##ベラ': 14491, '##ヶ谷': 14492, '##産業': 14493, 'かき': 14494, 'ブン': 14495, '伝送': 14496, '史実': 14497, '大同': 14498, '太夫': 14499, '容姿': 14500, '巡航': 14501, '強固': 14502, '戻す': 14503, '村山': 14504, '松浦': 14505, '機密': 14506, '洋画': 14507, '発進': 14508, '祭祀': 14509, '積載': 14510, '絶賛': 14511, '##グルス': 14512, 'Int': 14513, 'きょく': 14514, 'じゅん': 14515, 'ハノー': 14516, 'バリア': 14517, 'ミャン': 14518, '見受け': 14519, '貧しい': 14520, '##テナンス': 14521, '1857': 14522, 'もっぱら': 14523, 'マイナス': 14524, '持ち込ま': 14525, '早くから': 14526, '間に合わ': 14527, '##メーション': 14528, 'アクティブ': 14529, 'パトリック': 14530, 'アンダーソン': 14531, 'チョコレート': 14532, 'ニックネーム': 14533, 'サウスカロライナ': 14534, '〕': 14535, '怠': 14536, '晒': 14537, '##グゼ': 14538, '##マニ': 14539, '##高い': 14540, '##ave': 14541, 'さす': 14542, 'すず': 14543, 'ホモ': 14544, '伯父': 14545, '備前': 14546, '円筒': 14547, '北大': 14548, '回帰': 14549, '国府': 14550, '大社': 14551, '定時': 14552, '慰安': 14553, '手塚': 14554, '次長': 14555, '潜在': 14556, '破る': 14557, '神秘': 14558, '薄く': 14559, '衣服': 14560, '転移': 14561, 'Mod': 14562, 'Off': 14563, 'アイン': 14564, '明かさ': 14565, '##ボーイズ': 14566, 'TOUR': 14567, 'イエロー': 14568, '引き受け': 14569, 'パイオニア': 14570, 'ミャンマー': 14571, 'アップデート': 14572, 'フィレンツェ': 14573, '##UD': 14574, '憤': 14575, '扮': 14576, '##おう': 14577, '##が丘': 14578, '##介石': 14579, '##継ぎ': 14580, '##通信': 14581, 'At': 14582, 'LT': 14583, 'だら': 14584, 'ノア': 14585, '低温': 14586, '劇的': 14587, '天台': 14588, '天満': 14589, '実権': 14590, '廃業': 14591, '推計': 14592, '極限': 14593, '翌月': 14594, '聴い': 14595, '苦手': 14596, '菩提': 14597, '討論': 14598, '通用': 14599, '##サール': 14600, 'JCT': 14601, 'かたち': 14602, 'スノー': 14603, '分かり': 14604, '蒋介石': 14605, '##スタイル': 14606, 'NEWS': 14607, '乗り出し': 14608, 'ブレーブス': 14609, '##ネットワーク': 14610, 'キリスト教徒': 14611, '##AF': 14612, '仔': 14613, '?)': 14614, 'あか': 14615, 'くろ': 14616, 'すい': 14617, 'たつ': 14618, 'カ月': 14619, 'スワ': 14620, 'テュ': 14621, 'テー': 14622, '一括': 14623, '入ら': 14624, '兵員': 14625, '別府': 14626, '尾崎': 14627, '東端': 14628, '由紀': 14629, '発案': 14630, '石橋': 14631, '路上': 14632, '軍令': 14633, '鉱業': 14634, '電荷': 14635, '##ッスン': 14636, '##ットル': 14637, 'One': 14638, 'うがっ': 14639, 'こども': 14640, 'アポロ': 14641, 'マクロ': 14642, 'ISBN': 14643, 'サウジア': 14644, 'テナント': 14645, 'ベートー': 14646, '望ましい': 14647, 'ディフェン': 14648, 'カンファレンス': 14649, 'コンサルタント': 14650, '##UL': 14651, '##YA': 14652, '宜': 14653, '漸': 14654, '荻': 14655, '##たす': 14656, '##ぶり': 14657, '##オラ': 14658, '##ゼー': 14659, '##タク': 14660, '##植物': 14661, '##inc': 14662, 'かれ': 14663, 'ざわ': 14664, 'みせ': 14665, 'アロ': 14666, '不当': 14667, '大別': 14668, '大村': 14669, '挙兵': 14670, '春秋': 14671, '末端': 14672, '草原': 14673, '遠い': 14674, '遥か': 14675, '閉館': 14676, '##ナート': 14677, 'Mot': 14678, 'コリン': 14679, 'パール': 14680, 'マディ': 14681, 'リンパ': 14682, '中国語': 14683, '##チカット': 14684, '##ラミッド': 14685, 'アンディ': 14686, 'サヨナラ': 14687, 'ライブラリ': 14688, 'サウジアラビア': 14689, '訂': 14690, '##ラグ': 14691, '##ita': 14692, 'イカ': 14693, 'ウマ': 14694, '伝導': 14695, '呈し': 14696, '商会': 14697, '外さ': 14698, '完璧': 14699, '崩し': 14700, '年月': 14701, '揚げ': 14702, '放火': 14703, '次回': 14704, '永井': 14705, '注釈': 14706, '海老': 14707, '留め': 14708, '簡素': 14709, '美女': 14710, '諮問': 14711, '豊後': 14712, '速い': 14713, '野戦': 14714, '順に': 14715, '飲ん': 14716, '##ライス': 14717, '##ランカ': 14718, '##レブン': 14719, '##大震災': 14720, '##自治体': 14721, '##ited': 14722, '%)、': 14723, 'Ind': 14724, 'VHS': 14725, 'プリント': 14726, 'レポート': 14727, '##イクスピア': 14728, 'あくまでも': 14729, 'アルバート': 14730, 'クリスティ': 14731, '地方自治体': 14732, '関東大震災': 14733, 'Associ': 14734, 'ウラジーミル': 14735, 'モーツァルト': 14736, '##ner': 14737, 'なみ': 14738, 'ピカ': 14739, '勇気': 14740, '大差': 14741, '強烈': 14742, '急進': 14743, '抗体': 14744, '抜い': 14745, '揺れ': 14746, '教鞭': 14747, '新築': 14748, '新造': 14749, '施策': 14750, '旧来': 14751, '百科': 14752, '知人': 14753, '美し': 14754, '賃貸': 14755, '転身': 14756, '##ギニア': 14757, 'テリー': 14758, 'バッハ': 14759, 'ヒント': 14760, 'ヴェー': 14761, '食べ物': 14762, '1300': 14763, 'カリブ海': 14764, 'クラリネット': 14765, '杭': 14766, '畜': 14767, '稿': 14768, '##チネ': 14769, '##ミナ': 14770, '##ヴル': 14771, '##神社': 14772, 'BE': 14773, 'あお': 14774, 'ラフ': 14775, '代打': 14776, '催さ': 14777, '出世': 14778, '反動': 14779, '反抗': 14780, '妥協': 14781, '小樽': 14782, '屋台': 14783, '庄内': 14784, '延喜': 14785, '強硬': 14786, '揚陸': 14787, '朗読': 14788, '栄誉': 14789, '法華': 14790, '田原': 14791, '矢野': 14792, '終焉': 14793, '頼っ': 14794, '飼い': 14795, '##ウェン': 14796, '##レーツ': 14797, 'ふたり': 14798, 'エヴァ': 14799, 'チャイ': 14800, 'ネズミ': 14801, 'ピース': 14802, '##ホークス': 14803, 'ふるさと': 14804, 'リタイア': 14805, '繰り返さ': 14806, 'コネチカット': 14807, 'トランペット': 14808, 'ハイビジョン': 14809, 'ブリュッセル': 14810, '##yc': 14811, '漬': 14812, '烈': 14813, '鯨': 14814, '##ばん': 14815, '##よそ': 14816, '##ッホ': 14817, '##レラ': 14818, '##光寺': 14819, '##ARD': 14820, '##ERS': 14821, 'CT': 14822, 'Vo': 14823, 'me': 14824, 'まえ': 14825, 'れん': 14826, 'モス': 14827, '上る': 14828, '代用': 14829, '会う': 14830, '劣る': 14831, '勝者': 14832, '学級': 14833, '安永': 14834, '完封': 14835, '常連': 14836, '強大': 14837, '未知': 14838, '末裔': 14839, '松江': 14840, '歩き': 14841, '混血': 14842, '灌漑': 14843, '燃え': 14844, '生誕': 14845, '緑地': 14846, '観戦': 14847, '貼り': 14848, '赤道': 14849, '近海': 14850, '迫ら': 14851, '釧路': 14852, '長寿': 14853, '長尾': 14854, '預金': 14855, '飛ぶ': 14856, '##コンク': 14857, '##チウム': 14858, 'DOS': 14859, 'Pol': 14860, 'エール': 14861, 'オンタ': 14862, 'マール': 14863, '三国志': 14864, '旅客機': 14865, '旗揚げ': 14866, '真言宗': 14867, '##チャート': 14868, '##フランス': 14869, '##ボックス': 14870, 'ともない': 14871, 'ディープ': 14872, '##ations': 14873, 'オールナイト': 14874, '嗜': 14875, '扁': 14876, '緯': 14877, '##ゃく': 14878, '##クイ': 14879, '##コタ': 14880, '##使い': 14881, '.」': 14882, ':、': 14883, 'Li': 14884, 'ひき': 14885, 'コク': 14886, 'ラク': 14887, '不自': 14888, '中道': 14889, '主戦': 14890, '伊丹': 14891, '共鳴': 14892, '手動': 14893, '文脈': 14894, '曜日': 14895, '汽船': 14896, '海防': 14897, '版画': 14898, '総括': 14899, '落成': 14900, '表情': 14901, '音色': 14902, '##イオス': 14903, '##ンシー': 14904, 'MAX': 14905, '富士山': 14906, '枠組み': 14907, '起こさ': 14908, 'エリート': 14909, 'ギャング': 14910, 'ロベルト': 14911, '中央大学': 14912, '##フィシャル': 14913, '##プレックス': 14914, '##ルツブルク': 14915, 'サイエンス': 14916, 'パラメータ': 14917, 'プリンセス': 14918, 'メカニズム': 14919, '##キャラクター': 14920, '##レーティング': 14921, '##ーマーケット': 14922, 'Christ': 14923, 'ウズベキスタン': 14924, 'シェイクスピア': 14925, 'ベートーヴェン': 14926, 'ディーゼルエンジン': 14927, '##yo': 14928, '〇': 14929, '凄': 14930, '咸': 14931, '柵': 14932, '榎': 14933, '##ぎり': 14934, '##コレ': 14935, '##ペス': 14936, 'GU': 14937, 'TE': 14938, 'ばね': 14939, 'エマ': 14940, 'オセ': 14941, 'ザン': 14942, '丸山': 14943, '体長': 14944, '光線': 14945, '培養': 14946, '実習': 14947, '市制': 14948, '帰郷': 14949, '平田': 14950, '待た': 14951, '戦列': 14952, '最期': 14953, '松尾': 14954, '米沢': 14955, '脅迫': 14956, '脆弱': 14957, '莫大': 14958, '藤本': 14959, '衰え': 14960, '躍進': 14961, '開口': 14962, '隠さ': 14963, '飛躍': 14964, '養殖': 14965, '##ザース': 14966, '##ital': 14967, 'ニール': 14968, 'ポテン': 14969, 'ラファ': 14970, '何とか': 14971, '大将軍': 14972, '強かっ': 14973, '明るく': 14974, '暴力団': 14975, '知らさ': 14976, '逃れる': 14977, '##ダービー': 14978, 'サーバー': 14979, 'ファイター': 14980, 'ヴュルテンベルク': 14981, '##ya': 14982, '柿': 14983, '疫': 14984, '鎧': 14985, '##がけ': 14986, '##タケ': 14987, '##バオ': 14988, '##記念': 14989, 'Cr': 14990, 'HO': 14991, 'ro': 14992, 'すご': 14993, 'ふみ': 14994, 'サテ': 14995, 'リマ': 14996, '不二': 14997, '合作': 14998, '宝永': 14999, '早々': 15000, '時々': 15001, '未遂': 15002, '脱走': 15003, '軍部': 15004, '辺り': 15005, '通達': 15006, '過酷': 15007, '青銅': 15008, '##コーラ': 15009, '##トゥス': 15010, '##ヒドロ': 15011, '##ードル': 15012, '203': 15013, '270': 15014, 'War': 15015, 'チーズ': 15016, 'プロパ': 15017, 'ヴィン': 15018, '仕える': 15019, '留まる': 15020, '緩やか': 15021, '##フレーズ': 15022, '##電気鉄道': 15023, '2500': 15024, 'Girl': 15025, 'グスタフ': 15026, 'シュトゥ': 15027, 'ソニック': 15028, 'メンテナンス': 15029, '##だけ': 15030, '##らん': 15031, '##エリ': 15032, '##ズス': 15033, '##レチ': 15034, '):': 15035, 'GB': 15036, 'あつ': 15037, 'ささ': 15038, 'なぞ': 15039, 'ゴミ': 15040, '一流': 15041, '上皇': 15042, '人名': 15043, '体積': 15044, '反則': 15045, '右派': 15046, '啓蒙': 15047, '変速': 15048, '客観': 15049, '山陰': 15050, '欠陥': 15051, '混在': 15052, '炎上': 15053, '点数': 15054, '燃費': 15055, '転属': 15056, '隷下': 15057, '頓挫': 15058, '##ブロン': 15059, 'なんて': 15060, 'シンセ': 15061, 'ディア': 15062, 'パンタ': 15063, 'リビア': 15064, '天王寺': 15065, '逃げる': 15066, '遊撃手': 15067, '##ストリー': 15068, '##ンドルフ': 15069, 'デイリー': 15070, 'ピストン': 15071, '知り合っ': 15072, 'テクニック': 15073, 'ピラミッド': 15074, 'マニュアル': 15075, '##こと': 15076, '##ざし': 15077, '##ベー': 15078, '##lor': 15079, '##ors': 15080, 'IM': 15081, 'mg': 15082, 'しげ': 15083, 'はく': 15084, 'ウン': 15085, 'ホウ': 15086, 'ログ': 15087, '儲け': 15088, '反省': 15089, '叙せ': 15090, '各所': 15091, '学芸': 15092, '対談': 15093, '屋上': 15094, '工法': 15095, '換算': 15096, '日比': 15097, '明和': 15098, '死傷': 15099, '気分': 15100, '浸水': 15101, '消火': 15102, '痛め': 15103, '相応': 15104, '私的': 15105, '耐性': 15106, '野口': 15107, '陽子': 15108, '##エント': 15109, '##ストル': 15110, '##ーマル': 15111, '##eral': 15112, 'アース': 15113, 'マック': 15114, 'リフト': 15115, '##フェクト': 15116, 'ヴォーカル': 15117, 'パナソニック': 15118, 'スーパーマーケット': 15119, '瞳': 15120, '葵': 15121, '鈍': 15122, '閑': 15123, '##世代': 15124, '##十字': 15125, '##進党': 15126, '##oss': 15127, 'カワ': 15128, '一因': 15129, '一躍': 15130, '両社': 15131, '久々': 15132, '伝播': 15133, '促し': 15134, '充て': 15135, '原画': 15136, '反響': 15137, '合弁': 15138, '太政': 15139, '支那': 15140, '浅い': 15141, '減速': 15142, '準拠': 15143, '照射': 15144, '着目': 15145, '稼動': 15146, '納め': 15147, '素子': 15148, '豪雨': 15149, '都営': 15150, '金色': 15151, '##イトン': 15152, '##ップス': 15153, '##ニーズ': 15154, '##フライ': 15155, '##duct': 15156, 'col': 15157, 'von': 15158, 'コナミ': 15159, 'サイク': 15160, 'デリー': 15161, 'ハット': 15162, '公明党': 15163, '四日市': 15164, '行き来': 15165, '##バイザー': 15166, '##バイバル': 15167, '##リンゲン': 15168, 'おおよそ': 15169, 'モーリス': 15170, 'ルドルフ': 15171, 'アカウント': 15172, 'ソーシャル': 15173, 'インターハイ': 15174, '夷': 15175, '欽': 15176, '燈': 15177, '碁': 15178, '蜀': 15179, '酔': 15180, '髄': 15181, '-」': 15182, 'AF': 15183, 'うし': 15184, 'くち': 15185, '下級': 15186, '付着': 15187, '休憩': 15188, '元首': 15189, '再戦': 15190, '包ま': 15191, '友情': 15192, '商号': 15193, '城内': 15194, '子音': 15195, '工兵': 15196, '往来': 15197, '掘削': 15198, '旧暦': 15199, '書房': 15200, '欠け': 15201, '消耗': 15202, '満点': 15203, '白鳥': 15204, '祀ら': 15205, '細い': 15206, '補正': 15207, '近傍': 15208, '進ま': 15209, '開花': 15210, '食物': 15211, '##クラス': 15212, '##ッラー': 15213, '330': 15214, 'EMI': 15215, 'Pet': 15216, 'のび太': 15217, 'ルター': 15218, 'レイア': 15219, '世界一': 15220, '目覚め': 15221, '高まる': 15222, 'Geor': 15223, 'キャロル': 15224, 'フォート': 15225, 'プエルト': 15226, 'ミシェル': 15227, 'ワクチン': 15228, '生み出さ': 15229, 'ウルグアイ': 15230, 'サンパウロ': 15231, 'パーソナル': 15232, 'ファミコン': 15233, '社会民主党': 15234, '阪神タイガース': 15235, '##PC': 15236, '##ze': 15237, '濱': 15238, '窪': 15239, '譚': 15240, '##付い': 15241, '##落ち': 15242, 'wh': 15243, 'かす': 15244, 'イヌ': 15245, '下表': 15246, '下降': 15247, '供養': 15248, '便利': 15249, '催し': 15250, '入国': 15251, '冷凍': 15252, '出題': 15253, '埴輪': 15254, '対面': 15255, '岩石': 15256, '後進': 15257, '悩み': 15258, '法科': 15259, '解く': 15260, '金山': 15261, '##ベガス': 15262, 'Sec': 15263, 'そうい': 15264, 'ついで': 15265, 'どころ': 15266, 'インク': 15267, 'ケープ': 15268, 'トゥー': 15269, 'ドック': 15270, '主たる': 15271, '全盛期': 15272, '次世代': 15273, '歌合戦': 15274, '近づく': 15275, '##ウンテン': 15276, '##ナリズム': 15277, '##ブリエル': 15278, '##メンタル': 15279, 'インド洋': 15280, 'グラミー': 15281, 'シャフト': 15282, 'ホルモン': 15283, '義務付け': 15284, 'アンケート': 15285, 'ウォルター': 15286, 'ローレンス': 15287, 'フェニックス': 15288, 'メリーランド': 15289, '樽': 15290, '股': 15291, '##ムル': 15292, '##メス': 15293, '##次官': 15294, '##督教': 15295, 'われ': 15296, 'アパ': 15297, 'イソ': 15298, 'ゲオ': 15299, 'ココ': 15300, 'コパ': 15301, 'ジル': 15302, 'ママ': 15303, '先制': 15304, '共著': 15305, '北野': 15306, '大原': 15307, '宮古': 15308, '川島': 15309, '帰属': 15310, '手間': 15311, '望み': 15312, '渡さ': 15313, '渡米': 15314, '祈願': 15315, '紀州': 15316, '艦上': 15317, '覆う': 15318, '詩集': 15319, '請け': 15320, '##ケーン': 15321, '##テック': 15322, '##プラン': 15323, '##ルトゥ': 15324, 'Can': 15325, 'Sou': 15326, 'シャル': 15327, 'デッド': 15328, 'バリー': 15329, 'ヒドロ': 15330, 'ポピュ': 15331, '##フォール': 15332, 'レーニン': 15333, '##ツィオーネ': 15334, 'ヒンドゥー': 15335, 'アルフレッド': 15336, 'カザフスタン': 15337, 'ライプツィヒ': 15338, 'キャッチフレーズ': 15339, '伽': 15340, '嶋': 15341, '舵': 15342, '醤': 15343, '鉢': 15344, '##ッロ': 15345, '##リナ': 15346, '##行き': 15347, 'AB': 15348, 'To': 15349, 'un': 15350, 'かし': 15351, 'イザ': 15352, 'コソ': 15353, 'サバ': 15354, '供与': 15355, '公営': 15356, '前頭': 15357, '北海': 15358, '却下': 15359, '収監': 15360, '同値': 15361, '囚人': 15362, '安置': 15363, '官吏': 15364, '戦功': 15365, '手数': 15366, '抱く': 15367, '斬り': 15368, '日高': 15369, '棄権': 15370, '海運': 15371, '演目': 15372, '火器': 15373, '血統': 15374, '覚醒': 15375, '誘わ': 15376, '連想': 15377, '雷撃': 15378, '##ンガル': 15379, '##bert': 15380, '650': 15381, 'Bro': 15382, 'USA': 15383, 'この世': 15384, 'ウルフ': 15385, 'コンペ': 15386, 'ポニー': 15387, '気づい': 15388, '穏やか': 15389, '見かけ': 15390, '親しく': 15391, '##タイムズ': 15392, '##レーベル': 15393, '##aster': 15394, 'Cont': 15395, 'アラバマ': 15396, 'サンダー': 15397, 'タイガー': 15398, 'ランナー': 15399, '打ち出し': 15400, '振る舞い': 15401, '瀬戸内海': 15402, 'サブタイトル': 15403, 'クライマックス': 15404, '侮': 15405, '堪': 15406, '捻': 15407, '砕': 15408, '聯': 15409, '鞭': 15410, '##コブ': 15411, '##急行': 15412, '##炭素': 15413, 'いこ': 15414, 'ヒン': 15415, '一色': 15416, '北口': 15417, '執っ': 15418, '富裕': 15419, '敢行': 15420, '母校': 15421, '民家': 15422, '総監': 15423, '致命': 15424, '請願': 15425, '赴き': 15426, '長門': 15427, '顕彰': 15428, '##サリン': 15429, '##ダイス': 15430, '##ハート': 15431, '##ブレー': 15432, 'Gra': 15433, 'Mon': 15434, 'ケニア': 15435, 'プラグ': 15436, 'ホップ': 15437, '悲しみ': 15438, '火曜日': 15439, '聞こえ': 15440, '赤外線': 15441, '1700': 15442, '1820': 15443, 'トレイン': 15444, '引き継ぐ': 15445, '無くなっ': 15446, 'オンタリオ': 15447, 'トライアル': 15448, 'ニュートン': 15449, 'アメリカンフットボール': 15450, '##OK': 15451, '卑': 15452, '只': 15453, '煉': 15454, '牌': 15455, '筐': 15456, '##じょ': 15457, '##シマ': 15458, '##ナビ': 15459, '##好き': 15460, 'GE': 15461, 'Gl': 15462, 'カク': 15463, '下総': 15464, '不具': 15465, '停泊': 15466, '克服': 15467, '劣化': 15468, '原告': 15469, '増幅': 15470, '売春': 15471, '妨げ': 15472, '委任': 15473, '導か': 15474, '戦中': 15475, '接着': 15476, '新井': 15477, '森田': 15478, '法典': 15479, '溶接': 15480, '疎開': 15481, '碑文': 15482, '練馬': 15483, '荒木': 15484, '親方': 15485, '負債': 15486, '貯水': 15487, '超過': 15488, '転々': 15489, '輝く': 15490, '長調': 15491, '集計': 15492, '##アーノ': 15493, '##チャル': 15494, '##ディネ': 15495, '##ラップ': 15496, '##ロップ': 15497, '##inal': 15498, 'Act': 15499, 'いくら': 15500, 'さらさ': 15501, 'つなぐ': 15502, 'シュタ': 15503, 'マリン': 15504, 'レアル': 15505, '代名詞': 15506, '裏切り': 15507, '##ウォーズ': 15508, 'クリーム': 15509, 'Award': 15510, 'そういった': 15511, 'イースタン': 15512, 'キロワット': 15513, '姪': 15514, '尹': 15515, '惟': 15516, '耶': 15517, '諭': 15518, '鵜': 15519, '##クー': 15520, '##ゴラ': 15521, '##ノミ': 15522, '##メド': 15523, '##sch': 15524, '一周': 15525, '割れ': 15526, '割譲': 15527, '可愛': 15528, '大連': 15529, '屋内': 15530, '志望': 15531, '憲章': 15532, '打診': 15533, '押す': 15534, '権現': 15535, '流す': 15536, '流体': 15537, '為替': 15538, '王政': 15539, '菅原': 15540, '誌上': 15541, '農園': 15542, '遊園': 15543, '飲む': 15544, '##きょく': 15545, '##シェン': 15546, '##モード': 15547, 'FOR': 15548, 'ジャワ': 15549, 'ランカ': 15550, '当ては': 15551, '##ハーゲン': 15552, '1855': 15553, '1856': 15554, 'カップル': 15555, 'クラッシュ': 15556, 'ガイドライン': 15557, '##AZ': 15558, '{': 15559, '崔': 15560, '戊': 15561, '挺': 15562, '##ペー': 15563, '##OCA': 15564, 'MM': 15565, 'ツェ': 15566, '同書': 15567, '噴射': 15568, '奇襲': 15569, '対比': 15570, '山東': 15571, '市区': 15572, '幽霊': 15573, '性別': 15574, '挑ん': 15575, '提言': 15576, '斉藤': 15577, '日刊': 15578, '棄却': 15579, '牛乳': 15580, '突出': 15581, '証人': 15582, '金田': 15583, '##ブレム': 15584, '##work': 15585, 'POP': 15586, 'REC': 15587, 'フアン': 15588, 'フォト': 15589, 'メッツ': 15590, '楽しみ': 15591, '終わら': 15592, '##ンバーグ': 15593, '##民主主義': 15594, 'エフエム': 15595, '##レーシング': 15596, 'スピンオフ': 15597, 'ペンネーム': 15598, '中央アジア': 15599, 'スティーヴン': 15600, '朝鮮民主主義': 15601, '朝鮮民主主義人民共和国': 15602, '\\\\': 15603, '遵': 15604, '##ぱい': 15605, '##スワ': 15606, '##ツキ': 15607, '##遅れ': 15608, '##ese': 15609, 'HS': 15610, 'as': 15611, 'di': 15612, 'あわ': 15613, 'サマ': 15614, 'ツー': 15615, '上司': 15616, '二郎': 15617, '交配': 15618, '倒さ': 15619, '受講': 15620, '同義': 15621, '基板': 15622, '天候': 15623, '女流': 15624, '寿司': 15625, '常用': 15626, '後見': 15627, '慣例': 15628, '批准': 15629, '支出': 15630, '椅子': 15631, '様相': 15632, '洛陽': 15633, '溶液': 15634, '用法': 15635, '相馬': 15636, '秋季': 15637, '著述': 15638, '豊川': 15639, '##サリー': 15640, '##テープ': 15641, 'VTR': 15642, 'めぐり': 15643, 'アング': 15644, 'チュニ': 15645, 'チョウ': 15646, 'ベラル': 15647, '架かる': 15648, '##スティン': 15649, 'ちょっと': 15650, 'ドジャース': 15651, '##コミュニケーション': 15652, 'エンターテイメント': 15653, '拷': 15654, '絆': 15655, '芥': 15656, '##ァー': 15657, '##ウマ': 15658, '##ギル': 15659, '##金属': 15660, '##ral': 15661, 'LS': 15662, 'Wr': 15663, 'びん': 15664, 'カニ': 15665, 'ピュ': 15666, '亀山': 15667, '勝つ': 15668, '域内': 15669, '宗派': 15670, '実数': 15671, '尽く': 15672, '山名': 15673, '平家': 15674, '役所': 15675, '拡充': 15676, '木下': 15677, '溶解': 15678, '炎症': 15679, '玉川': 15680, '異議': 15681, '負い': 15682, '返済': 15683, '開閉': 15684, '馬主': 15685, '##ゾーン': 15686, '##テット': 15687, '##ムント': 15688, 'インデ': 15689, 'カンタ': 15690, 'マザー': 15691, '反する': 15692, '満たさ': 15693, '細長い': 15694, '##キャップ': 15695, 'Tour': 15696, 'カーネル': 15697, 'グラント': 15698, '##ウィリアム': 15699, 'アドバイス': 15700, 'チャーリー': 15701, '二酸化炭素': 15702, '霜': 15703, '##ばこ': 15704, '##ウリ': 15705, '##亡人': 15706, 'Hi': 15707, 'he': 15708, 'そろ': 15709, 'まっ': 15710, 'ヒュ': 15711, '三宅': 15712, '仮称': 15713, '始祖': 15714, '尾根': 15715, '尾翼': 15716, '市原': 15717, '希少': 15718, '弱点': 15719, '振付': 15720, '有形': 15721, '次女': 15722, '溶け': 15723, '硫酸': 15724, '立花': 15725, '赤穂': 15726, '返上': 15727, '通話': 15728, '逝去': 15729, '遊牧': 15730, '##コンド': 15731, '##ブレイ': 15732, '##リアー': 15733, 'RNA': 15734, 'カイロ': 15735, '一般人': 15736, '富士見': 15737, '未亡人': 15738, '未成年': 15739, '本願寺': 15740, '止まり': 15741, '##フォンソ': 15742, '...。': 15743, 'またがる': 15744, 'カヴァー': 15745, '東北大学': 15746, '##ティーリャ': 15747, 'スピーカー': 15748, 'ダンジョン': 15749, 'フランチャ': 15750, 'ラスベガス': 15751, 'フラツィオーネ': 15752, '##AB': 15753, '罹': 15754, '翁': 15755, '隕': 15756, '##じり': 15757, '##の間': 15758, '##ィー': 15759, '##戻し': 15760, 'se': 15761, 'ふん': 15762, 'シリ': 15763, '一線': 15764, '休戦': 15765, '偽装': 15766, '合宿': 15767, '国交': 15768, '国宝': 15769, '弱体': 15770, '打倒': 15771, '拷問': 15772, '捕鯨': 15773, '激突': 15774, '異端': 15775, '算出': 15776, '粛清': 15777, '美人': 15778, '藩政': 15779, '見れ': 15780, '退場': 15781, '飛ん': 15782, '高騰': 15783, '##スコン': 15784, '##ダック': 15785, '##レイン': 15786, 'CBS': 15787, 'うどん': 15788, 'スウィ': 15789, 'ピック': 15790, 'ワード': 15791, '不具合': 15792, '取り巻': 15793, '果たせ': 15794, '相模原': 15795, '試みる': 15796, '間違っ': 15797, 'Xbox': 15798, 'カリウム': 15799, 'プラズマ': 15800, 'ミハイル': 15801, '取り戻す': 15802, '##チェスター': 15803, 'Night': 15804, 'キャサリン': 15805, 'ニッポン放送': 15806, 'o': 15807, '奄': 15808, '宙': 15809, '誉': 15810, '陪': 15811, 'EL': 15812, 'Mr': 15813, 'OH': 15814, 'ar': 15815, 'しめ': 15816, 'ナル': 15817, 'ホリ': 15818, '人的': 15819, '信念': 15820, '古賀': 15821, '寸法': 15822, '幕僚': 15823, '廉価': 15824, '戦法': 15825, '沈ん': 15826, '色素': 15827, '覚悟': 15828, '言動': 15829, '転居': 15830, '部会': 15831, '門司': 15832, '開港': 15833, '##ンスト': 15834, '##ions': 15835, 'ONE': 15836, 'やり方': 15837, 'ロビー': 15838, '中性子': 15839, '愛する': 15840, '数える': 15841, '近づい': 15842, '途絶え': 15843, '##工業大学': 15844, 'リベラル': 15845, 'レッスン': 15846, '働きかけ': 15847, '##ッティング': 15848, 'Techn': 15849, 'ジェイソン': 15850, 'トレーナー': 15851, 'シューティング': 15852, 'ストックホルム': 15853, 'オペレーティング': 15854, '峯': 15855, '##ボス': 15856, '##ロア': 15857, '##目的': 15858, '##ena': 15859, ')→': 15860, 'あふ': 15861, 'めん': 15862, 'セネ': 15863, 'ハチ': 15864, 'ブダ': 15865, 'ラヴ': 15866, '万国': 15867, '保留': 15868, '別途': 15869, '北斗': 15870, '噴出': 15871, '大事': 15872, '大垣': 15873, '失踪': 15874, '幕内': 15875, '弾丸': 15876, '江東': 15877, '神父': 15878, '聖地': 15879, '見習': 15880, '貸切': 15881, '転倒': 15882, '軽く': 15883, '頭取': 15884, 'エッジ': 15885, '文化庁': 15886, '見通し': 15887, '過ぎる': 15888, '重ねる': 15889, 'いっぱい': 15890, 'アッパー': 15891, 'イスタン': 15892, 'シンシナ': 15893, 'ルクセン': 15894, '##スティック': 15895, 'フランクリン': 15896, '##プロダクション': 15897, '撫': 15898, '鍾': 15899, '##ガタ': 15900, '##如来': 15901, '##山脈': 15902, '##本木': 15903, '##楽器': 15904, 'Fe': 15905, 'みの': 15906, 'ゲン': 15907, 'テイ': 15908, 'ナノ': 15909, '並列': 15910, '人道': 15911, '他者': 15912, '例年': 15913, '公団': 15914, '勝敗': 15915, '千秋': 15916, '南口': 15917, '古今': 15918, '同調': 15919, '圧勝': 15920, '圧迫': 15921, '声楽': 15922, '奄美': 15923, '孤児': 15924, '宇部': 15925, '形質': 15926, '本殿': 15927, '河合': 15928, '環礁': 15929, '発刊': 15930, '終始': 15931, '絞り': 15932, '製薬': 15933, '誤差': 15934, '重く': 15935, '閣議': 15936, '麻生': 15937, '##アーズ': 15938, '##ジュー': 15939, '##トゥー': 15940, '##ポルト': 15941, '##メンス': 15942, 'いたる': 15943, 'クロム': 15944, 'スズキ': 15945, '投げる': 15946, '西海岸': 15947, '1400': 15948, 'Mark': 15949, 'いきなり': 15950, 'クリーン': 15951, 'コロニー': 15952, 'ネルソン': 15953, '##ストロング': 15954, 'スローガン': 15955, 'ベラルーシ': 15956, 'リミックス': 15957, '##チャンピオン': 15958, 'シンシナティ': 15959, '##yr': 15960, '塞': 15961, '罷': 15962, '##興業': 15963, 'MD': 15964, 'MG': 15965, 'かま': 15966, 'オア': 15967, 'サク': 15968, 'サリ': 15969, 'ヘア': 15970, 'ムラ': 15971, 'ロブ': 15972, '万博': 15973, '年寄': 15974, '店頭': 15975, '握り': 15976, '文藝': 15977, '服部': 15978, '本丸': 15979, '東岸': 15980, '目録': 15981, '議決': 15982, '豪族': 15983, '造語': 15984, '金剛': 15985, '難航': 15986, '##ゴット': 15987, '##ジング': 15988, 'Mor': 15989, 'NBC': 15990, 'うかが': 15991, 'ちなむ': 15992, 'カジノ': 15993, 'ハッチ': 15994, '不適切': 15995, '先立っ': 15996, '##アイレス': 15997, '##ペディア': 15998, '##ative': 15999, 'オーダー': 16000, 'タンカー': 16001, '取り扱っ': 16002, 'メルボルン': 16003, 'ナイジェリア': 16004, 'ルクセンブルク': 16005, '嵯': 16006, '縛': 16007, '##がき': 16008, '##カゲ': 16009, '##バダ': 16010, '##ラヴ': 16011, '##ンビ': 16012, '##強い': 16013, 'つま': 16014, 'はい': 16015, 'みん': 16016, 'イマ': 16017, '不幸': 16018, '体型': 16019, '制裁': 16020, '名跡': 16021, '味噌': 16022, '地蔵': 16023, '大火': 16024, '届い': 16025, '嵯峨': 16026, '御家': 16027, '怒っ': 16028, '愛宕': 16029, '洗練': 16030, '派手': 16031, '潜入': 16032, '火事': 16033, '特産': 16034, '発令': 16035, '総領': 16036, '編制': 16037, '胸部': 16038, '脊椎': 16039, '興奮': 16040, '走者': 16041, '車掌': 16042, '辞書': 16043, '高圧': 16044, '##アーツ': 16045, '##グレイ': 16046, '\")、': 16047, 'ATP': 16048, 'わたっ': 16049, 'オリン': 16050, 'コイル': 16051, 'ピュー': 16052, 'ホルン': 16053, '苦しみ': 16054, '##デザイン': 16055, '##ーシスト': 16056, 'ますます': 16057, 'エーカー': 16058, 'クランク': 16059, 'チンギス': 16060, 'ポルシェ': 16061, 'ユニーク': 16062, '東海大学': 16063, '##キャニオン': 16064, '##ッディーン': 16065, '##デスリーガ': 16066, '東京ドーム': 16067, 'マッカーサー': 16068, 'タイトルマッチ': 16069, '佑': 16070, '##ある': 16071, '##がん': 16072, '##ジム': 16073, '##マツ': 16074, '##角形': 16075, 'LE': 16076, 'MI': 16077, 'am': 16078, 'しら': 16079, 'れい': 16080, '久米': 16081, '停滞': 16082, '効力': 16083, '動か': 16084, '四季': 16085, '壁画': 16086, '大小': 16087, '広め': 16088, '暴露': 16089, '書院': 16090, '本島': 16091, '榴弾': 16092, '浮き': 16093, '湖南': 16094, '無形': 16095, '物価': 16096, '素数': 16097, '細部': 16098, '聖歌': 16099, '西川': 16100, '規範': 16101, '部署': 16102, '隙間': 16103, '預言': 16104, '驚き': 16105, '##ットン': 16106, '##ニクス': 16107, '##ラシア': 16108, '##ロニア': 16109, '##ンドロ': 16110, 'WWF': 16111, 'シーク': 16112, 'パズル': 16113, '勘違い': 16114, '従兄弟': 16115, '海水浴': 16116, '答える': 16117, '苦しん': 16118, '##ウィック': 16119, '1832': 16120, 'チャネル': 16121, 'プラント': 16122, 'ロマンス': 16123, '##ンジャーズ': 16124, '##ージェンシー': 16125, 'ポテンシャル': 16126, '##コースティック': 16127, 'スタンフォード': 16128, 'ヴェストファーレン': 16129, '跋': 16130, '齢': 16131, '##ウキ': 16132, '##オロ': 16133, '##ジロ': 16134, '##app': 16135, 'Er': 16136, 'うじ': 16137, 'うら': 16138, 'さだ': 16139, 'すり': 16140, 'ナム': 16141, '一層': 16142, '一派': 16143, '中流': 16144, '仮に': 16145, '信玄': 16146, '加古': 16147, '可動': 16148, '営ん': 16149, '四郎': 16150, '多種': 16151, '奔走': 16152, '宿主': 16153, '平衡': 16154, '微妙': 16155, '成虫': 16156, '所沢': 16157, '松岡': 16158, '浪人': 16159, '激戦': 16160, '発光': 16161, '着け': 16162, '納得': 16163, '結社': 16164, '舞鶴': 16165, '色々': 16166, '軍政': 16167, '遭っ': 16168, '電信': 16169, '飲酒': 16170, '驚く': 16171, '##カメラ': 16172, '##シュト': 16173, '##スラー': 16174, '##ランプ': 16175, '##over': 16176, 'Ter': 16177, 'たけし': 16178, 'アンチ': 16179, 'クレア': 16180, 'コンピ': 16181, 'フェイ': 16182, 'マキノ': 16183, '良かっ': 16184, 'EURO': 16185, 'Port': 16186, 'クローン': 16187, 'セミナー': 16188, '##ルンベルク': 16189, 'Group': 16190, 'キャンセル': 16191, 'プロフィール': 16192, 'カスティーリャ': 16193, 'ジェファーソン': 16194, '##ha': 16195, '△': 16196, '恨': 16197, '斯': 16198, '逢': 16199, '##まか': 16200, '##仮名': 16201, '##der': 16202, '##ike': 16203, 'Ag': 16204, 'JT': 16205, 'ちの': 16206, 'やく': 16207, 'ジブ': 16208, '乗じ': 16209, '乙女': 16210, '争わ': 16211, '休業': 16212, '列挙': 16213, '初心': 16214, '初版': 16215, '厚く': 16216, '喜多': 16217, '大物': 16218, '妖精': 16219, '妥当': 16220, '志し': 16221, '早川': 16222, '理工': 16223, '畠山': 16224, '粘土': 16225, '若く': 16226, '視界': 16227, '進駐': 16228, '鉄筋': 16229, '閉塞': 16230, '顕微': 16231, '##ガルト': 16232, '##プリン': 16233, '##記念物': 16234, '##unes': 16235, 'トール': 16236, 'ノック': 16237, 'リール': 16238, '替わり': 16239, '細かく': 16240, '##コミック': 16241, '##シュヴァ': 16242, '##シュート': 16243, '##ホッケー': 16244, '##レックス': 16245, 'さかのぼ': 16246, 'イエズス': 16247, 'クロック': 16248, 'チャージ': 16249, 'ブエノス': 16250, '##フォーマー': 16251, 'ジャーナル': 16252, 'リポーター': 16253, '天然記念物': 16254, 'オフィシャル': 16255, 'ポートランド': 16256, 'マスメディア': 16257, '平方キロメートル': 16258, '冨': 16259, '凹': 16260, '央': 16261, '裾': 16262, '襄': 16263, '##かれ': 16264, '##ゲス': 16265, '##ヒド': 16266, '##処理': 16267, '##焼き': 16268, '##AST': 16269, '##ren': 16270, '##urn': 16271, 'ダウ': 16272, 'デハ': 16273, 'ネク': 16274, '余剰': 16275, '停戦': 16276, '優等': 16277, '充電': 16278, '出願': 16279, '動揺': 16280, '取水': 16281, '因む': 16282, '容認': 16283, '寺社': 16284, '移送': 16285, '腐敗': 16286, '語彙': 16287, '請負': 16288, '追及': 16289, '金星': 16290, '陽性': 16291, '隔て': 16292, '隕石': 16293, '響き': 16294, '##ちゅう': 16295, '##アット': 16296, '##ents': 16297, '.\")': 16298, 'ATM': 16299, 'それで': 16300, 'ダラス': 16301, '下げる': 16302, '理学部': 16303, '重なっ': 16304, '##サイザー': 16305, 'サイモン': 16306, 'チャップ': 16307, 'パケット': 16308, 'ブリティ': 16309, 'レーサー': 16310, '引っ越し': 16311, 'キーワード': 16312, 'ブリティッシュ': 16313, 'ブランデンブルク': 16314, 'オペレーティングシステム': 16315, '##BF': 16316, '##be': 16317, '罠': 16318, '##かつ': 16319, '##ケア': 16320, '##テラ': 16321, '##UND': 16322, '##ael': 16323, ':/': 16324, 'Fi': 16325, 'Jo': 16326, 'WH': 16327, 'オカ': 16328, 'ホン': 16329, 'メド': 16330, 'ヨシ': 16331, 'レア': 16332, '両立': 16333, '入党': 16334, '刷新': 16335, '加増': 16336, '勝て': 16337, '古事': 16338, '愛情': 16339, '担保': 16340, '掃除': 16341, '操業': 16342, '敗走': 16343, '本山': 16344, '水質': 16345, '注い': 16346, '洗浄': 16347, '混成': 16348, '清掃': 16349, '焼け': 16350, '猶予': 16351, '用紙': 16352, '真似': 16353, '競う': 16354, '給油': 16355, '落合': 16356, '説教': 16357, '転校': 16358, '速力': 16359, '遊歩': 16360, '配達': 16361, '陣屋': 16362, '養育': 16363, '黒海': 16364, '##ドライ': 16365, '##メリー': 16366, '##メンテ': 16367, ')」(': 16368, 'たった': 16369, 'オウム': 16370, 'グアム': 16371, 'モダン': 16372, '乏しい': 16373, '顕微鏡': 16374, '##教育大学': 16375, '1849': 16376, 'Disc': 16377, 'Star': 16378, 'from': 16379, 'ガールズ': 16380, 'クラフト': 16381, '引き換え': 16382, '駆けつけ': 16383, 'レイアウト': 16384, 'フェルナンド': 16385, 'イスタンブール': 16386, 'エンタープライズ': 16387, '巫': 16388, '悦': 16389, '濁': 16390, '玲': 16391, '諜': 16392, '##もと': 16393, '##タナ': 16394, '##ムナ': 16395, '##短期': 16396, '##返り': 16397, 'te': 16398, 'カモ': 16399, 'ヌー': 16400, 'ハブ': 16401, 'パパ': 16402, '双葉': 16403, '売店': 16404, '攻防': 16405, '東欧': 16406, '正則': 16407, '正徳': 16408, '永田': 16409, '沼津': 16410, '溶媒': 16411, '特務': 16412, '発端': 16413, '讃岐': 16414, '追っ': 16415, '連鎖': 16416, '配し': 16417, '重用': 16418, '銃身': 16419, '陰陽': 16420, '陸海': 16421, '##アプリ': 16422, '##ナルス': 16423, '##ナーゼ': 16424, '##モンテ': 16425, '##リスタ': 16426, '##ータス': 16427, '##ript': 16428, '280': 16429, '301': 16430, 'ひかり': 16431, 'スカー': 16432, 'レーン': 16433, '広げる': 16434, '##ウェスト': 16435, '##ゴーニュ': 16436, '##短期大学': 16437, 'アンジェ': 16438, 'スクエア': 16439, 'セメント': 16440, 'ダイナミ': 16441, 'ドミニカ': 16442, 'リーマン': 16443, '申し立て': 16444, 'ベーシスト': 16445, '関西テレビ': 16446, '串': 16447, '冗': 16448, '凡': 16449, '唇': 16450, '糞': 16451, '苻': 16452, '##えき': 16453, '##た目': 16454, '##グモ': 16455, '##ピク': 16456, '##場所': 16457, '##張っ': 16458, '##影響': 16459, '##渡す': 16460, '##ama': 16461, 'EF': 16462, 'Il': 16463, 'SK': 16464, 'バド': 16465, '主婦': 16466, '児玉': 16467, '厚い': 16468, '原動': 16469, '吸い': 16470, '失格': 16471, '届く': 16472, '川端': 16473, '東名': 16474, '東経': 16475, '波動': 16476, '熱狂': 16477, '甲州': 16478, '祇園': 16479, '補う': 16480, '門人': 16481, '隔離': 16482, '鳩山': 16483, '##イッチ': 16484, '##シアム': 16485, 'ゲノム': 16486, 'マルク': 16487, 'レンガ': 16488, '大好き': 16489, '大蔵省': 16490, '後押し': 16491, '抜ける': 16492, '見た目': 16493, '##デビュー': 16494, '1100': 16495, 'クリーク': 16496, 'サイバー': 16497, '結びつい': 16498, 'ジョーダン': 16499, 'マルクス主義': 16500, 'ブエノスアイレス': 16501, '壬': 16502, '汁': 16503, '藝': 16504, '##こく': 16505, '##もっ': 16506, '##ギア': 16507, '##セー': 16508, '##瀬川': 16509, '##関東': 16510, '##ety': 16511, 'NC': 16512, 'べし': 16513, 'イナ': 16514, 'ハッ': 16515, 'マナ': 16516, '健全': 16517, '全勝': 16518, '到来': 16519, '受付': 16520, '同窓': 16521, '奪回': 16522, '委ね': 16523, '寒冷': 16524, '工藤': 16525, '戦績': 16526, '政友': 16527, '架橋': 16528, '氏名': 16529, '水害': 16530, '点検': 16531, '破片': 16532, '米子': 16533, '縁起': 16534, '若松': 16535, '軍務': 16536, '転生': 16537, '騒ぎ': 16538, '##チレン': 16539, '##ューズ': 16540, '##ローグ': 16541, '##ージン': 16542, 'あり方': 16543, '作用素': 16544, 'Soft': 16545, 'ください': 16546, 'ソマリア': 16547, 'チャール': 16548, 'プライム': 16549, '毎日新聞': 16550, '魔法使い': 16551, '##チネンタル': 16552, 'Inter': 16553, 'スリランカ': 16554, 'ナレーター': 16555, 'ホームラン': 16556, '嘱': 16557, '桟': 16558, '泡': 16559, '碧': 16560, '##スケ': 16561, '##スン': 16562, '##バチ': 16563, '##ull': 16564, '\">': 16565, 'タコ': 16566, '以西': 16567, '借用': 16568, '内包': 16569, '別当': 16570, '加茂': 16571, '匿名': 16572, '国教': 16573, '尋ね': 16574, '支局': 16575, '景勝': 16576, '晴れ': 16577, '水銀': 16578, '没落': 16579, '演歌': 16580, '白血': 16581, '県警': 16582, '石室': 16583, '砲台': 16584, '職場': 16585, '自発': 16586, '解読': 16587, '赤松': 16588, '限っ': 16589, '雲南': 16590, '##ナック': 16591, '##マイン': 16592, 'UTC': 16593, 'いわば': 16594, 'とある': 16595, 'クック': 16596, 'シール': 16597, 'セダン': 16598, 'テンポ': 16599, 'マルコ': 16600, 'モナコ': 16601, 'ラオス': 16602, '動かし': 16603, '多目的': 16604, '気付い': 16605, '見出さ': 16606, '##ブレッド': 16607, '##マスター': 16608, '1851': 16609, 'BEST': 16610, 'Club': 16611, 'フライト': 16612, '大阪大学': 16613, 'RECOR': 16614, 'モータースポーツ': 16615, '$': 16616, '溺': 16617, '粟': 16618, '臓': 16619, '董': 16620, '鞘': 16621, '餅': 16622, '##サキ': 16623, '##チカ': 16624, '##半身': 16625, '##天王': 16626, '##urg': 16627, 'DX': 16628, 'MX': 16629, 'Sw': 16630, 'バネ': 16631, 'マヤ': 16632, 'メリ': 16633, '不全': 16634, '全滅': 16635, '出仕': 16636, '単身': 16637, '宣戦': 16638, '帝政': 16639, '折れ': 16640, '授賞': 16641, '泣き': 16642, '深海': 16643, '演芸': 16644, '直下': 16645, '精製': 16646, '葛飾': 16647, '蒸留': 16648, '返す': 16649, '配偶': 16650, '##コック': 16651, 'you': 16652, 'まるで': 16653, 'ウェル': 16654, 'オーガ': 16655, 'リーチ': 16656, '上手く': 16657, '十字架': 16658, '構える': 16659, '##ポリタン': 16660, '##ision': 16661, 'Mich': 16662, 'アリスト': 16663, 'アワード': 16664, 'ハッピー': 16665, 'ペーパー': 16666, 'ホークス': 16667, '亡くなり': 16668, '勝ち越し': 16669, '少なから': 16670, '團': 16671, '狐': 16672, '込': 16673, '郁': 16674, '##コウ': 16675, '##メト': 16676, '##線橋': 16677, 'SW': 16678, 'TH': 16679, 'あま': 16680, 'いよ': 16681, 'お金': 16682, 'ひめ': 16683, 'ドリ': 16684, 'ナス': 16685, 'リエ': 16686, '三原': 16687, '倣っ': 16688, '圏内': 16689, '悪役': 16690, '慈善': 16691, '果物': 16692, '桐生': 16693, '物品': 16694, '税金': 16695, '練り': 16696, '織物': 16697, '罷免': 16698, '製法': 16699, '見直': 16700, '諜報': 16701, '軍需': 16702, '近所': 16703, '退去': 16704, '##キュア': 16705, '##シャツ': 16706, '##テリア': 16707, '##プレー': 16708, '204': 16709, 'htt': 16710, 'いすゞ': 16711, 'アクア': 16712, 'キノコ': 16713, 'ノイズ': 16714, 'ハロー': 16715, 'マカオ': 16716, 'ロッキ': 16717, '久保田': 16718, '太陽光': 16719, '見なし': 16720, '跨線橋': 16721, '##シーズン': 16722, 'プロフェ': 16723, 'マクロス': 16724, '読売新聞': 16725, 'David': 16726, 'エルンスト': 16727, 'スーパーボウル': 16728, 'ローテーション': 16729, 'アコースティック': 16730, 'コンサルティング': 16731, '##99': 16732, '壱': 16733, '糾': 16734, '険': 16735, '##ろす': 16736, '##ワシ': 16737, '##ワナ': 16738, '##牟田': 16739, 'くす': 16740, 'こま': 16741, 'はた': 16742, 'ふり': 16743, 'ベオ': 16744, '係る': 16745, '制動': 16746, '北緯': 16747, '史家': 16748, '増援': 16749, '変革': 16750, '大抵': 16751, '字体': 16752, '官位': 16753, '実子': 16754, '家電': 16755, '布教': 16756, '平ら': 16757, '幼年': 16758, '張っ': 16759, '慣れ': 16760, '敬意': 16761, '書状': 16762, '本庄': 16763, '松島': 16764, '発砲': 16765, '直撃': 16766, '絡み': 16767, '自害': 16768, '茶色': 16769, '訂正': 16770, '##づける': 16771, '##アール': 16772, '##タニア': 16773, '##ヌエル': 16774, '##フスキ': 16775, '##ワンダ': 16776, '##ouse': 16777, 'BAS': 16778, 'CON': 16779, 'PAS': 16780, 'Rev': 16781, 'ベルン': 16782, '##ティーノ': 16783, 'Time': 16784, 'ノルマン': 16785, '##ティックス': 16786, 'Apple': 16787, 'コンコース': 16788, 'サイレント': 16789, 'ヘルメット': 16790, 'ブルゴーニュ': 16791, '##コミュニケーションズ': 16792, 'Association': 16793, '##しゅ': 16794, '##カミ': 16795, '##ビナ': 16796, '##葉樹': 16797, '##las': 16798, 'LC': 16799, 'カブ': 16800, 'カ所': 16801, 'サタ': 16802, 'マフ': 16803, 'ユタ': 16804, '全編': 16805, '別冊': 16806, '前衛': 16807, '帰化': 16808, '帰宅': 16809, '復刻': 16810, '必然': 16811, '快適': 16812, '意気': 16813, '拍子': 16814, '有り': 16815, '無駄': 16816, '産む': 16817, '相関': 16818, '膨張': 16819, '解像': 16820, '語学': 16821, '赤城': 16822, '進級': 16823, '鶴岡': 16824, '##イルズ': 16825, '##ネグロ': 16826, '##ノイド': 16827, '##リエン': 16828, '##ルドー': 16829, '##ship': 16830, '://': 16831, 'FIA': 16832, 'Win': 16833, 'さんま': 16834, 'ひょう': 16835, 'コソボ': 16836, 'スクリ': 16837, 'ホーク': 16838, 'ボビー': 16839, 'マルタ': 16840, '出かけ': 16841, '初心者': 16842, '四天王': 16843, '見送ら': 16844, '##キャット': 16845, '1852': 16846, 'ウィーク': 16847, 'エステル': 16848, 'クリップ': 16849, 'デビッド': 16850, 'Charl': 16851, 'Enter': 16852, 'エニックス': 16853, 'ポピュラー': 16854, '##ニングラード': 16855, 'ディフェンス': 16856, 'ハノーファー': 16857, 'ニュルンベルク': 16858, '##QU': 16859, '暑': 16860, '><': 16861, 'あだ': 16862, 'アオ': 16863, 'クン': 16864, '丹後': 16865, '二分': 16866, '備中': 16867, '内地': 16868, '処方': 16869, '助演': 16870, '手配': 16871, '抑圧': 16872, '採り': 16873, '断り': 16874, '早世': 16875, '欠い': 16876, '決算': 16877, '焼い': 16878, '番外': 16879, '登用': 16880, '福知': 16881, '端子': 16882, '自覚': 16883, '貸出': 16884, '越し': 16885, '高台': 16886, '##シンキ': 16887, '##チェル': 16888, '##ビッチ': 16889, '##ユーズ': 16890, '##ンガン': 16891, '##ヴォー': 16892, 'こなす': 16893, 'パルス': 16894, '公民館': 16895, '取り囲': 16896, '推し進': 16897, '支払っ': 16898, '滑らか': 16899, '##ガールズ': 16900, '##チュード': 16901, 'おこなう': 16902, 'とどまり': 16903, 'オリーブ': 16904, 'キプロス': 16905, 'スカート': 16906, 'パーカー': 16907, 'マスターズ': 16908, 'University': 16909, '##10': 16910, '##FE': 16911, '##TO': 16912, '喚': 16913, '杖': 16914, '桶': 16915, '窺': 16916, '諫': 16917, '##てい': 16918, '##テロ': 16919, '##ホイ': 16920, '##小路': 16921, 'IF': 16922, 'iT': 16923, '」)': 16924, 'くし': 16925, 'たど': 16926, 'なべ': 16927, 'クマ': 16928, '並木': 16929, '修業': 16930, '尼子': 16931, '山川': 16932, '岡村': 16933, '民政': 16934, '消息': 16935, '照準': 16936, '興業': 16937, '船員': 16938, '芳香': 16939, '要衝': 16940, '買う': 16941, '身近': 16942, '醤油': 16943, '開会': 16944, '開山': 16945, '飾ら': 16946, '養老': 16947, '##いてい': 16948, '##コーン': 16949, '##サイン': 16950, '##ツィオ': 16951, '##パード': 16952, '##ビーチ': 16953, '##ャーズ': 16954, '##ローン': 16955, '##iver': 16956, 'Aut': 16957, 'CBC': 16958, 'con': 16959, 'デニス': 16960, '大通り': 16961, '悪影響': 16962, '日比谷': 16963, '議事堂': 16964, '費やし': 16965, '##クラテス': 16966, 'Life': 16967, 'トゥール': 16968, '文化放送': 16969, '##ボクシング': 16970, 'Suica': 16971, 'サテライト': 16972, 'ジャッキー': 16973, 'リヴァプール': 16974, 'クリストファー': 16975, '吟': 16976, '悔': 16977, '挫': 16978, 'UP': 16979, 'ふれ': 16980, 'カツ': 16981, 'ジオ': 16982, '主軸': 16983, '伝来': 16984, '公言': 16985, '出展': 16986, '判別': 16987, '口座': 16988, '告示': 16989, '大道': 16990, '安保': 16991, '廃校': 16992, '引か': 16993, '指輪': 16994, '有明': 16995, '片山': 16996, '片岡': 16997, '発効': 16998, '祭壇': 16999, '竹田': 17000, '解き': 17001, '載っ': 17002, '辞し': 17003, '風刺': 17004, '##じゅう': 17005, '##クリス': 17006, '##チモア': 17007, '##ナイン': 17008, '##バット': 17009, '##マック': 17010, '310': 17011, 'Don': 17012, 'Mat': 17013, 'おもに': 17014, 'ましょ': 17015, 'アスト': 17016, 'コンタ': 17017, 'ベビー': 17018, 'ミクロ': 17019, '下がっ': 17020, '役立つ': 17021, '最小限': 17022, '神学校': 17023, '美しく': 17024, '##ヴィッツ': 17025, '1844': 17026, 'アタック': 17027, 'イヴァン': 17028, 'フェロー': 17029, '作り出し': 17030, 'モノレール': 17031, 'バックアップ': 17032, 'ミュージアム': 17033, 'シンセサイザー': 17034, 'クレジットカード': 17035, 'コンスタンティノ': 17036, '駄': 17037, '##やり': 17038, '##ドス': 17039, '##フカ': 17040, '##津川': 17041, '##深い': 17042, '##ano': 17043, '##ris': 17044, 'おば': 17045, 'よら': 17046, 'オト': 17047, 'ユリ': 17048, '両面': 17049, '使命': 17050, '反復': 17051, '吸気': 17052, '城跡': 17053, '孤独': 17054, '挟み': 17055, '新宮': 17056, '昨年': 17057, '枢機': 17058, '株価': 17059, '独奏': 17060, '病原': 17061, '結末': 17062, '船首': 17063, '誓い': 17064, '貯金': 17065, '起業': 17066, '遷移': 17067, '静脈': 17068, '養父': 17069, '##インタ': 17070, '##クライ': 17071, '##コート': 17072, '##ナーレ': 17073, '##プラザ': 17074, '##azon': 17075, 'Des': 17076, 'ジョナ': 17077, 'ワゴン': 17078, '呼び名': 17079, '国分寺': 17080, '当てる': 17081, '福知山': 17082, '解像度': 17083, '追って': 17084, 'レパート': 17085, '##フィックス': 17086, '##ージナルス': 17087, 'フライング': 17088, 'ボルチモア': 17089, 'スターリング': 17090, 'パンタグラフ': 17091, 'ボーカリスト': 17092, '幣': 17093, '瀧': 17094, '##ニシ': 17095, '##ATE': 17096, '##uch': 17097, ')/': 17098, 'WD': 17099, 'fe': 17100, 'お茶': 17101, 'ゆり': 17102, 'フン': 17103, 'マダ': 17104, 'レフ': 17105, '上っ': 17106, '割っ': 17107, '半減': 17108, '夜行': 17109, '大胆': 17110, '宿場': 17111, '密集': 17112, '救い': 17113, '明言': 17114, '最短': 17115, '杉並': 17116, '水溶': 17117, '略し': 17118, '終身': 17119, '綴り': 17120, '群島': 17121, '聴く': 17122, '行え': 17123, '転戦': 17124, '退位': 17125, '銘柄': 17126, '飛来': 17127, '驚い': 17128, '##重なる': 17129, 'PRO': 17130, 'みたい': 17131, 'ウォル': 17132, 'エルフ': 17133, 'キッド': 17134, 'ケルト': 17135, 'サファ': 17136, 'スピー': 17137, 'トロン': 17138, 'ドナウ': 17139, 'バナナ': 17140, 'レシピ': 17141, 'レモン': 17142, '亡くし': 17143, '前年度': 17144, '勤める': 17145, '古事記': 17146, '工学科': 17147, '或いは': 17148, '未だに': 17149, '請け負': 17150, '面白い': 17151, '##irect': 17152, ')」、「': 17153, 'バックス': 17154, 'バラード': 17155, '10000': 17156, 'Power': 17157, '北海道大学': 17158, '置き換える': 17159, 'レパートリー': 17160, 'ぃ': 17161, '帖': 17162, '##じみ': 17163, '##ゆき': 17164, '##メア': 17165, '##ヤマ': 17166, '##一度': 17167, '##金庫': 17168, '##osa': 17169, 'pl': 17170, 'いり': 17171, 'ちん': 17172, 'プー': 17173, 'ロウ': 17174, '入札': 17175, '共存': 17176, '出番': 17177, '勝率': 17178, '千里': 17179, '土浦': 17180, '実効': 17181, '思え': 17182, '方位': 17183, '杉山': 17184, '機首': 17185, '歩み': 17186, '油圧': 17187, '消極': 17188, '渡す': 17189, '社交': 17190, '祭礼': 17191, '童話': 17192, '翌朝': 17193, '諸語': 17194, '賭博': 17195, '踏ん': 17196, '通例': 17197, '部局': 17198, '金利': 17199, '隠す': 17200, '##ダスト': 17201, '##ネーヴ': 17202, '##マリー': 17203, 'vol': 17204, 'アルマ': 17205, 'カエル': 17206, 'マグニ': 17207, '多摩川': 17208, '東海岸': 17209, '##ターニュ': 17210, '##ファルツ': 17211, '##フィルム': 17212, 'もう一度': 17213, 'ゲオルク': 17214, 'シュヴァ': 17215, 'スケッチ': 17216, 'ペルシャ': 17217, '文字通り': 17218, '##ersion': 17219, 'スクウェア': 17220, 'アドバイザー': 17221, 'インタフェース': 17222, '慧': 17223, '馮': 17224, '##さか': 17225, '##期的': 17226, '##殺し': 17227, '##ole': 17228, '##rag': 17229, '!?': 17230, 'ER': 17231, 'RT': 17232, 'ad': 17233, 'では': 17234, 'はし': 17235, 'クワ': 17236, 'タマ': 17237, '充当': 17238, '共生': 17239, '参議': 17240, '回顧': 17241, '地層': 17242, '大木': 17243, '大軍': 17244, '容積': 17245, '小名': 17246, '小牧': 17247, '島内': 17248, '平塚': 17249, '年上': 17250, '強要': 17251, '応永': 17252, '憲兵': 17253, '戦役': 17254, '日経': 17255, '祈祷': 17256, '神楽': 17257, '究極': 17258, '薬品': 17259, '虚偽': 17260, '西尾': 17261, '計上': 17262, '酢酸': 17263, '##グロー': 17264, '##シナ海': 17265, '##ソシエ': 17266, '##ビウス': 17267, '##ビール': 17268, ')、(': 17269, 'API': 17270, 'Fac': 17271, 'ウサギ': 17272, 'カント': 17273, '御家人': 17274, '日テレ': 17275, '画期的': 17276, '短時間': 17277, '秋葉原': 17278, '育てる': 17279, '間違え': 17280, '##イタリア': 17281, '1818': 17282, '1839': 17283, 'Rock': 17284, 'SHOW': 17285, 'アトリエ': 17286, 'アマゾン': 17287, 'ソフィア': 17288, '日本航空': 17289, '申し入れ': 17290, 'Champ': 17291, 'アイディア': 17292, 'ストリーム': 17293, 'スプリント': 17294, 'フィルター': 17295, 'スポーツカー': 17296, '##aj': 17297, '##lo': 17298, 'ぺ': 17299, '弔': 17300, '##ずみ': 17301, '##づか': 17302, '##とめ': 17303, '##ヒム': 17304, 'さし': 17305, 'わし': 17306, 'イニ': 17307, 'ギュ': 17308, 'バチ': 17309, 'ミツ': 17310, '各局': 17311, '合致': 17312, '地頭': 17313, '太刀': 17314, '定番': 17315, '小池': 17316, '強引': 17317, '手当': 17318, '村落': 17319, '気球': 17320, '決心': 17321, '海抜': 17322, '源泉': 17323, '着く': 17324, '紅葉': 17325, '細く': 17326, '若き': 17327, '銃器': 17328, '阿弥': 17329, '##サウス': 17330, '##ッシブ': 17331, '##ティヴ': 17332, '##ワート': 17333, '205': 17334, 'あだ名': 17335, 'アレル': 17336, 'クジラ': 17337, 'ドバイ': 17338, 'バター': 17339, 'パトロ': 17340, 'マッカ': 17341, '三塁手': 17342, '便宜上': 17343, '##マイオス': 17344, '飛び出し': 17345, '##アベニュー': 17346, 'ジャングル': 17347, 'プエルトリコ': 17348, 'ラテンアメリカ': 17349, '##ホールディングス': 17350, 'ミュージックビデオ': 17351, '##cy': 17352, '叱': 17353, '堕': 17354, '屯': 17355, '然': 17356, '##」(': 17357, '##たく': 17358, '##ドキ': 17359, '##半球': 17360, '##曽根': 17361, '##ces': 17362, '##yth': 17363, '!)': 17364, 'ox': 17365, 'ph': 17366, 'ちく': 17367, 'どん': 17368, 'ほっ': 17369, 'スム': 17370, '一応': 17371, '中身': 17372, '交替': 17373, '企図': 17374, '侍従': 17375, '参詣': 17376, '商売': 17377, '大麻': 17378, '完走': 17379, '実父': 17380, '強行': 17381, '怪人': 17382, '椎名': 17383, '毛皮': 17384, '漁港': 17385, '立教': 17386, '肝臓': 17387, '被爆': 17388, '謀反': 17389, '貝塚': 17390, '配線': 17391, '降車': 17392, '音節': 17393, '##ジック': 17394, '##ッチェ': 17395, '##ラクル': 17396, '##ican': 17397, 'Nor': 17398, 'キャピ': 17399, 'ギャン': 17400, 'グルメ': 17401, 'ゴート': 17402, 'シュル': 17403, '夏休み': 17404, '恐らく': 17405, '生理学': 17406, '##ジャック': 17407, '##リーマン': 17408, 'Thom': 17409, 'ニッケル': 17410, 'ブラウザ': 17411, '持ち込み': 17412, 'ライオンズ': 17413, '##フィクション': 17414, 'スティーブン': 17415, 'ライブハウス': 17416, 'ブンデスリーガ': 17417, 'コンピレーション': 17418, '##sc': 17419, '·': 17420, '喰': 17421, '幌': 17422, '廠': 17423, '淑': 17424, '##ICE': 17425, '##rad': 17426, '##rop': 17427, '##ush': 17428, 'JP': 17429, 'ME': 17430, 'きみ': 17431, 'イヤ': 17432, 'ハヤ': 17433, 'モト': 17434, '佐渡': 17435, '内科': 17436, '協賛': 17437, '外装': 17438, '大作': 17439, '岩崎': 17440, '島々': 17441, '戸籍': 17442, '泊地': 17443, '王冠': 17444, '知性': 17445, '空挺': 17446, '自生': 17447, '舞踏': 17448, '行先': 17449, '選曲': 17450, '郷里': 17451, '雑貨': 17452, '頭角': 17453, '黎明': 17454, '##バンス': 17455, '##プティ': 17456, '##REAM': 17457, '##ific': 17458, 'Exp': 17459, 'およぶ': 17460, 'つくっ': 17461, 'イデオ': 17462, 'ストア': 17463, '枢機卿': 17464, '精神病': 17465, '##フレット': 17466, 'Best': 17467, 'エアバス': 17468, 'スライド': 17469, 'ダッシュ': 17470, 'メソッド': 17471, '振り返っ': 17472, '##スコンシン': 17473, 'インパクト': 17474, 'ベンチャー': 17475, 'Instit': 17476, 'iTunes': 17477, 'ベオグラード': 17478, 'アイスホッケー': 17479, 'ディフェンダー': 17480, 'フランチャイズ': 17481, 'アレクサンドロス': 17482, '俯': 17483, '##たん': 17484, '##のう': 17485, '##中央': 17486, '##前線': 17487, '##製造': 17488, 'TA': 17489, 'UH': 17490, 'WC': 17491, 'たっ': 17492, 'なぎ': 17493, 'なつ': 17494, 'ねる': 17495, '伝染': 17496, '低速': 17497, '保ち': 17498, '信州': 17499, '共感': 17500, '反逆': 17501, '彼等': 17502, '患っ': 17503, '柔術': 17504, '比叡': 17505, '浅井': 17506, '添付': 17507, '短歌': 17508, '石碑': 17509, '私有': 17510, '精霊': 17511, '糖尿': 17512, '鉄砲': 17513, '陶器': 17514, '風味': 17515, '風習': 17516, '##キスト': 17517, '##ジスタ': 17518, '##ペスト': 17519, '##ミール': 17520, '##メディ': 17521, '##itch': 17522, '260': 17523, 'BMW': 17524, 'Sol': 17525, 'ウォン': 17526, 'サスペ': 17527, 'ジーン': 17528, 'テック': 17529, 'ホーン': 17530, 'ラック': 17531, 'ヴァー': 17532, '総領事': 17533, '##トラウス': 17534, '##ホワイト': 17535, 'オスカー': 17536, 'ジュリア': 17537, 'プラチナ': 17538, 'マシュー': 17539, '##ポジション': 17540, '##ライオンズ': 17541, 'コンポーネ': 17542, 'ジュネーヴ': 17543, 'パブリック': 17544, 'サイドバック': 17545, 'ウィスコンシン': 17546, '##DI': 17547, '勒': 17548, '撰': 17549, '杏': 17550, '潔': 17551, '##ぶし': 17552, '##めき': 17553, '##ホフ': 17554, '##半期': 17555, '##海峡': 17556, '##hem': 17557, 'LD': 17558, 'Na': 17559, 'パワ': 17560, 'ヨウ': 17561, '下層': 17562, '光景': 17563, '入試': 17564, '公害': 17565, '南岸': 17566, '呼応': 17567, '喜ん': 17568, '国司': 17569, '国文': 17570, '変貌': 17571, '本校': 17572, '松永': 17573, '検知': 17574, '汽車': 17575, '短調': 17576, '硬化': 17577, '祝福': 17578, '筑後': 17579, '終着': 17580, '結党': 17581, '解か': 17582, '野手': 17583, '魔王': 17584, '##チョフ': 17585, '##チール': 17586, '##フュー': 17587, '##ラック': 17588, '##raph': 17589, 'Min': 17590, 'rpm': 17591, 'オムニ': 17592, 'ガンダ': 17593, 'センス': 17594, '手数料': 17595, '##ジャンプ': 17596, 'Stre': 17597, 'クーパー': 17598, 'ソユーズ': 17599, 'テロップ': 17600, '度重なる': 17601, '追い詰め': 17602, '##ゼーション': 17603, 'アルベルト': 17604, 'エンジェル': 17605, 'カメラマン': 17606, 'パーキング': 17607, '##コンクリート': 17608, 'Amazon': 17609, 'フロンティア': 17610, 'ブルターニュ': 17611, '妄': 17612, '爾': 17613, '##ばり': 17614, '##erv': 17615, 'Lu': 17616, 'Po': 17617, 'イサ': 17618, 'ネス': 17619, '上告': 17620, '不審': 17621, '主君': 17622, '乃木': 17623, '乗合': 17624, '健一': 17625, '元号': 17626, '前任': 17627, '北岸': 17628, '土岐': 17629, '均一': 17630, '奥羽': 17631, '委嘱': 17632, '安心': 17633, '官庁': 17634, '平井': 17635, '握る': 17636, '教習': 17637, '本番': 17638, '林業': 17639, '死因': 17640, '殺到': 17641, '生後': 17642, '白井': 17643, '砲身': 17644, '祀っ': 17645, '肥後': 17646, '覆い': 17647, '語尾': 17648, '邦題': 17649, '銘打': 17650, '長江': 17651, '飢饉': 17652, '黒川': 17653, '##ッショ': 17654, '##テレス': 17655, '##ロース': 17656, '##受ける': 17657, '##erry': 17658, '!!!': 17659, 'イルカ': 17660, 'コスタ': 17661, 'ヒール': 17662, '下がる': 17663, '付け加': 17664, '検察官': 17665, '止まっ': 17666, '警察庁': 17667, '##スタイン': 17668, '##ージニア': 17669, '9000': 17670, 'イベリア': 17671, 'カテゴリ': 17672, 'フェミニ': 17673, 'プロット': 17674, 'マフィア': 17675, '建て替え': 17676, '東京電力': 17677, '##デルラント': 17678, 'ハリケーン': 17679, 'プロトタイプ': 17680, '##IB': 17681, '巌': 17682, '渤': 17683, '騙': 17684, '##むら': 17685, '##ハマ': 17686, '##ヶ丘': 17687, '##乗り': 17688, '##強く': 17689, '##書房': 17690, '##沢東': 17691, 'Do': 17692, 'ナウ': 17693, 'ノウ': 17694, 'ラオ': 17695, '一段': 17696, '両手': 17697, '了承': 17698, '信任': 17699, '公判': 17700, '具合': 17701, '出所': 17702, '占い': 17703, '即ち': 17704, '同位': 17705, '四川': 17706, '国名': 17707, '土着': 17708, '安い': 17709, '巡業': 17710, '幅員': 17711, '成形': 17712, '日数': 17713, '構図': 17714, '決闘': 17715, '河南': 17716, '渡航': 17717, '無数': 17718, '熟練': 17719, '産経': 17720, '発起': 17721, '監禁': 17722, '草案': 17723, '課さ': 17724, '造園': 17725, '##マート': 17726, '##ロギー': 17727, '##ival': 17728, '211': 17729, 'アクセ': 17730, 'カラス': 17731, 'スタイ': 17732, 'テュー': 17733, '##レビュー': 17734, '1836': 17735, 'Soci': 17736, 'クロード': 17737, 'サーカス': 17738, 'ヨルダン': 17739, 'ジョルジュ': 17740, 'メロディー': 17741, 'レフェリー': 17742, '書き下ろし': 17743, '##gh': 17744, '學': 17745, '紺': 17746, '##ゆみ': 17747, '##カワ': 17748, '##キナ': 17749, '##プタ': 17750, '##完全': 17751, '##平洋': 17752, '##神宮': 17753, '##RNA': 17754, \"('\": 17755, 'SV': 17756, 'nm': 17757, 'はや': 17758, '上原': 17759, '乱入': 17760, '伐採': 17761, '信条': 17762, '全額': 17763, '列強': 17764, '哲也': 17765, '大腸': 17766, '天野': 17767, '失速': 17768, '学説': 17769, '宇野': 17770, '客船': 17771, '射影': 17772, '常識': 17773, '弾頭': 17774, '改易': 17775, '放浪': 17776, '映し': 17777, '東郷': 17778, '沼田': 17779, '減り': 17780, '渤海': 17781, '生駒': 17782, '眼鏡': 17783, '空白': 17784, '経典': 17785, '経理': 17786, '華族': 17787, '見守': 17788, '議院': 17789, '難い': 17790, '馴染': 17791, '##ガード': 17792, '##クトン': 17793, '##プラノ': 17794, '##ンタナ': 17795, '##肉マン': 17796, '##mann': 17797, 'Red': 17798, 'Reg': 17799, 'かわり': 17800, 'アブラ': 17801, 'アルカ': 17802, 'ネック': 17803, 'レンジ': 17804, '代々木': 17805, '唱える': 17806, '基督教': 17807, '毛沢東': 17808, '##フォルト': 17809, '##ランドル': 17810, '1789': 17811, 'Spec': 17812, 'エディン': 17813, 'ジャガー': 17814, 'ジョゼフ': 17815, 'ファンド': 17816, 'ボリビア': 17817, '乗り越え': 17818, '落ち着い': 17819, '##ウォーキー': 17820, 'キン肉マン': 17821, 'ハイウェイ': 17822, '乗り入れる': 17823, 'イデオロギー': 17824, 'ルーズベルト': 17825, 'ミルウォーキー': 17826, 'ディズニーランド': 17827, '##ye': 17828, '##za': 17829, '寂': 17830, '氾': 17831, '葺': 17832, '##カタ': 17833, '##ニェ': 17834, '##付き': 17835, 'OR': 17836, 'SB': 17837, 'かぜ': 17838, 'しり': 17839, 'ふう': 17840, '一目': 17841, '人力': 17842, '北村': 17843, '告訴': 17844, '団結': 17845, '塩素': 17846, '増す': 17847, '子女': 17848, '学業': 17849, '察知': 17850, '惹か': 17851, '散乱': 17852, '曲面': 17853, '武官': 17854, '点火': 17855, '白川': 17856, '祭典': 17857, '筆記': 17858, '線維': 17859, '芥川': 17860, '血縁': 17861, '訳語': 17862, '農耕': 17863, '遊ぶ': 17864, '酷似': 17865, '随時': 17866, '顔面': 17867, '##サーン': 17868, '##デシュ': 17869, '##リオス': 17870, '##リータ': 17871, '##太平洋': 17872, '##hone': 17873, 'みずほ': 17874, 'インス': 17875, 'エラー': 17876, 'エント': 17877, 'サザン': 17878, 'ビザン': 17879, 'マッサ': 17880, 'リヨン': 17881, '不完全': 17882, '加速度': 17883, '大本営': 17884, '車椅子': 17885, '遊歩道': 17886, '##イアント': 17887, '##ディーズ': 17888, '##ヴィング': 17889, '##earch': 17890, '1814': 17891, '1841': 17892, '1843': 17893, 'たまたま': 17894, 'アルカリ': 17895, 'ウォルト': 17896, 'ジェーン': 17897, 'セルゲイ': 17898, 'チェンバ': 17899, 'ヘルシンキ': 17900, '##ファクトリー': 17901, 'アニメーター': 17902, '西日本旅客鉄道': 17903, '##30': 17904, '##ym': 17905, '孟': 17906, '煽': 17907, '罵': 17908, '翅': 17909, '賦': 17910, '鄧': 17911, '##ぼう': 17912, '##ブズ': 17913, '##ボイ': 17914, '##メー': 17915, '##ヶ岳': 17916, '##産省': 17917, 'オズ': 17918, 'グー': 17919, 'ゼミ': 17920, '何者': 17921, '余地': 17922, '勇者': 17923, '千歳': 17924, '史学': 17925, '周防': 17926, '図形': 17927, '図鑑': 17928, '土屋': 17929, '嫌っ': 17930, '尋問': 17931, '恩恵': 17932, '新車': 17933, '染め': 17934, '桑田': 17935, '検閲': 17936, '水没': 17937, '注射': 17938, '無意': 17939, '着い': 17940, '神輿': 17941, '絵柄': 17942, '走ら': 17943, '車軸': 17944, '退治': 17945, '里見': 17946, '重心': 17947, '鋭い': 17948, '頼ん': 17949, '##エンヌ': 17950, '##プチド': 17951, '##ense': 17952, 'Arm': 17953, 'KBS': 17954, 'Pal': 17955, 'der': 17956, 'だから': 17957, 'みなす': 17958, 'カンヌ': 17959, 'ケーキ': 17960, 'ジェン': 17961, 'テント': 17962, '待合室': 17963, '支配人': 17964, '##ダーソン': 17965, 'Rich': 17966, 'やり取り': 17967, 'クレーン': 17968, 'サイパン': 17969, 'ファイブ': 17970, 'フラッグ': 17971, 'セクション': 17972, 'ブダペスト': 17973, 'ユーラシア': 17974, 'レインボー': 17975, 'ロビンソン': 17976, '日産自動車': 17977, '##ユナイテッド': 17978, '##ヴィルヘルム': 17979, 'RECORDS': 17980, '##UP': 17981, '##ii': 17982, '祠': 17983, '##、『': 17984, '##そく': 17985, '##air': 17986, 'GC': 17987, 'SG': 17988, 'いや': 17989, 'くみ': 17990, 'みこ': 17991, 'テラ': 17992, 'ピョ': 17993, '万葉': 17994, '亜鉛': 17995, '入港': 17996, '入線': 17997, '兵隊': 17998, '出征': 17999, '劣勢': 18000, '原油': 18001, '安く': 18002, '幽閉': 18003, '所定': 18004, '手形': 18005, '有田': 18006, '河北': 18007, '浄化': 18008, '海中': 18009, '淀川': 18010, '深川': 18011, '甘い': 18012, '画策': 18013, '県境': 18014, '笑っ': 18015, '義理': 18016, '翌週': 18017, '藤子': 18018, '農作': 18019, '電位': 18020, '##カナル': 18021, '##ガイモ': 18022, '##ドリー': 18023, '##パイア': 18024, '##ピット': 18025, '##ブラー': 18026, '##ahoo': 18027, '##ural': 18028, '480': 18029, 'Fri': 18030, 'いわき': 18031, 'こうじ': 18032, 'たかし': 18033, 'コナン': 18034, 'サンゴ': 18035, 'シルク': 18036, 'ハイチ': 18037, 'ベータ': 18038, '出張所': 18039, '取りや': 18040, '富士通': 18041, '手伝い': 18042, '捉える': 18043, '重なる': 18044, '##ブラウン': 18045, '##リアーズ': 18046, '##obile': 18047, '1806': 18048, '1846': 18049, 'ウェイン': 18050, 'クラウン': 18051, 'トリプル': 18052, '取り壊さ': 18053, '呼び出し': 18054, '引き渡さ': 18055, '##ディション': 18056, '##ヴィジョン': 18057, 'マディソン': 18058, '##イングランド': 18059, 'iPhone': 18060, 'ロンバルディア': 18061, '叛': 18062, '埠': 18063, '椿': 18064, '檀': 18065, '矯': 18066, '礎': 18067, '雀': 18068, '##ずら': 18069, '##たえ': 18070, '##エロ': 18071, '##庁舎': 18072, '##文社': 18073, '##生命': 18074, '##ero': 18075, '##ets': 18076, 'FK': 18077, 'TT': 18078, '』)': 18079, 'さよ': 18080, 'たき': 18081, 'ゴン': 18082, '三味': 18083, '付録': 18084, '内定': 18085, '収支': 18086, '園内': 18087, '居留': 18088, '島民': 18089, '救難': 18090, '月面': 18091, '架線': 18092, '栄光': 18093, '油田': 18094, '現時': 18095, '移入': 18096, '立派': 18097, '絶縁': 18098, '草津': 18099, '酸性': 18100, '鉄鋼': 18101, '離反': 18102, '香取': 18103, '驚異': 18104, '高倉': 18105, '##ザック': 18106, '##ビート': 18107, '##IGHT': 18108, '##berg': 18109, '##tain': 18110, 'FBI': 18111, 'GDP': 18112, 'ISU': 18113, 'Sil': 18114, 'ありが': 18115, 'ローラ': 18116, '八幡宮': 18117, '浮かぶ': 18118, '落とさ': 18119, '見込ま': 18120, '重なり': 18121, '##ヴァンス': 18122, '1837': 18123, 'そういう': 18124, 'ノーザン': 18125, 'ヴォルフ': 18126, '打ち切ら': 18127, '生き残り': 18128, '##レチックス': 18129, 'ウェルター': 18130, 'ジョナサン': 18131, 'ダーウィン': 18132, '引き起こさ': 18133, 'エディンバラ': 18134, 'スキャンダル': 18135, '}': 18136, '匂': 18137, '紗': 18138, '苫': 18139, '##モフ': 18140, '##ロラ': 18141, '##ーザ': 18142, '##人者': 18143, 'おし': 18144, 'かさ': 18145, 'つう': 18146, 'つて': 18147, 'カミ': 18148, 'ゲッ': 18149, 'コバ': 18150, 'コモ': 18151, 'デカ': 18152, '一式': 18153, '下士': 18154, '健在': 18155, '偶数': 18156, '刺し': 18157, '回廊': 18158, '回送': 18159, '堀川': 18160, '実弟': 18161, '少量': 18162, '島原': 18163, '弁当': 18164, '強姦': 18165, '心地': 18166, '志賀': 18167, '有線': 18168, '本能': 18169, '氾濫': 18170, '江南': 18171, '深度': 18172, '満期': 18173, '煉瓦': 18174, '真剣': 18175, '破れ': 18176, '筑紫': 18177, '美味': 18178, '羽根': 18179, '自力': 18180, '茶屋': 18181, '西田': 18182, '院内': 18183, '雇わ': 18184, '頼り': 18185, '飽和': 18186, '##ーツク': 18187, '850': 18188, 'Sal': 18189, 'アルビ': 18190, 'レイテ': 18191, '##イスキー': 18192, '##クティブ': 18193, '##ドックス': 18194, '##メキシコ': 18195, '1831': 18196, '1842': 18197, 'クローズ': 18198, 'メモリー': 18199, '第一人者': 18200, '言い渡さ': 18201, '##ットガルト': 18202, 'ふさわしい': 18203, 'トロフィー': 18204, '名古屋大学': 18205, 'フィリップス': 18206, 'コーポレーション': 18207, '##GE': 18208, '##ep': 18209, '##ko': 18210, '##xy': 18211, '瀕': 18212, '稜': 18213, '蔡': 18214, '薔': 18215, '輌': 18216, '##アブ': 18217, '##ガリ': 18218, '##決め': 18219, '##然と': 18220, '##瑠璃': 18221, '##ASH': 18222, '##IME': 18223, '##ham': 18224, '##rol': 18225, 'VI': 18226, 'du': 18227, '~」': 18228, 'キラ': 18229, 'ムル': 18230, '一言': 18231, '下る': 18232, '入浴': 18233, '召し': 18234, '嗜好': 18235, '天理': 18236, '奮闘': 18237, '年々': 18238, '惨敗': 18239, '推挙': 18240, '是非': 18241, '書道': 18242, '板橋': 18243, '桑名': 18244, '法規': 18245, '終日': 18246, '肥前': 18247, '谷口': 18248, '邪魔': 18249, '長き': 18250, '震度': 18251, '##々しい': 18252, '##ライフ': 18253, '##ヴォル': 18254, '##ield': 18255, 'Cap': 18256, 'San': 18257, 'USB': 18258, 'タール': 18259, 'ハイム': 18260, 'ペリー': 18261, 'ミルク': 18262, '三味線': 18263, '名高い': 18264, '和歌集': 18265, '返り咲': 18266, '##ルツェゴ': 18267, 'City': 18268, 'Paul': 18269, 'ケプラー': 18270, 'コミカル': 18271, 'ベンガル': 18272, 'リットル': 18273, 'James': 18274, 'スクロール': 18275, 'スライダー': 18276, 'フランチェ': 18277, 'フランドル': 18278, '同志社大学': 18279, '##KS': 18280, 'q': 18281, '償': 18282, '哉': 18283, '##アレ': 18284, '##タム': 18285, '##ヶ崎': 18286, '##itz': 18287, '##ney': 18288, 'TM': 18289, 'UR': 18290, 'イタ': 18291, 'エカ': 18292, 'ゾウ': 18293, 'ハラ': 18294, '一転': 18295, '乗馬': 18296, '事柄': 18297, '伊集': 18298, '内訳': 18299, '収縮': 18300, '呪い': 18301, '増築': 18302, '士気': 18303, '大東': 18304, '女児': 18305, '小数': 18306, '従前': 18307, '復員': 18308, '拡幅': 18309, '撮っ': 18310, '文人': 18311, '文科': 18312, '斬新': 18313, '新橋': 18314, '明白': 18315, '望月': 18316, '津山': 18317, '清算': 18318, '省庁': 18319, '神様': 18320, '花崗': 18321, '若狭': 18322, '西山': 18323, '農薬': 18324, '辿り': 18325, '選任': 18326, '鉄路': 18327, '風呂': 18328, '##んどう': 18329, '##サイズ': 18330, '##ワイン': 18331, 'SNS': 18332, 'SON': 18333, 'とうき': 18334, 'フレイ': 18335, 'ラベル': 18336, 'レシー': 18337, '六本木': 18338, '木曽川': 18339, '##ディウス': 18340, '##ブリテン': 18341, '1801': 18342, '1838': 18343, '取り込ん': 18344, '若しくは': 18345, '送り出し': 18346, 'ウィンター': 18347, 'キャンベル': 18348, 'ジェームス': 18349, 'プラットホーム': 18350, '##BL': 18351, '孵': 18352, '殷': 18353, '炊': 18354, '苛': 18355, '##リブ': 18356, '##時計': 18357, '##着陸': 18358, '##馬場': 18359, 'Pi': 18360, 'QB': 18361, 'VF': 18362, 'いさ': 18363, 'がら': 18364, 'イグ': 18365, 'クオ': 18366, 'サビ': 18367, 'バタ': 18368, '下落': 18369, '交友': 18370, '付さ': 18371, '傾倒': 18372, '分担': 18373, '刈谷': 18374, '勧誘': 18375, '同種': 18376, '和睦': 18377, '国定': 18378, '宇多': 18379, '官邸': 18380, '小柄': 18381, '尾道': 18382, '建つ': 18383, '打線': 18384, '新制': 18385, '暖房': 18386, '機長': 18387, '欠席': 18388, '正平': 18389, '水軍': 18390, '皆無': 18391, '目前': 18392, '管領': 18393, '繁華': 18394, '蒲田': 18395, '補修': 18396, '規程': 18397, '解禁': 18398, '言論': 18399, '身柄': 18400, '長大': 18401, '高官': 18402, '##ゴロド': 18403, '##ジョー': 18404, '##ason': 18405, '\")。': 18406, '340': 18407, 'Adv': 18408, 'Dan': 18409, 'JFL': 18410, 'MON': 18411, 'アリア': 18412, 'コンテ': 18413, 'ゾイド': 18414, 'テール': 18415, 'ボギー': 18416, 'マグネ': 18417, '山口組': 18418, '押さえ': 18419, '日蓮宗': 18420, '江戸城': 18421, '滅ぼし': 18422, '現時点': 18423, '##ジェスト': 18424, '##トゥール': 18425, '##フォート': 18426, '##モロコシ': 18427, '1845': 18428, 'ZERO': 18429, 'アイアン': 18430, 'サックス': 18431, 'マルティ': 18432, '明治天皇': 18433, 'Count': 18434, 'サスペンス': 18435, 'ドレスデン': 18436, 'リッチモンド': 18437, 'Michael': 18438, 'ネーデルラント': 18439, 'ノルマンディー': 18440, 'ポニーキャニオン': 18441, '##HA': 18442, '##xt': 18443, '—': 18444, '候': 18445, '屏': 18446, '旬': 18447, '雛': 18448, ')『': 18449, 'IA': 18450, 'Si': 18451, 'UD': 18452, 'jp': 18453, '――': 18454, 'オイ': 18455, 'シラ': 18456, 'セラ': 18457, '仮設': 18458, '僅差': 18459, '内政': 18460, '名作': 18461, '吸血': 18462, '天狗': 18463, '封建': 18464, '居る': 18465, '平壌': 18466, '念願': 18467, '指針': 18468, '撮り': 18469, '来場': 18470, '火葬': 18471, '着想': 18472, '稼ぎ': 18473, '突っ': 18474, '自決': 18475, '藤村': 18476, '要職': 18477, '軍備': 18478, '連帯': 18479, '長者': 18480, '飲ま': 18481, '##まって': 18482, '##エンザ': 18483, '##キウス': 18484, '##グラー': 18485, '##サイユ': 18486, '##ングラ': 18487, 'Fla': 18488, 'Lou': 18489, 'がたい': 18490, 'カルロ': 18491, 'カーン': 18492, 'クロウ': 18493, 'ソルト': 18494, 'ツリー': 18495, 'バーミ': 18496, 'ホース': 18497, '連なる': 18498, '##ニエンス': 18499, '##バスティ': 18500, '##リニスト': 18501, '##医科大学': 18502, '1804': 18503, '1847': 18504, 'Alex': 18505, 'Cent': 18506, 'ゴースト': 18507, 'ショーン': 18508, 'タイムズ': 18509, 'フラワー': 18510, 'ミリオン': 18511, 'リスボン': 18512, '話し合い': 18513, 'グレゴリオ': 18514, 'デラウェア': 18515, '全国ネット': 18516, '繰り広げる': 18517, 'Center': 18518, 'コンポーネント': 18519, '##IF': 18520, '坐': 18521, '壇': 18522, '櫻': 18523, '牢': 18524, '荊': 18525, '##ざい': 18526, '##ナダ': 18527, '##二郎': 18528, '##oot': 18529, '##rit': 18530, 'Ev': 18531, 'GA': 18532, 'UK': 18533, 'もも': 18534, '上段': 18535, '両用': 18536, '人造': 18537, '付か': 18538, '企て': 18539, '即興': 18540, '台東': 18541, '困窮': 18542, '埠頭': 18543, '売っ': 18544, '大成': 18545, '履歴': 18546, '快挙': 18547, '感度': 18548, '採算': 18549, '敦賀': 18550, '旧称': 18551, '星雲': 18552, '枢密': 18553, '汚れ': 18554, '溶岩': 18555, '理科': 18556, '百姓': 18557, '築く': 18558, '納税': 18559, '細分': 18560, '臓器': 18561, '臨む': 18562, '薔薇': 18563, '警部': 18564, '類型': 18565, '飼料': 18566, '##ディナ': 18567, '##ヒュー': 18568, '##プラス': 18569, '##レンズ': 18570, '##止める': 18571, 'Bas': 18572, 'Hen': 18573, 'LAN': 18574, 'つなぎ': 18575, 'ケント': 18576, 'ジャム': 18577, 'ティン': 18578, 'マーチ': 18579, '命じる': 18580, '形容詞': 18581, '立ち向': 18582, '試験場': 18583, '##キャスト': 18584, '##マウント': 18585, '##ional': 18586, 'Phil': 18587, 'Serv': 18588, 'UNIX': 18589, 'カーター': 18590, 'ギャップ': 18591, 'トリック': 18592, 'ロータス': 18593, '九州大学': 18594, '作り出す': 18595, '##ッソリーニ': 18596, 'ウォーカー': 18597, 'クレーター': 18598, 'トウモロコシ': 18599, 'ファンクラブ': 18600, 'American': 18601, 'ノンフィクション': 18602, '鉄筋コンクリート': 18603, 'シュトゥットガルト': 18604, '##LL': 18605, '##na': 18606, '嬉': 18607, '朔': 18608, '櫛': 18609, '煩': 18610, '##あげ': 18611, '##監督': 18612, '(#': 18613, '(→': 18614, 'なろ': 18615, 'らく': 18616, 'ウシ': 18617, 'ナー': 18618, 'パッ': 18619, 'ルカ': 18620, '体質': 18621, '入城': 18622, '内乱': 18623, '内紛': 18624, '円錐': 18625, '剣術': 18626, '医科': 18627, '受領': 18628, '同定': 18629, '国造': 18630, '大師': 18631, '天竜': 18632, '天草': 18633, '失望': 18634, '学期': 18635, '寛容': 18636, '平山': 18637, '操る': 18638, '新居': 18639, '曳航': 18640, '有る': 18641, '松戸': 18642, '構文': 18643, '機甲': 18644, '歯車': 18645, '甚大': 18646, '申告': 18647, '直行': 18648, '義経': 18649, '裏面': 18650, '謙信': 18651, '速報': 18652, '電極': 18653, '麻酔': 18654, '##ドゥル': 18655, '##マニア': 18656, '##ヴァイ': 18657, 'Tok': 18658, 'そちら': 18659, 'クイン': 18660, 'ダニー': 18661, 'パウロ': 18662, 'フォア': 18663, 'ペナル': 18664, '先立ち': 18665, '助監督': 18666, '向こう': 18667, '格付け': 18668, '素早く': 18669, '##サンブル': 18670, '1812': 18671, 'that': 18672, 'カクテル': 18673, 'セクター': 18674, 'ベネディ': 18675, 'マリアナ': 18676, 'リソース': 18677, '最寄り駅': 18678, '##スプリング': 18679, 'ウィンドウ': 18680, 'テクニカル': 18681, 'バークレー': 18682, 'ヒドロキシ': 18683, 'サラブレッド': 18684, 'ニューイングランド': 18685, '##60': 18686, '##GS': 18687, '##to': 18688, '寡': 18689, '怨': 18690, '机': 18691, '癖': 18692, '逐': 18693, '##のり': 18694, '##ミド': 18695, '##寄っ': 18696, '##離れ': 18697, '##gel': 18698, 'EM': 18699, 'アヤ': 18700, 'タウ': 18701, 'ポロ': 18702, '上総': 18703, '下賜': 18704, '人為': 18705, '伊那': 18706, '入閣': 18707, '勘定': 18708, '占有': 18709, '君臨': 18710, '商法': 18711, '坂井': 18712, '孵化': 18713, '寄港': 18714, '平凡': 18715, '故意': 18716, '新鮮': 18717, '旧式': 18718, '末尾': 18719, '点灯': 18720, '石見': 18721, '硝酸': 18722, '稲葉': 18723, '続出': 18724, '網羅': 18725, '脊髄': 18726, '自慢': 18727, '致死': 18728, '萩原': 18729, '行け': 18730, '試料': 18731, '贈り': 18732, '頻発': 18733, '##ザンヌ': 18734, '##ツアー': 18735, '##ドレス': 18736, '##ヘビー': 18737, 'XML': 18738, 'それに': 18739, 'たばこ': 18740, 'とどめ': 18741, 'もらえ': 18742, 'コモン': 18743, 'トリー': 18744, 'ネバダ': 18745, '伊集院': 18746, '原子核': 18747, '室内楽': 18748, '風土記': 18749, '黄色い': 18750, '##キュラム': 18751, '##シェヴィ': 18752, '##ティティ': 18753, '1790': 18754, '1835': 18755, 'カスタム': 18756, '吉本興業': 18757, '抜け出し': 18758, '気に入っ': 18759, 'ガブリエル': 18760, 'テロリスト': 18761, 'ピョートル': 18762, 'コンビニエンス': 18763, 'ニューメキシコ': 18764, '乞': 18765, '揖': 18766, '搾': 18767, '汐': 18768, '蔓': 18769, '薨': 18770, '麹': 18771, '##ぐり': 18772, '##ベロ': 18773, '##リケ': 18774, '##伏せ': 18775, '##出る': 18776, '##弟子': 18777, '##連れ': 18778, 'ども': 18779, 'なが': 18780, 'ウド': 18781, 'エム': 18782, 'カビ': 18783, 'ビュ': 18784, 'ミク': 18785, '不快': 18786, '公平': 18787, '分譲': 18788, '吐き': 18789, '多々': 18790, '大平': 18791, '帯広': 18792, '年次': 18793, '戦災': 18794, '打球': 18795, '接種': 18796, '曾孫': 18797, '疲れ': 18798, '登り': 18799, '直訳': 18800, '石狩': 18801, '笑顔': 18802, '編み': 18803, '緯度': 18804, '羽毛': 18805, '肉食': 18806, '跳ね': 18807, '軌間': 18808, '遊戯': 18809, '遭難': 18810, '開場': 18811, '関白': 18812, '離島': 18813, '音速': 18814, '願っ': 18815, '##コント': 18816, '##ッガー': 18817, '##ノルド': 18818, '##ローナ': 18819, '##起こし': 18820, '235': 18821, 'Wil': 18822, 'ぐるみ': 18823, 'みなと': 18824, 'ガダル': 18825, 'クウェ': 18826, 'クレー': 18827, 'ドット': 18828, 'バッド': 18829, 'ピート': 18830, 'プトレ': 18831, 'マッキ': 18832, 'ロッド': 18833, '二塁手': 18834, '楽しん': 18835, '浴びる': 18836, '花崗岩': 18837, '行ない': 18838, '##シアター': 18839, '##ラクシー': 18840, '##ience': 18841, '1810': 18842, 'なんとか': 18843, 'もとより': 18844, 'インスタ': 18845, 'カタール': 18846, 'ジャンヌ': 18847, 'ジョアン': 18848, 'ディック': 18849, 'ハードル': 18850, 'フレンチ': 18851, 'ポップス': 18852, 'マクラー': 18853, 'レジャー': 18854, '成り立っ': 18855, 'Store': 18856, 'ジャガイモ': 18857, 'ビスマルク': 18858, 'プファルツ': 18859, '取り上げる': 18860, '日立製作所': 18861, 'ステアリング': 18862, '揶': 18863, '##んと': 18864, '##ビオ': 18865, '##成績': 18866, '##調べ': 18867, '##ipp': 18868, 'BP': 18869, 'CN': 18870, 'LA': 18871, 'NM': 18872, 'うさ': 18873, 'やつ': 18874, 'リガ': 18875, 'ワト': 18876, '仁川': 18877, '公理': 18878, '別人': 18879, '吉原': 18880, '因果': 18881, '垂れ': 18882, '嫌悪': 18883, '幕張': 18884, '従え': 18885, '御前': 18886, '揶揄': 18887, '本流': 18888, '桜花': 18889, '渡河': 18890, '漁師': 18891, '漁獲': 18892, '潜航': 18893, '猪木': 18894, '理性': 18895, '築地': 18896, '給水': 18897, '老中': 18898, '聴衆': 18899, '街路': 18900, '補欠': 18901, '観衆': 18902, '譲る': 18903, '鍛冶': 18904, '養護': 18905, '高槻': 18906, '##ちらん': 18907, '##カウン': 18908, '##コロン': 18909, '##ッグス': 18910, '##ッツォ': 18911, '##ナムコ': 18912, '##バッグ': 18913, '##武天皇': 18914, 'ISS': 18915, 'MAN': 18916, 'かわい': 18917, 'ゆえに': 18918, 'ナイン': 18919, 'ヌード': 18920, 'フェデ': 18921, 'プリメ': 18922, 'レイク': 18923, '夜明け': 18924, '赤十字': 18925, '速やか': 18926, '##イスター': 18927, '##エティー': 18928, '##チューム': 18929, '##ittle': 18930, '1815': 18931, '1826': 18932, 'Jose': 18933, 'With': 18934, 'イレブン': 18935, 'カエサル': 18936, 'デパート': 18937, 'ハイデル': 18938, 'マクシミ': 18939, '引き渡し': 18940, '運動公園': 18941, '##ンジャミン': 18942, 'Yahoo': 18943, 'キログラム': 18944, 'ガダルカナル': 18945, 'コスチューム': 18946, 'ダイナミック': 18947, 'モンテネグロ': 18948, 'コロンビア大学': 18949, 'パラリンピック': 18950, '##LC': 18951, '揮': 18952, '睦': 18953, '逓': 18954, '##ボエ': 18955, '##不全': 18956, '##向け': 18957, '##族館': 18958, '##ior': 18959, '##uss': 18960, 'PM': 18961, 'Up': 18962, 'あう': 18963, 'けれ': 18964, 'はな': 18965, 'もろ': 18966, 'アガ': 18967, 'ゴロ': 18968, 'バシ': 18969, '三塁': 18970, '乗船': 18971, '乱れ': 18972, '俳人': 18973, '個展': 18974, '光年': 18975, '八代': 18976, '吉祥': 18977, '同線': 18978, '同館': 18979, '城郭': 18980, '増田': 18981, '壁面': 18982, '多量': 18983, '安堵': 18984, '家業': 18985, '干拓': 18986, '座っ': 18987, '復古': 18988, '恒例': 18989, '戦況': 18990, '手首': 18991, '提訴': 18992, '救っ': 18993, '有理': 18994, '残骸': 18995, '治め': 18996, '注入': 18997, '準急': 18998, '独身': 18999, '王宮': 19000, '石巻': 19001, '競艇': 19002, '竹中': 19003, '給料': 19004, '航続': 19005, '薬学': 19006, '許す': 19007, '赴く': 19008, '透過': 19009, '那珂': 19010, '開園': 19011, '降っ': 19012, '離散': 19013, '霧島': 19014, '骨髄': 19015, '高砂': 19016, '##コング': 19017, '##放送局': 19018, 'OEM': 19019, 'UFO': 19020, 'Wal': 19021, 'なれる': 19022, 'シクロ': 19023, 'ペトロ': 19024, 'ルマン': 19025, '女子高': 19026, '琵琶湖': 19027, '由紀夫': 19028, '聞かさ': 19029, '苦しめ': 19030, '親しみ': 19031, '##ゲームス': 19032, '##ナンデス': 19033, '1821': 19034, 'ROCK': 19035, 'まとまっ': 19036, 'ディスカ': 19037, 'マネージ': 19038, '情報処理': 19039, '閉じ込め': 19040, '##ッショナル': 19041, '##プログラム': 19042, 'ステッカー': 19043, 'メモリアル': 19044, 'サラリーマン': 19045, 'マクドナルド': 19046, 'Project': 19047, 'アリストテレス': 19048, 'プトレマイオス': 19049, 'アレクサンドリア': 19050, 'アームストロング': 19051, '##WF': 19052, '##ny': 19053, '凸': 19054, '吏': 19055, '濠': 19056, '窃': 19057, '苑': 19058, '蛋': 19059, '謹': 19060, '醜': 19061, '##ニヤ': 19062, '##ヴン': 19063, '##春秋': 19064, '##降り': 19065, '##...': 19066, '##ody': 19067, 'DA': 19068, 'Ul': 19069, 'いざ': 19070, 'ざい': 19071, 'イデ': 19072, 'トキ': 19073, '中途': 19074, '何故': 19075, '入所': 19076, '創価': 19077, '単線': 19078, '参与': 19079, '岩波': 19080, '慰霊': 19081, '戦記': 19082, '政変': 19083, '新鋭': 19084, '栗原': 19085, '汚職': 19086, '流布': 19087, '漁船': 19088, '無敗': 19089, '発熱': 19090, '直属': 19091, '空位': 19092, '筒井': 19093, '紀行': 19094, '繋ぐ': 19095, '西北': 19096, '試行': 19097, '鍵盤': 19098, '##カーナ': 19099, '##ジスト': 19100, '##セイユ': 19101, '##ージョ': 19102, 'Max': 19103, 'とらえ': 19104, 'タカラ': 19105, 'ディン': 19106, 'ラード': 19107, '中継ぎ': 19108, '好成績': 19109, '掛かる': 19110, '教え子': 19111, '気象庁': 19112, '立ち並': 19113, '装甲車': 19114, '##リオット': 19115, '1833': 19116, 'さよなら': 19117, 'ないしは': 19118, 'アラゴン': 19119, 'アーカイ': 19120, 'タックル': 19121, 'ハンマー': 19122, '三菱電機': 19123, '付き合い': 19124, '相まって': 19125, '##ティション': 19126, '##ヘルツェゴ': 19127, 'Dream': 19128, 'やってくる': 19129, 'シャッター': 19130, '取り付ける': 19131, '##プロジェクト': 19132, '##olution': 19133, 'ドキュメント': 19134, '瞑': 19135, '稔': 19136, '諡': 19137, '##の内': 19138, '##グー': 19139, '##タカ': 19140, '##プシ': 19141, '##命館': 19142, '##III': 19143, '##ico': 19144, '##iew': 19145, '\"。': 19146, 'アユ': 19147, 'イオ': 19148, '主観': 19149, '亜紀': 19150, '刑罰': 19151, '勤労': 19152, '壊れ': 19153, '寄席': 19154, '山林': 19155, '廃墟': 19156, '延べ': 19157, '房総': 19158, '材質': 19159, '村人': 19160, '検挙': 19161, '沈黙': 19162, '滑り': 19163, '狩野': 19164, '直交': 19165, '相場': 19166, '矯正': 19167, '積雪': 19168, '組長': 19169, '育児': 19170, '過度': 19171, '都会': 19172, '配合': 19173, '鉱石': 19174, '降る': 19175, '養女': 19176, '##デヒド': 19177, '##データ': 19178, '##ルドバ': 19179, '##ters': 19180, 'WEB': 19181, 'うつ病': 19182, 'ほんの': 19183, 'わたる': 19184, 'エドゥ': 19185, 'テイク': 19186, 'トゥル': 19187, 'トーン': 19188, 'バント': 19189, 'ブース': 19190, 'ヘヴィ': 19191, 'ランス': 19192, 'ヴィー': 19193, '太政官': 19194, '東大寺': 19195, '立命館': 19196, '裏付け': 19197, '飛ばし': 19198, 'もらえる': 19199, 'インフル': 19200, 'トータル': 19201, 'フィード': 19202, 'フランコ': 19203, 'マーベル': 19204, 'リプレイ': 19205, '##ファローズ': 19206, 'Radio': 19207, 'パスポート': 19208, 'ビクトリア': 19209, 'ファシズム': 19210, '##メンテーター': 19211, 'Corpor': 19212, 'チューリッヒ': 19213, '西武ライオンズ': 19214, '##hr': 19215, '庸': 19216, '榊': 19217, '甫': 19218, '皐': 19219, '錠': 19220, '隈': 19221, '##がみ': 19222, '##ベト': 19223, '##伝え': 19224, '##去っ': 19225, '##研究': 19226, '##ARA': 19227, 'EV': 19228, 'NN': 19229, 'VR': 19230, 'im': 19231, 'qu': 19232, 'かご': 19233, 'かじ': 19234, 'さわ': 19235, 'シマ': 19236, 'テム': 19237, 'ユン': 19238, '一夜': 19239, '下着': 19240, '今年': 19241, '共闘': 19242, '前輪': 19243, '卓越': 19244, '同族': 19245, '呪文': 19246, '図柄': 19247, '売る': 19248, '完備': 19249, '室長': 19250, '家政': 19251, '教材': 19252, '散歩': 19253, '敷か': 19254, '服用': 19255, '松前': 19256, '河岸': 19257, '渡来': 19258, '田口': 19259, '税率': 19260, '筑前': 19261, '綱領': 19262, '表れ': 19263, '転覆': 19264, '闘い': 19265, '電報': 19266, '##ベンツ': 19267, 'CIA': 19268, 'Mil': 19269, 'やっと': 19270, 'ゴッド': 19271, 'デュオ': 19272, 'フュー': 19273, 'リュウ': 19274, '加古川': 19275, '国際線': 19276, '最大限': 19277, '苦しむ': 19278, '##ウィング': 19279, '##ガーデン': 19280, '##ゲームズ': 19281, '##ファーム': 19282, 'Sing': 19283, 'なおかつ': 19284, 'なくなる': 19285, 'オアシス': 19286, 'デュアル': 19287, '受け取り': 19288, '追いかけ': 19289, '##ディズニー': 19290, 'アミューズ': 19291, 'ウォーレン': 19292, 'エンブレム': 19293, 'パラグアイ': 19294, 'フレッシュ': 19295, 'メンフィス': 19296, 'コードネーム': 19297, 'チャップリン': 19298, 'フリーランス': 19299, 'プリンストン': 19300, 'ウィキペディア': 19301, 'メトロポリタン': 19302, '##YP': 19303, 'γ': 19304, '●': 19305, '濡': 19306, '眉': 19307, '胚': 19308, '##ギリ': 19309, '##助け': 19310, '##ISC': 19311, '##uck': 19312, 'Sn': 19313, 'ぼん': 19314, 'わい': 19315, 'スネ': 19316, 'スミ': 19317, 'ドニ': 19318, 'ネブ': 19319, 'ペレ': 19320, 'レプ': 19321, '不便': 19322, '五島': 19323, '切腹': 19324, '加害': 19325, '卸売': 19326, '参列': 19327, '反感': 19328, '吉備': 19329, '子宮': 19330, '富岡': 19331, '就き': 19332, '届出': 19333, '徳間': 19334, '心身': 19335, '応力': 19336, '描画': 19337, '文京': 19338, '新町': 19339, '晒さ': 19340, '暮れ': 19341, '村長': 19342, '水位': 19343, '水槽': 19344, '熱海': 19345, '田畑': 19346, '畜産': 19347, '砂浜': 19348, '福建': 19349, '移築': 19350, '素人': 19351, '紳士': 19352, '荒れ': 19353, '覇権': 19354, '観覧': 19355, '貸与': 19356, '農学': 19357, '野心': 19358, '駅員': 19359, '##カラー': 19360, '##シアン': 19361, '##ッチャ': 19362, '##ンチャ': 19363, '##分ける': 19364, '##変わり': 19365, '##atch': 19366, 'JBC': 19367, 'Out': 19368, 'オルタ': 19369, 'ガイア': 19370, 'スカル': 19371, 'ヒスパ': 19372, 'ワープ': 19373, '乗り場': 19374, '振るわ': 19375, '水族館': 19376, '環境省': 19377, '相談役': 19378, '##アリーナ': 19379, '##ウィッチ': 19380, '##ッカーズ': 19381, '##ローラー': 19382, '1792': 19383, 'Euro': 19384, 'Fire': 19385, 'アトラス': 19386, 'カーテン': 19387, 'グリッド': 19388, 'メーター': 19389, '執り行わ': 19390, '書き換え': 19391, '組み込ん': 19392, '##シェヴィキ': 19393, '##マドリード': 19394, 'フットサル': 19395, '##イコフスキー': 19396, '##ファイターズ': 19397, 'コメンテーター': 19398, '升': 19399, '憑': 19400, '爬': 19401, '腺': 19402, '襟': 19403, '酪': 19404, '釘': 19405, '鵬': 19406, '##アト': 19407, '##シム': 19408, '##セグ': 19409, '##メリ': 19410, '##ラジ': 19411, '##ワル': 19412, '##去ら': 19413, '##ILE': 19414, '##ude': 19415, 'Ca': 19416, 'DB': 19417, 'PT': 19418, 'ほし': 19419, 'アザ': 19420, 'エナ': 19421, '不服': 19422, '修飾': 19423, '叔母': 19424, '受理': 19425, '名字': 19426, '唐津': 19427, '啓発': 19428, '奇数': 19429, '存命': 19430, '客席': 19431, '室蘭': 19432, '当面': 19433, '従わ': 19434, '志村': 19435, '念頭': 19436, '感銘': 19437, '日の': 19438, '書体': 19439, '本稿': 19440, '業種': 19441, '江川': 19442, '池上': 19443, '洗濯': 19444, '球体': 19445, '紙面': 19446, '花園': 19447, '花嫁': 19448, '落城': 19449, '要約': 19450, '誤認': 19451, '護国': 19452, '配当': 19453, '長子': 19454, '間近': 19455, '間際': 19456, '震源': 19457, '黒字': 19458, '##キシン': 19459, '##スペル': 19460, '##ニッツ': 19461, '##ヒェン': 19462, '007': 19463, 'Str': 19464, 'めぐみ': 19465, 'ダライ': 19466, '##ゴールド': 19467, '##スコット': 19468, '##ebook': 19469, 'WAVE': 19470, 'そっくり': 19471, 'とどまる': 19472, 'パニック': 19473, '推し進め': 19474, '文藝春秋': 19475, '角川書店': 19476, '譲り受け': 19477, '##ウォーター': 19478, '##lement': 19479, 'PRIDE': 19480, 'アレルギー': 19481, 'オムニバス': 19482, 'オーシャン': 19483, 'コンタクト': 19484, '問い合わせ': 19485, 'Direct': 19486, 'インフルエンザ': 19487, 'エスカレーター': 19488, 'マクシミリアン': 19489, 'ケンブリッジ大学': 19490, '##40': 19491, '##70': 19492, '##ij': 19493, 'Ζ': 19494, '冪': 19495, '剃': 19496, '此': 19497, '蜜': 19498, '##じゅ': 19499, '##マム': 19500, '##メガ': 19501, '##温泉': 19502, '##ACE': 19503, '##erc': 19504, '##uel': 19505, 'HC': 19506, 'Ju': 19507, 'Kn': 19508, 'TP': 19509, 'ざん': 19510, 'もて': 19511, 'オデ': 19512, 'デリ': 19513, '一変': 19514, '元祖': 19515, '同化': 19516, '変種': 19517, '天龍': 19518, '太く': 19519, '実物': 19520, '対等': 19521, '専業': 19522, '小西': 19523, '川西': 19524, '年貢': 19525, '床下': 19526, '待避': 19527, '急逝': 19528, '愛さ': 19529, '戊辰': 19530, '教訓': 19531, '散見': 19532, '整合': 19533, '旧約': 19534, '明神': 19535, '機内': 19536, '殴り': 19537, '母子': 19538, '沈め': 19539, '益田': 19540, '神事': 19541, '聴覚': 19542, '薬局': 19543, '要領': 19544, '連発': 19545, '馬鹿': 19546, '駆除': 19547, '##テクノ': 19548, '##リッチ': 19549, '##span': 19550, 'tra': 19551, 'いずみ': 19552, 'いつか': 19553, 'タスク': 19554, 'ナビゲ': 19555, 'ノルト': 19556, 'ヘレン': 19557, 'ライス': 19558, '呈する': 19559, '有名人': 19560, '相次ぎ': 19561, '##サッカー': 19562, '##シャイン': 19563, '##ディオン': 19564, '##ブラック': 19565, '##ental': 19566, 'Ever': 19567, 'comp': 19568, 'インフレ': 19569, 'チャット': 19570, 'バルト海': 19571, 'リチウム': 19572, 'ローマ字': 19573, '戊辰戦争': 19574, '##イーグルス': 19575, 'インドシナ': 19576, 'スティック': 19577, 'マルセイユ': 19578, 'ミニゲーム': 19579, 'アルフォンソ': 19580, 'カリキュラム': 19581, 'ニューギニア': 19582, 'レニングラード': 19583, '##mb': 19584, '娼': 19585, '幡': 19586, '彭': 19587, '捏': 19588, '斡': 19589, '矮': 19590, '肢': 19591, '##デジ': 19592, '##ノル': 19593, '##マグ': 19594, '##出そ': 19595, '##後円': 19596, '##持つ': 19597, '##理石': 19598, '##ote': 19599, '##ram': 19600, 'はめ': 19601, 'ひし': 19602, 'へん': 19603, 'カネ': 19604, 'コリ': 19605, 'セク': 19606, 'セブ': 19607, 'ブタ': 19608, 'ボイ': 19609, 'レズ': 19610, '仰角': 19611, '休み': 19612, '偽造': 19613, '全力': 19614, '写し': 19615, '叫び': 19616, '同郷': 19617, '国歌': 19618, '失策': 19619, '学制': 19620, '富ん': 19621, '必死': 19622, '応急': 19623, '捕え': 19624, '敷い': 19625, '時速': 19626, '有能': 19627, '杉浦': 19628, '流星': 19629, '浅間': 19630, '潜伏': 19631, '窃盗': 19632, '級数': 19633, '結集': 19634, '網走': 19635, '英名': 19636, '茨木': 19637, '被疑': 19638, '説く': 19639, '軍機': 19640, '軍縮': 19641, '返答': 19642, '連日': 19643, '阿武': 19644, '面倒': 19645, '##INAL': 19646, 'Mem': 19647, 'RAM': 19648, 'Sun': 19649, 'Tri': 19650, 'mph': 19651, 'シャイ': 19652, 'ヤクザ': 19653, 'ラット': 19654, '下士官': 19655, '兼ねる': 19656, '取り締': 19657, '大まか': 19658, '大理石': 19659, '滅ぼさ': 19660, '紫外線': 19661, '財務省': 19662, '鮮やか': 19663, '##ッフェン': 19664, '##プレート': 19665, '##リックス': 19666, '1795': 19667, '1825': 19668, 'SMAP': 19669, 'かたわら': 19670, 'ただちに': 19671, 'とどまら': 19672, 'ふたたび': 19673, 'シリアル': 19674, 'シリコン': 19675, 'ヘルマン': 19676, '使い分け': 19677, '前方後円': 19678, '生き延び': 19679, 'リサイクル': 19680, 'フィッシャー': 19681, '##ヘルツェゴビナ': 19682, 'ハイデルベルク': 19683, 'バンダイナムコ': 19684, 'ホームスタジアム': 19685, '卯': 19686, '喋': 19687, '塵': 19688, '按': 19689, '馳': 19690, '##くう': 19691, '##くら': 19692, '##すぐ': 19693, '##王星': 19694, '##enz': 19695, 'OK': 19696, 'Of': 19697, 'あず': 19698, 'すば': 19699, 'らし': 19700, 'カド': 19701, '一瞬': 19702, '三陸': 19703, '五月': 19704, '亡き': 19705, '側室': 19706, '備後': 19707, '優遇': 19708, '八尾': 19709, '円谷': 19710, '別個': 19711, '叶わ': 19712, '囲む': 19713, '土井': 19714, '坂口': 19715, '堀江': 19716, '天地': 19717, '天守': 19718, '太い': 19719, '寺田': 19720, '岩国': 19721, '態勢': 19722, '投降': 19723, '挑発': 19724, '疫病': 19725, '症例': 19726, '税務': 19727, '膨ら': 19728, '裁定': 19729, '見下': 19730, '視力': 19731, '親密': 19732, '説話': 19733, '財源': 19734, '軍医': 19735, '込ん': 19736, '通す': 19737, '限度': 19738, '隠岐': 19739, '非合': 19740, '館内': 19741, '高位': 19742, '##どころ': 19743, '##ティコ': 19744, '##ball': 19745, 'Cal': 19746, 'NEW': 19747, 'アディ': 19748, 'グラブ': 19749, 'ゲオル': 19750, 'サリー': 19751, 'ドール': 19752, '中西部': 19753, '内親王': 19754, '宮内庁': 19755, '阿弥陀': 19756, '##シャトル': 19757, '##ルドルフ': 19758, 'DeNA': 19759, 'アイデン': 19760, 'ウォーク': 19761, 'シグナル': 19762, 'ノウハウ': 19763, 'ファイア': 19764, '付け加え': 19765, '##チュワート': 19766, '##バージョン': 19767, 'アンコール': 19768, 'デラックス': 19769, 'パトロール': 19770, '立命館大学': 19771, 'バリアフリー': 19772, 'パンフレット': 19773, 'ドミニカ共和国': 19774, '##by': 19775, '堯': 19776, '嫉': 19777, '朋': 19778, '遍': 19779, '酋': 19780, '鹵': 19781, '##やさ': 19782, '##エク': 19783, '##ダニ': 19784, '##ノワ': 19785, '##モラ': 19786, '##ani': 19787, 'ミト': 19788, '佐倉': 19789, '儒学': 19790, '公方': 19791, '副官': 19792, '包み': 19793, '吉岡': 19794, '坂上': 19795, '家中': 19796, '寄宿': 19797, '市政': 19798, '帰順': 19799, '常備': 19800, '悪性': 19801, '断ら': 19802, '木戸': 19803, '欠番': 19804, '温帯': 19805, '湖畔': 19806, '湿度': 19807, '独断': 19808, '登っ': 19809, '直系': 19810, '真ん': 19811, '破ら': 19812, '祝う': 19813, '苦痛': 19814, '行こ': 19815, '西大': 19816, '輝き': 19817, '運休': 19818, '開墾': 19819, '防備': 19820, '随筆': 19821, '黒澤': 19822, '##ぎょう': 19823, '##ウルフ': 19824, '##サント': 19825, '##ware': 19826, 'GNU': 19827, 'TOP': 19828, 'カブス': 19829, 'サヴォ': 19830, 'ゾンビ': 19831, 'ナショ': 19832, 'パット': 19833, 'パース': 19834, '楽しい': 19835, '##シングル': 19836, '##ストーン': 19837, '##芸術大学': 19838, '##ublic': 19839, '1834': 19840, 'King': 19841, 'Oper': 19842, 'アストロ': 19843, 'セーラー': 19844, 'フォール': 19845, 'ホイッグ': 19846, '取り込み': 19847, '知らせる': 19848, '##イスターズ': 19849, '##コロムビア': 19850, '##ナンシャル': 19851, 'インテリア': 19852, 'クウェート': 19853, 'ソクラテス': 19854, '##ソフトウェア': 19855, 'ベネディクト': 19856, 'コンプレックス': 19857, 'インディアナポリス': 19858, '徽': 19859, '擲': 19860, '榛': 19861, '采': 19862, '##ザメ': 19863, '##屋敷': 19864, '##建設': 19865, '##梗塞': 19866, '##高原': 19867, '##asc': 19868, '++': 19869, 'XP': 19870, 'bl': 19871, 'it': 19872, 'tr': 19873, 'とれ': 19874, 'ウリ': 19875, 'シス': 19876, 'パト': 19877, 'ヘビ': 19878, 'ホノ': 19879, '以東': 19880, '伽藍': 19881, '側線': 19882, '充填': 19883, '出せ': 19884, '叙事': 19885, '吹田': 19886, '変調': 19887, '多年': 19888, '奉公': 19889, '宮川': 19890, '時事': 19891, '残せ': 19892, '水車': 19893, '穏健': 19894, '竜王': 19895, '耕作': 19896, '警護': 19897, '門前': 19898, '陸戦': 19899, '##きゅう': 19900, '##シュア': 19901, '##トップ': 19902, '##ハード': 19903, '##ペース': 19904, '##マンス': 19905, '##aint': 19906, '\")」': 19907, '256': 19908, 'Pat': 19909, 'del': 19910, 'ver': 19911, 'コスモ': 19912, '下がり': 19913, '公文書': 19914, '教職員': 19915, '最前線': 19916, '第一線': 19917, '菩提寺': 19918, '##シアード': 19919, '##ローニャ': 19920, '##ンドラー': 19921, '1828': 19922, 'エドガー': 19923, 'サミット': 19924, 'ロッキー': 19925, '取り巻く': 19926, '取り消し': 19927, 'カレンダー': 19928, 'パラダイス': 19929, 'プリキュア': 19930, 'ランニング': 19931, 'Thomas': 19932, 'ディビジョン': 19933, 'ミッドウェー': 19934, '組み合わせる': 19935, 'ジャンクション': 19936, '##uz': 19937, '囃': 19938, '弧': 19939, '殊': 19940, '矩': 19941, '雁': 19942, '##てん': 19943, '##ツク': 19944, '##ツジ': 19945, '##ヌイ': 19946, '##ハリ': 19947, '##着く': 19948, '##aka': 19949, '##uby': 19950, '##yle': 19951, 'NI': 19952, 'Ob': 19953, 'PH': 19954, 'おは': 19955, 'スモ': 19956, 'バウ': 19957, 'ミカ': 19958, '争奪': 19959, '入省': 19960, '冷蔵': 19961, '切ら': 19962, '南洋': 19963, '厚木': 19964, '吉村': 19965, '命題': 19966, '宇佐': 19967, '崇敬': 19968, '平城': 19969, '役に': 19970, '懐疑': 19971, '手腕': 19972, '持参': 19973, '新約': 19974, '武藤': 19975, '直ぐ': 19976, '秋元': 19977, '絶大': 19978, '脚色': 19979, '英字': 19980, '蛋白': 19981, '買わ': 19982, '足ら': 19983, '送付': 19984, '##っぽん': 19985, '##チュエ': 19986, '##ナリー': 19987, '##ビック': 19988, '##メロン': 19989, '206': 19990, 'Roy': 19991, 'キラー': 19992, 'シャツ': 19993, 'トマト': 19994, 'パルマ': 19995, 'ラルフ': 19996, '下回る': 19997, '佐久間': 19998, '使い方': 19999, '取り外': 20000, '大気圏': 20001, '打ち破': 20002, '改める': 20003, '見立て': 20004, '騎兵隊': 20005, '##ガスカル': 20006, '##レコーズ': 20007, '##cript': 20008, '1780': 20009, 'アンゴラ': 20010, 'カタカナ': 20011, 'ダブリン': 20012, 'プレゼン': 20013, 'ラトビア': 20014, '伊勢神宮': 20015, '取り決め': 20016, '##ウェールズ': 20017, 'チュニジア': 20018, 'バーチャル': 20019, 'ボウリング': 20020, '##バスティアン': 20021, 'マダガスカル': 20022, '第一高等学校': 20023, 'キックボクシング': 20024, 'ッ': 20025, '浙': 20026, '灘': 20027, '煎': 20028, '鬱': 20029, '##シク': 20030, '##ナリ': 20031, '##育て': 20032, '##eng': 20033, '##erg': 20034, '##olf': 20035, '##str': 20036, 'Hz': 20037, 'ちか': 20038, 'カト': 20039, 'ポツ': 20040, '乱闘': 20041, '信奉': 20042, '入間': 20043, '全廃': 20044, '円滑': 20045, '冊子': 20046, '動的': 20047, '右舷': 20048, '司る': 20049, '大沢': 20050, '妄想': 20051, '山々': 20052, '強風': 20053, '微小': 20054, '戦犯': 20055, '手作': 20056, '承継': 20057, '標榜': 20058, '欠か': 20059, '注力': 20060, '牽制': 20061, '生む': 20062, '簡略': 20063, '綴っ': 20064, '花序': 20065, '近親': 20066, '迫撃': 20067, '長良': 20068, '靖国': 20069, '騎馬': 20070, '##ッチン': 20071, '##ハール': 20072, '##ーナー': 20073, '##映画祭': 20074, '##ista': 20075, 'Mal': 20076, 'ばやし': 20077, 'イアン': 20078, 'ガンマ': 20079, 'ハーン': 20080, 'バッジ': 20081, 'ヒート': 20082, '万国博': 20083, '子育て': 20084, '心不全': 20085, '没する': 20086, '真ん中': 20087, '財政難': 20088, '##ファンド': 20089, '1803': 20090, 'いち早く': 20091, 'かえって': 20092, 'こだわり': 20093, 'クラッチ': 20094, 'サンスク': 20095, 'スチール': 20096, 'ドロップ': 20097, 'フェリペ': 20098, 'ブリスト': 20099, '果たして': 20100, '##国際映画祭': 20101, 'Class': 20102, 'アベニュー': 20103, 'マウンテン': 20104, 'ロースター': 20105, 'チャリティー': 20106, 'ランカスター': 20107, 'ヴァイオリニスト': 20108, 'プロフェッショナル': 20109, 'マスコットキャラクター': 20110, '##12': 20111, '##80': 20112, '膠': 20113, '錫': 20114, '##げん': 20115, '##道具': 20116, '##ema': 20117, '##ora': 20118, 'IW': 20119, 'MY': 20120, 'RK': 20121, 'XX': 20122, 'あけ': 20123, 'あす': 20124, 'はっ': 20125, 'まじ': 20126, 'みえ': 20127, 'みき': 20128, 'クア': 20129, 'ハス': 20130, '一向': 20131, '一座': 20132, '上智': 20133, '保た': 20134, '修験': 20135, '分隊': 20136, '多賀': 20137, '嫉妬': 20138, '実名': 20139, '専ら': 20140, '専売': 20141, '小路': 20142, '帝位': 20143, '帯域': 20144, '幸運': 20145, '捕ら': 20146, '整っ': 20147, '文言': 20148, '本隊': 20149, '条文': 20150, '湖北': 20151, '漬け': 20152, '無断': 20153, '産ん': 20154, '皇女': 20155, '着色': 20156, '老舗': 20157, '谷川': 20158, '超越': 20159, '踏む': 20160, '電機': 20161, '風力': 20162, '首領': 20163, '鹵獲': 20164, '麻布': 20165, '##しくも': 20166, '##ウィル': 20167, '##チスロ': 20168, '##ツィン': 20169, '##テマラ': 20170, '##ャルト': 20171, '##ーナス': 20172, '##語大学': 20173, 'ATS': 20174, 'FNN': 20175, 'GPS': 20176, 'さとう': 20177, 'シスコ': 20178, 'バラク': 20179, 'モニタ': 20180, 'ルース': 20181, '備わっ': 20182, '農学部': 20183, '離着陸': 20184, '##県立大学': 20185, '1776': 20186, 'フリート': 20187, 'ローラー': 20188, '取りやめ': 20189, '##ブリュック': 20190, '##ムナジウム': 20191, 'ウエスタン': 20192, '切り替える': 20193, '##アイルランド': 20194, 'George': 20195, 'マグニチュード': 20196, '日本コロムビア': 20197, 'チャイコフスキー': 20198, 'ポールポジション': 20199, '俵': 20200, '某': 20201, '楯': 20202, '檜': 20203, '渉': 20204, '縞': 20205, '##わう': 20206, '##グン': 20207, '##年始': 20208, '##振り': 20209, '##電池': 20210, '##arm': 20211, '##era': 20212, '##lin': 20213, '##och': 20214, '##ret': 20215, 'NK': 20216, 'RD': 20217, 'Ze': 20218, 'っ子': 20219, 'タク': 20220, '分社': 20221, '受給': 20222, '噛み': 20223, '多角': 20224, '如何': 20225, '学力': 20226, '宇和': 20227, '山上': 20228, '役柄': 20229, '恒久': 20230, '戦没': 20231, '撃た': 20232, '擲弾': 20233, '本誌': 20234, '欠く': 20235, '気味': 20236, '満塁': 20237, '炭化': 20238, '生計': 20239, '腐食': 20240, '解離': 20241, '起草': 20242, '遠江': 20243, '酋長': 20244, '隆起': 20245, '雌雄': 20246, '頭蓋': 20247, '##んどん': 20248, '##ケース': 20249, '##ッサン': 20250, '##レッタ': 20251, '##掛かり': 20252, '##cess': 20253, ')」。': 20254, '225': 20255, '802': 20256, 'WOW': 20257, 'iOS': 20258, 'net': 20259, 'ベット': 20260, 'ホープ': 20261, 'ボウル': 20262, 'ラーマ': 20263, '取れる': 20264, '広まり': 20265, '思想家': 20266, '手助け': 20267, '携わり': 20268, '検察庁': 20269, '私生活': 20270, '聖なる': 20271, '華やか': 20272, '薬剤師': 20273, '##クリーム': 20274, '##ステッド': 20275, '##タノール': 20276, '1793': 20277, 'Carl': 20278, 'アイゼン': 20279, 'デンバー': 20280, '年末年始': 20281, '読み切り': 20282, 'オセアニア': 20283, 'ステータス': 20284, 'チャーター': 20285, 'パスワード': 20286, 'ビジュアル': 20287, 'ヴェルディ': 20288, '##ペンハーゲン': 20289, 'Street': 20290, 'ベンジャミン': 20291, 'マクラーレン': 20292, 'Research': 20293, 'ユニバーシアード': 20294, 'Corporation': 20295, '##TH': 20296, '##va': 20297, '##án': 20298, '廷': 20299, '撒': 20300, '櫓': 20301, '鋸': 20302, '鮎': 20303, '##々的': 20304, '##ツネ': 20305, '##パニ': 20306, '##ビィ': 20307, '##平野': 20308, '##新田': 20309, '##ALL': 20310, '##AMA': 20311, 'Gi': 20312, 'きよ': 20313, 'ひさ': 20314, 'イケ': 20315, 'クィ': 20316, 'ソン': 20317, '上面': 20318, '世に': 20319, '京橋': 20320, '公然': 20321, '再演': 20322, '利害': 20323, '勧請': 20324, '北川': 20325, '合祀': 20326, '否決': 20327, '埋立': 20328, '執る': 20329, '増減': 20330, '審理': 20331, '左舷': 20332, '店員': 20333, '庶子': 20334, '怪談': 20335, '戸塚': 20336, '捕縛': 20337, '採決': 20338, '断続': 20339, '有望': 20340, '本紀': 20341, '流量': 20342, '熟成': 20343, '爬虫': 20344, '牛肉': 20345, '産物': 20346, '甲賀': 20347, '疲弊': 20348, '瞑想': 20349, '終末': 20350, '絵図': 20351, '肥料': 20352, '至近': 20353, '英訳': 20354, '蒸発': 20355, '製紙': 20356, '覆っ': 20357, '遺骨': 20358, '鍛え': 20359, '陶磁': 20360, '鳴き': 20361, '##アドル': 20362, '##ゲルス': 20363, '##ッツィ': 20364, '##テルン': 20365, '##ates': 20366, '##irst': 20367, 'Jul': 20368, 'に関し': 20369, 'インフ': 20370, 'オルガ': 20371, 'キース': 20372, 'ギャル': 20373, 'ケビン': 20374, 'シャム': 20375, 'ジオン': 20376, 'ジャコ': 20377, 'テッド': 20378, 'ボトル': 20379, 'ポーズ': 20380, 'リーガ': 20381, '一人物': 20382, '先立つ': 20383, '叙事詩': 20384, '喫茶店': 20385, '大々的': 20386, '大納言': 20387, '捧げる': 20388, '積み重': 20389, '面する': 20390, '##ウィーク': 20391, '##キンソン': 20392, '##マガジン': 20393, '##erson': 20394, '##press': 20395, 'なかよし': 20396, 'アフター': 20397, 'アングル': 20398, 'ジュース': 20399, 'ニコラス': 20400, 'ニーダー': 20401, 'ノーマル': 20402, 'フラット': 20403, 'ミッキー': 20404, '##アントニオ': 20405, 'ICOCA': 20406, 'アーノルド': 20407, 'デュエット': 20408, '##ベースボール': 20409, 'Little': 20410, 'Company': 20411, 'コペンハーゲン': 20412, 'Institute': 20413, 'ファッションモデル': 20414, '##ón': 20415, '畿': 20416, '##ウオ': 20417, '##コイ': 20418, '##ゴリ': 20419, '##セク': 20420, '##ミオ': 20421, '##井沢': 20422, '##面目': 20423, '##amm': 20424, '##aut': 20425, '##gan': 20426, '##ima': 20427, 'Rh': 20428, 'える': 20429, 'おま': 20430, 'かり': 20431, 'とこ': 20432, 'ひま': 20433, 'カサ': 20434, 'ガム': 20435, 'コイ': 20436, 'ピレ': 20437, '件数': 20438, '修繕': 20439, '光度': 20440, '光源': 20441, '北見': 20442, '可視': 20443, '各部': 20444, '合間': 20445, '坂田': 20446, '増発': 20447, '宗像': 20448, '対し': 20449, '小石': 20450, '山西': 20451, '左京': 20452, '平戸': 20453, '年下': 20454, '恨み': 20455, '意外': 20456, '愛用': 20457, '感想': 20458, '投影': 20459, '抗原': 20460, '捏造': 20461, '斡旋': 20462, '星座': 20463, '曲げ': 20464, '欠如': 20465, '武者': 20466, '水量': 20467, '無機': 20468, '破裂': 20469, '終止': 20470, '自律': 20471, '薨去': 20472, '裏側': 20473, '規律': 20474, '購買': 20475, '贈っ': 20476, '逆襲': 20477, '醍醐': 20478, '長井': 20479, '隣国': 20480, '面接': 20481, '音波': 20482, '頼ま': 20483, '黒星': 20484, '##カルド': 20485, '##ティカ': 20486, '##ボルト': 20487, '##ンクス': 20488, '##rich': 20489, ')』(': 20490, '212': 20491, 'Alb': 20492, 'Dig': 20493, 'Dis': 20494, 'Fre': 20495, 'づらい': 20496, 'カルボ': 20497, 'キリン': 20498, 'ジェル': 20499, '低かっ': 20500, '千秋楽': 20501, '原住民': 20502, '商学部': 20503, '天台宗': 20504, '最低限': 20505, '白血病': 20506, '##こうとう': 20507, '##ウイルス': 20508, '##キャンプ': 20509, '1781': 20510, '1808': 20511, '3500': 20512, 'name': 20513, 'シンフォ': 20514, 'ティーン': 20515, '引き出し': 20516, '繰り上げ': 20517, '見つかり': 20518, '##アメリカン': 20519, '##プロセッサ': 20520, '##ージェイズ': 20521, 'アイランド': 20522, 'アンソニー': 20523, 'グアテマラ': 20524, 'セグメント': 20525, 'アムトラック': 20526, 'アンサンブル': 20527, 'フィニッシュ': 20528, 'General': 20529, 'キャスティング': 20530, '亨': 20531, '蘆': 20532, '##ざん': 20533, '##エナ': 20534, '##ニム': 20535, '##外国': 20536, '##惚れ': 20537, '##河内': 20538, '##ACT': 20539, '##gin': 20540, 'Sk': 20541, 'TW': 20542, 'かお': 20543, 'くう': 20544, 'ひだ': 20545, 'スエ': 20546, 'セビ': 20547, 'セリ': 20548, '享年': 20549, '人達': 20550, '傷害': 20551, '募金': 20552, '参院': 20553, '多忙': 20554, '太宰': 20555, '妻子': 20556, '定式': 20557, '岡部': 20558, '島嶼': 20559, '年数': 20560, '序列': 20561, '彦根': 20562, '拘置': 20563, '服役': 20564, '朝夕': 20565, '果樹': 20566, '榎本': 20567, '正史': 20568, '溢れ': 20569, '潤滑': 20570, '熱中': 20571, '献呈': 20572, '甲状': 20573, '発布': 20574, '直人': 20575, '秋月': 20576, '種々': 20577, '答申': 20578, '紫色': 20579, '組曲': 20580, '舞い': 20581, '苗字': 20582, '苦情': 20583, '講じ': 20584, '贈呈': 20585, '転任': 20586, '転職': 20587, '青梅': 20588, '願う': 20589, '##カルロ': 20590, '##スパー': 20591, '##デッド': 20592, '##パニョ': 20593, '##ラジオ': 20594, '##リーフ': 20595, '##レーナ': 20596, 'Sky': 20597, 'エキス': 20598, 'オバマ': 20599, 'チョン': 20600, 'マラー': 20601, 'ミゲル': 20602, 'ミール': 20603, 'ムード': 20604, '下水道': 20605, '冷たい': 20606, '農産物': 20607, '##いちらん': 20608, '##ッチェル': 20609, '##ハーサル': 20610, '1819': 20611, 'おもちゃ': 20612, 'たいてい': 20613, 'アクセル': 20614, 'オンエア': 20615, 'オークス': 20616, 'コンビニ': 20617, 'スパイク': 20618, 'スレッド': 20619, 'テンソル': 20620, 'ディスコ': 20621, 'ナンシー': 20622, 'ポツダム': 20623, '産経新聞': 20624, '##外国語大学': 20625, 'インバータ': 20626, 'ギャンブル': 20627, 'コーディネ': 20628, '取り入れる': 20629, 'カートリッジ': 20630, 'バーミンガム': 20631, 'Society': 20632, 'Special': 20633, 'サンスクリット': 20634, '北アイルランド': 20635, '##インターナショナル': 20636, '##\"\"': 20637, '##IZ': 20638, '彷': 20639, '赦': 20640, '閃': 20641, '雍': 20642, '##粒子': 20643, '##西洋': 20644, '##音楽': 20645, '##IVE': 20646, '##ugh': 20647, 'BA': 20648, 'Kh': 20649, 'NR': 20650, 'うめ': 20651, 'つぶ': 20652, 'ねこ': 20653, 'エラ': 20654, 'サザ': 20655, 'ペリ': 20656, 'ホス': 20657, 'ボロ': 20658, '下方': 20659, '下田': 20660, '両院': 20661, '代金': 20662, '仲良': 20663, '併記': 20664, '供述': 20665, '前漢': 20666, '創出': 20667, '厳重': 20668, '城山': 20669, '大泉': 20670, '大黒': 20671, '小中': 20672, '山の': 20673, '市議': 20674, '府県': 20675, '彩色': 20676, '戦わ': 20677, '抗生': 20678, '救わ': 20679, '水利': 20680, '汲む': 20681, '洋楽': 20682, '熱い': 20683, '登る': 20684, '皐月': 20685, '神仏': 20686, '腎臓': 20687, '行軍': 20688, '託し': 20689, '誘発': 20690, '転出': 20691, '追贈': 20692, '鍋島': 20693, '長浜': 20694, '開示': 20695, '降雪': 20696, '高値': 20697, '##バシー': 20698, '##マーン': 20699, '##レンツ': 20700, '##武道館': 20701, '701': 20702, 'JNN': 20703, 'Vis': 20704, 'エグゼ': 20705, 'ゼウス': 20706, 'パッチ': 20707, 'パラオ': 20708, 'ボイコ': 20709, '弦楽器': 20710, '応える': 20711, '脂肪酸': 20712, '##ユニット': 20713, '1794': 20714, '1805': 20715, 'feat': 20716, 'にっぽん': 20717, 'クリック': 20718, 'ケータイ': 20719, 'コサック': 20720, 'ターナー': 20721, 'ディーン': 20722, 'ハングル': 20723, 'ルーカス': 20724, '北大西洋': 20725, '##アカデミー': 20726, 'アンモニア': 20727, 'エレクトロ': 20728, 'コンパイラ': 20729, 'リハーサル': 20730, '日本武道館': 20731, '##コレクション': 20732, 'コントローラ': 20733, 'パワーアップ': 20734, 'プロパガンダ': 20735, '少年ジャンプ': 20736, 'フランチェスコ': 20737, 'Champion': 20738, 'オックスフォード大学': 20739, '##vi': 20740, '覗': 20741, '輿': 20742, '##遣い': 20743, '##ONE': 20744, '##bps': 20745, 'Af': 20746, 'Ke': 20747, '下車': 20748, '予科': 20749, '元服': 20750, '兵科': 20751, '同情': 20752, '商社': 20753, '場外': 20754, '宿舎': 20755, '密教': 20756, '巨額': 20757, '市外': 20758, '形作': 20759, '悩ん': 20760, '手足': 20761, '払っ': 20762, '探求': 20763, '東邦': 20764, '法皇': 20765, '泥棒': 20766, '注ぎ': 20767, '測度': 20768, '爆笑': 20769, '物事': 20770, '登頂': 20771, '皮質': 20772, '盗ん': 20773, '盗賊': 20774, '直立': 20775, '知多': 20776, '知覚': 20777, '稲垣': 20778, '脂質': 20779, '花粉': 20780, '落札': 20781, '蒲生': 20782, '豊岡': 20783, '貼ら': 20784, '越冬': 20785, '迷惑': 20786, '通販': 20787, '##ふそう': 20788, '##ジェン': 20789, '##ダコタ': 20790, '##バイン': 20791, '##ブソン': 20792, '##ヴェイ': 20793, '##ヴォン': 20794, '##ideo': 20795, 'Gal': 20796, 'MAR': 20797, 'und': 20798, 'ケイト': 20799, 'サハラ': 20800, 'ジーク': 20801, 'タイル': 20802, 'テトラ': 20803, 'ニース': 20804, 'ハープ': 20805, 'ブーツ': 20806, 'ロスト': 20807, '代議員': 20808, '伸ばす': 20809, '埋める': 20810, '大文字': 20811, '幼馴染': 20812, '根拠地': 20813, '格納庫': 20814, '買い物': 20815, '##ウェーブ': 20816, '##ステージ': 20817, '##ルスキー': 20818, '##ander': 20819, '1802': 20820, 'Land': 20821, 'Miss': 20822, 'ウェイト': 20823, 'オーボエ': 20824, 'トラスト': 20825, '書き込み': 20826, '##ection': 20827, 'Tokyo': 20828, 'ステファン': 20829, 'ディーラー': 20830, 'ブリストル': 20831, 'プリメーラ': 20832, 'ラファエル': 20833, '三菱ふそう': 20834, 'オースティン': 20835, 'パイプライン': 20836, '##コーポレーション': 20837, 'アトランティック': 20838, '匈': 20839, '旺': 20840, '曜': 20841, '##かう': 20842, '##つう': 20843, '##ムラ': 20844, '##製薬': 20845, '##酒屋': 20846, '##ars': 20847, '##elf': 20848, '##hed': 20849, '##ird': 20850, 'Ap': 20851, 'co': 20852, 'my': 20853, 'スン': 20854, 'セー': 20855, 'ダメ': 20856, 'パロ': 20857, 'ベリ': 20858, '二度': 20859, '代償': 20860, '分光': 20861, '化物': 20862, '四肢': 20863, '外壁': 20864, '大船': 20865, '実録': 20866, '寵愛': 20867, '岩田': 20868, '店主': 20869, '新庄': 20870, '施す': 20871, '更生': 20872, '林道': 20873, '校内': 20874, '校歌': 20875, '民生': 20876, '沈み': 20877, '縦断': 20878, '見い': 20879, '触発': 20880, '課し': 20881, '車輛': 20882, '過失': 20883, '閉校': 20884, '闘士': 20885, '雇い': 20886, '青島': 20887, '##セイン': 20888, '##タワー': 20889, '##パルス': 20890, '##ベルグ': 20891, '##マシン': 20892, '##レリア': 20893, '##ンドゥ': 20894, '##idge': 20895, 'mac': 20896, 'さほど': 20897, 'ケーニ': 20898, 'バース': 20899, '久留米': 20900, '関東軍': 20901, '##ゴメリー': 20902, '##リサーチ': 20903, '1791': 20904, '1807': 20905, '1829': 20906, 'Game': 20907, 'どんどん': 20908, 'なぜなら': 20909, 'はじまり': 20910, 'はじめる': 20911, 'アントン': 20912, 'オーロラ': 20913, 'バチカン': 20914, 'ファイン': 20915, 'フォース': 20916, '##ラクティブ': 20917, 'ファシスト': 20918, 'ボイコット': 20919, 'ボローニャ': 20920, 'Charles': 20921, 'エージェンシー': 20922, 'クロスオーバー': 20923, 'パーソナリティー': 20924, 'コンビニエンスストア': 20925, '##ci': 20926, '允': 20927, '淮': 20928, '渾': 20929, '滴': 20930, '陝': 20931, '##せつ': 20932, '##らぎ': 20933, '##シド': 20934, '##ズィ': 20935, '##テア': 20936, '##ボラ': 20937, '##リド': 20938, '##倒し': 20939, '##文化': 20940, '.(': 20941, ':「': 20942, 'RB': 20943, 'げき': 20944, 'オロ': 20945, 'サボ': 20946, 'ラボ': 20947, 'ルナ': 20948, '亀井': 20949, '付し': 20950, '兄妹': 20951, '児島': 20952, '八郎': 20953, '分水': 20954, '即時': 20955, '台場': 20956, '和声': 20957, '和音': 20958, '咲く': 20959, '土手': 20960, '地雷': 20961, '大乗': 20962, '局員': 20963, '店内': 20964, '引数': 20965, '明朝': 20966, '東国': 20967, '松阪': 20968, '植生': 20969, '正午': 20970, '活字': 20971, '済む': 20972, '男児': 20973, '眺め': 20974, '知恵': 20975, '秒間': 20976, '窮地': 20977, '菌糸': 20978, '課金': 20979, '讃え': 20980, '賀茂': 20981, '賜っ': 20982, '車道': 20983, '逓信': 20984, '重症': 20985, '銀貨': 20986, '銃弾': 20987, '随所': 20988, '領国': 20989, '顔料': 20990, '##バトル': 20991, '##レイズ': 20992, 'Ant': 20993, 'のぼる': 20994, 'アリー': 20995, 'カッコ': 20996, 'ション': 20997, 'テラス': 20998, '中距離': 20999, '二度と': 21000, '建設省': 21001, '当たら': 21002, '民進党': 21003, '親しい': 21004, '非公開': 21005, '##プシャー': 21006, '##ンタイム': 21007, '##急行電鉄': 21008, 'Free': 21009, 'たちまち': 21010, 'なかでも': 21011, 'アダムズ': 21012, 'カーボン': 21013, 'クラウス': 21014, 'セグンダ': 21015, 'プライス': 21016, 'ボディー': 21017, 'リターン': 21018, '移り住ん': 21019, '##intosh': 21020, 'DREAM': 21021, 'Sound': 21022, 'ストライク': 21023, 'タブレット': 21024, 'チェルシー': 21025, '朝日新聞社': 21026, 'ジョンストン': 21027, 'パラシュート': 21028, '##プロモーション': 21029, 'フェルディナント': 21030, 'メディアミックス': 21031, '##li': 21032, '▲': 21033, '會': 21034, '梵': 21035, '轟': 21036, '##べく': 21037, '##まん': 21038, '##コラ': 21039, '##モト': 21040, '##晦日': 21041, '##条件': 21042, '##組合': 21043, '##ada': 21044, '##ida': 21045, '##oto': 21046, 'FD': 21047, 'つね': 21048, 'つば': 21049, 'のせ': 21050, 'はつ': 21051, 'やし': 21052, 'カヤ': 21053, 'セオ': 21054, 'モラ': 21055, '久喜': 21056, '元治': 21057, '刺さ': 21058, '加担': 21059, '加水': 21060, '匈奴': 21061, '各務': 21062, '嘱託': 21063, '埋蔵': 21064, '執事': 21065, '好投': 21066, '完投': 21067, '弾劾': 21068, '手帳': 21069, '抑留': 21070, '文官': 21071, '有楽': 21072, '極度': 21073, '極秘': 21074, '浩二': 21075, '潮流': 21076, '直樹': 21077, '租税': 21078, '算術': 21079, '続々': 21080, '習い': 21081, '聴き': 21082, '西園': 21083, '退化': 21084, '阻ま': 21085, '##き出し': 21086, '##ったり': 21087, '##ティル': 21088, '##ニョン': 21089, '##ホーフ': 21090, '##ラング': 21091, '##レック': 21092, '##込める': 21093, '##ella': 21094, '##ular': 21095, ')。「': 21096, 'May': 21097, 'man': 21098, 'new': 21099, 'エステ': 21100, 'ガーナ': 21101, 'スライ': 21102, 'ティル': 21103, 'テッサ': 21104, '乗り物': 21105, '優しい': 21106, '市庁舎': 21107, '挙がっ': 21108, '長方形': 21109, '##アングル': 21110, '##イヤルズ': 21111, '##メーカー': 21112, '##リエット': 21113, '##ensis': 21114, 'Blue': 21115, 'Brit': 21116, 'LINE': 21117, 'Park': 21118, 'おはよう': 21119, 'なるべく': 21120, 'やむなく': 21121, 'ハイパー': 21122, 'バングラ': 21123, 'フィルタ': 21124, 'ヴォルガ': 21125, '上智大学': 21126, '負け越し': 21127, '迎え入れ': 21128, '逃げ出し': 21129, 'ネブラスカ': 21130, 'モーメント': 21131, 'エレクトロニ': 21132, 'バラエティー': 21133, 'ヴェルサイユ': 21134, 'Facebook': 21135, 'トランスフォーマー': 21136, '##JI': 21137, '##PA': 21138, '##ks': 21139, '♪': 21140, '噺': 21141, '攘': 21142, '毀': 21143, '餓': 21144, '##ぜん': 21145, '##セミ': 21146, '##ナガ': 21147, '##バク': 21148, '##商事': 21149, '##続け': 21150, '##陛下': 21151, '##erm': 21152, '##rew': 21153, 'Cy': 21154, 'Du': 21155, 'LG': 21156, 'pH': 21157, 'かげ': 21158, 'ほり': 21159, 'オシ': 21160, 'ビザ': 21161, 'ホッ': 21162, 'ボケ': 21163, 'ムン': 21164, '三沢': 21165, '不変': 21166, '了解': 21167, '会期': 21168, '侮辱': 21169, '侵食': 21170, '八百': 21171, '冷静': 21172, '前哨': 21173, '外傷': 21174, '家柄': 21175, '密輸': 21176, '戦乱': 21177, '払う': 21178, '放流': 21179, '星団': 21180, '栗田': 21181, '歌川': 21182, '毎秒': 21183, '比定': 21184, '洋上': 21185, '消す': 21186, '減衰': 21187, '瑞穂': 21188, '疾病': 21189, '監察': 21190, '石山': 21191, '襲う': 21192, '違和': 21193, '阿賀': 21194, '霊場': 21195, '首謀': 21196, '鳴門': 21197, '##ろしい': 21198, '##ウィー': 21199, '##ヤーズ': 21200, 'CAS': 21201, 'Hol': 21202, 'Sam': 21203, 'アワー': 21204, 'グリル': 21205, 'ジョイ': 21206, 'ブリス': 21207, 'マキシ': 21208, 'ミラン': 21209, 'メロン': 21210, 'ラング': 21211, 'リニア': 21212, '一般に': 21213, '岸和田': 21214, '準ずる': 21215, '題する': 21216, '##ショット': 21217, '##ハウンド': 21218, '1775': 21219, 'きちんと': 21220, 'アーカン': 21221, 'クラウド': 21222, 'スタニス': 21223, 'ヒューズ': 21224, 'Wrest': 21225, 'ステロイド': 21226, 'ハーバート': 21227, 'バビロニア': 21228, '##ピクチャーズ': 21229, 'ワークショップ': 21230, 'コンペティション': 21231, 'Macintosh': 21232, '##MM': 21233, '##TP': 21234, '丼': 21235, '嵩': 21236, '殲': 21237, '糧': 21238, '芯': 21239, '誅': 21240, '##ずり': 21241, '##ゆう': 21242, '##テリ': 21243, '##ラノ': 21244, '##レロ': 21245, '##天候': 21246, '##帰り': 21247, '##残し': 21248, '##覧会': 21249, '##討ち': 21250, '##AME': 21251, '##obe': 21252, 'KC': 21253, 'だれ': 21254, 'ちり': 21255, 'ふし': 21256, 'カバ': 21257, 'ピル': 21258, '仏像': 21259, '初旬': 21260, '勇敢': 21261, '受諾': 21262, '回航': 21263, '城代': 21264, '堂々': 21265, '安房': 21266, '実兄': 21267, '巫女': 21268, '救世': 21269, '柳田': 21270, '業態': 21271, '正直': 21272, '残党': 21273, '清国': 21274, '由良': 21275, '破滅': 21276, '脱線': 21277, '講堂': 21278, '返事': 21279, '述懐': 21280, '逸脱': 21281, '長け': 21282, '除名': 21283, '陪審': 21284, '隠蔽': 21285, '鳴り': 21286, '##ザイク': 21287, '##ディレ': 21288, '##ビーク': 21289, '##ータン': 21290, '##合わさ': 21291, '-』(': 21292, 'Def': 21293, 'Sur': 21294, 'おさめ': 21295, 'ひばり': 21296, 'アセン': 21297, 'エコー': 21298, 'キッズ': 21299, 'キティ': 21300, 'クルド': 21301, 'サイコ': 21302, 'スレイ': 21303, 'レッズ': 21304, '起こら': 21305, '運輸省': 21306, '##ウィウス': 21307, '##ファイル': 21308, '##ワーゲン': 21309, '1783': 21310, '1798': 21311, 'Mart': 21312, 'http': 21313, 'すぐさま': 21314, 'どころか': 21315, 'アンカー': 21316, 'イェール': 21317, 'シティー': 21318, 'シンクロ': 21319, 'ブルボン': 21320, '受け止め': 21321, '言い伝え': 21322, '##じょうせん': 21323, 'アーカイブ': 21324, 'チャーチル': 21325, 'フォルクス': 21326, '万国博覧会': 21327, '##レンジャーズ': 21328, 'ダイジェスト': 21329, 'レクリエーション': 21330, '##go': 21331, '且': 21332, '呑': 21333, '宍': 21334, '寇': 21335, '竪': 21336, '蟹': 21337, '謁': 21338, '豫': 21339, '頬': 21340, '##サリ': 21341, '##バニ': 21342, '##ピエ': 21343, '##ポタ': 21344, '##多摩': 21345, '##学会': 21346, '##off': 21347, 'op': 21348, 'うり': 21349, 'かず': 21350, 'きし': 21351, 'さと': 21352, 'わん': 21353, 'アエ': 21354, 'オウ': 21355, 'キク': 21356, '上人': 21357, '不倫': 21358, '光子': 21359, '内省': 21360, '出塁': 21361, '前夜': 21362, '十勝': 21363, '原生': 21364, '反戦': 21365, '国史': 21366, '大仏': 21367, '如く': 21368, '客数': 21369, '家事': 21370, '履行': 21371, '川村': 21372, '幼名': 21373, '攘夷': 21374, '敗者': 21375, '文句': 21376, '断定': 21377, '新種': 21378, '日置': 21379, '板垣': 21380, '案件': 21381, '桟橋': 21382, '歳月': 21383, '水島': 21384, '無力': 21385, '異教': 21386, '盗み': 21387, '篠原': 21388, '絵巻': 21389, '自軍': 21390, '華麗': 21391, '譲ら': 21392, '足跡': 21393, '通年': 21394, '郡上': 21395, '魔物': 21396, '##スミス': 21397, '##レベル': 21398, 'RAD': 21399, 'いとこ': 21400, 'だらけ': 21401, 'アサヒ': 21402, 'ギネス': 21403, 'コーポ': 21404, 'ズボン': 21405, 'ダイオ': 21406, 'トレン': 21407, 'ナイル': 21408, 'ニトロ': 21409, 'ヨット': 21410, 'ロート': 21411, '動植物': 21412, '向ける': 21413, '社民党': 21414, '見習い': 21415, '1763': 21416, '1797': 21417, '1817': 21418, '1824': 21419, 'CLUB': 21420, 'Good': 21421, 'HTML': 21422, 'やりとり': 21423, 'エヴァン': 21424, 'キャリー': 21425, 'ソプラノ': 21426, 'テュルク': 21427, 'ノーマン': 21428, '取り出し': 21429, '書き上げ': 21430, '柔らかい': 21431, '追い込ん': 21432, '##ディッシュ': 21433, '##ニュメント': 21434, '##レンブルク': 21435, 'Sport': 21436, 'どうしても': 21437, 'インデックス': 21438, 'ザルツブルク': 21439, 'ジャイアント': 21440, 'ピックアップ': 21441, 'ムッソリーニ': 21442, 'リーディング': 21443, 'イングリッシュ': 21444, 'π': 21445, '丙': 21446, '杵': 21447, '綺': 21448, '髭': 21449, '##きん': 21450, '##ぐる': 21451, '##そり': 21452, '##オパ': 21453, '##ミズ': 21454, '##ICA': 21455, 'IG': 21456, 'ひな': 21457, 'れれ': 21458, 'パノ': 21459, '丸い': 21460, '人柄': 21461, '仲裁': 21462, '公約': 21463, '共済': 21464, '内海': 21465, '名手': 21466, '喚起': 21467, '夕刊': 21468, '射出': 21469, '局面': 21470, '常駐': 21471, '廃刊': 21472, '掃討': 21473, '操舵': 21474, '放水': 21475, '放牧': 21476, '旧名': 21477, '明瞭': 21478, '横田': 21479, '欠乏': 21480, '海浜': 21481, '海里': 21482, '清和': 21483, '犬山': 21484, '目玉': 21485, '相性': 21486, '着実': 21487, '神崎': 21488, '聖霊': 21489, '脇役': 21490, '芦屋': 21491, '花弁': 21492, '華北': 21493, '視線': 21494, '診察': 21495, '試し': 21496, '金貨': 21497, '開削': 21498, '関脇': 21499, '飯塚': 21500, '高射': 21501, '##オキシ': 21502, '##カルタ': 21503, '##サート': 21504, '##シタン': 21505, '##トール': 21506, '##ボート': 21507, '##メート': 21508, '##リーヌ': 21509, '##ルトル': 21510, '##ague': 21511, '##ange': 21512, '214': 21513, '370': 21514, 'FOX': 21515, 'mod': 21516, 'きれい': 21517, 'アンプ': 21518, 'カリフ': 21519, 'ペスト': 21520, 'ユーク': 21521, 'ワイヤ': 21522, '相次ぐ': 21523, '細長く': 21524, '見なす': 21525, '軽井沢': 21526, '##チューン': 21527, '##フレンド': 21528, '##ランジェ': 21529, '1590': 21530, 'Hist': 21531, 'インテリ': 21532, 'ガンダム': 21533, 'ギミック': 21534, 'ジャンボ': 21535, 'ジュール': 21536, 'スタック': 21537, 'ニューカ': 21538, 'ホールド': 21539, 'ワイヤー': 21540, '立ち入り': 21541, '立教大学': 21542, '脊椎動物': 21543, '##イスクール': 21544, '##チュアート': 21545, '##ティンゲン': 21546, '##バラエティ': 21547, '##ュージョン': 21548, 'Colle': 21549, 'アナトリア': 21550, 'シューマン': 21551, 'ドーピング': 21552, 'ヒューマン': 21553, '前方後円墳': 21554, 'Office': 21555, '##tainment': 21556, '姚': 21557, '擦': 21558, '##わざ': 21559, '##ゾー': 21560, '##ボナ': 21561, '##メニ': 21562, '##神経': 21563, '##置県': 21564, '##規則': 21565, '##oon': 21566, '!(': 21567, 'Ec': 21568, 'HR': 21569, 'JO': 21570, 'LR': 21571, 'ft': 21572, 'ww': 21573, 'やき': 21574, 'よみ': 21575, 'エヌ': 21576, 'オタ': 21577, 'オラ': 21578, 'コブ': 21579, 'ジロ': 21580, 'マヨ': 21581, 'モビ': 21582, '不祥': 21583, '亀田': 21584, '二宮': 21585, '体裁': 21586, '便所': 21587, '保養': 21588, '勝山': 21589, '北山': 21590, '原宿': 21591, '口腔': 21592, '図案': 21593, '大帝': 21594, '大豆': 21595, '奉天': 21596, '屈折': 21597, '平民': 21598, '廃藩': 21599, '拒ん': 21600, '挙動': 21601, '枚方': 21602, '水着': 21603, '沖合': 21604, '浴場': 21605, '爆雷': 21606, '狭間': 21607, '皇居': 21608, '省令': 21609, '着せ': 21610, '神明': 21611, '経口': 21612, '臣下': 21613, '興し': 21614, '被弾': 21615, '襲来': 21616, '観賞': 21617, '通説': 21618, '連作': 21619, '長所': 21620, '風速': 21621, '鶴田': 21622, '##たかも': 21623, '##ウンズ': 21624, '##カープ': 21625, '##シャス': 21626, '##シーズ': 21627, '##チェス': 21628, '##チョン': 21629, 'ANN': 21630, 'Pla': 21631, 'per': 21632, 'おおい': 21633, 'おかし': 21634, 'おこし': 21635, 'できれ': 21636, 'カノン': 21637, 'カルト': 21638, 'ギルド': 21639, 'クレタ': 21640, 'シモン': 21641, 'フェス': 21642, 'ブレン': 21643, 'ペンタ': 21644, 'マハー': 21645, '信じる': 21646, '参事官': 21647, '放射能': 21648, '等しく': 21649, '違和感': 21650, '非合法': 21651, '##サウンド': 21652, '##ファイト': 21653, '##ヴァール': 21654, '##ヴゴロド': 21655, 'Type': 21656, 'あたかも': 21657, 'こうえん': 21658, 'ふれあい': 21659, 'グレッグ': 21660, 'ジブラル': 21661, 'トラップ': 21662, 'ハッシュ': 21663, '乗り込ん': 21664, '廃藩置県': 21665, '思い出し': 21666, '持ちかけ': 21667, 'Elect': 21668, 'hydro': 21669, 'ありがとう': 21670, 'さかのぼる': 21671, 'エクアドル': 21672, 'トルーマン': 21673, 'トレーラー': 21674, 'トンプソン': 21675, 'ワーグナー': 21676, '##ゥルメンタル': 21677, 'コンスタンティノープル': 21678, '##YO': 21679, '##ta': 21680, '禎': 21681, '葦': 21682, '蹄': 21683, '##がわ': 21684, '##たち': 21685, '##っ子': 21686, '##チク': 21687, '##テュ': 21688, '##ペア': 21689, '##ロジ': 21690, '##売り': 21691, '##持っ': 21692, '##行為': 21693, '##iko': 21694, 'Ha': 21695, 'うみ': 21696, 'おろ': 21697, 'タナ': 21698, 'ツィ': 21699, 'ナミ': 21700, 'ノリ': 21701, 'マキ': 21702, 'ラド': 21703, '一撃': 21704, '井伊': 21705, '伏せ': 21706, '伴わ': 21707, '傾き': 21708, '儒教': 21709, '全日': 21710, '切符': 21711, '十二': 21712, '博文': 21713, '品目': 21714, '夕張': 21715, '子息': 21716, '専制': 21717, '就業': 21718, '序文': 21719, '廃れ': 21720, '応仁': 21721, '恵比': 21722, '日吉': 21723, '材木': 21724, '権益': 21725, '母語': 21726, '気流': 21727, '王様': 21728, '異説': 21729, '畿内': 21730, '病床': 21731, '着物': 21732, '粉末': 21733, '美学': 21734, '航法': 21735, '萌え': 21736, '葛西': 21737, '血圧': 21738, '討死': 21739, '豆腐': 21740, '赤羽': 21741, '遠方': 21742, '龍造': 21743, '##キュラ': 21744, '##ダイヤ': 21745, '##edia': 21746, '(\"\"': 21747, 'Bra': 21748, 'www': 21749, 'お気に': 21750, 'アカデ': 21751, 'スワン': 21752, 'タイト': 21753, 'タップ': 21754, 'ファウ': 21755, 'プロレ': 21756, 'リップ': 21757, 'ワット': 21758, 'ワルツ': 21759, '万葉集': 21760, '不規則': 21761, '替わっ': 21762, '甲状腺': 21763, '西園寺': 21764, '講道館': 21765, '遊牧民': 21766, '##スティー': 21767, '##ドリゲス': 21768, '1816': 21769, '1822': 21770, 'Song': 21771, 'アウェー': 21772, 'ゴールデ': 21773, 'プログレ': 21774, 'ヘリウム': 21775, '西武鉄道': 21776, '##インディア': 21777, '##ブラザース': 21778, '##ミンスター': 21779, 'お気に入り': 21780, 'アイザック': 21781, 'クォーター': 21782, 'ハイキング': 21783, 'リヒャルト': 21784, 'アンソロジー': 21785, 'アーカンソー': 21786, 'ソフトボール': 21787, 'ロングシート': 21788, 'ワイドショー': 21789, '##こうとうがっこう': 21790, 'カンヌ国際映画祭': 21791, '##CH': 21792, 'φ': 21793, '漕': 21794, '萼': 21795, '##くじ': 21796, '##こし': 21797, '##チコ': 21798, '##ッレ': 21799, '##リョ': 21800, '##広島': 21801, '##本松': 21802, '##OLD': 21803, '##iro': 21804, '##ope': 21805, '.、': 21806, 'fl': 21807, 'おび': 21808, 'つぎ': 21809, 'クエ': 21810, 'サメ': 21811, 'ヒメ': 21812, 'ヘレ': 21813, 'ミキ': 21814, 'レギ': 21815, '亀裂': 21816, '先導': 21817, '再起': 21818, '動乱': 21819, '化け': 21820, '千島': 21821, '右肩': 21822, '囃子': 21823, '四股': 21824, '城塞': 21825, '堀内': 21826, '士族': 21827, '外出': 21828, '大隅': 21829, '宮田': 21830, '小室': 21831, '小豆': 21832, '岩倉': 21833, '巻い': 21834, '店長': 21835, '懲戒': 21836, '換え': 21837, '日成': 21838, '日食': 21839, '毎時': 21840, '済州': 21841, '滝川': 21842, '父方': 21843, '画素': 21844, '白く': 21845, '磁性': 21846, '磐田': 21847, '糾弾': 21848, '細工': 21849, '縦貫': 21850, '耐震': 21851, '胎児': 21852, '自在': 21853, '自著': 21854, '西条': 21855, '課せ': 21856, '遠山': 21857, '部材': 21858, '酵母': 21859, '飛翔': 21860, '飛車': 21861, '##テーヌ': 21862, '##リース': 21863, '##水産省': 21864, '365': 21865, 'Bay': 21866, 'Leg': 21867, 'ひどく': 21868, 'サルデ': 21869, 'デート': 21870, 'リーフ': 21871, 'レキシ': 21872, '外れる': 21873, '大牟田': 21874, '度合い': 21875, '爬虫類': 21876, '男の子': 21877, '美術家': 21878, '遠距離': 21879, '##コーダー': 21880, '##ジャーズ': 21881, '##ランブル': 21882, '##ンタイン': 21883, '1770': 21884, '1809': 21885, 'かかわる': 21886, 'すっかり': 21887, 'スイング': 21888, 'フィット': 21889, 'ホノルル': 21890, 'モノクロ': 21891, '引き下げ': 21892, '盛り込ん': 21893, '##デイヴィス': 21894, 'キリシタン': 21895, 'グルコース': 21896, 'ジョヴァン': 21897, '農林水産省': 21898, '##ンバーランド': 21899, 'ビルディング': 21900, 'プライバシー': 21901, '##フェスティバル': 21902, 'Richard': 21903, 'コンチネンタル': 21904, 'ニューカッスル': 21905, 'マネージメント': 21906, '##QL': 21907, '喬': 21908, '寓': 21909, '慌': 21910, '炸': 21911, '穿': 21912, '螺': 21913, '##しか': 21914, '##びれ': 21915, '##ウラ': 21916, '##ノア': 21917, '##バタ': 21918, '##不足': 21919, '##先端': 21920, '##抜か': 21921, '##着き': 21922, '##艦隊': 21923, '##ANG': 21924, '##OME': 21925, '##ats': 21926, '##ova': 21927, '##uth': 21928, '.』': 21929, 'EB': 21930, 'OG': 21931, 'ぶら': 21932, 'イヴ': 21933, 'オク': 21934, 'コト': 21935, 'シネ': 21936, 'リカ': 21937, '一様': 21938, '中略': 21939, '丸亀': 21940, '二男': 21941, '京極': 21942, '会戦': 21943, '例え': 21944, '倒壊': 21945, '元就': 21946, '冗談': 21947, '前座': 21948, '叫ん': 21949, '名取': 21950, '在外': 21951, '塩田': 21952, '大明': 21953, '屋号': 21954, '峡谷': 21955, '年中': 21956, '弾性': 21957, '思惑': 21958, '惚れ': 21959, '扇状': 21960, '摘発': 21961, '擬似': 21962, '支隊': 21963, '敷き': 21964, '文体': 21965, '早速': 21966, '未完': 21967, '本庁': 21968, '柳川': 21969, '柳生': 21970, '比重': 21971, '狭隘': 21972, '知見': 21973, '確執': 21974, '福原': 21975, '秀樹': 21976, '竹島': 21977, '絵師': 21978, '総局': 21979, '若葉': 21980, '苦悩': 21981, '菊花': 21982, '藤岡': 21983, '行幸': 21984, '覚書': 21985, '賢治': 21986, '防い': 21987, '阿久': 21988, '随行': 21989, '音質': 21990, '須賀': 21991, '##しゅう': 21992, '##コット': 21993, '##ロート': 21994, '223': 21995, '231': 21996, 'Ben': 21997, 'GEN': 21998, 'STS': 21999, 'Tim': 22000, 'アクロ': 22001, 'パウル': 22002, '中曽根': 22003, '伊勢崎': 22004, '深める': 22005, '石灰岩': 22006, '##ショック': 22007, '##ヴェント': 22008, '1813': 22009, '1827': 22010, 'インフォ': 22011, 'チューブ': 22012, 'デューク': 22013, 'フェンス': 22014, 'ブルジョ': 22015, 'プラトン': 22016, 'ルワンダ': 22017, '信用金庫': 22018, '待ち伏せ': 22019, '払い下げ': 22020, '持ち帰っ': 22021, '落ち込ん': 22022, '##ジョーンズ': 22023, '##ストーリー': 22024, 'Light': 22025, 'WOWOW': 22026, 'トラクター': 22027, 'レオナルド': 22028, 'コックピット': 22029, 'サルデーニャ': 22030, 'トランジスタ': 22031, 'バルカン半島': 22032, 'フランシスコ': 22033, 'モニュメント': 22034, 'Edition': 22035, 'バングラデシュ': 22036, 'アインシュタイン': 22037, '斧': 22038, '毘': 22039, '焚': 22040, '韋': 22041, '##ぐれ': 22042, '##っか': 22043, '##の中': 22044, '##ヤシ': 22045, '##ヴナ': 22046, '##交通': 22047, '##早川': 22048, '##時代': 22049, '##更津': 22050, '##東洋': 22051, 'Os': 22052, 'くわ': 22053, 'わき': 22054, 'オホ': 22055, 'サガ': 22056, 'セロ': 22057, 'パク': 22058, 'ペロ': 22059, 'マタ': 22060, 'マテ': 22061, '一意': 22062, '丁寧': 22063, '中絶': 22064, '伸長': 22065, '原典': 22066, '収拾': 22067, '右腕': 22068, '夢見': 22069, '奮戦': 22070, '客演': 22071, '宣誓': 22072, '小国': 22073, '小浜': 22074, '廊下': 22075, '微細': 22076, '技巧': 22077, '数量': 22078, '浙江': 22079, '混入': 22080, '狂気': 22081, '生家': 22082, '甲殻': 22083, '範疇': 22084, '統率': 22085, '見物': 22086, '身代': 22087, '軍服': 22088, '退避': 22089, '野望': 22090, '長兄': 22091, '随伴': 22092, '露天': 22093, '頼み': 22094, '高低': 22095, '黒く': 22096, '##サーズ': 22097, '##セナル': 22098, '##デック': 22099, '##マイズ': 22100, '##メッセ': 22101, '##ally': 22102, '##ross': 22103, '440': 22104, 'Bel': 22105, 'Boy': 22106, 'GII': 22107, 'Pan': 22108, 'あらた': 22109, 'カオス': 22110, 'パルチ': 22111, 'ヒマラ': 22112, '上がら': 22113, '不祥事': 22114, '冠する': 22115, '切り替': 22116, '区役所': 22117, '原動力': 22118, '将軍家': 22119, '木更津': 22120, '正方形': 22121, '目立た': 22122, '真面目': 22123, '見直さ': 22124, '龍造寺': 22125, '##クリーク': 22126, '##ナイダー': 22127, '##velop': 22128, 'Jean': 22129, 'スピーチ': 22130, 'スリップ': 22131, 'スルタン': 22132, 'チェリー': 22133, 'バーゼル': 22134, 'プロトン': 22135, 'モットー': 22136, 'ユーモア': 22137, 'ランディ': 22138, 'ワースト': 22139, '結びつけ': 22140, 'FINAL': 22141, 'Grand': 22142, 'North': 22143, 'Trans': 22144, 'カーニバル': 22145, 'ギルバート': 22146, 'コロムビア': 22147, 'ディストリ': 22148, 'ブースター': 22149, 'ペナルティ': 22150, 'フィーチャー': 22151, '##13': 22152, '僚': 22153, '兜': 22154, '匡': 22155, '峻': 22156, '忙': 22157, '槽': 22158, '##こん': 22159, '##さつ': 22160, '##エビ': 22161, '##ザイ': 22162, '##保険': 22163, '##言葉': 22164, '##OKA': 22165, 'ぐる': 22166, 'すき': 22167, 'ゼル': 22168, 'ソチ': 22169, 'ネガ': 22170, 'ハガ': 22171, '一節': 22172, '下向': 22173, '中之': 22174, '主眼': 22175, '信越': 22176, '偏見': 22177, '先鋒': 22178, '全幅': 22179, '全豪': 22180, '内臓': 22181, '北原': 22182, '双対': 22183, '土日': 22184, '字形': 22185, '宇文': 22186, '宴会': 22187, '履修': 22188, '山村': 22189, '山王': 22190, '広西': 22191, '弾倉': 22192, '懇願': 22193, '抑止': 22194, '故事': 22195, '斑紋': 22196, '於け': 22197, '旧道': 22198, '旭日': 22199, '明智': 22200, '樋口': 22201, '権勢': 22202, '殲滅': 22203, '水兵': 22204, '漂流': 22205, '発送': 22206, '監獄': 22207, '童謡': 22208, '繊細': 22209, '署長': 22210, '羽柴': 22211, '臨済': 22212, '見本': 22213, '視認': 22214, '議定': 22215, '負わ': 22216, '貫い': 22217, '返却': 22218, '進攻': 22219, '遼寧': 22220, '配さ': 22221, '重き': 22222, '長島': 22223, '長嶋': 22224, '防犯': 22225, '魔界': 22226, '黒部': 22227, '##チュウ': 22228, '##ヒルズ': 22229, '##ラーフ': 22230, '##レアン': 22231, '##burg': 22232, '!」(': 22233, '222': 22234, 'FNS': 22235, 'Luc': 22236, 'まずは': 22237, 'エイト': 22238, 'チェン': 22239, 'トロイ': 22240, 'パルプ': 22241, 'パンツ': 22242, 'ベック': 22243, '並べる': 22244, '丸の内': 22245, '持ち味': 22246, '消防署': 22247, '発起人': 22248, '追いや': 22249, '高野山': 22250, '##ッパーズ': 22251, '##ポタミア': 22252, '##リエール': 22253, '##azine': 22254, 'West': 22255, '『\"\"』': 22256, 'つとめる': 22257, 'アドリア': 22258, 'ストラス': 22259, 'スペック': 22260, 'フレッド': 22261, 'モンロー': 22262, 'リサーチ': 22263, '創価学会': 22264, '取り込ま': 22265, '取り除く': 22266, '小中学校': 22267, '引き取ら': 22268, '引き揚げ': 22269, '神戸大学': 22270, '見つから': 22271, '買い取り': 22272, '##グラフィー': 22273, '##コンドリア': 22274, '##ograph': 22275, 'Intel': 22276, 'ジェノヴァ': 22277, 'スクリプト': 22278, 'マッサージ': 22279, 'サンプリング': 22280, 'バドミントン': 22281, 'メソポタミア': 22282, '全豪オープン': 22283, 'Network': 22284, 'ミトコンドリア': 22285, 'エンジニアリング': 22286, 'スペースシャトル': 22287, 'インストゥルメンタル': 22288, '##CD': 22289, '壽': 22290, '拿': 22291, '炒': 22292, '芋': 22293, '薦': 22294, '賈': 22295, '距': 22296, '這': 22297, '鍼': 22298, '##なみ': 22299, '##ねん': 22300, '##ひろ': 22301, '##ツカ': 22302, '##ヨウ': 22303, '##送り': 22304, '##err': 22305, '##vex': 22306, 'FE': 22307, 'KR': 22308, 'VV': 22309, 'bj': 22310, 'no': 22311, 'がる': 22312, 'しみ': 22313, 'でる': 22314, 'はさ': 22315, 'ふと': 22316, 'やろ': 22317, 'ギー': 22318, 'ミレ': 22319, 'ヤー': 22320, 'ラビ': 22321, '一味': 22322, '今治': 22323, '個数': 22324, '全通': 22325, '兵站': 22326, '内面': 22327, '則っ': 22328, '包装': 22329, '叢書': 22330, '吉井': 22331, '四谷': 22332, '大隈': 22333, '安達': 22334, '実情': 22335, '宮司': 22336, '富豪': 22337, '後身': 22338, '心筋': 22339, '性交': 22340, '手本': 22341, '抵当': 22342, '推さ': 22343, '掴ん': 22344, '換気': 22345, '放電': 22346, '数理': 22347, '文様': 22348, '文治': 22349, '新編': 22350, '方角': 22351, '暗く': 22352, '曹洞': 22353, '模範': 22354, '比し': 22355, '水晶': 22356, '済ま': 22357, '版権': 22358, '発せ': 22359, '真正': 22360, '細か': 22361, '豊前': 22362, '踊っ': 22363, '除隊': 22364, '##アレス': 22365, '##ネスク': 22366, '##パック': 22367, '##ボーグ': 22368, '##ンダル': 22369, '##ours': 22370, '380': 22371, 'Bus': 22372, 'Ult': 22373, 'mus': 22374, 'ひどい': 22375, 'カリス': 22376, 'カーネ': 22377, 'セーフ': 22378, 'バレル': 22379, 'ボリス': 22380, 'マッド': 22381, '中納言': 22382, '古文書': 22383, '向かわ': 22384, '悪かっ': 22385, '手伝っ': 22386, '気づか': 22387, '法務省': 22388, '誘導体': 22389, '##たいかい': 22390, '##グリーン': 22391, '##スタンド': 22392, '##ティアゴ': 22393, '##フェイス': 22394, '##フェスト': 22395, '##ブレヒト': 22396, '##ベックス': 22397, '##リングス': 22398, 'Arch': 22399, 'Batt': 22400, 'Core': 22401, 'SPOR': 22402, 'Unic': 22403, 'おおさか': 22404, 'それなり': 22405, 'アーロン': 22406, 'グリップ': 22407, 'スーザン': 22408, 'トレント': 22409, 'パチスロ': 22410, '聞こえる': 22411, 'Great': 22412, 'グライダー': 22413, 'チャイルド': 22414, 'アイスダンス': 22415, 'ジブラルタル': 22416, 'ユークリッド': 22417, '##ストレーション': 22418, 'アイデンティティ': 22419, '##FS': 22420, '厨': 22421, '弐': 22422, '挽': 22423, '橙': 22424, '膳': 22425, '鰓': 22426, '##めい': 22427, '##ろさ': 22428, '##エド': 22429, '##ノ島': 22430, '##ハト': 22431, '##ポス': 22432, '##中島': 22433, '##動脈': 22434, '##小牧': 22435, '##綬章': 22436, '##ady': 22437, '##omo': 22438, '-\"': 22439, '?』': 22440, 'AE': 22441, 'JU': 22442, 'KE': 22443, 'SI': 22444, 'いせ': 22445, '一夫': 22446, '一掃': 22447, '便器': 22448, '値段': 22449, '傾い': 22450, '光沢': 22451, '入江': 22452, '国庫': 22453, '土星': 22454, '壮大': 22455, '大邱': 22456, '小平': 22457, '山野': 22458, '常盤': 22459, '幸い': 22460, '強襲': 22461, '弾い': 22462, '恩師': 22463, '戦勝': 22464, '手軽': 22465, '挫折': 22466, '新春': 22467, '期日': 22468, '本船': 22469, '枢軸': 22470, '根岸': 22471, '欠損': 22472, '歌声': 22473, '武雄': 22474, '残高': 22475, '民話': 22476, '水谷': 22477, '決行': 22478, '海南': 22479, '清原': 22480, '片手': 22481, '球面': 22482, '病没': 22483, '発給': 22484, '短命': 22485, '精鋭': 22486, '良質': 22487, '要人': 22488, '貫く': 22489, '追討': 22490, '連座': 22491, '遺し': 22492, '配送': 22493, '開基': 22494, '電線': 22495, '##かしい': 22496, '##エイジ': 22497, '##ザーブ': 22498, '##ジェル': 22499, '##ニアム': 22500, '##ヒット': 22501, '##フロー': 22502, '305': 22503, '430': 22504, '978': 22505, 'Jon': 22506, 'NCA': 22507, 'PSP': 22508, 'SIM': 22509, 'are': 22510, 'かねて': 22511, 'けんじ': 22512, 'こころ': 22513, 'なくし': 22514, 'みゆき': 22515, 'アクシ': 22516, 'カンパ': 22517, 'クーペ': 22518, 'スズメ': 22519, 'ナムコ': 22520, 'ブルズ': 22521, 'ヘルム': 22522, 'ルソン': 22523, '小麦粉': 22524, '後醍醐': 22525, '水溶液': 22526, '苫小牧': 22527, '閉じる': 22528, '陶磁器': 22529, '##工科大学': 22530, '##other': 22531, '1788': 22532, '1796': 22533, 'カルデラ': 22534, 'コントラ': 22535, 'セクシー': 22536, 'ニクソン': 22537, 'ヒマラヤ': 22538, 'ロックン': 22539, '取り立て': 22540, '持ち出し': 22541, '遠ざかっ': 22542, '##デザイナー': 22543, '##ーブメント': 22544, 'EXILE': 22545, 'Girls': 22546, 'アーネスト': 22547, 'コンソール': 22548, 'ファゴット': 22549, '大河ドラマ': 22550, '持ち合わせ': 22551, 'スチュアート': 22552, 'ヒスパニック': 22553, 'チャールストン': 22554, 'Championship': 22555, '##Pa': 22556, '##br': 22557, '##fl': 22558, '狸': 22559, '緻': 22560, '肋': 22561, '蛮': 22562, '﨑': 22563, '##にか': 22564, '##べり': 22565, '##ジエ': 22566, '##ズラ': 22567, '##ノウ': 22568, '##ベア': 22569, '##マタ': 22570, '##ミヤ': 22571, '##之介': 22572, '##GBT': 22573, '##OLL': 22574, '##ula': 22575, 'HM': 22576, 'cl': 22577, 'ed': 22578, 'えり': 22579, 'かる': 22580, 'こめ': 22581, 'しな': 22582, 'エプ': 22583, 'ベニ': 22584, 'ホメ': 22585, 'ボツ': 22586, 'レベ': 22587, '予め': 22588, '信夫': 22589, '倍率': 22590, '別所': 22591, '動態': 22592, '受動': 22593, '口頭': 22594, '同業': 22595, '和彦': 22596, '商事': 22597, '因み': 22598, '図面': 22599, '在庫': 22600, '大宝': 22601, '媒介': 22602, '嫁い': 22603, '宝物': 22604, '恩赦': 22605, '慶尚': 22606, '抗日': 22607, '振っ': 22608, '採る': 22609, '揖斐': 22610, '握手': 22611, '暗示': 22612, '服従': 22613, '本気': 22614, '本陣': 22615, '柏原': 22616, '橋脚': 22617, '漢文': 22618, '濃縮': 22619, '眠り': 22620, '空海': 22621, '絞首': 22622, '羽生': 22623, '舷側': 22624, '船尾': 22625, '親指': 22626, '調味': 22627, '赤く': 22628, '軍曹': 22629, '退き': 22630, '遊ん': 22631, '邪悪': 22632, '鋼板': 22633, '長身': 22634, '頭骨': 22635, '##がかり': 22636, '##ゼット': 22637, '##ゾール': 22638, '##ピース': 22639, '##ラヴァ': 22640, 'Del': 22641, 'Let': 22642, 'NNN': 22643, 'あさひ': 22644, 'ノズル': 22645, 'ムガル': 22646, 'ルシア': 22647, 'ロイド': 22648, '伸び悩': 22649, '住まい': 22650, '傷つけ': 22651, '地球人': 22652, '売り場': 22653, '浴びせ': 22654, '立ち会': 22655, '読み方': 22656, '##ストップ': 22657, '##学園大学': 22658, 'Rail': 22659, 'Sant': 22660, 'したがっ': 22661, 'アッシュ': 22662, 'ウイグル': 22663, 'ダイアナ': 22664, 'バラバラ': 22665, 'ホイット': 22666, '広島東洋': 22667, '聞き入れ': 22668, '##アクション': 22669, '##ウェスタン': 22670, '##ドライバー': 22671, '##ユニバース': 22672, 'クリニック': 22673, 'クルーザー': 22674, 'ツイッター': 22675, 'フィアット': 22676, 'ブレーメン': 22677, 'クリエイター': 22678, '##アスレチックス': 22679, 'ボリシェヴィキ': 22680, '広島東洋カープ': 22681, '##ür': 22682, '逗': 22683, '##がす': 22684, '##フン': 22685, '##ホス': 22686, '##車輌': 22687, '##返っ': 22688, '##電器': 22689, '##ORE': 22690, '##vin': 22691, 'Ve': 22692, 'ごみ': 22693, 'ツル': 22694, 'ポト': 22695, 'ワラ': 22696, '下北': 22697, '下宿': 22698, '世子': 22699, '丞相': 22700, '但馬': 22701, '入道': 22702, '参政': 22703, '受精': 22704, '同心': 22705, '大雨': 22706, '家光': 22707, '対数': 22708, '憲政': 22709, '拿捕': 22710, '排他': 22711, '接点': 22712, '東横': 22713, '梶原': 22714, '次数': 22715, '歪み': 22716, '気管': 22717, '津島': 22718, '渋川': 22719, '減る': 22720, '港町': 22721, '白紙': 22722, '直す': 22723, '稼ぐ': 22724, '空洞': 22725, '空爆': 22726, '立証': 22727, '答弁': 22728, '給食': 22729, '緻密': 22730, '考証': 22731, '芝生': 22732, '若林': 22733, '蔵人': 22734, '西国': 22735, '速射': 22736, '遷都': 22737, '集権': 22738, '電装': 22739, '##キック': 22740, '##テュー': 22741, '##ラーラ': 22742, '##レルモ': 22743, '##ures': 22744, '747': 22745, 'Big': 22746, 'INS': 22747, 'JAL': 22748, 'NGC': 22749, 'Top': 22750, 'bit': 22751, 'よかっ': 22752, 'アヘン': 22753, 'チタン': 22754, 'ドロー': 22755, 'バッグ': 22756, 'ペダル': 22757, 'メタン': 22758, 'リーズ': 22759, '不二雄': 22760, '吹き飛': 22761, '建てる': 22762, '覚える': 22763, '開ける': 22764, '願い出': 22765, '##キーパー': 22766, '##ティクス': 22767, '##ビュート': 22768, '##ocket': 22769, 'Gold': 22770, 'KDDI': 22771, 'STAR': 22772, 'いちろう': 22773, 'コールド': 22774, '引き連れ': 22775, '打ち立て': 22776, '送り込ん': 22777, '##スワローズ': 22778, 'Child': 22779, 'ウイスキー': 22780, 'ネイティブ': 22781, 'マリナーズ': 22782, 'レディース': 22783, 'ロッキード': 22784, 'Engine': 22785, 'Island': 22786, 'サンシャイン': 22787, 'College': 22788, 'ホワイトハウス': 22789, 'ガソリンエンジン': 22790, 'フォルクスワーゲン': 22791, '##11': 22792, '##66': 22793, '##ja': 22794, '夭': 22795, '渥': 22796, '牟': 22797, '范': 22798, '薪': 22799, '銚': 22800, '##ぐん': 22801, '##のく': 22802, '##ん坊': 22803, '##キラ': 22804, '##バウ': 22805, '##メタ': 22806, '##モノ': 22807, '##ヤル': 22808, '##保安': 22809, '##開き': 22810, '##IAL': 22811, '##ios': 22812, '(+': 22813, 'ps': 22814, 'きた': 22815, 'ぎん': 22816, 'こし': 22817, 'なだ': 22818, 'ぬい': 22819, 'はね': 22820, 'はま': 22821, 'やさ': 22822, 'シダ': 22823, 'ジグ': 22824, 'スギ': 22825, 'ハク': 22826, 'ミケ': 22827, 'メラ': 22828, 'ヤギ': 22829, '下段': 22830, '中井': 22831, '乱用': 22832, '他界': 22833, '代え': 22834, '刻印': 22835, '剛性': 22836, '副題': 22837, '回す': 22838, '地殻': 22839, '大勝': 22840, '対向': 22841, '弁論': 22842, '強奪': 22843, '慶喜': 22844, '成体': 22845, '成年': 22846, '排泄': 22847, '掛川': 22848, '教派': 22849, '散布': 22850, '文教': 22851, '最良': 22852, '未定': 22853, '極力': 22854, '残虐': 22855, '滅び': 22856, '漢方': 22857, '潰し': 22858, '献金': 22859, '用具': 22860, '登校': 22861, '白黒': 22862, '競い': 22863, '等価': 22864, '臭い': 22865, '荒野': 22866, '菅野': 22867, '鋼鉄': 22868, '関口': 22869, '陝西': 22870, '雇っ': 22871, '食肉': 22872, '鴨川': 22873, '##ごとく': 22874, '##らせる': 22875, '##シュケ': 22876, '##ドンナ': 22877, '##ニャン': 22878, '##パワー': 22879, '##パーズ': 22880, '##rown': 22881, '208': 22882, 'ALL': 22883, 'HMS': 22884, 'YOU': 22885, 'ごとく': 22886, 'びょう': 22887, 'わざと': 22888, 'センサ': 22889, 'ハント': 22890, 'モーリ': 22891, 'レター': 22892, '不自然': 22893, '五十嵐': 22894, '値する': 22895, '小早川': 22896, '有楽町': 22897, '消える': 22898, '行進曲': 22899, '近距離': 22900, '##ソックス': 22901, '##体育大学': 22902, '##朝日放送': 22903, '1786': 22904, '1787': 22905, 'キルギス': 22906, 'ショパン': 22907, 'ポーター': 22908, 'Video': 22909, 'ことごとく': 22910, 'インディー': 22911, 'ダイレクト': 22912, 'ツーリング': 22913, 'ギムナジウム': 22914, 'プロヴァンス': 22915, 'マグネシウム': 22916, 'レキシントン': 22917, 'イノベーション': 22918, 'ホルシュタイン': 22919, 'ゴールデンタイム': 22920, 'プレイステーション': 22921, '傅': 22922, '艤': 22923, '##ネオ': 22924, '##ヒン': 22925, '##プン': 22926, '##一致': 22927, '##ORY': 22928, '##ule': 22929, 'ab': 22930, 'かわ': 22931, 'つり': 22932, 'はり': 22933, 'ケロ': 22934, 'ミヤ': 22935, 'ワニ': 22936, '俗称': 22937, '公主': 22938, '参道': 22939, '回生': 22940, '国共': 22941, '国税': 22942, '尾上': 22943, '川田': 22944, '快楽': 22945, '戸惑': 22946, '抜群': 22947, '新館': 22948, '有意': 22949, '村井': 22950, '村立': 22951, '来訪': 22952, '林家': 22953, '水木': 22954, '演義': 22955, '災い': 22956, '父母': 22957, '田島': 22958, '異色': 22959, '盗ま': 22960, '目安': 22961, '破門': 22962, '神官': 22963, '竹下': 22964, '累積': 22965, '線区': 22966, '船内': 22967, '艤装': 22968, '荊州': 22969, '証書': 22970, '転入': 22971, '遵守': 22972, '都城': 22973, '酷評': 22974, '銅像': 22975, '長政': 22976, '長田': 22977, '離さ': 22978, '願望': 22979, '高裁': 22980, '髪型': 22981, '##なじみ': 22982, '##ソンズ': 22983, '##ディル': 22984, '##トレー': 22985, '##マリン': 22986, '##リスク': 22987, '##udio': 22988, '302': 22989, '720': 22990, 'Mel': 22991, 'MiG': 22992, 'WHO': 22993, 'すずき': 22994, 'エンタ': 22995, 'シュテ': 22996, 'ソード': 22997, 'ダルマ': 22998, 'ヒルズ': 22999, 'マッハ': 23000, '代わら': 23001, '伝わり': 23002, '前向き': 23003, '引き金': 23004, '曹洞宗': 23005, '無人島': 23006, '見積も': 23007, '##ジェント': 23008, '##トランス': 23009, '##ハイマー': 23010, '##ートニー': 23011, '##車輌製造': 23012, '##ating': 23013, '1811': 23014, 'avex': 23015, 'てんとう': 23016, 'ともなう': 23017, 'ひまわり': 23018, 'アーベル': 23019, 'スムーズ': 23020, 'バトラー': 23021, 'フィッツ': 23022, 'マインツ': 23023, 'モザイク': 23024, '押し出し': 23025, '海上保安': 23026, '組み込み': 23027, '##ミッション': 23028, 'リアリティ': 23029, 'Europe': 23030, 'Mobile': 23031, 'エディション': 23032, 'フェリックス': 23033, 'プロレタリア': 23034, 'Science': 23035, 'サンアントニオ': 23036, 'グレートブリテン': 23037, '姜': 23038, '曼': 23039, '朽': 23040, '梓': 23041, '渚': 23042, '痩': 23043, '蔑': 23044, '錐': 23045, '##きり': 23046, '##しめ': 23047, '##の川': 23048, '##ぷり': 23049, '##ガム': 23050, '##シシ': 23051, '##ナド': 23052, '##戻さ': 23053, '##抜く': 23054, '##新星': 23055, '##une': 23056, 'Bu': 23057, 'ml': 23058, 'かち': 23059, 'こっ': 23060, 'ゅん': 23061, 'シオ': 23062, 'ルシ': 23063, '三越': 23064, '低音': 23065, '光秀': 23066, '全会': 23067, '公子': 23068, '利き': 23069, '助力': 23070, '匂い': 23071, '叙爵': 23072, '国債': 23073, '堪能': 23074, '奥田': 23075, '巡査': 23076, '平時': 23077, '忠臣': 23078, '悟り': 23079, '支柱': 23080, '新道': 23081, '旅順': 23082, '既知': 23083, '日大': 23084, '曲名': 23085, '本宮': 23086, '東宮': 23087, '枯渇': 23088, '模擬': 23089, '汲み': 23090, '火砲': 23091, '無実': 23092, '田代': 23093, '略さ': 23094, '番頭': 23095, '神谷': 23096, '税関': 23097, '総武': 23098, '美作': 23099, '聖徳': 23100, '行程': 23101, '訴追': 23102, '誓っ': 23103, '誠実': 23104, '調布': 23105, '譜代': 23106, '軟式': 23107, '速球': 23108, '銚子': 23109, '鋭く': 23110, '青函': 23111, '音韻': 23112, '頑丈': 23113, '飢餓': 23114, '##クロー': 23115, '##タース': 23116, '##チオン': 23117, '##ッソー': 23118, '##ッツァ': 23119, '##テムル': 23120, '##ナンス': 23121, '##ノート': 23122, '##ルーム': 23123, '##iter': 23124, '207': 23125, '501': 23126, 'Nat': 23127, 'Vir': 23128, 'WCW': 23129, 'かから': 23130, 'つづけ': 23131, 'つどう': 23132, 'なさい': 23133, 'まこと': 23134, 'まとも': 23135, 'まわり': 23136, 'カメル': 23137, 'グルー': 23138, 'ジュピ': 23139, 'ナンバ': 23140, 'ハンデ': 23141, 'ホビー': 23142, 'ポーツ': 23143, 'レット': 23144, '下回っ': 23145, '世の中': 23146, '同窓会': 23147, '教会堂': 23148, '最先端': 23149, '概して': 23150, '赤ん坊': 23151, '超新星': 23152, '##カライズ': 23153, '##サイタル': 23154, '##デジタル': 23155, '##ハンター': 23156, '##ブレイク': 23157, '##ベリウス': 23158, '##マチック': 23159, '##美術大学': 23160, 'いたずら': 23161, 'カプコン': 23162, 'キングス': 23163, 'コスモス': 23164, 'シェーン': 23165, 'シャシー': 23166, 'シリアス': 23167, 'ノルディ': 23168, 'フレンド': 23169, 'マントル': 23170, 'リモコン': 23171, 'ロワール': 23172, 'ローター': 23173, 'ワンダー': 23174, '振り付け': 23175, '見つかる': 23176, '近畿日本': 23177, '##ザンビーク': 23178, 'オホーツク': 23179, 'コンラート': 23180, 'ティムール': 23181, 'デフォルト': 23182, 'ドッキング': 23183, 'バーモント': 23184, 'フェンダー': 23185, '三菱重工業': 23186, '##エージェント': 23187, '##lection': 23188, 'カスタマイズ': 23189, 'トップクラス': 23190, 'ブックレット': 23191, 'レジスタンス': 23192, '日本車輌製造': 23193, 'ビクターエンタテインメント': 23194, '##)、': 23195, '##RA': 23196, '##ga': 23197, '亥': 23198, '伍': 23199, '瓜': 23200, '魁': 23201, '##いす': 23202, '##こち': 23203, '##ざす': 23204, '##トバ': 23205, '##ネリ': 23206, '##ブエ': 23207, '##マコ': 23208, '##ロボ': 23209, '##留め': 23210, '##ANA': 23211, '##ANT': 23212, '##ELL': 23213, '##els': 23214, '##lad': 23215, 'NY': 23216, 'Ol': 23217, 'いじ': 23218, 'お客': 23219, 'そん': 23220, 'なめ': 23221, 'ぶっ': 23222, 'よろ': 23223, 'ガロ': 23224, 'ドレ': 23225, 'ブナ': 23226, 'メト': 23227, 'ユル': 23228, 'レガ': 23229, '下山': 23230, '下手': 23231, '今村': 23232, '全焼': 23233, '共催': 23234, '処遇': 23235, '出国': 23236, '叩く': 23237, '史書': 23238, '名神': 23239, '吹替': 23240, '大工': 23241, '大日': 23242, '大祭': 23243, '対地': 23244, '小金': 23245, '岩井': 23246, '帝王': 23247, '座り': 23248, '庶流': 23249, '彫像': 23250, '徳山': 23251, '徴税': 23252, '急い': 23253, '拍車': 23254, '接尾': 23255, '死球': 23256, '毀損': 23257, '沢田': 23258, '治虫': 23259, '温室': 23260, '火炎': 23261, '生還': 23262, '石造': 23263, '空い': 23264, '空冷': 23265, '空調': 23266, '競り': 23267, '節約': 23268, '絡ん': 23269, '縁組': 23270, '脅し': 23271, '蔓延': 23272, '要所': 23273, '計器': 23274, '謁見': 23275, '貯蓄': 23276, '足首': 23277, '迫り': 23278, '遠心': 23279, '高揚': 23280, '鳥栖': 23281, '##イット': 23282, '##カート': 23283, '##ソーム': 23284, '##ティナ': 23285, '##デット': 23286, '##バーク': 23287, '##ロイス': 23288, '##百貨店': 23289, '##競馬場': 23290, '##ouch': 23291, '209': 23292, '221': 23293, 'AND': 23294, 'Che': 23295, 'Pri': 23296, 'Sim': 23297, 'UFJ': 23298, 'res': 23299, 'すすめ': 23300, 'はさん': 23301, 'アブー': 23302, 'ウェン': 23303, 'エリス': 23304, 'クロン': 23305, 'シエラ': 23306, 'セーヌ': 23307, 'ティモ': 23308, 'バトン': 23309, 'バルバ': 23310, 'パトリ': 23311, 'ミック': 23312, '大晦日': 23313, '引き続': 23314, '強まっ': 23315, '御殿場': 23316, '応じる': 23317, '恵比寿': 23318, '欠ける': 23319, '止まる': 23320, '背負っ': 23321, '迎え撃': 23322, '鳴らし': 23323, '##ジューク': 23324, '##スケープ': 23325, '##チュラル': 23326, '##otten': 23327, '1773': 23328, '1774': 23329, '1782': 23330, 'Real': 23331, 'Road': 23332, 'ほどなく': 23333, 'ウィング': 23334, 'ジョーク': 23335, 'ハリソン': 23336, 'ハロルド': 23337, '国務大臣': 23338, '成田空港': 23339, '社会学部': 23340, '##パイレーツ': 23341, '##ランキング': 23342, 'score': 23343, 'ウェスタン': 23344, 'エセックス': 23345, 'ゴルファー': 23346, 'ジョイント': 23347, 'ハンプトン': 23348, '入れ替わる': 23349, '##シュヴァイク': 23350, '##ization': 23351, 'League': 23352, 'United': 23353, 'スカイライン': 23354, 'トロンボーン': 23355, 'モザンビーク': 23356, 'ラジオドラマ': 23357, 'Station': 23358, 'Unicode': 23359, 'アシスタントコーチ': 23360, 'ヤクルトスワローズ': 23361, 'Technology': 23362, '##51': 23363, '##ba': 23364, '##yp': 23365, '叡': 23366, '嘲': 23367, '択': 23368, '曙': 23369, '渇': 23370, '詮': 23371, '##では': 23372, '##グス': 23373, '##リミ': 23374, '##出せ': 23375, '-(': 23376, 'HI': 23377, 'JF': 23378, 'PO': 23379, 'UA': 23380, 'さる': 23381, 'サカ': 23382, 'タジ': 23383, 'ブス': 23384, '一元': 23385, '一同': 23386, '乗換': 23387, '伝授': 23388, '刻ん': 23389, '千種': 23390, '単勝': 23391, '和風': 23392, '土台': 23393, '増進': 23394, '太極': 23395, '失効': 23396, '宗主': 23397, '定型': 23398, '宮島': 23399, '屏風': 23400, '山車': 23401, '御堂': 23402, '怪奇': 23403, '感知': 23404, '手記': 23405, '抗戦': 23406, '抜か': 23407, '担任': 23408, '拠出': 23409, '数列': 23410, '斬首': 23411, '新城': 23412, '日時': 23413, '昇段': 23414, '昇級': 23415, '枯れ': 23416, '楽園': 23417, '横穴': 23418, '橋上': 23419, '正門': 23420, '殉教': 23421, '段丘': 23422, '浪曲': 23423, '渥美': 23424, '熱田': 23425, '狭山': 23426, '猛烈': 23427, '球形': 23428, '由緒': 23429, '画風': 23430, '異論': 23431, '病変': 23432, '的中': 23433, '直近': 23434, '眠る': 23435, '筑摩': 23436, '継が': 23437, '若宮': 23438, '衆院': 23439, '覆面': 23440, '詠ん': 23441, '遺さ': 23442, '部類': 23443, '関門': 23444, '防火': 23445, '随一': 23446, '隼人': 23447, '頼む': 23448, '題さ': 23449, '風潮': 23450, '##エース': 23451, '##オート': 23452, '##ガング': 23453, '##ッコロ': 23454, '##マイト': 23455, '##メネス': 23456, '\"\"(': 23457, '))。': 23458, 'Bre': 23459, 'Ext': 23460, 'Jan': 23461, 'Lim': 23462, 'Sum': 23463, 'inc': 23464, 'sup': 23465, 'いただ': 23466, 'きっぷ': 23467, 'カシオ': 23468, 'ギニア': 23469, 'ソープ': 23470, 'ノルム': 23471, 'ヘラク': 23472, 'ベール': 23473, 'ペドロ': 23474, '乏しく': 23475, '公益社': 23476, '各務原': 23477, '新潮社': 23478, '東京都': 23479, '耐える': 23480, '肩書き': 23481, '##アポリス': 23482, '##ystem': 23483, '1582': 23484, '1777': 23485, 'NEXT': 23486, 'Prof': 23487, 'なぞらえ': 23488, 'われわれ': 23489, 'セレクト': 23490, 'バーンズ': 23491, 'ペイント': 23492, 'マンガン': 23493, '日本経済': 23494, '軽自動車': 23495, 'できるだけ': 23496, 'カメルーン': 23497, 'グラスゴー': 23498, 'サバイバル': 23499, 'マルティン': 23500, 'リサイタル': 23501, 'ワーキング': 23502, '##オリンピック': 23503, '##メタルバンド': 23504, 'Master': 23505, 'ヴァージョン': 23506, '東海道新幹線': 23507, 'オペレーション': 23508, 'スマートフォン': 23509, 'フィードバック': 23510, '汝': 23511, '腔': 23512, '贅': 23513, '轄': 23514, '##ぽう': 23515, '##ろく': 23516, '##カウ': 23517, '##ガウ': 23518, '##コネ': 23519, '##対称': 23520, '##崩れ': 23521, '##発田': 23522, '##iff': 23523, '##ira': 23524, '##oud': 23525, '##ste': 23526, 'FG': 23527, 'PI': 23528, 'TN': 23529, 'da': 23530, 'po': 23531, 'シム': 23532, 'ナラ': 23533, 'ビラ': 23534, 'リボ': 23535, '一条': 23536, '三和': 23537, '不平': 23538, '不時': 23539, '兼用': 23540, '加納': 23541, '千鳥': 23542, '呉服': 23543, '四条': 23544, '大金': 23545, '威嚇': 23546, '宅配': 23547, '宮沢': 23548, '小坂': 23549, '小姓': 23550, '尻尾': 23551, '左腕': 23552, '延岡': 23553, '張ら': 23554, '当り': 23555, '懲罰': 23556, '捕捉': 23557, '排斥': 23558, '整形': 23559, '断熱': 23560, '日報': 23561, '本間': 23562, '松村': 23563, '殺菌': 23564, '江蘇': 23565, '没頭': 23566, '沿革': 23567, '濡れ': 23568, '無色': 23569, '焼く': 23570, '現す': 23571, '球技': 23572, '砂丘': 23573, '砲術': 23574, '祝い': 23575, '筆名': 23576, '簡潔': 23577, '結束': 23578, '絶版': 23579, '綿花': 23580, '義兄': 23581, '耕地': 23582, '職種': 23583, '蒸し': 23584, '触手': 23585, '記入': 23586, '購読': 23587, '違憲': 23588, '遺品': 23589, '重慶': 23590, '銀色': 23591, '長屋': 23592, '集客': 23593, '高尾': 23594, '##ライヒ': 23595, '##レスコ': 23596, '##fect': 23597, '##roup': 23598, '420': 23599, 'GIR': 23600, 'RAW': 23601, 'あゆみ': 23602, 'だって': 23603, 'アステ': 23604, 'クルス': 23605, 'シェフ': 23606, 'シンポ': 23607, 'ジュラ': 23608, 'ニャン': 23609, 'バーツ': 23610, 'ファラ': 23611, 'フェン': 23612, 'モリス': 23613, 'ワンダ': 23614, '保育園': 23615, '吸血鬼': 23616, '喫する': 23617, '国文学': 23618, '条件下': 23619, '比叡山': 23620, '照らし': 23621, '生き方': 23622, '考えれ': 23623, '際立っ': 23624, '非対称': 23625, '飛行船': 23626, '##ルスーツ': 23627, '1648': 23628, '1823': 23629, 'Camp': 23630, 'こうとう': 23631, 'オリバー': 23632, 'スタンプ': 23633, 'タタール': 23634, 'ハザード': 23635, 'バーバラ': 23636, 'ビジター': 23637, 'ブレード': 23638, 'Green': 23639, 'うかがえる': 23640, 'アンティオ': 23641, 'エイリアン': 23642, 'エタノール': 23643, 'デイヴィス': 23644, 'バーレーン': 23645, 'パルチザン': 23646, 'プラモデル': 23647, 'レオポルト': 23648, '海上保安庁': 23649, '盛り上がり': 23650, '西アフリカ': 23651, 'Studio': 23652, 'ガーディアン': 23653, 'サクラメント': 23654, 'ライトヘビー': 23655, 'ラインハルト': 23656, '##エンターテインメント': 23657, '冀': 23658, '婆': 23659, '熾': 23660, '##たた': 23661, '##びと': 23662, '##へい': 23663, '##らめ': 23664, '##シノ': 23665, '##ズー': 23666, '##タヤ': 23667, '##トフ': 23668, '##ネフ': 23669, '##ミラ': 23670, '##信越': 23671, '##反対': 23672, '##合成': 23673, '##嗣子': 23674, '##大橋': 23675, '##敷き': 23676, '##残さ': 23677, '##舞台': 23678, '##製紙': 23679, '##野川': 23680, '##rib': 23681, '(※': 23682, 'AU': 23683, 'FU': 23684, 'OL': 23685, 'tw': 23686, 'up': 23687, 'もみ': 23688, 'イロ': 23689, 'セナ': 23690, '上奏': 23691, '中傷': 23692, '作製': 23693, '元町': 23694, '分館': 23695, '列伝': 23696, '別表': 23697, '国学': 23698, '在地': 23699, '堀田': 23700, '変電': 23701, '夏目': 23702, '大口': 23703, '始末': 23704, '嫌気': 23705, '安城': 23706, '小作': 23707, '後悔': 23708, '念仏': 23709, '悲惨': 23710, '憎悪': 23711, '打開': 23712, '掘っ': 23713, '探る': 23714, '明代': 23715, '時効': 23716, '更迭': 23717, '本所': 23718, '極楽': 23719, '水辺': 23720, '江原': 23721, '漢語': 23722, '独り': 23723, '生業': 23724, '皇位': 23725, '眠っ': 23726, '秀忠': 23727, '精通': 23728, '納付': 23729, '紛失': 23730, '紡績': 23731, '続投': 23732, '緒方': 23733, '臨界': 23734, '許諾': 23735, '誓う': 23736, '談話': 23737, '足し': 23738, '転勤': 23739, '軽便': 23740, '酒場': 23741, '野郎': 23742, '釜石': 23743, '面体': 23744, '音頭': 23745, '##りょう': 23746, '##アース': 23747, '##グレブ': 23748, '##ッキリ': 23749, '##ツェル': 23750, '##バイト': 23751, '##リバー': 23752, '##兵学校': 23753, '##院大学': 23754, '##amil': 23755, '##gram': 23756, '##isch': 23757, '##lish': 23758, 'ART': 23759, 'CAT': 23760, 'all': 23761, 'あふれ': 23762, 'アロン': 23763, 'オード': 23764, 'スペル': 23765, 'トリニ': 23766, 'ボーン': 23767, 'ルーク': 23768, '上回り': 23769, '交わる': 23770, '切り札': 23771, '初舞台': 23772, '取扱い': 23773, '吉祥寺': 23774, '居酒屋': 23775, '捕まえ': 23776, '浄土宗': 23777, '混じっ': 23778, '電磁波': 23779, '養嗣子': 23780, '##ウェルス': 23781, '##ファイア': 23782, '##国際空港': 23783, 'Book': 23784, 'ともなっ': 23785, 'ステート': 23786, 'パラレル': 23787, 'フリッツ': 23788, 'マウンド': 23789, '事務次官': 23790, '天武天皇': 23791, '引き返し': 23792, '恐ろしい': 23793, '##ライアンス': 23794, 'trans': 23795, 'アスリート': 23796, 'クリケット': 23797, 'チェロキー': 23798, 'ポーツマス': 23799, '海軍兵学校': 23800, '##エクスプレス': 23801, '##ミネーション': 23802, 'ギャラクシー': 23803, 'サンティアゴ': 23804, 'ミュンスター': 23805, '青山学院大学': 23806, '静岡県立大学': 23807, 'カンザスシティ': 23808, 'トライアングル': 23809, '##86': 23810, '##ih': 23811, '##kt': 23812, '嬢': 23813, '實': 23814, '巳': 23815, '憶': 23816, '掩': 23817, '濾': 23818, '莉': 23819, '鼠': 23820, '##へん': 23821, '##らう': 23822, '##カビ': 23823, '##モル': 23824, '##リィ': 23825, '##張る': 23826, '##深く': 23827, '##透明': 23828, '##集編': 23829, '##res': 23830, 'VT': 23831, 'pp': 23832, 'かっ': 23833, 'つぐ': 23834, 'エト': 23835, 'デメ': 23836, 'ヘロ': 23837, 'ボア': 23838, 'ヨア': 23839, '三日': 23840, '主計': 23841, '修め': 23842, '利子': 23843, '励起': 23844, '嘆願': 23845, '困っ': 23846, '園田': 23847, '在り': 23848, '増税': 23849, '変態': 23850, '多田': 23851, '大町': 23852, '安楽': 23853, '定額': 23854, '小原': 23855, '小節': 23856, '尺度': 23857, '帝京': 23858, '年長': 23859, '廃位': 23860, '強打': 23861, '戦史': 23862, '払わ': 23863, '抜粋': 23864, '拝殿': 23865, '拾っ': 23866, '撤収': 23867, '断崖': 23868, '松坂': 23869, '格段': 23870, '楠木': 23871, '正成': 23872, '毒殺': 23873, '沿う': 23874, '流刑': 23875, '混ざ': 23876, '湯浅': 23877, '源義': 23878, '独創': 23879, '生母': 23880, '町人': 23881, '画質': 23882, '白金': 23883, '相棒': 23884, '県営': 23885, '真に': 23886, '着る': 23887, '積む': 23888, '立山': 23889, '素直': 23890, '罹患': 23891, '義貞': 23892, '能代': 23893, '脱却': 23894, '藩校': 23895, '蘇生': 23896, '追随': 23897, '造詣': 23898, '重役': 23899, '銃剣': 23900, '銃殺': 23901, '面々': 23902, '麻衣': 23903, '##モスク': 23904, '##ラクタ': 23905, '##ロピー': 23906, '##endo': 23907, '##ette': 23908, '303': 23909, '312': 23910, 'Nav': 23911, 'SPE': 23912, 'Tre': 23913, 'kHz': 23914, 'しんじ': 23915, 'じょう': 23916, 'シンデ': 23917, 'トレイ': 23918, 'ビック': 23919, 'ピンチ': 23920, 'フレー': 23921, 'ミシュ': 23922, 'リフレ': 23923, '不透明': 23924, '宇和島': 23925, '正反対': 23926, '総集編': 23927, '贈り物': 23928, '##キュリー': 23929, '##フェラー': 23930, 'News': 23931, 'pres': 23932, 'ならでは': 23933, 'ウェルズ': 23934, 'ジェシー': 23935, 'ボルドー': 23936, 'ミステリ': 23937, '取り下げ': 23938, '相応しい': 23939, '##ティッシュ': 23940, 'Stand': 23941, 'アンドレア': 23942, 'スティール': 23943, 'ピエモンテ': 23944, 'Joseph': 23945, 'コメディアン': 23946, 'コーポレート': 23947, 'ジョヴァンニ': 23948, 'ソルトレイク': 23949, 'ソロアルバム': 23950, 'コミュニティー': 23951, 'ゴールキーパー': 23952, 'インターフェース': 23953, 'ハムファイターズ': 23954, 'ロードアイランド': 23955, '##AX': 23956, '##TE': 23957, '±': 23958, '傳': 23959, '勿': 23960, '娶': 23961, '掻': 23962, '爽': 23963, '鋏': 23964, '齋': 23965, '##ぞう': 23966, '##どか': 23967, '##はし': 23968, '##南端': 23969, '##太后': 23970, '##消し': 23971, '##盆地': 23972, '##願い': 23973, 'IL': 23974, 'つづ': 23975, 'は種': 23976, 'むつ': 23977, 'ゃく': 23978, 'ウミ': 23979, 'ヤス': 23980, 'リラ': 23981, 'レコ': 23982, '不備': 23983, '今や': 23984, '佐々': 23985, '何ら': 23986, '作法': 23987, '健闘': 23988, '先天': 23989, '光明': 23990, '入籍': 23991, '列記': 23992, '取組': 23993, '右京': 23994, '右足': 23995, '名家': 23996, '因縁': 23997, '均等': 23998, '塗料': 23999, '変性': 24000, '大倉': 24001, '山県': 24002, '成っ': 24003, '推論': 24004, '文武': 24005, '斯波': 24006, '昇降': 24007, '朝方': 24008, '本業': 24009, '死別': 24010, '残酷': 24011, '法曹': 24012, '無期': 24013, '特派': 24014, '獄中': 24015, '盟友': 24016, '砂岩': 24017, '移譲': 24018, '節足': 24019, '経る': 24020, '罰則': 24021, '自重': 24022, '色濃': 24023, '藤枝': 24024, '記法': 24025, '論説': 24026, '護送': 24027, '起伏': 24028, '連戦': 24029, '過大': 24030, '降雨': 24031, '難色': 24032, '馬券': 24033, '驚か': 24034, '魚介': 24035, '##クトゥ': 24036, '##シオス': 24037, '##ッダー': 24038, '##ドゥー': 24039, '##ハンデ': 24040, '##ホーン': 24041, '##ster': 24042, '290': 24043, 'Fil': 24044, 'Ger': 24045, 'MIT': 24046, 'SPD': 24047, 'Tor': 24048, 'was': 24049, 'お願い': 24050, 'さかい': 24051, 'ふたつ': 24052, 'らしき': 24053, 'アトレ': 24054, 'アニー': 24055, 'イブン': 24056, 'キープ': 24057, 'ザック': 24058, 'シオン': 24059, 'ジュゼ': 24060, 'ディナ': 24061, 'パッド': 24062, 'ポッド': 24063, 'マスカ': 24064, '下さい': 24065, '不自由': 24066, '性行為': 24067, '新発田': 24068, '最南端': 24069, '東大阪': 24070, '目立ち': 24071, '締めく': 24072, '義勇軍': 24073, '農作物': 24074, '遂げる': 24075, '##フレーム': 24076, '1760': 24077, 'Show': 24078, 'WHIP': 24079, 'ゅうけい': 24080, 'アスキー': 24081, 'イデアル': 24082, 'サムライ': 24083, 'スマトラ': 24084, 'チャイナ': 24085, 'バンパー': 24086, '巻き込ん': 24087, '節足動物': 24088, '貸し出し': 24089, '##グラウンド': 24090, '##プロデュー': 24091, 'Angel': 24092, 'Louis': 24093, '入れ替わり': 24094, '##チャージャー': 24095, 'アクセサリー': 24096, 'セレクション': 24097, 'バッティング': 24098, 'ホームタウン': 24099, '##iversary': 24100, '##HD': 24101, '##VC': 24102, '##ca': 24103, '嘴': 24104, '暇': 24105, '肛': 24106, '萎': 24107, '蝋': 24108, '躊': 24109, '##だち': 24110, '##ばっ': 24111, '##ケ谷': 24112, '##シロ': 24113, '##ネク': 24114, '##プア': 24115, '##因坊': 24116, '##差し': 24117, '##払っ': 24118, '##県立': 24119, '##祖父': 24120, '##重工': 24121, '##ray': 24122, '##ury': 24123, 'LM': 24124, 'WS': 24125, 'ぎり': 24126, 'ひみ': 24127, 'タフ': 24128, 'バプ': 24129, 'パド': 24130, 'ベジ': 24131, 'マウ': 24132, 'リサ': 24133, 'ロザ': 24134, '丈夫': 24135, '三成': 24136, '中庭': 24137, '主幹': 24138, '乗艦': 24139, '何れ': 24140, '公道': 24141, '六甲': 24142, '共役': 24143, '初動': 24144, '削り': 24145, '十郎': 24146, '反共': 24147, '吉良': 24148, '同母': 24149, '四角': 24150, '国策': 24151, '坂東': 24152, '培地': 24153, '塩谷': 24154, '子弟': 24155, '工具': 24156, '後裔': 24157, '心情': 24158, '抜く': 24159, '振幅': 24160, '新川': 24161, '早大': 24162, '暫く': 24163, '栗東': 24164, '根室': 24165, '決裂': 24166, '浮遊': 24167, '煙草': 24168, '留意': 24169, '県議': 24170, '真偽': 24171, '硫化': 24172, '禁酒': 24173, '税制': 24174, '等々': 24175, '義昭': 24176, '訳し': 24177, '語族': 24178, '貞享': 24179, '貞治': 24180, '躊躇': 24181, '身元': 24182, '軍楽': 24183, '配管': 24184, '金庫': 24185, '鑑み': 24186, '風船': 24187, '##キッド': 24188, '##ビエル': 24189, '##マッハ': 24190, '##マーレ': 24191, '##ANCE': 24192, '##adem': 24193, '##ored': 24194, '233': 24195, 'Gar': 24196, 'God': 24197, 'Lab': 24198, 'MSX': 24199, 'Way': 24200, 'おまけ': 24201, 'オスロ': 24202, 'オリエ': 24203, 'シャク': 24204, 'トリエ': 24205, 'トリス': 24206, 'ベンゾ': 24207, 'モータ': 24208, 'レジェ': 24209, '下敷き': 24210, '仕切り': 24211, '妨げる': 24212, '尽くす': 24213, '悪天候': 24214, '掛かっ': 24215, '本因坊': 24216, '渡り歩': 24217, '生き物': 24218, '程なく': 24219, '銘打っ': 24220, '降りる': 24221, '##グラフィ': 24222, '2100': 24223, '2200': 24224, 'DEEP': 24225, 'NCAA': 24226, 'アンデス': 24227, 'オルタナ': 24228, 'クロスカ': 24229, 'ゲイリー': 24230, 'スコープ': 24231, 'ストーム': 24232, 'セネガル': 24233, 'チョーク': 24234, 'パウンド': 24235, 'ブレスト': 24236, 'ルイーズ': 24237, 'レーガン': 24238, 'ロナルド': 24239, '受け付け': 24240, '興味深い': 24241, '##クスブルク': 24242, '##コロンビア': 24243, 'Fight': 24244, 'Found': 24245, 'Games': 24246, 'アーセナル': 24247, 'オーランド': 24248, 'カーネギー': 24249, 'コンシュー': 24250, 'コンバート': 24251, 'ジェフリー': 24252, 'ハンニバル': 24253, 'バットマン': 24254, '小笠原諸島': 24255, 'アウトバーン': 24256, 'ミーティング': 24257, 'モビルスーツ': 24258, '......。': 24259, 'スーパーファミ': 24260, 'マルチメディア': 24261, 'エレクトロニクス': 24262, 'Entertainment': 24263, '##BM': 24264, '##PO': 24265, '##ng': 24266, '咎': 24267, '喘': 24268, '殖': 24269, '陀': 24270, '##かえ': 24271, '##くみ': 24272, '##けし': 24273, '##スイ': 24274, '##タウ': 24275, '##分子': 24276, '##去り': 24277, '##放し': 24278, '##熱帯': 24279, '##ift': 24280, '##use': 24281, '--': 24282, 'AW': 24283, 'KS': 24284, 'KT': 24285, 'Kr': 24286, 'YU': 24287, 'いぶ': 24288, 'がり': 24289, 'ひん': 24290, 'わく': 24291, 'イネ': 24292, 'シボ': 24293, '三鷹': 24294, '上皮': 24295, '処さ': 24296, '凶悪': 24297, '刻み': 24298, '南道': 24299, '厚み': 24300, '原文': 24301, '同大': 24302, '同所': 24303, '同胞': 24304, '大中': 24305, '嫌う': 24306, '尽き': 24307, '屈辱': 24308, '岸田': 24309, '帰依': 24310, '幻覚': 24311, '桑原': 24312, '歳入': 24313, '水運': 24314, '治癒': 24315, '波及': 24316, '浮気': 24317, '疑似': 24318, '相生': 24319, '相鉄': 24320, '禁煙': 24321, '粉砕': 24322, '純一': 24323, '絶頂': 24324, '群衆': 24325, '義弘': 24326, '肥満': 24327, '自民': 24328, '葛城': 24329, '製剤': 24330, '西新': 24331, '西野': 24332, '親和': 24333, '角田': 24334, '達人': 24335, '金銀': 24336, '鉄製': 24337, '開城': 24338, '陸路': 24339, '館山': 24340, '##ましい': 24341, '##ディエ': 24342, '##プシー': 24343, '##ラーオ': 24344, '##ロイト': 24345, '##atus': 24346, '##ough': 24347, '215': 24348, '315': 24349, 'Cre': 24350, 'Div': 24351, 'Jud': 24352, 'Tur': 24353, 'car': 24354, 'いかん': 24355, 'うさぎ': 24356, 'しゅん': 24357, 'アトム': 24358, 'アロー': 24359, 'カステ': 24360, 'サック': 24361, 'フラグ': 24362, 'ブレス': 24363, 'マグマ': 24364, 'ライム': 24365, 'ルビー': 24366, '亜熱帯': 24367, '原産地': 24368, '味付け': 24369, '女子大': 24370, '生える': 24371, '留まら': 24372, '縄張り': 24373, '高分子': 24374, '##シオナル': 24375, '##リーンズ': 24376, '##ージング': 24377, '##ender': 24378, '##ister': 24379, '1585': 24380, '1750': 24381, '1799': 24382, 'アルティ': 24383, 'スタンス': 24384, 'ソーラー': 24385, 'デザート': 24386, 'トラベル': 24387, 'トーキー': 24388, 'ニューズ': 24389, 'ペーター': 24390, 'ホフマン': 24391, 'レプリカ': 24392, '勝ち抜き': 24393, '広島大学': 24394, '政務次官': 24395, '日本銀行': 24396, '羽田空港': 24397, '##フィリーズ': 24398, 'コレクター': 24399, 'コンパイル': 24400, 'スクリュー': 24401, 'レポーター': 24402, '引き受ける': 24403, '後醍醐天皇': 24404, '##ヴァージョン': 24405, 'ゃじょうせん': 24406, 'カンタベリー': 24407, 'シンポジウム': 24408, 'シーズンオフ': 24409, '東京工業大学': 24410, 'Develop': 24411, 'カンバーランド': 24412, 'クリスティアン': 24413, 'ハットトリック': 24414, 'Internet': 24415, 'パーソナルコンピュータ': 24416, '揉': 24417, '曇': 24418, '礫': 24419, '穆': 24420, '葡': 24421, '靭': 24422, '##えい': 24423, '##すけ': 24424, '##ぶれ': 24425, '##まじ': 24426, '##キヤ': 24427, '##デム': 24428, '##付く': 24429, '##十郎': 24430, '##千代': 24431, '##直す': 24432, '##END': 24433, '##for': 24434, '##ump': 24435, '\"|': 24436, 'CI': 24437, 'MW': 24438, 'ぎふ': 24439, 'つめ': 24440, 'まみ': 24441, 'よっ': 24442, 'キタ': 24443, '一端': 24444, '二塁': 24445, '位階': 24446, '入局': 24447, '入校': 24448, '典礼': 24449, '創り': 24450, '創世': 24451, '単数': 24452, '厳島': 24453, '各州': 24454, '同然': 24455, '命ぜ': 24456, '和尚': 24457, '執権': 24458, '多元': 24459, '大政': 24460, '大竹': 24461, '女房': 24462, '孫娘': 24463, '宿禰': 24464, '少子': 24465, '座礁': 24466, '征討': 24467, '後発': 24468, '復権': 24469, '恵那': 24470, '患い': 24471, '成城': 24472, '振ら': 24473, '普請': 24474, '杉本': 24475, '東野': 24476, '棋戦': 24477, '機運': 24478, '沙汰': 24479, '湖沼': 24480, '濃厚': 24481, '爆薬': 24482, '田川': 24483, '町民': 24484, '神武': 24485, '衣類': 24486, '財界': 24487, '赤塚': 24488, '足柄': 24489, '農協': 24490, '迷い': 24491, '退陣': 24492, '邦楽': 24493, '酒田': 24494, '重度': 24495, '開祖': 24496, '電解': 24497, '##ケッツ': 24498, '##フェア': 24499, '##ient': 24500, '##ring': 24501, '##uman': 24502, 'Arc': 24503, 'GUI': 24504, 'Les': 24505, 'MID': 24506, 'WIN': 24507, 'かわし': 24508, 'なおも': 24509, 'アイダ': 24510, 'ウナギ': 24511, 'エアー': 24512, 'カフカ': 24513, 'ギャラ': 24514, 'タミル': 24515, '会計士': 24516, '割り振': 24517, '劇映画': 24518, '区切り': 24519, '守護神': 24520, '手書き': 24521, '芳しく': 24522, '苦しい': 24523, '複素数': 24524, '転じる': 24525, '隅田川': 24526, '##ジェール': 24527, '##ブリック': 24528, '##ヴィエト': 24529, '##市立大学': 24530, '##iness': 24531, '2600': 24532, 'Mill': 24533, 'Mont': 24534, 'PART': 24535, 'York': 24536, 'oxid': 24537, 'ウガンダ': 24538, 'スマイル': 24539, 'ハーレム': 24540, 'ピストル': 24541, 'フーリエ': 24542, 'ホッケー': 24543, 'メドレー': 24544, 'リッター': 24545, 'ヴィオラ': 24546, '切り離し': 24547, '専修大学': 24548, '当たり前': 24549, '東武鉄道': 24550, '申し込み': 24551, '裏付ける': 24552, '##ベンション': 24553, '##リオールズ': 24554, 'Henry': 24555, 'Media': 24556, 'South': 24557, 'たどり着い': 24558, 'オリエント': 24559, 'クローバー': 24560, 'ジェット機': 24561, 'メソジスト': 24562, 'レコーダー': 24563, 'テーマパーク': 24564, 'パラマウント': 24565, 'プロモーター': 24566, 'ミリメートル': 24567, '##チュエーション': 24568, 'グリーンランド': 24569, 'Wrestling': 24570, 'スーパーファミコン': 24571, 'ブラウンシュヴァイク': 24572, '##PN': 24573, 'ぇ': 24574, '塹': 24575, '宦': 24576, '掠': 24577, '昏': 24578, '疏': 24579, '般': 24580, '芹': 24581, '蔚': 24582, '賊': 24583, '##々と': 24584, '##ゴヤ': 24585, '##トウ': 24586, '##バサ': 24587, '##不動': 24588, '##乃花': 24589, '##小屋': 24590, '##若松': 24591, '##詫び': 24592, '##ILL': 24593, '##ery': 24594, 'NV': 24595, 'おっ': 24596, 'イズ': 24597, '一挙': 24598, '上官': 24599, '下面': 24600, '中書': 24601, '交尾': 24602, '入幕': 24603, '再任': 24604, '別称': 24605, '北島': 24606, '叩い': 24607, '台所': 24608, '地味': 24609, '変則': 24610, '夢中': 24611, '孔子': 24612, '定量': 24613, '家紋': 24614, '川辺': 24615, '巻末': 24616, '帝室': 24617, '年鑑': 24618, '徴用': 24619, '志す': 24620, '忠清': 24621, '斑点': 24622, '方形': 24623, '朝貢': 24624, '札所': 24625, '海部': 24626, '物産': 24627, '狂言': 24628, '甘味': 24629, '発火': 24630, '相良': 24631, '神格': 24632, '葛藤': 24633, '蓄え': 24634, '見当': 24635, '観世': 24636, '貸付': 24637, '造っ': 24638, '都度': 24639, '障壁': 24640, '雨天': 24641, '面影': 24642, '須磨': 24643, '##あさん': 24644, '##かかっ': 24645, '##アルド': 24646, '##クロウ': 24647, '##ツール': 24648, '##ハイン': 24649, '##ブルグ': 24650, '##ラーン': 24651, '##ンチュ': 24652, '##ourn': 24653, '001': 24654, '304': 24655, '911': 24656, 'Hal': 24657, 'KAD': 24658, 'NHL': 24659, 'ind': 24660, 'やむを': 24661, 'イント': 24662, 'キャロ': 24663, 'ゲーテ': 24664, 'サニー': 24665, 'タブー': 24666, 'ハーグ': 24667, 'マンス': 24668, '三日月': 24669, '中山道': 24670, '兼ね備': 24671, '寄生虫': 24672, '延びる': 24673, '手榴弾': 24674, '気づき': 24675, '生化学': 24676, '町議会': 24677, '確かめ': 24678, '秘書官': 24679, '絶えず': 24680, '臨済宗': 24681, '見出す': 24682, '足らず': 24683, '##ガンダム': 24684, '##スペクト': 24685, '##チェンコ': 24686, '##ビリティ': 24687, '##プレミア': 24688, '##メイソン': 24689, '##ラスター': 24690, '##リューム': 24691, '1778': 24692, 'Dist': 24693, 'NADP': 24694, 'ゅうおう': 24695, 'ダイヤル': 24696, 'ハロゲン': 24697, 'フレディ': 24698, 'ポータル': 24699, 'マヌエル': 24700, 'マラリア': 24701, 'ロールス': 24702, '乗り出す': 24703, '塗り替え': 24704, '積み重ね': 24705, '突き出し': 24706, 'House': 24707, 'Stage': 24708, 'コスタリカ': 24709, 'シンデレラ': 24710, 'トスカーナ': 24711, 'メイキング': 24712, 'SPORTS': 24713, 'ホロコースト': 24714, 'ミネアポリス': 24715, 'アウクスブルク': 24716, 'オーバーホール': 24717, 'セルティックス': 24718, 'トレーディング': 24719, 'インタラクティブ': 24720, 'クロスカントリー': 24721, 'ブリティッシュコロンビア': 24722, '##NO': 24723, '悼': 24724, '捷': 24725, '摺': 24726, '珊': 24727, '盃': 24728, '芭': 24729, '讒': 24730, '##ウド': 24731, '##ノ宮': 24732, '##ヒス': 24733, '##ベク': 24734, '##志野': 24735, '##林寺': 24736, '##ITY': 24737, '##azz': 24738, '##eck': 24739, '##lam': 24740, '##unt': 24741, ':〒': 24742, 'CE': 24743, 'do': 24744, 'うき': 24745, 'おれ': 24746, 'ねえ': 24747, 'アケ': 24748, 'クセ': 24749, 'シノ': 24750, 'ニシ': 24751, 'ブカ': 24752, 'マメ': 24753, 'モダ': 24754, 'ラピ': 24755, '不評': 24756, '乳酸': 24757, '事案': 24758, '京畿': 24759, '低木': 24760, '光る': 24761, '公称': 24762, '内裏': 24763, '執拗': 24764, '大家': 24765, '大腿': 24766, '大門': 24767, '守山': 24768, '家格': 24769, '希薄': 24770, '年表': 24771, '幼生': 24772, '忌避': 24773, '惜敗': 24774, '慣性': 24775, '所内': 24776, '所収': 24777, '携行': 24778, '新年': 24779, '欠き': 24780, '歌集': 24781, '水温': 24782, '水生': 24783, '水陸': 24784, '消去': 24785, '溝口': 24786, '火口': 24787, '熱意': 24788, '独学': 24789, '百済': 24790, '硬い': 24791, '税法': 24792, '箕面': 24793, '緩行': 24794, '群集': 24795, '自白': 24796, '荒井': 24797, '西経': 24798, '覇者': 24799, '討た': 24800, '走査': 24801, '軽視': 24802, '退く': 24803, '過熱': 24804, '遺書': 24805, '那賀': 24806, '酪農': 24807, '陳情': 24808, '領民': 24809, '頭痛': 24810, '飼っ': 24811, '魅了': 24812, '##かかる': 24813, '##ぐるみ': 24814, '##エリー': 24815, '##チェフ': 24816, '##ベルス': 24817, '##メチル': 24818, '##リーノ': 24819, '##ロング': 24820, '##ローブ': 24821, '##掛かっ': 24822, '##ique': 24823, '##raft': 24824, '737': 24825, 'BIG': 24826, 'CoA': 24827, 'Ear': 24828, 'GRE': 24829, 'JUN': 24830, 'RKB': 24831, 'UHF': 24832, 'pol': 24833, 'sub': 24834, 'そごう': 24835, 'またも': 24836, 'アスレ': 24837, 'アルテ': 24838, 'コーカ': 24839, 'シェー': 24840, 'チャド': 24841, 'ハーブ': 24842, 'パーマ': 24843, 'ヒース': 24844, 'マグロ': 24845, '乃木坂': 24846, '予告編': 24847, '仲良く': 24848, '伺える': 24849, '合わさ': 24850, '掛ける': 24851, '最年長': 24852, '興福寺': 24853, '行政府': 24854, '青銅器': 24855, '##ウェイン': 24856, '##ゲナーゼ': 24857, '##OKAWA': 24858, 'CDMA': 24859, 'またがっ': 24860, 'エーテル': 24861, 'カリスマ': 24862, 'カロリー': 24863, 'グラハム': 24864, 'ダンカン': 24865, 'バースト': 24866, 'ベネット': 24867, 'ホーエン': 24868, 'マーカー': 24869, 'リザーブ': 24870, 'ワトソン': 24871, '言い換え': 24872, '##ウォーカー': 24873, '##サーキット': 24874, 'Heart': 24875, 'キャピタル': 24876, 'サンライズ': 24877, 'シルエット': 24878, 'スクラップ': 24879, 'スペンサー': 24880, 'バーナード': 24881, 'ロジャース': 24882, 'ヴァージン': 24883, 'Server': 24884, 'Service': 24885, 'プランテーション': 24886, 'Anniversary': 24887, '##21': 24888, '〒': 24889, '堡': 24890, '旦': 24891, '阮': 24892, '##には': 24893, '##シリ': 24894, '##ゾフ': 24895, '##届け': 24896, '##石油': 24897, '##蒸気': 24898, '##造船': 24899, '##食品': 24900, '##ARE': 24901, 'BN': 24902, 'Ba': 24903, 'いら': 24904, 'きく': 24905, 'すえ': 24906, 'アワ': 24907, 'カシ': 24908, 'チー': 24909, 'ララ': 24910, 'ラル': 24911, '三宮': 24912, '丹羽': 24913, '交番': 24914, '停電': 24915, '劉邦': 24916, '包含': 24917, '北道': 24918, '可算': 24919, '同和': 24920, '営ま': 24921, '城南': 24922, '塩分': 24923, '多面': 24924, '奏法': 24925, '市警': 24926, '干潟': 24927, '庄屋': 24928, '得よ': 24929, '心霊': 24930, '拝謁': 24931, '挙行': 24932, '教化': 24933, '断ち': 24934, '旅人': 24935, '月額': 24936, '本件': 24937, '板倉': 24938, '水冷': 24939, '永野': 24940, '特製': 24941, '県連': 24942, '真一': 24943, '確固': 24944, '稼い': 24945, '空力': 24946, '童子': 24947, '競泳': 24948, '自我': 24949, '自明': 24950, '自給': 24951, '落葉': 24952, '藻類': 24953, '被り': 24954, '試薬': 24955, '賛否': 24956, '赤旗': 24957, '趣向': 24958, '軌跡': 24959, '輪郭': 24960, '送還': 24961, '達也': 24962, '遺児': 24963, '醸し': 24964, '重油': 24965, '金賞': 24966, '錯体': 24967, '降着': 24968, '陛下': 24969, '駅長': 24970, '##アーン': 24971, '##グノー': 24972, '##ニーク': 24973, '##フティ': 24974, '##ホーク': 24975, '##ポルド': 24976, '##ランズ': 24977, '##ーロフ': 24978, '##ford': 24979, '##ness': 24980, '##urus': 24981, '\"\")': 24982, '\"』(': 24983, '227': 24984, '264': 24985, '530': 24986, 'Cry': 24987, 'Dem': 24988, 'IEC': 24989, 'PAR': 24990, 'SAS': 24991, 'Sar': 24992, 'min': 24993, 'おしゃ': 24994, 'ぶどう': 24995, 'ガロン': 24996, 'セール': 24997, 'バール': 24998, 'ポータ': 24999, 'ルック': 25000, '予備校': 25001, '事故死': 25002, '人びと': 25003, '国務省': 25004, '日の出': 25005, '枢密院': 25006, '気づく': 25007, '水蒸気': 25008, '##ションズ': 25009, '##ility': 25010, '1592': 25011, 'Prot': 25012, 'ガレージ': 25013, 'ゲットー': 25014, 'シャドウ': 25015, 'シャワー': 25016, 'ライデン': 25017, 'ラウンジ': 25018, '会津若松': 25019, '立て直し': 25020, '立て続け': 25021, '##ディーゼル': 25022, '##genase': 25023, 'Frank': 25024, 'フォーカス': 25025, 'Rotten': 25026, 'クライスラー': 25027, 'Product': 25028, 'インターセプト': 25029, 'エグゼクティブ': 25030, 'KADOKAWA': 25031, '##DE': 25032, '##ua': 25033, '##yt': 25034, '■': 25035, '偲': 25036, '兎': 25037, '咽': 25038, '壕': 25039, '禰': 25040, '謂': 25041, '閘': 25042, '閻': 25043, '##でる': 25044, '##やき': 25045, '##ゼス': 25046, '##ゾル': 25047, '##大學': 25048, '##屋川': 25049, '##技研': 25050, '##置き': 25051, '##ATA': 25052, '##gar': 25053, '##omb': 25054, '##ume': 25055, ')”': 25056, 'DP': 25057, 'UM': 25058, 'xx': 25059, 'きか': 25060, 'こじ': 25061, 'なご': 25062, 'びわ': 25063, 'ぶち': 25064, 'みか': 25065, 'ニセ': 25066, '中宮': 25067, '乳児': 25068, '争議': 25069, '人身': 25070, '健二': 25071, '先手': 25072, '円柱': 25073, '刀剣': 25074, '初音': 25075, '利権': 25076, '古参': 25077, '吹雪': 25078, '嗣子': 25079, '国技': 25080, '塹壕': 25081, '増資': 25082, '壊し': 25083, '壱岐': 25084, '変容': 25085, '夏期': 25086, '安東': 25087, '宗谷': 25088, '容れ': 25089, '岩本': 25090, '急襲': 25091, '情景': 25092, '戦局': 25093, '手話': 25094, '技量': 25095, '招致': 25096, '掲揚': 25097, '搬入': 25098, '新入': 25099, '日出': 25100, '是正': 25101, '月光': 25102, '植木': 25103, '植樹': 25104, '欲望': 25105, '欲求': 25106, '武徳': 25107, '母港': 25108, '毒素': 25109, '水流': 25110, '水色': 25111, '無双': 25112, '特捜': 25113, '球界': 25114, '発声': 25115, '的確': 25116, '目の': 25117, '石材': 25118, '礼儀': 25119, '純正': 25120, '終端': 25121, '絶た': 25122, '能勢': 25123, '艦内': 25124, '論議': 25125, '豊中': 25126, '貧乏': 25127, '輝元': 25128, '関根': 25129, '隣り': 25130, '類別': 25131, '馬術': 25132, '馳せ': 25133, '高座': 25134, '##たすら': 25135, '##サイク': 25136, '##ザベト': 25137, '##セージ': 25138, '##ニエル': 25139, '##ヌール': 25140, '##ヨーム': 25141, '##ンゲン': 25142, '##ateg': 25143, '##atic': 25144, '401': 25145, '640': 25146, 'Ber': 25147, 'DFA': 25148, 'IOC': 25149, 'IPv': 25150, 'MOD': 25151, 'PHS': 25152, 'day': 25153, 'お菓子': 25154, 'ひとみ': 25155, 'ジュビ': 25156, 'セバス': 25157, 'デモン': 25158, 'フーガ': 25159, 'ヘキサ': 25160, 'マナー': 25161, 'ヤコブ': 25162, 'ヴィラ': 25163, '一体化': 25164, '北関東': 25165, '味わい': 25166, '尋ねる': 25167, '捨てる': 25168, '攻める': 25169, '春日井': 25170, '行き詰': 25171, '##イアール': 25172, '##イベント': 25173, '##エレクト': 25174, '##シャール': 25175, '##経済大学': 25176, '##音楽大学': 25177, 'Band': 25178, 'かけ離れ': 25179, 'ひたすら': 25180, 'エックス': 25181, 'コリンズ': 25182, 'コンスト': 25183, 'サハリン': 25184, 'スカラー': 25185, 'スランプ': 25186, 'マーラー': 25187, 'ミラクル': 25188, 'モンタナ': 25189, 'ロベール': 25190, '取り消さ': 25191, '張り出し': 25192, '気に入ら': 25193, '組み入れ': 25194, '赤ちゃん': 25195, 'ジュリアン': 25196, 'ノヴゴロド': 25197, 'プログラマ': 25198, 'ミッチェル': 25199, 'レイカーズ': 25200, 'ヴェーザー': 25201, '巻き起こし': 25202, '##ference': 25203, 'プレッシャー': 25204, 'レンジャーズ': 25205, '##ソシエーション': 25206, 'フィナンシャル': 25207, 'アミューズメント': 25208, 'シチュエーション': 25209, '##ME': 25210, '厄': 25211, '嗅': 25212, '應': 25213, '撲': 25214, '珪': 25215, '脩': 25216, '賓': 25217, '靱': 25218, '##ソム': 25219, '##ピロ': 25220, '##ヘム': 25221, '##ベツ': 25222, '##メロ': 25223, '##ロマ': 25224, '##見川': 25225, '##語り': 25226, '##隆寺': 25227, '##AMP': 25228, '##IPS': 25229, '##awa': 25230, '##oid': 25231, '##unk': 25232, 'Bi': 25233, 'HK': 25234, 'まか': 25235, 'ハレ': 25236, 'ヒム': 25237, 'ヒラ': 25238, 'ビア': 25239, 'プチ': 25240, 'リヤ': 25241, '下す': 25242, '且つ': 25243, '中南': 25244, '丸み': 25245, '休場': 25246, '伯耆': 25247, '副葬': 25248, '加勢': 25249, '化身': 25250, '古田': 25251, '吸着': 25252, '和子': 25253, '墓碑': 25254, '失調': 25255, '害虫': 25256, '属さ': 25257, '山門': 25258, '式内': 25259, '張る': 25260, '慌て': 25261, '持て': 25262, '改元': 25263, '敬虔': 25264, '映っ': 25265, '横行': 25266, '残念': 25267, '気が': 25268, '渡船': 25269, '生田': 25270, '瞬く': 25271, '石棺': 25272, '祝祭': 25273, '精子': 25274, '絡む': 25275, '総計': 25276, '義隆': 25277, '臣従': 25278, '自爆': 25279, '討つ': 25280, '遊泳': 25281, '那智': 25282, '重み': 25283, '野沢': 25284, '鉄鉱': 25285, '阿佐': 25286, '額面': 25287, '##アーム': 25288, '##ストク': 25289, '##ダイン': 25290, '##デルス': 25291, '##ネード': 25292, '##ハワー': 25293, '##パンク': 25294, '##ミーユ': 25295, '##line': 25296, '##osph': 25297, '##side': 25298, '##unic': 25299, '213': 25300, '217': 25301, '950': 25302, 'DAY': 25303, 'Kar': 25304, 'She': 25305, 'WRC': 25306, 'ser': 25307, 'かぶっ': 25308, 'しげる': 25309, 'アグリ': 25310, 'エキシ': 25311, 'オーブ': 25312, 'ギニー': 25313, 'シアン': 25314, 'ジンバ': 25315, 'スルー': 25316, 'ズーム': 25317, 'ソナー': 25318, 'デビル': 25319, 'トラス': 25320, 'ニカラ': 25321, 'ハロン': 25322, 'リンダ': 25323, 'レック': 25324, '上水道': 25325, '国内線': 25326, '届け出': 25327, '引き離': 25328, '手持ち': 25329, '教習所': 25330, '鳴き声': 25331, '##スーパー': 25332, '1784': 25333, 'Bank': 25334, 'Jack': 25335, 'アウディ': 25336, 'イーグル': 25337, 'クレイグ': 25338, 'スナック': 25339, 'スモール': 25340, 'チャック': 25341, 'フルーツ': 25342, 'ルーシー': 25343, '取り調べ': 25344, '呼び出さ': 25345, '生まれ変': 25346, '##キャスター': 25347, '##ロイヤルズ': 25348, 'macOS': 25349, 'システムズ': 25350, 'ジェネラル': 25351, 'ジェラルド': 25352, 'ダイビング': 25353, '##ウィリアムズ': 25354, '##スプリングス': 25355, 'ナビゲーター': 25356, 'ニューサウス': 25357, '立方メートル': 25358, '近畿日本鉄道': 25359, '##ちゅうがっこう': 25360, 'ストラスブール': 25361, '##チャンピオンシップ': 25362, '##90': 25363, '##FT': 25364, '##gg': 25365, '##iy': 25366, 'ا': 25367, '漱': 25368, '畏': 25369, '豹': 25370, '##さり': 25371, '##すい': 25372, '##そか': 25373, '##のめ': 25374, '##ほん': 25375, '##オオ': 25376, '##サノ': 25377, '##ジボ': 25378, '##セレ': 25379, '##ルイ': 25380, '##喜多': 25381, '##総省': 25382, '##覚寺': 25383, '##過ぎ': 25384, '##養子': 25385, '##OMA': 25386, '##bor': 25387, '##day': 25388, '##ona': 25389, 'Lo': 25390, 'Tu': 25391, 'WR': 25392, 'hp': 25393, 'いづ': 25394, 'おだ': 25395, 'かや': 25396, 'がい': 25397, 'とに': 25398, 'エッ': 25399, 'ゼン': 25400, 'ソノ': 25401, 'ロク': 25402, '万能': 25403, '上梓': 25404, '中年': 25405, '主管': 25406, '住ま': 25407, '体温': 25408, '併結': 25409, '六角': 25410, '切除': 25411, '制止': 25412, '双発': 25413, '口語': 25414, '口論': 25415, '噴水': 25416, '囲ん': 25417, '在京': 25418, '外資': 25419, '学内': 25420, '安部': 25421, '小諸': 25422, '巨匠': 25423, '帰し': 25424, '忍び': 25425, '扶養': 25426, '抵触': 25427, '拘ら': 25428, '新旧': 25429, '日生': 25430, '書面': 25431, '杉田': 25432, '染料': 25433, '根元': 25434, '正日': 25435, '洗い': 25436, '浄水': 25437, '浪士': 25438, '珊瑚': 25439, '直角': 25440, '空想': 25441, '突厥': 25442, '精算': 25443, '終生': 25444, '総勢': 25445, '缶詰': 25446, '義満': 25447, '義父': 25448, '芭蕉': 25449, '街頭': 25450, '被曝': 25451, '補任': 25452, '貨客': 25453, '隔週': 25454, '魔神': 25455, '##アウグ': 25456, '##クルー': 25457, '##クレオ': 25458, '##クロン': 25459, '##サード': 25460, '##ストー': 25461, '##ズレー': 25462, '##チュン': 25463, '##ドゥス': 25464, '##ニーニ': 25465, '##ノース': 25466, '##パネル': 25467, '##取れる': 25468, '##詰める': 25469, '##angu': 25470, '##ello': 25471, '##onic': 25472, '##onom': 25473, '##ther': 25474, '226': 25475, '410': 25476, 'CRO': 25477, 'End': 25478, 'MAG': 25479, 'Rem': 25480, 'つない': 25481, 'なんと': 25482, 'アヴェ': 25483, 'エスペ': 25484, 'オルド': 25485, 'クルト': 25486, 'クロロ': 25487, 'コンス': 25488, 'コンド': 25489, 'サモア': 25490, 'スキン': 25491, 'ダマス': 25492, 'トッド': 25493, 'ヘイズ': 25494, 'ホルム': 25495, 'レフト': 25496, 'ヴォイ': 25497, '上半身': 25498, '不時着': 25499, '交響曲': 25500, '厚生省': 25501, '多年草': 25502, '婿養子': 25503, '律令制': 25504, '敢えて': 25505, '浮かび': 25506, '無条件': 25507, '終止符': 25508, '絞首刑': 25509, '総じて': 25510, '表向き': 25511, '見込ん': 25512, '車いす': 25513, '銀河系': 25514, '##ザクセン': 25515, '##マラソン': 25516, '##atoes': 25517, '##umber': 25518, 'BLUE': 25519, 'Team': 25520, 'Year': 25521, 'あきらめ': 25522, 'とにかく': 25523, 'ともども': 25524, 'アングロ': 25525, 'ドラムス': 25526, 'ペプチド': 25527, 'リビング': 25528, 'ローラン': 25529, '勝ち取っ': 25530, '取り残さ': 25531, '国防総省': 25532, '本田技研': 25533, '立ち寄っ': 25534, '通行止め': 25535, '##サンプトン': 25536, '##ファイナル': 25537, 'First': 25538, 'Saint': 25539, 'class': 25540, 'オリンピア': 25541, 'カーティス': 25542, 'シュミット': 25543, 'ジェイミー': 25544, 'ジュゼッペ': 25545, 'レイモンド': 25546, '立ち向かう': 25547, '組み合わさ': 25548, '##カージナルス': 25549, 'ストライカー': 25550, 'ジャーナリズム': 25551, 'ソリューション': 25552, 'マッカートニー': 25553, 'リーダーシップ': 25554, 'プリンストン大学': 25555, 'ソフトバンクホークス': 25556, '##27': 25557, '##SU': 25558, '弊': 25559, '拮': 25560, '汪': 25561, '瀋': 25562, '疆': 25563, '鉤': 25564, '鉾': 25565, '##ふく': 25566, '##イチ': 25567, '##ヘビ': 25568, '##分裂': 25569, '##暮れ': 25570, '##潜艇': 25571, '##真宗': 25572, '##ORA': 25573, '##irc': 25574, 'RF': 25575, 'Sa': 25576, 'Sl': 25577, 'TG': 25578, 'Vi': 25579, 'いの': 25580, 'ゴリ': 25581, 'シケ': 25582, 'ダビ': 25583, 'ノブ': 25584, 'ホラ': 25585, 'ヴュ': 25586, '一級': 25587, '一途': 25588, '一関': 25589, '七つ': 25590, '下町': 25591, '不死': 25592, '争点': 25593, '仕官': 25594, '作ろ': 25595, '修学': 25596, '個室': 25597, '利得': 25598, '励ん': 25599, '区長': 25600, '即日': 25601, '合図': 25602, '品番': 25603, '因幡': 25604, '囲い': 25605, '国力': 25606, '外貨': 25607, '大体': 25608, '官能': 25609, '宦官': 25610, '寝室': 25611, '将官': 25612, '弁天': 25613, '従弟': 25614, '復刊': 25615, '慣用': 25616, '憤慨': 25617, '拮抗': 25618, '故人': 25619, '敵国': 25620, '新書': 25621, '時半': 25622, '村民': 25623, '松崎': 25624, '死神': 25625, '沢山': 25626, '河村': 25627, '沸騰': 25628, '洋子': 25629, '淡い': 25630, '漏洩': 25631, '球状': 25632, '疑念': 25633, '病弱': 25634, '盗難': 25635, '直方': 25636, '相方': 25637, '稚内': 25638, '稲作': 25639, '節度': 25640, '肥沃': 25641, '苦境': 25642, '落馬': 25643, '親日': 25644, '誅殺': 25645, '誓約': 25646, '誘惑': 25647, '貰っ': 25648, '資質': 25649, '賞品': 25650, '過疎': 25651, '陰性': 25652, '頭頂': 25653, '風邪': 25654, '高井': 25655, '黄海': 25656, '##われる': 25657, '##アルト': 25658, '##ウキビ': 25659, '##ガリー': 25660, '##スリー': 25661, '##ッサウ': 25662, '##ヒート': 25663, '##ボディ': 25664, '##立てる': 25665, '##落とさ': 25666, '238': 25667, '999': 25668, 'AWA': 25669, 'Hor': 25670, 'Pop': 25671, 'Ray': 25672, 'おとな': 25673, 'ことば': 25674, 'すごい': 25675, 'なんば': 25676, 'ょうと': 25677, 'オタク': 25678, 'オーラ': 25679, 'カブト': 25680, 'ガウス': 25681, 'シュト': 25682, 'モジュ': 25683, '久美子': 25684, '京セラ': 25685, '京阪神': 25686, '定まっ': 25687, '打上げ': 25688, '曲がり': 25689, '溢れる': 25690, '行ける': 25691, '遅れる': 25692, '##ウォール': 25693, '##バスター': 25694, '##パドレス': 25695, '##フェルド': 25696, '##ライザー': 25697, '##arden': 25698, '1650': 25699, '1755': 25700, 'Fest': 25701, 'SPEC': 25702, 'エアコン': 25703, 'エミリー': 25704, 'カールス': 25705, 'シックス': 25706, 'シボレー': 25707, 'シュガー': 25708, 'スタント': 25709, 'トランク': 25710, 'トレンド': 25711, 'トロイア': 25712, 'バビロン': 25713, 'ヘーゲル': 25714, 'ボーイズ': 25715, 'ローソン': 25716, '浄土真宗': 25717, '理工学部': 25718, '見積もら': 25719, '難しかっ': 25720, '##ハーフェン': 25721, '##バージニア': 25722, 'Franc': 25723, 'White': 25724, 'エンゼルス': 25725, 'サトウキビ': 25726, 'チャリティ': 25727, 'ニカラグア': 25728, '東北新幹線': 25729, 'エイベックス': 25730, 'スカーレット': 25731, 'スノーボード': 25732, 'フュージョン': 25733, 'ロケーション': 25734, '##ハンデキャップ': 25735, 'Version': 25736, 'カウントダウン': 25737, 'トレードマーク': 25738, 'ハードディスク': 25739, 'モデルチェンジ': 25740, 'ウェストミンスター': 25741, '##ji': 25742, 'σ': 25743, '塀': 25744, '瘤': 25745, '##にち': 25746, '##イリ': 25747, '##ジノ': 25748, '##ソフ': 25749, '##ポネ': 25750, '##婦人': 25751, '##読み': 25752, '##金術': 25753, '##ICK': 25754, '##umb': 25755, 'Ep': 25756, 'おや': 25757, 'せつ': 25758, 'みれ': 25759, 'ギヤ': 25760, 'ゼー': 25761, 'タス': 25762, 'チア': 25763, 'ピオ': 25764, 'ペー': 25765, 'ポジ': 25766, 'レナ': 25767, '一律': 25768, '中嶋': 25769, '休息': 25770, '内国': 25771, '内燃': 25772, '包ん': 25773, '可逆': 25774, '吉林': 25775, '国士': 25776, '地誌': 25777, '外す': 25778, '大介': 25779, '大岡': 25780, '学界': 25781, '官公': 25782, '対人': 25783, '就学': 25784, '常緑': 25785, '建ち': 25786, '従者': 25787, '悲願': 25788, '慶安': 25789, '挟む': 25790, '接戦': 25791, '政庁': 25792, '日替': 25793, '日田': 25794, '昇任': 25795, '昇圧': 25796, '春樹': 25797, '服属': 25798, '木の': 25799, '柏崎': 25800, '江口': 25801, '沿道': 25802, '法師': 25803, '波形': 25804, '滅多': 25805, '片道': 25806, '病状': 25807, '矮星': 25808, '砂利': 25809, '稲田': 25810, '突い': 25811, '能楽': 25812, '葉山': 25813, '薄れ': 25814, '薬莢': 25815, '設営': 25816, '謹慎': 25817, '谷間': 25818, '農夫': 25819, '退院': 25820, '送迎': 25821, '選別': 25822, '遺作': 25823, '量販': 25824, '関取': 25825, '陶芸': 25826, '頸部': 25827, '高円': 25828, '##々しく': 25829, '##じゅつ': 25830, '##シウス': 25831, '##ッルス': 25832, '##ベルタ': 25833, '##ヤング': 25834, '##リカン': 25835, '##elle': 25836, '##less': 25837, '##orld': 25838, '##part': 25839, '241': 25840, '254': 25841, 'Cat': 25842, 'HOT': 25843, 'おろし': 25844, 'おんな': 25845, 'きよし': 25846, 'じろう': 25847, 'もしも': 25848, 'アレキ': 25849, 'スラブ': 25850, 'ダヴィ': 25851, 'ナゴヤ': 25852, 'ヘルス': 25853, 'ボンド': 25854, 'ラージ': 25855, '出せる': 25856, '小型車': 25857, '小数点': 25858, '扇状地': 25859, '異母弟': 25860, '菊花賞': 25861, '錬金術': 25862, '飛び地': 25863, '駆潜艇': 25864, '##イヤーズ': 25865, '##シルヴァ': 25866, '##ステイン': 25867, '##ターンズ': 25868, '##ホステル': 25869, '##ロンドン': 25870, '1570': 25871, '1615': 25872, '1701': 25873, '1702': 25874, 'Pres': 25875, 'cont': 25876, 'キッチン': 25877, 'サイコロ': 25878, 'スプリン': 25879, 'トレイル': 25880, 'ネッカー': 25881, 'ハンセン': 25882, '兼ね備え': 25883, '南シナ海': 25884, '呼び寄せ': 25885, '引き続い': 25886, '弾き語り': 25887, '日替わり': 25888, '##ファミリー': 25889, '##ホーフェン': 25890, 'ぬいぐるみ': 25891, 'オルレアン': 25892, 'コロンブス': 25893, 'ジンバブエ': 25894, 'スラッシュ': 25895, 'ソヴィエト': 25896, 'ヒンディー': 25897, 'ブラームス': 25898, 'プレイオフ': 25899, '持ち上がっ': 25900, '##eration': 25901, 'フレッチャー': 25902, 'プログレッシブ': 25903, 'Tomatoes': 25904, '匠': 25905, '嶽': 25906, '槇': 25907, '欣': 25908, '舜': 25909, '艶': 25910, '藪': 25911, '裴': 25912, '遙': 25913, '鼎': 25914, '##こみ': 25915, '##さえ': 25916, '##ジカ': 25917, '##ミノ': 25918, '##山地': 25919, '##河原': 25920, '##観音': 25921, '##IDS': 25922, 'BT': 25923, 'PE': 25924, 'PU': 25925, 'rt': 25926, 'あそ': 25927, 'しだ': 25928, 'つの': 25929, 'エゾ': 25930, 'トク': 25931, 'ブイ': 25932, '三洋': 25933, '三輪': 25934, '上山': 25935, '健太': 25936, '光州': 25937, '兵糧': 25938, '写っ': 25939, '刺客': 25940, '前記': 25941, '加治': 25942, '叙位': 25943, '台座': 25944, '合議': 25945, '名勝': 25946, '土産': 25947, '大館': 25948, '完売': 25949, '宮津': 25950, '山道': 25951, '左足': 25952, '帆船': 25953, '府内': 25954, '往年': 25955, '微量': 25956, '成就': 25957, '戻ら': 25958, '扶桑': 25959, '振舞': 25960, '旧領': 25961, '明星': 25962, '景色': 25963, '有識': 25964, '朝食': 25965, '柳沢': 25966, '榊原': 25967, '横領': 25968, '比喩': 25969, '毛色': 25970, '漂着': 25971, '産み': 25972, '由利': 25973, '甲冑': 25974, '白星': 25975, '短波': 25976, '神職': 25977, '純度': 25978, '緒戦': 25979, '習っ': 25980, '肛門': 25981, '肥大': 25982, '脱し': 25983, '脱水': 25984, '興隆': 25985, '花茎': 25986, '苦難': 25987, '菌類': 25988, '衰弱': 25989, '複写': 25990, '賄賂': 25991, '身延': 25992, '転機': 25993, '酒類': 25994, '銀山': 25995, '防具': 25996, '防水': 25997, '青空': 25998, '靭帯': 25999, '鮮明': 26000, '##いては': 26001, '##りゅう': 26002, '##ウォン': 26003, '##ゲージ': 26004, '##シード': 26005, '##タンク': 26006, '##ナッツ': 26007, '##バンナ': 26008, '##ファク': 26009, '##不動産': 26010, '##aker': 26011, '##ress': 26012, '##uter': 26013, '##vent': 26014, '251': 26015, '460': 26016, '777': 26017, 'Aug': 26018, 'Bal': 26019, 'GHz': 26020, 'HIV': 26021, 'MAS': 26022, 'MGM': 26023, 'RED': 26024, '『』(': 26025, 'あがっ': 26026, 'オゾン': 26027, 'シャア': 26028, 'スエズ': 26029, 'ナント': 26030, 'ハンナ': 26031, 'ボトム': 26032, 'ポット': 26033, '値上げ': 26034, '勝ち星': 26035, '十和田': 26036, '収まっ': 26037, '自由形': 26038, '見捨て': 26039, '貯水池': 26040, '重工業': 26041, '##ジョージ': 26042, '##ターソン': 26043, '##ピーター': 26044, '##ブレター': 26045, '##ベトナム': 26046, '##hydro': 26047, '1660': 26048, '2400': 26049, 'Happ': 26050, 'まっすぐ': 26051, 'ガルシア': 26052, 'ビルバオ': 26053, '取り扱わ': 26054, '取り込む': 26055, '受け継ぎ': 26056, '引き取っ': 26057, '手がかり': 26058, '読み上げ': 26059, '請け負っ': 26060, '##ッショナー': 26061, '##Script': 26062, 'シュタイン': 26063, 'ジュピター': 26064, 'マラーター': 26065, 'レズビアン': 26066, 'エントロピー': 26067, 'チューリング': 26068, 'パラドックス': 26069, 'ブリーダーズ': 26070, 'ナショナリズム': 26071, 'ニューサウスウェールズ': 26072, '##OG': 26073, '##uf': 26074, 'ゐ': 26075, '欺': 26076, '蓬': 26077, '鷺': 26078, '##さく': 26079, '##アッ': 26080, '##クワ': 26081, '##シラ': 26082, '##タマ': 26083, '##ヌム': 26084, '##ヒャ': 26085, '##レツ': 26086, '##八幡': 26087, '##南道': 26088, '##少し': 26089, '##織物': 26090, '##西線': 26091, '##運転': 26092, '##ACH': 26093, '##ATT': 26094, '##STR': 26095, '##ied': 26096, '##ori': 26097, '>。': 26098, 'っと': 26099, 'づか': 26100, 'ガザ': 26101, 'ゾロ': 26102, 'ドク': 26103, 'レゲ': 26104, 'レム': 26105, 'ロド': 26106, '一対': 26107, '上顎': 26108, '下痢': 26109, '丸太': 26110, '二子': 26111, '仙人': 26112, '任用': 26113, '依拠': 26114, '備蓄': 26115, '優良': 26116, '分派': 26117, '前例': 26118, '劣悪': 26119, '勅許': 26120, '半球': 26121, '吉宗': 26122, '和也': 26123, '団員': 26124, '固く': 26125, '報知': 26126, '墓石': 26127, '大樹': 26128, '天童': 26129, '奉じ': 26130, '季刊': 26131, '安井': 26132, '定例': 26133, '容赦': 26134, '山号': 26135, '川原': 26136, '工費': 26137, '平穏': 26138, '廻り': 26139, '彷彿': 26140, '懸賞': 26141, '所見': 26142, '担ぎ': 26143, '敬遠': 26144, '文理': 26145, '木版': 26146, '来航': 26147, '東上': 26148, '根幹': 26149, '森本': 26150, '水原': 26151, '湾曲': 26152, '玄武': 26153, '生長': 26154, '町制': 26155, '白地': 26156, '直義': 26157, '直進': 26158, '矢部': 26159, '祝賀': 26160, '秘匿': 26161, '粘着': 26162, '綱吉': 26163, '総体': 26164, '自費': 26165, '荷役': 26166, '藩邸': 26167, '蘇我': 26168, '裏腹': 26169, '見地': 26170, '見聞': 26171, '託さ': 26172, '豚肉': 26173, '贅沢': 26174, '長慶': 26175, '陰茎': 26176, '電球': 26177, '飢え': 26178, '鳥海': 26179, '##ウェブ': 26180, '##ザクラ': 26181, '##バルド': 26182, ')。『': 26183, '218': 26184, '243': 26185, '252': 26186, 'ABS': 26187, 'Bab': 26188, 'Bur': 26189, 'Cla': 26190, 'Cur': 26191, 'GPU': 26192, 'Hel': 26193, 'MAD': 26194, 'Ret': 26195, 'Run': 26196, 'not': 26197, 'なんか': 26198, 'まさし': 26199, 'エクリ': 26200, 'カーク': 26201, 'ケイン': 26202, 'ケット': 26203, 'ザール': 26204, 'シンジ': 26205, 'プロポ': 26206, 'ヘンド': 26207, 'ムアン': 26208, 'メッカ': 26209, 'ローブ': 26210, 'ワタナ': 26211, '不信任': 26212, '動かさ': 26213, '印象派': 26214, '危惧し': 26215, '打楽器': 26216, '治める': 26217, '片仮名': 26218, '終着駅': 26219, '試運転': 26220, '賑わい': 26221, '門下生': 26222, '預かり': 26223, '鬼太郎': 26224, '##ッペリン': 26225, '##フランク': 26226, '##フリート': 26227, '##プレイス': 26228, '##ource': 26229, 'GOLD': 26230, 'Line': 26231, 'This': 26232, 'はじまる': 26233, 'もう少し': 26234, 'アスター': 26235, 'コウモリ': 26236, 'ゴダール': 26237, 'ジャッジ': 26238, 'ディエゴ': 26239, 'ディナモ': 26240, 'デーモン': 26241, 'ボールド': 26242, 'ユーティ': 26243, 'レシーブ': 26244, 'レナード': 26245, '乗り込み': 26246, '見かける': 26247, '追い出さ': 26248, '##コンテスト': 26249, '##スペシャル': 26250, '##チャイルド': 26251, 'BASIC': 26252, 'Royal': 26253, 'ニュアンス': 26254, 'モデリング': 26255, '出来上がっ': 26256, '南ベトナム': 26257, '当てはまる': 26258, '立ち上がり': 26259, '##ハンプシャー': 26260, 'シューマッハ': 26261, 'スチュワート': 26262, 'スーパーマン': 26263, 'Digital': 26264, 'ブラックホール': 26265, 'ユースホステル': 26266, 'ロックンロール': 26267, 'ガソリンスタンド': 26268, '##FF': 26269, '##In': 26270, 'ぢ': 26271, '剰': 26272, '厭': 26273, '咬': 26274, '掟': 26275, '橿': 26276, '舘': 26277, '荏': 26278, '蕎': 26279, '訊': 26280, '軋': 26281, '鯉': 26282, '##、「': 26283, '##いよ': 26284, '##ごく': 26285, '##オイ': 26286, '##シタ': 26287, '##シブ': 26288, '##ネラ': 26289, '##バエ': 26290, '##バト': 26291, '##パリ': 26292, '##ミサ': 26293, '##光星': 26294, '##星術': 26295, '##水素': 26296, '##組ん': 26297, '##血球': 26298, '##通っ': 26299, '##emp': 26300, '##leg': 26301, '##rie': 26302, 'RP': 26303, 'えび': 26304, 'とお': 26305, 'むす': 26306, 'オゴ': 26307, 'ヤコ': 26308, '人脈': 26309, '仙石': 26310, '伊佐': 26311, '佐川': 26312, '信憑': 26313, '修得': 26314, '偉業': 26315, '全羅': 26316, '劣っ': 26317, '勝頼': 26318, '反日': 26319, '召還': 26320, '合奏': 26321, '向島': 26322, '和夫': 26323, '和紙': 26324, '和議': 26325, '喜ば': 26326, '塗っ': 26327, '実感': 26328, '小杉': 26329, '尖閣': 26330, '岩城': 26331, '岩瀬': 26332, '帝都': 26333, '年内': 26334, '座長': 26335, '怒ら': 26336, '憂慮': 26337, '拝領': 26338, '捻出': 26339, '携え': 26340, '昇叙': 26341, '易い': 26342, '松任': 26343, '森山': 26344, '武功': 26345, '気性': 26346, '沈下': 26347, '河畔': 26348, '洋服': 26349, '海路': 26350, '済ん': 26351, '焼却': 26352, '物議': 26353, '県域': 26354, '着地': 26355, '磁石': 26356, '神体': 26357, '義政': 26358, '翻弄': 26359, '翼賛': 26360, '菊地': 26361, '薫陶': 26362, '藤堂': 26363, '評定': 26364, '譲歩': 26365, '贈る': 26366, '込む': 26367, '鉄骨': 26368, '長生': 26369, '阪和': 26370, '青海': 26371, '音域': 26372, '飽き': 26373, '##サンズ': 26374, '##シズム': 26375, '##シュコ': 26376, '##ジェネ': 26377, '##ダクト': 26378, '##ネック': 26379, '##メルン': 26380, '##omen': 26381, '216': 26382, '767': 26383, 'Are': 26384, 'Dou': 26385, 'MTV': 26386, 'OPS': 26387, 'Sat': 26388, 'コンボ': 26389, 'ジェニ': 26390, 'セラミ': 26391, 'ブラウ': 26392, 'ライカ': 26393, '優れる': 26394, '占星術': 26395, '変光星': 26396, '海老名': 26397, '生ずる': 26398, '立たさ': 26399, '見張り': 26400, '赤血球': 26401, '途切れ': 26402, '都知事': 26403, '馴染み': 26404, '##ウエスト': 26405, '##クリエイ': 26406, '##ベルガー': 26407, '##ムルーク': 26408, '1688': 26409, '1759': 26410, 'Bell': 26411, 'Over': 26412, 'オクター': 26413, 'ザグレブ': 26414, 'スパイス': 26415, 'ハイテク': 26416, 'パノラマ': 26417, 'プライド': 26418, 'モルガン': 26419, '埋め込ま': 26420, '##ジボワール': 26421, 'Fried': 26422, 'Maria': 26423, 'セレモニー': 26424, 'ダイエット': 26425, 'チェチェン': 26426, 'プリンター': 26427, 'メカニック': 26428, 'ローランド': 26429, '太平洋艦隊': 26430, '##ディビジョン': 26431, '##フリードリヒ': 26432, 'アイリッシュ': 26433, 'シャーロック': 26434, 'ジェイアール': 26435, 'セバスチャン': 26436, 'チューニング': 26437, 'フェミニズム': 26438, 'ロチェスター': 26439, 'グラフィックス': 26440, 'ゲッティンゲン': 26441, 'インストラクター': 26442, 'コートジボワール': 26443, 'ジェネレーション': 26444, 'ローカルニュース': 26445, 'ウェストバージニア': 26446, '##ZA': 26447, '∞': 26448, '吻': 26449, '曝': 26450, '潟': 26451, '茹': 26452, '##まず': 26453, '##カオ': 26454, '##ザム': 26455, '##バレ': 26456, '##學院': 26457, '##OND': 26458, ')<': 26459, 'Km': 26460, 'あめ': 26461, 'おけ': 26462, 'そく': 26463, 'みよ': 26464, 'カキ': 26465, 'ガウ': 26466, 'ケガ': 26467, 'デフ': 26468, 'ハト': 26469, '下地': 26470, '下請': 26471, '予期': 26472, '亘っ': 26473, '京大': 26474, '人前': 26475, '信管': 26476, '克也': 26477, '兵部': 26478, '再三': 26479, '分流': 26480, '分科': 26481, '加重': 26482, '吹く': 26483, '外洋': 26484, '奏し': 26485, '学歴': 26486, '安徽': 26487, '崩落': 26488, '巡視': 26489, '序曲': 26490, '我慢': 26491, '戦火': 26492, '投射': 26493, '摂関': 26494, '政敵': 26495, '日銀': 26496, '旺盛': 26497, '書け': 26498, '有償': 26499, '木工': 26500, '未熟': 26501, '杭州': 26502, '東都': 26503, '根源': 26504, '梗塞': 26505, '正保': 26506, '永住': 26507, '江田': 26508, '江藤': 26509, '江西': 26510, '湿原': 26511, '満載': 26512, '漱石': 26513, '疑っ': 26514, '真夏': 26515, '短絡': 26516, '磐梯': 26517, '篠山': 26518, '精錬': 26519, '結節': 26520, '翻し': 26521, '翻案': 26522, '藤山': 26523, '行お': 26524, '衝動': 26525, '装束': 26526, '褒め': 26527, '西安': 26528, '語句': 26529, '通ら': 26530, '遊亭': 26531, '重厚': 26532, '附近': 26533, '降し': 26534, '齋藤': 26535, '##かせる': 26536, '##キシー': 26537, '##ジカル': 26538, '##タイヤ': 26539, '##ッサム': 26540, '##ニツァ': 26541, '##ネズミ': 26542, '##ピード': 26543, '##ミアン': 26544, '##ミンゴ': 26545, '##モドキ': 26546, '##ユース': 26547, '##ールー': 26548, '##ーロス': 26549, '232': 26550, '321': 26551, '520': 26552, 'Inf': 26553, 'MEN': 26554, 'Mad': 26555, 'TNA': 26556, 'rec': 26557, 'どうし': 26558, 'エミー': 26559, 'カヌー': 26560, 'クリン': 26561, 'コレラ': 26562, 'サンバ': 26563, 'ストレ': 26564, 'ドッグ': 26565, 'パント': 26566, 'ブラス': 26567, 'プルト': 26568, '下半身': 26569, '二塁打': 26570, '任せる': 26571, '南関東': 26572, '合併症': 26573, '國學院': 26574, '富士川': 26575, '曲がっ': 26576, '燃やし': 26577, '電話機': 26578, '##カルチョ': 26579, '##キシング': 26580, '##チャーチ': 26581, '##ディスト': 26582, '##ブッシュ': 26583, '##ンドール': 26584, '1762': 26585, 'Cast': 26586, 'Cons': 26587, 'あらわす': 26588, 'おじさん': 26589, 'こういう': 26590, 'ちゃんと': 26591, 'アダムス': 26592, 'ガイウス': 26593, 'ギヨーム': 26594, 'ケヴィン': 26595, 'ステファ': 26596, 'テノール': 26597, 'ノートル': 26598, 'ピッコロ': 26599, 'フェルト': 26600, 'ロッテマ': 26601, '南西諸島': 26602, '明け渡し': 26603, '阪急電鉄': 26604, 'River': 26605, 'エフェクト': 26606, 'オーガスタ': 26607, 'ジョッキー': 26608, 'ストリップ': 26609, 'ダマスカス': 26610, 'ニジェール': 26611, 'フォスター': 26612, 'ポリネシア': 26613, 'ヴィクトル': 26614, '國學院大學': 26615, '##アーティスト': 26616, '##ッセルドルフ': 26617, '##レースヴィヒ': 26618, '##ヴィンスキー': 26619, 'County': 26620, 'Edward': 26621, 'アルブレヒト': 26622, 'シューベルト': 26623, 'ダイナマイト': 26624, 'トゥールーズ': 26625, 'ノックアウト': 26626, 'ライブラリー': 26627, '##シューティング': 26628, 'アイゼンハワー': 26629, 'アウグストゥス': 26630, 'ゴールデンイーグルス': 26631, '嘔': 26632, '藁': 26633, '##だす': 26634, '##ばい': 26635, '##オク': 26636, '##オレ': 26637, '##バブ': 26638, '##ビキ': 26639, '##ビラ': 26640, '##リグ': 26641, '##ロビ': 26642, '##成分': 26643, '##皇子': 26644, '##石器': 26645, '##蜘蛛': 26646, '##ANS': 26647, '##EEE': 26648, '##ids': 26649, '##mbH': 26650, 'DH': 26651, 'Di': 26652, 'RX': 26653, 'おち': 26654, 'こぼ': 26655, 'そり': 26656, 'エグ': 26657, 'カマ': 26658, 'シク': 26659, 'バト': 26660, 'ヒゲ': 26661, 'ベス': 26662, 'ヨン': 26663, 'ルン': 26664, '一望': 26665, '不運': 26666, '中級': 26667, '乗法': 26668, '九郎': 26669, '事物': 26670, '享受': 26671, '傾け': 26672, '別種': 26673, '加筆': 26674, '南大': 26675, '危う': 26676, '口実': 26677, '史記': 26678, '否認': 26679, '吸引': 26680, '回遊': 26681, '固辞': 26682, '守口': 26683, '実技': 26684, '山科': 26685, '岩屋': 26686, '左遷': 26687, '弘法': 26688, '御影': 26689, '心中': 26690, '性器': 26691, '感受': 26692, '懸け': 26693, '成都': 26694, '抜本': 26695, '採点': 26696, '敬愛': 26697, '新報': 26698, '旧型': 26699, '明徳': 26700, '朝刊': 26701, '末梢': 26702, '本科': 26703, '桓武': 26704, '正明': 26705, '死な': 26706, '殺傷': 26707, '法名': 26708, '海事': 26709, '渦巻': 26710, '湿潤': 26711, '無敵': 26712, '生贄': 26713, '白書': 26714, '白馬': 26715, '直感': 26716, '神保': 26717, '粘り': 26718, '緊密': 26719, '美貌': 26720, '羽目': 26721, '聖子': 26722, '蔵王': 26723, '蕎麦': 26724, '複葉': 26725, '見逃': 26726, '討っ': 26727, '訪日': 26728, '詳述': 26729, '讒言': 26730, '責め': 26731, '辿っ': 26732, '造る': 26733, '遊女': 26734, '部活': 26735, '重宝': 26736, '野々': 26737, '頼ら': 26738, '駒澤': 26739, '黄河': 26740, '##オバマ': 26741, '##クトリ': 26742, '##シュテ': 26743, '##デリア': 26744, '##ニッジ': 26745, '##バニア': 26746, '##フェス': 26747, '##フット': 26748, '##ロメオ': 26749, '307': 26750, '325': 26751, '540': 26752, 'AMD': 26753, 'JAS': 26754, 'JFA': 26755, 'NGO': 26756, 'Sub': 26757, 'UCI': 26758, 'VII': 26759, 'VOL': 26760, '』(\"': 26761, 'しめる': 26762, 'たどっ': 26763, 'っぽい': 26764, 'アヴィ': 26765, 'ウイン': 26766, 'キツネ': 26767, 'キール': 26768, 'クレム': 26769, 'ケネス': 26770, 'サラダ': 26771, 'シーア': 26772, 'スバル': 26773, 'ツッコ': 26774, 'ナイア': 26775, 'ノヴァ': 26776, 'プリー': 26777, 'リンチ': 26778, 'ルピー': 26779, 'ロッジ': 26780, '主成分': 26781, '交わさ': 26782, '勝ち進': 26783, '囚われ': 26784, '新居浜': 26785, '旧石器': 26786, '最大手': 26787, '東西線': 26788, '気付か': 26789, '気付き': 26790, '法隆寺': 26791, '燃える': 26792, '習志野': 26793, '色濃く': 26794, '##ダーマン': 26795, '##ヴァーン': 26796, '##anced': 26797, 'Aust': 26798, 'Fred': 26799, 'Hall': 26800, 'KING': 26801, 'OPBF': 26802, 'イチロー': 26803, 'ウィリー': 26804, 'ウィレム': 26805, 'エンリケ': 26806, 'キューブ': 26807, 'グラナダ': 26808, 'コバルト': 26809, 'ステルス': 26810, 'タイラー': 26811, 'ブルネイ': 26812, 'プッシュ': 26813, 'ポンペイ': 26814, 'マドンナ': 26815, 'ラッキー': 26816, 'レシプロ': 26817, 'ワタナベ': 26818, '切り離さ': 26819, '引き出す': 26820, '総領事館': 26821, '言い渡し': 26822, '関連付け': 26823, '飛び降り': 26824, '##ウェルター': 26825, '##システムズ': 26826, '##フォールズ': 26827, '##ヴェントス': 26828, 'Album': 26829, 'SPEED': 26830, 'Vista': 26831, 'タンパベイ': 26832, 'ネーミング': 26833, 'ハーモニー': 26834, '旧石器時代': 26835, 'ミッドナイト': 26836, '九州旅客鉄道': 26837, '本田技研工業': 26838, 'colspan': 26839, 'コンベンション': 26840, 'ロッテマリーンズ': 26841, '##BE': 26842, '##VF': 26843, '##my': 26844, '柚': 26845, '楔': 26846, '浚': 26847, '湛': 26848, '繭': 26849, '釉': 26850, '麟': 26851, '##しり': 26852, '##すり': 26853, '##アシ': 26854, '##アマ': 26855, '##オウ': 26856, '##スー': 26857, '##ムト': 26858, '##ワラ': 26859, '##構え': 26860, '##盛り': 26861, '##道路': 26862, '##開発': 26863, '##風呂': 26864, '##麻呂': 26865, '##pha': 26866, '##una': 26867, '##ves': 26868, 'BI': 26869, 'DL': 26870, 'KI': 26871, 'So': 26872, 'go': 26873, 'きの': 26874, 'くず': 26875, 'くせ': 26876, 'ばい': 26877, 'ゆか': 26878, 'ゆず': 26879, 'アノ': 26880, 'イト': 26881, 'ソラ': 26882, 'モモ': 26883, 'ユキ': 26884, '一団': 26885, '中興': 26886, '亀岡': 26887, '事後': 26888, '交雑': 26889, '人骨': 26890, '債券': 26891, '八丈': 26892, '共学': 26893, '写実': 26894, '冷え': 26895, '初級': 26896, '別物': 26897, '剰余': 26898, '北畠': 26899, '南山': 26900, '叛乱': 26901, '名護': 26902, '型番': 26903, '売場': 26904, '変装': 26905, '天空': 26906, '好機': 26907, '嫌疑': 26908, '履い': 26909, '山荘': 26910, '帯同': 26911, '廃寺': 26912, '愛着': 26913, '成さ': 26914, '扇動': 26915, '控除': 26916, '改選': 26917, '景品': 26918, '有事': 26919, '木綿': 26920, '未婚': 26921, '末寺': 26922, '楽屋': 26923, '歩む': 26924, '気質': 26925, '永続': 26926, '決選': 26927, '沿海': 26928, '湧き': 26929, '焼か': 26930, '画し': 26931, '相反': 26932, '真岡': 26933, '矢先': 26934, '破格': 26935, '祝っ': 26936, '神風': 26937, '粘膜': 26938, '絞っ': 26939, '縦横': 26940, '華僑': 26941, '行商': 26942, '裁量': 26943, '誘っ': 26944, '財宝': 26945, '貧弱': 26946, '足場': 26947, '軍閥': 26948, '追従': 26949, '配役': 26950, '野中': 26951, '金森': 26952, '長打': 26953, '防ぎ': 26954, '阿南': 26955, '霊的': 26956, '頼る': 26957, '騒乱': 26958, '高見': 26959, '鬼怒': 26960, '魔力': 26961, '##ギング': 26962, '##シネマ': 26963, '##スカイ': 26964, '##ティマ': 26965, '##バーラ': 26966, '##プリー': 26967, '##ベンス': 26968, '##マンズ': 26969, '##ロニキ': 26970, '##ロペス': 26971, '##寄せる': 26972, '##rome': 26973, '228': 26974, '246': 26975, '275': 26976, '390': 26977, 'Fel': 26978, 'Rod': 26979, 'Ros': 26980, 'par': 26981, 'syn': 26982, 'おやま': 26983, 'じゃん': 26984, 'ちゃっ': 26985, 'アルタ': 26986, 'イット': 26987, 'エスタ': 26988, 'オスト': 26989, 'ガメラ': 26990, 'サトシ': 26991, '一人称': 26992, '中南米': 26993, '光合成': 26994, '八重山': 26995, '冷蔵庫': 26996, '副葬品': 26997, '努める': 26998, '大江戸': 26999, '小文字': 27000, '東京湾': 27001, '消防庁': 27002, '町並み': 27003, '販売元': 27004, '##ッカース': 27005, '##ティーヌ': 27006, '##ハーバー': 27007, '##バートン': 27008, '##ville': 27009, '1598': 27010, 'FOMA': 27011, 'IWGP': 27012, 'LGBT': 27013, 'いよいよ': 27014, 'みちのく': 27015, 'アンデル': 27016, 'エミール': 27017, 'サイゴン': 27018, 'ストリー': 27019, 'バーニー': 27020, 'ヒラリー': 27021, 'フィジー': 27022, 'マリオン': 27023, 'ロレーヌ': 27024, '仕掛ける': 27025, '繰り出す': 27026, '##エネルギー': 27027, '##ファイター': 27028, '##プレイング': 27029, 'Manag': 27030, 'Peter': 27031, 'アレクセイ': 27032, 'ファックス': 27033, 'ミニチュア': 27034, '呼びかける': 27035, 'ウェリントン': 27036, 'エリーザベト': 27037, 'ユヴェントス': 27038, 'Express': 27039, 'クイーンズランド': 27040, 'レギュレーション': 27041, 'ニューハンプシャー': 27042, 'フリーエージェント': 27043, '##31': 27044, '##RI': 27045, '冤': 27046, '淘': 27047, '璋': 27048, '畝': 27049, '翠': 27050, '薛': 27051, '蚕': 27052, '##さき': 27053, '##ガマ': 27054, '##ネタ': 27055, '##ピカ': 27056, '##フリ': 27057, '##伊那': 27058, '##力学': 27059, '##労働': 27060, '##参加': 27061, '##技術': 27062, '##高速': 27063, '##AMI': 27064, '##eek': 27065, '##led': 27066, '##net': 27067, ').': 27068, 'AX': 27069, 'DI': 27070, 'FP': 27071, 'Ka': 27072, 'ご飯': 27073, 'すく': 27074, 'せっ': 27075, 'そら': 27076, 'りく': 27077, 'エベ': 27078, 'ナツ': 27079, 'ヨコ': 27080, 'ルビ': 27081, '不発': 27082, '与野': 27083, '人吉': 27084, '係留': 27085, '先史': 27086, '兵法': 27087, '兵舎': 27088, '凝固': 27089, '出迎': 27090, '労務': 27091, '労組': 27092, '取次': 27093, '咲き': 27094, '夕刻': 27095, '大脳': 27096, '嫌わ': 27097, '定評': 27098, '寒い': 27099, '寺山': 27100, '小谷': 27101, '少々': 27102, '布施': 27103, '往還': 27104, '懸命': 27105, '成瀬': 27106, '拘留': 27107, '提灯': 27108, '操車': 27109, '擬人': 27110, '暴れ': 27111, '束縛': 27112, '格安': 27113, '格式': 27114, '検地': 27115, '模写': 27116, '殺そ': 27117, '氷川': 27118, '泣い': 27119, '浦上': 27120, '潮汐': 27121, '焼酎': 27122, '献身': 27123, '球菌': 27124, '異形': 27125, '瞬時': 27126, '石鹸': 27127, '神託': 27128, '福澤': 27129, '筑豊': 27130, '結実': 27131, '習性': 27132, '芸者': 27133, '茂木': 27134, '被る': 27135, '西成': 27136, '解け': 27137, '謳わ': 27138, '走破': 27139, '越中': 27140, '足元': 27141, '軋轢': 27142, '輪島': 27143, '辰巳': 27144, '退屈': 27145, '配色': 27146, '金本': 27147, '長久': 27148, '開講': 27149, '限る': 27150, '露見': 27151, '首班': 27152, '高名': 27153, '高津': 27154, '鹿屋': 27155, '黒木': 27156, '##アレク': 27157, '##イール': 27158, '##シュナ': 27159, '##タント': 27160, '##OWER': 27161, '##ines': 27162, '##urch': 27163, '##weet': 27164, '##ynam': 27165, '224': 27166, '293': 27167, '512': 27168, '601': 27169, '870': 27170, 'ATC': 27171, 'How': 27172, 'OFF': 27173, 'こだま': 27174, 'すぐれ': 27175, 'ため池': 27176, 'のぼり': 27177, 'ふつう': 27178, 'エーリ': 27179, 'ガンバ': 27180, 'グリコ': 27181, 'コルト': 27182, 'コロナ': 27183, 'シェイ': 27184, 'スカン': 27185, 'テオド': 27186, 'バクー': 27187, 'ホウ素': 27188, '乗せる': 27189, '二の丸': 27190, '優しく': 27191, '八千代': 27192, '公会堂': 27193, '出向い': 27194, '勧める': 27195, '大動脈': 27196, '寄せる': 27197, '居場所': 27198, '延長線': 27199, '捕まっ': 27200, '損なわ': 27201, '核分裂': 27202, '法華経': 27203, '無意識': 27204, '用水路': 27205, '言い方': 27206, '長良川': 27207, '防衛庁': 27208, '降ろし': 27209, '##フロント': 27210, '##ブラハム': 27211, '##ブレイン': 27212, '1710': 27213, '1767': 27214, '1772': 27215, 'BOYS': 27216, 'Char': 27217, 'Home': 27218, 'Mult': 27219, 'Nint': 27220, 'あらわれ': 27221, 'いちばん': 27222, 'アイダホ': 27223, 'オリオン': 27224, 'カーディ': 27225, 'グラフィ': 27226, 'コカイン': 27227, 'ストラト': 27228, 'スロープ': 27229, 'ツイート': 27230, 'リュック': 27231, 'ロリータ': 27232, '居合わせ': 27233, '持ち込む': 27234, '追い出し': 27235, '量子力学': 27236, '##アルデヒド': 27237, '##クラシック': 27238, '##デーション': 27239, '##ournal': 27240, 'バグダード': 27241, 'ベルナール': 27242, 'リバイバル': 27243, '三菱自動車': 27244, '取り締まり': 27245, '##シュトラウス': 27246, 'カナディアン': 27247, 'プランクトン': 27248, 'ベストナイン': 27249, '東京外国語大学': 27250, '##formation': 27251, 'Japanese': 27252, 'シュレースヴィヒ': 27253, 'ε': 27254, '乖': 27255, '傀': 27256, '弩': 27257, '捨': 27258, '斤': 27259, '桿': 27260, '梯': 27261, '溥': 27262, '瑠': 27263, '訃': 27264, '##らわ': 27265, '##るし': 27266, '##キリ': 27267, '##ゴケ': 27268, '##ズナ': 27269, '##ナエ': 27270, '##之内': 27271, '##之江': 27272, '##北道': 27273, '##日報': 27274, '##ala': 27275, '##rac': 27276, '##uit': 27277, 'BW': 27278, 'Hy': 27279, 'KL': 27280, 'PF': 27281, 'Ts': 27282, 'Us': 27283, 'gl': 27284, 'づき': 27285, 'なで': 27286, 'ふら': 27287, 'コケ': 27288, 'スィ': 27289, 'テコ': 27290, 'トモ': 27291, 'ピサ': 27292, '上川': 27293, '下水': 27294, '似る': 27295, '体外': 27296, '保釈': 27297, '俳諧': 27298, '偏っ': 27299, '偏り': 27300, '募っ': 27301, '半蔵': 27302, '南国': 27303, '南陽': 27304, '原本': 27305, '名実': 27306, '困惑': 27307, '城門': 27308, '大根': 27309, '大通': 27310, '学修': 27311, '家名': 27312, '尊厳': 27313, '岩村': 27314, '応戦': 27315, '悪人': 27316, '惜し': 27317, '扁平': 27318, '折衝': 27319, '掴み': 27320, '揃い': 27321, '教導': 27322, '更改': 27323, '極点': 27324, '橿原': 27325, '決壊': 27326, '河東': 27327, '海流': 27328, '海辺': 27329, '深谷': 27330, '清盛': 27331, '渡部': 27332, '測る': 27333, '漢学': 27334, '濾過': 27335, '特長': 27336, '発芽': 27337, '直観': 27338, '社外': 27339, '祈る': 27340, '神通': 27341, '素朴': 27342, '組立': 27343, '綺麗': 27344, '腰痛': 27345, '自粛': 27346, '舎人': 27347, '良き': 27348, '茶道': 27349, '西本': 27350, '親類': 27351, '轄区': 27352, '遮蔽': 27353, '配電': 27354, '開封': 27355, '関所': 27356, '青龍': 27357, '高次': 27358, '高角': 27359, '##ガート': 27360, '##ダーク': 27361, '##デリー': 27362, '##パンダ': 27363, '##ホップ': 27364, '##リスム': 27365, '##披露目': 27366, '##aven': 27367, '\")』': 27368, '265': 27369, '331': 27370, '801': 27371, 'Ast': 27372, 'Old': 27373, 'Que': 27374, 'mon': 27375, 'いたっ': 27376, 'いちご': 27377, 'ござい': 27378, 'ていし': 27379, 'もじっ': 27380, 'アンヌ': 27381, 'カリー': 27382, 'スカラ': 27383, 'スピル': 27384, 'ダルム': 27385, 'トカゲ': 27386, 'バルク': 27387, 'ベティ': 27388, 'メガネ': 27389, 'レゲエ': 27390, 'ヴェン': 27391, '不参加': 27392, '交わす': 27393, '倒れる': 27394, '嫌がら': 27395, '寝屋川': 27396, '小石川': 27397, '後見人': 27398, '掛け声': 27399, '格上げ': 27400, '標準軌': 27401, '脅かす': 27402, '領事館': 27403, '##クルート': 27404, '##ティーニ': 27405, '##ニャック': 27406, '##メラルド': 27407, '##ランジュ': 27408, '##ンタール': 27409, 'CONC': 27410, 'Moto': 27411, 'Work': 27412, 'Your': 27413, 'お披露目': 27414, 'どういう': 27415, 'アフマド': 27416, 'ウラジオ': 27417, 'オカルト': 27418, 'コロコロ': 27419, 'ジョシュ': 27420, 'テンプル': 27421, 'バートン': 27422, 'ビザンツ': 27423, 'ホリプロ': 27424, 'ホーリー': 27425, 'ミニマム': 27426, 'リベリア': 27427, 'リモート': 27428, '乗り継ぎ': 27429, '無くなり': 27430, '##チャレンジ': 27431, '##ラクチャー': 27432, 'アフリカン': 27433, 'アルベール': 27434, 'エドワーズ': 27435, 'ソーセージ': 27436, 'トリニティ': 27437, '立ち上がっ': 27438, 'ナンバリング': 27439, 'ヘッドライト': 27440, '東京教育大学': 27441, '##ブルージェイズ': 27442, 'メジャーリーグ': 27443, 'Magazine': 27444, 'Nintendo': 27445, 'エンタテインメント': 27446, 'Foundation': 27447, 'λ': 27448, '做': 27449, '卜': 27450, '楓': 27451, '穢': 27452, '虞': 27453, '鯖': 27454, '##イエ': 27455, '##コプ': 27456, '##ジマ': 27457, '##ヶ島': 27458, '##ーア': 27459, '##慣れ': 27460, '##我部': 27461, '##村山': 27462, '##生代': 27463, '##積み': 27464, '##菩薩': 27465, '##ICS': 27466, '##ISE': 27467, '##eto': 27468, '##get': 27469, '##kin': 27470, '##ots': 27471, \"'-\": 27472, 'DV': 27473, 'EG': 27474, 'Ga': 27475, 'Ta': 27476, 'Ur': 27477, 'us': 27478, 'こみ': 27479, 'むね': 27480, 'ゆい': 27481, 'よん': 27482, 'アペ': 27483, 'ゴア': 27484, 'サケ': 27485, 'ザク': 27486, 'ザー': 27487, 'スレ': 27488, 'テア': 27489, 'バニ': 27490, 'マゼ': 27491, 'マッ': 27492, 'リグ': 27493, 'リャ': 27494, '主審': 27495, '乖離': 27496, '乳母': 27497, '事由': 27498, '井口': 27499, '代入': 27500, '傀儡': 27501, '元弘': 27502, '冤罪': 27503, '助役': 27504, '医院': 27505, '南市': 27506, '印旛': 27507, '原形': 27508, '叙勲': 27509, '叫ぶ': 27510, '同棲': 27511, '名標': 27512, '営み': 27513, '嘆き': 27514, '図式': 27515, '土方': 27516, '在留': 27517, '奥村': 27518, '好奇': 27519, '娼婦': 27520, '対価': 27521, '小字': 27522, '山岡': 27523, '巨星': 27524, '平岡': 27525, '年少': 27526, '底面': 27527, '弱め': 27528, '快勝': 27529, '承知': 27530, '投棄': 27531, '拠っ': 27532, '搾取': 27533, '放課': 27534, '散在': 27535, '文中': 27536, '早め': 27537, '昼夜': 27538, '暴徒': 27539, '朝臣': 27540, '森下': 27541, '棲息': 27542, '榛名': 27543, '樹皮': 27544, '武漢': 27545, '水門': 27546, '沈む': 27547, '波多': 27548, '派出': 27549, '渡邊': 27550, '狙わ': 27551, '独唱': 27552, '盟主': 27553, '直さ': 27554, '眼球': 27555, '社屋': 27556, '禁忌': 27557, '笠原': 27558, '筋力': 27559, '絞め': 27560, '美穂': 27561, '脱獄': 27562, '自筆': 27563, '舟艇': 27564, '良心': 27565, '芝浦': 27566, '表層': 27567, '裕子': 27568, '補足': 27569, '製材': 27570, '訃報': 27571, '説き': 27572, '誰か': 27573, '軌条': 27574, '軽快': 27575, '辛う': 27576, '連名': 27577, '進捗': 27578, '道筋': 27579, '適さ': 27580, '酔っ': 27581, '野原': 27582, '開成': 27583, '静的': 27584, '音量': 27585, '養蚕': 27586, '##キャラ': 27587, '##デイズ': 27588, '##トゥル': 27589, '##バイダ': 27590, '##ポップ': 27591, '##マース': 27592, '##レアル': 27593, '##ンタン': 27594, '##amin': 27595, '470': 27596, '510': 27597, '770': 27598, 'AIM': 27599, 'Fed': 27600, 'IMP': 27601, 'LTD': 27602, 'PRE': 27603, 'Rac': 27604, 'Squ': 27605, 'くさい': 27606, 'みよし': 27607, 'らせん': 27608, 'アスタ': 27609, 'アッシ': 27610, 'オクタ': 27611, 'カザン': 27612, 'ガルフ': 27613, 'コーダ': 27614, 'サティ': 27615, 'ジェレ': 27616, 'トレド': 27617, 'トンガ': 27618, 'ハノイ': 27619, 'ピエロ': 27620, 'マトリ': 27621, 'マンド': 27622, 'ユーリ': 27623, '一部分': 27624, '出遅れ': 27625, '天皇杯': 27626, '役立っ': 27627, '彼女ら': 27628, '振るっ': 27629, '根強い': 27630, '止まら': 27631, '浄瑠璃': 27632, '納める': 27633, '荒らし': 27634, '見返り': 27635, '金田一': 27636, '阿武隈': 27637, '##けんどう': 27638, '##スタッド': 27639, '##ドリーム': 27640, '##ブラウザ': 27641, '##リゾート': 27642, '##ルドレン': 27643, '##ンチャン': 27644, '1761': 27645, 'Coun': 27646, 'GmbH': 27647, 'Muse': 27648, 'Pent': 27649, 'Vict': 27650, 'あふれる': 27651, 'オオカミ': 27652, 'カイザー': 27653, 'カービィ': 27654, 'コーネル': 27655, 'サントス': 27656, 'シューズ': 27657, 'デュラン': 27658, 'ドロシー': 27659, 'パレルモ': 27660, 'フリース': 27661, 'ブロンズ': 27662, '法務大臣': 27663, '軽便鉄道': 27664, '辛うじて': 27665, '##ステロール': 27666, '##ソーシアム': 27667, '##テレビ放送': 27668, '##レスリング': 27669, '##ECTION': 27670, 'Flash': 27671, 'Space': 27672, 'State': 27673, 'inter': 27674, 'カタパルト': 27675, 'サーサーン': 27676, 'サーフィン': 27677, 'スタンリー': 27678, 'ハイランド': 27679, 'ブリスベン': 27680, 'ブルジョワ': 27681, 'プロテニス': 27682, '##カードゲーム': 27683, 'Explor': 27684, 'オリエンタル': 27685, 'シュトラウス': 27686, 'オープンソース': 27687, 'コミッショナー': 27688, 'ランドスケープ': 27689, 'ロックフェラー': 27690, '##ui': 27691, 'Δ': 27692, '苞': 27693, '蒔': 27694, '頚': 27695, '##えず': 27696, '##カヤ': 27697, '##ナハ': 27698, '##パウ': 27699, '##ビジ': 27700, '##ブカ': 27701, '##付か': 27702, '##司令': 27703, '##茶屋': 27704, '##製品': 27705, '##越す': 27706, '##饅頭': 27707, '##ape': 27708, '##iga': 27709, '##occ': 27710, 'ET': 27711, 'いそ': 27712, 'しゅ': 27713, 'つや': 27714, 'シキ': 27715, 'セス': 27716, 'ババ': 27717, 'ピコ': 27718, 'レノ': 27719, '丹生': 27720, '交ぜ': 27721, '体勢': 27722, '佳作': 27723, '優越': 27724, '優雅': 27725, '内山': 27726, '刺繍': 27727, '古城': 27728, '同姓': 27729, '吸入': 27730, '商館': 27731, '堕落': 27732, '場内': 27733, '壬生': 27734, '天山': 27735, '学的': 27736, '山寺': 27737, '巻頭': 27738, '常温': 27739, '廃絶': 27740, '式部': 27741, '性愛': 27742, '悟っ': 27743, '情緒': 27744, '手元': 27745, '損壊': 27746, '敏感': 27747, '散文': 27748, '散発': 27749, '敵艦': 27750, '新選': 27751, '晩餐': 27752, '暴風': 27753, '月山': 27754, '末日': 27755, '根絶': 27756, '桜田': 27757, '極性': 27758, '正宗': 27759, '水沢': 27760, '浩一': 27761, '混沌': 27762, '湯川': 27763, '漢書': 27764, '現像': 27765, '用心': 27766, '直子': 27767, '砲火': 27768, '私塾': 27769, '税収': 27770, '立会': 27771, '笠岡': 27772, '精油': 27773, '縛り': 27774, '背鰭': 27775, '藤波': 27776, '衣料': 27777, '誇張': 27778, '読め': 27779, '謳っ': 27780, '身の': 27781, '道内': 27782, '道真': 27783, '遷座': 27784, '遺骸': 27785, '重鎮': 27786, '野上': 27787, '開国': 27788, '閘門': 27789, '院政': 27790, '難解': 27791, '雨林': 27792, '領海': 27793, '食器': 27794, '香料': 27795, '駿府': 27796, '##まとめ': 27797, '##ザニア': 27798, '##ジャヤ': 27799, '##ゼピン': 27800, '##デッキ': 27801, '##ナイツ': 27802, '##ハイド': 27803, '##ライツ': 27804, '##ルムス': 27805, '##ワーヌ': 27806, '##ンタイ': 27807, '##徳天皇': 27808, '##IVAL': 27809, '253': 27810, '333': 27811, 'ASC': 27812, 'Bon': 27813, 'DEC': 27814, 'Die': 27815, 'Jac': 27816, 'Lee': 27817, 'Mid': 27818, 'OEC': 27819, 'Yak': 27820, 'わけん': 27821, 'キリル': 27822, 'コンプ': 27823, 'ジュネ': 27824, 'スコー': 27825, 'セガサ': 27826, 'タオル': 27827, 'タング': 27828, 'タンゴ': 27829, 'デイヴ': 27830, 'デフレ': 27831, 'ニホン': 27832, 'マング': 27833, 'ユリア': 27834, '仕入れ': 27835, '固める': 27836, '広める': 27837, '授かっ': 27838, '新進党': 27839, '有識者': 27840, '水酸化': 27841, '江ノ島': 27842, '皆殺し': 27843, '目論ん': 27844, '裏切っ': 27845, '見舞い': 27846, '鳴らす': 27847, '##だいがく': 27848, '##ウォッチ': 27849, '##パーニャ': 27850, '##マイヤー': 27851, '##ather': 27852, '1584': 27853, '1591': 27854, '1601': 27855, '1779': 27856, 'FEST': 27857, 'IEEE': 27858, 'Long': 27859, 'Side': 27860, 'それとも': 27861, 'まとまり': 27862, 'やむを得': 27863, 'わざわざ': 27864, 'アルザス': 27865, 'カミーユ': 27866, 'キャノン': 27867, 'キャビン': 27868, 'ジェシカ': 27869, 'ジャスコ': 27870, 'タイムス': 27871, 'ダイバー': 27872, 'ディラン': 27873, 'トロリー': 27874, 'ブルーム': 27875, 'マンモス': 27876, 'モルダー': 27877, 'ヤンキー': 27878, 'リカルド': 27879, 'ローバー': 27880, '引きずり': 27881, '持ち上げ': 27882, 'Marie': 27883, 'イブニング': 27884, 'エキストラ': 27885, 'オフェンス': 27886, 'キャメロン': 27887, 'クリストフ': 27888, 'クルアーン': 27889, 'クレメンス': 27890, 'ジェンダー': 27891, 'デメリット': 27892, 'ナチュラル': 27893, 'バイロイト': 27894, 'マムルーク': 27895, 'レイチェル': 27896, '##マネジメント': 27897, 'Battle': 27898, 'シークレット': 27899, 'パーフェクト': 27900, 'プルトニウム': 27901, '##インディアンス': 27902, 'ディヴィジョン': 27903, 'デュッセルドルフ': 27904, 'バージョンアップ': 27905, 'プレゼンテーション': 27906, '##CS': 27907, '##ts': 27908, 'É': 27909, '妾': 27910, '柑': 27911, '栓': 27912, '槌': 27913, '甕': 27914, '痙': 27915, '箸': 27916, '頒': 27917, '##ぐら': 27918, '##じゃ': 27919, '##ウー': 27920, '##ジニ': 27921, '##スラ': 27922, '##マロ': 27923, '##モナ': 27924, '##ヶ浦': 27925, '##ーキ': 27926, '##大成': 27927, '##方面': 27928, '##進法': 27929, '##魚川': 27930, '##INT': 27931, '##ely': 27932, '##ful': 27933, 'MK': 27934, 'Ra': 27935, 'Ry': 27936, 'VO': 27937, 'ひび': 27938, 'エニ': 27939, 'キシ': 27940, 'キヤ': 27941, '万延': 27942, '上訴': 27943, '下村': 27944, '不和': 27945, '主神': 27946, '久慈': 27947, '乱歩': 27948, '乱獲': 27949, '代走': 27950, '伊吹': 27951, '低圧': 27952, '体感': 27953, '偽り': 27954, '催眠': 27955, '入出': 27956, '出頭': 27957, '分立': 27958, '刈り': 27959, '前川': 27960, '半生': 27961, '受刑': 27962, '哲郎': 27963, '嘲笑': 27964, '地平': 27965, '夕食': 27966, '宝島': 27967, '寺内': 27968, '届き': 27969, '幕臣': 27970, '幼体': 27971, '座敷': 27972, '弘治': 27973, '忠告': 27974, '悪意': 27975, '悪質': 27976, '戸数': 27977, '抱か': 27978, '接地': 27979, '接頭': 27980, '推察': 27981, '摩耶': 27982, '放り': 27983, '散ら': 27984, '整流': 27985, '方策': 27986, '核酸': 27987, '横た': 27988, '段差': 27989, '民権': 27990, '点滅': 27991, '無声': 27992, '球速': 27993, '田宮': 27994, '発券': 27995, '磁器': 27996, '私設': 27997, '素質': 27998, '総本': 27999, '編隊': 28000, '美和': 28001, '美智': 28002, '聴か': 28003, '脚光': 28004, '船上': 28005, '英二': 28006, '草稿': 28007, '血清': 28008, '製糸': 28009, '西原': 28010, '赦免': 28011, '迷宮': 28012, '連射': 28013, '鉄工': 28014, '長引': 28015, '雅子': 28016, '集い': 28017, '音程': 28018, '須藤': 28019, '頭脳': 28020, '額田': 28021, '食道': 28022, '飯能': 28023, '香辛': 28024, '##がたり': 28025, '##アイス': 28026, '##グリー': 28027, '##セイド': 28028, '##プラタ': 28029, '##マイル': 28030, '##ルスキ': 28031, '##ンスタ': 28032, '##alth': 28033, '##unct': 28034, '##well': 28035, '255': 28036, 'Doc': 28037, 'LTE': 28038, 'Mov': 28039, 'NEO': 28040, 'SUG': 28041, 'TAK': 28042, 'ZIP': 28043, 'one': 28044, 'pre': 28045, 'rad': 28046, 'web': 28047, 'ひろみ': 28048, 'ふしぎ': 28049, 'イワン': 28050, 'カイル': 28051, 'カメオ': 28052, 'ケージ': 28053, 'ゲール': 28054, 'コブラ': 28055, 'コミン': 28056, 'サプリ': 28057, 'ステイ': 28058, 'セシル': 28059, 'ハガキ': 28060, 'マクレ': 28061, 'ミイラ': 28062, 'ミンダ': 28063, 'メジロ': 28064, 'レンタ': 28065, '一酸化': 28066, '使用人': 28067, '区切ら': 28068, '届ける': 28069, '平仮名': 28070, '強める': 28071, '扱える': 28072, '日帰り': 28073, '糸魚川': 28074, '致命傷': 28075, '観音寺': 28076, '集大成': 28077, '##ディール': 28078, '##プキンス': 28079, '##ローター': 28080, '1560': 28081, '1580': 28082, '1699': 28083, '1720': 28084, '1724': 28085, '1764': 28086, 'Foot': 28087, 'Sony': 28088, 'ruby': 28089, 'おもしろ': 28090, 'かかわっ': 28091, 'とらわれ': 28092, 'アグネス': 28093, 'アナスタ': 28094, 'アントワ': 28095, 'カナリア': 28096, 'ケッペン': 28097, 'シェリー': 28098, 'スパーク': 28099, 'トムソン': 28100, 'ドリンク': 28101, 'ノーラン': 28102, 'パーマー': 28103, 'ビニール': 28104, 'ブランク': 28105, 'マインド': 28106, 'モンキー': 28107, 'ユグノー': 28108, 'ローリー': 28109, '振り返る': 28110, '捕らえる': 28111, '東洋大学': 28112, '築き上げ': 28113, '組み込む': 28114, '駒澤大学': 28115, '##グランプリ': 28116, '##パニョーラ': 28117, '##uctase': 28118, 'アッバース': 28119, 'インスリン': 28120, 'オマージュ': 28121, 'キャンディ': 28122, 'グリニッジ': 28123, 'シュメール': 28124, 'ストレージ': 28125, 'フランケン': 28126, 'ミラージュ': 28127, 'リクルート': 28128, 'レオポルド': 28129, '引き上げる': 28130, '##ディレクター': 28131, 'Academ': 28132, 'アトレティコ': 28133, 'インスタント': 28134, 'カージナルス': 28135, 'サイクリング': 28136, 'ジャスティン': 28137, 'テンプレート': 28138, '東京都立大学': 28139, 'チャレンジャー': 28140, 'ヴォルフガング': 28141, 'Festival': 28142, 'oxidored': 28143, 'ダルムシュタット': 28144, 'ロングアイランド': 28145, 'レーシングドライバー': 28146, '##61': 28147, '##zy': 28148, 'ぁ': 28149, '凛': 28150, '楢': 28151, '畔': 28152, '絨': 28153, '腱': 28154, '芙': 28155, '茜': 28156, '袴': 28157, '鮫': 28158, '##はん': 28159, '##るま': 28160, '##ガナ': 28161, '##ソト': 28162, '##ソリ': 28163, '##タラ': 28164, '##テト': 28165, '##ハツ': 28166, '##ビタ': 28167, '##レノ': 28168, '##ヴャ': 28169, '##孫子': 28170, '##旬報': 28171, '##漬け': 28172, '##都合': 28173, '##ITE': 28174, 'CU': 28175, 'EZ': 28176, 'Oh': 28177, 'あち': 28178, 'てれ': 28179, 'のけ': 28180, 'オニ': 28181, 'サロ': 28182, 'ミロ': 28183, 'ムサ': 28184, '不純': 28185, '中団': 28186, '交信': 28187, '作れ': 28188, '信義': 28189, '先着': 28190, '凌駕': 28191, '分遣': 28192, '初恋': 28193, '半田': 28194, '協和': 28195, '南南': 28196, '号館': 28197, '各自': 28198, '周知': 28199, '城東': 28200, '外周': 28201, '夭折': 28202, '女装': 28203, '学研': 28204, '家長': 28205, '帰納': 28206, '後遺': 28207, '恒常': 28208, '憶測': 28209, '手袋': 28210, '押収': 28211, '拓殖': 28212, '接待': 28213, '揮発': 28214, '散々': 28215, '文民': 28216, '料亭': 28217, '日没': 28218, '朱印': 28219, '林檎': 28220, '桃園': 28221, '検車': 28222, '標記': 28223, '武庫': 28224, '殺陣': 28225, '気仙': 28226, '水彩': 28227, '永楽': 28228, '潜り': 28229, '生い': 28230, '真宗': 28231, '矢作': 28232, '石高': 28233, '磨き': 28234, '端役': 28235, '米原': 28236, '細野': 28237, '縫い': 28238, '纏め': 28239, '羊毛': 28240, '耐熱': 28241, '耶律': 28242, '肉眼': 28243, '茂雄': 28244, '荒尾': 28245, '萎縮': 28246, '蛇行': 28247, '螺旋': 28248, '読切': 28249, '貝類': 28250, '賛美': 28251, '述語': 28252, '道教': 28253, '鋼管': 28254, '雄大': 28255, '集成': 28256, '雑音': 28257, '霊園': 28258, '駒場': 28259, '##エリア': 28260, '##ガーズ': 28261, '##テクト': 28262, '##テップ': 28263, '##ブルン': 28264, '##ミカル': 28265, '##ミラー': 28266, '##リカル': 28267, '##iana': 28268, '##ning': 28269, '##oney': 28270, '485': 28271, '610': 28272, 'AIR': 28273, 'FRE': 28274, 'GPL': 28275, 'Key': 28276, 'MBA': 28277, 'SKY': 28278, 'SUN': 28279, 'Som': 28280, 'org': 28281, 'おもり': 28282, 'おろか': 28283, 'さなか': 28284, 'そろっ': 28285, 'エカテ': 28286, 'エレキ': 28287, 'オイラ': 28288, 'クラゲ': 28289, 'ジョチ': 28290, 'マルグ': 28291, '放課後': 28292, '比べれ': 28293, '称える': 28294, '身代金': 28295, '金持ち': 28296, '##ティーボ': 28297, '##ワンダー': 28298, '##ージャン': 28299, '##imate': 28300, '##prise': 28301, '1614': 28302, '1730': 28303, 'Conc': 28304, 'OECD': 28305, 'acid': 28306, 'comm': 28307, 'あっさり': 28308, 'かかわり': 28309, 'けれども': 28310, 'アユタヤ': 28311, 'インカレ': 28312, 'コロンボ': 28313, 'サバンナ': 28314, 'スイート': 28315, 'ブレンド': 28316, 'ボランチ': 28317, 'リムジン': 28318, '取り外し': 28319, '振り分け': 28320, '東シナ海': 28321, '読み書き': 28322, '送り込ま': 28323, '関西大学': 28324, '靖国神社': 28325, '##エンジニア': 28326, '##シュミット': 28327, '##ッテルダム': 28328, 'Abema': 28329, 'group': 28330, 'キネマ旬報': 28331, 'デイビッド': 28332, 'ボンネット': 28333, '##ルーズベルト': 28334, 'オークション': 28335, 'トリニダード': 28336, 'モンテカルロ': 28337, 'ヴィジュアル': 28338, 'British': 28339, 'コーディネーター': 28340, 'oxidoreductase': 28341, '′': 28342, '佛': 28343, '匁': 28344, '怯': 28345, '昂': 28346, '漠': 28347, '紆': 28348, '耀': 28349, '肇': 28350, '臥': 28351, '鯛': 28352, '麒': 28353, '麾': 28354, '##いる': 28355, '##アタ': 28356, '##アダ': 28357, '##クフ': 28358, '##ピラ': 28359, '##去る': 28360, '##奈子': 28361, '##暦寺': 28362, '##洒落': 28363, '##荷物': 28364, '##込も': 28365, '##emb': 28366, 'Da': 28367, 'KA': 28368, 'MH': 28369, 'OC': 28370, 'こむ': 28371, 'のべ': 28372, 'やけ': 28373, 'イシ': 28374, 'イワ': 28375, 'エポ': 28376, 'ジア': 28377, 'ミノ': 28378, '上村': 28379, '上腕': 28380, '不仲': 28381, '両生': 28382, '二条': 28383, '余生': 28384, '作出': 28385, '俊足': 28386, '保線': 28387, '借入': 28388, '兆し': 28389, '兆候': 28390, '光速': 28391, '共犯': 28392, '刑部': 28393, '前駆': 28394, '募ら': 28395, '勧進': 28396, '双極': 28397, '同音': 28398, '名曲': 28399, '商務': 28400, '営団': 28401, '大い': 28402, '大雪': 28403, '官報': 28404, '定価': 28405, '居士': 28406, '平沼': 28407, '店名': 28408, '府警': 28409, '当人': 28410, '折衷': 28411, '拍手': 28412, '支庁': 28413, '敬称': 28414, '断行': 28415, '時報': 28416, '時雨': 28417, '柏木': 28418, '栄一': 28419, '校訂': 28420, '武芸': 28421, '死闘': 28422, '民社': 28423, '油絵': 28424, '洋一': 28425, '淘汰': 28426, '清浄': 28427, '滝沢': 28428, '無縁': 28429, '眺望': 28430, '秘め': 28431, '立役': 28432, '策略': 28433, '簡便': 28434, '紛れ': 28435, '素早': 28436, '肝炎': 28437, '腕前': 28438, '菊川': 28439, '血糖': 28440, '角形': 28441, '試練': 28442, '': 28443, '##の': 28444, '##、': 28445, '##に': 28446, '##た': 28447, '##。': 28448, '##る': 28449, '##は': 28450, '##ー': 28451, '##と': 28452, '##を': 28453, '##し': 28454, '##で': 28455, '##て': 28456, '##い': 28457, '##が': 28458, '##ン': 28459, '##1': 28460, '##れ': 28461, '##な': 28462, '##年': 28463, '##0': 28464, '##2': 28465, '##ス': 28466, '##ル': 28467, '##っ': 28468, '##ら': 28469, '##か': 28470, '##(': 28471, '##・': 28472, '##)': 28473, '##あ': 28474, '##さ': 28475, '##ト': 28476, '##り': 28477, '##イ': 28478, '##リ': 28479, '##も': 28480, '##9': 28481, '##こ': 28482, '##ア': 28483, '##す': 28484, '##ラ': 28485, '##日': 28486, '##ッ': 28487, '##ク': 28488, '##う': 28489, '##3': 28490, '##ま': 28491, '##よ': 28492, '##ド': 28493, '##シ': 28494, '##月': 28495, '##「': 28496, '##」': 28497, '##5': 28498, '##4': 28499, '##大': 28500, '##8': 28501, '##タ': 28502, '##フ': 28503, '##く': 28504, '##ロ': 28505, '##め': 28506, '##レ': 28507, '##6': 28508, '##7': 28509, '##ジ': 28510, '##e': 28511, '##き': 28512, '##カ': 28513, '##人': 28514, '##本': 28515, '##そ': 28516, '##け': 28517, '##国': 28518, '##学': 28519, '##ィ': 28520, '##a': 28521, '##テ': 28522, '##マ': 28523, '##ム': 28524, '##お': 28525, '##プ': 28526, '##中': 28527, '##や': 28528, '##行': 28529, '##グ': 28530, '##バ': 28531, '##つ': 28532, '##一': 28533, '##デ': 28534, '##i': 28535, '##ど': 28536, '##後': 28537, '##o': 28538, '##コ': 28539, '##出': 28540, '##オ': 28541, '##メ': 28542, '##地': 28543, '##わ': 28544, '##時': 28545, '##会': 28546, '##え': 28547, '##r': 28548, '##ウ': 28549, '##n': 28550, '##部': 28551, '##合': 28552, '##ニ': 28553, '##ュ': 28554, '##チ': 28555, '##上': 28556, '##サ': 28557, '##発': 28558, '##作': 28559, '##用': 28560, '##ブ': 28561, '##戦': 28562, '##ャ': 28563, '##ナ': 28564, '##だ': 28565, '##t': 28566, '##エ': 28567, '##『': 28568, '##』': 28569, '##場': 28570, '##代': 28571, '##同': 28572, '##-': 28573, '##的': 28574, '##ん': 28575, '##生': 28576, '##A': 28577, '##ビ': 28578, '##者': 28579, '##キ': 28580, '##名': 28581, '##ズ': 28582, '##S': 28583, '##間': 28584, '##成': 28585, '##ち': 28586, '##事': 28587, '##パ': 28588, '##s': 28589, '##市': 28590, '##定': 28591, '##ェ': 28592, '##分': 28593, '##ダ': 28594, '##l': 28595, '##長': 28596, '##開': 28597, '##C': 28598, '##ミ': 28599, '##m': 28600, '##子': 28601, '##入': 28602, '##高': 28603, '##業': 28604, '##動': 28605, '##自': 28606, '##立': 28607, '##手': 28608, '##社': 28609, '##内': 28610, '##前': 28611, '##現': 28612, '##東': 28613, '##み': 28614, '##第': 28615, '##せ': 28616, '##方': 28617, '##主': 28618, '##\"': 28619, '##ば': 28620, '##下': 28621, '##道': 28622, '##対': 28623, '##以': 28624, '##体': 28625, '##ョ': 28626, '##家': 28627, '##通': 28628, '##当': 28629, '##在': 28630, '##設': 28631, '##所': 28632, '##ベ': 28633, '##セ': 28634, '##じ': 28635, '##軍': 28636, '##世': 28637, '##ハ': 28638, '##機': 28639, '##化': 28640, '##初': 28641, '##T': 28642, '##最': 28643, '##車': 28644, '##I': 28645, '##山': 28646, '##へ': 28647, '##全': 28648, '##モ': 28649, '##新': 28650, '##.': 28651, '##物': 28652, '##目': 28653, '##M': 28654, '##多': 28655, '##関': 28656, '##表': 28657, '##c': 28658, '##ツ': 28659, '##ネ': 28660, '##線': 28661, '##数': 28662, '##u': 28663, '##選': 28664, '##性': 28665, '##E': 28666, '##画': 28667, '##ガ': 28668, '##記': 28669, '##び': 28670, '##法': 28671, '##D': 28672, '##ソ': 28673, '##見': 28674, '##田': 28675, '##県': 28676, '##力': 28677, '##公': 28678, '##ヴ': 28679, '##R': 28680, '##教': 28681, '##P': 28682, '##d': 28683, '##連': 28684, '##小': 28685, '##位': 28686, '##B': 28687, '##ポ': 28688, '##ボ': 28689, '##実': 28690, '##度': 28691, '##期': 28692, '##和': 28693, '##O': 28694, '##h': 28695, '##文': 28696, '##N': 28697, '##川': 28698, '##回': 28699, '##ず': 28700, '##ァ': 28701, '##校': 28702, '##語': 28703, '##明': 28704, '##理': 28705, '##北': 28706, '##式': 28707, '##ピ': 28708, '##政': 28709, '##ノ': 28710, '##海': 28711, '##ワ': 28712, '##平': 28713, '##民': 28714, '##組': 28715, '##使': 28716, '##加': 28717, '##F': 28718, '##ケ': 28719, '##送': 28720, '##島': 28721, '##員': 28722, '##置': 28723, '##勝': 28724, '##受': 28725, '##外': 28726, '##放': 28727, '##品': 28728, '##特': 28729, '##制': 28730, '##務': 28731, '##結': 28732, '##ギ': 28733, '##形': 28734, '##区': 28735, '##元': 28736, '##野': 28737, '##水': 28738, '##点': 28739, '##活': 28740, '##経': 28741, '##能': 28742, '##L': 28743, '##要': 28744, '##女': 28745, '##取': 28746, '##西': 28747, '##,': 28748, '##治': 28749, '##京': 28750, '##持': 28751, '##書': 28752, '##州': 28753, '##ペ': 28754, '##神': 28755, '##町': 28756, '##原': 28757, '##番': 28758, '##三': 28759, '##演': 28760, '##ほ': 28761, '##正': 28762, '##共': 28763, '##げ': 28764, '##言': 28765, '##駅': 28766, '##続': 28767, '##面': 28768, '##南': 28769, '##G': 28770, '##運': 28771, '##王': 28772, '##指': 28773, '##ホ': 28774, '##来': 28775, '##界': 28776, '##議': 28777, '##身': 28778, '##ザ': 28779, '##際': 28780, '##気': 28781, '##g': 28782, '##電': 28783, '##号': 28784, '##ォ': 28785, '##団': 28786, '##都': 28787, '##ゲ': 28788, '##有': 28789, '##金': 28790, '##進': 28791, '##任': 28792, '##得': 28793, '##売': 28794, '##次': 28795, '##ゴ': 28796, '##付': 28797, '##知': 28798, '##近': 28799, '##利': 28800, '##変': 28801, '##約': 28802, '##始': 28803, '##意': 28804, '##H': 28805, '##決': 28806, '##k': 28807, '##空': 28808, '##重': 28809, '##隊': 28810, '##:': 28811, '##向': 28812, '##p': 28813, '##不': 28814, '##権': 28815, '##等': 28816, '##集': 28817, '##二': 28818, '##流': 28819, '##建': 28820, '##産': 28821, '##計': 28822, '##曲': 28823, '##楽': 28824, '##y': 28825, '##造': 28826, '##々': 28827, '##ろ': 28828, '##優': 28829, '##録': 28830, '##参': 28831, '##終': 28832, '##音': 28833, '##映': 28834, '##保': 28835, '##信': 28836, '##基': 28837, '##V': 28838, '##域': 28839, '##移': 28840, '##存': 28841, '##ヤ': 28842, '##心': 28843, '##べ': 28844, '##義': 28845, '##呼': 28846, '##K': 28847, '##製': 28848, '##天': 28849, '##他': 28850, '##路': 28851, '##工': 28852, '##台': 28853, '##交': 28854, '##改': 28855, '##彼': 28856, '##様': 28857, '##ヒ': 28858, '##解': 28859, '##型': 28860, '##院': 28861, '##種': 28862, '##属': 28863, '##称': 28864, '##W': 28865, '##系': 28866, '##U': 28867, '##鉄': 28868, '##口': 28869, '##む': 28870, '##相': 28871, '##村': 28872, '##再': 28873, '##果': 28874, '##広': 28875, '##両': 28876, '##別': 28877, '##役': 28878, '##統': 28879, '##無': 28880, '##賞': 28881, '##直': 28882, '##撃': 28883, '##収': 28884, '##転': 28885, '##可': 28886, '##士': 28887, '##引': 28888, '##支': 28889, '##f': 28890, '##J': 28891, '##少': 28892, '##備': 28893, '##側': 28894, '##古': 28895, '##b': 28896, '##安': 28897, '##科': 28898, '##試': 28899, '##説': 28900, '##登': 28901, '##構': 28902, '##死': 28903, '##強': 28904, '##昭': 28905, '##木': 28906, '##編': 28907, '##報': 28908, '##状': 28909, '##総': 28910, '##命': 28911, '##術': 28912, '##調': 28913, '##配': 28914, '##格': 28915, '##営': 28916, '##常': 28917, '##研': 28918, '##起': 28919, '##ユ': 28920, '##府': 28921, '##石': 28922, '##降': 28923, '##馬': 28924, '##伝': 28925, '##官': 28926, '##題': 28927, '##城': 28928, '##兵': 28929, '##門': 28930, '##領': 28931, '##郡': 28932, '##ぶ': 28933, '##由': 28934, '##局': 28935, '##反': 28936, '##着': 28937, '##装': 28938, '##党': 28939, '##判': 28940, '##球': 28941, '##究': 28942, '##版': 28943, '##退': 28944, '##半': 28945, '##各': 28946, '##先': 28947, '##館': 28948, '##認': 28949, '##技': 28950, '##艦': 28951, '##示': 28952, '##ヨ': 28953, '##万': 28954, '##問': 28955, '##朝': 28956, '##止': 28957, '##男': 28958, '##族': 28959, '##/': 28960, '##考': 28961, '##ヘ': 28962, '##論': 28963, '##住': 28964, '##土': 28965, '##歌': 28966, '##太': 28967, '##話': 28968, '##類': 28969, '##応': 28970, '##屋': 28971, '##打': 28972, '##施': 28973, '##乗': 28974, '##載': 28975, '##史': 28976, '##紀': 28977, '##育': 28978, '##武': 28979, '##料': 28980, '##規': 28981, '##争': 28982, '##挙': 28983, '##陸': 28984, '##v': 28985, '##量': 28986, '##師': 28987, '##光': 28988, '##予': 28989, '##管': 28990, '##限': 28991, '##派': 28992, '##達': 28993, '##異': 28994, '##含': 28995, '##店': 28996, '##字': 28997, '##列': 28998, '##宮': 28999, '##残': 29000, '##離': 29001, '##例': 29002, '##戸': 29003, '##投': 29004, '##継': 29005, '##級': 29006, '##ゼ': 29007, '##条': 29008, '##与': 29009, '##接': 29010, '##件': 29011, '##色': 29012, '##園': 29013, '##独': 29014, '##過': 29015, '##影': 29016, '##観': 29017, '##ょ': 29018, '##率': 29019, '##親': 29020, '##導': 29021, '##攻': 29022, '##器': 29023, '##込': 29024, '##資': 29025, '##美': 29026, '##船': 29027, '##頭': 29028, '##味': 29029, '##更': 29030, '##協': 29031, '##岡': 29032, '##及': 29033, '##井': 29034, '##催': 29035, '##述': 29036, '##査': 29037, '##提': 29038, '##敗': 29039, '##質': 29040, '##周': 29041, '##切': 29042, '##監': 29043, '##確': 29044, '##競': 29045, '##防': 29046, '##米': 29047, '##英': 29048, '##復': 29049, '##容': 29050, '##係': 29051, '##情': 29052, '##速': 29053, '##督': 29054, '##展': 29055, '##害': 29056, '##単': 29057, '##真': 29058, '##衆': 29059, '##態': 29060, '##必': 29061, '##星': 29062, '##松': 29063, '##食': 29064, '##ひ': 29065, '##ご': 29066, '##航': 29067, '##!': 29068, '##橋': 29069, '##歳': 29070, '##落': 29071, '##素': 29072, '##増': 29073, '##父': 29074, '##寺': 29075, '##商': 29076, '##衛': 29077, '##w': 29078, '##完': 29079, '##職': 29080, '##準': 29081, '##郎': 29082, '##氏': 29083, '##福': 29084, '##験': 29085, '##帝': 29086, '##白': 29087, '##江': 29088, '##供': 29089, '##藤': 29090, '##修': 29091, '##葉': 29092, '##走': 29093, '##良': 29094, '##=': 29095, '##勢': 29096, '##般': 29097, '##将': 29098, '##阪': 29099, '##座': 29100, '##旧': 29101, '##愛': 29102, '##急': 29103, '##従': 29104, '##ぐ': 29105, '##皇': 29106, '##思': 29107, '##失': 29108, '##担': 29109, '##去': 29110, '##図': 29111, '##司': 29112, '##護': 29113, '##程': 29114, '##十': 29115, '##専': 29116, '##帰': 29117, '##張': 29118, '##比': 29119, '##価': 29120, '##告': 29121, '##風': 29122, '##%': 29123, '##ね': 29124, '##響': 29125, '##評': 29126, '##港': 29127, '##歴': 29128, '##母': 29129, '##追': 29130, '##ぎ': 29131, '##個': 29132, '##河': 29133, '##委': 29134, '##断': 29135, '##念': 29136, '##末': 29137, '##籍': 29138, '##非': 29139, '##室': 29140, '##X': 29141, '##帯': 29142, '##円': 29143, '##足': 29144, '##済': 29145, '##谷': 29146, '##企': 29147, '##御': 29148, '##洋': 29149, '##首': 29150, '##就': 29151, '##象': 29152, '##破': 29153, '##省': 29154, '##殺': 29155, '##助': 29156, '##仕': 29157, '##感': 29158, '##補': 29159, '##守': 29160, '##創': 29161, '##採': 29162, '##授': 29163, '##客': 29164, '##佐': 29165, '##劇': 29166, '##境': 29167, '##令': 29168, '##視': 29169, '##今': 29170, '##四': 29171, '##低': 29172, '##渡': 29173, '##崎': 29174, '##頃': 29175, '##細': 29176, '##飛': 29177, '##了': 29178, '##ゆ': 29179, '##翌': 29180, '##消': 29181, '##Y': 29182, '##廃': 29183, '##病': 29184, '##積': 29185, '##ヌ': 29186, '##獲': 29187, '##づ': 29188, '##ぞ': 29189, '##想': 29190, '##除': 29191, '##検': 29192, '##千': 29193, '##割': 29194, '##差': 29195, '##ゥ': 29196, '##吉': 29197, '##難': 29198, '##火': 29199, '##求': 29200, '##標': 29201, '##卒': 29202, '##芸': 29203, '##横': 29204, '##医': 29205, '##模': 29206, '##警': 29207, '##築': 29208, '##波': 29209, '##央': 29210, '##像': 29211, '##闘': 29212, '##換': 29213, '##好': 29214, '##源': 29215, '##階': 29216, '##然': 29217, '##宗': 29218, '##夫': 29219, '##推': 29220, '##津': 29221, '##青': 29222, '##段': 29223, '##案': 29224, '##描': 29225, '##織': 29226, '##株': 29227, '##満': 29228, '##博': 29229, '##環': 29230, '##声': 29231, '##働': 29232, '##整': 29233, '##興': 29234, '##察': 29235, '##右': 29236, '##販': 29237, '##負': 29238, '##遺': 29239, '##諸': 29240, '##銀': 29241, '##著': 29242, '##聞': 29243, '##極': 29244, '##ぼ': 29245, '##根': 29246, '##援': 29247, '##左': 29248, '##農': 29249, '##伊': 29250, '##功': 29251, '##花': 29252, '##証': 29253, '##留': 29254, '##辺': 29255, '##久': 29256, '##聖': 29257, '##複': 29258, '##黒': 29259, '##五': 29260, '##策': 29261, '##街': 29262, '##幕': 29263, '##算': 29264, '##囲': 29265, '##輸': 29266, '##材': 29267, '##植': 29268, '##弾': 29269, '##介': 29270, '##効': 29271, '##誌': 29272, '##板': 29273, '##八': 29274, '##圧': 29275, '##減': 29276, '##刊': 29277, '##拠': 29278, '##何': 29279, '##藩': 29280, '##違': 29281, '##舞': 29282, '##射': 29283, '##居': 29284, '##処': 29285, '##赤': 29286, '##毎': 29287, '##清': 29288, '##伴': 29289, '##端': 29290, '##突': 29291, '##薬': 29292, '##越': 29293, '##婚': 29294, '##深': 29295, '##x': 29296, '##悪': 29297, '##群': 29298, '##岸': 29299, '##弟': 29300, '##宇': 29301, '##写': 29302, '##奏': 29303, '##砲': 29304, '##契': 29305, '##略': 29306, '##巻': 29307, '##旅': 29308, '##徴': 29309, '##未': 29310, '##財': 29311, '##裁': 29312, '##徳': 29313, '##席': 29314, '##振': 29315, '##林': 29316, '##富': 29317, '##浜': 29318, '##短': 29319, '##習': 29320, '##尾': 29321, '##注': 29322, '##週': 29323, '##養': 29324, '##照': 29325, '##盟': 29326, '##臣': 29327, '##若': 29328, '##永': 29329, '##蔵': 29330, '##沢': 29331, '##併': 29332, '##ふ': 29333, '##亡': 29334, '##歩': 29335, '##春': 29336, '##返': 29337, '##跡': 29338, '##為': 29339, '##夜': 29340, '##寄': 29341, '##停': 29342, '##甲': 29343, '##盤': 29344, '##望': 29345, '##ゅ': 29346, '##早': 29347, '##測': 29348, '##乱': 29349, '##延': 29350, '##曜': 29351, '##労': 29352, '##故': 29353, '##角': 29354, '##超': 29355, '##森': 29356, '##抗': 29357, '##児': 29358, '##堂': 29359, '##ゃ': 29360, '##識': 29361, '##温': 29362, '##枚': 29363, '##章': 29364, '##〜': 29365, '##湾': 29366, '##給': 29367, '##値': 29368, '##岩': 29369, '##捕': 29370, '##躍': 29371, '##績': 29372, '##因': 29373, '##陽': 29374, '##候': 29375, '##読': 29376, '##承': 29377, '##祭': 29378, '##昇': 29379, '##密': 29380, '##革': 29381, '##z': 29382, '##友': 29383, '##息': 29384, '##秋': 29385, '##豊': 29386, '##志': 29387, '##酸': 29388, '##許': 29389, '##ざ': 29390, '##精': 29391, '##熱': 29392, '##遠': 29393, '##典': 29394, '##被': 29395, '##揮': 29396, '##雑': 29397, '##適': 29398, '##紙': 29399, '##布': 29400, '##療': 29401, '##丸': 29402, '##壊': 29403, '##賀': 29404, '##順': 29405, '##扱': 29406, '##戻': 29407, '##頼': 29408, '##替': 29409, '##至': 29410, '##邦': 29411, '##並': 29412, '##講': 29413, '##便': 29414, '##九': 29415, '##費': 29416, '##搭': 29417, '##待': 29418, '##秀': 29419, '##占': 29420, '##節': 29421, '##ゾ': 29422, '##普': 29423, '##刑': 29424, '##兄': 29425, '##ヶ': 29426, '##拡': 29427, '##~': 29428, '##抜': 29429, '##景': 29430, '##宅': 29431, '##倉': 29432, '##駆': 29433, '##韓': 29434, '##課': 29435, '##途': 29436, '##散': 29437, '##華': 29438, '##爆': 29439, '##幅': 29440, '##項': 29441, '##層': 29442, '##脱': 29443, '##庫': 29444, '##私': 29445, '##丁': 29446, '##盛': 29447, '##障': 29448, '##貨': 29449, '##執': 29450, '##具': 29451, '##激': 29452, '##則': 29453, '##血': 29454, '##漫': 29455, '##宝': 29456, '##雄': 29457, '##掲': 29458, '##詞': 29459, '##絶': 29460, '##妻': 29461, '##敵': 29462, '##庁': 29463, '##絵': 29464, '##夏': 29465, '##休': 29466, '##副': 29467, '##泉': 29468, '##固': 29469, '##練': 29470, '##玉': 29471, '##輪': 29472, '##襲': 29473, '##撮': 29474, '##訪': 29475, '##香': 29476, '##傷': 29477, '##徒': 29478, '##況': 29479, '##宣': 29480, '##姿': 29481, \"##'\": 29482, '##鮮': 29483, '##奈': 29484, '##宿': 29485, '##滅': 29486, '##郷': 29487, '##服': 29488, '##坂': 29489, '##沿': 29490, '##Z': 29491, '##池': 29492, '##罪': 29493, '##之': 29494, '##迎': 29495, '##似': 29496, '##易': 29497, '##印': 29498, '##献': 29499, '##背': 29500, '##覚': 29501, '##操': 29502, '##症': 29503, '##鳥': 29504, '##軽': 29505, '##携': 29506, '##掛': 29507, '##奪': 29508, '##険': 29509, '##&': 29510, '##混': 29511, '##筆': 29512, '##舎': 29513, '##審': 29514, '##百': 29515, '##塁': 29516, '##草': 29517, '##批': 29518, '##閉': 29519, '##兼': 29520, '##逆': 29521, '##訳': 29522, '##災': 29523, '##請': 29524, '##貴': 29525, '##魔': 29526, '##幹': 29527, '##倒': 29528, '##娘': 29529, '##律': 29530, '##巡': 29531, '##仮': 29532, '##禁': 29533, '##祖': 29534, '##締': 29535, '##健': 29536, '##勤': 29537, '##票': 29538, '##羽': 29539, '##額': 29540, '##欧': 29541, '##康': 29542, '##宙': 29543, '##討': 29544, '##樹': 29545, '##六': 29546, '##震': 29547, '##弁': 29548, '##閣': 29549, '##湖': 29550, '##買': 29551, '##忠': 29552, '##敷': 29553, '##遊': 29554, '##探': 29555, '##救': 29556, '##逃': 29557, '##善': 29558, '##仏': 29559, '##沖': 29560, '##脚': 29561, '##老': 29562, '##訴': 29563, '##維': 29564, '##静': 29565, '##憲': 29566, '##浦': 29567, '##範': 29568, '##距': 29569, '##里': 29570, '##_': 29571, '##均': 29572, '##騎': 29573, '##危': 29574, '##札': 29575, '##殿': 29576, '##焼': 29577, '##隣': 29578, '##否': 29579, '##骨': 29580, '##辞': 29581, '##没': 29582, '##銃': 29583, '##較': 29584, '##互': 29585, '##慶': 29586, '##陣': 29587, '##余': 29588, '##鹿': 29589, '##栄': 29590, '##核': 29591, '##談': 29592, '##犯': 29593, '##税': 29594, '##毛': 29595, '##圏': 29596, '##仲': 29597, '##岐': 29598, '##詳': 29599, '##露': 29600, '##枠': 29601, '##油': 29602, '##億': 29603, '##俳': 29604, '##臨': 29605, '##漢': 29606, '##黄': 29607, '##侵': 29608, '##孫': 29609, '##竹': 29610, '##幼': 29611, '##到': 29612, '##胞': 29613, '##魚': 29614, '##片': 29615, '##庭': 29616, '##避': 29617, '##肉': 29618, '##折': 29619, '##依': 29620, '##塚': 29621, '##紹': 29622, '##納': 29623, '##既': 29624, '##欠': 29625, '##詩': 29626, '##聴': 29627, '##”': 29628, '##損': 29629, '##刻': 29630, '##爵': 29631, '##瀬': 29632, '##疑': 29633, '##幸': 29634, '##七': 29635, '##遣': 29636, '##裏': 29637, '##潜': 29638, '##唱': 29639, '##巨': 29640, '##>': 29641, '##染': 29642, '##覧': 29643, '##伯': 29644, '##願': 29645, '##<': 29646, '##房': 29647, '##酒': 29648, '##純': 29649, '##Q': 29650, '##冷': 29651, '##招': 29652, '##免': 29653, '##触': 29654, '##撤': 29655, '##伸': 29656, '##惑': 29657, '##傾': 29658, '##払': 29659, '##押': 29660, '##縮': 29661, '##益': 29662, '##翼': 29663, '##厳': 29664, '##暗': 29665, '##申': 29666, '##還': 29667, '##塩': 29668, '##季': 29669, '##秒': 29670, '##喜': 29671, '##礼': 29672, '##択': 29673, '##縁': 29674, '##熊': 29675, '##+': 29676, '##苦': 29677, '##暴': 29678, '##唯': 29679, '##繰': 29680, '##駐': 29681, '##燃': 29682, '##飾': 29683, '##雷': 29684, '##譲': 29685, '##概': 29686, '##儀': 29687, '##舗': 29688, '##征': 29689, '##融': 29690, '##軌': 29691, '##仙': 29692, '##架': 29693, '##雲': 29694, '##ぜ': 29695, '##券': 29696, '##困': 29697, '##壁': 29698, '##貢': 29699, '##排': 29700, '##却': 29701, '##誕': 29702, '##砂': 29703, '##“': 29704, '##龍': 29705, '##旗': 29706, '##阿': 29707, '##倍': 29708, '##摘': 29709, '##麻': 29710, '##縄': 29711, '##弱': 29712, '##吸': 29713, '##繁': 29714, '##液': 29715, '##遅': 29716, '##牧': 29717, '##包': 29718, '##濃': 29719, '##隠': 29720, '##怪': 29721, '##封': 29722, '##霊': 29723, '##誘': 29724, '##奥': 29725, '##秘': 29726, '##仁': 29727, '##君': 29728, '##我': 29729, '##崩': 29730, '##答': 29731, '##丘': 29732, '##底': 29733, '##→': 29734, '##茶': 29735, '##炭': 29736, '##隆': 29737, '##恐': 29738, '##冬': 29739, '##訓': 29740, '##釈': 29741, '##皮': 29742, '##亜': 29743, '##須': 29744, '##致': 29745, '##荷': 29746, '##稲': 29747, '##恵': 29748, '##恋': 29749, '##絡': 29750, '##患': 29751, '##責': 29752, '##j': 29753, '##妹': 29754, '##挑': 29755, '##厚': 29756, '##冠': 29757, '##顔': 29758, '##弘': 29759, '##筋': 29760, '##誉': 29761, '##軸': 29762, '##針': 29763, '##虫': 29764, '##哲': 29765, '##鉱': 29766, '##沈': 29767, '##童': 29768, '##簡': 29769, '##摩': 29770, '##隻': 29771, '##雪': 29772, '##彦': 29773, '##購': 29774, '##即': 29775, '##暦': 29776, '##墓': 29777, '##双': 29778, '##析': 29779, '##寛': 29780, '##衝': 29781, '##束': 29782, '##床': 29783, '##抑': 29784, '##緑': 29785, '##午': 29786, '##潟': 29787, '##伏': 29788, '##抱': 29789, '##ぬ': 29790, '##竜': 29791, '##齢': 29792, '##雨': 29793, '##鎖': 29794, '##誤': 29795, '##犬': 29796, '##奉': 29797, '##荒': 29798, '##柄': 29799, '##飲': 29800, '##踏': 29801, '##吹': 29802, '##脈': 29803, '##鎮': 29804, '##?': 29805, '##姉': 29806, '##己': 29807, '##貫': 29808, '##埋': 29809, '##署': 29810, '##豪': 29811, '##杉': 29812, '##浅': 29813, '##覇': 29814, '##希': 29815, '##陥': 29816, '##充': 29817, '##募': 29818, '##剤': 29819, '##衣': 29820, '##葬': 29821, '##掘': 29822, '##序': 29823, '##浮': 29824, '##謀': 29825, '##矢': 29826, '##快': 29827, '##刺': 29828, '##渉': 29829, '##逐': 29830, '##迫': 29831, '##菌': 29832, '##郵': 29833, '##鈴': 29834, '##塔': 29835, '##炎': 29836, '##窓': 29837, '##墳': 29838, '##艇': 29839, '##礎': 29840, '##賛': 29841, '##径': 29842, '##綱': 29843, '##縦': 29844, '##剣': 29845, '##沼': 29846, '##婦': 29847, '##夢': 29848, '##削': 29849, '##微': 29850, '##狭': 29851, '##棄': 29852, '##緒': 29853, '##尊': 29854, '##頂': 29855, '##奇': 29856, '##姓': 29857, '##脳': 29858, '##威': 29859, '##笑': 29860, '##索': 29861, '##託': 29862, '##盗': 29863, '##轄': 29864, '##寿': 29865, '##殊': 29866, '##那': 29867, '##歯': 29868, '##網': 29869, '##拒': 29870, '##械': 29871, '##鏡': 29872, '##磁': 29873, '##鶴': 29874, '##暮': 29875, '##雇': 29876, '##堀': 29877, '##桜': 29878, '##裂': 29879, '##埼': 29880, '##敬': 29881, '##稿': 29882, '##慮': 29883, '##李': 29884, '##乳': 29885, '##灯': 29886, '##牛': 29887, '##溶': 29888, '##芝': 29889, '##杯': 29890, '##銅': 29891, '##郊': 29892, '##干': 29893, '##捜': 29894, '##茂': 29895, '##貞': 29896, '##智': 29897, '##姫': 29898, '##漁': 29899, '##廷': 29900, '##幌': 29901, '##氷': 29902, '##柳': 29903, '##診': 29904, '##僚': 29905, '##滞': 29906, '##※': 29907, '##輝': 29908, '##逮': 29909, '##]': 29910, '##[': 29911, '##柔': 29912, '##戒': 29913, '##贈': 29914, '##湯': 29915, '##飯': 29916, '##抵': 29917, '##夕': 29918, '##眼': 29919, '##毒': 29920, '##俗': 29921, '##揚': 29922, '##耐': 29923, '##顧': 29924, '##裕': 29925, '##借': 29926, '##翻': 29927, '##腹': 29928, '##陰': 29929, '##羅': 29930, '##仰': 29931, '##才': 29932, '##殖': 29933, '##隔': 29934, '##遂': 29935, '##腕': 29936, '##鎌': 29937, '##届': 29938, '##×': 29939, '##拝': 29940, '##侯': 29941, '##唐': 29942, '##刀': 29943, '##句': 29944, '##塗': 29945, '##該': 29946, '##禄': 29947, '##勧': 29948, '##拓': 29949, '##岳': 29950, '##謝': 29951, '##滑': 29952, '##亀': 29953, '##弦': 29954, '##尚': 29955, '##晴': 29956, '##顕': 29957, '##勇': 29958, '##渋': 29959, '##貸': 29960, '##彩': 29961, '##償': 29962, '##握': 29963, '##丹': 29964, '##穴': 29965, '##奴': 29966, '##慣': 29967, '##痛': 29968, '##往': 29969, '##括': 29970, '##箱': 29971, '##卵': 29972, '##荘': 29973, '##培': 29974, '##詰': 29975, '##覆': 29976, '##柱': 29977, '##潮': 29978, '##披': 29979, '##俊': 29980, '##蒸': 29981, '##幾': 29982, '##孝': 29983, '##昌': 29984, '##鳴': 29985, '##也': 29986, '##鑑': 29987, '##梅': 29988, '##繋': 29989, '##喫': 29990, '##筒': 29991, '##獣': 29992, '##徐': 29993, '##薄': 29994, '##陵': 29995, '##q': 29996, '##債': 29997, '##枝': 29998, '##洗': 29999, '##硬': 30000, '##怒': 30001, '##駒': 30002, '##旬': 30003, '##嘉': 30004, '##鬼': 30005, '##如': 30006, '##劉': 30007, '##阜': 30008, '##泊': 30009, '##摂': 30010, '##菱': 30011, '##誰': 30012, '##賃': 30013, '##尉': 30014, '##冒': 30015, '##棋': 30016, '##恒': 30017, '##隷': 30018, '##緊': 30019, '##祝': 30020, '##紅': 30021, '##偽': 30022, '##傘': 30023, '##緯': 30024, '##珍': 30025, '##又': 30026, '##促': 30027, '##嫌': 30028, '##玄': 30029, '##鋼': 30030, '##騒': 30031, '##弥': 30032, '##澤': 30033, '##僧': 30034, '##飼': 30035, '##煙': 30036, '##斜': 30037, '##叙': 30038, '##浴': 30039, '##旨': 30040, '##尽': 30041, '##随': 30042, '##狙': 30043, '##塞': 30044, '##箇': 30045, '##輩': 30046, '##附': 30047, '##刷': 30048, '###': 30049, '##○': 30050, '##偵': 30051, '##豆': 30052, '##擁': 30053, '##ぱ': 30054, '##勲': 30055, '##斎': 30056, '##碑': 30057, '##梨': 30058, '##糸': 30059, '##遇': 30060, '##斉': 30061, '##°': 30062, '##看': 30063, '##笠': 30064, '##塾': 30065, '##頻': 30066, '##趣': 30067, '##徹': 30068, '##洞': 30069, '##迷': 30070, '##晩': 30071, '##貿': 30072, '##穂': 30073, '##酵': 30074, '##譜': 30075, '##緩': 30076, '##乾': 30077, '##欲': 30078, '##透': 30079, '##妙': 30080, '##悲': 30081, '##畑': 30082, '##筑': 30083, '##貧': 30084, '##幡': 30085, '##–': 30086, '##梁': 30087, '##冊': 30088, '##邸': 30089, '##寝': 30090, '##踊': 30091, '##巣': 30092, '##獄': 30093, '##旋': 30094, '##罰': 30095, '##垣': 30096, '##峰': 30097, '##添': 30098, '##誠': 30099, '##紋': 30100, '##奨': 30101, '##浪': 30102, '##庄': 30103, '##栽': 30104, '##卿': 30105, '##呉': 30106, '##滝': 30107, '##膜': 30108, '##衰': 30109, '##狩': 30110, '##誇': 30111, '##撲': 30112, '##菊': 30113, '##需': 30114, '##阻': 30115, '##é': 30116, '##彰': 30117, '##晶': 30118, '##雅': 30119, '##糖': 30120, '##曹': 30121, '##紛': 30122, '##粒': 30123, '##挟': 30124, '##呂': 30125, '##〈': 30126, '##紫': 30127, '##麗': 30128, '##函': 30129, '##彫': 30130, '##〉': 30131, '##粉': 30132, '##泰': 30133, '##恩': 30134, '##努': 30135, '##菜': 30136, '##稼': 30137, '##媒': 30138, '##茨': 30139, '##臓': 30140, '##享': 30141, '##捨': 30142, '##控': 30143, '##ぽ': 30144, '##髪': 30145, '##汚': 30146, '##耳': 30147, '##懸': 30148, '##宰': 30149, '##胸': 30150, '##芳': 30151, '##憶': 30152, '##脇': 30153, '##傍': 30154, '##浄': 30155, '##肥': 30156, '##棟': 30157, '##峡': 30158, '##遭': 30159, '##熟': 30160, '##眠': 30161, '##磨': 30162, '##幣': 30163, '##肩': 30164, '##陳': 30165, '##拳': 30166, '##桃': 30167, '##劣': 30168, '##扉': 30169, '##銭': 30170, '##寒': 30171, '##祥': 30172, '##祀': 30173, '##棒': 30174, '##袋': 30175, '##淡': 30176, '##灰': 30177, '##符': 30178, '##銘': 30179, '##薦': 30180, '##召': 30181, '##赴': 30182, '##薩': 30183, '##賢': 30184, '##垂': 30185, '##勃': 30186, '##伐': 30187, '##脂': 30188, '##涯': 30189, '##☆': 30190, '##噴': 30191, '##屈': 30192, '##堅': 30193, '##洲': 30194, '##;': 30195, '##墜': 30196, '##后': 30197, '##軒': 30198, '##帳': 30199, '##悩': 30200, '##疾': 30201, '##遷': 30202, '##湿': 30203, '##栗': 30204, '##励': 30205, '##挿': 30206, '##措': 30207, '##昼': 30208, '##脅': 30209, '##坊': 30210, '##預': 30211, '##崇': 30212, '##侍': 30213, '##剛': 30214, '##峠': 30215, '##妃': 30216, '##蓮': 30217, '##沙': 30218, '##虜': 30219, '##甘': 30220, '##ぷ': 30221, '##偏': 30222, '##狂': 30223, '##葛': 30224, '##虐': 30225, '##虎': 30226, '##曽': 30227, '##逸': 30228, '##浩': 30229, '##敏': 30230, '##訟': 30231, '##亭': 30232, '##偶': 30233, '##掃': 30234, '##幻': 30235, '##貯': 30236, '##皆': 30237, '##吾': 30238, '##―': 30239, '##輔': 30240, '##卓': 30241, '##驚': 30242, '##泳': 30243, '##晋': 30244, '##拘': 30245, '##悟': 30246, '##蘇': 30247, '##浸': 30248, '##珠': 30249, '##抽': 30250, '##孤': 30251, '##栃': 30252, '##旦': 30253, '##祉': 30254, '##尋': 30255, '##啓': 30256, '##忍': 30257, '##軟': 30258, '##稚': 30259, '##准': 30260, '##烈': 30261, '##旭': 30262, '##畿': 30263, '##砦': 30264, '##乃': 30265, '##桁': 30266, '##暖': 30267, '##蓄': 30268, '##魏': 30269, '##洪': 30270, '##桂': 30271, '##掌': 30272, '##宋': 30273, '##謡': 30274, '##朱': 30275, '##匠': 30276, '##暫': 30277, '##陶': 30278, '##勅': 30279, '##朗': 30280, '##猫': 30281, '##賊': 30282, '##酷': 30283, '##祈': 30284, '##堤': 30285, '##瞬': 30286, '##搬': 30287, '##舟': 30288, '##祐': 30289, '##鷹': 30290, '##殻': 30291, '##犠': 30292, '##庶': 30293, '##呈': 30294, '##》': 30295, '##滋': 30296, '##蘭': 30297, '##《': 30298, '##郭': 30299, '##昔': 30300, '##竣': 30301, '##魂': 30302, '##磐': 30303, '##菅': 30304, '##腰': 30305, '##魅': 30306, '##嶋': 30307, '##叔': 30308, '##牽': 30309, '##渓': 30310, '##溝': 30311, '##哨': 30312, '##僕': 30313, '##辛': 30314, '##菓': 30315, '##炉': 30316, '##牡': 30317, '##猛': 30318, '##壇': 30319, '##懐': 30320, '##謎': 30321, '##咲': 30322, '##宏': 30323, '##膨': 30324, '##貝': 30325, '##斐': 30326, '##椎': 30327, '##捉': 30328, '##桑': 30329, '##寧': 30330, '##盾': 30331, '##慎': 30332, '##牲': 30333, '##倫': 30334, '##妨': 30335, '##屯': 30336, '##駿': 30337, '##胴': 30338, '##揃': 30339, '##丈': 30340, '##怖': 30341, '##柏': 30342, '##肺': 30343, '##媛': 30344, '##弓': 30345, '##禅': 30346, '##斬': 30347, '##麦': 30348, '##克': 30349, '##嫡': 30350, '##耕': 30351, '##衡': 30352, '##妖': 30353, '##勉': 30354, '##尼': 30355, '##秩': 30356, '##茎': 30357, '##鼻': 30358, '##乙': 30359, '##腸': 30360, '##猟': 30361, '##枢': 30362, '##秦': 30363, '##鋭': 30364, '##|': 30365, '##辰': 30366, '##虚': 30367, '##寸': 30368, '##腐': 30369, '##唆': 30370, '##戯': 30371, '##鍵': 30372, '##昆': 30373, '##瑞': 30374, '##訂': 30375, '##蒲': 30376, '##柴': 30377, '##履': 30378, '##篇': 30379, '##孔': 30380, '##匹': 30381, '##誓': 30382, '##腫': 30383, '##國': 30384, '##夷': 30385, '##忘': 30386, '##釜': 30387, '##蜂': 30388, '##閲': 30389, '##僅': 30390, '##疫': 30391, '##麓': 30392, '##揺': 30393, '##肢': 30394, '##邪': 30395, '##尻': 30396, '##播': 30397, '##寮': 30398, '##硫': 30399, '##粘': 30400, '##慢': 30401, '##勘': 30402, '##泥': 30403, '##錦': 30404, '##畜': 30405, '##釣': 30406, '##楊': 30407, '##繊': 30408, '##斗': 30409, '##尺': 30410, '##絞': 30411, '##嵐': 30412, '##懲': 30413, '##蓋': 30414, '##扇': 30415, '##尿': 30416, '##桐': 30417, '##盆': 30418, '##循': 30419, '##纂': 30420, '##但': 30421, '##喪': 30422, '##霧': 30423, '##粋': 30424, '##班': 30425, '##籠': 30426, '##舶': 30427, '##剰': 30428, '##肝': 30429, '##妊': 30430, '##凍': 30431, '##慰': 30432, '##琉': 30433, '##兆': 30434, '##應': 30435, '##癌': 30436, '##践': 30437, '##閥': 30438, '##賜': 30439, '##疎': 30440, '##朽': 30441, '##稀': 30442, '##綿': 30443, '##佳': 30444, '##宜': 30445, '##篠': 30446, '##潤': 30447, '##褐': 30448, '##讃': 30449, '##歓': 30450, '##涼': 30451, '##嗣': 30452, '##鼓': 30453, '##羊': 30454, '##焦': 30455, '##嫁': 30456, '##堺': 30457, '##偉': 30458, '##隅': 30459, '##帽': 30460, '##礁': 30461, '##雀': 30462, '##黙': 30463, '##噂': 30464, '##燥': 30465, '##於': 30466, '##瓦': 30467, '##琴': 30468, '##猿': 30469, '##α': 30470, '##洛': 30471, '##亮': 30472, '##乏': 30473, '##磯': 30474, '##叩': 30475, '##趙': 30476, '##剥': 30477, '##巧': 30478, '##翔': 30479, '##糧': 30480, '##芽': 30481, '##鉛': 30482, '##舷': 30483, '##鳳': 30484, '##庵': 30485, '##蛇': 30486, '##慈': 30487, '##慕': 30488, '##零': 30489, '##吐': 30490, '##髄': 30491, '##簿': 30492, '##闇': 30493, '##膝': 30494, '##壌': 30495, '##謙': 30496, '##胡': 30497, '##幽': 30498, '##惨': 30499, '##穏': 30500, '##跳': 30501, '##奮': 30502, '##雌': 30503, '##澄': 30504, '##淳': 30505, '##鋳': 30506, '##厩': 30507, '##淵': 30508, '##敢': 30509, '##漏': 30510, '##諾': 30511, '##賠': 30512, '##是': 30513, '##蹴': 30514, '##宛': 30515, '##苗': 30516, '##碁': 30517, '##遡': 30518, '##遮': 30519, '##累': 30520, '##膚': 30521, '##*': 30522, '##菩': 30523, '##据': 30524, '##醸': 30525, '##俺': 30526, '##拍': 30527, '##擬': 30528, '##廊': 30529, '##甥': 30530, '##粛': 30531, '##牝': 30532, '##汽': 30533, '##蒙': 30534, '##穀': 30535, '##倶': 30536, '##鍋': 30537, '##綴': 30538, '##臭': 30539, '##肖': 30540, '##殆': 30541, '##棚': 30542, '##呪': 30543, '##諏': 30544, '##刈': 30545, '##疲': 30546, '##賭': 30547, '##岬': 30548, '##猪': 30549, '##綾': 30550, '##萩': 30551, '##囚': 30552, '##倣': 30553, '##鐘': 30554, '##嶺': 30555, '##雰': 30556, '##涙': 30557, '##刃': 30558, '##把': 30559, '##漠': 30560, '##貼': 30561, '##ぴ': 30562, '##伎': 30563, '##砕': 30564, '##辻': 30565, '##楼': 30566, '##胆': 30567, '##隙': 30568, '##傑': 30569, '##稽': 30570, '##忌': 30571, '##弧': 30572, '##敦': 30573, '##遼': 30574, '##廠': 30575, '##汎': 30576, '##錯': 30577, '##鶏': 30578, '##泣': 30579, '##輌': 30580, '##矛': 30581, '##篤': 30582, '##斑': 30583, '##勾': 30584, '##鍛': 30585, '##鞍': 30586, '##á': 30587, '##帥': 30588, '##拾': 30589, '##諭': 30590, '##隈': 30591, '##壮': 30592, '##棲': 30593, '##擢': 30594, '##顎': 30595, '##缶': 30596, '##窮': 30597, '##酔': 30598, '##玩': 30599, '##堆': 30600, '##娠': 30601, '##跨': 30602, '##填': 30603, '##墨': 30604, '##烏': 30605, '##胎': 30606, '##曾': 30607, '##湘': 30608, '##凝': 30609, '##吊': 30610, '##坪': 30611, '##悼': 30612, '##槍': 30613, '##廻': 30614, '##鴨': 30615, '##淀': 30616, '##貌': 30617, '##叫': 30618, '##欄': 30619, '##裸': 30620, '##哉': 30621, '##捧': 30622, '##餌': 30623, '##朴': 30624, '##縛': 30625, '##股': 30626, '##崖': 30627, '##汁': 30628, '##潰': 30629, '##駄': 30630, '##骸': 30631, '##ü': 30632, '##鞭': 30633, '##頑': 30634, '##靴': 30635, '##臼': 30636, '##煮': 30637, '##舌': 30638, '##ヵ': 30639, '##嘆': 30640, '##酬': 30641, '##窟': 30642, '##廉': 30643, '##橘': 30644, '##燕': 30645, '##靖': 30646, '##妥': 30647, '##瓶': 30648, '##樽': 30649, '##狼': 30650, '##胃': 30651, '##鷲': 30652, '##曳': 30653, '##塊': 30654, '##胤': 30655, '##β': 30656, '##【': 30657, '##憧': 30658, '##戴': 30659, '##藍': 30660, '##喚': 30661, '##恭': 30662, '##鯨': 30663, '##】': 30664, '##俵': 30665, '##帆': 30666, '##挫': 30667, '##芦': 30668, '##宴': 30669, '##戚': 30670, '##錬': 30671, '##窒': 30672, '##粗': 30673, '##豚': 30674, '##暇': 30675, '##潔': 30676, '##畳': 30677, '##痕': 30678, '##逝': 30679, '##儒': 30680, '##腺': 30681, '##扶': 30682, '##鳩': 30683, '##楕': 30684, '##笹': 30685, '##學': 30686, '##飢': 30687, '##抹': 30688, '##匿': 30689, '##殴': 30690, '##倭': 30691, '##畠': 30692, '##粧': 30693, '##蒋': 30694, '##尖': 30695, '##韻': 30696, '##笛': 30697, '##脊': 30698, '##唄': 30699, '##瘍': 30700, '##辱': 30701, '##袖': 30702, '##頓': 30703, '##凶': 30704, '##婿': 30705, '##湧': 30706, '##甚': 30707, '##遍': 30708, '##椅': 30709, '##昨': 30710, '##樺': 30711, '##揆': 30712, '##楠': 30713, '##彗': 30714, '##槻': 30715, '##赦': 30716, '##圭': 30717, '##綻': 30718, '##肪': 30719, '##吏': 30720, '##藝': 30721, '##ヲ': 30722, '##惜': 30723, '##泌': 30724, '##擦': 30725, '##睦': 30726, '##牙': 30727, '##丞': 30728, '##詣': 30729, '##枯': 30730, '##窪': 30731, '##鄭': 30732, '##詠': 30733, '##薫': 30734, '##凡': 30735, '##挺': 30736, '##曰': 30737, '##睡': 30738, '##姻': 30739, '##湊': 30740, '##癒': 30741, '##聘': 30742, '##邑': 30743, '##晃': 30744, '##а': 30745, '##坑': 30746, '##奔': 30747, '##慌': 30748, '##抄': 30749, '##耗': 30750, '##騰': 30751, '##漂': 30752, '##藻': 30753, '##遥': 30754, '##遽': 30755, '##陀': 30756, '##凱': 30757, '##暁': 30758, '##ā': 30759, '##喧': 30760, '##裔': 30761, '##哀': 30762, '##麺': 30763, '##о': 30764, '##侶': 30765, '##汗': 30766, '##汲': 30767, '##昧': 30768, '##牟': 30769, '##棺': 30770, '##嘱': 30771, '##槽': 30772, '##鰭': 30773, '##耶': 30774, '##嚢': 30775, '##條': 30776, '##袁': 30777, '##鐵': 30778, '##縫': 30779, '##飽': 30780, '##μ': 30781, '##溜': 30782, '##爪': 30783, '##憂': 30784, '##叶': 30785, '##腎': 30786, '##舵': 30787, '##馴': 30788, '##鱗': 30789, '##榴': 30790, '##讐': 30791, '##娯': 30792, '##欺': 30793, '##\\\\': 30794, '##畔': 30795, '##杜': 30796, '##肌': 30797, '##懇': 30798, '##灌': 30799, '##穫': 30800, '##聡': 30801, '##卑': 30802, '##獅': 30803, '##皿': 30804, '##萌': 30805, '##迅': 30806, '##凌': 30807, '##枕': 30808, '##腔': 30809, '##塵': 30810, '##梶': 30811, '##灘': 30812, '##苑': 30813, '##輿': 30814, '##悔': 30815, '##拶': 30816, '##挨': 30817, '##褒': 30818, '##辿': 30819, '##撰': 30820, '##儲': 30821, '##掴': 30822, '##賄': 30823, '##ä': 30824, '##俣': 30825, '##祇': 30826, '##絹': 30827, '##賑': 30828, '##í': 30829, '##沸': 30830, '##蕭': 30831, '##惣': 30832, '##肯': 30833, '##哺': 30834, '##暑': 30835, '##★': 30836, '##霞': 30837, '##叡': 30838, '##廟': 30839, '##恥': 30840, '##歪': 30841, '##漬': 30842, '##拉': 30843, '##莫': 30844, '##伽': 30845, '##蛍': 30846, '##黎': 30847, '##渕': 30848, '##熙': 30849, '##迦': 30850, '##俸': 30851, '##嘘': 30852, '##悠': 30853, '##憎': 30854, '##姦': 30855, '##泡': 30856, '##漆': 30857, '##盲': 30858, '##−': 30859, '##詐': 30860, '##庇': 30861, '##拐': 30862, '##渦': 30863, '##ö': 30864, '##惹': 30865, '##諦': 30866, '##и': 30867, '##峯': 30868, '##栖': 30869, '##蒼': 30870, '##錐': 30871, '##寅': 30872, '##ヂ': 30873, '##卸': 30874, '##毅': 30875, '##租': 30876, '##蝶': 30877, '##鉢': 30878, '##魯': 30879, '##紡': 30880, '##惧': 30881, '##桓': 30882, '##虹': 30883, '##傭': 30884, '##廣': 30885, '##曖': 30886, '##酢': 30887, '##忙': 30888, '##剖': 30889, '##@': 30890, '##嘩': 30891, '##巳': 30892, '##‐': 30893, '##’': 30894, '##愚': 30895, '##牌': 30896, '##茅': 30897, '##ó': 30898, '##窯': 30899, '##箕': 30900, '##隋': 30901, '##ぺ': 30902, '##恨': 30903, '##憩': 30904, '##撫': 30905, '##眺': 30906, '##迂': 30907, '##痺': 30908, '##脆': 30909, '##梱': 30910, '##纏': 30911, '##騨': 30912, '##圓': 30913, '##巴': 30914, '##冥': 30915, '##諮': 30916, '##閑': 30917, '##坦': 30918, '##堰': 30919, '##盧': 30920, '##亘': 30921, '##濁': 30922, '##諱': 30923, '##貰': 30924, '##閏': 30925, '##溢': 30926, '##鴻': 30927, '##埴': 30928, '##癖': 30929, '##{': 30930, '##冶': 30931, '##杵': 30932, '##璧': 30933, '##云': 30934, '##或': 30935, '##隼': 30936, '##其': 30937, '##爾': 30938, '##寵': 30939, '##猶': 30940, '##紳': 30941, '##詔': 30942, '##餅': 30943, '##汰': 30944, '##斯': 30945, '##喉': 30946, '##肘': 30947, '##蝦': 30948, '##н': 30949, '##悦': 30950, '##謳': 30951, '##頁': 30952, '##頸': 30953, '##}': 30954, '##于': 30955, '##壺': 30956, '##蔽': 30957, '##蜜': 30958, '##楚': 30959, '##葺': 30960, '##逢': 30961, '##帖': 30962, '##怠': 30963, '##醐': 30964, '##婆': 30965, '##紐': 30966, '##蛮': 30967, '##醍': 30968, '##樋': 30969, '##伺': 30970, '##憤': 30971, '##琵': 30972, '##硝': 30973, '##琶': 30974, '##瑠': 30975, '##翅': 30976, '##朋': 30977, '##眞': 30978, '##弊': 30979, '##憑': 30980, '##汐': 30981, '##糾': 30982, '##ا': 30983, '##仇': 30984, '##焉': 30985, '##峙': 30986, '##殉': 30987, '##荻': 30988, '##ぃ': 30989, '##綬': 30990, '##喰': 30991, '##濫': 30992, '##р': 30993, '##〔': 30994, '##勒': 30995, '##柿': 30996, '##釧': 30997, '##餓': 30998, '##е': 30999, '##峨': 31000, '##棘': 31001, '##譚': 31002, '##醒': 31003, '##徽': 31004, '##霜': 31005, '##〕': 31006, '##噛': 31007, '##董': 31008, '##唇': 31009, '##稜': 31010, '##牢': 31011, '##〇': 31012, '##叢': 31013, '##杭': 31014, '##翁': 31015, '##萬': 31016, '##仔': 31017, '##凄': 31018, '##柵': 31019, '##舘': 31020, '##晒': 31021, '##濱': 31022, '##壕': 31023, '##捻': 31024, '##葵': 31025, '##嶽': 31026, '##扮': 31027, '##欽': 31028, '##鈍': 31029, '##庸': 31030, '##桶': 31031, '##漸': 31032, '##狗': 31033, '##祷': 31034, '##謁': 31035, '##襄': 31036, '##è': 31037, '##渇': 31038, '##杖': 31039, '##榎': 31040, '##膳': 31041, '##乞': 31042, '##寂': 31043, '##燈': 31044, '##△': 31045, '##串': 31046, '##漑': 31047, '##諜': 31048, '##賦': 31049, '##ぁ': 31050, '##佑': 31051, '##聯': 31052, '##醤': 31053, '##咸': 31054, '##嗜': 31055, '##惟': 31056, '##扁': 31057, '##滴': 31058, '##瞭': 31059, '##粟': 31060, '##嬢': 31061, '##鎧': 31062, '##堪': 31063, '##曇': 31064, '##瞳': 31065, '##蜀': 31066, '##賓': 31067, '##只': 31068, '##宕': 31069, '##蔑': 31070, '##凸': 31071, '##尹': 31072, '##侮': 31073, '##噌': 31074, '##淑': 31075, '##芥': 31076, '##鍾': 31077, '##$': 31078, '##紗': 31079, '##縞': 31080, '##跋': 31081, '##ゞ': 31082, '##姪': 31083, '##崔': 31084, '##杏': 31085, '##筐': 31086, '##糞': 31087, '##梓': 31088, '##煉': 31089, '##矩': 31090, '##禰': 31091, '##麟': 31092, '##絆': 31093, '##鵜': 31094, '##凹': 31095, '##戊': 31096, '##裾': 31097, '##狐': 31098, '##鬱': 31099, '##鵬': 31100, '##〒': 31101, '##擲': 31102, '##炊': 31103, '##遵': 31104, '##梯': 31105, '##瀧': 31106, '##采': 31107, '##拷': 31108, '##鞘': 31109, '##叉': 31110, '##彙': 31111, '##碧': 31112, '##隕': 31113, '##к': 31114, '##玲': 31115, '##罹': 31116, '##錠': 31117, '##奄': 31118, '##慧': 31119, '##罷': 31120, '##輛': 31121, '##陪': 31122, '##—': 31123, '##踪': 31124, '##蹄': 31125, '##團': 31126, '##妄': 31127, '##檀': 31128, '##璃': 31129, '##紺': 31130, '##嵯': 31131, '##冨': 31132, '##溺': 31133, '##吟': 31134, '##娼': 31135, '##巫': 31136, '##珂': 31137, '##繕': 31138, '##鋒': 31139, '##喩': 31140, '##崗': 31141, '##桟': 31142, '##梗': 31143, '##с': 31144, '##礫': 31145, '##罠': 31146, '##壱': 31147, '##襟': 31148, '##ぇ': 31149, '##冗': 31150, '##渠': 31151, '##苻': 31152, '##壬': 31153, '##巌': 31154, '##曝': 31155, '##毀': 31156, '##峻': 31157, '##郁': 31158, '##堕': 31159, '##濠': 31160, '##祠': 31161, '##匂': 31162, '##叛': 31163, '##墾': 31164, '##靭': 31165, '##寡': 31166, '##ī': 31167, '##ヅ': 31168, '##款': 31169, '##諫': 31170, '##窺': 31171, '##斥': 31172, '##妬': 31173, '##搾': 31174, '##煎': 31175, '##●': 31176, '##弔': 31177, '##栓': 31178, '##逓': 31179, '##·': 31180, '##坐': 31181, '##罵': 31182, '##蚕': 31183, '##馮': 31184, '##叱': 31185, '##呑': 31186, '##喝': 31187, '##甫': 31188, '##馳': 31189, '##謹': 31190, '##机': 31191, '##眉': 31192, '##矯': 31193, '##薇': 31194, '##駕': 31195, '##俯': 31196, '##墟': 31197, '##孟': 31198, '##腱': 31199, '##騙': 31200, '##毘': 31201, '##錫': 31202, '##饉': 31203, '##渤': 31204, '##埠': 31205, '##堵': 31206, '##椿': 31207, '##氾': 31208, '##鄧': 31209, '##в': 31210, '##嶼': 31211, '##怨': 31212, '##煽': 31213, '##窃': 31214, '##朔': 31215, '##此': 31216, '##煩': 31217, '##雛': 31218, '##γ': 31219, '##允': 31220, '##站': 31221, '##緻': 31222, '##苫': 31223, '##詮': 31224, '##惚': 31225, '##蔡': 31226, '##醜': 31227, '##屏': 31228, '##瀕': 31229, '##薔': 31230, '##妓': 31231, '##彭': 31232, '##苛': 31233, '##蔓': 31234, '##髭': 31235, '##孵': 31236, '##殷': 31237, '##誅': 31238, '##升': 31239, '##嵩': 31240, '##櫛': 31241, '##濡': 31242, '##鉾': 31243, '##麿': 31244, '##ū': 31245, '##嬉': 31246, '##櫻': 31247, '##胚': 31248, '##荊': 31249, '##釘': 31250, '##л': 31251, '##厨': 31252, '##囃': 31253, '##斧': 31254, '##伍': 31255, '##樫': 31256, '##蕃': 31257, '##薨': 31258, '##雁': 31259, '##拭': 31260, '##揖': 31261, '##楯': 31262, '##濯': 31263, '##腿': 31264, '##蛋': 31265, '##麹': 31266, '##弄': 31267, '##揄': 31268, '##揶': 31269, '##雍': 31270, '##蔭': 31271, '##酪': 31272, '##喋': 31273, '##會': 31274, '##榜': 31275, '##爽': 31276, '##瞑': 31277, '##稔': 31278, '##諡': 31279, '##轟': 31280, '##榊': 31281, '##皐': 31282, '##厄': 31283, '##攘': 31284, '##昂': 31285, '##昏': 31286, '##爬': 31287, '##鹵': 31288, '##Ζ': 31289, '##т': 31290, '##冪': 31291, '##剃': 31292, '##按': 31293, '##斡': 31294, '##瓜': 31295, '##莉': 31296, '##螺': 31297, '##♪': 31298, '##亨': 31299, '##寇': 31300, '##捏': 31301, '##晦': 31302, '##矮': 31303, '##薙': 31304, '##鋸': 31305, '##閃': 31306, '##卯': 31307, '##堡': 31308, '##堯': 31309, '##疆': 31310, '##酋': 31311, '##嫉': 31312, '##檜': 31313, '##噺': 31314, '##某': 31315, '##榛': 31316, '##疹': 31317, '##禍': 31318, '##隘': 31319, '##鼠': 31320, '##撒': 31321, '##櫓': 31322, '##浙': 31323, '##莢': 31324, '##捷': 31325, '##芯': 31326, '##鮎': 31327, '##淮': 31328, '##膠': 31329, '##蟹': 31330, '##衙': 31331, '##魁': 31332, '##ل': 31333, '##丼': 31334, '##侠': 31335, '##槌': 31336, '##邊': 31337, '##兜': 31338, '##匡': 31339, '##寓': 31340, '##蘆': 31341, '##豫': 31342, '##劾': 31343, '##芋': 31344, '##轢': 31345, '##▲': 31346, '##姜': 31347, '##漕': 31348, '##煕': 31349, '##痘': 31350, '##苔': 31351, '##訛': 31352, '##π': 31353, '##吻': 31354, '##彷': 31355, '##這': 31356, '##邱': 31357, '##餐': 31358, '##喬': 31359, '##挽': 31360, '##摺': 31361, '##旺': 31362, '##痴': 31363, '##窩': 31364, '##覗': 31365, '##陛': 31366, '##做': 31367, '##匈': 31368, '##沃': 31369, '##渾': 31370, '##篭': 31371, '##梵': 31372, '##綺': 31373, '##而': 31374, '##陝': 31375, '##φ': 31376, '##弐': 31377, '##丙': 31378, '##殲': 31379, '##狸': 31380, '##虔': 31381, '##頬': 31382, '##鷺': 31383, '##且': 31384, '##宍': 31385, '##疇': 31386, '##禎': 31387, '##竪': 31388, '##痢': 31389, '##拗': 31390, '##葦': 31391, '##蹟': 31392, '##壽': 31393, '##姚': 31394, '##掻': 31395, '##穿': 31396, '##ç': 31397, '##咽': 31398, '##渚': 31399, '##翠': 31400, '##傅': 31401, '##兎': 31402, '##嘲': 31403, '##耆': 31404, '##萼': 31405, '##藪': 31406, '##■': 31407, '##炸': 31408, '##蝋': 31409, '##賈': 31410, '##冑': 31411, '##妾': 31412, '##巾': 31413, '##焚': 31414, '##迭': 31415, '##鍼': 31416, '##韋': 31417, '##±': 31418, '##拿': 31419, '##畝': 31420, '##詫': 31421, '##慨': 31422, '##橙': 31423, '##泄': 31424, '##洩': 31425, '##炒': 31426, '##熾': 31427, '##遙': 31428, '##λ': 31429, '##า': 31430, '##蕉': 31431, '##諧': 31432, '##鰓': 31433, '##ú': 31434, '##嘴': 31435, '##址': 31436, '##暢': 31437, '##渥': 31438, '##盃': 31439, '##肋': 31440, '##艶': 31441, '##薪': 31442, '##﨑': 31443, '##š': 31444, '##梢': 31445, '##爺': 31446, '##縣': 31447, '##范': 31448, '##逗': 31449, '##σ': 31450, '##夭': 31451, '##弼': 31452, '##曼': 31453, '##汝': 31454, '##痩': 31455, '##衷': 31456, '##銚': 31457, '##齋': 31458, '##ε': 31459, '##亥': 31460, '##嘗': 31461, '##弩': 31462, '##曙': 31463, '##灸': 31464, '##艤': 31465, '##ن': 31466, '##塀': 31467, '##靱': 31468, '##à': 31469, '##嚇': 31470, '##掠': 31471, '##揉': 31472, '##贄': 31473, '##傳': 31474, '##冀': 31475, '##厥': 31476, '##疏': 31477, '##繍': 31478, '##荼': 31479, '##و': 31480, '##ぢ': 31481, '##僑': 31482, '##芹': 31483, '##贅': 31484, '##勿': 31485, '##實': 31486, '##聚': 31487, '##膏': 31488, '##鋏': 31489, '##\\u200b': 31490, '##掩': 31491, '##濾': 31492, '##耀': 31493, '##ร': 31494, '##娶': 31495, '##怯': 31496, '##戎': 31497, '##砥': 31498, '##穆': 31499, '##肛': 31500, '##萎': 31501, '##遜': 31502, '##佛': 31503, '##奢': 31504, '##珊': 31505, '##瑚': 31506, '##璽': 31507, '##綜': 31508, '##蔚': 31509, '##躇': 31510, '##躊': 31511, '##č': 31512, '##д': 31513, '##咎': 31514, '##喘': 31515, '##欣': 31516, '##濤': 31517, '##脩': 31518, '##臥': 31519, '##芭': 31520, '##豹': 31521, '##у': 31522, '##∞': 31523, '##柑': 31524, '##葡': 31525, '##藁': 31526, '##ي': 31527, '##塹': 31528, '##宦': 31529, '##汪': 31530, '##淫': 31531, '##竿': 31532, '##鉤': 31533, '##É': 31534, '##ر': 31535, '##′': 31536, '##卜': 31537, '##婁': 31538, '##愁': 31539, '##讒': 31540, '##湛': 31541, '##箸': 31542, '##虞': 31543, '##阮': 31544, '##鼎': 31545, '##偲': 31546, '##呆': 31547, '##彌': 31548, '##漱': 31549, '##珪': 31550, '##粕': 31551, '##舜': 31552, '##謂': 31553, '##遁': 31554, '##閘': 31555, '##閻': 31556, '##鯉': 31557, '##鹸': 31558, '##嗅': 31559, '##愉': 31560, '##洒': 31561, '##畏': 31562, '##荏': 31563, '##槇': 31564, '##箔': 31565, '##繭': 31566, '##厭': 31567, '##拮': 31568, '##瀋': 31569, '##瘤': 31570, '##蕎': 31571, '##蝕': 31572, '##釉': 31573, '##ñ': 31574, '##й': 31575, '##紘': 31576, '##م': 31577, '##ゐ': 31578, '##塑': 31579, '##愕': 31580, '##柚': 31581, '##煌': 31582, '##璋': 31583, '##袴': 31584, '##裴': 31585, '##賂': 31586, '##ο': 31587, '##凪': 31588, '##彿': 31589, '##捗': 31590, '##攣': 31591, '##斤': 31592, '##橿': 31593, '##琢': 31594, '##茹': 31595, '##蒔': 31596, '##蓬': 31597, '##蛛': 31598, '##咬': 31599, '##掟': 31600, '##甕': 31601, '##蜘': 31602, '##訊': 31603, '##軋': 31604, '##酎': 31605, '##錨': 31606, '##嘔': 31607, '##沌': 31608, '##ν': 31609, '##桿': 31610, '##浚': 31611, '##溥': 31612, '##穢': 31613, '##薛': 31614, '##裳': 31615, '##鑽': 31616, '##冤': 31617, '##屑': 31618, '##旛': 31619, '##楔': 31620, '##痙': 31621, '##翰': 31622, '##苞': 31623, '##頚': 31624, '##ß': 31625, '##丕': 31626, '##凰': 31627, '##宵': 31628, '##拙': 31629, '##淘': 31630, '##篆': 31631, '##น': 31632, '##乖': 31633, '##傀': 31634, '##楓': 31635, '##絨': 31636, '##訃': 31637, '##飴': 31638, '##饅': 31639, '##饗': 31640, '##Δ': 31641, '##ρ': 31642, '##儡': 31643, '##牒': 31644, '##祓': 31645, '##穣': 31646, '##筈': 31647, '##肇': 31648, '##錘': 31649, '##鯖': 31650, '##鸞': 31651, '##廓': 31652, '##羌': 31653, '##衍': 31654, '##閔': 31655, '##頒': 31656, '##鮫': 31657, '##鯛': 31658, '##凛': 31659, '##懿': 31660, '##檎': 31661, '##碩': 31662, '##茜': 31663, '##‘': 31664, '##匁': 31665, '##擾': 31666, '##楢': 31667, '##涌': 31668, '##碓': 31669, '##碗': 31670, '##糠': 31671, '##紆': 31672, '##芙': 31673, '##馨': 31674, '##ω': 31675, '##•': 31676, '##嵌': 31677, '##并': 31678, '##彬': 31679, '##憐': 31680, '##犀': 31681, '##糊': 31682, '##羨': 31683, '##膿': 31684, '##莱': 31685, '##麒': 31686, '##麾': 31687, '##庚': 31688, '##臀': 31689, '##萄': 31690, '##諌': 31691, '##錆': 31692, '##г': 31693, '##枡': 31694, '##榮': 31695, '##玖': 31696, '##臆': 31697, '##贋': 31698, '##趾': 31699, '##鄴': 31700, '##Ω': 31701, '##เ': 31702, '##─': 31703, '##傲': 31704, '##兗': 31705, '##卦': 31706, '##爛': 31707, '##秤': 31708, '##萱': 31709, '##迄': 31710, '##酉': 31711, '##靡': 31712, '##δ': 31713, '##唾': 31714, '##圀': 31715, '##甑': 31716, '##簒': 31717, '##荀': 31718, '##裟': 31719, '##逼': 31720, '##邇': 31721, '##鍬': 31722, '##鴎': 31723, '##ō': 31724, '##ा': 31725, '##□': 31726, '##吠': 31727, '##塘': 31728, '##嬰': 31729, '##琳': 31730, '##禽': 31731, '##箏': 31732, '##耽': 31733, '##膵': 31734, '##邵': 31735, '##髙': 31736, '##^': 31737, '##套': 31738, '##廿': 31739, '##戮': 31740, '##掾': 31741, '##漿': 31742, '##砺': 31743, '##緋': 31744, '##閤': 31745, '##顆': 31746, '##θ': 31747, '##м': 31748, '##垢': 31749, '##壷': 31750, '##姑': 31751, '##弛': 31752, '##椒': 31753, '##鉉': 31754, '##鞆': 31755, '##頌': 31756, '##κ': 31757, '##∈': 31758, '##亢': 31759, '##僭': 31760, '##宥': 31761, '##槃': 31762, '##潭': 31763, '##舒': 31764, '##蕩': 31765, '##蹊': 31766, '##姶': 31767, '##屠': 31768, '##瑛': 31769, '##祚': 31770, '##蒐': 31771, '##蚊': 31772, '##蟻': 31773, '##諒': 31774, '##躯': 31775, '##â': 31776, '##ب': 31777, '##惠': 31778, '##游': 31779, '##稙': 31780, '##絢': 31781, '##艘': 31782, '##η': 31783, '##撥': 31784, '##燭': 31785, '##瓊': 31786, '##膣': 31787, '##蛭': 31788, '##ι': 31789, '##佩': 31790, '##毯': 31791, '##涅': 31792, '##綏': 31793, '##袂': 31794, '##貪': 31795, '##驤': 31796, '##嚆': 31797, '##囁': 31798, '##幇': 31799, '##瑜': 31800, '##禹': 31801, '##脛': 31802, '##苅': 31803, '##蕨': 31804, '##辣': 31805, '##邉': 31806, '##韮': 31807, '##鮭': 31808, '##»': 31809, '##倹': 31810, '##哈': 31811, '##屍': 31812, '##捲': 31813, '##疼': 31814, '##筏': 31815, '##蛹': 31816, '##輻': 31817, '##隧': 31818, '##霖': 31819, '##佃': 31820, '##來': 31821, '##咳': 31822, '##捌': 31823, '##漣': 31824, '##睨': 31825, '##穎': 31826, '##聾': 31827, '##腋': 31828, '##蕊': 31829, '##魃': 31830, '##Σ': 31831, '##τ': 31832, '##ゝ': 31833, '##岑': 31834, '##櫃': 31835, '##潘': 31836, '##煤': 31837, '##狛': 31838, '##獨': 31839, '##蓉': 31840, '##蕪': 31841, '##藏': 31842, '##袈': 31843, '##謬': 31844, '##鍮': 31845, '##閩': 31846, '##«': 31847, '##ć': 31848, '##د': 31849, '##ก': 31850, '##刹': 31851, '##抒': 31852, '##旱': 31853, '##猥': 31854, '##畷': 31855, '##賤': 31856, '##я': 31857, '##什': 31858, '##冴': 31859, '##咋': 31860, '##楷': 31861, '##槙': 31862, '##樊': 31863, '##簾': 31864, '##菖': 31865, '##註': 31866, '##餃': 31867, '##餡': 31868, '##ς': 31869, '##埔': 31870, '##憾': 31871, '##檻': 31872, '##猷': 31873, '##磔': 31874, '##箋': 31875, '##茉': 31876, '##蓑': 31877, '##鏃': 31878, '##्': 31879, '##俘': 31880, '##恣': 31881, '##樟': 31882, '##雫': 31883, '##Ö': 31884, '##ч': 31885, '##些': 31886, '##圃': 31887, '##埃': 31888, '##崑': 31889, '##恪': 31890, '##毫': 31891, '##渭': 31892, '##焙': 31893, '##燻': 31894, '##誹': 31895, '##邁': 31896, '##酌': 31897, '##韶': 31898, '##ม': 31899, '##巷': 31900, '##彅': 31901, '##椋': 31902, '##煥': 31903, '##禿': 31904, '##竄': 31905, '##竇': 31906, '##蜷': 31907, '##誼': 31908, '##饒': 31909, '##ô': 31910, '##ø': 31911, '##ı': 31912, '##♥': 31913, '##咄': 31914, '##棍': 31915, '##謗': 31916, '##鰐': 31917, '##п': 31918, '##凧': 31919, '##媚': 31920, '##尤': 31921, '##廬': 31922, '##槿': 31923, '##滸': 31924, '##琥': 31925, '##瓢': 31926, '##疋': 31927, '##與': 31928, '##芒': 31929, '##證': 31930, '##霍': 31931, '##鞄': 31932, '##駁': 31933, '##С': 31934, '##र': 31935, '##圳': 31936, '##墺': 31937, '##戌': 31938, '##柊': 31939, '##胱': 31940, '##膀': 31941, '##菟': 31942, '##裡': 31943, '##ь': 31944, '##厘': 31945, '##吃': 31946, '##朧': 31947, '##氣': 31948, '##煬': 31949, '##當': 31950, '##邯': 31951, '##錮': 31952, '##靺': 31953, '##อ': 31954, '##†': 31955, '##≒': 31956, '##◎': 31957, '##ぅ': 31958, '##兪': 31959, '##姥': 31960, '##悉': 31961, '##祗': 31962, '##祟': 31963, '##羲': 31964, '##薗': 31965, '##輜': 31966, '##鞨': 31967, '##髷': 31968, '##鬘': 31969, '##鵠': 31970, '##Š': 31971, '##ˈ': 31972, '##ヱ': 31973, '##丑': 31974, '##唖': 31975, '##娩': 31976, '##彪': 31977, '##忽': 31978, '##托': 31979, '##桧': 31980, '##楡': 31981, '##珀': 31982, '##祢': 31983, '##稷': 31984, '##竈': 31985, '##粥': 31986, '##臧': 31987, '##蟄': 31988, '##訣': 31989, '##賽': 31990, '##銑': 31991, '##鯱': 31992, '##ē': 31993, '##ł': 31994, '##з': 31995, '##侃': 31996, '##嬪': 31997, '##崋': 31998, '##巽': 31999}\n"
          ]
        }
      ]
    },
    {
      "cell_type": "markdown",
      "source": [
        "\n",
        "\n",
        "---\n",
        "\n",
        "## マスク部分の単語の予測をしてみる"
      ],
      "metadata": {
        "id": "ymRcsDGzhF2D"
      }
    },
    {
      "cell_type": "code",
      "source": [
        "import torch\n",
        "\n",
        "from transformers import AutoModelForMaskedLM\n",
        "model = AutoModelForMaskedLM.from_pretrained('cl-tohoku/bert-base-japanese-whole-word-masking')\n",
        "\n",
        "text = f'自然言語処理を習得するには、まずは{tokenizer_jp.mask_token}から学習することである。'\n",
        "\n",
        "input_ids = tokenizer_jp.encode(text, return_tensors='pt')\n",
        "#print(input_ids)\n",
        "#print(torch.where(input_ids == tokenizer_jp.mask_token_id)[1].tolist())\n",
        "\n",
        "masked_index = torch.where(input_ids == tokenizer_jp.mask_token_id)[1].tolist()[0]\n",
        "\n",
        "result = model(input_ids)\n",
        "pred_ids = result[0][:, masked_index].topk(5).indices.tolist()[0]\n",
        "for pred_id in pred_ids:\n",
        "  output_ids = input_ids.tolist()[0]\n",
        "  output_ids[masked_index] = pred_id\n",
        "  print(tokenizer_jp.decode(output_ids))"
      ],
      "metadata": {
        "colab": {
          "base_uri": "https://localhost:8080/"
        },
        "id": "x0lgzyuyhN25",
        "outputId": "e2a9dcf5-134e-4c31-91e9-d4767cb1f0f7"
      },
      "execution_count": 33,
      "outputs": [
        {
          "output_type": "stream",
          "name": "stderr",
          "text": [
            "Some weights of the model checkpoint at cl-tohoku/bert-base-japanese-whole-word-masking were not used when initializing BertForMaskedLM: ['cls.seq_relationship.weight', 'bert.pooler.dense.bias', 'bert.pooler.dense.weight', 'cls.seq_relationship.bias']\n",
            "- This IS expected if you are initializing BertForMaskedLM from the checkpoint of a model trained on another task or with another architecture (e.g. initializing a BertForSequenceClassification model from a BertForPreTraining model).\n",
            "- This IS NOT expected if you are initializing BertForMaskedLM from the checkpoint of a model that you expect to be exactly identical (initializing a BertForSequenceClassification model from a BertForSequenceClassification model).\n"
          ]
        },
        {
          "output_type": "stream",
          "name": "stdout",
          "text": [
            "[CLS] 自然 言語 処理 を 習得 する に は 、 まずは 基礎 から 学習 する こと で ある 。 [SEP]\n",
            "[CLS] 自然 言語 処理 を 習得 する に は 、 まずは そこ から 学習 する こと で ある 。 [SEP]\n",
            "[CLS] 自然 言語 処理 を 習得 する に は 、 まずは 言語 から 学習 する こと で ある 。 [SEP]\n",
            "[CLS] 自然 言語 処理 を 習得 する に は 、 まずは コンピュータ から 学習 する こと で ある 。 [SEP]\n",
            "[CLS] 自然 言語 処理 を 習得 する に は 、 まずは 最初 から 学習 する こと で ある 。 [SEP]\n"
          ]
        }
      ]
    },
    {
      "cell_type": "code",
      "source": [],
      "metadata": {
        "id": "uW9qtM5Dl_3c"
      },
      "execution_count": null,
      "outputs": []
    }
  ]
}